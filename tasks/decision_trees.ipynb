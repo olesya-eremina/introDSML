{
  "cells": [
    {
      "cell_type": "markdown",
      "metadata": {
        "id": "view-in-github",
        "colab_type": "text"
      },
      "source": [
        "<a href=\"https://colab.research.google.com/github/olesya-eremina/introDSML/blob/main/tasks/decision_trees.ipynb\" target=\"_parent\"><img src=\"https://colab.research.google.com/assets/colab-badge.svg\" alt=\"Open In Colab\"/></a>"
      ]
    },
    {
      "cell_type": "code",
      "execution_count": 302,
      "metadata": {
        "id": "FtWEkQSLJSMj"
      },
      "outputs": [],
      "source": [
        "import pandas as pd\n",
        "import matplotlib.pyplot as plt\n",
        "import seaborn as sns\n",
        "from sklearn import tree"
      ]
    },
    {
      "cell_type": "code",
      "source": [
        "from sklearn.model_selection import cross_val_score"
      ],
      "metadata": {
        "id": "K2B_E1tbvlqv"
      },
      "execution_count": 303,
      "outputs": []
    },
    {
      "cell_type": "code",
      "execution_count": 304,
      "metadata": {
        "id": "F1mpv_PCNR29"
      },
      "outputs": [],
      "source": [
        "from sklearn.tree import plot_tree"
      ]
    },
    {
      "cell_type": "code",
      "source": [
        "from sklearn.metrics import accuracy_score"
      ],
      "metadata": {
        "id": "e72K_Ly94xzE"
      },
      "execution_count": 305,
      "outputs": []
    },
    {
      "cell_type": "code",
      "source": [
        "import numpy as np\n",
        "%matplotlib inline\n",
        "\n",
        "from graphviz  import Source\n",
        "from IPython.display import SVG, display, HTML\n",
        "style = \"<style>svg{width: 50% !important; height: 60% !important;} </style>\""
      ],
      "metadata": {
        "id": "zNCqH1omsP1i"
      },
      "execution_count": 306,
      "outputs": []
    },
    {
      "cell_type": "code",
      "source": [
        "from sklearn.model_selection import GridSearchCV"
      ],
      "metadata": {
        "id": "UR0vI0wQmfD9"
      },
      "execution_count": 307,
      "outputs": []
    },
    {
      "cell_type": "code",
      "source": [
        "from sklearn.metrics import precision_score, recall_score"
      ],
      "metadata": {
        "id": "mdAARJtOpDoL"
      },
      "execution_count": 308,
      "outputs": []
    },
    {
      "cell_type": "markdown",
      "metadata": {
        "id": "1kgKdxhYO1Mq"
      },
      "source": [
        "#2.1"
      ]
    },
    {
      "cell_type": "code",
      "execution_count": null,
      "metadata": {
        "id": "TmryqK8-KF1k"
      },
      "outputs": [],
      "source": [
        "data = pd.DataFrame({'X_1': [1, 1, 1, 0, 0, 0, 0, 1], 'X_2': [0, 0, 0, 1, 0, 0, 0, 1], 'Y': [1, 1, 1, 1, 0, 0, 0, 0]})"
      ]
    },
    {
      "cell_type": "code",
      "execution_count": null,
      "metadata": {
        "colab": {
          "base_uri": "https://localhost:8080/",
          "height": 300
        },
        "id": "OlHm4PNPKRWL",
        "outputId": "f8bacdf5-55bb-4022-dcb3-9f0acb6ae77f"
      },
      "outputs": [
        {
          "output_type": "execute_result",
          "data": {
            "text/plain": [
              "   X_1  X_2  Y\n",
              "0    1    0  1\n",
              "1    1    0  1\n",
              "2    1    0  1\n",
              "3    0    1  1\n",
              "4    0    0  0\n",
              "5    0    0  0\n",
              "6    0    0  0\n",
              "7    1    1  0"
            ],
            "text/html": [
              "\n",
              "  <div id=\"df-6e03f45e-a2ef-4f41-8c18-beb07b8b5551\" class=\"colab-df-container\">\n",
              "    <div>\n",
              "<style scoped>\n",
              "    .dataframe tbody tr th:only-of-type {\n",
              "        vertical-align: middle;\n",
              "    }\n",
              "\n",
              "    .dataframe tbody tr th {\n",
              "        vertical-align: top;\n",
              "    }\n",
              "\n",
              "    .dataframe thead th {\n",
              "        text-align: right;\n",
              "    }\n",
              "</style>\n",
              "<table border=\"1\" class=\"dataframe\">\n",
              "  <thead>\n",
              "    <tr style=\"text-align: right;\">\n",
              "      <th></th>\n",
              "      <th>X_1</th>\n",
              "      <th>X_2</th>\n",
              "      <th>Y</th>\n",
              "    </tr>\n",
              "  </thead>\n",
              "  <tbody>\n",
              "    <tr>\n",
              "      <th>0</th>\n",
              "      <td>1</td>\n",
              "      <td>0</td>\n",
              "      <td>1</td>\n",
              "    </tr>\n",
              "    <tr>\n",
              "      <th>1</th>\n",
              "      <td>1</td>\n",
              "      <td>0</td>\n",
              "      <td>1</td>\n",
              "    </tr>\n",
              "    <tr>\n",
              "      <th>2</th>\n",
              "      <td>1</td>\n",
              "      <td>0</td>\n",
              "      <td>1</td>\n",
              "    </tr>\n",
              "    <tr>\n",
              "      <th>3</th>\n",
              "      <td>0</td>\n",
              "      <td>1</td>\n",
              "      <td>1</td>\n",
              "    </tr>\n",
              "    <tr>\n",
              "      <th>4</th>\n",
              "      <td>0</td>\n",
              "      <td>0</td>\n",
              "      <td>0</td>\n",
              "    </tr>\n",
              "    <tr>\n",
              "      <th>5</th>\n",
              "      <td>0</td>\n",
              "      <td>0</td>\n",
              "      <td>0</td>\n",
              "    </tr>\n",
              "    <tr>\n",
              "      <th>6</th>\n",
              "      <td>0</td>\n",
              "      <td>0</td>\n",
              "      <td>0</td>\n",
              "    </tr>\n",
              "    <tr>\n",
              "      <th>7</th>\n",
              "      <td>1</td>\n",
              "      <td>1</td>\n",
              "      <td>0</td>\n",
              "    </tr>\n",
              "  </tbody>\n",
              "</table>\n",
              "</div>\n",
              "    <div class=\"colab-df-buttons\">\n",
              "\n",
              "  <div class=\"colab-df-container\">\n",
              "    <button class=\"colab-df-convert\" onclick=\"convertToInteractive('df-6e03f45e-a2ef-4f41-8c18-beb07b8b5551')\"\n",
              "            title=\"Convert this dataframe to an interactive table.\"\n",
              "            style=\"display:none;\">\n",
              "\n",
              "  <svg xmlns=\"http://www.w3.org/2000/svg\" height=\"24px\" viewBox=\"0 -960 960 960\">\n",
              "    <path d=\"M120-120v-720h720v720H120Zm60-500h600v-160H180v160Zm220 220h160v-160H400v160Zm0 220h160v-160H400v160ZM180-400h160v-160H180v160Zm440 0h160v-160H620v160ZM180-180h160v-160H180v160Zm440 0h160v-160H620v160Z\"/>\n",
              "  </svg>\n",
              "    </button>\n",
              "\n",
              "  <style>\n",
              "    .colab-df-container {\n",
              "      display:flex;\n",
              "      gap: 12px;\n",
              "    }\n",
              "\n",
              "    .colab-df-convert {\n",
              "      background-color: #E8F0FE;\n",
              "      border: none;\n",
              "      border-radius: 50%;\n",
              "      cursor: pointer;\n",
              "      display: none;\n",
              "      fill: #1967D2;\n",
              "      height: 32px;\n",
              "      padding: 0 0 0 0;\n",
              "      width: 32px;\n",
              "    }\n",
              "\n",
              "    .colab-df-convert:hover {\n",
              "      background-color: #E2EBFA;\n",
              "      box-shadow: 0px 1px 2px rgba(60, 64, 67, 0.3), 0px 1px 3px 1px rgba(60, 64, 67, 0.15);\n",
              "      fill: #174EA6;\n",
              "    }\n",
              "\n",
              "    .colab-df-buttons div {\n",
              "      margin-bottom: 4px;\n",
              "    }\n",
              "\n",
              "    [theme=dark] .colab-df-convert {\n",
              "      background-color: #3B4455;\n",
              "      fill: #D2E3FC;\n",
              "    }\n",
              "\n",
              "    [theme=dark] .colab-df-convert:hover {\n",
              "      background-color: #434B5C;\n",
              "      box-shadow: 0px 1px 3px 1px rgba(0, 0, 0, 0.15);\n",
              "      filter: drop-shadow(0px 1px 2px rgba(0, 0, 0, 0.3));\n",
              "      fill: #FFFFFF;\n",
              "    }\n",
              "  </style>\n",
              "\n",
              "    <script>\n",
              "      const buttonEl =\n",
              "        document.querySelector('#df-6e03f45e-a2ef-4f41-8c18-beb07b8b5551 button.colab-df-convert');\n",
              "      buttonEl.style.display =\n",
              "        google.colab.kernel.accessAllowed ? 'block' : 'none';\n",
              "\n",
              "      async function convertToInteractive(key) {\n",
              "        const element = document.querySelector('#df-6e03f45e-a2ef-4f41-8c18-beb07b8b5551');\n",
              "        const dataTable =\n",
              "          await google.colab.kernel.invokeFunction('convertToInteractive',\n",
              "                                                    [key], {});\n",
              "        if (!dataTable) return;\n",
              "\n",
              "        const docLinkHtml = 'Like what you see? Visit the ' +\n",
              "          '<a target=\"_blank\" href=https://colab.research.google.com/notebooks/data_table.ipynb>data table notebook</a>'\n",
              "          + ' to learn more about interactive tables.';\n",
              "        element.innerHTML = '';\n",
              "        dataTable['output_type'] = 'display_data';\n",
              "        await google.colab.output.renderOutput(dataTable, element);\n",
              "        const docLink = document.createElement('div');\n",
              "        docLink.innerHTML = docLinkHtml;\n",
              "        element.appendChild(docLink);\n",
              "      }\n",
              "    </script>\n",
              "  </div>\n",
              "\n",
              "\n",
              "<div id=\"df-76cae06b-24fd-46b8-8eab-8904d1b6ca9e\">\n",
              "  <button class=\"colab-df-quickchart\" onclick=\"quickchart('df-76cae06b-24fd-46b8-8eab-8904d1b6ca9e')\"\n",
              "            title=\"Suggest charts\"\n",
              "            style=\"display:none;\">\n",
              "\n",
              "<svg xmlns=\"http://www.w3.org/2000/svg\" height=\"24px\"viewBox=\"0 0 24 24\"\n",
              "     width=\"24px\">\n",
              "    <g>\n",
              "        <path d=\"M19 3H5c-1.1 0-2 .9-2 2v14c0 1.1.9 2 2 2h14c1.1 0 2-.9 2-2V5c0-1.1-.9-2-2-2zM9 17H7v-7h2v7zm4 0h-2V7h2v10zm4 0h-2v-4h2v4z\"/>\n",
              "    </g>\n",
              "</svg>\n",
              "  </button>\n",
              "\n",
              "<style>\n",
              "  .colab-df-quickchart {\n",
              "      --bg-color: #E8F0FE;\n",
              "      --fill-color: #1967D2;\n",
              "      --hover-bg-color: #E2EBFA;\n",
              "      --hover-fill-color: #174EA6;\n",
              "      --disabled-fill-color: #AAA;\n",
              "      --disabled-bg-color: #DDD;\n",
              "  }\n",
              "\n",
              "  [theme=dark] .colab-df-quickchart {\n",
              "      --bg-color: #3B4455;\n",
              "      --fill-color: #D2E3FC;\n",
              "      --hover-bg-color: #434B5C;\n",
              "      --hover-fill-color: #FFFFFF;\n",
              "      --disabled-bg-color: #3B4455;\n",
              "      --disabled-fill-color: #666;\n",
              "  }\n",
              "\n",
              "  .colab-df-quickchart {\n",
              "    background-color: var(--bg-color);\n",
              "    border: none;\n",
              "    border-radius: 50%;\n",
              "    cursor: pointer;\n",
              "    display: none;\n",
              "    fill: var(--fill-color);\n",
              "    height: 32px;\n",
              "    padding: 0;\n",
              "    width: 32px;\n",
              "  }\n",
              "\n",
              "  .colab-df-quickchart:hover {\n",
              "    background-color: var(--hover-bg-color);\n",
              "    box-shadow: 0 1px 2px rgba(60, 64, 67, 0.3), 0 1px 3px 1px rgba(60, 64, 67, 0.15);\n",
              "    fill: var(--button-hover-fill-color);\n",
              "  }\n",
              "\n",
              "  .colab-df-quickchart-complete:disabled,\n",
              "  .colab-df-quickchart-complete:disabled:hover {\n",
              "    background-color: var(--disabled-bg-color);\n",
              "    fill: var(--disabled-fill-color);\n",
              "    box-shadow: none;\n",
              "  }\n",
              "\n",
              "  .colab-df-spinner {\n",
              "    border: 2px solid var(--fill-color);\n",
              "    border-color: transparent;\n",
              "    border-bottom-color: var(--fill-color);\n",
              "    animation:\n",
              "      spin 1s steps(1) infinite;\n",
              "  }\n",
              "\n",
              "  @keyframes spin {\n",
              "    0% {\n",
              "      border-color: transparent;\n",
              "      border-bottom-color: var(--fill-color);\n",
              "      border-left-color: var(--fill-color);\n",
              "    }\n",
              "    20% {\n",
              "      border-color: transparent;\n",
              "      border-left-color: var(--fill-color);\n",
              "      border-top-color: var(--fill-color);\n",
              "    }\n",
              "    30% {\n",
              "      border-color: transparent;\n",
              "      border-left-color: var(--fill-color);\n",
              "      border-top-color: var(--fill-color);\n",
              "      border-right-color: var(--fill-color);\n",
              "    }\n",
              "    40% {\n",
              "      border-color: transparent;\n",
              "      border-right-color: var(--fill-color);\n",
              "      border-top-color: var(--fill-color);\n",
              "    }\n",
              "    60% {\n",
              "      border-color: transparent;\n",
              "      border-right-color: var(--fill-color);\n",
              "    }\n",
              "    80% {\n",
              "      border-color: transparent;\n",
              "      border-right-color: var(--fill-color);\n",
              "      border-bottom-color: var(--fill-color);\n",
              "    }\n",
              "    90% {\n",
              "      border-color: transparent;\n",
              "      border-bottom-color: var(--fill-color);\n",
              "    }\n",
              "  }\n",
              "</style>\n",
              "\n",
              "  <script>\n",
              "    async function quickchart(key) {\n",
              "      const quickchartButtonEl =\n",
              "        document.querySelector('#' + key + ' button');\n",
              "      quickchartButtonEl.disabled = true;  // To prevent multiple clicks.\n",
              "      quickchartButtonEl.classList.add('colab-df-spinner');\n",
              "      try {\n",
              "        const charts = await google.colab.kernel.invokeFunction(\n",
              "            'suggestCharts', [key], {});\n",
              "      } catch (error) {\n",
              "        console.error('Error during call to suggestCharts:', error);\n",
              "      }\n",
              "      quickchartButtonEl.classList.remove('colab-df-spinner');\n",
              "      quickchartButtonEl.classList.add('colab-df-quickchart-complete');\n",
              "    }\n",
              "    (() => {\n",
              "      let quickchartButtonEl =\n",
              "        document.querySelector('#df-76cae06b-24fd-46b8-8eab-8904d1b6ca9e button');\n",
              "      quickchartButtonEl.style.display =\n",
              "        google.colab.kernel.accessAllowed ? 'block' : 'none';\n",
              "    })();\n",
              "  </script>\n",
              "</div>\n",
              "    </div>\n",
              "  </div>\n"
            ],
            "application/vnd.google.colaboratory.intrinsic+json": {
              "type": "dataframe",
              "variable_name": "data",
              "summary": "{\n  \"name\": \"data\",\n  \"rows\": 8,\n  \"fields\": [\n    {\n      \"column\": \"X_1\",\n      \"properties\": {\n        \"dtype\": \"number\",\n        \"std\": 0,\n        \"min\": 0,\n        \"max\": 1,\n        \"num_unique_values\": 2,\n        \"samples\": [\n          0,\n          1\n        ],\n        \"semantic_type\": \"\",\n        \"description\": \"\"\n      }\n    },\n    {\n      \"column\": \"X_2\",\n      \"properties\": {\n        \"dtype\": \"number\",\n        \"std\": 0,\n        \"min\": 0,\n        \"max\": 1,\n        \"num_unique_values\": 2,\n        \"samples\": [\n          1,\n          0\n        ],\n        \"semantic_type\": \"\",\n        \"description\": \"\"\n      }\n    },\n    {\n      \"column\": \"Y\",\n      \"properties\": {\n        \"dtype\": \"number\",\n        \"std\": 0,\n        \"min\": 0,\n        \"max\": 1,\n        \"num_unique_values\": 2,\n        \"samples\": [\n          0,\n          1\n        ],\n        \"semantic_type\": \"\",\n        \"description\": \"\"\n      }\n    }\n  ]\n}"
            }
          },
          "metadata": {},
          "execution_count": 8
        }
      ],
      "source": [
        "data"
      ]
    },
    {
      "cell_type": "code",
      "execution_count": null,
      "metadata": {
        "id": "atcstEgTKScp"
      },
      "outputs": [],
      "source": [
        "clf = tree.DecisionTreeClassifier(criterion='entropy')"
      ]
    },
    {
      "cell_type": "code",
      "execution_count": null,
      "metadata": {
        "id": "iRjn02JwKhV7"
      },
      "outputs": [],
      "source": [
        "x = data[['X_1', 'X_2']]\n",
        "y = data.Y"
      ]
    },
    {
      "cell_type": "code",
      "execution_count": null,
      "metadata": {
        "colab": {
          "base_uri": "https://localhost:8080/",
          "height": 74
        },
        "id": "t8uw8dxjKlob",
        "outputId": "f4cc2e38-a6e8-4dd0-d7f8-e722e14d79a9"
      },
      "outputs": [
        {
          "output_type": "execute_result",
          "data": {
            "text/plain": [
              "DecisionTreeClassifier(criterion='entropy')"
            ],
            "text/html": [
              "<style>#sk-container-id-1 {color: black;}#sk-container-id-1 pre{padding: 0;}#sk-container-id-1 div.sk-toggleable {background-color: white;}#sk-container-id-1 label.sk-toggleable__label {cursor: pointer;display: block;width: 100%;margin-bottom: 0;padding: 0.3em;box-sizing: border-box;text-align: center;}#sk-container-id-1 label.sk-toggleable__label-arrow:before {content: \"▸\";float: left;margin-right: 0.25em;color: #696969;}#sk-container-id-1 label.sk-toggleable__label-arrow:hover:before {color: black;}#sk-container-id-1 div.sk-estimator:hover label.sk-toggleable__label-arrow:before {color: black;}#sk-container-id-1 div.sk-toggleable__content {max-height: 0;max-width: 0;overflow: hidden;text-align: left;background-color: #f0f8ff;}#sk-container-id-1 div.sk-toggleable__content pre {margin: 0.2em;color: black;border-radius: 0.25em;background-color: #f0f8ff;}#sk-container-id-1 input.sk-toggleable__control:checked~div.sk-toggleable__content {max-height: 200px;max-width: 100%;overflow: auto;}#sk-container-id-1 input.sk-toggleable__control:checked~label.sk-toggleable__label-arrow:before {content: \"▾\";}#sk-container-id-1 div.sk-estimator input.sk-toggleable__control:checked~label.sk-toggleable__label {background-color: #d4ebff;}#sk-container-id-1 div.sk-label input.sk-toggleable__control:checked~label.sk-toggleable__label {background-color: #d4ebff;}#sk-container-id-1 input.sk-hidden--visually {border: 0;clip: rect(1px 1px 1px 1px);clip: rect(1px, 1px, 1px, 1px);height: 1px;margin: -1px;overflow: hidden;padding: 0;position: absolute;width: 1px;}#sk-container-id-1 div.sk-estimator {font-family: monospace;background-color: #f0f8ff;border: 1px dotted black;border-radius: 0.25em;box-sizing: border-box;margin-bottom: 0.5em;}#sk-container-id-1 div.sk-estimator:hover {background-color: #d4ebff;}#sk-container-id-1 div.sk-parallel-item::after {content: \"\";width: 100%;border-bottom: 1px solid gray;flex-grow: 1;}#sk-container-id-1 div.sk-label:hover label.sk-toggleable__label {background-color: #d4ebff;}#sk-container-id-1 div.sk-serial::before {content: \"\";position: absolute;border-left: 1px solid gray;box-sizing: border-box;top: 0;bottom: 0;left: 50%;z-index: 0;}#sk-container-id-1 div.sk-serial {display: flex;flex-direction: column;align-items: center;background-color: white;padding-right: 0.2em;padding-left: 0.2em;position: relative;}#sk-container-id-1 div.sk-item {position: relative;z-index: 1;}#sk-container-id-1 div.sk-parallel {display: flex;align-items: stretch;justify-content: center;background-color: white;position: relative;}#sk-container-id-1 div.sk-item::before, #sk-container-id-1 div.sk-parallel-item::before {content: \"\";position: absolute;border-left: 1px solid gray;box-sizing: border-box;top: 0;bottom: 0;left: 50%;z-index: -1;}#sk-container-id-1 div.sk-parallel-item {display: flex;flex-direction: column;z-index: 1;position: relative;background-color: white;}#sk-container-id-1 div.sk-parallel-item:first-child::after {align-self: flex-end;width: 50%;}#sk-container-id-1 div.sk-parallel-item:last-child::after {align-self: flex-start;width: 50%;}#sk-container-id-1 div.sk-parallel-item:only-child::after {width: 0;}#sk-container-id-1 div.sk-dashed-wrapped {border: 1px dashed gray;margin: 0 0.4em 0.5em 0.4em;box-sizing: border-box;padding-bottom: 0.4em;background-color: white;}#sk-container-id-1 div.sk-label label {font-family: monospace;font-weight: bold;display: inline-block;line-height: 1.2em;}#sk-container-id-1 div.sk-label-container {text-align: center;}#sk-container-id-1 div.sk-container {/* jupyter's `normalize.less` sets `[hidden] { display: none; }` but bootstrap.min.css set `[hidden] { display: none !important; }` so we also need the `!important` here to be able to override the default hidden behavior on the sphinx rendered scikit-learn.org. See: https://github.com/scikit-learn/scikit-learn/issues/21755 */display: inline-block !important;position: relative;}#sk-container-id-1 div.sk-text-repr-fallback {display: none;}</style><div id=\"sk-container-id-1\" class=\"sk-top-container\"><div class=\"sk-text-repr-fallback\"><pre>DecisionTreeClassifier(criterion=&#x27;entropy&#x27;)</pre><b>In a Jupyter environment, please rerun this cell to show the HTML representation or trust the notebook. <br />On GitHub, the HTML representation is unable to render, please try loading this page with nbviewer.org.</b></div><div class=\"sk-container\" hidden><div class=\"sk-item\"><div class=\"sk-estimator sk-toggleable\"><input class=\"sk-toggleable__control sk-hidden--visually\" id=\"sk-estimator-id-1\" type=\"checkbox\" checked><label for=\"sk-estimator-id-1\" class=\"sk-toggleable__label sk-toggleable__label-arrow\">DecisionTreeClassifier</label><div class=\"sk-toggleable__content\"><pre>DecisionTreeClassifier(criterion=&#x27;entropy&#x27;)</pre></div></div></div></div></div>"
            ]
          },
          "metadata": {},
          "execution_count": 11
        }
      ],
      "source": [
        "clf.fit(x, y)"
      ]
    },
    {
      "cell_type": "code",
      "execution_count": null,
      "metadata": {
        "colab": {
          "base_uri": "https://localhost:8080/",
          "height": 406
        },
        "id": "NJQjBh4GMIUQ",
        "outputId": "061550da-03ce-413e-cbff-97a567717738"
      },
      "outputs": [
        {
          "output_type": "display_data",
          "data": {
            "text/plain": [
              "<Figure size 640x480 with 1 Axes>"
            ],
            "image/png": "[encoded data removed]"
          },
          "metadata": {}
        }
      ],
      "source": [
        "plot_tree(clf,filled=True);"
      ]
    },
    {
      "cell_type": "markdown",
      "metadata": {
        "id": "2e1BSkqxZTjv"
      },
      "source": [
        "#2.2"
      ]
    },
    {
      "cell_type": "code",
      "execution_count": null,
      "metadata": {
        "id": "Q1zyfchkNVf1"
      },
      "outputs": [],
      "source": [
        "data2 = pd.read_csv(\"https://stepik.org/media/attachments/course/4852/cats.csv\")"
      ]
    },
    {
      "cell_type": "code",
      "execution_count": null,
      "metadata": {
        "colab": {
          "base_uri": "https://localhost:8080/",
          "height": 363
        },
        "id": "PkWin9FUZcI3",
        "outputId": "7d86a66d-c298-4062-c1e2-af5dfc85dc17"
      },
      "outputs": [
        {
          "output_type": "execute_result",
          "data": {
            "text/plain": [
              "   Unnamed: 0  Шерстист  Гавкает  Лазает по деревьям      Вид\n",
              "0           0         1        1                   0  собачка\n",
              "1           1         1        1                   0  собачка\n",
              "2           2         1        1                   0  собачка\n",
              "3           3         1        1                   0  собачка\n",
              "4           4         1        0                   1    котик\n",
              "5           5         1        0                   1    котик\n",
              "6           6         1        0                   1    котик\n",
              "7           7         1        0                   1    котик\n",
              "8           8         1        1                   1    котик\n",
              "9           9         0        0                   1    котик"
            ],
            "text/html": [
              "\n",
              "  <div id=\"df-4d99e985-2a00-4864-abba-6380b72025ca\" class=\"colab-df-container\">\n",
              "    <div>\n",
              "<style scoped>\n",
              "    .dataframe tbody tr th:only-of-type {\n",
              "        vertical-align: middle;\n",
              "    }\n",
              "\n",
              "    .dataframe tbody tr th {\n",
              "        vertical-align: top;\n",
              "    }\n",
              "\n",
              "    .dataframe thead th {\n",
              "        text-align: right;\n",
              "    }\n",
              "</style>\n",
              "<table border=\"1\" class=\"dataframe\">\n",
              "  <thead>\n",
              "    <tr style=\"text-align: right;\">\n",
              "      <th></th>\n",
              "      <th>Unnamed: 0</th>\n",
              "      <th>Шерстист</th>\n",
              "      <th>Гавкает</th>\n",
              "      <th>Лазает по деревьям</th>\n",
              "      <th>Вид</th>\n",
              "    </tr>\n",
              "  </thead>\n",
              "  <tbody>\n",
              "    <tr>\n",
              "      <th>0</th>\n",
              "      <td>0</td>\n",
              "      <td>1</td>\n",
              "      <td>1</td>\n",
              "      <td>0</td>\n",
              "      <td>собачка</td>\n",
              "    </tr>\n",
              "    <tr>\n",
              "      <th>1</th>\n",
              "      <td>1</td>\n",
              "      <td>1</td>\n",
              "      <td>1</td>\n",
              "      <td>0</td>\n",
              "      <td>собачка</td>\n",
              "    </tr>\n",
              "    <tr>\n",
              "      <th>2</th>\n",
              "      <td>2</td>\n",
              "      <td>1</td>\n",
              "      <td>1</td>\n",
              "      <td>0</td>\n",
              "      <td>собачка</td>\n",
              "    </tr>\n",
              "    <tr>\n",
              "      <th>3</th>\n",
              "      <td>3</td>\n",
              "      <td>1</td>\n",
              "      <td>1</td>\n",
              "      <td>0</td>\n",
              "      <td>собачка</td>\n",
              "    </tr>\n",
              "    <tr>\n",
              "      <th>4</th>\n",
              "      <td>4</td>\n",
              "      <td>1</td>\n",
              "      <td>0</td>\n",
              "      <td>1</td>\n",
              "      <td>котик</td>\n",
              "    </tr>\n",
              "    <tr>\n",
              "      <th>5</th>\n",
              "      <td>5</td>\n",
              "      <td>1</td>\n",
              "      <td>0</td>\n",
              "      <td>1</td>\n",
              "      <td>котик</td>\n",
              "    </tr>\n",
              "    <tr>\n",
              "      <th>6</th>\n",
              "      <td>6</td>\n",
              "      <td>1</td>\n",
              "      <td>0</td>\n",
              "      <td>1</td>\n",
              "      <td>котик</td>\n",
              "    </tr>\n",
              "    <tr>\n",
              "      <th>7</th>\n",
              "      <td>7</td>\n",
              "      <td>1</td>\n",
              "      <td>0</td>\n",
              "      <td>1</td>\n",
              "      <td>котик</td>\n",
              "    </tr>\n",
              "    <tr>\n",
              "      <th>8</th>\n",
              "      <td>8</td>\n",
              "      <td>1</td>\n",
              "      <td>1</td>\n",
              "      <td>1</td>\n",
              "      <td>котик</td>\n",
              "    </tr>\n",
              "    <tr>\n",
              "      <th>9</th>\n",
              "      <td>9</td>\n",
              "      <td>0</td>\n",
              "      <td>0</td>\n",
              "      <td>1</td>\n",
              "      <td>котик</td>\n",
              "    </tr>\n",
              "  </tbody>\n",
              "</table>\n",
              "</div>\n",
              "    <div class=\"colab-df-buttons\">\n",
              "\n",
              "  <div class=\"colab-df-container\">\n",
              "    <button class=\"colab-df-convert\" onclick=\"convertToInteractive('df-4d99e985-2a00-4864-abba-6380b72025ca')\"\n",
              "            title=\"Convert this dataframe to an interactive table.\"\n",
              "            style=\"display:none;\">\n",
              "\n",
              "  <svg xmlns=\"http://www.w3.org/2000/svg\" height=\"24px\" viewBox=\"0 -960 960 960\">\n",
              "    <path d=\"M120-120v-720h720v720H120Zm60-500h600v-160H180v160Zm220 220h160v-160H400v160Zm0 220h160v-160H400v160ZM180-400h160v-160H180v160Zm440 0h160v-160H620v160ZM180-180h160v-160H180v160Zm440 0h160v-160H620v160Z\"/>\n",
              "  </svg>\n",
              "    </button>\n",
              "\n",
              "  <style>\n",
              "    .colab-df-container {\n",
              "      display:flex;\n",
              "      gap: 12px;\n",
              "    }\n",
              "\n",
              "    .colab-df-convert {\n",
              "      background-color: #E8F0FE;\n",
              "      border: none;\n",
              "      border-radius: 50%;\n",
              "      cursor: pointer;\n",
              "      display: none;\n",
              "      fill: #1967D2;\n",
              "      height: 32px;\n",
              "      padding: 0 0 0 0;\n",
              "      width: 32px;\n",
              "    }\n",
              "\n",
              "    .colab-df-convert:hover {\n",
              "      background-color: #E2EBFA;\n",
              "      box-shadow: 0px 1px 2px rgba(60, 64, 67, 0.3), 0px 1px 3px 1px rgba(60, 64, 67, 0.15);\n",
              "      fill: #174EA6;\n",
              "    }\n",
              "\n",
              "    .colab-df-buttons div {\n",
              "      margin-bottom: 4px;\n",
              "    }\n",
              "\n",
              "    [theme=dark] .colab-df-convert {\n",
              "      background-color: #3B4455;\n",
              "      fill: #D2E3FC;\n",
              "    }\n",
              "\n",
              "    [theme=dark] .colab-df-convert:hover {\n",
              "      background-color: #434B5C;\n",
              "      box-shadow: 0px 1px 3px 1px rgba(0, 0, 0, 0.15);\n",
              "      filter: drop-shadow(0px 1px 2px rgba(0, 0, 0, 0.3));\n",
              "      fill: #FFFFFF;\n",
              "    }\n",
              "  </style>\n",
              "\n",
              "    <script>\n",
              "      const buttonEl =\n",
              "        document.querySelector('#df-4d99e985-2a00-4864-abba-6380b72025ca button.colab-df-convert');\n",
              "      buttonEl.style.display =\n",
              "        google.colab.kernel.accessAllowed ? 'block' : 'none';\n",
              "\n",
              "      async function convertToInteractive(key) {\n",
              "        const element = document.querySelector('#df-4d99e985-2a00-4864-abba-6380b72025ca');\n",
              "        const dataTable =\n",
              "          await google.colab.kernel.invokeFunction('convertToInteractive',\n",
              "                                                    [key], {});\n",
              "        if (!dataTable) return;\n",
              "\n",
              "        const docLinkHtml = 'Like what you see? Visit the ' +\n",
              "          '<a target=\"_blank\" href=https://colab.research.google.com/notebooks/data_table.ipynb>data table notebook</a>'\n",
              "          + ' to learn more about interactive tables.';\n",
              "        element.innerHTML = '';\n",
              "        dataTable['output_type'] = 'display_data';\n",
              "        await google.colab.output.renderOutput(dataTable, element);\n",
              "        const docLink = document.createElement('div');\n",
              "        docLink.innerHTML = docLinkHtml;\n",
              "        element.appendChild(docLink);\n",
              "      }\n",
              "    </script>\n",
              "  </div>\n",
              "\n",
              "\n",
              "<div id=\"df-13cba606-986e-472a-af72-38cc70742634\">\n",
              "  <button class=\"colab-df-quickchart\" onclick=\"quickchart('df-13cba606-986e-472a-af72-38cc70742634')\"\n",
              "            title=\"Suggest charts\"\n",
              "            style=\"display:none;\">\n",
              "\n",
              "<svg xmlns=\"http://www.w3.org/2000/svg\" height=\"24px\"viewBox=\"0 0 24 24\"\n",
              "     width=\"24px\">\n",
              "    <g>\n",
              "        <path d=\"M19 3H5c-1.1 0-2 .9-2 2v14c0 1.1.9 2 2 2h14c1.1 0 2-.9 2-2V5c0-1.1-.9-2-2-2zM9 17H7v-7h2v7zm4 0h-2V7h2v10zm4 0h-2v-4h2v4z\"/>\n",
              "    </g>\n",
              "</svg>\n",
              "  </button>\n",
              "\n",
              "<style>\n",
              "  .colab-df-quickchart {\n",
              "      --bg-color: #E8F0FE;\n",
              "      --fill-color: #1967D2;\n",
              "      --hover-bg-color: #E2EBFA;\n",
              "      --hover-fill-color: #174EA6;\n",
              "      --disabled-fill-color: #AAA;\n",
              "      --disabled-bg-color: #DDD;\n",
              "  }\n",
              "\n",
              "  [theme=dark] .colab-df-quickchart {\n",
              "      --bg-color: #3B4455;\n",
              "      --fill-color: #D2E3FC;\n",
              "      --hover-bg-color: #434B5C;\n",
              "      --hover-fill-color: #FFFFFF;\n",
              "      --disabled-bg-color: #3B4455;\n",
              "      --disabled-fill-color: #666;\n",
              "  }\n",
              "\n",
              "  .colab-df-quickchart {\n",
              "    background-color: var(--bg-color);\n",
              "    border: none;\n",
              "    border-radius: 50%;\n",
              "    cursor: pointer;\n",
              "    display: none;\n",
              "    fill: var(--fill-color);\n",
              "    height: 32px;\n",
              "    padding: 0;\n",
              "    width: 32px;\n",
              "  }\n",
              "\n",
              "  .colab-df-quickchart:hover {\n",
              "    background-color: var(--hover-bg-color);\n",
              "    box-shadow: 0 1px 2px rgba(60, 64, 67, 0.3), 0 1px 3px 1px rgba(60, 64, 67, 0.15);\n",
              "    fill: var(--button-hover-fill-color);\n",
              "  }\n",
              "\n",
              "  .colab-df-quickchart-complete:disabled,\n",
              "  .colab-df-quickchart-complete:disabled:hover {\n",
              "    background-color: var(--disabled-bg-color);\n",
              "    fill: var(--disabled-fill-color);\n",
              "    box-shadow: none;\n",
              "  }\n",
              "\n",
              "  .colab-df-spinner {\n",
              "    border: 2px solid var(--fill-color);\n",
              "    border-color: transparent;\n",
              "    border-bottom-color: var(--fill-color);\n",
              "    animation:\n",
              "      spin 1s steps(1) infinite;\n",
              "  }\n",
              "\n",
              "  @keyframes spin {\n",
              "    0% {\n",
              "      border-color: transparent;\n",
              "      border-bottom-color: var(--fill-color);\n",
              "      border-left-color: var(--fill-color);\n",
              "    }\n",
              "    20% {\n",
              "      border-color: transparent;\n",
              "      border-left-color: var(--fill-color);\n",
              "      border-top-color: var(--fill-color);\n",
              "    }\n",
              "    30% {\n",
              "      border-color: transparent;\n",
              "      border-left-color: var(--fill-color);\n",
              "      border-top-color: var(--fill-color);\n",
              "      border-right-color: var(--fill-color);\n",
              "    }\n",
              "    40% {\n",
              "      border-color: transparent;\n",
              "      border-right-color: var(--fill-color);\n",
              "      border-top-color: var(--fill-color);\n",
              "    }\n",
              "    60% {\n",
              "      border-color: transparent;\n",
              "      border-right-color: var(--fill-color);\n",
              "    }\n",
              "    80% {\n",
              "      border-color: transparent;\n",
              "      border-right-color: var(--fill-color);\n",
              "      border-bottom-color: var(--fill-color);\n",
              "    }\n",
              "    90% {\n",
              "      border-color: transparent;\n",
              "      border-bottom-color: var(--fill-color);\n",
              "    }\n",
              "  }\n",
              "</style>\n",
              "\n",
              "  <script>\n",
              "    async function quickchart(key) {\n",
              "      const quickchartButtonEl =\n",
              "        document.querySelector('#' + key + ' button');\n",
              "      quickchartButtonEl.disabled = true;  // To prevent multiple clicks.\n",
              "      quickchartButtonEl.classList.add('colab-df-spinner');\n",
              "      try {\n",
              "        const charts = await google.colab.kernel.invokeFunction(\n",
              "            'suggestCharts', [key], {});\n",
              "      } catch (error) {\n",
              "        console.error('Error during call to suggestCharts:', error);\n",
              "      }\n",
              "      quickchartButtonEl.classList.remove('colab-df-spinner');\n",
              "      quickchartButtonEl.classList.add('colab-df-quickchart-complete');\n",
              "    }\n",
              "    (() => {\n",
              "      let quickchartButtonEl =\n",
              "        document.querySelector('#df-13cba606-986e-472a-af72-38cc70742634 button');\n",
              "      quickchartButtonEl.style.display =\n",
              "        google.colab.kernel.accessAllowed ? 'block' : 'none';\n",
              "    })();\n",
              "  </script>\n",
              "</div>\n",
              "    </div>\n",
              "  </div>\n"
            ],
            "application/vnd.google.colaboratory.intrinsic+json": {
              "type": "dataframe",
              "variable_name": "data2",
              "summary": "{\n  \"name\": \"data2\",\n  \"rows\": 10,\n  \"fields\": [\n    {\n      \"column\": \"Unnamed: 0\",\n      \"properties\": {\n        \"dtype\": \"number\",\n        \"std\": 3,\n        \"min\": 0,\n        \"max\": 9,\n        \"num_unique_values\": 10,\n        \"samples\": [\n          8,\n          1,\n          5\n        ],\n        \"semantic_type\": \"\",\n        \"description\": \"\"\n      }\n    },\n    {\n      \"column\": \"\\u0428\\u0435\\u0440\\u0441\\u0442\\u0438\\u0441\\u0442\",\n      \"properties\": {\n        \"dtype\": \"number\",\n        \"std\": 0,\n        \"min\": 0,\n        \"max\": 1,\n        \"num_unique_values\": 2,\n        \"samples\": [\n          0,\n          1\n        ],\n        \"semantic_type\": \"\",\n        \"description\": \"\"\n      }\n    },\n    {\n      \"column\": \"\\u0413\\u0430\\u0432\\u043a\\u0430\\u0435\\u0442\",\n      \"properties\": {\n        \"dtype\": \"number\",\n        \"std\": 0,\n        \"min\": 0,\n        \"max\": 1,\n        \"num_unique_values\": 2,\n        \"samples\": [\n          0,\n          1\n        ],\n        \"semantic_type\": \"\",\n        \"description\": \"\"\n      }\n    },\n    {\n      \"column\": \"\\u041b\\u0430\\u0437\\u0430\\u0435\\u0442 \\u043f\\u043e \\u0434\\u0435\\u0440\\u0435\\u0432\\u044c\\u044f\\u043c\",\n      \"properties\": {\n        \"dtype\": \"number\",\n        \"std\": 0,\n        \"min\": 0,\n        \"max\": 1,\n        \"num_unique_values\": 2,\n        \"samples\": [\n          1,\n          0\n        ],\n        \"semantic_type\": \"\",\n        \"description\": \"\"\n      }\n    },\n    {\n      \"column\": \"\\u0412\\u0438\\u0434\",\n      \"properties\": {\n        \"dtype\": \"category\",\n        \"num_unique_values\": 2,\n        \"samples\": [\n          \"\\u043a\\u043e\\u0442\\u0438\\u043a\",\n          \"\\u0441\\u043e\\u0431\\u0430\\u0447\\u043a\\u0430\"\n        ],\n        \"semantic_type\": \"\",\n        \"description\": \"\"\n      }\n    }\n  ]\n}"
            }
          },
          "metadata": {},
          "execution_count": 14
        }
      ],
      "source": [
        "data2"
      ]
    },
    {
      "cell_type": "code",
      "execution_count": null,
      "metadata": {
        "id": "P6R8uviPZuJv"
      },
      "outputs": [],
      "source": [
        "clf2 = tree.DecisionTreeClassifier(criterion='entropy')"
      ]
    },
    {
      "cell_type": "code",
      "execution_count": null,
      "metadata": {
        "id": "PakJ4nMzZ39o"
      },
      "outputs": [],
      "source": [
        "x = data2[['Шерстист', 'Гавкает', 'Лазает по деревьям']]\n",
        "y = data2[['Вид']]"
      ]
    },
    {
      "cell_type": "code",
      "execution_count": null,
      "metadata": {
        "colab": {
          "base_uri": "https://localhost:8080/",
          "height": 74
        },
        "id": "cZcWcFEFaKPo",
        "outputId": "fc643d5c-5eef-4171-82e7-df57e75dca9e"
      },
      "outputs": [
        {
          "output_type": "execute_result",
          "data": {
            "text/plain": [
              "DecisionTreeClassifier(criterion='entropy')"
            ],
            "text/html": [
              "<style>#sk-container-id-2 {color: black;}#sk-container-id-2 pre{padding: 0;}#sk-container-id-2 div.sk-toggleable {background-color: white;}#sk-container-id-2 label.sk-toggleable__label {cursor: pointer;display: block;width: 100%;margin-bottom: 0;padding: 0.3em;box-sizing: border-box;text-align: center;}#sk-container-id-2 label.sk-toggleable__label-arrow:before {content: \"▸\";float: left;margin-right: 0.25em;color: #696969;}#sk-container-id-2 label.sk-toggleable__label-arrow:hover:before {color: black;}#sk-container-id-2 div.sk-estimator:hover label.sk-toggleable__label-arrow:before {color: black;}#sk-container-id-2 div.sk-toggleable__content {max-height: 0;max-width: 0;overflow: hidden;text-align: left;background-color: #f0f8ff;}#sk-container-id-2 div.sk-toggleable__content pre {margin: 0.2em;color: black;border-radius: 0.25em;background-color: #f0f8ff;}#sk-container-id-2 input.sk-toggleable__control:checked~div.sk-toggleable__content {max-height: 200px;max-width: 100%;overflow: auto;}#sk-container-id-2 input.sk-toggleable__control:checked~label.sk-toggleable__label-arrow:before {content: \"▾\";}#sk-container-id-2 div.sk-estimator input.sk-toggleable__control:checked~label.sk-toggleable__label {background-color: #d4ebff;}#sk-container-id-2 div.sk-label input.sk-toggleable__control:checked~label.sk-toggleable__label {background-color: #d4ebff;}#sk-container-id-2 input.sk-hidden--visually {border: 0;clip: rect(1px 1px 1px 1px);clip: rect(1px, 1px, 1px, 1px);height: 1px;margin: -1px;overflow: hidden;padding: 0;position: absolute;width: 1px;}#sk-container-id-2 div.sk-estimator {font-family: monospace;background-color: #f0f8ff;border: 1px dotted black;border-radius: 0.25em;box-sizing: border-box;margin-bottom: 0.5em;}#sk-container-id-2 div.sk-estimator:hover {background-color: #d4ebff;}#sk-container-id-2 div.sk-parallel-item::after {content: \"\";width: 100%;border-bottom: 1px solid gray;flex-grow: 1;}#sk-container-id-2 div.sk-label:hover label.sk-toggleable__label {background-color: #d4ebff;}#sk-container-id-2 div.sk-serial::before {content: \"\";position: absolute;border-left: 1px solid gray;box-sizing: border-box;top: 0;bottom: 0;left: 50%;z-index: 0;}#sk-container-id-2 div.sk-serial {display: flex;flex-direction: column;align-items: center;background-color: white;padding-right: 0.2em;padding-left: 0.2em;position: relative;}#sk-container-id-2 div.sk-item {position: relative;z-index: 1;}#sk-container-id-2 div.sk-parallel {display: flex;align-items: stretch;justify-content: center;background-color: white;position: relative;}#sk-container-id-2 div.sk-item::before, #sk-container-id-2 div.sk-parallel-item::before {content: \"\";position: absolute;border-left: 1px solid gray;box-sizing: border-box;top: 0;bottom: 0;left: 50%;z-index: -1;}#sk-container-id-2 div.sk-parallel-item {display: flex;flex-direction: column;z-index: 1;position: relative;background-color: white;}#sk-container-id-2 div.sk-parallel-item:first-child::after {align-self: flex-end;width: 50%;}#sk-container-id-2 div.sk-parallel-item:last-child::after {align-self: flex-start;width: 50%;}#sk-container-id-2 div.sk-parallel-item:only-child::after {width: 0;}#sk-container-id-2 div.sk-dashed-wrapped {border: 1px dashed gray;margin: 0 0.4em 0.5em 0.4em;box-sizing: border-box;padding-bottom: 0.4em;background-color: white;}#sk-container-id-2 div.sk-label label {font-family: monospace;font-weight: bold;display: inline-block;line-height: 1.2em;}#sk-container-id-2 div.sk-label-container {text-align: center;}#sk-container-id-2 div.sk-container {/* jupyter's `normalize.less` sets `[hidden] { display: none; }` but bootstrap.min.css set `[hidden] { display: none !important; }` so we also need the `!important` here to be able to override the default hidden behavior on the sphinx rendered scikit-learn.org. See: https://github.com/scikit-learn/scikit-learn/issues/21755 */display: inline-block !important;position: relative;}#sk-container-id-2 div.sk-text-repr-fallback {display: none;}</style><div id=\"sk-container-id-2\" class=\"sk-top-container\"><div class=\"sk-text-repr-fallback\"><pre>DecisionTreeClassifier(criterion=&#x27;entropy&#x27;)</pre><b>In a Jupyter environment, please rerun this cell to show the HTML representation or trust the notebook. <br />On GitHub, the HTML representation is unable to render, please try loading this page with nbviewer.org.</b></div><div class=\"sk-container\" hidden><div class=\"sk-item\"><div class=\"sk-estimator sk-toggleable\"><input class=\"sk-toggleable__control sk-hidden--visually\" id=\"sk-estimator-id-2\" type=\"checkbox\" checked><label for=\"sk-estimator-id-2\" class=\"sk-toggleable__label sk-toggleable__label-arrow\">DecisionTreeClassifier</label><div class=\"sk-toggleable__content\"><pre>DecisionTreeClassifier(criterion=&#x27;entropy&#x27;)</pre></div></div></div></div></div>"
            ]
          },
          "metadata": {},
          "execution_count": 17
        }
      ],
      "source": [
        "clf2.fit(x, y)"
      ]
    },
    {
      "cell_type": "code",
      "execution_count": null,
      "metadata": {
        "colab": {
          "base_uri": "https://localhost:8080/",
          "height": 406
        },
        "id": "PvpiFjTjaOyD",
        "outputId": "e6f6cf17-faf7-4ced-dc14-2c82a6da4496"
      },
      "outputs": [
        {
          "output_type": "display_data",
          "data": {
            "text/plain": [
              "<Figure size 640x480 with 1 Axes>"
            ],
            "image/png": "[encoded data removed]"
          },
          "metadata": {}
        }
      ],
      "source": [
        "plot_tree(clf2,filled=True);"
      ]
    },
    {
      "cell_type": "code",
      "execution_count": null,
      "metadata": {
        "id": "PY1HwnmfbjEi"
      },
      "outputs": [],
      "source": [
        "import math as m"
      ]
    },
    {
      "cell_type": "code",
      "execution_count": null,
      "metadata": {
        "id": "X8G9AdVga0Pj"
      },
      "outputs": [],
      "source": [
        "E_sh_0=(1/1)*m.log2((1/1)) - 0\n",
        "E_sh_1=-(4/9)*m.log2((4/9)) - (5/9)*m.log2((5/9))\n",
        "E_gav_0=0 - (5/5)*m.log2((5/5))\n",
        "E_gav_1=-(4/5)*m.log2((4/5)) - (1/5)*m.log2((1/5))\n",
        "E_laz_1=0 - (6/6)*m.log2((6/6))\n",
        "E_laz_0=-(4/4)*m.log2((4/4)) - 0"
      ]
    },
    {
      "cell_type": "code",
      "source": [
        "E_y=-(4/10)*m.log2((4/10)) - (6/10)*m.log2((6/10))"
      ],
      "metadata": {
        "id": "8LJL0xRznRQX"
      },
      "execution_count": null,
      "outputs": []
    },
    {
      "cell_type": "code",
      "source": [
        "E_y"
      ],
      "metadata": {
        "colab": {
          "base_uri": "https://localhost:8080/"
        },
        "id": "UBnD2QPxnzO_",
        "outputId": "64bd00f6-f925-41a7-c06a-98a082fa2862"
      },
      "execution_count": null,
      "outputs": [
        {
          "output_type": "execute_result",
          "data": {
            "text/plain": [
              "0.9709505944546686"
            ]
          },
          "metadata": {},
          "execution_count": 22
        }
      ]
    },
    {
      "cell_type": "code",
      "source": [
        "ig_sh = (1/10)*E_sh_0 + (9/10)*E_sh_1\n",
        "ig_gav = (5/10)*E_gav_0 + (5/10)*E_gav_1\n",
        "ig_laz = (4/10)*E_laz_0 + (6/10)*E_laz_1"
      ],
      "metadata": {
        "id": "BZRPmKyLn35Z"
      },
      "execution_count": null,
      "outputs": []
    },
    {
      "cell_type": "code",
      "source": [
        "E_sh_1"
      ],
      "metadata": {
        "colab": {
          "base_uri": "https://localhost:8080/"
        },
        "id": "WMCTN0Q_m0us",
        "outputId": "be165183-6502-47ed-a429-7e4e12894a96"
      },
      "execution_count": null,
      "outputs": [
        {
          "output_type": "execute_result",
          "data": {
            "text/plain": [
              "0.9910760598382222"
            ]
          },
          "metadata": {},
          "execution_count": 24
        }
      ]
    },
    {
      "cell_type": "code",
      "source": [
        "E_gav_1"
      ],
      "metadata": {
        "colab": {
          "base_uri": "https://localhost:8080/"
        },
        "id": "zfJAOXAfm9zT",
        "outputId": "6014a75c-729a-4194-a135-8a64c2147721"
      },
      "execution_count": null,
      "outputs": [
        {
          "output_type": "execute_result",
          "data": {
            "text/plain": [
              "0.7219280948873623"
            ]
          },
          "metadata": {},
          "execution_count": 25
        }
      ]
    },
    {
      "cell_type": "code",
      "source": [
        "E_y - ig_sh"
      ],
      "metadata": {
        "colab": {
          "base_uri": "https://localhost:8080/"
        },
        "id": "CVlEEOQmnHSP",
        "outputId": "8d78ba74-6445-4374-da56-67b159945a70"
      },
      "execution_count": null,
      "outputs": [
        {
          "output_type": "execute_result",
          "data": {
            "text/plain": [
              "0.07898214060026854"
            ]
          },
          "metadata": {},
          "execution_count": 26
        }
      ]
    },
    {
      "cell_type": "code",
      "source": [
        "E_y - ig_gav"
      ],
      "metadata": {
        "colab": {
          "base_uri": "https://localhost:8080/"
        },
        "id": "kwEDxfW6ownd",
        "outputId": "f2c34b74-0816-4499-c65c-320853b602fa"
      },
      "execution_count": null,
      "outputs": [
        {
          "output_type": "execute_result",
          "data": {
            "text/plain": [
              "0.6099865470109874"
            ]
          },
          "metadata": {},
          "execution_count": 27
        }
      ]
    },
    {
      "cell_type": "code",
      "source": [
        "E_y - ig_laz"
      ],
      "metadata": {
        "colab": {
          "base_uri": "https://localhost:8080/"
        },
        "id": "sQRDVAnNozwe",
        "outputId": "10bd4cdc-ec9f-4cae-b62a-675fc16d64d1"
      },
      "execution_count": null,
      "outputs": [
        {
          "output_type": "execute_result",
          "data": {
            "text/plain": [
              "0.9709505944546686"
            ]
          },
          "metadata": {},
          "execution_count": 28
        }
      ]
    },
    {
      "cell_type": "markdown",
      "source": [
        "#2.3 титаник начало"
      ],
      "metadata": {
        "id": "9Ei0_ibpsLnZ"
      }
    },
    {
      "cell_type": "code",
      "source": [
        "titanic_data = pd.read_csv('https://stepik.org/media/attachments/course/4852/titanic.csv')\n"
      ],
      "metadata": {
        "id": "VcRQI5Jgo1Gq"
      },
      "execution_count": 309,
      "outputs": []
    },
    {
      "cell_type": "code",
      "source": [
        "titanic_data.head()"
      ],
      "metadata": {
        "colab": {
          "base_uri": "https://localhost:8080/",
          "height": 504
        },
        "id": "q_MM2HDrspN7",
        "outputId": "7c4668c3-10e7-48e0-d1ab-b2092f94244e"
      },
      "execution_count": 310,
      "outputs": [
        {
          "output_type": "execute_result",
          "data": {
            "text/plain": [
              "   PassengerId  Survived  Pclass  \\\n",
              "0            1         0       3   \n",
              "1            2         1       1   \n",
              "2            3         1       3   \n",
              "3            4         1       1   \n",
              "4            5         0       3   \n",
              "\n",
              "                                                Name     Sex   Age  SibSp  \\\n",
              "0                            Braund, Mr. Owen Harris    male  22.0      1   \n",
              "1  Cumings, Mrs. John Bradley (Florence Briggs Th...  female  38.0      1   \n",
              "2                             Heikkinen, Miss. Laina  female  26.0      0   \n",
              "3       Futrelle, Mrs. Jacques Heath (Lily May Peel)  female  35.0      1   \n",
              "4                           Allen, Mr. William Henry    male  35.0      0   \n",
              "\n",
              "   Parch            Ticket     Fare Cabin Embarked  \n",
              "0      0         A/5 21171   7.2500   NaN        S  \n",
              "1      0          PC 17599  71.2833   C85        C  \n",
              "2      0  STON/O2. 3101282   7.9250   NaN        S  \n",
              "3      0            113803  53.1000  C123        S  \n",
              "4      0            373450   8.0500   NaN        S  "
            ],
            "text/html": [
              "\n",
              "  <div id=\"df-0cf3c3ed-63f3-4091-a38f-0e039f2685af\" class=\"colab-df-container\">\n",
              "    <div>\n",
              "<style scoped>\n",
              "    .dataframe tbody tr th:only-of-type {\n",
              "        vertical-align: middle;\n",
              "    }\n",
              "\n",
              "    .dataframe tbody tr th {\n",
              "        vertical-align: top;\n",
              "    }\n",
              "\n",
              "    .dataframe thead th {\n",
              "        text-align: right;\n",
              "    }\n",
              "</style>\n",
              "<table border=\"1\" class=\"dataframe\">\n",
              "  <thead>\n",
              "    <tr style=\"text-align: right;\">\n",
              "      <th></th>\n",
              "      <th>PassengerId</th>\n",
              "      <th>Survived</th>\n",
              "      <th>Pclass</th>\n",
              "      <th>Name</th>\n",
              "      <th>Sex</th>\n",
              "      <th>Age</th>\n",
              "      <th>SibSp</th>\n",
              "      <th>Parch</th>\n",
              "      <th>Ticket</th>\n",
              "      <th>Fare</th>\n",
              "      <th>Cabin</th>\n",
              "      <th>Embarked</th>\n",
              "    </tr>\n",
              "  </thead>\n",
              "  <tbody>\n",
              "    <tr>\n",
              "      <th>0</th>\n",
              "      <td>1</td>\n",
              "      <td>0</td>\n",
              "      <td>3</td>\n",
              "      <td>Braund, Mr. Owen Harris</td>\n",
              "      <td>male</td>\n",
              "      <td>22.0</td>\n",
              "      <td>1</td>\n",
              "      <td>0</td>\n",
              "      <td>A/5 21171</td>\n",
              "      <td>7.2500</td>\n",
              "      <td>NaN</td>\n",
              "      <td>S</td>\n",
              "    </tr>\n",
              "    <tr>\n",
              "      <th>1</th>\n",
              "      <td>2</td>\n",
              "      <td>1</td>\n",
              "      <td>1</td>\n",
              "      <td>Cumings, Mrs. John Bradley (Florence Briggs Th...</td>\n",
              "      <td>female</td>\n",
              "      <td>38.0</td>\n",
              "      <td>1</td>\n",
              "      <td>0</td>\n",
              "      <td>PC 17599</td>\n",
              "      <td>71.2833</td>\n",
              "      <td>C85</td>\n",
              "      <td>C</td>\n",
              "    </tr>\n",
              "    <tr>\n",
              "      <th>2</th>\n",
              "      <td>3</td>\n",
              "      <td>1</td>\n",
              "      <td>3</td>\n",
              "      <td>Heikkinen, Miss. Laina</td>\n",
              "      <td>female</td>\n",
              "      <td>26.0</td>\n",
              "      <td>0</td>\n",
              "      <td>0</td>\n",
              "      <td>STON/O2. 3101282</td>\n",
              "      <td>7.9250</td>\n",
              "      <td>NaN</td>\n",
              "      <td>S</td>\n",
              "    </tr>\n",
              "    <tr>\n",
              "      <th>3</th>\n",
              "      <td>4</td>\n",
              "      <td>1</td>\n",
              "      <td>1</td>\n",
              "      <td>Futrelle, Mrs. Jacques Heath (Lily May Peel)</td>\n",
              "      <td>female</td>\n",
              "      <td>35.0</td>\n",
              "      <td>1</td>\n",
              "      <td>0</td>\n",
              "      <td>113803</td>\n",
              "      <td>53.1000</td>\n",
              "      <td>C123</td>\n",
              "      <td>S</td>\n",
              "    </tr>\n",
              "    <tr>\n",
              "      <th>4</th>\n",
              "      <td>5</td>\n",
              "      <td>0</td>\n",
              "      <td>3</td>\n",
              "      <td>Allen, Mr. William Henry</td>\n",
              "      <td>male</td>\n",
              "      <td>35.0</td>\n",
              "      <td>0</td>\n",
              "      <td>0</td>\n",
              "      <td>373450</td>\n",
              "      <td>8.0500</td>\n",
              "      <td>NaN</td>\n",
              "      <td>S</td>\n",
              "    </tr>\n",
              "  </tbody>\n",
              "</table>\n",
              "</div>\n",
              "    <div class=\"colab-df-buttons\">\n",
              "\n",
              "  <div class=\"colab-df-container\">\n",
              "    <button class=\"colab-df-convert\" onclick=\"convertToInteractive('df-0cf3c3ed-63f3-4091-a38f-0e039f2685af')\"\n",
              "            title=\"Convert this dataframe to an interactive table.\"\n",
              "            style=\"display:none;\">\n",
              "\n",
              "  <svg xmlns=\"http://www.w3.org/2000/svg\" height=\"24px\" viewBox=\"0 -960 960 960\">\n",
              "    <path d=\"M120-120v-720h720v720H120Zm60-500h600v-160H180v160Zm220 220h160v-160H400v160Zm0 220h160v-160H400v160ZM180-400h160v-160H180v160Zm440 0h160v-160H620v160ZM180-180h160v-160H180v160Zm440 0h160v-160H620v160Z\"/>\n",
              "  </svg>\n",
              "    </button>\n",
              "\n",
              "  <style>\n",
              "    .colab-df-container {\n",
              "      display:flex;\n",
              "      gap: 12px;\n",
              "    }\n",
              "\n",
              "    .colab-df-convert {\n",
              "      background-color: #E8F0FE;\n",
              "      border: none;\n",
              "      border-radius: 50%;\n",
              "      cursor: pointer;\n",
              "      display: none;\n",
              "      fill: #1967D2;\n",
              "      height: 32px;\n",
              "      padding: 0 0 0 0;\n",
              "      width: 32px;\n",
              "    }\n",
              "\n",
              "    .colab-df-convert:hover {\n",
              "      background-color: #E2EBFA;\n",
              "      box-shadow: 0px 1px 2px rgba(60, 64, 67, 0.3), 0px 1px 3px 1px rgba(60, 64, 67, 0.15);\n",
              "      fill: #174EA6;\n",
              "    }\n",
              "\n",
              "    .colab-df-buttons div {\n",
              "      margin-bottom: 4px;\n",
              "    }\n",
              "\n",
              "    [theme=dark] .colab-df-convert {\n",
              "      background-color: #3B4455;\n",
              "      fill: #D2E3FC;\n",
              "    }\n",
              "\n",
              "    [theme=dark] .colab-df-convert:hover {\n",
              "      background-color: #434B5C;\n",
              "      box-shadow: 0px 1px 3px 1px rgba(0, 0, 0, 0.15);\n",
              "      filter: drop-shadow(0px 1px 2px rgba(0, 0, 0, 0.3));\n",
              "      fill: #FFFFFF;\n",
              "    }\n",
              "  </style>\n",
              "\n",
              "    <script>\n",
              "      const buttonEl =\n",
              "        document.querySelector('#df-0cf3c3ed-63f3-4091-a38f-0e039f2685af button.colab-df-convert');\n",
              "      buttonEl.style.display =\n",
              "        google.colab.kernel.accessAllowed ? 'block' : 'none';\n",
              "\n",
              "      async function convertToInteractive(key) {\n",
              "        const element = document.querySelector('#df-0cf3c3ed-63f3-4091-a38f-0e039f2685af');\n",
              "        const dataTable =\n",
              "          await google.colab.kernel.invokeFunction('convertToInteractive',\n",
              "                                                    [key], {});\n",
              "        if (!dataTable) return;\n",
              "\n",
              "        const docLinkHtml = 'Like what you see? Visit the ' +\n",
              "          '<a target=\"_blank\" href=https://colab.research.google.com/notebooks/data_table.ipynb>data table notebook</a>'\n",
              "          + ' to learn more about interactive tables.';\n",
              "        element.innerHTML = '';\n",
              "        dataTable['output_type'] = 'display_data';\n",
              "        await google.colab.output.renderOutput(dataTable, element);\n",
              "        const docLink = document.createElement('div');\n",
              "        docLink.innerHTML = docLinkHtml;\n",
              "        element.appendChild(docLink);\n",
              "      }\n",
              "    </script>\n",
              "  </div>\n",
              "\n",
              "\n",
              "<div id=\"df-bc12ebca-3339-4a96-a911-9cf671f31b2f\">\n",
              "  <button class=\"colab-df-quickchart\" onclick=\"quickchart('df-bc12ebca-3339-4a96-a911-9cf671f31b2f')\"\n",
              "            title=\"Suggest charts\"\n",
              "            style=\"display:none;\">\n",
              "\n",
              "<svg xmlns=\"http://www.w3.org/2000/svg\" height=\"24px\"viewBox=\"0 0 24 24\"\n",
              "     width=\"24px\">\n",
              "    <g>\n",
              "        <path d=\"M19 3H5c-1.1 0-2 .9-2 2v14c0 1.1.9 2 2 2h14c1.1 0 2-.9 2-2V5c0-1.1-.9-2-2-2zM9 17H7v-7h2v7zm4 0h-2V7h2v10zm4 0h-2v-4h2v4z\"/>\n",
              "    </g>\n",
              "</svg>\n",
              "  </button>\n",
              "\n",
              "<style>\n",
              "  .colab-df-quickchart {\n",
              "      --bg-color: #E8F0FE;\n",
              "      --fill-color: #1967D2;\n",
              "      --hover-bg-color: #E2EBFA;\n",
              "      --hover-fill-color: #174EA6;\n",
              "      --disabled-fill-color: #AAA;\n",
              "      --disabled-bg-color: #DDD;\n",
              "  }\n",
              "\n",
              "  [theme=dark] .colab-df-quickchart {\n",
              "      --bg-color: #3B4455;\n",
              "      --fill-color: #D2E3FC;\n",
              "      --hover-bg-color: #434B5C;\n",
              "      --hover-fill-color: #FFFFFF;\n",
              "      --disabled-bg-color: #3B4455;\n",
              "      --disabled-fill-color: #666;\n",
              "  }\n",
              "\n",
              "  .colab-df-quickchart {\n",
              "    background-color: var(--bg-color);\n",
              "    border: none;\n",
              "    border-radius: 50%;\n",
              "    cursor: pointer;\n",
              "    display: none;\n",
              "    fill: var(--fill-color);\n",
              "    height: 32px;\n",
              "    padding: 0;\n",
              "    width: 32px;\n",
              "  }\n",
              "\n",
              "  .colab-df-quickchart:hover {\n",
              "    background-color: var(--hover-bg-color);\n",
              "    box-shadow: 0 1px 2px rgba(60, 64, 67, 0.3), 0 1px 3px 1px rgba(60, 64, 67, 0.15);\n",
              "    fill: var(--button-hover-fill-color);\n",
              "  }\n",
              "\n",
              "  .colab-df-quickchart-complete:disabled,\n",
              "  .colab-df-quickchart-complete:disabled:hover {\n",
              "    background-color: var(--disabled-bg-color);\n",
              "    fill: var(--disabled-fill-color);\n",
              "    box-shadow: none;\n",
              "  }\n",
              "\n",
              "  .colab-df-spinner {\n",
              "    border: 2px solid var(--fill-color);\n",
              "    border-color: transparent;\n",
              "    border-bottom-color: var(--fill-color);\n",
              "    animation:\n",
              "      spin 1s steps(1) infinite;\n",
              "  }\n",
              "\n",
              "  @keyframes spin {\n",
              "    0% {\n",
              "      border-color: transparent;\n",
              "      border-bottom-color: var(--fill-color);\n",
              "      border-left-color: var(--fill-color);\n",
              "    }\n",
              "    20% {\n",
              "      border-color: transparent;\n",
              "      border-left-color: var(--fill-color);\n",
              "      border-top-color: var(--fill-color);\n",
              "    }\n",
              "    30% {\n",
              "      border-color: transparent;\n",
              "      border-left-color: var(--fill-color);\n",
              "      border-top-color: var(--fill-color);\n",
              "      border-right-color: var(--fill-color);\n",
              "    }\n",
              "    40% {\n",
              "      border-color: transparent;\n",
              "      border-right-color: var(--fill-color);\n",
              "      border-top-color: var(--fill-color);\n",
              "    }\n",
              "    60% {\n",
              "      border-color: transparent;\n",
              "      border-right-color: var(--fill-color);\n",
              "    }\n",
              "    80% {\n",
              "      border-color: transparent;\n",
              "      border-right-color: var(--fill-color);\n",
              "      border-bottom-color: var(--fill-color);\n",
              "    }\n",
              "    90% {\n",
              "      border-color: transparent;\n",
              "      border-bottom-color: var(--fill-color);\n",
              "    }\n",
              "  }\n",
              "</style>\n",
              "\n",
              "  <script>\n",
              "    async function quickchart(key) {\n",
              "      const quickchartButtonEl =\n",
              "        document.querySelector('#' + key + ' button');\n",
              "      quickchartButtonEl.disabled = true;  // To prevent multiple clicks.\n",
              "      quickchartButtonEl.classList.add('colab-df-spinner');\n",
              "      try {\n",
              "        const charts = await google.colab.kernel.invokeFunction(\n",
              "            'suggestCharts', [key], {});\n",
              "      } catch (error) {\n",
              "        console.error('Error during call to suggestCharts:', error);\n",
              "      }\n",
              "      quickchartButtonEl.classList.remove('colab-df-spinner');\n",
              "      quickchartButtonEl.classList.add('colab-df-quickchart-complete');\n",
              "    }\n",
              "    (() => {\n",
              "      let quickchartButtonEl =\n",
              "        document.querySelector('#df-bc12ebca-3339-4a96-a911-9cf671f31b2f button');\n",
              "      quickchartButtonEl.style.display =\n",
              "        google.colab.kernel.accessAllowed ? 'block' : 'none';\n",
              "    })();\n",
              "  </script>\n",
              "</div>\n",
              "    </div>\n",
              "  </div>\n"
            ],
            "application/vnd.google.colaboratory.intrinsic+json": {
              "type": "dataframe",
              "variable_name": "titanic_data",
              "summary": "{\n  \"name\": \"titanic_data\",\n  \"rows\": 891,\n  \"fields\": [\n    {\n      \"column\": \"PassengerId\",\n      \"properties\": {\n        \"dtype\": \"number\",\n        \"std\": 257,\n        \"min\": 1,\n        \"max\": 891,\n        \"num_unique_values\": 891,\n        \"samples\": [\n          710,\n          440,\n          841\n        ],\n        \"semantic_type\": \"\",\n        \"description\": \"\"\n      }\n    },\n    {\n      \"column\": \"Survived\",\n      \"properties\": {\n        \"dtype\": \"number\",\n        \"std\": 0,\n        \"min\": 0,\n        \"max\": 1,\n        \"num_unique_values\": 2,\n        \"samples\": [\n          1,\n          0\n        ],\n        \"semantic_type\": \"\",\n        \"description\": \"\"\n      }\n    },\n    {\n      \"column\": \"Pclass\",\n      \"properties\": {\n        \"dtype\": \"number\",\n        \"std\": 0,\n        \"min\": 1,\n        \"max\": 3,\n        \"num_unique_values\": 3,\n        \"samples\": [\n          3,\n          1\n        ],\n        \"semantic_type\": \"\",\n        \"description\": \"\"\n      }\n    },\n    {\n      \"column\": \"Name\",\n      \"properties\": {\n        \"dtype\": \"string\",\n        \"num_unique_values\": 891,\n        \"samples\": [\n          \"Moubarek, Master. Halim Gonios (\\\"William George\\\")\",\n          \"Kvillner, Mr. Johan Henrik Johannesson\"\n        ],\n        \"semantic_type\": \"\",\n        \"description\": \"\"\n      }\n    },\n    {\n      \"column\": \"Sex\",\n      \"properties\": {\n        \"dtype\": \"category\",\n        \"num_unique_values\": 2,\n        \"samples\": [\n          \"female\",\n          \"male\"\n        ],\n        \"semantic_type\": \"\",\n        \"description\": \"\"\n      }\n    },\n    {\n      \"column\": \"Age\",\n      \"properties\": {\n        \"dtype\": \"number\",\n        \"std\": 14.526497332334042,\n        \"min\": 0.42,\n        \"max\": 80.0,\n        \"num_unique_values\": 88,\n        \"samples\": [\n          0.75,\n          22.0\n        ],\n        \"semantic_type\": \"\",\n        \"description\": \"\"\n      }\n    },\n    {\n      \"column\": \"SibSp\",\n      \"properties\": {\n        \"dtype\": \"number\",\n        \"std\": 1,\n        \"min\": 0,\n        \"max\": 8,\n        \"num_unique_values\": 7,\n        \"samples\": [\n          1,\n          0\n        ],\n        \"semantic_type\": \"\",\n        \"description\": \"\"\n      }\n    },\n    {\n      \"column\": \"Parch\",\n      \"properties\": {\n        \"dtype\": \"number\",\n        \"std\": 0,\n        \"min\": 0,\n        \"max\": 6,\n        \"num_unique_values\": 7,\n        \"samples\": [\n          0,\n          1\n        ],\n        \"semantic_type\": \"\",\n        \"description\": \"\"\n      }\n    },\n    {\n      \"column\": \"Ticket\",\n      \"properties\": {\n        \"dtype\": \"string\",\n        \"num_unique_values\": 681,\n        \"samples\": [\n          \"11774\",\n          \"248740\"\n        ],\n        \"semantic_type\": \"\",\n        \"description\": \"\"\n      }\n    },\n    {\n      \"column\": \"Fare\",\n      \"properties\": {\n        \"dtype\": \"number\",\n        \"std\": 49.6934285971809,\n        \"min\": 0.0,\n        \"max\": 512.3292,\n        \"num_unique_values\": 248,\n        \"samples\": [\n          11.2417,\n          51.8625\n        ],\n        \"semantic_type\": \"\",\n        \"description\": \"\"\n      }\n    },\n    {\n      \"column\": \"Cabin\",\n      \"properties\": {\n        \"dtype\": \"category\",\n        \"num_unique_values\": 147,\n        \"samples\": [\n          \"D45\",\n          \"B49\"\n        ],\n        \"semantic_type\": \"\",\n        \"description\": \"\"\n      }\n    },\n    {\n      \"column\": \"Embarked\",\n      \"properties\": {\n        \"dtype\": \"category\",\n        \"num_unique_values\": 3,\n        \"samples\": [\n          \"S\",\n          \"C\"\n        ],\n        \"semantic_type\": \"\",\n        \"description\": \"\"\n      }\n    }\n  ]\n}"
            }
          },
          "metadata": {},
          "execution_count": 310
        }
      ]
    },
    {
      "cell_type": "code",
      "source": [
        "titanic_data.isnull().sum()"
      ],
      "metadata": {
        "colab": {
          "base_uri": "https://localhost:8080/",
          "height": 460
        },
        "id": "CFTdhnshssrG",
        "outputId": "c8ab48bd-a9a7-4d72-ec0c-8e524841a042"
      },
      "execution_count": 311,
      "outputs": [
        {
          "output_type": "execute_result",
          "data": {
            "text/plain": [
              "PassengerId      0\n",
              "Survived         0\n",
              "Pclass           0\n",
              "Name             0\n",
              "Sex              0\n",
              "Age            177\n",
              "SibSp            0\n",
              "Parch            0\n",
              "Ticket           0\n",
              "Fare             0\n",
              "Cabin          687\n",
              "Embarked         2\n",
              "dtype: int64"
            ],
            "text/html": [
              "<div>\n",
              "<style scoped>\n",
              "    .dataframe tbody tr th:only-of-type {\n",
              "        vertical-align: middle;\n",
              "    }\n",
              "\n",
              "    .dataframe tbody tr th {\n",
              "        vertical-align: top;\n",
              "    }\n",
              "\n",
              "    .dataframe thead th {\n",
              "        text-align: right;\n",
              "    }\n",
              "</style>\n",
              "<table border=\"1\" class=\"dataframe\">\n",
              "  <thead>\n",
              "    <tr style=\"text-align: right;\">\n",
              "      <th></th>\n",
              "      <th>0</th>\n",
              "    </tr>\n",
              "  </thead>\n",
              "  <tbody>\n",
              "    <tr>\n",
              "      <th>PassengerId</th>\n",
              "      <td>0</td>\n",
              "    </tr>\n",
              "    <tr>\n",
              "      <th>Survived</th>\n",
              "      <td>0</td>\n",
              "    </tr>\n",
              "    <tr>\n",
              "      <th>Pclass</th>\n",
              "      <td>0</td>\n",
              "    </tr>\n",
              "    <tr>\n",
              "      <th>Name</th>\n",
              "      <td>0</td>\n",
              "    </tr>\n",
              "    <tr>\n",
              "      <th>Sex</th>\n",
              "      <td>0</td>\n",
              "    </tr>\n",
              "    <tr>\n",
              "      <th>Age</th>\n",
              "      <td>177</td>\n",
              "    </tr>\n",
              "    <tr>\n",
              "      <th>SibSp</th>\n",
              "      <td>0</td>\n",
              "    </tr>\n",
              "    <tr>\n",
              "      <th>Parch</th>\n",
              "      <td>0</td>\n",
              "    </tr>\n",
              "    <tr>\n",
              "      <th>Ticket</th>\n",
              "      <td>0</td>\n",
              "    </tr>\n",
              "    <tr>\n",
              "      <th>Fare</th>\n",
              "      <td>0</td>\n",
              "    </tr>\n",
              "    <tr>\n",
              "      <th>Cabin</th>\n",
              "      <td>687</td>\n",
              "    </tr>\n",
              "    <tr>\n",
              "      <th>Embarked</th>\n",
              "      <td>2</td>\n",
              "    </tr>\n",
              "  </tbody>\n",
              "</table>\n",
              "</div><br><label><b>dtype:</b> int64</label>"
            ]
          },
          "metadata": {},
          "execution_count": 311
        }
      ]
    },
    {
      "cell_type": "code",
      "source": [
        "X = titanic_data.drop(['PassengerId', 'Survived', 'Name', 'Ticket', 'Cabin'], axis=1)\n",
        "y = titanic_data.Survived"
      ],
      "metadata": {
        "id": "5-t7YLiZtaHq"
      },
      "execution_count": 312,
      "outputs": []
    },
    {
      "cell_type": "code",
      "source": [
        "X = pd.get_dummies(X)"
      ],
      "metadata": {
        "id": "b8wKIClpu_Jv"
      },
      "execution_count": 313,
      "outputs": []
    },
    {
      "cell_type": "code",
      "source": [
        "X = X.fillna({'Age': X.Age.median()})"
      ],
      "metadata": {
        "id": "mSbH2YUTvyo9"
      },
      "execution_count": 314,
      "outputs": []
    },
    {
      "cell_type": "code",
      "source": [
        "X.isnull().sum()"
      ],
      "metadata": {
        "colab": {
          "base_uri": "https://localhost:8080/",
          "height": 397
        },
        "id": "SYvfHIyMvnEt",
        "outputId": "4cc6d72b-d745-44ff-b516-504f8074b1ae"
      },
      "execution_count": 315,
      "outputs": [
        {
          "output_type": "execute_result",
          "data": {
            "text/plain": [
              "Pclass        0\n",
              "Age           0\n",
              "SibSp         0\n",
              "Parch         0\n",
              "Fare          0\n",
              "Sex_female    0\n",
              "Sex_male      0\n",
              "Embarked_C    0\n",
              "Embarked_Q    0\n",
              "Embarked_S    0\n",
              "dtype: int64"
            ],
            "text/html": [
              "<div>\n",
              "<style scoped>\n",
              "    .dataframe tbody tr th:only-of-type {\n",
              "        vertical-align: middle;\n",
              "    }\n",
              "\n",
              "    .dataframe tbody tr th {\n",
              "        vertical-align: top;\n",
              "    }\n",
              "\n",
              "    .dataframe thead th {\n",
              "        text-align: right;\n",
              "    }\n",
              "</style>\n",
              "<table border=\"1\" class=\"dataframe\">\n",
              "  <thead>\n",
              "    <tr style=\"text-align: right;\">\n",
              "      <th></th>\n",
              "      <th>0</th>\n",
              "    </tr>\n",
              "  </thead>\n",
              "  <tbody>\n",
              "    <tr>\n",
              "      <th>Pclass</th>\n",
              "      <td>0</td>\n",
              "    </tr>\n",
              "    <tr>\n",
              "      <th>Age</th>\n",
              "      <td>0</td>\n",
              "    </tr>\n",
              "    <tr>\n",
              "      <th>SibSp</th>\n",
              "      <td>0</td>\n",
              "    </tr>\n",
              "    <tr>\n",
              "      <th>Parch</th>\n",
              "      <td>0</td>\n",
              "    </tr>\n",
              "    <tr>\n",
              "      <th>Fare</th>\n",
              "      <td>0</td>\n",
              "    </tr>\n",
              "    <tr>\n",
              "      <th>Sex_female</th>\n",
              "      <td>0</td>\n",
              "    </tr>\n",
              "    <tr>\n",
              "      <th>Sex_male</th>\n",
              "      <td>0</td>\n",
              "    </tr>\n",
              "    <tr>\n",
              "      <th>Embarked_C</th>\n",
              "      <td>0</td>\n",
              "    </tr>\n",
              "    <tr>\n",
              "      <th>Embarked_Q</th>\n",
              "      <td>0</td>\n",
              "    </tr>\n",
              "    <tr>\n",
              "      <th>Embarked_S</th>\n",
              "      <td>0</td>\n",
              "    </tr>\n",
              "  </tbody>\n",
              "</table>\n",
              "</div><br><label><b>dtype:</b> int64</label>"
            ]
          },
          "metadata": {},
          "execution_count": 315
        }
      ]
    },
    {
      "cell_type": "code",
      "source": [
        "clf = tree.DecisionTreeClassifier(criterion='entropy')"
      ],
      "metadata": {
        "id": "gxw-omk1tnkq"
      },
      "execution_count": 316,
      "outputs": []
    },
    {
      "cell_type": "code",
      "source": [
        "clf.fit(X, y)"
      ],
      "metadata": {
        "colab": {
          "base_uri": "https://localhost:8080/",
          "height": 74
        },
        "id": "mhkM2IjXui5d",
        "outputId": "f0921f91-7dd1-48f2-a343-34ab0719df30"
      },
      "execution_count": 317,
      "outputs": [
        {
          "output_type": "execute_result",
          "data": {
            "text/plain": [
              "DecisionTreeClassifier(criterion='entropy')"
            ],
            "text/html": [
              "<style>#sk-container-id-25 {color: black;}#sk-container-id-25 pre{padding: 0;}#sk-container-id-25 div.sk-toggleable {background-color: white;}#sk-container-id-25 label.sk-toggleable__label {cursor: pointer;display: block;width: 100%;margin-bottom: 0;padding: 0.3em;box-sizing: border-box;text-align: center;}#sk-container-id-25 label.sk-toggleable__label-arrow:before {content: \"▸\";float: left;margin-right: 0.25em;color: #696969;}#sk-container-id-25 label.sk-toggleable__label-arrow:hover:before {color: black;}#sk-container-id-25 div.sk-estimator:hover label.sk-toggleable__label-arrow:before {color: black;}#sk-container-id-25 div.sk-toggleable__content {max-height: 0;max-width: 0;overflow: hidden;text-align: left;background-color: #f0f8ff;}#sk-container-id-25 div.sk-toggleable__content pre {margin: 0.2em;color: black;border-radius: 0.25em;background-color: #f0f8ff;}#sk-container-id-25 input.sk-toggleable__control:checked~div.sk-toggleable__content {max-height: 200px;max-width: 100%;overflow: auto;}#sk-container-id-25 input.sk-toggleable__control:checked~label.sk-toggleable__label-arrow:before {content: \"▾\";}#sk-container-id-25 div.sk-estimator input.sk-toggleable__control:checked~label.sk-toggleable__label {background-color: #d4ebff;}#sk-container-id-25 div.sk-label input.sk-toggleable__control:checked~label.sk-toggleable__label {background-color: #d4ebff;}#sk-container-id-25 input.sk-hidden--visually {border: 0;clip: rect(1px 1px 1px 1px);clip: rect(1px, 1px, 1px, 1px);height: 1px;margin: -1px;overflow: hidden;padding: 0;position: absolute;width: 1px;}#sk-container-id-25 div.sk-estimator {font-family: monospace;background-color: #f0f8ff;border: 1px dotted black;border-radius: 0.25em;box-sizing: border-box;margin-bottom: 0.5em;}#sk-container-id-25 div.sk-estimator:hover {background-color: #d4ebff;}#sk-container-id-25 div.sk-parallel-item::after {content: \"\";width: 100%;border-bottom: 1px solid gray;flex-grow: 1;}#sk-container-id-25 div.sk-label:hover label.sk-toggleable__label {background-color: #d4ebff;}#sk-container-id-25 div.sk-serial::before {content: \"\";position: absolute;border-left: 1px solid gray;box-sizing: border-box;top: 0;bottom: 0;left: 50%;z-index: 0;}#sk-container-id-25 div.sk-serial {display: flex;flex-direction: column;align-items: center;background-color: white;padding-right: 0.2em;padding-left: 0.2em;position: relative;}#sk-container-id-25 div.sk-item {position: relative;z-index: 1;}#sk-container-id-25 div.sk-parallel {display: flex;align-items: stretch;justify-content: center;background-color: white;position: relative;}#sk-container-id-25 div.sk-item::before, #sk-container-id-25 div.sk-parallel-item::before {content: \"\";position: absolute;border-left: 1px solid gray;box-sizing: border-box;top: 0;bottom: 0;left: 50%;z-index: -1;}#sk-container-id-25 div.sk-parallel-item {display: flex;flex-direction: column;z-index: 1;position: relative;background-color: white;}#sk-container-id-25 div.sk-parallel-item:first-child::after {align-self: flex-end;width: 50%;}#sk-container-id-25 div.sk-parallel-item:last-child::after {align-self: flex-start;width: 50%;}#sk-container-id-25 div.sk-parallel-item:only-child::after {width: 0;}#sk-container-id-25 div.sk-dashed-wrapped {border: 1px dashed gray;margin: 0 0.4em 0.5em 0.4em;box-sizing: border-box;padding-bottom: 0.4em;background-color: white;}#sk-container-id-25 div.sk-label label {font-family: monospace;font-weight: bold;display: inline-block;line-height: 1.2em;}#sk-container-id-25 div.sk-label-container {text-align: center;}#sk-container-id-25 div.sk-container {/* jupyter's `normalize.less` sets `[hidden] { display: none; }` but bootstrap.min.css set `[hidden] { display: none !important; }` so we also need the `!important` here to be able to override the default hidden behavior on the sphinx rendered scikit-learn.org. See: https://github.com/scikit-learn/scikit-learn/issues/21755 */display: inline-block !important;position: relative;}#sk-container-id-25 div.sk-text-repr-fallback {display: none;}</style><div id=\"sk-container-id-25\" class=\"sk-top-container\"><div class=\"sk-text-repr-fallback\"><pre>DecisionTreeClassifier(criterion=&#x27;entropy&#x27;)</pre><b>In a Jupyter environment, please rerun this cell to show the HTML representation or trust the notebook. <br />On GitHub, the HTML representation is unable to render, please try loading this page with nbviewer.org.</b></div><div class=\"sk-container\" hidden><div class=\"sk-item\"><div class=\"sk-estimator sk-toggleable\"><input class=\"sk-toggleable__control sk-hidden--visually\" id=\"sk-estimator-id-31\" type=\"checkbox\" checked><label for=\"sk-estimator-id-31\" class=\"sk-toggleable__label sk-toggleable__label-arrow\">DecisionTreeClassifier</label><div class=\"sk-toggleable__content\"><pre>DecisionTreeClassifier(criterion=&#x27;entropy&#x27;)</pre></div></div></div></div></div>"
            ]
          },
          "metadata": {},
          "execution_count": 317
        }
      ]
    },
    {
      "cell_type": "code",
      "source": [
        "graph = Source(tree.export_graphviz(clf, out_file=None, feature_names=list(X), class_names=['Died', 'Survived'], filled=True))\n",
        "display(SVG(graph.pipe(format='svg')))"
      ],
      "metadata": {
        "colab": {
          "base_uri": "https://localhost:8080/",
          "height": 1000
        },
        "id": "6E5X92BIx_rD",
        "outputId": "0c0c2eee-cbf6-4be5-f22d-18eb43962850"
      },
      "execution_count": 318,
      "outputs": [
        {
          "output_type": "display_data",
          "data": {
            "text/plain": [
              "<IPython.core.display.SVG object>"
            ],
            "image/svg+xml": "<svg xmlns=\"http://www.w3.org/2000/svg\" xmlns:xlink=\"http://www.w3.org/1999/xlink\" width=\"6000pt\" height=\"2337pt\" viewBox=\"0.00 0.00 6000.00 2337.00\">\n<g id=\"graph0\" class=\"graph\" transform=\"scale(1 1) rotate(0) translate(4 2333)\">\n<title>Tree</title>\n<polygon fill=\"white\" stroke=\"transparent\" points=\"-4,4 -4,-2333 5996,-2333 5996,4 -4,4\"/>\n<!-- 0 -->\n<g id=\"node1\" class=\"node\">\n<title>0</title>\n<polygon fill=\"#f5cfb4\" stroke=\"black\" points=\"4190.5,-2329 4059.5,-2329 4059.5,-2246 4190.5,-2246 4190.5,-2329\"/>\n<text text-anchor=\"middle\" x=\"4125\" y=\"-2313.8\" font-family=\"Helvetica,sans-Serif\" font-size=\"14.00\">Sex_female &lt;= 0.5</text>\n<text text-anchor=\"middle\" x=\"4125\" y=\"-2298.8\" font-family=\"Helvetica,sans-Serif\" font-size=\"14.00\">entropy = 0.961</text>\n<text text-anchor=\"middle\" x=\"4125\" y=\"-2283.8\" font-family=\"Helvetica,sans-Serif\" font-size=\"14.00\">samples = 891</text>\n<text text-anchor=\"middle\" x=\"4125\" y=\"-2268.8\" font-family=\"Helvetica,sans-Serif\" font-size=\"14.00\">value = [549, 342]</text>\n<text text-anchor=\"middle\" x=\"4125\" y=\"-2253.8\" font-family=\"Helvetica,sans-Serif\" font-size=\"14.00\">class = Died</text>\n</g>\n<!-- 1 -->\n<g id=\"node2\" class=\"node\">\n<title>1</title>\n<polygon fill=\"#eb9e67\" stroke=\"black\" points=\"3605.5,-2210 3480.5,-2210 3480.5,-2127 3605.5,-2127 3605.5,-2210\"/>\n<text text-anchor=\"middle\" x=\"3543\" y=\"-2194.8\" font-family=\"Helvetica,sans-Serif\" font-size=\"14.00\">Fare &lt;= 26.269</text>\n<text text-anchor=\"middle\" x=\"3543\" y=\"-2179.8\" font-family=\"Helvetica,sans-Serif\" font-size=\"14.00\">entropy = 0.699</text>\n<text text-anchor=\"middle\" x=\"3543\" y=\"-2164.8\" font-family=\"Helvetica,sans-Serif\" font-size=\"14.00\">samples = 577</text>\n<text text-anchor=\"middle\" x=\"3543\" y=\"-2149.8\" font-family=\"Helvetica,sans-Serif\" font-size=\"14.00\">value = [468, 109]</text>\n<text text-anchor=\"middle\" x=\"3543\" y=\"-2134.8\" font-family=\"Helvetica,sans-Serif\" font-size=\"14.00\">class = Died</text>\n</g>\n<!-- 0&#45;&gt;1 -->\n<g id=\"edge1\" class=\"edge\">\n<title>0-&gt;1</title>\n<path fill=\"none\" stroke=\"black\" d=\"M4059.37,-2273.31C3949.71,-2251.26 3730.04,-2207.1 3615.79,-2184.13\"/>\n<polygon fill=\"black\" stroke=\"black\" points=\"3616.24,-2180.65 3605.74,-2182.11 3614.86,-2187.52 3616.24,-2180.65\"/>\n<text text-anchor=\"middle\" x=\"3619.59\" y=\"-2199.23\" font-family=\"Helvetica,sans-Serif\" font-size=\"14.00\">True</text>\n</g>\n<!-- 264 -->\n<g id=\"node265\" class=\"node\">\n<title>264</title>\n<polygon fill=\"#7ebfee\" stroke=\"black\" points=\"4396.5,-2210 4279.5,-2210 4279.5,-2127 4396.5,-2127 4396.5,-2210\"/>\n<text text-anchor=\"middle\" x=\"4338\" y=\"-2194.8\" font-family=\"Helvetica,sans-Serif\" font-size=\"14.00\">Pclass &lt;= 2.5</text>\n<text text-anchor=\"middle\" x=\"4338\" y=\"-2179.8\" font-family=\"Helvetica,sans-Serif\" font-size=\"14.00\">entropy = 0.824</text>\n<text text-anchor=\"middle\" x=\"4338\" y=\"-2164.8\" font-family=\"Helvetica,sans-Serif\" font-size=\"14.00\">samples = 314</text>\n<text text-anchor=\"middle\" x=\"4338\" y=\"-2149.8\" font-family=\"Helvetica,sans-Serif\" font-size=\"14.00\">value = [81, 233]</text>\n<text text-anchor=\"middle\" x=\"4338\" y=\"-2134.8\" font-family=\"Helvetica,sans-Serif\" font-size=\"14.00\">class = Survived</text>\n</g>\n<!-- 0&#45;&gt;264 -->\n<g id=\"edge264\" class=\"edge\">\n<title>0-&gt;264</title>\n<path fill=\"none\" stroke=\"black\" d=\"M4190.65,-2250.44C4216.01,-2236.51 4245.03,-2220.57 4270.56,-2206.54\"/>\n<polygon fill=\"black\" stroke=\"black\" points=\"4272.36,-2209.55 4279.44,-2201.67 4268.99,-2203.42 4272.36,-2209.55\"/>\n<text text-anchor=\"middle\" x=\"4272.45\" y=\"-2221.97\" font-family=\"Helvetica,sans-Serif\" font-size=\"14.00\">False</text>\n</g>\n<!-- 2 -->\n<g id=\"node3\" class=\"node\">\n<title>2</title>\n<polygon fill=\"#e99457\" stroke=\"black\" points=\"2326.5,-2091 2209.5,-2091 2209.5,-2008 2326.5,-2008 2326.5,-2091\"/>\n<text text-anchor=\"middle\" x=\"2268\" y=\"-2075.8\" font-family=\"Helvetica,sans-Serif\" font-size=\"14.00\">Age &lt;= 13.5</text>\n<text text-anchor=\"middle\" x=\"2268\" y=\"-2060.8\" font-family=\"Helvetica,sans-Serif\" font-size=\"14.00\">entropy = 0.558</text>\n<text text-anchor=\"middle\" x=\"2268\" y=\"-2045.8\" font-family=\"Helvetica,sans-Serif\" font-size=\"14.00\">samples = 415</text>\n<text text-anchor=\"middle\" x=\"2268\" y=\"-2030.8\" font-family=\"Helvetica,sans-Serif\" font-size=\"14.00\">value = [361, 54]</text>\n<text text-anchor=\"middle\" x=\"2268\" y=\"-2015.8\" font-family=\"Helvetica,sans-Serif\" font-size=\"14.00\">class = Died</text>\n</g>\n<!-- 1&#45;&gt;2 -->\n<g id=\"edge2\" class=\"edge\">\n<title>1-&gt;2</title>\n<path fill=\"none\" stroke=\"black\" d=\"M3480.21,-2161.74C3265.35,-2142.02 2560.56,-2077.35 2336.82,-2056.81\"/>\n<polygon fill=\"black\" stroke=\"black\" points=\"2337.12,-2053.33 2326.84,-2055.9 2336.48,-2060.3 2337.12,-2053.33\"/>\n</g>\n<!-- 175 -->\n<g id=\"node176\" class=\"node\">\n<title>175</title>\n<polygon fill=\"#f2c29f\" stroke=\"black\" points=\"3601.5,-2091 3484.5,-2091 3484.5,-2008 3601.5,-2008 3601.5,-2091\"/>\n<text text-anchor=\"middle\" x=\"3543\" y=\"-2075.8\" font-family=\"Helvetica,sans-Serif\" font-size=\"14.00\">SibSp &lt;= 2.5</text>\n<text text-anchor=\"middle\" x=\"3543\" y=\"-2060.8\" font-family=\"Helvetica,sans-Serif\" font-size=\"14.00\">entropy = 0.924</text>\n<text text-anchor=\"middle\" x=\"3543\" y=\"-2045.8\" font-family=\"Helvetica,sans-Serif\" font-size=\"14.00\">samples = 162</text>\n<text text-anchor=\"middle\" x=\"3543\" y=\"-2030.8\" font-family=\"Helvetica,sans-Serif\" font-size=\"14.00\">value = [107, 55]</text>\n<text text-anchor=\"middle\" x=\"3543\" y=\"-2015.8\" font-family=\"Helvetica,sans-Serif\" font-size=\"14.00\">class = Died</text>\n</g>\n<!-- 1&#45;&gt;175 -->\n<g id=\"edge175\" class=\"edge\">\n<title>1-&gt;175</title>\n<path fill=\"none\" stroke=\"black\" d=\"M3543,-2126.91C3543,-2118.65 3543,-2109.86 3543,-2101.3\"/>\n<polygon fill=\"black\" stroke=\"black\" points=\"3546.5,-2101.02 3543,-2091.02 3539.5,-2101.02 3546.5,-2101.02\"/>\n</g>\n<!-- 3 -->\n<g id=\"node4\" class=\"node\">\n<title>3</title>\n<polygon fill=\"#57ace9\" stroke=\"black\" points=\"2125,-1972 2009,-1972 2009,-1889 2125,-1889 2125,-1972\"/>\n<text text-anchor=\"middle\" x=\"2067\" y=\"-1956.8\" font-family=\"Helvetica,sans-Serif\" font-size=\"14.00\">SibSp &lt;= 2.0</text>\n<text text-anchor=\"middle\" x=\"2067\" y=\"-1941.8\" font-family=\"Helvetica,sans-Serif\" font-size=\"14.00\">entropy = 0.567</text>\n<text text-anchor=\"middle\" x=\"2067\" y=\"-1926.8\" font-family=\"Helvetica,sans-Serif\" font-size=\"14.00\">samples = 15</text>\n<text text-anchor=\"middle\" x=\"2067\" y=\"-1911.8\" font-family=\"Helvetica,sans-Serif\" font-size=\"14.00\">value = [2, 13]</text>\n<text text-anchor=\"middle\" x=\"2067\" y=\"-1896.8\" font-family=\"Helvetica,sans-Serif\" font-size=\"14.00\">class = Survived</text>\n</g>\n<!-- 2&#45;&gt;3 -->\n<g id=\"edge3\" class=\"edge\">\n<title>2-&gt;3</title>\n<path fill=\"none\" stroke=\"black\" d=\"M2209.32,-2014.34C2185.69,-2000.59 2158.3,-1984.65 2133.9,-1970.44\"/>\n<polygon fill=\"black\" stroke=\"black\" points=\"2135.46,-1967.3 2125.06,-1965.29 2131.94,-1973.35 2135.46,-1967.3\"/>\n</g>\n<!-- 10 -->\n<g id=\"node11\" class=\"node\">\n<title>10</title>\n<polygon fill=\"#e88f50\" stroke=\"black\" points=\"2337.5,-1972 2198.5,-1972 2198.5,-1889 2337.5,-1889 2337.5,-1972\"/>\n<text text-anchor=\"middle\" x=\"2268\" y=\"-1956.8\" font-family=\"Helvetica,sans-Serif\" font-size=\"14.00\">Embarked_C &lt;= 0.5</text>\n<text text-anchor=\"middle\" x=\"2268\" y=\"-1941.8\" font-family=\"Helvetica,sans-Serif\" font-size=\"14.00\">entropy = 0.477</text>\n<text text-anchor=\"middle\" x=\"2268\" y=\"-1926.8\" font-family=\"Helvetica,sans-Serif\" font-size=\"14.00\">samples = 400</text>\n<text text-anchor=\"middle\" x=\"2268\" y=\"-1911.8\" font-family=\"Helvetica,sans-Serif\" font-size=\"14.00\">value = [359, 41]</text>\n<text text-anchor=\"middle\" x=\"2268\" y=\"-1896.8\" font-family=\"Helvetica,sans-Serif\" font-size=\"14.00\">class = Died</text>\n</g>\n<!-- 2&#45;&gt;10 -->\n<g id=\"edge10\" class=\"edge\">\n<title>2-&gt;10</title>\n<path fill=\"none\" stroke=\"black\" d=\"M2268,-2007.91C2268,-1999.65 2268,-1990.86 2268,-1982.3\"/>\n<polygon fill=\"black\" stroke=\"black\" points=\"2271.5,-1982.02 2268,-1972.02 2264.5,-1982.02 2271.5,-1982.02\"/>\n</g>\n<!-- 4 -->\n<g id=\"node5\" class=\"node\">\n<title>4</title>\n<polygon fill=\"#48a5e7\" stroke=\"black\" points=\"1316,-1853 1200,-1853 1200,-1770 1316,-1770 1316,-1853\"/>\n<text text-anchor=\"middle\" x=\"1258\" y=\"-1837.8\" font-family=\"Helvetica,sans-Serif\" font-size=\"14.00\">Age &lt;= 10.0</text>\n<text text-anchor=\"middle\" x=\"1258\" y=\"-1822.8\" font-family=\"Helvetica,sans-Serif\" font-size=\"14.00\">entropy = 0.371</text>\n<text text-anchor=\"middle\" x=\"1258\" y=\"-1807.8\" font-family=\"Helvetica,sans-Serif\" font-size=\"14.00\">samples = 14</text>\n<text text-anchor=\"middle\" x=\"1258\" y=\"-1792.8\" font-family=\"Helvetica,sans-Serif\" font-size=\"14.00\">value = [1, 13]</text>\n<text text-anchor=\"middle\" x=\"1258\" y=\"-1777.8\" font-family=\"Helvetica,sans-Serif\" font-size=\"14.00\">class = Survived</text>\n</g>\n<!-- 3&#45;&gt;4 -->\n<g id=\"edge4\" class=\"edge\">\n<title>3-&gt;4</title>\n<path fill=\"none\" stroke=\"black\" d=\"M2008.82,-1921.09C1862.94,-1899.99 1482.13,-1844.91 1326.14,-1822.35\"/>\n<polygon fill=\"black\" stroke=\"black\" points=\"1326.59,-1818.88 1316.2,-1820.92 1325.59,-1825.81 1326.59,-1818.88\"/>\n</g>\n<!-- 9 -->\n<g id=\"node10\" class=\"node\">\n<title>9</title>\n<polygon fill=\"#e58139\" stroke=\"black\" points=\"2115,-1845.5 2019,-1845.5 2019,-1777.5 2115,-1777.5 2115,-1845.5\"/>\n<text text-anchor=\"middle\" x=\"2067\" y=\"-1830.3\" font-family=\"Helvetica,sans-Serif\" font-size=\"14.00\">entropy = 0.0</text>\n<text text-anchor=\"middle\" x=\"2067\" y=\"-1815.3\" font-family=\"Helvetica,sans-Serif\" font-size=\"14.00\">samples = 1</text>\n<text text-anchor=\"middle\" x=\"2067\" y=\"-1800.3\" font-family=\"Helvetica,sans-Serif\" font-size=\"14.00\">value = [1, 0]</text>\n<text text-anchor=\"middle\" x=\"2067\" y=\"-1785.3\" font-family=\"Helvetica,sans-Serif\" font-size=\"14.00\">class = Died</text>\n</g>\n<!-- 3&#45;&gt;9 -->\n<g id=\"edge9\" class=\"edge\">\n<title>3-&gt;9</title>\n<path fill=\"none\" stroke=\"black\" d=\"M2067,-1888.91C2067,-1878.2 2067,-1866.62 2067,-1855.78\"/>\n<polygon fill=\"black\" stroke=\"black\" points=\"2070.5,-1855.67 2067,-1845.67 2063.5,-1855.67 2070.5,-1855.67\"/>\n</g>\n<!-- 5 -->\n<g id=\"node6\" class=\"node\">\n<title>5</title>\n<polygon fill=\"#399de5\" stroke=\"black\" points=\"1185,-1726.5 1069,-1726.5 1069,-1658.5 1185,-1658.5 1185,-1726.5\"/>\n<text text-anchor=\"middle\" x=\"1127\" y=\"-1711.3\" font-family=\"Helvetica,sans-Serif\" font-size=\"14.00\">entropy = 0.0</text>\n<text text-anchor=\"middle\" x=\"1127\" y=\"-1696.3\" font-family=\"Helvetica,sans-Serif\" font-size=\"14.00\">samples = 12</text>\n<text text-anchor=\"middle\" x=\"1127\" y=\"-1681.3\" font-family=\"Helvetica,sans-Serif\" font-size=\"14.00\">value = [0, 12]</text>\n<text text-anchor=\"middle\" x=\"1127\" y=\"-1666.3\" font-family=\"Helvetica,sans-Serif\" font-size=\"14.00\">class = Survived</text>\n</g>\n<!-- 4&#45;&gt;5 -->\n<g id=\"edge5\" class=\"edge\">\n<title>4-&gt;5</title>\n<path fill=\"none\" stroke=\"black\" d=\"M1212.55,-1769.91C1199.33,-1758.1 1184.9,-1745.22 1171.73,-1733.45\"/>\n<polygon fill=\"black\" stroke=\"black\" points=\"1173.93,-1730.72 1164.14,-1726.67 1169.26,-1735.94 1173.93,-1730.72\"/>\n</g>\n<!-- 6 -->\n<g id=\"node7\" class=\"node\">\n<title>6</title>\n<polygon fill=\"#ffffff\" stroke=\"black\" points=\"1313,-1734 1203,-1734 1203,-1651 1313,-1651 1313,-1734\"/>\n<text text-anchor=\"middle\" x=\"1258\" y=\"-1718.8\" font-family=\"Helvetica,sans-Serif\" font-size=\"14.00\">Fare &lt;= 15.015</text>\n<text text-anchor=\"middle\" x=\"1258\" y=\"-1703.8\" font-family=\"Helvetica,sans-Serif\" font-size=\"14.00\">entropy = 1.0</text>\n<text text-anchor=\"middle\" x=\"1258\" y=\"-1688.8\" font-family=\"Helvetica,sans-Serif\" font-size=\"14.00\">samples = 2</text>\n<text text-anchor=\"middle\" x=\"1258\" y=\"-1673.8\" font-family=\"Helvetica,sans-Serif\" font-size=\"14.00\">value = [1, 1]</text>\n<text text-anchor=\"middle\" x=\"1258\" y=\"-1658.8\" font-family=\"Helvetica,sans-Serif\" font-size=\"14.00\">class = Died</text>\n</g>\n<!-- 4&#45;&gt;6 -->\n<g id=\"edge6\" class=\"edge\">\n<title>4-&gt;6</title>\n<path fill=\"none\" stroke=\"black\" d=\"M1258,-1769.91C1258,-1761.65 1258,-1752.86 1258,-1744.3\"/>\n<polygon fill=\"black\" stroke=\"black\" points=\"1261.5,-1744.02 1258,-1734.02 1254.5,-1744.02 1261.5,-1744.02\"/>\n</g>\n<!-- 7 -->\n<g id=\"node8\" class=\"node\">\n<title>7</title>\n<polygon fill=\"#399de5\" stroke=\"black\" points=\"1192,-1607.5 1076,-1607.5 1076,-1539.5 1192,-1539.5 1192,-1607.5\"/>\n<text text-anchor=\"middle\" x=\"1134\" y=\"-1592.3\" font-family=\"Helvetica,sans-Serif\" font-size=\"14.00\">entropy = 0.0</text>\n<text text-anchor=\"middle\" x=\"1134\" y=\"-1577.3\" font-family=\"Helvetica,sans-Serif\" font-size=\"14.00\">samples = 1</text>\n<text text-anchor=\"middle\" x=\"1134\" y=\"-1562.3\" font-family=\"Helvetica,sans-Serif\" font-size=\"14.00\">value = [0, 1]</text>\n<text text-anchor=\"middle\" x=\"1134\" y=\"-1547.3\" font-family=\"Helvetica,sans-Serif\" font-size=\"14.00\">class = Survived</text>\n</g>\n<!-- 6&#45;&gt;7 -->\n<g id=\"edge7\" class=\"edge\">\n<title>6-&gt;7</title>\n<path fill=\"none\" stroke=\"black\" d=\"M1214.98,-1650.91C1202.58,-1639.21 1189.07,-1626.46 1176.69,-1614.78\"/>\n<polygon fill=\"black\" stroke=\"black\" points=\"1178.83,-1611.98 1169.15,-1607.67 1174.02,-1617.08 1178.83,-1611.98\"/>\n</g>\n<!-- 8 -->\n<g id=\"node9\" class=\"node\">\n<title>8</title>\n<polygon fill=\"#e58139\" stroke=\"black\" points=\"1306,-1607.5 1210,-1607.5 1210,-1539.5 1306,-1539.5 1306,-1607.5\"/>\n<text text-anchor=\"middle\" x=\"1258\" y=\"-1592.3\" font-family=\"Helvetica,sans-Serif\" font-size=\"14.00\">entropy = 0.0</text>\n<text text-anchor=\"middle\" x=\"1258\" y=\"-1577.3\" font-family=\"Helvetica,sans-Serif\" font-size=\"14.00\">samples = 1</text>\n<text text-anchor=\"middle\" x=\"1258\" y=\"-1562.3\" font-family=\"Helvetica,sans-Serif\" font-size=\"14.00\">value = [1, 0]</text>\n<text text-anchor=\"middle\" x=\"1258\" y=\"-1547.3\" font-family=\"Helvetica,sans-Serif\" font-size=\"14.00\">class = Died</text>\n</g>\n<!-- 6&#45;&gt;8 -->\n<g id=\"edge8\" class=\"edge\">\n<title>6-&gt;8</title>\n<path fill=\"none\" stroke=\"black\" d=\"M1258,-1650.91C1258,-1640.2 1258,-1628.62 1258,-1617.78\"/>\n<polygon fill=\"black\" stroke=\"black\" points=\"1261.5,-1617.67 1258,-1607.67 1254.5,-1617.67 1261.5,-1617.67\"/>\n</g>\n<!-- 11 -->\n<g id=\"node12\" class=\"node\">\n<title>11</title>\n<polygon fill=\"#e88d4d\" stroke=\"black\" points=\"2288.5,-1853 2171.5,-1853 2171.5,-1770 2288.5,-1770 2288.5,-1853\"/>\n<text text-anchor=\"middle\" x=\"2230\" y=\"-1837.8\" font-family=\"Helvetica,sans-Serif\" font-size=\"14.00\">Fare &lt;= 13.25</text>\n<text text-anchor=\"middle\" x=\"2230\" y=\"-1822.8\" font-family=\"Helvetica,sans-Serif\" font-size=\"14.00\">entropy = 0.437</text>\n<text text-anchor=\"middle\" x=\"2230\" y=\"-1807.8\" font-family=\"Helvetica,sans-Serif\" font-size=\"14.00\">samples = 355</text>\n<text text-anchor=\"middle\" x=\"2230\" y=\"-1792.8\" font-family=\"Helvetica,sans-Serif\" font-size=\"14.00\">value = [323, 32]</text>\n<text text-anchor=\"middle\" x=\"2230\" y=\"-1777.8\" font-family=\"Helvetica,sans-Serif\" font-size=\"14.00\">class = Died</text>\n</g>\n<!-- 10&#45;&gt;11 -->\n<g id=\"edge11\" class=\"edge\">\n<title>10-&gt;11</title>\n<path fill=\"none\" stroke=\"black\" d=\"M2254.82,-1888.91C2252.07,-1880.47 2249.16,-1871.48 2246.32,-1862.74\"/>\n<polygon fill=\"black\" stroke=\"black\" points=\"2249.58,-1861.45 2243.16,-1853.02 2242.92,-1863.61 2249.58,-1861.45\"/>\n</g>\n<!-- 144 -->\n<g id=\"node145\" class=\"node\">\n<title>144</title>\n<polygon fill=\"#eca06a\" stroke=\"black\" points=\"2471.5,-1853 2360.5,-1853 2360.5,-1770 2471.5,-1770 2471.5,-1853\"/>\n<text text-anchor=\"middle\" x=\"2416\" y=\"-1837.8\" font-family=\"Helvetica,sans-Serif\" font-size=\"14.00\">Fare &lt;= 15.148</text>\n<text text-anchor=\"middle\" x=\"2416\" y=\"-1822.8\" font-family=\"Helvetica,sans-Serif\" font-size=\"14.00\">entropy = 0.722</text>\n<text text-anchor=\"middle\" x=\"2416\" y=\"-1807.8\" font-family=\"Helvetica,sans-Serif\" font-size=\"14.00\">samples = 45</text>\n<text text-anchor=\"middle\" x=\"2416\" y=\"-1792.8\" font-family=\"Helvetica,sans-Serif\" font-size=\"14.00\">value = [36, 9]</text>\n<text text-anchor=\"middle\" x=\"2416\" y=\"-1777.8\" font-family=\"Helvetica,sans-Serif\" font-size=\"14.00\">class = Died</text>\n</g>\n<!-- 10&#45;&gt;144 -->\n<g id=\"edge144\" class=\"edge\">\n<title>10-&gt;144</title>\n<path fill=\"none\" stroke=\"black\" d=\"M2319.35,-1888.91C2331.4,-1879.38 2344.34,-1869.15 2356.71,-1859.37\"/>\n<polygon fill=\"black\" stroke=\"black\" points=\"2359.07,-1861.97 2364.74,-1853.02 2354.73,-1856.48 2359.07,-1861.97\"/>\n</g>\n<!-- 12 -->\n<g id=\"node13\" class=\"node\">\n<title>12</title>\n<polygon fill=\"#e88f50\" stroke=\"black\" points=\"1607.5,-1734 1490.5,-1734 1490.5,-1651 1607.5,-1651 1607.5,-1734\"/>\n<text text-anchor=\"middle\" x=\"1549\" y=\"-1718.8\" font-family=\"Helvetica,sans-Serif\" font-size=\"14.00\">Fare &lt;= 7.91</text>\n<text text-anchor=\"middle\" x=\"1549\" y=\"-1703.8\" font-family=\"Helvetica,sans-Serif\" font-size=\"14.00\">entropy = 0.479</text>\n<text text-anchor=\"middle\" x=\"1549\" y=\"-1688.8\" font-family=\"Helvetica,sans-Serif\" font-size=\"14.00\">samples = 291</text>\n<text text-anchor=\"middle\" x=\"1549\" y=\"-1673.8\" font-family=\"Helvetica,sans-Serif\" font-size=\"14.00\">value = [261, 30]</text>\n<text text-anchor=\"middle\" x=\"1549\" y=\"-1658.8\" font-family=\"Helvetica,sans-Serif\" font-size=\"14.00\">class = Died</text>\n</g>\n<!-- 11&#45;&gt;12 -->\n<g id=\"edge12\" class=\"edge\">\n<title>11-&gt;12</title>\n<path fill=\"none\" stroke=\"black\" d=\"M2171.36,-1785.31C2156.16,-1779.56 2139.66,-1773.97 2124,-1770 1944.81,-1724.51 1726.93,-1704.92 1617.99,-1697.48\"/>\n<polygon fill=\"black\" stroke=\"black\" points=\"1618.01,-1693.97 1607.8,-1696.8 1617.54,-1700.96 1618.01,-1693.97\"/>\n</g>\n<!-- 135 -->\n<g id=\"node136\" class=\"node\">\n<title>135</title>\n<polygon fill=\"#e6853f\" stroke=\"black\" points=\"2285.5,-1734 2174.5,-1734 2174.5,-1651 2285.5,-1651 2285.5,-1734\"/>\n<text text-anchor=\"middle\" x=\"2230\" y=\"-1718.8\" font-family=\"Helvetica,sans-Serif\" font-size=\"14.00\">Fare &lt;= 22.887</text>\n<text text-anchor=\"middle\" x=\"2230\" y=\"-1703.8\" font-family=\"Helvetica,sans-Serif\" font-size=\"14.00\">entropy = 0.201</text>\n<text text-anchor=\"middle\" x=\"2230\" y=\"-1688.8\" font-family=\"Helvetica,sans-Serif\" font-size=\"14.00\">samples = 64</text>\n<text text-anchor=\"middle\" x=\"2230\" y=\"-1673.8\" font-family=\"Helvetica,sans-Serif\" font-size=\"14.00\">value = [62, 2]</text>\n<text text-anchor=\"middle\" x=\"2230\" y=\"-1658.8\" font-family=\"Helvetica,sans-Serif\" font-size=\"14.00\">class = Died</text>\n</g>\n<!-- 11&#45;&gt;135 -->\n<g id=\"edge135\" class=\"edge\">\n<title>11-&gt;135</title>\n<path fill=\"none\" stroke=\"black\" d=\"M2230,-1769.91C2230,-1761.65 2230,-1752.86 2230,-1744.3\"/>\n<polygon fill=\"black\" stroke=\"black\" points=\"2233.5,-1744.02 2230,-1734.02 2226.5,-1744.02 2233.5,-1744.02\"/>\n</g>\n<!-- 13 -->\n<g id=\"node14\" class=\"node\">\n<title>13</title>\n<polygon fill=\"#e78a47\" stroke=\"black\" points=\"1441.5,-1615 1324.5,-1615 1324.5,-1532 1441.5,-1532 1441.5,-1615\"/>\n<text text-anchor=\"middle\" x=\"1383\" y=\"-1599.8\" font-family=\"Helvetica,sans-Serif\" font-size=\"14.00\">Fare &lt;= 7.865</text>\n<text text-anchor=\"middle\" x=\"1383\" y=\"-1584.8\" font-family=\"Helvetica,sans-Serif\" font-size=\"14.00\">entropy = 0.353</text>\n<text text-anchor=\"middle\" x=\"1383\" y=\"-1569.8\" font-family=\"Helvetica,sans-Serif\" font-size=\"14.00\">samples = 150</text>\n<text text-anchor=\"middle\" x=\"1383\" y=\"-1554.8\" font-family=\"Helvetica,sans-Serif\" font-size=\"14.00\">value = [140, 10]</text>\n<text text-anchor=\"middle\" x=\"1383\" y=\"-1539.8\" font-family=\"Helvetica,sans-Serif\" font-size=\"14.00\">class = Died</text>\n</g>\n<!-- 12&#45;&gt;13 -->\n<g id=\"edge13\" class=\"edge\">\n<title>12-&gt;13</title>\n<path fill=\"none\" stroke=\"black\" d=\"M1491.41,-1650.91C1477.63,-1641.2 1462.82,-1630.76 1448.71,-1620.81\"/>\n<polygon fill=\"black\" stroke=\"black\" points=\"1450.68,-1617.92 1440.49,-1615.02 1446.65,-1623.64 1450.68,-1617.92\"/>\n</g>\n<!-- 58 -->\n<g id=\"node59\" class=\"node\">\n<title>58</title>\n<polygon fill=\"#e9965a\" stroke=\"black\" points=\"1607.5,-1615 1490.5,-1615 1490.5,-1532 1607.5,-1532 1607.5,-1615\"/>\n<text text-anchor=\"middle\" x=\"1549\" y=\"-1599.8\" font-family=\"Helvetica,sans-Serif\" font-size=\"14.00\">Fare &lt;= 7.988</text>\n<text text-anchor=\"middle\" x=\"1549\" y=\"-1584.8\" font-family=\"Helvetica,sans-Serif\" font-size=\"14.00\">entropy = 0.589</text>\n<text text-anchor=\"middle\" x=\"1549\" y=\"-1569.8\" font-family=\"Helvetica,sans-Serif\" font-size=\"14.00\">samples = 141</text>\n<text text-anchor=\"middle\" x=\"1549\" y=\"-1554.8\" font-family=\"Helvetica,sans-Serif\" font-size=\"14.00\">value = [121, 20]</text>\n<text text-anchor=\"middle\" x=\"1549\" y=\"-1539.8\" font-family=\"Helvetica,sans-Serif\" font-size=\"14.00\">class = Died</text>\n</g>\n<!-- 12&#45;&gt;58 -->\n<g id=\"edge58\" class=\"edge\">\n<title>12-&gt;58</title>\n<path fill=\"none\" stroke=\"black\" d=\"M1549,-1650.91C1549,-1642.65 1549,-1633.86 1549,-1625.3\"/>\n<polygon fill=\"black\" stroke=\"black\" points=\"1552.5,-1625.02 1549,-1615.02 1545.5,-1625.02 1552.5,-1625.02\"/>\n</g>\n<!-- 14 -->\n<g id=\"node15\" class=\"node\">\n<title>14</title>\n<polygon fill=\"#e78d4c\" stroke=\"black\" points=\"1176.5,-1496 1059.5,-1496 1059.5,-1413 1176.5,-1413 1176.5,-1496\"/>\n<text text-anchor=\"middle\" x=\"1118\" y=\"-1480.8\" font-family=\"Helvetica,sans-Serif\" font-size=\"14.00\">Age &lt;= 32.5</text>\n<text text-anchor=\"middle\" x=\"1118\" y=\"-1465.8\" font-family=\"Helvetica,sans-Serif\" font-size=\"14.00\">entropy = 0.424</text>\n<text text-anchor=\"middle\" x=\"1118\" y=\"-1450.8\" font-family=\"Helvetica,sans-Serif\" font-size=\"14.00\">samples = 116</text>\n<text text-anchor=\"middle\" x=\"1118\" y=\"-1435.8\" font-family=\"Helvetica,sans-Serif\" font-size=\"14.00\">value = [106, 10]</text>\n<text text-anchor=\"middle\" x=\"1118\" y=\"-1420.8\" font-family=\"Helvetica,sans-Serif\" font-size=\"14.00\">class = Died</text>\n</g>\n<!-- 13&#45;&gt;14 -->\n<g id=\"edge14\" class=\"edge\">\n<title>13-&gt;14</title>\n<path fill=\"none\" stroke=\"black\" d=\"M1324.36,-1536.76C1321.22,-1535.1 1318.09,-1533.51 1315,-1532 1273.35,-1511.69 1224.85,-1492.8 1186.39,-1478.87\"/>\n<polygon fill=\"black\" stroke=\"black\" points=\"1187.44,-1475.53 1176.84,-1475.44 1185.07,-1482.11 1187.44,-1475.53\"/>\n</g>\n<!-- 57 -->\n<g id=\"node58\" class=\"node\">\n<title>57</title>\n<polygon fill=\"#e58139\" stroke=\"black\" points=\"1373,-1488.5 1271,-1488.5 1271,-1420.5 1373,-1420.5 1373,-1488.5\"/>\n<text text-anchor=\"middle\" x=\"1322\" y=\"-1473.3\" font-family=\"Helvetica,sans-Serif\" font-size=\"14.00\">entropy = 0.0</text>\n<text text-anchor=\"middle\" x=\"1322\" y=\"-1458.3\" font-family=\"Helvetica,sans-Serif\" font-size=\"14.00\">samples = 34</text>\n<text text-anchor=\"middle\" x=\"1322\" y=\"-1443.3\" font-family=\"Helvetica,sans-Serif\" font-size=\"14.00\">value = [34, 0]</text>\n<text text-anchor=\"middle\" x=\"1322\" y=\"-1428.3\" font-family=\"Helvetica,sans-Serif\" font-size=\"14.00\">class = Died</text>\n</g>\n<!-- 13&#45;&gt;57 -->\n<g id=\"edge57\" class=\"edge\">\n<title>13-&gt;57</title>\n<path fill=\"none\" stroke=\"black\" d=\"M1361.84,-1531.91C1356.08,-1520.87 1349.84,-1508.9 1344.04,-1497.77\"/>\n<polygon fill=\"black\" stroke=\"black\" points=\"1347.02,-1495.92 1339.29,-1488.67 1340.81,-1499.15 1347.02,-1495.92\"/>\n</g>\n<!-- 15 -->\n<g id=\"node16\" class=\"node\">\n<title>15</title>\n<polygon fill=\"#e89152\" stroke=\"black\" points=\"978.5,-1377 867.5,-1377 867.5,-1294 978.5,-1294 978.5,-1377\"/>\n<text text-anchor=\"middle\" x=\"923\" y=\"-1361.8\" font-family=\"Helvetica,sans-Serif\" font-size=\"14.00\">Age &lt;= 20.75</text>\n<text text-anchor=\"middle\" x=\"923\" y=\"-1346.8\" font-family=\"Helvetica,sans-Serif\" font-size=\"14.00\">entropy = 0.507</text>\n<text text-anchor=\"middle\" x=\"923\" y=\"-1331.8\" font-family=\"Helvetica,sans-Serif\" font-size=\"14.00\">samples = 89</text>\n<text text-anchor=\"middle\" x=\"923\" y=\"-1316.8\" font-family=\"Helvetica,sans-Serif\" font-size=\"14.00\">value = [79, 10]</text>\n<text text-anchor=\"middle\" x=\"923\" y=\"-1301.8\" font-family=\"Helvetica,sans-Serif\" font-size=\"14.00\">class = Died</text>\n</g>\n<!-- 14&#45;&gt;15 -->\n<g id=\"edge15\" class=\"edge\">\n<title>14-&gt;15</title>\n<path fill=\"none\" stroke=\"black\" d=\"M1059.49,-1418.4C1036.81,-1404.79 1010.76,-1389.16 987.54,-1375.22\"/>\n<polygon fill=\"black\" stroke=\"black\" points=\"989.17,-1372.12 978.79,-1369.97 985.56,-1378.12 989.17,-1372.12\"/>\n</g>\n<!-- 56 -->\n<g id=\"node57\" class=\"node\">\n<title>56</title>\n<polygon fill=\"#e58139\" stroke=\"black\" points=\"1169,-1369.5 1067,-1369.5 1067,-1301.5 1169,-1301.5 1169,-1369.5\"/>\n<text text-anchor=\"middle\" x=\"1118\" y=\"-1354.3\" font-family=\"Helvetica,sans-Serif\" font-size=\"14.00\">entropy = 0.0</text>\n<text text-anchor=\"middle\" x=\"1118\" y=\"-1339.3\" font-family=\"Helvetica,sans-Serif\" font-size=\"14.00\">samples = 27</text>\n<text text-anchor=\"middle\" x=\"1118\" y=\"-1324.3\" font-family=\"Helvetica,sans-Serif\" font-size=\"14.00\">value = [27, 0]</text>\n<text text-anchor=\"middle\" x=\"1118\" y=\"-1309.3\" font-family=\"Helvetica,sans-Serif\" font-size=\"14.00\">class = Died</text>\n</g>\n<!-- 14&#45;&gt;56 -->\n<g id=\"edge56\" class=\"edge\">\n<title>14-&gt;56</title>\n<path fill=\"none\" stroke=\"black\" d=\"M1118,-1412.91C1118,-1402.2 1118,-1390.62 1118,-1379.78\"/>\n<polygon fill=\"black\" stroke=\"black\" points=\"1121.5,-1379.67 1118,-1369.67 1114.5,-1379.67 1121.5,-1379.67\"/>\n</g>\n<!-- 16 -->\n<g id=\"node17\" class=\"node\">\n<title>16</title>\n<polygon fill=\"#e58139\" stroke=\"black\" points=\"849,-1250.5 747,-1250.5 747,-1182.5 849,-1182.5 849,-1250.5\"/>\n<text text-anchor=\"middle\" x=\"798\" y=\"-1235.3\" font-family=\"Helvetica,sans-Serif\" font-size=\"14.00\">entropy = 0.0</text>\n<text text-anchor=\"middle\" x=\"798\" y=\"-1220.3\" font-family=\"Helvetica,sans-Serif\" font-size=\"14.00\">samples = 16</text>\n<text text-anchor=\"middle\" x=\"798\" y=\"-1205.3\" font-family=\"Helvetica,sans-Serif\" font-size=\"14.00\">value = [16, 0]</text>\n<text text-anchor=\"middle\" x=\"798\" y=\"-1190.3\" font-family=\"Helvetica,sans-Serif\" font-size=\"14.00\">class = Died</text>\n</g>\n<!-- 15&#45;&gt;16 -->\n<g id=\"edge16\" class=\"edge\">\n<title>15-&gt;16</title>\n<path fill=\"none\" stroke=\"black\" d=\"M879.63,-1293.91C867.14,-1282.21 853.51,-1269.46 841.03,-1257.78\"/>\n<polygon fill=\"black\" stroke=\"black\" points=\"843.13,-1254.95 833.43,-1250.67 838.34,-1260.06 843.13,-1254.95\"/>\n</g>\n<!-- 17 -->\n<g id=\"node18\" class=\"node\">\n<title>17</title>\n<polygon fill=\"#e99558\" stroke=\"black\" points=\"978.5,-1258 867.5,-1258 867.5,-1175 978.5,-1175 978.5,-1258\"/>\n<text text-anchor=\"middle\" x=\"923\" y=\"-1242.8\" font-family=\"Helvetica,sans-Serif\" font-size=\"14.00\">Fare &lt;= 7.763</text>\n<text text-anchor=\"middle\" x=\"923\" y=\"-1227.8\" font-family=\"Helvetica,sans-Serif\" font-size=\"14.00\">entropy = 0.576</text>\n<text text-anchor=\"middle\" x=\"923\" y=\"-1212.8\" font-family=\"Helvetica,sans-Serif\" font-size=\"14.00\">samples = 73</text>\n<text text-anchor=\"middle\" x=\"923\" y=\"-1197.8\" font-family=\"Helvetica,sans-Serif\" font-size=\"14.00\">value = [63, 10]</text>\n<text text-anchor=\"middle\" x=\"923\" y=\"-1182.8\" font-family=\"Helvetica,sans-Serif\" font-size=\"14.00\">class = Died</text>\n</g>\n<!-- 15&#45;&gt;17 -->\n<g id=\"edge17\" class=\"edge\">\n<title>15-&gt;17</title>\n<path fill=\"none\" stroke=\"black\" d=\"M923,-1293.91C923,-1285.65 923,-1276.86 923,-1268.3\"/>\n<polygon fill=\"black\" stroke=\"black\" points=\"926.5,-1268.02 923,-1258.02 919.5,-1268.02 926.5,-1268.02\"/>\n</g>\n<!-- 18 -->\n<g id=\"node19\" class=\"node\">\n<title>18</title>\n<polygon fill=\"#e88e4e\" stroke=\"black\" points=\"544.5,-1139 433.5,-1139 433.5,-1056 544.5,-1056 544.5,-1139\"/>\n<text text-anchor=\"middle\" x=\"489\" y=\"-1123.8\" font-family=\"Helvetica,sans-Serif\" font-size=\"14.00\">Age &lt;= 27.5</text>\n<text text-anchor=\"middle\" x=\"489\" y=\"-1108.8\" font-family=\"Helvetica,sans-Serif\" font-size=\"14.00\">entropy = 0.451</text>\n<text text-anchor=\"middle\" x=\"489\" y=\"-1093.8\" font-family=\"Helvetica,sans-Serif\" font-size=\"14.00\">samples = 53</text>\n<text text-anchor=\"middle\" x=\"489\" y=\"-1078.8\" font-family=\"Helvetica,sans-Serif\" font-size=\"14.00\">value = [48, 5]</text>\n<text text-anchor=\"middle\" x=\"489\" y=\"-1063.8\" font-family=\"Helvetica,sans-Serif\" font-size=\"14.00\">class = Died</text>\n</g>\n<!-- 17&#45;&gt;18 -->\n<g id=\"edge18\" class=\"edge\">\n<title>17-&gt;18</title>\n<path fill=\"none\" stroke=\"black\" d=\"M867.28,-1179.1C864.19,-1177.62 861.09,-1176.24 858,-1175 756.48,-1134.36 630.23,-1114.18 554.82,-1105.06\"/>\n<polygon fill=\"black\" stroke=\"black\" points=\"554.87,-1101.54 544.52,-1103.85 554.05,-1108.5 554.87,-1101.54\"/>\n</g>\n<!-- 35 -->\n<g id=\"node36\" class=\"node\">\n<title>35</title>\n<polygon fill=\"#eeab7b\" stroke=\"black\" points=\"978.5,-1139 867.5,-1139 867.5,-1056 978.5,-1056 978.5,-1139\"/>\n<text text-anchor=\"middle\" x=\"923\" y=\"-1123.8\" font-family=\"Helvetica,sans-Serif\" font-size=\"14.00\">Age &lt;= 31.5</text>\n<text text-anchor=\"middle\" x=\"923\" y=\"-1108.8\" font-family=\"Helvetica,sans-Serif\" font-size=\"14.00\">entropy = 0.811</text>\n<text text-anchor=\"middle\" x=\"923\" y=\"-1093.8\" font-family=\"Helvetica,sans-Serif\" font-size=\"14.00\">samples = 20</text>\n<text text-anchor=\"middle\" x=\"923\" y=\"-1078.8\" font-family=\"Helvetica,sans-Serif\" font-size=\"14.00\">value = [15, 5]</text>\n<text text-anchor=\"middle\" x=\"923\" y=\"-1063.8\" font-family=\"Helvetica,sans-Serif\" font-size=\"14.00\">class = Died</text>\n</g>\n<!-- 17&#45;&gt;35 -->\n<g id=\"edge35\" class=\"edge\">\n<title>17-&gt;35</title>\n<path fill=\"none\" stroke=\"black\" d=\"M923,-1174.91C923,-1166.65 923,-1157.86 923,-1149.3\"/>\n<polygon fill=\"black\" stroke=\"black\" points=\"926.5,-1149.02 923,-1139.02 919.5,-1149.02 926.5,-1149.02\"/>\n</g>\n<!-- 19 -->\n<g id=\"node20\" class=\"node\">\n<title>19</title>\n<polygon fill=\"#eb9c63\" stroke=\"black\" points=\"353.5,-1020 242.5,-1020 242.5,-937 353.5,-937 353.5,-1020\"/>\n<text text-anchor=\"middle\" x=\"298\" y=\"-1004.8\" font-family=\"Helvetica,sans-Serif\" font-size=\"14.00\">Fare &lt;= 7.013</text>\n<text text-anchor=\"middle\" x=\"298\" y=\"-989.8\" font-family=\"Helvetica,sans-Serif\" font-size=\"14.00\">entropy = 0.672</text>\n<text text-anchor=\"middle\" x=\"298\" y=\"-974.8\" font-family=\"Helvetica,sans-Serif\" font-size=\"14.00\">samples = 17</text>\n<text text-anchor=\"middle\" x=\"298\" y=\"-959.8\" font-family=\"Helvetica,sans-Serif\" font-size=\"14.00\">value = [14, 3]</text>\n<text text-anchor=\"middle\" x=\"298\" y=\"-944.8\" font-family=\"Helvetica,sans-Serif\" font-size=\"14.00\">class = Died</text>\n</g>\n<!-- 18&#45;&gt;19 -->\n<g id=\"edge19\" class=\"edge\">\n<title>18-&gt;19</title>\n<path fill=\"none\" stroke=\"black\" d=\"M433.5,-1062.5C411.23,-1048.86 385.42,-1033.05 362.34,-1018.91\"/>\n<polygon fill=\"black\" stroke=\"black\" points=\"364,-1015.82 353.64,-1013.58 360.34,-1021.79 364,-1015.82\"/>\n</g>\n<!-- 26 -->\n<g id=\"node27\" class=\"node\">\n<title>26</title>\n<polygon fill=\"#e78845\" stroke=\"black\" points=\"541,-1020 437,-1020 437,-937 541,-937 541,-1020\"/>\n<text text-anchor=\"middle\" x=\"489\" y=\"-1004.8\" font-family=\"Helvetica,sans-Serif\" font-size=\"14.00\">Fare &lt;= 7.744</text>\n<text text-anchor=\"middle\" x=\"489\" y=\"-989.8\" font-family=\"Helvetica,sans-Serif\" font-size=\"14.00\">entropy = 0.31</text>\n<text text-anchor=\"middle\" x=\"489\" y=\"-974.8\" font-family=\"Helvetica,sans-Serif\" font-size=\"14.00\">samples = 36</text>\n<text text-anchor=\"middle\" x=\"489\" y=\"-959.8\" font-family=\"Helvetica,sans-Serif\" font-size=\"14.00\">value = [34, 2]</text>\n<text text-anchor=\"middle\" x=\"489\" y=\"-944.8\" font-family=\"Helvetica,sans-Serif\" font-size=\"14.00\">class = Died</text>\n</g>\n<!-- 18&#45;&gt;26 -->\n<g id=\"edge26\" class=\"edge\">\n<title>18-&gt;26</title>\n<path fill=\"none\" stroke=\"black\" d=\"M489,-1055.91C489,-1047.65 489,-1038.86 489,-1030.3\"/>\n<polygon fill=\"black\" stroke=\"black\" points=\"492.5,-1030.02 489,-1020.02 485.5,-1030.02 492.5,-1030.02\"/>\n</g>\n<!-- 20 -->\n<g id=\"node21\" class=\"node\">\n<title>20</title>\n<polygon fill=\"#399de5\" stroke=\"black\" points=\"224,-893.5 108,-893.5 108,-825.5 224,-825.5 224,-893.5\"/>\n<text text-anchor=\"middle\" x=\"166\" y=\"-878.3\" font-family=\"Helvetica,sans-Serif\" font-size=\"14.00\">entropy = 0.0</text>\n<text text-anchor=\"middle\" x=\"166\" y=\"-863.3\" font-family=\"Helvetica,sans-Serif\" font-size=\"14.00\">samples = 2</text>\n<text text-anchor=\"middle\" x=\"166\" y=\"-848.3\" font-family=\"Helvetica,sans-Serif\" font-size=\"14.00\">value = [0, 2]</text>\n<text text-anchor=\"middle\" x=\"166\" y=\"-833.3\" font-family=\"Helvetica,sans-Serif\" font-size=\"14.00\">class = Survived</text>\n</g>\n<!-- 19&#45;&gt;20 -->\n<g id=\"edge20\" class=\"edge\">\n<title>19-&gt;20</title>\n<path fill=\"none\" stroke=\"black\" d=\"M252.2,-936.91C238.88,-925.1 224.35,-912.22 211.07,-900.45\"/>\n<polygon fill=\"black\" stroke=\"black\" points=\"213.22,-897.68 203.42,-893.67 208.58,-902.92 213.22,-897.68\"/>\n</g>\n<!-- 21 -->\n<g id=\"node22\" class=\"node\">\n<title>21</title>\n<polygon fill=\"#e78a47\" stroke=\"black\" points=\"353.5,-901 242.5,-901 242.5,-818 353.5,-818 353.5,-901\"/>\n<text text-anchor=\"middle\" x=\"298\" y=\"-885.8\" font-family=\"Helvetica,sans-Serif\" font-size=\"14.00\">Fare &lt;= 7.196</text>\n<text text-anchor=\"middle\" x=\"298\" y=\"-870.8\" font-family=\"Helvetica,sans-Serif\" font-size=\"14.00\">entropy = 0.353</text>\n<text text-anchor=\"middle\" x=\"298\" y=\"-855.8\" font-family=\"Helvetica,sans-Serif\" font-size=\"14.00\">samples = 15</text>\n<text text-anchor=\"middle\" x=\"298\" y=\"-840.8\" font-family=\"Helvetica,sans-Serif\" font-size=\"14.00\">value = [14, 1]</text>\n<text text-anchor=\"middle\" x=\"298\" y=\"-825.8\" font-family=\"Helvetica,sans-Serif\" font-size=\"14.00\">class = Died</text>\n</g>\n<!-- 19&#45;&gt;21 -->\n<g id=\"edge21\" class=\"edge\">\n<title>19-&gt;21</title>\n<path fill=\"none\" stroke=\"black\" d=\"M298,-936.91C298,-928.65 298,-919.86 298,-911.3\"/>\n<polygon fill=\"black\" stroke=\"black\" points=\"301.5,-911.02 298,-901.02 294.5,-911.02 301.5,-911.02\"/>\n</g>\n<!-- 22 -->\n<g id=\"node23\" class=\"node\">\n<title>22</title>\n<polygon fill=\"#eca06a\" stroke=\"black\" points=\"227.5,-782 116.5,-782 116.5,-699 227.5,-699 227.5,-782\"/>\n<text text-anchor=\"middle\" x=\"172\" y=\"-766.8\" font-family=\"Helvetica,sans-Serif\" font-size=\"14.00\">Fare &lt;= 7.133</text>\n<text text-anchor=\"middle\" x=\"172\" y=\"-751.8\" font-family=\"Helvetica,sans-Serif\" font-size=\"14.00\">entropy = 0.722</text>\n<text text-anchor=\"middle\" x=\"172\" y=\"-736.8\" font-family=\"Helvetica,sans-Serif\" font-size=\"14.00\">samples = 5</text>\n<text text-anchor=\"middle\" x=\"172\" y=\"-721.8\" font-family=\"Helvetica,sans-Serif\" font-size=\"14.00\">value = [4, 1]</text>\n<text text-anchor=\"middle\" x=\"172\" y=\"-706.8\" font-family=\"Helvetica,sans-Serif\" font-size=\"14.00\">class = Died</text>\n</g>\n<!-- 21&#45;&gt;22 -->\n<g id=\"edge22\" class=\"edge\">\n<title>21-&gt;22</title>\n<path fill=\"none\" stroke=\"black\" d=\"M254.28,-817.91C244.22,-808.56 233.43,-798.54 223.08,-788.93\"/>\n<polygon fill=\"black\" stroke=\"black\" points=\"225.35,-786.26 215.64,-782.02 220.58,-791.39 225.35,-786.26\"/>\n</g>\n<!-- 25 -->\n<g id=\"node26\" class=\"node\">\n<title>25</title>\n<polygon fill=\"#e58139\" stroke=\"black\" points=\"349,-774.5 247,-774.5 247,-706.5 349,-706.5 349,-774.5\"/>\n<text text-anchor=\"middle\" x=\"298\" y=\"-759.3\" font-family=\"Helvetica,sans-Serif\" font-size=\"14.00\">entropy = 0.0</text>\n<text text-anchor=\"middle\" x=\"298\" y=\"-744.3\" font-family=\"Helvetica,sans-Serif\" font-size=\"14.00\">samples = 10</text>\n<text text-anchor=\"middle\" x=\"298\" y=\"-729.3\" font-family=\"Helvetica,sans-Serif\" font-size=\"14.00\">value = [10, 0]</text>\n<text text-anchor=\"middle\" x=\"298\" y=\"-714.3\" font-family=\"Helvetica,sans-Serif\" font-size=\"14.00\">class = Died</text>\n</g>\n<!-- 21&#45;&gt;25 -->\n<g id=\"edge25\" class=\"edge\">\n<title>21-&gt;25</title>\n<path fill=\"none\" stroke=\"black\" d=\"M298,-817.91C298,-807.2 298,-795.62 298,-784.78\"/>\n<polygon fill=\"black\" stroke=\"black\" points=\"301.5,-784.67 298,-774.67 294.5,-784.67 301.5,-784.67\"/>\n</g>\n<!-- 23 -->\n<g id=\"node24\" class=\"node\">\n<title>23</title>\n<polygon fill=\"#e58139\" stroke=\"black\" points=\"96,-655.5 0,-655.5 0,-587.5 96,-587.5 96,-655.5\"/>\n<text text-anchor=\"middle\" x=\"48\" y=\"-640.3\" font-family=\"Helvetica,sans-Serif\" font-size=\"14.00\">entropy = 0.0</text>\n<text text-anchor=\"middle\" x=\"48\" y=\"-625.3\" font-family=\"Helvetica,sans-Serif\" font-size=\"14.00\">samples = 4</text>\n<text text-anchor=\"middle\" x=\"48\" y=\"-610.3\" font-family=\"Helvetica,sans-Serif\" font-size=\"14.00\">value = [4, 0]</text>\n<text text-anchor=\"middle\" x=\"48\" y=\"-595.3\" font-family=\"Helvetica,sans-Serif\" font-size=\"14.00\">class = Died</text>\n</g>\n<!-- 22&#45;&gt;23 -->\n<g id=\"edge23\" class=\"edge\">\n<title>22-&gt;23</title>\n<path fill=\"none\" stroke=\"black\" d=\"M128.98,-698.91C116.58,-687.21 103.07,-674.46 90.69,-662.78\"/>\n<polygon fill=\"black\" stroke=\"black\" points=\"92.83,-659.98 83.15,-655.67 88.02,-665.08 92.83,-659.98\"/>\n</g>\n<!-- 24 -->\n<g id=\"node25\" class=\"node\">\n<title>24</title>\n<polygon fill=\"#399de5\" stroke=\"black\" points=\"230,-655.5 114,-655.5 114,-587.5 230,-587.5 230,-655.5\"/>\n<text text-anchor=\"middle\" x=\"172\" y=\"-640.3\" font-family=\"Helvetica,sans-Serif\" font-size=\"14.00\">entropy = 0.0</text>\n<text text-anchor=\"middle\" x=\"172\" y=\"-625.3\" font-family=\"Helvetica,sans-Serif\" font-size=\"14.00\">samples = 1</text>\n<text text-anchor=\"middle\" x=\"172\" y=\"-610.3\" font-family=\"Helvetica,sans-Serif\" font-size=\"14.00\">value = [0, 1]</text>\n<text text-anchor=\"middle\" x=\"172\" y=\"-595.3\" font-family=\"Helvetica,sans-Serif\" font-size=\"14.00\">class = Survived</text>\n</g>\n<!-- 22&#45;&gt;24 -->\n<g id=\"edge24\" class=\"edge\">\n<title>22-&gt;24</title>\n<path fill=\"none\" stroke=\"black\" d=\"M172,-698.91C172,-688.2 172,-676.62 172,-665.78\"/>\n<polygon fill=\"black\" stroke=\"black\" points=\"175.5,-665.67 172,-655.67 168.5,-665.67 175.5,-665.67\"/>\n</g>\n<!-- 27 -->\n<g id=\"node28\" class=\"node\">\n<title>27</title>\n<polygon fill=\"#e58139\" stroke=\"black\" points=\"477,-893.5 375,-893.5 375,-825.5 477,-825.5 477,-893.5\"/>\n<text text-anchor=\"middle\" x=\"426\" y=\"-878.3\" font-family=\"Helvetica,sans-Serif\" font-size=\"14.00\">entropy = 0.0</text>\n<text text-anchor=\"middle\" x=\"426\" y=\"-863.3\" font-family=\"Helvetica,sans-Serif\" font-size=\"14.00\">samples = 22</text>\n<text text-anchor=\"middle\" x=\"426\" y=\"-848.3\" font-family=\"Helvetica,sans-Serif\" font-size=\"14.00\">value = [22, 0]</text>\n<text text-anchor=\"middle\" x=\"426\" y=\"-833.3\" font-family=\"Helvetica,sans-Serif\" font-size=\"14.00\">class = Died</text>\n</g>\n<!-- 26&#45;&gt;27 -->\n<g id=\"edge27\" class=\"edge\">\n<title>26-&gt;27</title>\n<path fill=\"none\" stroke=\"black\" d=\"M467.14,-936.91C461.2,-925.87 454.75,-913.9 448.76,-902.77\"/>\n<polygon fill=\"black\" stroke=\"black\" points=\"451.68,-900.81 443.86,-893.67 445.52,-904.13 451.68,-900.81\"/>\n</g>\n<!-- 28 -->\n<g id=\"node29\" class=\"node\">\n<title>28</title>\n<polygon fill=\"#e9965a\" stroke=\"black\" points=\"606.5,-901 495.5,-901 495.5,-818 606.5,-818 606.5,-901\"/>\n<text text-anchor=\"middle\" x=\"551\" y=\"-885.8\" font-family=\"Helvetica,sans-Serif\" font-size=\"14.00\">Age &lt;= 28.5</text>\n<text text-anchor=\"middle\" x=\"551\" y=\"-870.8\" font-family=\"Helvetica,sans-Serif\" font-size=\"14.00\">entropy = 0.592</text>\n<text text-anchor=\"middle\" x=\"551\" y=\"-855.8\" font-family=\"Helvetica,sans-Serif\" font-size=\"14.00\">samples = 14</text>\n<text text-anchor=\"middle\" x=\"551\" y=\"-840.8\" font-family=\"Helvetica,sans-Serif\" font-size=\"14.00\">value = [12, 2]</text>\n<text text-anchor=\"middle\" x=\"551\" y=\"-825.8\" font-family=\"Helvetica,sans-Serif\" font-size=\"14.00\">class = Died</text>\n</g>\n<!-- 26&#45;&gt;28 -->\n<g id=\"edge28\" class=\"edge\">\n<title>26-&gt;28</title>\n<path fill=\"none\" stroke=\"black\" d=\"M510.51,-936.91C515.13,-928.2 520.05,-918.9 524.83,-909.89\"/>\n<polygon fill=\"black\" stroke=\"black\" points=\"527.94,-911.5 529.53,-901.02 521.75,-908.22 527.94,-911.5\"/>\n</g>\n<!-- 29 -->\n<g id=\"node30\" class=\"node\">\n<title>29</title>\n<polygon fill=\"#e88e4d\" stroke=\"black\" points=\"480.5,-782 369.5,-782 369.5,-699 480.5,-699 480.5,-782\"/>\n<text text-anchor=\"middle\" x=\"425\" y=\"-766.8\" font-family=\"Helvetica,sans-Serif\" font-size=\"14.00\">SibSp &lt;= 0.5</text>\n<text text-anchor=\"middle\" x=\"425\" y=\"-751.8\" font-family=\"Helvetica,sans-Serif\" font-size=\"14.00\">entropy = 0.439</text>\n<text text-anchor=\"middle\" x=\"425\" y=\"-736.8\" font-family=\"Helvetica,sans-Serif\" font-size=\"14.00\">samples = 11</text>\n<text text-anchor=\"middle\" x=\"425\" y=\"-721.8\" font-family=\"Helvetica,sans-Serif\" font-size=\"14.00\">value = [10, 1]</text>\n<text text-anchor=\"middle\" x=\"425\" y=\"-706.8\" font-family=\"Helvetica,sans-Serif\" font-size=\"14.00\">class = Died</text>\n</g>\n<!-- 28&#45;&gt;29 -->\n<g id=\"edge29\" class=\"edge\">\n<title>28-&gt;29</title>\n<path fill=\"none\" stroke=\"black\" d=\"M507.28,-817.91C497.22,-808.56 486.43,-798.54 476.08,-788.93\"/>\n<polygon fill=\"black\" stroke=\"black\" points=\"478.35,-786.26 468.64,-782.02 473.58,-791.39 478.35,-786.26\"/>\n</g>\n<!-- 32 -->\n<g id=\"node33\" class=\"node\">\n<title>32</title>\n<polygon fill=\"#f2c09c\" stroke=\"black\" points=\"609.5,-782 498.5,-782 498.5,-699 609.5,-699 609.5,-782\"/>\n<text text-anchor=\"middle\" x=\"554\" y=\"-766.8\" font-family=\"Helvetica,sans-Serif\" font-size=\"14.00\">Age &lt;= 30.0</text>\n<text text-anchor=\"middle\" x=\"554\" y=\"-751.8\" font-family=\"Helvetica,sans-Serif\" font-size=\"14.00\">entropy = 0.918</text>\n<text text-anchor=\"middle\" x=\"554\" y=\"-736.8\" font-family=\"Helvetica,sans-Serif\" font-size=\"14.00\">samples = 3</text>\n<text text-anchor=\"middle\" x=\"554\" y=\"-721.8\" font-family=\"Helvetica,sans-Serif\" font-size=\"14.00\">value = [2, 1]</text>\n<text text-anchor=\"middle\" x=\"554\" y=\"-706.8\" font-family=\"Helvetica,sans-Serif\" font-size=\"14.00\">class = Died</text>\n</g>\n<!-- 28&#45;&gt;32 -->\n<g id=\"edge32\" class=\"edge\">\n<title>28-&gt;32</title>\n<path fill=\"none\" stroke=\"black\" d=\"M552.04,-817.91C552.25,-809.56 552.48,-800.67 552.7,-792.02\"/>\n<polygon fill=\"black\" stroke=\"black\" points=\"556.2,-792.11 552.96,-782.02 549.21,-791.93 556.2,-792.11\"/>\n</g>\n<!-- 30 -->\n<g id=\"node31\" class=\"node\">\n<title>30</title>\n<polygon fill=\"#e88f4f\" stroke=\"black\" points=\"359.5,-655.5 248.5,-655.5 248.5,-587.5 359.5,-587.5 359.5,-655.5\"/>\n<text text-anchor=\"middle\" x=\"304\" y=\"-640.3\" font-family=\"Helvetica,sans-Serif\" font-size=\"14.00\">entropy = 0.469</text>\n<text text-anchor=\"middle\" x=\"304\" y=\"-625.3\" font-family=\"Helvetica,sans-Serif\" font-size=\"14.00\">samples = 10</text>\n<text text-anchor=\"middle\" x=\"304\" y=\"-610.3\" font-family=\"Helvetica,sans-Serif\" font-size=\"14.00\">value = [9, 1]</text>\n<text text-anchor=\"middle\" x=\"304\" y=\"-595.3\" font-family=\"Helvetica,sans-Serif\" font-size=\"14.00\">class = Died</text>\n</g>\n<!-- 29&#45;&gt;30 -->\n<g id=\"edge30\" class=\"edge\">\n<title>29-&gt;30</title>\n<path fill=\"none\" stroke=\"black\" d=\"M383.02,-698.91C370.92,-687.21 357.73,-674.46 345.66,-662.78\"/>\n<polygon fill=\"black\" stroke=\"black\" points=\"347.92,-660.1 338.3,-655.67 343.06,-665.13 347.92,-660.1\"/>\n</g>\n<!-- 31 -->\n<g id=\"node32\" class=\"node\">\n<title>31</title>\n<polygon fill=\"#e58139\" stroke=\"black\" points=\"474,-655.5 378,-655.5 378,-587.5 474,-587.5 474,-655.5\"/>\n<text text-anchor=\"middle\" x=\"426\" y=\"-640.3\" font-family=\"Helvetica,sans-Serif\" font-size=\"14.00\">entropy = 0.0</text>\n<text text-anchor=\"middle\" x=\"426\" y=\"-625.3\" font-family=\"Helvetica,sans-Serif\" font-size=\"14.00\">samples = 1</text>\n<text text-anchor=\"middle\" x=\"426\" y=\"-610.3\" font-family=\"Helvetica,sans-Serif\" font-size=\"14.00\">value = [1, 0]</text>\n<text text-anchor=\"middle\" x=\"426\" y=\"-595.3\" font-family=\"Helvetica,sans-Serif\" font-size=\"14.00\">class = Died</text>\n</g>\n<!-- 29&#45;&gt;31 -->\n<g id=\"edge31\" class=\"edge\">\n<title>29-&gt;31</title>\n<path fill=\"none\" stroke=\"black\" d=\"M425.35,-698.91C425.44,-688.2 425.54,-676.62 425.63,-665.78\"/>\n<polygon fill=\"black\" stroke=\"black\" points=\"429.13,-665.7 425.72,-655.67 422.13,-665.64 429.13,-665.7\"/>\n</g>\n<!-- 33 -->\n<g id=\"node34\" class=\"node\">\n<title>33</title>\n<polygon fill=\"#399de5\" stroke=\"black\" points=\"608,-655.5 492,-655.5 492,-587.5 608,-587.5 608,-655.5\"/>\n<text text-anchor=\"middle\" x=\"550\" y=\"-640.3\" font-family=\"Helvetica,sans-Serif\" font-size=\"14.00\">entropy = 0.0</text>\n<text text-anchor=\"middle\" x=\"550\" y=\"-625.3\" font-family=\"Helvetica,sans-Serif\" font-size=\"14.00\">samples = 1</text>\n<text text-anchor=\"middle\" x=\"550\" y=\"-610.3\" font-family=\"Helvetica,sans-Serif\" font-size=\"14.00\">value = [0, 1]</text>\n<text text-anchor=\"middle\" x=\"550\" y=\"-595.3\" font-family=\"Helvetica,sans-Serif\" font-size=\"14.00\">class = Survived</text>\n</g>\n<!-- 32&#45;&gt;33 -->\n<g id=\"edge33\" class=\"edge\">\n<title>32-&gt;33</title>\n<path fill=\"none\" stroke=\"black\" d=\"M552.61,-698.91C552.25,-688.2 551.85,-676.62 551.48,-665.78\"/>\n<polygon fill=\"black\" stroke=\"black\" points=\"554.97,-665.54 551.13,-655.67 547.98,-665.78 554.97,-665.54\"/>\n</g>\n<!-- 34 -->\n<g id=\"node35\" class=\"node\">\n<title>34</title>\n<polygon fill=\"#e58139\" stroke=\"black\" points=\"722,-655.5 626,-655.5 626,-587.5 722,-587.5 722,-655.5\"/>\n<text text-anchor=\"middle\" x=\"674\" y=\"-640.3\" font-family=\"Helvetica,sans-Serif\" font-size=\"14.00\">entropy = 0.0</text>\n<text text-anchor=\"middle\" x=\"674\" y=\"-625.3\" font-family=\"Helvetica,sans-Serif\" font-size=\"14.00\">samples = 2</text>\n<text text-anchor=\"middle\" x=\"674\" y=\"-610.3\" font-family=\"Helvetica,sans-Serif\" font-size=\"14.00\">value = [2, 0]</text>\n<text text-anchor=\"middle\" x=\"674\" y=\"-595.3\" font-family=\"Helvetica,sans-Serif\" font-size=\"14.00\">class = Died</text>\n</g>\n<!-- 32&#45;&gt;34 -->\n<g id=\"edge34\" class=\"edge\">\n<title>32-&gt;34</title>\n<path fill=\"none\" stroke=\"black\" d=\"M595.63,-698.91C607.63,-687.21 620.71,-674.46 632.69,-662.78\"/>\n<polygon fill=\"black\" stroke=\"black\" points=\"635.27,-665.15 639.98,-655.67 630.38,-660.14 635.27,-665.15\"/>\n</g>\n<!-- 36 -->\n<g id=\"node37\" class=\"node\">\n<title>36</title>\n<polygon fill=\"#eca36e\" stroke=\"black\" points=\"851.5,-1020 740.5,-1020 740.5,-937 851.5,-937 851.5,-1020\"/>\n<text text-anchor=\"middle\" x=\"796\" y=\"-1004.8\" font-family=\"Helvetica,sans-Serif\" font-size=\"14.00\">Fare &lt;= 7.798</text>\n<text text-anchor=\"middle\" x=\"796\" y=\"-989.8\" font-family=\"Helvetica,sans-Serif\" font-size=\"14.00\">entropy = 0.742</text>\n<text text-anchor=\"middle\" x=\"796\" y=\"-974.8\" font-family=\"Helvetica,sans-Serif\" font-size=\"14.00\">samples = 19</text>\n<text text-anchor=\"middle\" x=\"796\" y=\"-959.8\" font-family=\"Helvetica,sans-Serif\" font-size=\"14.00\">value = [15, 4]</text>\n<text text-anchor=\"middle\" x=\"796\" y=\"-944.8\" font-family=\"Helvetica,sans-Serif\" font-size=\"14.00\">class = Died</text>\n</g>\n<!-- 35&#45;&gt;36 -->\n<g id=\"edge36\" class=\"edge\">\n<title>35-&gt;36</title>\n<path fill=\"none\" stroke=\"black\" d=\"M878.94,-1055.91C868.79,-1046.56 857.91,-1036.54 847.48,-1026.93\"/>\n<polygon fill=\"black\" stroke=\"black\" points=\"849.71,-1024.22 839.98,-1020.02 844.97,-1029.37 849.71,-1024.22\"/>\n</g>\n<!-- 55 -->\n<g id=\"node56\" class=\"node\">\n<title>55</title>\n<polygon fill=\"#399de5\" stroke=\"black\" points=\"986,-1012.5 870,-1012.5 870,-944.5 986,-944.5 986,-1012.5\"/>\n<text text-anchor=\"middle\" x=\"928\" y=\"-997.3\" font-family=\"Helvetica,sans-Serif\" font-size=\"14.00\">entropy = 0.0</text>\n<text text-anchor=\"middle\" x=\"928\" y=\"-982.3\" font-family=\"Helvetica,sans-Serif\" font-size=\"14.00\">samples = 1</text>\n<text text-anchor=\"middle\" x=\"928\" y=\"-967.3\" font-family=\"Helvetica,sans-Serif\" font-size=\"14.00\">value = [0, 1]</text>\n<text text-anchor=\"middle\" x=\"928\" y=\"-952.3\" font-family=\"Helvetica,sans-Serif\" font-size=\"14.00\">class = Survived</text>\n</g>\n<!-- 35&#45;&gt;55 -->\n<g id=\"edge55\" class=\"edge\">\n<title>35-&gt;55</title>\n<path fill=\"none\" stroke=\"black\" d=\"M924.73,-1055.91C925.19,-1045.2 925.69,-1033.62 926.15,-1022.78\"/>\n<polygon fill=\"black\" stroke=\"black\" points=\"929.65,-1022.81 926.58,-1012.67 922.66,-1022.51 929.65,-1022.81\"/>\n</g>\n<!-- 37 -->\n<g id=\"node38\" class=\"node\">\n<title>37</title>\n<polygon fill=\"#f1b991\" stroke=\"black\" points=\"848,-901 744,-901 744,-818 848,-818 848,-901\"/>\n<text text-anchor=\"middle\" x=\"796\" y=\"-885.8\" font-family=\"Helvetica,sans-Serif\" font-size=\"14.00\">Age &lt;= 28.5</text>\n<text text-anchor=\"middle\" x=\"796\" y=\"-870.8\" font-family=\"Helvetica,sans-Serif\" font-size=\"14.00\">entropy = 0.89</text>\n<text text-anchor=\"middle\" x=\"796\" y=\"-855.8\" font-family=\"Helvetica,sans-Serif\" font-size=\"14.00\">samples = 13</text>\n<text text-anchor=\"middle\" x=\"796\" y=\"-840.8\" font-family=\"Helvetica,sans-Serif\" font-size=\"14.00\">value = [9, 4]</text>\n<text text-anchor=\"middle\" x=\"796\" y=\"-825.8\" font-family=\"Helvetica,sans-Serif\" font-size=\"14.00\">class = Died</text>\n</g>\n<!-- 36&#45;&gt;37 -->\n<g id=\"edge37\" class=\"edge\">\n<title>36-&gt;37</title>\n<path fill=\"none\" stroke=\"black\" d=\"M796,-936.91C796,-928.65 796,-919.86 796,-911.3\"/>\n<polygon fill=\"black\" stroke=\"black\" points=\"799.5,-911.02 796,-901.02 792.5,-911.02 799.5,-911.02\"/>\n</g>\n<!-- 54 -->\n<g id=\"node55\" class=\"node\">\n<title>54</title>\n<polygon fill=\"#e58139\" stroke=\"black\" points=\"962,-893.5 866,-893.5 866,-825.5 962,-825.5 962,-893.5\"/>\n<text text-anchor=\"middle\" x=\"914\" y=\"-878.3\" font-family=\"Helvetica,sans-Serif\" font-size=\"14.00\">entropy = 0.0</text>\n<text text-anchor=\"middle\" x=\"914\" y=\"-863.3\" font-family=\"Helvetica,sans-Serif\" font-size=\"14.00\">samples = 6</text>\n<text text-anchor=\"middle\" x=\"914\" y=\"-848.3\" font-family=\"Helvetica,sans-Serif\" font-size=\"14.00\">value = [6, 0]</text>\n<text text-anchor=\"middle\" x=\"914\" y=\"-833.3\" font-family=\"Helvetica,sans-Serif\" font-size=\"14.00\">class = Died</text>\n</g>\n<!-- 36&#45;&gt;54 -->\n<g id=\"edge54\" class=\"edge\">\n<title>36-&gt;54</title>\n<path fill=\"none\" stroke=\"black\" d=\"M836.94,-936.91C848.74,-925.21 861.6,-912.46 873.38,-900.78\"/>\n<polygon fill=\"black\" stroke=\"black\" points=\"875.91,-903.19 880.55,-893.67 870.98,-898.22 875.91,-903.19\"/>\n</g>\n<!-- 38 -->\n<g id=\"node39\" class=\"node\">\n<title>38</title>\n<polygon fill=\"#f4c9aa\" stroke=\"black\" points=\"851.5,-782 740.5,-782 740.5,-699 851.5,-699 851.5,-782\"/>\n<text text-anchor=\"middle\" x=\"796\" y=\"-766.8\" font-family=\"Helvetica,sans-Serif\" font-size=\"14.00\">Age &lt;= 26.5</text>\n<text text-anchor=\"middle\" x=\"796\" y=\"-751.8\" font-family=\"Helvetica,sans-Serif\" font-size=\"14.00\">entropy = 0.946</text>\n<text text-anchor=\"middle\" x=\"796\" y=\"-736.8\" font-family=\"Helvetica,sans-Serif\" font-size=\"14.00\">samples = 11</text>\n<text text-anchor=\"middle\" x=\"796\" y=\"-721.8\" font-family=\"Helvetica,sans-Serif\" font-size=\"14.00\">value = [7, 4]</text>\n<text text-anchor=\"middle\" x=\"796\" y=\"-706.8\" font-family=\"Helvetica,sans-Serif\" font-size=\"14.00\">class = Died</text>\n</g>\n<!-- 37&#45;&gt;38 -->\n<g id=\"edge38\" class=\"edge\">\n<title>37-&gt;38</title>\n<path fill=\"none\" stroke=\"black\" d=\"M796,-817.91C796,-809.65 796,-800.86 796,-792.3\"/>\n<polygon fill=\"black\" stroke=\"black\" points=\"799.5,-792.02 796,-782.02 792.5,-792.02 799.5,-792.02\"/>\n</g>\n<!-- 53 -->\n<g id=\"node54\" class=\"node\">\n<title>53</title>\n<polygon fill=\"#e58139\" stroke=\"black\" points=\"966,-774.5 870,-774.5 870,-706.5 966,-706.5 966,-774.5\"/>\n<text text-anchor=\"middle\" x=\"918\" y=\"-759.3\" font-family=\"Helvetica,sans-Serif\" font-size=\"14.00\">entropy = 0.0</text>\n<text text-anchor=\"middle\" x=\"918\" y=\"-744.3\" font-family=\"Helvetica,sans-Serif\" font-size=\"14.00\">samples = 2</text>\n<text text-anchor=\"middle\" x=\"918\" y=\"-729.3\" font-family=\"Helvetica,sans-Serif\" font-size=\"14.00\">value = [2, 0]</text>\n<text text-anchor=\"middle\" x=\"918\" y=\"-714.3\" font-family=\"Helvetica,sans-Serif\" font-size=\"14.00\">class = Died</text>\n</g>\n<!-- 37&#45;&gt;53 -->\n<g id=\"edge53\" class=\"edge\">\n<title>37-&gt;53</title>\n<path fill=\"none\" stroke=\"black\" d=\"M838.33,-817.91C850.52,-806.21 863.82,-793.46 876,-781.78\"/>\n<polygon fill=\"black\" stroke=\"black\" points=\"878.62,-784.11 883.42,-774.67 873.78,-779.06 878.62,-784.11\"/>\n</g>\n<!-- 39 -->\n<g id=\"node40\" class=\"node\">\n<title>39</title>\n<polygon fill=\"#efb388\" stroke=\"black\" points=\"851.5,-663 740.5,-663 740.5,-580 851.5,-580 851.5,-663\"/>\n<text text-anchor=\"middle\" x=\"796\" y=\"-647.8\" font-family=\"Helvetica,sans-Serif\" font-size=\"14.00\">Age &lt;= 25.5</text>\n<text text-anchor=\"middle\" x=\"796\" y=\"-632.8\" font-family=\"Helvetica,sans-Serif\" font-size=\"14.00\">entropy = 0.863</text>\n<text text-anchor=\"middle\" x=\"796\" y=\"-617.8\" font-family=\"Helvetica,sans-Serif\" font-size=\"14.00\">samples = 7</text>\n<text text-anchor=\"middle\" x=\"796\" y=\"-602.8\" font-family=\"Helvetica,sans-Serif\" font-size=\"14.00\">value = [5, 2]</text>\n<text text-anchor=\"middle\" x=\"796\" y=\"-587.8\" font-family=\"Helvetica,sans-Serif\" font-size=\"14.00\">class = Died</text>\n</g>\n<!-- 38&#45;&gt;39 -->\n<g id=\"edge39\" class=\"edge\">\n<title>38-&gt;39</title>\n<path fill=\"none\" stroke=\"black\" d=\"M796,-698.91C796,-690.65 796,-681.86 796,-673.3\"/>\n<polygon fill=\"black\" stroke=\"black\" points=\"799.5,-673.02 796,-663.02 792.5,-673.02 799.5,-673.02\"/>\n</g>\n<!-- 48 -->\n<g id=\"node49\" class=\"node\">\n<title>48</title>\n<polygon fill=\"#ffffff\" stroke=\"black\" points=\"968,-663 872,-663 872,-580 968,-580 968,-663\"/>\n<text text-anchor=\"middle\" x=\"920\" y=\"-647.8\" font-family=\"Helvetica,sans-Serif\" font-size=\"14.00\">Age &lt;= 27.5</text>\n<text text-anchor=\"middle\" x=\"920\" y=\"-632.8\" font-family=\"Helvetica,sans-Serif\" font-size=\"14.00\">entropy = 1.0</text>\n<text text-anchor=\"middle\" x=\"920\" y=\"-617.8\" font-family=\"Helvetica,sans-Serif\" font-size=\"14.00\">samples = 4</text>\n<text text-anchor=\"middle\" x=\"920\" y=\"-602.8\" font-family=\"Helvetica,sans-Serif\" font-size=\"14.00\">value = [2, 2]</text>\n<text text-anchor=\"middle\" x=\"920\" y=\"-587.8\" font-family=\"Helvetica,sans-Serif\" font-size=\"14.00\">class = Died</text>\n</g>\n<!-- 38&#45;&gt;48 -->\n<g id=\"edge48\" class=\"edge\">\n<title>38-&gt;48</title>\n<path fill=\"none\" stroke=\"black\" d=\"M839.02,-698.91C848.93,-689.56 859.55,-679.54 869.73,-669.93\"/>\n<polygon fill=\"black\" stroke=\"black\" points=\"872.18,-672.43 877.05,-663.02 867.38,-667.34 872.18,-672.43\"/>\n</g>\n<!-- 40 -->\n<g id=\"node41\" class=\"node\">\n<title>40</title>\n<polygon fill=\"#f2c09c\" stroke=\"black\" points=\"729.5,-544 618.5,-544 618.5,-461 729.5,-461 729.5,-544\"/>\n<text text-anchor=\"middle\" x=\"674\" y=\"-528.8\" font-family=\"Helvetica,sans-Serif\" font-size=\"14.00\">Age &lt;= 21.5</text>\n<text text-anchor=\"middle\" x=\"674\" y=\"-513.8\" font-family=\"Helvetica,sans-Serif\" font-size=\"14.00\">entropy = 0.918</text>\n<text text-anchor=\"middle\" x=\"674\" y=\"-498.8\" font-family=\"Helvetica,sans-Serif\" font-size=\"14.00\">samples = 6</text>\n<text text-anchor=\"middle\" x=\"674\" y=\"-483.8\" font-family=\"Helvetica,sans-Serif\" font-size=\"14.00\">value = [4, 2]</text>\n<text text-anchor=\"middle\" x=\"674\" y=\"-468.8\" font-family=\"Helvetica,sans-Serif\" font-size=\"14.00\">class = Died</text>\n</g>\n<!-- 39&#45;&gt;40 -->\n<g id=\"edge40\" class=\"edge\">\n<title>39-&gt;40</title>\n<path fill=\"none\" stroke=\"black\" d=\"M753.67,-579.91C744.02,-570.65 733.68,-560.73 723.75,-551.21\"/>\n<polygon fill=\"black\" stroke=\"black\" points=\"725.89,-548.42 716.25,-544.02 721.05,-553.47 725.89,-548.42\"/>\n</g>\n<!-- 47 -->\n<g id=\"node48\" class=\"node\">\n<title>47</title>\n<polygon fill=\"#e58139\" stroke=\"black\" points=\"844,-536.5 748,-536.5 748,-468.5 844,-468.5 844,-536.5\"/>\n<text text-anchor=\"middle\" x=\"796\" y=\"-521.3\" font-family=\"Helvetica,sans-Serif\" font-size=\"14.00\">entropy = 0.0</text>\n<text text-anchor=\"middle\" x=\"796\" y=\"-506.3\" font-family=\"Helvetica,sans-Serif\" font-size=\"14.00\">samples = 1</text>\n<text text-anchor=\"middle\" x=\"796\" y=\"-491.3\" font-family=\"Helvetica,sans-Serif\" font-size=\"14.00\">value = [1, 0]</text>\n<text text-anchor=\"middle\" x=\"796\" y=\"-476.3\" font-family=\"Helvetica,sans-Serif\" font-size=\"14.00\">class = Died</text>\n</g>\n<!-- 39&#45;&gt;47 -->\n<g id=\"edge47\" class=\"edge\">\n<title>39-&gt;47</title>\n<path fill=\"none\" stroke=\"black\" d=\"M796,-579.91C796,-569.2 796,-557.62 796,-546.78\"/>\n<polygon fill=\"black\" stroke=\"black\" points=\"799.5,-546.67 796,-536.67 792.5,-546.67 799.5,-546.67\"/>\n</g>\n<!-- 41 -->\n<g id=\"node42\" class=\"node\">\n<title>41</title>\n<polygon fill=\"#ffffff\" stroke=\"black\" points=\"663,-425 561,-425 561,-342 663,-342 663,-425\"/>\n<text text-anchor=\"middle\" x=\"612\" y=\"-409.8\" font-family=\"Helvetica,sans-Serif\" font-size=\"14.00\">Fare &lt;= 7.785</text>\n<text text-anchor=\"middle\" x=\"612\" y=\"-394.8\" font-family=\"Helvetica,sans-Serif\" font-size=\"14.00\">entropy = 1.0</text>\n<text text-anchor=\"middle\" x=\"612\" y=\"-379.8\" font-family=\"Helvetica,sans-Serif\" font-size=\"14.00\">samples = 2</text>\n<text text-anchor=\"middle\" x=\"612\" y=\"-364.8\" font-family=\"Helvetica,sans-Serif\" font-size=\"14.00\">value = [1, 1]</text>\n<text text-anchor=\"middle\" x=\"612\" y=\"-349.8\" font-family=\"Helvetica,sans-Serif\" font-size=\"14.00\">class = Died</text>\n</g>\n<!-- 40&#45;&gt;41 -->\n<g id=\"edge41\" class=\"edge\">\n<title>40-&gt;41</title>\n<path fill=\"none\" stroke=\"black\" d=\"M652.49,-460.91C647.87,-452.2 642.95,-442.9 638.17,-433.89\"/>\n<polygon fill=\"black\" stroke=\"black\" points=\"641.25,-432.22 633.47,-425.02 635.06,-435.5 641.25,-432.22\"/>\n</g>\n<!-- 44 -->\n<g id=\"node45\" class=\"node\">\n<title>44</title>\n<polygon fill=\"#eeab7b\" stroke=\"black\" points=\"792.5,-425 681.5,-425 681.5,-342 792.5,-342 792.5,-425\"/>\n<text text-anchor=\"middle\" x=\"737\" y=\"-409.8\" font-family=\"Helvetica,sans-Serif\" font-size=\"14.00\">SibSp &lt;= 0.5</text>\n<text text-anchor=\"middle\" x=\"737\" y=\"-394.8\" font-family=\"Helvetica,sans-Serif\" font-size=\"14.00\">entropy = 0.811</text>\n<text text-anchor=\"middle\" x=\"737\" y=\"-379.8\" font-family=\"Helvetica,sans-Serif\" font-size=\"14.00\">samples = 4</text>\n<text text-anchor=\"middle\" x=\"737\" y=\"-364.8\" font-family=\"Helvetica,sans-Serif\" font-size=\"14.00\">value = [3, 1]</text>\n<text text-anchor=\"middle\" x=\"737\" y=\"-349.8\" font-family=\"Helvetica,sans-Serif\" font-size=\"14.00\">class = Died</text>\n</g>\n<!-- 40&#45;&gt;44 -->\n<g id=\"edge44\" class=\"edge\">\n<title>40-&gt;44</title>\n<path fill=\"none\" stroke=\"black\" d=\"M695.86,-460.91C700.55,-452.2 705.56,-442.9 710.4,-433.89\"/>\n<polygon fill=\"black\" stroke=\"black\" points=\"713.52,-435.48 715.18,-425.02 707.36,-432.17 713.52,-435.48\"/>\n</g>\n<!-- 42 -->\n<g id=\"node43\" class=\"node\">\n<title>42</title>\n<polygon fill=\"#e58139\" stroke=\"black\" points=\"537,-298.5 441,-298.5 441,-230.5 537,-230.5 537,-298.5\"/>\n<text text-anchor=\"middle\" x=\"489\" y=\"-283.3\" font-family=\"Helvetica,sans-Serif\" font-size=\"14.00\">entropy = 0.0</text>\n<text text-anchor=\"middle\" x=\"489\" y=\"-268.3\" font-family=\"Helvetica,sans-Serif\" font-size=\"14.00\">samples = 1</text>\n<text text-anchor=\"middle\" x=\"489\" y=\"-253.3\" font-family=\"Helvetica,sans-Serif\" font-size=\"14.00\">value = [1, 0]</text>\n<text text-anchor=\"middle\" x=\"489\" y=\"-238.3\" font-family=\"Helvetica,sans-Serif\" font-size=\"14.00\">class = Died</text>\n</g>\n<!-- 41&#45;&gt;42 -->\n<g id=\"edge42\" class=\"edge\">\n<title>41-&gt;42</title>\n<path fill=\"none\" stroke=\"black\" d=\"M569.33,-341.91C557.03,-330.21 543.62,-317.46 531.35,-305.78\"/>\n<polygon fill=\"black\" stroke=\"black\" points=\"533.53,-303.02 523.87,-298.67 528.7,-308.1 533.53,-303.02\"/>\n</g>\n<!-- 43 -->\n<g id=\"node44\" class=\"node\">\n<title>43</title>\n<polygon fill=\"#399de5\" stroke=\"black\" points=\"671,-298.5 555,-298.5 555,-230.5 671,-230.5 671,-298.5\"/>\n<text text-anchor=\"middle\" x=\"613\" y=\"-283.3\" font-family=\"Helvetica,sans-Serif\" font-size=\"14.00\">entropy = 0.0</text>\n<text text-anchor=\"middle\" x=\"613\" y=\"-268.3\" font-family=\"Helvetica,sans-Serif\" font-size=\"14.00\">samples = 1</text>\n<text text-anchor=\"middle\" x=\"613\" y=\"-253.3\" font-family=\"Helvetica,sans-Serif\" font-size=\"14.00\">value = [0, 1]</text>\n<text text-anchor=\"middle\" x=\"613\" y=\"-238.3\" font-family=\"Helvetica,sans-Serif\" font-size=\"14.00\">class = Survived</text>\n</g>\n<!-- 41&#45;&gt;43 -->\n<g id=\"edge43\" class=\"edge\">\n<title>41-&gt;43</title>\n<path fill=\"none\" stroke=\"black\" d=\"M612.35,-341.91C612.44,-331.2 612.54,-319.62 612.63,-308.78\"/>\n<polygon fill=\"black\" stroke=\"black\" points=\"616.13,-308.7 612.72,-298.67 609.13,-308.64 616.13,-308.7\"/>\n</g>\n<!-- 45 -->\n<g id=\"node46\" class=\"node\">\n<title>45</title>\n<polygon fill=\"#e58139\" stroke=\"black\" points=\"785,-298.5 689,-298.5 689,-230.5 785,-230.5 785,-298.5\"/>\n<text text-anchor=\"middle\" x=\"737\" y=\"-283.3\" font-family=\"Helvetica,sans-Serif\" font-size=\"14.00\">entropy = 0.0</text>\n<text text-anchor=\"middle\" x=\"737\" y=\"-268.3\" font-family=\"Helvetica,sans-Serif\" font-size=\"14.00\">samples = 2</text>\n<text text-anchor=\"middle\" x=\"737\" y=\"-253.3\" font-family=\"Helvetica,sans-Serif\" font-size=\"14.00\">value = [2, 0]</text>\n<text text-anchor=\"middle\" x=\"737\" y=\"-238.3\" font-family=\"Helvetica,sans-Serif\" font-size=\"14.00\">class = Died</text>\n</g>\n<!-- 44&#45;&gt;45 -->\n<g id=\"edge45\" class=\"edge\">\n<title>44-&gt;45</title>\n<path fill=\"none\" stroke=\"black\" d=\"M737,-341.91C737,-331.2 737,-319.62 737,-308.78\"/>\n<polygon fill=\"black\" stroke=\"black\" points=\"740.5,-308.67 737,-298.67 733.5,-308.67 740.5,-308.67\"/>\n</g>\n<!-- 46 -->\n<g id=\"node47\" class=\"node\">\n<title>46</title>\n<polygon fill=\"#ffffff\" stroke=\"black\" points=\"899,-298.5 803,-298.5 803,-230.5 899,-230.5 899,-298.5\"/>\n<text text-anchor=\"middle\" x=\"851\" y=\"-283.3\" font-family=\"Helvetica,sans-Serif\" font-size=\"14.00\">entropy = 1.0</text>\n<text text-anchor=\"middle\" x=\"851\" y=\"-268.3\" font-family=\"Helvetica,sans-Serif\" font-size=\"14.00\">samples = 2</text>\n<text text-anchor=\"middle\" x=\"851\" y=\"-253.3\" font-family=\"Helvetica,sans-Serif\" font-size=\"14.00\">value = [1, 1]</text>\n<text text-anchor=\"middle\" x=\"851\" y=\"-238.3\" font-family=\"Helvetica,sans-Serif\" font-size=\"14.00\">class = Died</text>\n</g>\n<!-- 44&#45;&gt;46 -->\n<g id=\"edge46\" class=\"edge\">\n<title>44-&gt;46</title>\n<path fill=\"none\" stroke=\"black\" d=\"M776.55,-341.91C787.84,-330.32 800.14,-317.7 811.43,-306.11\"/>\n<polygon fill=\"black\" stroke=\"black\" points=\"814.21,-308.27 818.68,-298.67 809.2,-303.39 814.21,-308.27\"/>\n</g>\n<!-- 49 -->\n<g id=\"node50\" class=\"node\">\n<title>49</title>\n<polygon fill=\"#399de5\" stroke=\"black\" points=\"978,-536.5 862,-536.5 862,-468.5 978,-468.5 978,-536.5\"/>\n<text text-anchor=\"middle\" x=\"920\" y=\"-521.3\" font-family=\"Helvetica,sans-Serif\" font-size=\"14.00\">entropy = 0.0</text>\n<text text-anchor=\"middle\" x=\"920\" y=\"-506.3\" font-family=\"Helvetica,sans-Serif\" font-size=\"14.00\">samples = 1</text>\n<text text-anchor=\"middle\" x=\"920\" y=\"-491.3\" font-family=\"Helvetica,sans-Serif\" font-size=\"14.00\">value = [0, 1]</text>\n<text text-anchor=\"middle\" x=\"920\" y=\"-476.3\" font-family=\"Helvetica,sans-Serif\" font-size=\"14.00\">class = Survived</text>\n</g>\n<!-- 48&#45;&gt;49 -->\n<g id=\"edge49\" class=\"edge\">\n<title>48-&gt;49</title>\n<path fill=\"none\" stroke=\"black\" d=\"M920,-579.91C920,-569.2 920,-557.62 920,-546.78\"/>\n<polygon fill=\"black\" stroke=\"black\" points=\"923.5,-546.67 920,-536.67 916.5,-546.67 923.5,-546.67\"/>\n</g>\n<!-- 50 -->\n<g id=\"node51\" class=\"node\">\n<title>50</title>\n<polygon fill=\"#f2c09c\" stroke=\"black\" points=\"1107.5,-544 996.5,-544 996.5,-461 1107.5,-461 1107.5,-544\"/>\n<text text-anchor=\"middle\" x=\"1052\" y=\"-528.8\" font-family=\"Helvetica,sans-Serif\" font-size=\"14.00\">Fare &lt;= 7.785</text>\n<text text-anchor=\"middle\" x=\"1052\" y=\"-513.8\" font-family=\"Helvetica,sans-Serif\" font-size=\"14.00\">entropy = 0.918</text>\n<text text-anchor=\"middle\" x=\"1052\" y=\"-498.8\" font-family=\"Helvetica,sans-Serif\" font-size=\"14.00\">samples = 3</text>\n<text text-anchor=\"middle\" x=\"1052\" y=\"-483.8\" font-family=\"Helvetica,sans-Serif\" font-size=\"14.00\">value = [2, 1]</text>\n<text text-anchor=\"middle\" x=\"1052\" y=\"-468.8\" font-family=\"Helvetica,sans-Serif\" font-size=\"14.00\">class = Died</text>\n</g>\n<!-- 48&#45;&gt;50 -->\n<g id=\"edge50\" class=\"edge\">\n<title>48-&gt;50</title>\n<path fill=\"none\" stroke=\"black\" d=\"M965.8,-579.91C976.34,-570.56 987.65,-560.54 998.49,-550.93\"/>\n<polygon fill=\"black\" stroke=\"black\" points=\"1001.12,-553.27 1006.28,-544.02 996.48,-548.03 1001.12,-553.27\"/>\n</g>\n<!-- 51 -->\n<g id=\"node52\" class=\"node\">\n<title>51</title>\n<polygon fill=\"#ffffff\" stroke=\"black\" points=\"1043,-417.5 947,-417.5 947,-349.5 1043,-349.5 1043,-417.5\"/>\n<text text-anchor=\"middle\" x=\"995\" y=\"-402.3\" font-family=\"Helvetica,sans-Serif\" font-size=\"14.00\">entropy = 1.0</text>\n<text text-anchor=\"middle\" x=\"995\" y=\"-387.3\" font-family=\"Helvetica,sans-Serif\" font-size=\"14.00\">samples = 2</text>\n<text text-anchor=\"middle\" x=\"995\" y=\"-372.3\" font-family=\"Helvetica,sans-Serif\" font-size=\"14.00\">value = [1, 1]</text>\n<text text-anchor=\"middle\" x=\"995\" y=\"-357.3\" font-family=\"Helvetica,sans-Serif\" font-size=\"14.00\">class = Died</text>\n</g>\n<!-- 50&#45;&gt;51 -->\n<g id=\"edge51\" class=\"edge\">\n<title>50-&gt;51</title>\n<path fill=\"none\" stroke=\"black\" d=\"M1032.22,-460.91C1026.85,-449.87 1021.01,-437.9 1015.59,-426.77\"/>\n<polygon fill=\"black\" stroke=\"black\" points=\"1018.68,-425.12 1011.16,-417.67 1012.39,-428.19 1018.68,-425.12\"/>\n</g>\n<!-- 52 -->\n<g id=\"node53\" class=\"node\">\n<title>52</title>\n<polygon fill=\"#e58139\" stroke=\"black\" points=\"1157,-417.5 1061,-417.5 1061,-349.5 1157,-349.5 1157,-417.5\"/>\n<text text-anchor=\"middle\" x=\"1109\" y=\"-402.3\" font-family=\"Helvetica,sans-Serif\" font-size=\"14.00\">entropy = 0.0</text>\n<text text-anchor=\"middle\" x=\"1109\" y=\"-387.3\" font-family=\"Helvetica,sans-Serif\" font-size=\"14.00\">samples = 1</text>\n<text text-anchor=\"middle\" x=\"1109\" y=\"-372.3\" font-family=\"Helvetica,sans-Serif\" font-size=\"14.00\">value = [1, 0]</text>\n<text text-anchor=\"middle\" x=\"1109\" y=\"-357.3\" font-family=\"Helvetica,sans-Serif\" font-size=\"14.00\">class = Died</text>\n</g>\n<!-- 50&#45;&gt;52 -->\n<g id=\"edge52\" class=\"edge\">\n<title>50-&gt;52</title>\n<path fill=\"none\" stroke=\"black\" d=\"M1071.78,-460.91C1077.15,-449.87 1082.99,-437.9 1088.41,-426.77\"/>\n<polygon fill=\"black\" stroke=\"black\" points=\"1091.61,-428.19 1092.84,-417.67 1085.32,-425.12 1091.61,-428.19\"/>\n</g>\n<!-- 59 -->\n<g id=\"node60\" class=\"node\">\n<title>59</title>\n<polygon fill=\"#f5d0b5\" stroke=\"black\" points=\"1502.5,-1496 1391.5,-1496 1391.5,-1413 1502.5,-1413 1502.5,-1496\"/>\n<text text-anchor=\"middle\" x=\"1447\" y=\"-1480.8\" font-family=\"Helvetica,sans-Serif\" font-size=\"14.00\">SibSp &lt;= 1.5</text>\n<text text-anchor=\"middle\" x=\"1447\" y=\"-1465.8\" font-family=\"Helvetica,sans-Serif\" font-size=\"14.00\">entropy = 0.961</text>\n<text text-anchor=\"middle\" x=\"1447\" y=\"-1450.8\" font-family=\"Helvetica,sans-Serif\" font-size=\"14.00\">samples = 13</text>\n<text text-anchor=\"middle\" x=\"1447\" y=\"-1435.8\" font-family=\"Helvetica,sans-Serif\" font-size=\"14.00\">value = [8, 5]</text>\n<text text-anchor=\"middle\" x=\"1447\" y=\"-1420.8\" font-family=\"Helvetica,sans-Serif\" font-size=\"14.00\">class = Died</text>\n</g>\n<!-- 58&#45;&gt;59 -->\n<g id=\"edge59\" class=\"edge\">\n<title>58-&gt;59</title>\n<path fill=\"none\" stroke=\"black\" d=\"M1513.61,-1531.91C1505.7,-1522.83 1497.23,-1513.12 1489.08,-1503.77\"/>\n<polygon fill=\"black\" stroke=\"black\" points=\"1491.54,-1501.26 1482.33,-1496.02 1486.26,-1505.86 1491.54,-1501.26\"/>\n</g>\n<!-- 72 -->\n<g id=\"node73\" class=\"node\">\n<title>72</title>\n<polygon fill=\"#e89253\" stroke=\"black\" points=\"1637.5,-1496 1520.5,-1496 1520.5,-1413 1637.5,-1413 1637.5,-1496\"/>\n<text text-anchor=\"middle\" x=\"1579\" y=\"-1480.8\" font-family=\"Helvetica,sans-Serif\" font-size=\"14.00\">Age &lt;= 19.5</text>\n<text text-anchor=\"middle\" x=\"1579\" y=\"-1465.8\" font-family=\"Helvetica,sans-Serif\" font-size=\"14.00\">entropy = 0.521</text>\n<text text-anchor=\"middle\" x=\"1579\" y=\"-1450.8\" font-family=\"Helvetica,sans-Serif\" font-size=\"14.00\">samples = 128</text>\n<text text-anchor=\"middle\" x=\"1579\" y=\"-1435.8\" font-family=\"Helvetica,sans-Serif\" font-size=\"14.00\">value = [113, 15]</text>\n<text text-anchor=\"middle\" x=\"1579\" y=\"-1420.8\" font-family=\"Helvetica,sans-Serif\" font-size=\"14.00\">class = Died</text>\n</g>\n<!-- 58&#45;&gt;72 -->\n<g id=\"edge72\" class=\"edge\">\n<title>58-&gt;72</title>\n<path fill=\"none\" stroke=\"black\" d=\"M1559.41,-1531.91C1561.57,-1523.47 1563.88,-1514.48 1566.12,-1505.74\"/>\n<polygon fill=\"black\" stroke=\"black\" points=\"1569.52,-1506.58 1568.61,-1496.02 1562.74,-1504.84 1569.52,-1506.58\"/>\n</g>\n<!-- 60 -->\n<g id=\"node61\" class=\"node\">\n<title>60</title>\n<polygon fill=\"#fbeade\" stroke=\"black\" points=\"1355.5,-1377 1244.5,-1377 1244.5,-1294 1355.5,-1294 1355.5,-1377\"/>\n<text text-anchor=\"middle\" x=\"1300\" y=\"-1361.8\" font-family=\"Helvetica,sans-Serif\" font-size=\"14.00\">SibSp &lt;= 0.5</text>\n<text text-anchor=\"middle\" x=\"1300\" y=\"-1346.8\" font-family=\"Helvetica,sans-Serif\" font-size=\"14.00\">entropy = 0.994</text>\n<text text-anchor=\"middle\" x=\"1300\" y=\"-1331.8\" font-family=\"Helvetica,sans-Serif\" font-size=\"14.00\">samples = 11</text>\n<text text-anchor=\"middle\" x=\"1300\" y=\"-1316.8\" font-family=\"Helvetica,sans-Serif\" font-size=\"14.00\">value = [6, 5]</text>\n<text text-anchor=\"middle\" x=\"1300\" y=\"-1301.8\" font-family=\"Helvetica,sans-Serif\" font-size=\"14.00\">class = Died</text>\n</g>\n<!-- 59&#45;&gt;60 -->\n<g id=\"edge60\" class=\"edge\">\n<title>59-&gt;60</title>\n<path fill=\"none\" stroke=\"black\" d=\"M1396,-1412.91C1384.03,-1403.38 1371.17,-1393.15 1358.89,-1383.37\"/>\n<polygon fill=\"black\" stroke=\"black\" points=\"1360.91,-1380.51 1350.91,-1377.02 1356.56,-1385.99 1360.91,-1380.51\"/>\n</g>\n<!-- 71 -->\n<g id=\"node72\" class=\"node\">\n<title>71</title>\n<polygon fill=\"#e58139\" stroke=\"black\" points=\"1495,-1369.5 1399,-1369.5 1399,-1301.5 1495,-1301.5 1495,-1369.5\"/>\n<text text-anchor=\"middle\" x=\"1447\" y=\"-1354.3\" font-family=\"Helvetica,sans-Serif\" font-size=\"14.00\">entropy = 0.0</text>\n<text text-anchor=\"middle\" x=\"1447\" y=\"-1339.3\" font-family=\"Helvetica,sans-Serif\" font-size=\"14.00\">samples = 2</text>\n<text text-anchor=\"middle\" x=\"1447\" y=\"-1324.3\" font-family=\"Helvetica,sans-Serif\" font-size=\"14.00\">value = [2, 0]</text>\n<text text-anchor=\"middle\" x=\"1447\" y=\"-1309.3\" font-family=\"Helvetica,sans-Serif\" font-size=\"14.00\">class = Died</text>\n</g>\n<!-- 59&#45;&gt;71 -->\n<g id=\"edge71\" class=\"edge\">\n<title>59-&gt;71</title>\n<path fill=\"none\" stroke=\"black\" d=\"M1447,-1412.91C1447,-1402.2 1447,-1390.62 1447,-1379.78\"/>\n<polygon fill=\"black\" stroke=\"black\" points=\"1450.5,-1379.67 1447,-1369.67 1443.5,-1379.67 1450.5,-1379.67\"/>\n</g>\n<!-- 61 -->\n<g id=\"node62\" class=\"node\">\n<title>61</title>\n<polygon fill=\"#f6d5bd\" stroke=\"black\" points=\"1223.5,-1258 1112.5,-1258 1112.5,-1175 1223.5,-1175 1223.5,-1258\"/>\n<text text-anchor=\"middle\" x=\"1168\" y=\"-1242.8\" font-family=\"Helvetica,sans-Serif\" font-size=\"14.00\">Age &lt;= 26.0</text>\n<text text-anchor=\"middle\" x=\"1168\" y=\"-1227.8\" font-family=\"Helvetica,sans-Serif\" font-size=\"14.00\">entropy = 0.971</text>\n<text text-anchor=\"middle\" x=\"1168\" y=\"-1212.8\" font-family=\"Helvetica,sans-Serif\" font-size=\"14.00\">samples = 10</text>\n<text text-anchor=\"middle\" x=\"1168\" y=\"-1197.8\" font-family=\"Helvetica,sans-Serif\" font-size=\"14.00\">value = [6, 4]</text>\n<text text-anchor=\"middle\" x=\"1168\" y=\"-1182.8\" font-family=\"Helvetica,sans-Serif\" font-size=\"14.00\">class = Died</text>\n</g>\n<!-- 60&#45;&gt;61 -->\n<g id=\"edge61\" class=\"edge\">\n<title>60-&gt;61</title>\n<path fill=\"none\" stroke=\"black\" d=\"M1254.2,-1293.91C1243.66,-1284.56 1232.35,-1274.54 1221.51,-1264.93\"/>\n<polygon fill=\"black\" stroke=\"black\" points=\"1223.52,-1262.03 1213.72,-1258.02 1218.88,-1267.27 1223.52,-1262.03\"/>\n</g>\n<!-- 70 -->\n<g id=\"node71\" class=\"node\">\n<title>70</title>\n<polygon fill=\"#399de5\" stroke=\"black\" points=\"1358,-1250.5 1242,-1250.5 1242,-1182.5 1358,-1182.5 1358,-1250.5\"/>\n<text text-anchor=\"middle\" x=\"1300\" y=\"-1235.3\" font-family=\"Helvetica,sans-Serif\" font-size=\"14.00\">entropy = 0.0</text>\n<text text-anchor=\"middle\" x=\"1300\" y=\"-1220.3\" font-family=\"Helvetica,sans-Serif\" font-size=\"14.00\">samples = 1</text>\n<text text-anchor=\"middle\" x=\"1300\" y=\"-1205.3\" font-family=\"Helvetica,sans-Serif\" font-size=\"14.00\">value = [0, 1]</text>\n<text text-anchor=\"middle\" x=\"1300\" y=\"-1190.3\" font-family=\"Helvetica,sans-Serif\" font-size=\"14.00\">class = Survived</text>\n</g>\n<!-- 60&#45;&gt;70 -->\n<g id=\"edge70\" class=\"edge\">\n<title>60-&gt;70</title>\n<path fill=\"none\" stroke=\"black\" d=\"M1300,-1293.91C1300,-1283.2 1300,-1271.62 1300,-1260.78\"/>\n<polygon fill=\"black\" stroke=\"black\" points=\"1303.5,-1260.67 1300,-1250.67 1296.5,-1260.67 1303.5,-1260.67\"/>\n</g>\n<!-- 62 -->\n<g id=\"node63\" class=\"node\">\n<title>62</title>\n<polygon fill=\"#e58139\" stroke=\"black\" points=\"1095,-1131.5 999,-1131.5 999,-1063.5 1095,-1063.5 1095,-1131.5\"/>\n<text text-anchor=\"middle\" x=\"1047\" y=\"-1116.3\" font-family=\"Helvetica,sans-Serif\" font-size=\"14.00\">entropy = 0.0</text>\n<text text-anchor=\"middle\" x=\"1047\" y=\"-1101.3\" font-family=\"Helvetica,sans-Serif\" font-size=\"14.00\">samples = 3</text>\n<text text-anchor=\"middle\" x=\"1047\" y=\"-1086.3\" font-family=\"Helvetica,sans-Serif\" font-size=\"14.00\">value = [3, 0]</text>\n<text text-anchor=\"middle\" x=\"1047\" y=\"-1071.3\" font-family=\"Helvetica,sans-Serif\" font-size=\"14.00\">class = Died</text>\n</g>\n<!-- 61&#45;&gt;62 -->\n<g id=\"edge62\" class=\"edge\">\n<title>61-&gt;62</title>\n<path fill=\"none\" stroke=\"black\" d=\"M1126.02,-1174.91C1113.92,-1163.21 1100.73,-1150.46 1088.66,-1138.78\"/>\n<polygon fill=\"black\" stroke=\"black\" points=\"1090.92,-1136.1 1081.3,-1131.67 1086.06,-1141.13 1090.92,-1136.1\"/>\n</g>\n<!-- 63 -->\n<g id=\"node64\" class=\"node\">\n<title>63</title>\n<polygon fill=\"#cee6f8\" stroke=\"black\" points=\"1229,-1139 1113,-1139 1113,-1056 1229,-1056 1229,-1139\"/>\n<text text-anchor=\"middle\" x=\"1171\" y=\"-1123.8\" font-family=\"Helvetica,sans-Serif\" font-size=\"14.00\">Age &lt;= 31.5</text>\n<text text-anchor=\"middle\" x=\"1171\" y=\"-1108.8\" font-family=\"Helvetica,sans-Serif\" font-size=\"14.00\">entropy = 0.985</text>\n<text text-anchor=\"middle\" x=\"1171\" y=\"-1093.8\" font-family=\"Helvetica,sans-Serif\" font-size=\"14.00\">samples = 7</text>\n<text text-anchor=\"middle\" x=\"1171\" y=\"-1078.8\" font-family=\"Helvetica,sans-Serif\" font-size=\"14.00\">value = [3, 4]</text>\n<text text-anchor=\"middle\" x=\"1171\" y=\"-1063.8\" font-family=\"Helvetica,sans-Serif\" font-size=\"14.00\">class = Survived</text>\n</g>\n<!-- 61&#45;&gt;63 -->\n<g id=\"edge63\" class=\"edge\">\n<title>61-&gt;63</title>\n<path fill=\"none\" stroke=\"black\" d=\"M1169.04,-1174.91C1169.25,-1166.56 1169.48,-1157.67 1169.7,-1149.02\"/>\n<polygon fill=\"black\" stroke=\"black\" points=\"1173.2,-1149.11 1169.96,-1139.02 1166.21,-1148.93 1173.2,-1149.11\"/>\n</g>\n<!-- 64 -->\n<g id=\"node65\" class=\"node\">\n<title>64</title>\n<polygon fill=\"#399de5\" stroke=\"black\" points=\"1120,-1012.5 1004,-1012.5 1004,-944.5 1120,-944.5 1120,-1012.5\"/>\n<text text-anchor=\"middle\" x=\"1062\" y=\"-997.3\" font-family=\"Helvetica,sans-Serif\" font-size=\"14.00\">entropy = 0.0</text>\n<text text-anchor=\"middle\" x=\"1062\" y=\"-982.3\" font-family=\"Helvetica,sans-Serif\" font-size=\"14.00\">samples = 1</text>\n<text text-anchor=\"middle\" x=\"1062\" y=\"-967.3\" font-family=\"Helvetica,sans-Serif\" font-size=\"14.00\">value = [0, 1]</text>\n<text text-anchor=\"middle\" x=\"1062\" y=\"-952.3\" font-family=\"Helvetica,sans-Serif\" font-size=\"14.00\">class = Survived</text>\n</g>\n<!-- 63&#45;&gt;64 -->\n<g id=\"edge64\" class=\"edge\">\n<title>63-&gt;64</title>\n<path fill=\"none\" stroke=\"black\" d=\"M1133.18,-1055.91C1122.39,-1044.32 1110.63,-1031.7 1099.83,-1020.11\"/>\n<polygon fill=\"black\" stroke=\"black\" points=\"1102.28,-1017.6 1092.9,-1012.67 1097.15,-1022.37 1102.28,-1017.6\"/>\n</g>\n<!-- 65 -->\n<g id=\"node66\" class=\"node\">\n<title>65</title>\n<polygon fill=\"#ffffff\" stroke=\"black\" points=\"1234,-1020 1138,-1020 1138,-937 1234,-937 1234,-1020\"/>\n<text text-anchor=\"middle\" x=\"1186\" y=\"-1004.8\" font-family=\"Helvetica,sans-Serif\" font-size=\"14.00\">Age &lt;= 41.5</text>\n<text text-anchor=\"middle\" x=\"1186\" y=\"-989.8\" font-family=\"Helvetica,sans-Serif\" font-size=\"14.00\">entropy = 1.0</text>\n<text text-anchor=\"middle\" x=\"1186\" y=\"-974.8\" font-family=\"Helvetica,sans-Serif\" font-size=\"14.00\">samples = 6</text>\n<text text-anchor=\"middle\" x=\"1186\" y=\"-959.8\" font-family=\"Helvetica,sans-Serif\" font-size=\"14.00\">value = [3, 3]</text>\n<text text-anchor=\"middle\" x=\"1186\" y=\"-944.8\" font-family=\"Helvetica,sans-Serif\" font-size=\"14.00\">class = Died</text>\n</g>\n<!-- 63&#45;&gt;65 -->\n<g id=\"edge65\" class=\"edge\">\n<title>63-&gt;65</title>\n<path fill=\"none\" stroke=\"black\" d=\"M1176.2,-1055.91C1177.27,-1047.56 1178.41,-1038.67 1179.52,-1030.02\"/>\n<polygon fill=\"black\" stroke=\"black\" points=\"1183,-1030.38 1180.81,-1020.02 1176.06,-1029.49 1183,-1030.38\"/>\n</g>\n<!-- 66 -->\n<g id=\"node67\" class=\"node\">\n<title>66</title>\n<polygon fill=\"#f6d5bd\" stroke=\"black\" points=\"1235.5,-901 1124.5,-901 1124.5,-818 1235.5,-818 1235.5,-901\"/>\n<text text-anchor=\"middle\" x=\"1180\" y=\"-885.8\" font-family=\"Helvetica,sans-Serif\" font-size=\"14.00\">Age &lt;= 35.5</text>\n<text text-anchor=\"middle\" x=\"1180\" y=\"-870.8\" font-family=\"Helvetica,sans-Serif\" font-size=\"14.00\">entropy = 0.971</text>\n<text text-anchor=\"middle\" x=\"1180\" y=\"-855.8\" font-family=\"Helvetica,sans-Serif\" font-size=\"14.00\">samples = 5</text>\n<text text-anchor=\"middle\" x=\"1180\" y=\"-840.8\" font-family=\"Helvetica,sans-Serif\" font-size=\"14.00\">value = [3, 2]</text>\n<text text-anchor=\"middle\" x=\"1180\" y=\"-825.8\" font-family=\"Helvetica,sans-Serif\" font-size=\"14.00\">class = Died</text>\n</g>\n<!-- 65&#45;&gt;66 -->\n<g id=\"edge66\" class=\"edge\">\n<title>65-&gt;66</title>\n<path fill=\"none\" stroke=\"black\" d=\"M1183.92,-936.91C1183.49,-928.56 1183.03,-919.67 1182.59,-911.02\"/>\n<polygon fill=\"black\" stroke=\"black\" points=\"1186.09,-910.83 1182.08,-901.02 1179.09,-911.19 1186.09,-910.83\"/>\n</g>\n<!-- 69 -->\n<g id=\"node70\" class=\"node\">\n<title>69</title>\n<polygon fill=\"#399de5\" stroke=\"black\" points=\"1370,-893.5 1254,-893.5 1254,-825.5 1370,-825.5 1370,-893.5\"/>\n<text text-anchor=\"middle\" x=\"1312\" y=\"-878.3\" font-family=\"Helvetica,sans-Serif\" font-size=\"14.00\">entropy = 0.0</text>\n<text text-anchor=\"middle\" x=\"1312\" y=\"-863.3\" font-family=\"Helvetica,sans-Serif\" font-size=\"14.00\">samples = 1</text>\n<text text-anchor=\"middle\" x=\"1312\" y=\"-848.3\" font-family=\"Helvetica,sans-Serif\" font-size=\"14.00\">value = [0, 1]</text>\n<text text-anchor=\"middle\" x=\"1312\" y=\"-833.3\" font-family=\"Helvetica,sans-Serif\" font-size=\"14.00\">class = Survived</text>\n</g>\n<!-- 65&#45;&gt;69 -->\n<g id=\"edge69\" class=\"edge\">\n<title>65-&gt;69</title>\n<path fill=\"none\" stroke=\"black\" d=\"M1229.72,-936.91C1242.31,-925.21 1256.05,-912.46 1268.62,-900.78\"/>\n<polygon fill=\"black\" stroke=\"black\" points=\"1271.34,-903.04 1276.28,-893.67 1266.57,-897.91 1271.34,-903.04\"/>\n</g>\n<!-- 67 -->\n<g id=\"node68\" class=\"node\">\n<title>67</title>\n<polygon fill=\"#f2c09c\" stroke=\"black\" points=\"1174.5,-774.5 1063.5,-774.5 1063.5,-706.5 1174.5,-706.5 1174.5,-774.5\"/>\n<text text-anchor=\"middle\" x=\"1119\" y=\"-759.3\" font-family=\"Helvetica,sans-Serif\" font-size=\"14.00\">entropy = 0.918</text>\n<text text-anchor=\"middle\" x=\"1119\" y=\"-744.3\" font-family=\"Helvetica,sans-Serif\" font-size=\"14.00\">samples = 3</text>\n<text text-anchor=\"middle\" x=\"1119\" y=\"-729.3\" font-family=\"Helvetica,sans-Serif\" font-size=\"14.00\">value = [2, 1]</text>\n<text text-anchor=\"middle\" x=\"1119\" y=\"-714.3\" font-family=\"Helvetica,sans-Serif\" font-size=\"14.00\">class = Died</text>\n</g>\n<!-- 66&#45;&gt;67 -->\n<g id=\"edge67\" class=\"edge\">\n<title>66-&gt;67</title>\n<path fill=\"none\" stroke=\"black\" d=\"M1158.84,-817.91C1153.08,-806.87 1146.84,-794.9 1141.04,-783.77\"/>\n<polygon fill=\"black\" stroke=\"black\" points=\"1144.02,-781.92 1136.29,-774.67 1137.81,-785.15 1144.02,-781.92\"/>\n</g>\n<!-- 68 -->\n<g id=\"node69\" class=\"node\">\n<title>68</title>\n<polygon fill=\"#ffffff\" stroke=\"black\" points=\"1289,-774.5 1193,-774.5 1193,-706.5 1289,-706.5 1289,-774.5\"/>\n<text text-anchor=\"middle\" x=\"1241\" y=\"-759.3\" font-family=\"Helvetica,sans-Serif\" font-size=\"14.00\">entropy = 1.0</text>\n<text text-anchor=\"middle\" x=\"1241\" y=\"-744.3\" font-family=\"Helvetica,sans-Serif\" font-size=\"14.00\">samples = 2</text>\n<text text-anchor=\"middle\" x=\"1241\" y=\"-729.3\" font-family=\"Helvetica,sans-Serif\" font-size=\"14.00\">value = [1, 1]</text>\n<text text-anchor=\"middle\" x=\"1241\" y=\"-714.3\" font-family=\"Helvetica,sans-Serif\" font-size=\"14.00\">class = Died</text>\n</g>\n<!-- 66&#45;&gt;68 -->\n<g id=\"edge68\" class=\"edge\">\n<title>66-&gt;68</title>\n<path fill=\"none\" stroke=\"black\" d=\"M1201.16,-817.91C1206.92,-806.87 1213.16,-794.9 1218.96,-783.77\"/>\n<polygon fill=\"black\" stroke=\"black\" points=\"1222.19,-785.15 1223.71,-774.67 1215.98,-781.92 1222.19,-785.15\"/>\n</g>\n<!-- 73 -->\n<g id=\"node74\" class=\"node\">\n<title>73</title>\n<polygon fill=\"#eca06a\" stroke=\"black\" points=\"1629.5,-1377 1518.5,-1377 1518.5,-1294 1629.5,-1294 1629.5,-1377\"/>\n<text text-anchor=\"middle\" x=\"1574\" y=\"-1361.8\" font-family=\"Helvetica,sans-Serif\" font-size=\"14.00\">Fare &lt;= 8.104</text>\n<text text-anchor=\"middle\" x=\"1574\" y=\"-1346.8\" font-family=\"Helvetica,sans-Serif\" font-size=\"14.00\">entropy = 0.722</text>\n<text text-anchor=\"middle\" x=\"1574\" y=\"-1331.8\" font-family=\"Helvetica,sans-Serif\" font-size=\"14.00\">samples = 20</text>\n<text text-anchor=\"middle\" x=\"1574\" y=\"-1316.8\" font-family=\"Helvetica,sans-Serif\" font-size=\"14.00\">value = [16, 4]</text>\n<text text-anchor=\"middle\" x=\"1574\" y=\"-1301.8\" font-family=\"Helvetica,sans-Serif\" font-size=\"14.00\">class = Died</text>\n</g>\n<!-- 72&#45;&gt;73 -->\n<g id=\"edge73\" class=\"edge\">\n<title>72-&gt;73</title>\n<path fill=\"none\" stroke=\"black\" d=\"M1577.27,-1412.91C1576.91,-1404.56 1576.53,-1395.67 1576.16,-1387.02\"/>\n<polygon fill=\"black\" stroke=\"black\" points=\"1579.66,-1386.86 1575.73,-1377.02 1572.66,-1387.16 1579.66,-1386.86\"/>\n</g>\n<!-- 86 -->\n<g id=\"node87\" class=\"node\">\n<title>86</title>\n<polygon fill=\"#e88f4f\" stroke=\"black\" points=\"1769.5,-1377 1658.5,-1377 1658.5,-1294 1769.5,-1294 1769.5,-1377\"/>\n<text text-anchor=\"middle\" x=\"1714\" y=\"-1361.8\" font-family=\"Helvetica,sans-Serif\" font-size=\"14.00\">Age &lt;= 26.5</text>\n<text text-anchor=\"middle\" x=\"1714\" y=\"-1346.8\" font-family=\"Helvetica,sans-Serif\" font-size=\"14.00\">entropy = 0.475</text>\n<text text-anchor=\"middle\" x=\"1714\" y=\"-1331.8\" font-family=\"Helvetica,sans-Serif\" font-size=\"14.00\">samples = 108</text>\n<text text-anchor=\"middle\" x=\"1714\" y=\"-1316.8\" font-family=\"Helvetica,sans-Serif\" font-size=\"14.00\">value = [97, 11]</text>\n<text text-anchor=\"middle\" x=\"1714\" y=\"-1301.8\" font-family=\"Helvetica,sans-Serif\" font-size=\"14.00\">class = Died</text>\n</g>\n<!-- 72&#45;&gt;86 -->\n<g id=\"edge86\" class=\"edge\">\n<title>72-&gt;86</title>\n<path fill=\"none\" stroke=\"black\" d=\"M1625.84,-1412.91C1636.73,-1403.47 1648.41,-1393.34 1659.6,-1383.65\"/>\n<polygon fill=\"black\" stroke=\"black\" points=\"1661.98,-1386.22 1667.25,-1377.02 1657.4,-1380.93 1661.98,-1386.22\"/>\n</g>\n<!-- 74 -->\n<g id=\"node75\" class=\"node\">\n<title>74</title>\n<polygon fill=\"#bddef6\" stroke=\"black\" points=\"1492,-1258 1376,-1258 1376,-1175 1492,-1175 1492,-1258\"/>\n<text text-anchor=\"middle\" x=\"1434\" y=\"-1242.8\" font-family=\"Helvetica,sans-Serif\" font-size=\"14.00\">Age &lt;= 17.0</text>\n<text text-anchor=\"middle\" x=\"1434\" y=\"-1227.8\" font-family=\"Helvetica,sans-Serif\" font-size=\"14.00\">entropy = 0.971</text>\n<text text-anchor=\"middle\" x=\"1434\" y=\"-1212.8\" font-family=\"Helvetica,sans-Serif\" font-size=\"14.00\">samples = 5</text>\n<text text-anchor=\"middle\" x=\"1434\" y=\"-1197.8\" font-family=\"Helvetica,sans-Serif\" font-size=\"14.00\">value = [2, 3]</text>\n<text text-anchor=\"middle\" x=\"1434\" y=\"-1182.8\" font-family=\"Helvetica,sans-Serif\" font-size=\"14.00\">class = Survived</text>\n</g>\n<!-- 73&#45;&gt;74 -->\n<g id=\"edge74\" class=\"edge\">\n<title>73-&gt;74</title>\n<path fill=\"none\" stroke=\"black\" d=\"M1525.43,-1293.91C1514.13,-1284.47 1502.02,-1274.34 1490.42,-1264.65\"/>\n<polygon fill=\"black\" stroke=\"black\" points=\"1492.4,-1261.75 1482.49,-1258.02 1487.92,-1267.12 1492.4,-1261.75\"/>\n</g>\n<!-- 79 -->\n<g id=\"node80\" class=\"node\">\n<title>79</title>\n<polygon fill=\"#e78a47\" stroke=\"black\" points=\"1629.5,-1258 1518.5,-1258 1518.5,-1175 1629.5,-1175 1629.5,-1258\"/>\n<text text-anchor=\"middle\" x=\"1574\" y=\"-1242.8\" font-family=\"Helvetica,sans-Serif\" font-size=\"14.00\">Age &lt;= 18.5</text>\n<text text-anchor=\"middle\" x=\"1574\" y=\"-1227.8\" font-family=\"Helvetica,sans-Serif\" font-size=\"14.00\">entropy = 0.353</text>\n<text text-anchor=\"middle\" x=\"1574\" y=\"-1212.8\" font-family=\"Helvetica,sans-Serif\" font-size=\"14.00\">samples = 15</text>\n<text text-anchor=\"middle\" x=\"1574\" y=\"-1197.8\" font-family=\"Helvetica,sans-Serif\" font-size=\"14.00\">value = [14, 1]</text>\n<text text-anchor=\"middle\" x=\"1574\" y=\"-1182.8\" font-family=\"Helvetica,sans-Serif\" font-size=\"14.00\">class = Died</text>\n</g>\n<!-- 73&#45;&gt;79 -->\n<g id=\"edge79\" class=\"edge\">\n<title>73-&gt;79</title>\n<path fill=\"none\" stroke=\"black\" d=\"M1574,-1293.91C1574,-1285.65 1574,-1276.86 1574,-1268.3\"/>\n<polygon fill=\"black\" stroke=\"black\" points=\"1577.5,-1268.02 1574,-1258.02 1570.5,-1268.02 1577.5,-1268.02\"/>\n</g>\n<!-- 75 -->\n<g id=\"node76\" class=\"node\">\n<title>75</title>\n<polygon fill=\"#ffffff\" stroke=\"black\" points=\"1352,-1131.5 1256,-1131.5 1256,-1063.5 1352,-1063.5 1352,-1131.5\"/>\n<text text-anchor=\"middle\" x=\"1304\" y=\"-1116.3\" font-family=\"Helvetica,sans-Serif\" font-size=\"14.00\">entropy = 1.0</text>\n<text text-anchor=\"middle\" x=\"1304\" y=\"-1101.3\" font-family=\"Helvetica,sans-Serif\" font-size=\"14.00\">samples = 2</text>\n<text text-anchor=\"middle\" x=\"1304\" y=\"-1086.3\" font-family=\"Helvetica,sans-Serif\" font-size=\"14.00\">value = [1, 1]</text>\n<text text-anchor=\"middle\" x=\"1304\" y=\"-1071.3\" font-family=\"Helvetica,sans-Serif\" font-size=\"14.00\">class = Died</text>\n</g>\n<!-- 74&#45;&gt;75 -->\n<g id=\"edge75\" class=\"edge\">\n<title>74-&gt;75</title>\n<path fill=\"none\" stroke=\"black\" d=\"M1388.9,-1174.91C1375.78,-1163.1 1361.46,-1150.22 1348.39,-1138.45\"/>\n<polygon fill=\"black\" stroke=\"black\" points=\"1350.63,-1135.76 1340.85,-1131.67 1345.94,-1140.96 1350.63,-1135.76\"/>\n</g>\n<!-- 76 -->\n<g id=\"node77\" class=\"node\">\n<title>76</title>\n<polygon fill=\"#9ccef2\" stroke=\"black\" points=\"1486,-1139 1370,-1139 1370,-1056 1486,-1056 1486,-1139\"/>\n<text text-anchor=\"middle\" x=\"1428\" y=\"-1123.8\" font-family=\"Helvetica,sans-Serif\" font-size=\"14.00\">Age &lt;= 18.5</text>\n<text text-anchor=\"middle\" x=\"1428\" y=\"-1108.8\" font-family=\"Helvetica,sans-Serif\" font-size=\"14.00\">entropy = 0.918</text>\n<text text-anchor=\"middle\" x=\"1428\" y=\"-1093.8\" font-family=\"Helvetica,sans-Serif\" font-size=\"14.00\">samples = 3</text>\n<text text-anchor=\"middle\" x=\"1428\" y=\"-1078.8\" font-family=\"Helvetica,sans-Serif\" font-size=\"14.00\">value = [1, 2]</text>\n<text text-anchor=\"middle\" x=\"1428\" y=\"-1063.8\" font-family=\"Helvetica,sans-Serif\" font-size=\"14.00\">class = Survived</text>\n</g>\n<!-- 74&#45;&gt;76 -->\n<g id=\"edge76\" class=\"edge\">\n<title>74-&gt;76</title>\n<path fill=\"none\" stroke=\"black\" d=\"M1431.92,-1174.91C1431.49,-1166.56 1431.03,-1157.67 1430.59,-1149.02\"/>\n<polygon fill=\"black\" stroke=\"black\" points=\"1434.09,-1148.83 1430.08,-1139.02 1427.09,-1149.19 1434.09,-1148.83\"/>\n</g>\n<!-- 77 -->\n<g id=\"node78\" class=\"node\">\n<title>77</title>\n<polygon fill=\"#399de5\" stroke=\"black\" points=\"1368,-1012.5 1252,-1012.5 1252,-944.5 1368,-944.5 1368,-1012.5\"/>\n<text text-anchor=\"middle\" x=\"1310\" y=\"-997.3\" font-family=\"Helvetica,sans-Serif\" font-size=\"14.00\">entropy = 0.0</text>\n<text text-anchor=\"middle\" x=\"1310\" y=\"-982.3\" font-family=\"Helvetica,sans-Serif\" font-size=\"14.00\">samples = 1</text>\n<text text-anchor=\"middle\" x=\"1310\" y=\"-967.3\" font-family=\"Helvetica,sans-Serif\" font-size=\"14.00\">value = [0, 1]</text>\n<text text-anchor=\"middle\" x=\"1310\" y=\"-952.3\" font-family=\"Helvetica,sans-Serif\" font-size=\"14.00\">class = Survived</text>\n</g>\n<!-- 76&#45;&gt;77 -->\n<g id=\"edge77\" class=\"edge\">\n<title>76-&gt;77</title>\n<path fill=\"none\" stroke=\"black\" d=\"M1387.06,-1055.91C1375.26,-1044.21 1362.4,-1031.46 1350.62,-1019.78\"/>\n<polygon fill=\"black\" stroke=\"black\" points=\"1353.02,-1017.22 1343.45,-1012.67 1348.09,-1022.19 1353.02,-1017.22\"/>\n</g>\n<!-- 78 -->\n<g id=\"node79\" class=\"node\">\n<title>78</title>\n<polygon fill=\"#ffffff\" stroke=\"black\" points=\"1482,-1012.5 1386,-1012.5 1386,-944.5 1482,-944.5 1482,-1012.5\"/>\n<text text-anchor=\"middle\" x=\"1434\" y=\"-997.3\" font-family=\"Helvetica,sans-Serif\" font-size=\"14.00\">entropy = 1.0</text>\n<text text-anchor=\"middle\" x=\"1434\" y=\"-982.3\" font-family=\"Helvetica,sans-Serif\" font-size=\"14.00\">samples = 2</text>\n<text text-anchor=\"middle\" x=\"1434\" y=\"-967.3\" font-family=\"Helvetica,sans-Serif\" font-size=\"14.00\">value = [1, 1]</text>\n<text text-anchor=\"middle\" x=\"1434\" y=\"-952.3\" font-family=\"Helvetica,sans-Serif\" font-size=\"14.00\">class = Died</text>\n</g>\n<!-- 76&#45;&gt;78 -->\n<g id=\"edge78\" class=\"edge\">\n<title>76-&gt;78</title>\n<path fill=\"none\" stroke=\"black\" d=\"M1430.08,-1055.91C1430.63,-1045.2 1431.22,-1033.62 1431.78,-1022.78\"/>\n<polygon fill=\"black\" stroke=\"black\" points=\"1435.28,-1022.83 1432.3,-1012.67 1428.29,-1022.47 1435.28,-1022.83\"/>\n</g>\n<!-- 80 -->\n<g id=\"node81\" class=\"node\">\n<title>80</title>\n<polygon fill=\"#e58139\" stroke=\"black\" points=\"1606,-1131.5 1504,-1131.5 1504,-1063.5 1606,-1063.5 1606,-1131.5\"/>\n<text text-anchor=\"middle\" x=\"1555\" y=\"-1116.3\" font-family=\"Helvetica,sans-Serif\" font-size=\"14.00\">entropy = 0.0</text>\n<text text-anchor=\"middle\" x=\"1555\" y=\"-1101.3\" font-family=\"Helvetica,sans-Serif\" font-size=\"14.00\">samples = 10</text>\n<text text-anchor=\"middle\" x=\"1555\" y=\"-1086.3\" font-family=\"Helvetica,sans-Serif\" font-size=\"14.00\">value = [10, 0]</text>\n<text text-anchor=\"middle\" x=\"1555\" y=\"-1071.3\" font-family=\"Helvetica,sans-Serif\" font-size=\"14.00\">class = Died</text>\n</g>\n<!-- 79&#45;&gt;80 -->\n<g id=\"edge80\" class=\"edge\">\n<title>79-&gt;80</title>\n<path fill=\"none\" stroke=\"black\" d=\"M1567.41,-1174.91C1565.67,-1164.2 1563.79,-1152.62 1562.03,-1141.78\"/>\n<polygon fill=\"black\" stroke=\"black\" points=\"1565.44,-1140.98 1560.39,-1131.67 1558.53,-1142.1 1565.44,-1140.98\"/>\n</g>\n<!-- 81 -->\n<g id=\"node82\" class=\"node\">\n<title>81</title>\n<polygon fill=\"#eca06a\" stroke=\"black\" points=\"1735.5,-1139 1624.5,-1139 1624.5,-1056 1735.5,-1056 1735.5,-1139\"/>\n<text text-anchor=\"middle\" x=\"1680\" y=\"-1123.8\" font-family=\"Helvetica,sans-Serif\" font-size=\"14.00\">Pclass &lt;= 2.5</text>\n<text text-anchor=\"middle\" x=\"1680\" y=\"-1108.8\" font-family=\"Helvetica,sans-Serif\" font-size=\"14.00\">entropy = 0.722</text>\n<text text-anchor=\"middle\" x=\"1680\" y=\"-1093.8\" font-family=\"Helvetica,sans-Serif\" font-size=\"14.00\">samples = 5</text>\n<text text-anchor=\"middle\" x=\"1680\" y=\"-1078.8\" font-family=\"Helvetica,sans-Serif\" font-size=\"14.00\">value = [4, 1]</text>\n<text text-anchor=\"middle\" x=\"1680\" y=\"-1063.8\" font-family=\"Helvetica,sans-Serif\" font-size=\"14.00\">class = Died</text>\n</g>\n<!-- 79&#45;&gt;81 -->\n<g id=\"edge81\" class=\"edge\">\n<title>79-&gt;81</title>\n<path fill=\"none\" stroke=\"black\" d=\"M1610.78,-1174.91C1619.08,-1165.74 1627.97,-1155.93 1636.52,-1146.49\"/>\n<polygon fill=\"black\" stroke=\"black\" points=\"1639.17,-1148.78 1643.29,-1139.02 1633.98,-1144.08 1639.17,-1148.78\"/>\n</g>\n<!-- 82 -->\n<g id=\"node83\" class=\"node\">\n<title>82</title>\n<polygon fill=\"#f2c09c\" stroke=\"black\" points=\"1611.5,-1020 1500.5,-1020 1500.5,-937 1611.5,-937 1611.5,-1020\"/>\n<text text-anchor=\"middle\" x=\"1556\" y=\"-1004.8\" font-family=\"Helvetica,sans-Serif\" font-size=\"14.00\">Fare &lt;= 11.75</text>\n<text text-anchor=\"middle\" x=\"1556\" y=\"-989.8\" font-family=\"Helvetica,sans-Serif\" font-size=\"14.00\">entropy = 0.918</text>\n<text text-anchor=\"middle\" x=\"1556\" y=\"-974.8\" font-family=\"Helvetica,sans-Serif\" font-size=\"14.00\">samples = 3</text>\n<text text-anchor=\"middle\" x=\"1556\" y=\"-959.8\" font-family=\"Helvetica,sans-Serif\" font-size=\"14.00\">value = [2, 1]</text>\n<text text-anchor=\"middle\" x=\"1556\" y=\"-944.8\" font-family=\"Helvetica,sans-Serif\" font-size=\"14.00\">class = Died</text>\n</g>\n<!-- 81&#45;&gt;82 -->\n<g id=\"edge82\" class=\"edge\">\n<title>81-&gt;82</title>\n<path fill=\"none\" stroke=\"black\" d=\"M1636.98,-1055.91C1627.07,-1046.56 1616.45,-1036.54 1606.27,-1026.93\"/>\n<polygon fill=\"black\" stroke=\"black\" points=\"1608.62,-1024.34 1598.95,-1020.02 1603.82,-1029.43 1608.62,-1024.34\"/>\n</g>\n<!-- 85 -->\n<g id=\"node86\" class=\"node\">\n<title>85</title>\n<polygon fill=\"#e58139\" stroke=\"black\" points=\"1726,-1012.5 1630,-1012.5 1630,-944.5 1726,-944.5 1726,-1012.5\"/>\n<text text-anchor=\"middle\" x=\"1678\" y=\"-997.3\" font-family=\"Helvetica,sans-Serif\" font-size=\"14.00\">entropy = 0.0</text>\n<text text-anchor=\"middle\" x=\"1678\" y=\"-982.3\" font-family=\"Helvetica,sans-Serif\" font-size=\"14.00\">samples = 2</text>\n<text text-anchor=\"middle\" x=\"1678\" y=\"-967.3\" font-family=\"Helvetica,sans-Serif\" font-size=\"14.00\">value = [2, 0]</text>\n<text text-anchor=\"middle\" x=\"1678\" y=\"-952.3\" font-family=\"Helvetica,sans-Serif\" font-size=\"14.00\">class = Died</text>\n</g>\n<!-- 81&#45;&gt;85 -->\n<g id=\"edge85\" class=\"edge\">\n<title>81-&gt;85</title>\n<path fill=\"none\" stroke=\"black\" d=\"M1679.31,-1055.91C1679.12,-1045.2 1678.93,-1033.62 1678.74,-1022.78\"/>\n<polygon fill=\"black\" stroke=\"black\" points=\"1682.24,-1022.61 1678.57,-1012.67 1675.24,-1022.73 1682.24,-1022.61\"/>\n</g>\n<!-- 83 -->\n<g id=\"node84\" class=\"node\">\n<title>83</title>\n<polygon fill=\"#ffffff\" stroke=\"black\" points=\"1496,-893.5 1400,-893.5 1400,-825.5 1496,-825.5 1496,-893.5\"/>\n<text text-anchor=\"middle\" x=\"1448\" y=\"-878.3\" font-family=\"Helvetica,sans-Serif\" font-size=\"14.00\">entropy = 1.0</text>\n<text text-anchor=\"middle\" x=\"1448\" y=\"-863.3\" font-family=\"Helvetica,sans-Serif\" font-size=\"14.00\">samples = 2</text>\n<text text-anchor=\"middle\" x=\"1448\" y=\"-848.3\" font-family=\"Helvetica,sans-Serif\" font-size=\"14.00\">value = [1, 1]</text>\n<text text-anchor=\"middle\" x=\"1448\" y=\"-833.3\" font-family=\"Helvetica,sans-Serif\" font-size=\"14.00\">class = Died</text>\n</g>\n<!-- 82&#45;&gt;83 -->\n<g id=\"edge83\" class=\"edge\">\n<title>82-&gt;83</title>\n<path fill=\"none\" stroke=\"black\" d=\"M1518.53,-936.91C1507.83,-925.32 1496.18,-912.7 1485.49,-901.11\"/>\n<polygon fill=\"black\" stroke=\"black\" points=\"1487.97,-898.64 1478.62,-893.67 1482.83,-903.39 1487.97,-898.64\"/>\n</g>\n<!-- 84 -->\n<g id=\"node85\" class=\"node\">\n<title>84</title>\n<polygon fill=\"#e58139\" stroke=\"black\" points=\"1610,-893.5 1514,-893.5 1514,-825.5 1610,-825.5 1610,-893.5\"/>\n<text text-anchor=\"middle\" x=\"1562\" y=\"-878.3\" font-family=\"Helvetica,sans-Serif\" font-size=\"14.00\">entropy = 0.0</text>\n<text text-anchor=\"middle\" x=\"1562\" y=\"-863.3\" font-family=\"Helvetica,sans-Serif\" font-size=\"14.00\">samples = 1</text>\n<text text-anchor=\"middle\" x=\"1562\" y=\"-848.3\" font-family=\"Helvetica,sans-Serif\" font-size=\"14.00\">value = [1, 0]</text>\n<text text-anchor=\"middle\" x=\"1562\" y=\"-833.3\" font-family=\"Helvetica,sans-Serif\" font-size=\"14.00\">class = Died</text>\n</g>\n<!-- 82&#45;&gt;84 -->\n<g id=\"edge84\" class=\"edge\">\n<title>82-&gt;84</title>\n<path fill=\"none\" stroke=\"black\" d=\"M1558.08,-936.91C1558.63,-926.2 1559.22,-914.62 1559.78,-903.78\"/>\n<polygon fill=\"black\" stroke=\"black\" points=\"1563.28,-903.83 1560.3,-893.67 1556.29,-903.47 1563.28,-903.83\"/>\n</g>\n<!-- 87 -->\n<g id=\"node88\" class=\"node\">\n<title>87</title>\n<polygon fill=\"#e58139\" stroke=\"black\" points=\"1765,-1250.5 1663,-1250.5 1663,-1182.5 1765,-1182.5 1765,-1250.5\"/>\n<text text-anchor=\"middle\" x=\"1714\" y=\"-1235.3\" font-family=\"Helvetica,sans-Serif\" font-size=\"14.00\">entropy = 0.0</text>\n<text text-anchor=\"middle\" x=\"1714\" y=\"-1220.3\" font-family=\"Helvetica,sans-Serif\" font-size=\"14.00\">samples = 31</text>\n<text text-anchor=\"middle\" x=\"1714\" y=\"-1205.3\" font-family=\"Helvetica,sans-Serif\" font-size=\"14.00\">value = [31, 0]</text>\n<text text-anchor=\"middle\" x=\"1714\" y=\"-1190.3\" font-family=\"Helvetica,sans-Serif\" font-size=\"14.00\">class = Died</text>\n</g>\n<!-- 86&#45;&gt;87 -->\n<g id=\"edge87\" class=\"edge\">\n<title>86-&gt;87</title>\n<path fill=\"none\" stroke=\"black\" d=\"M1714,-1293.91C1714,-1283.2 1714,-1271.62 1714,-1260.78\"/>\n<polygon fill=\"black\" stroke=\"black\" points=\"1717.5,-1260.67 1714,-1250.67 1710.5,-1260.67 1717.5,-1260.67\"/>\n</g>\n<!-- 88 -->\n<g id=\"node89\" class=\"node\">\n<title>88</title>\n<polygon fill=\"#e9965a\" stroke=\"black\" points=\"1944.5,-1258 1833.5,-1258 1833.5,-1175 1944.5,-1175 1944.5,-1258\"/>\n<text text-anchor=\"middle\" x=\"1889\" y=\"-1242.8\" font-family=\"Helvetica,sans-Serif\" font-size=\"14.00\">Fare &lt;= 8.081</text>\n<text text-anchor=\"middle\" x=\"1889\" y=\"-1227.8\" font-family=\"Helvetica,sans-Serif\" font-size=\"14.00\">entropy = 0.592</text>\n<text text-anchor=\"middle\" x=\"1889\" y=\"-1212.8\" font-family=\"Helvetica,sans-Serif\" font-size=\"14.00\">samples = 77</text>\n<text text-anchor=\"middle\" x=\"1889\" y=\"-1197.8\" font-family=\"Helvetica,sans-Serif\" font-size=\"14.00\">value = [66, 11]</text>\n<text text-anchor=\"middle\" x=\"1889\" y=\"-1182.8\" font-family=\"Helvetica,sans-Serif\" font-size=\"14.00\">class = Died</text>\n</g>\n<!-- 86&#45;&gt;88 -->\n<g id=\"edge88\" class=\"edge\">\n<title>86-&gt;88</title>\n<path fill=\"none\" stroke=\"black\" d=\"M1769.85,-1297.16C1787.3,-1285.49 1806.69,-1272.53 1824.68,-1260.5\"/>\n<polygon fill=\"black\" stroke=\"black\" points=\"1827.01,-1263.15 1833.38,-1254.69 1823.12,-1257.34 1827.01,-1263.15\"/>\n</g>\n<!-- 89 -->\n<g id=\"node90\" class=\"node\">\n<title>89</title>\n<polygon fill=\"#e78b48\" stroke=\"black\" points=\"1944.5,-1139 1833.5,-1139 1833.5,-1056 1944.5,-1056 1944.5,-1139\"/>\n<text text-anchor=\"middle\" x=\"1889\" y=\"-1123.8\" font-family=\"Helvetica,sans-Serif\" font-size=\"14.00\">Age &lt;= 31.25</text>\n<text text-anchor=\"middle\" x=\"1889\" y=\"-1108.8\" font-family=\"Helvetica,sans-Serif\" font-size=\"14.00\">entropy = 0.371</text>\n<text text-anchor=\"middle\" x=\"1889\" y=\"-1093.8\" font-family=\"Helvetica,sans-Serif\" font-size=\"14.00\">samples = 28</text>\n<text text-anchor=\"middle\" x=\"1889\" y=\"-1078.8\" font-family=\"Helvetica,sans-Serif\" font-size=\"14.00\">value = [26, 2]</text>\n<text text-anchor=\"middle\" x=\"1889\" y=\"-1063.8\" font-family=\"Helvetica,sans-Serif\" font-size=\"14.00\">class = Died</text>\n</g>\n<!-- 88&#45;&gt;89 -->\n<g id=\"edge89\" class=\"edge\">\n<title>88-&gt;89</title>\n<path fill=\"none\" stroke=\"black\" d=\"M1889,-1174.91C1889,-1166.65 1889,-1157.86 1889,-1149.3\"/>\n<polygon fill=\"black\" stroke=\"black\" points=\"1892.5,-1149.02 1889,-1139.02 1885.5,-1149.02 1892.5,-1149.02\"/>\n</g>\n<!-- 98 -->\n<g id=\"node99\" class=\"node\">\n<title>98</title>\n<polygon fill=\"#eb9d66\" stroke=\"black\" points=\"2099.5,-1139 1988.5,-1139 1988.5,-1056 2099.5,-1056 2099.5,-1139\"/>\n<text text-anchor=\"middle\" x=\"2044\" y=\"-1123.8\" font-family=\"Helvetica,sans-Serif\" font-size=\"14.00\">Fare &lt;= 8.238</text>\n<text text-anchor=\"middle\" x=\"2044\" y=\"-1108.8\" font-family=\"Helvetica,sans-Serif\" font-size=\"14.00\">entropy = 0.688</text>\n<text text-anchor=\"middle\" x=\"2044\" y=\"-1093.8\" font-family=\"Helvetica,sans-Serif\" font-size=\"14.00\">samples = 49</text>\n<text text-anchor=\"middle\" x=\"2044\" y=\"-1078.8\" font-family=\"Helvetica,sans-Serif\" font-size=\"14.00\">value = [40, 9]</text>\n<text text-anchor=\"middle\" x=\"2044\" y=\"-1063.8\" font-family=\"Helvetica,sans-Serif\" font-size=\"14.00\">class = Died</text>\n</g>\n<!-- 88&#45;&gt;98 -->\n<g id=\"edge98\" class=\"edge\">\n<title>88-&gt;98</title>\n<path fill=\"none\" stroke=\"black\" d=\"M1942.78,-1174.91C1955.52,-1165.29 1969.21,-1154.95 1982.28,-1145.09\"/>\n<polygon fill=\"black\" stroke=\"black\" points=\"1984.45,-1147.84 1990.32,-1139.02 1980.23,-1142.25 1984.45,-1147.84\"/>\n</g>\n<!-- 90 -->\n<g id=\"node91\" class=\"node\">\n<title>90</title>\n<polygon fill=\"#e58139\" stroke=\"black\" points=\"1846,-1012.5 1744,-1012.5 1744,-944.5 1846,-944.5 1846,-1012.5\"/>\n<text text-anchor=\"middle\" x=\"1795\" y=\"-997.3\" font-family=\"Helvetica,sans-Serif\" font-size=\"14.00\">entropy = 0.0</text>\n<text text-anchor=\"middle\" x=\"1795\" y=\"-982.3\" font-family=\"Helvetica,sans-Serif\" font-size=\"14.00\">samples = 16</text>\n<text text-anchor=\"middle\" x=\"1795\" y=\"-967.3\" font-family=\"Helvetica,sans-Serif\" font-size=\"14.00\">value = [16, 0]</text>\n<text text-anchor=\"middle\" x=\"1795\" y=\"-952.3\" font-family=\"Helvetica,sans-Serif\" font-size=\"14.00\">class = Died</text>\n</g>\n<!-- 89&#45;&gt;90 -->\n<g id=\"edge90\" class=\"edge\">\n<title>89-&gt;90</title>\n<path fill=\"none\" stroke=\"black\" d=\"M1856.39,-1055.91C1847.26,-1044.54 1837.32,-1032.18 1828.16,-1020.77\"/>\n<polygon fill=\"black\" stroke=\"black\" points=\"1830.64,-1018.27 1821.65,-1012.67 1825.18,-1022.65 1830.64,-1018.27\"/>\n</g>\n<!-- 91 -->\n<g id=\"node92\" class=\"node\">\n<title>91</title>\n<polygon fill=\"#ea9a61\" stroke=\"black\" points=\"1968,-1020 1864,-1020 1864,-937 1968,-937 1968,-1020\"/>\n<text text-anchor=\"middle\" x=\"1916\" y=\"-1004.8\" font-family=\"Helvetica,sans-Serif\" font-size=\"14.00\">Age &lt;= 33.0</text>\n<text text-anchor=\"middle\" x=\"1916\" y=\"-989.8\" font-family=\"Helvetica,sans-Serif\" font-size=\"14.00\">entropy = 0.65</text>\n<text text-anchor=\"middle\" x=\"1916\" y=\"-974.8\" font-family=\"Helvetica,sans-Serif\" font-size=\"14.00\">samples = 12</text>\n<text text-anchor=\"middle\" x=\"1916\" y=\"-959.8\" font-family=\"Helvetica,sans-Serif\" font-size=\"14.00\">value = [10, 2]</text>\n<text text-anchor=\"middle\" x=\"1916\" y=\"-944.8\" font-family=\"Helvetica,sans-Serif\" font-size=\"14.00\">class = Died</text>\n</g>\n<!-- 89&#45;&gt;91 -->\n<g id=\"edge91\" class=\"edge\">\n<title>89-&gt;91</title>\n<path fill=\"none\" stroke=\"black\" d=\"M1898.37,-1055.91C1900.29,-1047.56 1902.35,-1038.67 1904.34,-1030.02\"/>\n<polygon fill=\"black\" stroke=\"black\" points=\"1907.81,-1030.55 1906.65,-1020.02 1900.99,-1028.98 1907.81,-1030.55\"/>\n</g>\n<!-- 92 -->\n<g id=\"node93\" class=\"node\">\n<title>92</title>\n<polygon fill=\"#399de5\" stroke=\"black\" points=\"1847,-893.5 1731,-893.5 1731,-825.5 1847,-825.5 1847,-893.5\"/>\n<text text-anchor=\"middle\" x=\"1789\" y=\"-878.3\" font-family=\"Helvetica,sans-Serif\" font-size=\"14.00\">entropy = 0.0</text>\n<text text-anchor=\"middle\" x=\"1789\" y=\"-863.3\" font-family=\"Helvetica,sans-Serif\" font-size=\"14.00\">samples = 1</text>\n<text text-anchor=\"middle\" x=\"1789\" y=\"-848.3\" font-family=\"Helvetica,sans-Serif\" font-size=\"14.00\">value = [0, 1]</text>\n<text text-anchor=\"middle\" x=\"1789\" y=\"-833.3\" font-family=\"Helvetica,sans-Serif\" font-size=\"14.00\">class = Survived</text>\n</g>\n<!-- 91&#45;&gt;92 -->\n<g id=\"edge92\" class=\"edge\">\n<title>91-&gt;92</title>\n<path fill=\"none\" stroke=\"black\" d=\"M1871.94,-936.91C1859.12,-925.1 1845.14,-912.22 1832.36,-900.45\"/>\n<polygon fill=\"black\" stroke=\"black\" points=\"1834.73,-897.87 1825,-893.67 1829.98,-903.02 1834.73,-897.87\"/>\n</g>\n<!-- 93 -->\n<g id=\"node94\" class=\"node\">\n<title>93</title>\n<polygon fill=\"#e88e4d\" stroke=\"black\" points=\"1976.5,-901 1865.5,-901 1865.5,-818 1976.5,-818 1976.5,-901\"/>\n<text text-anchor=\"middle\" x=\"1921\" y=\"-885.8\" font-family=\"Helvetica,sans-Serif\" font-size=\"14.00\">Age &lt;= 44.5</text>\n<text text-anchor=\"middle\" x=\"1921\" y=\"-870.8\" font-family=\"Helvetica,sans-Serif\" font-size=\"14.00\">entropy = 0.439</text>\n<text text-anchor=\"middle\" x=\"1921\" y=\"-855.8\" font-family=\"Helvetica,sans-Serif\" font-size=\"14.00\">samples = 11</text>\n<text text-anchor=\"middle\" x=\"1921\" y=\"-840.8\" font-family=\"Helvetica,sans-Serif\" font-size=\"14.00\">value = [10, 1]</text>\n<text text-anchor=\"middle\" x=\"1921\" y=\"-825.8\" font-family=\"Helvetica,sans-Serif\" font-size=\"14.00\">class = Died</text>\n</g>\n<!-- 91&#45;&gt;93 -->\n<g id=\"edge93\" class=\"edge\">\n<title>91-&gt;93</title>\n<path fill=\"none\" stroke=\"black\" d=\"M1917.73,-936.91C1918.09,-928.56 1918.47,-919.67 1918.84,-911.02\"/>\n<polygon fill=\"black\" stroke=\"black\" points=\"1922.34,-911.16 1919.27,-901.02 1915.34,-910.86 1922.34,-911.16\"/>\n</g>\n<!-- 94 -->\n<g id=\"node95\" class=\"node\">\n<title>94</title>\n<polygon fill=\"#e58139\" stroke=\"black\" points=\"1904,-774.5 1808,-774.5 1808,-706.5 1904,-706.5 1904,-774.5\"/>\n<text text-anchor=\"middle\" x=\"1856\" y=\"-759.3\" font-family=\"Helvetica,sans-Serif\" font-size=\"14.00\">entropy = 0.0</text>\n<text text-anchor=\"middle\" x=\"1856\" y=\"-744.3\" font-family=\"Helvetica,sans-Serif\" font-size=\"14.00\">samples = 7</text>\n<text text-anchor=\"middle\" x=\"1856\" y=\"-729.3\" font-family=\"Helvetica,sans-Serif\" font-size=\"14.00\">value = [7, 0]</text>\n<text text-anchor=\"middle\" x=\"1856\" y=\"-714.3\" font-family=\"Helvetica,sans-Serif\" font-size=\"14.00\">class = Died</text>\n</g>\n<!-- 93&#45;&gt;94 -->\n<g id=\"edge94\" class=\"edge\">\n<title>93-&gt;94</title>\n<path fill=\"none\" stroke=\"black\" d=\"M1898.45,-817.91C1892.26,-806.76 1885.53,-794.66 1879.3,-783.44\"/>\n<polygon fill=\"black\" stroke=\"black\" points=\"1882.34,-781.71 1874.43,-774.67 1876.22,-785.11 1882.34,-781.71\"/>\n</g>\n<!-- 95 -->\n<g id=\"node96\" class=\"node\">\n<title>95</title>\n<polygon fill=\"#eeab7b\" stroke=\"black\" points=\"2033.5,-782 1922.5,-782 1922.5,-699 2033.5,-699 2033.5,-782\"/>\n<text text-anchor=\"middle\" x=\"1978\" y=\"-766.8\" font-family=\"Helvetica,sans-Serif\" font-size=\"14.00\">Age &lt;= 47.5</text>\n<text text-anchor=\"middle\" x=\"1978\" y=\"-751.8\" font-family=\"Helvetica,sans-Serif\" font-size=\"14.00\">entropy = 0.811</text>\n<text text-anchor=\"middle\" x=\"1978\" y=\"-736.8\" font-family=\"Helvetica,sans-Serif\" font-size=\"14.00\">samples = 4</text>\n<text text-anchor=\"middle\" x=\"1978\" y=\"-721.8\" font-family=\"Helvetica,sans-Serif\" font-size=\"14.00\">value = [3, 1]</text>\n<text text-anchor=\"middle\" x=\"1978\" y=\"-706.8\" font-family=\"Helvetica,sans-Serif\" font-size=\"14.00\">class = Died</text>\n</g>\n<!-- 93&#45;&gt;95 -->\n<g id=\"edge95\" class=\"edge\">\n<title>93-&gt;95</title>\n<path fill=\"none\" stroke=\"black\" d=\"M1940.78,-817.91C1944.98,-809.29 1949.46,-800.09 1953.8,-791.17\"/>\n<polygon fill=\"black\" stroke=\"black\" points=\"1957.03,-792.54 1958.26,-782.02 1950.73,-789.48 1957.03,-792.54\"/>\n</g>\n<!-- 96 -->\n<g id=\"node97\" class=\"node\">\n<title>96</title>\n<polygon fill=\"#399de5\" stroke=\"black\" points=\"1919,-655.5 1803,-655.5 1803,-587.5 1919,-587.5 1919,-655.5\"/>\n<text text-anchor=\"middle\" x=\"1861\" y=\"-640.3\" font-family=\"Helvetica,sans-Serif\" font-size=\"14.00\">entropy = 0.0</text>\n<text text-anchor=\"middle\" x=\"1861\" y=\"-625.3\" font-family=\"Helvetica,sans-Serif\" font-size=\"14.00\">samples = 1</text>\n<text text-anchor=\"middle\" x=\"1861\" y=\"-610.3\" font-family=\"Helvetica,sans-Serif\" font-size=\"14.00\">value = [0, 1]</text>\n<text text-anchor=\"middle\" x=\"1861\" y=\"-595.3\" font-family=\"Helvetica,sans-Serif\" font-size=\"14.00\">class = Survived</text>\n</g>\n<!-- 95&#45;&gt;96 -->\n<g id=\"edge96\" class=\"edge\">\n<title>95-&gt;96</title>\n<path fill=\"none\" stroke=\"black\" d=\"M1937.41,-698.91C1925.71,-687.21 1912.96,-674.46 1901.28,-662.78\"/>\n<polygon fill=\"black\" stroke=\"black\" points=\"1903.71,-660.26 1894.17,-655.67 1898.76,-665.21 1903.71,-660.26\"/>\n</g>\n<!-- 97 -->\n<g id=\"node98\" class=\"node\">\n<title>97</title>\n<polygon fill=\"#e58139\" stroke=\"black\" points=\"2033,-655.5 1937,-655.5 1937,-587.5 2033,-587.5 2033,-655.5\"/>\n<text text-anchor=\"middle\" x=\"1985\" y=\"-640.3\" font-family=\"Helvetica,sans-Serif\" font-size=\"14.00\">entropy = 0.0</text>\n<text text-anchor=\"middle\" x=\"1985\" y=\"-625.3\" font-family=\"Helvetica,sans-Serif\" font-size=\"14.00\">samples = 3</text>\n<text text-anchor=\"middle\" x=\"1985\" y=\"-610.3\" font-family=\"Helvetica,sans-Serif\" font-size=\"14.00\">value = [3, 0]</text>\n<text text-anchor=\"middle\" x=\"1985\" y=\"-595.3\" font-family=\"Helvetica,sans-Serif\" font-size=\"14.00\">class = Died</text>\n</g>\n<!-- 95&#45;&gt;97 -->\n<g id=\"edge97\" class=\"edge\">\n<title>95-&gt;97</title>\n<path fill=\"none\" stroke=\"black\" d=\"M1980.43,-698.91C1981.07,-688.2 1981.76,-676.62 1982.41,-665.78\"/>\n<polygon fill=\"black\" stroke=\"black\" points=\"1985.91,-665.86 1983.02,-655.67 1978.92,-665.44 1985.91,-665.86\"/>\n</g>\n<!-- 99 -->\n<g id=\"node100\" class=\"node\">\n<title>99</title>\n<polygon fill=\"#399de5\" stroke=\"black\" points=\"2102,-1012.5 1986,-1012.5 1986,-944.5 2102,-944.5 2102,-1012.5\"/>\n<text text-anchor=\"middle\" x=\"2044\" y=\"-997.3\" font-family=\"Helvetica,sans-Serif\" font-size=\"14.00\">entropy = 0.0</text>\n<text text-anchor=\"middle\" x=\"2044\" y=\"-982.3\" font-family=\"Helvetica,sans-Serif\" font-size=\"14.00\">samples = 1</text>\n<text text-anchor=\"middle\" x=\"2044\" y=\"-967.3\" font-family=\"Helvetica,sans-Serif\" font-size=\"14.00\">value = [0, 1]</text>\n<text text-anchor=\"middle\" x=\"2044\" y=\"-952.3\" font-family=\"Helvetica,sans-Serif\" font-size=\"14.00\">class = Survived</text>\n</g>\n<!-- 98&#45;&gt;99 -->\n<g id=\"edge99\" class=\"edge\">\n<title>98-&gt;99</title>\n<path fill=\"none\" stroke=\"black\" d=\"M2044,-1055.91C2044,-1045.2 2044,-1033.62 2044,-1022.78\"/>\n<polygon fill=\"black\" stroke=\"black\" points=\"2047.5,-1022.67 2044,-1012.67 2040.5,-1022.67 2047.5,-1022.67\"/>\n</g>\n<!-- 100 -->\n<g id=\"node101\" class=\"node\">\n<title>100</title>\n<polygon fill=\"#ea9a61\" stroke=\"black\" points=\"2224,-1020 2120,-1020 2120,-937 2224,-937 2224,-1020\"/>\n<text text-anchor=\"middle\" x=\"2172\" y=\"-1004.8\" font-family=\"Helvetica,sans-Serif\" font-size=\"14.00\">Fare &lt;= 8.658</text>\n<text text-anchor=\"middle\" x=\"2172\" y=\"-989.8\" font-family=\"Helvetica,sans-Serif\" font-size=\"14.00\">entropy = 0.65</text>\n<text text-anchor=\"middle\" x=\"2172\" y=\"-974.8\" font-family=\"Helvetica,sans-Serif\" font-size=\"14.00\">samples = 48</text>\n<text text-anchor=\"middle\" x=\"2172\" y=\"-959.8\" font-family=\"Helvetica,sans-Serif\" font-size=\"14.00\">value = [40, 8]</text>\n<text text-anchor=\"middle\" x=\"2172\" y=\"-944.8\" font-family=\"Helvetica,sans-Serif\" font-size=\"14.00\">class = Died</text>\n</g>\n<!-- 98&#45;&gt;100 -->\n<g id=\"edge100\" class=\"edge\">\n<title>98-&gt;100</title>\n<path fill=\"none\" stroke=\"black\" d=\"M2088.41,-1055.91C2098.64,-1046.56 2109.6,-1036.54 2120.11,-1026.93\"/>\n<polygon fill=\"black\" stroke=\"black\" points=\"2122.65,-1029.35 2127.67,-1020.02 2117.93,-1024.18 2122.65,-1029.35\"/>\n</g>\n<!-- 101 -->\n<g id=\"node102\" class=\"node\">\n<title>101</title>\n<polygon fill=\"#e58139\" stroke=\"black\" points=\"2219,-893.5 2123,-893.5 2123,-825.5 2219,-825.5 2219,-893.5\"/>\n<text text-anchor=\"middle\" x=\"2171\" y=\"-878.3\" font-family=\"Helvetica,sans-Serif\" font-size=\"14.00\">entropy = 0.0</text>\n<text text-anchor=\"middle\" x=\"2171\" y=\"-863.3\" font-family=\"Helvetica,sans-Serif\" font-size=\"14.00\">samples = 4</text>\n<text text-anchor=\"middle\" x=\"2171\" y=\"-848.3\" font-family=\"Helvetica,sans-Serif\" font-size=\"14.00\">value = [4, 0]</text>\n<text text-anchor=\"middle\" x=\"2171\" y=\"-833.3\" font-family=\"Helvetica,sans-Serif\" font-size=\"14.00\">class = Died</text>\n</g>\n<!-- 100&#45;&gt;101 -->\n<g id=\"edge101\" class=\"edge\">\n<title>100-&gt;101</title>\n<path fill=\"none\" stroke=\"black\" d=\"M2171.65,-936.91C2171.56,-926.2 2171.46,-914.62 2171.37,-903.78\"/>\n<polygon fill=\"black\" stroke=\"black\" points=\"2174.87,-903.64 2171.28,-893.67 2167.87,-903.7 2174.87,-903.64\"/>\n</g>\n<!-- 102 -->\n<g id=\"node103\" class=\"node\">\n<title>102</title>\n<polygon fill=\"#eb9d65\" stroke=\"black\" points=\"2348.5,-901 2237.5,-901 2237.5,-818 2348.5,-818 2348.5,-901\"/>\n<text text-anchor=\"middle\" x=\"2293\" y=\"-885.8\" font-family=\"Helvetica,sans-Serif\" font-size=\"14.00\">Age &lt;= 31.5</text>\n<text text-anchor=\"middle\" x=\"2293\" y=\"-870.8\" font-family=\"Helvetica,sans-Serif\" font-size=\"14.00\">entropy = 0.684</text>\n<text text-anchor=\"middle\" x=\"2293\" y=\"-855.8\" font-family=\"Helvetica,sans-Serif\" font-size=\"14.00\">samples = 44</text>\n<text text-anchor=\"middle\" x=\"2293\" y=\"-840.8\" font-family=\"Helvetica,sans-Serif\" font-size=\"14.00\">value = [36, 8]</text>\n<text text-anchor=\"middle\" x=\"2293\" y=\"-825.8\" font-family=\"Helvetica,sans-Serif\" font-size=\"14.00\">class = Died</text>\n</g>\n<!-- 100&#45;&gt;102 -->\n<g id=\"edge102\" class=\"edge\">\n<title>100-&gt;102</title>\n<path fill=\"none\" stroke=\"black\" d=\"M2213.98,-936.91C2223.55,-927.65 2233.81,-917.73 2243.66,-908.21\"/>\n<polygon fill=\"black\" stroke=\"black\" points=\"2246.34,-910.49 2251.09,-901.02 2241.47,-905.46 2246.34,-910.49\"/>\n</g>\n<!-- 103 -->\n<g id=\"node104\" class=\"node\">\n<title>103</title>\n<polygon fill=\"#eeab7b\" stroke=\"black\" points=\"2328.5,-782 2217.5,-782 2217.5,-699 2328.5,-699 2328.5,-782\"/>\n<text text-anchor=\"middle\" x=\"2273\" y=\"-766.8\" font-family=\"Helvetica,sans-Serif\" font-size=\"14.00\">Pclass &lt;= 2.5</text>\n<text text-anchor=\"middle\" x=\"2273\" y=\"-751.8\" font-family=\"Helvetica,sans-Serif\" font-size=\"14.00\">entropy = 0.811</text>\n<text text-anchor=\"middle\" x=\"2273\" y=\"-736.8\" font-family=\"Helvetica,sans-Serif\" font-size=\"14.00\">samples = 20</text>\n<text text-anchor=\"middle\" x=\"2273\" y=\"-721.8\" font-family=\"Helvetica,sans-Serif\" font-size=\"14.00\">value = [15, 5]</text>\n<text text-anchor=\"middle\" x=\"2273\" y=\"-706.8\" font-family=\"Helvetica,sans-Serif\" font-size=\"14.00\">class = Died</text>\n</g>\n<!-- 102&#45;&gt;103 -->\n<g id=\"edge103\" class=\"edge\">\n<title>102-&gt;103</title>\n<path fill=\"none\" stroke=\"black\" d=\"M2286.06,-817.91C2284.63,-809.56 2283.11,-800.67 2281.64,-792.02\"/>\n<polygon fill=\"black\" stroke=\"black\" points=\"2285.06,-791.29 2279.93,-782.02 2278.16,-792.47 2285.06,-791.29\"/>\n</g>\n<!-- 120 -->\n<g id=\"node121\" class=\"node\">\n<title>120</title>\n<polygon fill=\"#e99355\" stroke=\"black\" points=\"2594.5,-782 2483.5,-782 2483.5,-699 2594.5,-699 2594.5,-782\"/>\n<text text-anchor=\"middle\" x=\"2539\" y=\"-766.8\" font-family=\"Helvetica,sans-Serif\" font-size=\"14.00\">Pclass &lt;= 2.5</text>\n<text text-anchor=\"middle\" x=\"2539\" y=\"-751.8\" font-family=\"Helvetica,sans-Serif\" font-size=\"14.00\">entropy = 0.544</text>\n<text text-anchor=\"middle\" x=\"2539\" y=\"-736.8\" font-family=\"Helvetica,sans-Serif\" font-size=\"14.00\">samples = 24</text>\n<text text-anchor=\"middle\" x=\"2539\" y=\"-721.8\" font-family=\"Helvetica,sans-Serif\" font-size=\"14.00\">value = [21, 3]</text>\n<text text-anchor=\"middle\" x=\"2539\" y=\"-706.8\" font-family=\"Helvetica,sans-Serif\" font-size=\"14.00\">class = Died</text>\n</g>\n<!-- 102&#45;&gt;120 -->\n<g id=\"edge120\" class=\"edge\">\n<title>102-&gt;120</title>\n<path fill=\"none\" stroke=\"black\" d=\"M2348.84,-823.45C2352.25,-821.56 2355.65,-819.73 2359,-818 2396.1,-798.87 2439.08,-780.47 2473.74,-766.51\"/>\n<polygon fill=\"black\" stroke=\"black\" points=\"2475.29,-769.66 2483.28,-762.69 2472.69,-763.16 2475.29,-769.66\"/>\n</g>\n<!-- 104 -->\n<g id=\"node105\" class=\"node\">\n<title>104</title>\n<polygon fill=\"#ea9a61\" stroke=\"black\" points=\"2169,-663 2065,-663 2065,-580 2169,-580 2169,-663\"/>\n<text text-anchor=\"middle\" x=\"2117\" y=\"-647.8\" font-family=\"Helvetica,sans-Serif\" font-size=\"14.00\">Fare &lt;= 11.75</text>\n<text text-anchor=\"middle\" x=\"2117\" y=\"-632.8\" font-family=\"Helvetica,sans-Serif\" font-size=\"14.00\">entropy = 0.65</text>\n<text text-anchor=\"middle\" x=\"2117\" y=\"-617.8\" font-family=\"Helvetica,sans-Serif\" font-size=\"14.00\">samples = 12</text>\n<text text-anchor=\"middle\" x=\"2117\" y=\"-602.8\" font-family=\"Helvetica,sans-Serif\" font-size=\"14.00\">value = [10, 2]</text>\n<text text-anchor=\"middle\" x=\"2117\" y=\"-587.8\" font-family=\"Helvetica,sans-Serif\" font-size=\"14.00\">class = Died</text>\n</g>\n<!-- 103&#45;&gt;104 -->\n<g id=\"edge104\" class=\"edge\">\n<title>103-&gt;104</title>\n<path fill=\"none\" stroke=\"black\" d=\"M2218.88,-698.91C2205.54,-688.91 2191.17,-678.13 2177.55,-667.92\"/>\n<polygon fill=\"black\" stroke=\"black\" points=\"2179.29,-664.84 2169.19,-661.64 2175.09,-670.44 2179.29,-664.84\"/>\n</g>\n<!-- 113 -->\n<g id=\"node114\" class=\"node\">\n<title>113</title>\n<polygon fill=\"#f5cdb0\" stroke=\"black\" points=\"2328.5,-663 2217.5,-663 2217.5,-580 2328.5,-580 2328.5,-663\"/>\n<text text-anchor=\"middle\" x=\"2273\" y=\"-647.8\" font-family=\"Helvetica,sans-Serif\" font-size=\"14.00\">Age &lt;= 27.5</text>\n<text text-anchor=\"middle\" x=\"2273\" y=\"-632.8\" font-family=\"Helvetica,sans-Serif\" font-size=\"14.00\">entropy = 0.954</text>\n<text text-anchor=\"middle\" x=\"2273\" y=\"-617.8\" font-family=\"Helvetica,sans-Serif\" font-size=\"14.00\">samples = 8</text>\n<text text-anchor=\"middle\" x=\"2273\" y=\"-602.8\" font-family=\"Helvetica,sans-Serif\" font-size=\"14.00\">value = [5, 3]</text>\n<text text-anchor=\"middle\" x=\"2273\" y=\"-587.8\" font-family=\"Helvetica,sans-Serif\" font-size=\"14.00\">class = Died</text>\n</g>\n<!-- 103&#45;&gt;113 -->\n<g id=\"edge113\" class=\"edge\">\n<title>103-&gt;113</title>\n<path fill=\"none\" stroke=\"black\" d=\"M2273,-698.91C2273,-690.65 2273,-681.86 2273,-673.3\"/>\n<polygon fill=\"black\" stroke=\"black\" points=\"2276.5,-673.02 2273,-663.02 2269.5,-673.02 2276.5,-673.02\"/>\n</g>\n<!-- 105 -->\n<g id=\"node106\" class=\"node\">\n<title>105</title>\n<polygon fill=\"#e58139\" stroke=\"black\" points=\"2043,-536.5 1947,-536.5 1947,-468.5 2043,-468.5 2043,-536.5\"/>\n<text text-anchor=\"middle\" x=\"1995\" y=\"-521.3\" font-family=\"Helvetica,sans-Serif\" font-size=\"14.00\">entropy = 0.0</text>\n<text text-anchor=\"middle\" x=\"1995\" y=\"-506.3\" font-family=\"Helvetica,sans-Serif\" font-size=\"14.00\">samples = 4</text>\n<text text-anchor=\"middle\" x=\"1995\" y=\"-491.3\" font-family=\"Helvetica,sans-Serif\" font-size=\"14.00\">value = [4, 0]</text>\n<text text-anchor=\"middle\" x=\"1995\" y=\"-476.3\" font-family=\"Helvetica,sans-Serif\" font-size=\"14.00\">class = Died</text>\n</g>\n<!-- 104&#45;&gt;105 -->\n<g id=\"edge105\" class=\"edge\">\n<title>104-&gt;105</title>\n<path fill=\"none\" stroke=\"black\" d=\"M2074.67,-579.91C2062.48,-568.21 2049.18,-555.46 2037,-543.78\"/>\n<polygon fill=\"black\" stroke=\"black\" points=\"2039.22,-541.06 2029.58,-536.67 2034.38,-546.11 2039.22,-541.06\"/>\n</g>\n<!-- 106 -->\n<g id=\"node107\" class=\"node\">\n<title>106</title>\n<polygon fill=\"#eeab7b\" stroke=\"black\" points=\"2172.5,-544 2061.5,-544 2061.5,-461 2172.5,-461 2172.5,-544\"/>\n<text text-anchor=\"middle\" x=\"2117\" y=\"-528.8\" font-family=\"Helvetica,sans-Serif\" font-size=\"14.00\">Age &lt;= 30.5</text>\n<text text-anchor=\"middle\" x=\"2117\" y=\"-513.8\" font-family=\"Helvetica,sans-Serif\" font-size=\"14.00\">entropy = 0.811</text>\n<text text-anchor=\"middle\" x=\"2117\" y=\"-498.8\" font-family=\"Helvetica,sans-Serif\" font-size=\"14.00\">samples = 8</text>\n<text text-anchor=\"middle\" x=\"2117\" y=\"-483.8\" font-family=\"Helvetica,sans-Serif\" font-size=\"14.00\">value = [6, 2]</text>\n<text text-anchor=\"middle\" x=\"2117\" y=\"-468.8\" font-family=\"Helvetica,sans-Serif\" font-size=\"14.00\">class = Died</text>\n</g>\n<!-- 104&#45;&gt;106 -->\n<g id=\"edge106\" class=\"edge\">\n<title>104-&gt;106</title>\n<path fill=\"none\" stroke=\"black\" d=\"M2117,-579.91C2117,-571.65 2117,-562.86 2117,-554.3\"/>\n<polygon fill=\"black\" stroke=\"black\" points=\"2120.5,-554.02 2117,-544.02 2113.5,-554.02 2120.5,-554.02\"/>\n</g>\n<!-- 107 -->\n<g id=\"node108\" class=\"node\">\n<title>107</title>\n<polygon fill=\"#e9965a\" stroke=\"black\" points=\"2048.5,-425 1937.5,-425 1937.5,-342 2048.5,-342 2048.5,-425\"/>\n<text text-anchor=\"middle\" x=\"1993\" y=\"-409.8\" font-family=\"Helvetica,sans-Serif\" font-size=\"14.00\">Age &lt;= 29.0</text>\n<text text-anchor=\"middle\" x=\"1993\" y=\"-394.8\" font-family=\"Helvetica,sans-Serif\" font-size=\"14.00\">entropy = 0.592</text>\n<text text-anchor=\"middle\" x=\"1993\" y=\"-379.8\" font-family=\"Helvetica,sans-Serif\" font-size=\"14.00\">samples = 7</text>\n<text text-anchor=\"middle\" x=\"1993\" y=\"-364.8\" font-family=\"Helvetica,sans-Serif\" font-size=\"14.00\">value = [6, 1]</text>\n<text text-anchor=\"middle\" x=\"1993\" y=\"-349.8\" font-family=\"Helvetica,sans-Serif\" font-size=\"14.00\">class = Died</text>\n</g>\n<!-- 106&#45;&gt;107 -->\n<g id=\"edge107\" class=\"edge\">\n<title>106-&gt;107</title>\n<path fill=\"none\" stroke=\"black\" d=\"M2073.98,-460.91C2064.07,-451.56 2053.45,-441.54 2043.27,-431.93\"/>\n<polygon fill=\"black\" stroke=\"black\" points=\"2045.62,-429.34 2035.95,-425.02 2040.82,-434.43 2045.62,-429.34\"/>\n</g>\n<!-- 112 -->\n<g id=\"node113\" class=\"node\">\n<title>112</title>\n<polygon fill=\"#399de5\" stroke=\"black\" points=\"2183,-417.5 2067,-417.5 2067,-349.5 2183,-349.5 2183,-417.5\"/>\n<text text-anchor=\"middle\" x=\"2125\" y=\"-402.3\" font-family=\"Helvetica,sans-Serif\" font-size=\"14.00\">entropy = 0.0</text>\n<text text-anchor=\"middle\" x=\"2125\" y=\"-387.3\" font-family=\"Helvetica,sans-Serif\" font-size=\"14.00\">samples = 1</text>\n<text text-anchor=\"middle\" x=\"2125\" y=\"-372.3\" font-family=\"Helvetica,sans-Serif\" font-size=\"14.00\">value = [0, 1]</text>\n<text text-anchor=\"middle\" x=\"2125\" y=\"-357.3\" font-family=\"Helvetica,sans-Serif\" font-size=\"14.00\">class = Survived</text>\n</g>\n<!-- 106&#45;&gt;112 -->\n<g id=\"edge112\" class=\"edge\">\n<title>106-&gt;112</title>\n<path fill=\"none\" stroke=\"black\" d=\"M2119.78,-460.91C2120.51,-450.2 2121.3,-438.62 2122.04,-427.78\"/>\n<polygon fill=\"black\" stroke=\"black\" points=\"2125.54,-427.88 2122.73,-417.67 2118.56,-427.4 2125.54,-427.88\"/>\n</g>\n<!-- 108 -->\n<g id=\"node109\" class=\"node\">\n<title>108</title>\n<polygon fill=\"#eeab7b\" stroke=\"black\" points=\"1987.5,-306 1876.5,-306 1876.5,-223 1987.5,-223 1987.5,-306\"/>\n<text text-anchor=\"middle\" x=\"1932\" y=\"-290.8\" font-family=\"Helvetica,sans-Serif\" font-size=\"14.00\">Age &lt;= 27.5</text>\n<text text-anchor=\"middle\" x=\"1932\" y=\"-275.8\" font-family=\"Helvetica,sans-Serif\" font-size=\"14.00\">entropy = 0.811</text>\n<text text-anchor=\"middle\" x=\"1932\" y=\"-260.8\" font-family=\"Helvetica,sans-Serif\" font-size=\"14.00\">samples = 4</text>\n<text text-anchor=\"middle\" x=\"1932\" y=\"-245.8\" font-family=\"Helvetica,sans-Serif\" font-size=\"14.00\">value = [3, 1]</text>\n<text text-anchor=\"middle\" x=\"1932\" y=\"-230.8\" font-family=\"Helvetica,sans-Serif\" font-size=\"14.00\">class = Died</text>\n</g>\n<!-- 107&#45;&gt;108 -->\n<g id=\"edge108\" class=\"edge\">\n<title>107-&gt;108</title>\n<path fill=\"none\" stroke=\"black\" d=\"M1971.84,-341.91C1967.29,-333.2 1962.45,-323.9 1957.75,-314.89\"/>\n<polygon fill=\"black\" stroke=\"black\" points=\"1960.85,-313.27 1953.13,-306.02 1954.65,-316.51 1960.85,-313.27\"/>\n</g>\n<!-- 111 -->\n<g id=\"node112\" class=\"node\">\n<title>111</title>\n<polygon fill=\"#e58139\" stroke=\"black\" points=\"2102,-298.5 2006,-298.5 2006,-230.5 2102,-230.5 2102,-298.5\"/>\n<text text-anchor=\"middle\" x=\"2054\" y=\"-283.3\" font-family=\"Helvetica,sans-Serif\" font-size=\"14.00\">entropy = 0.0</text>\n<text text-anchor=\"middle\" x=\"2054\" y=\"-268.3\" font-family=\"Helvetica,sans-Serif\" font-size=\"14.00\">samples = 3</text>\n<text text-anchor=\"middle\" x=\"2054\" y=\"-253.3\" font-family=\"Helvetica,sans-Serif\" font-size=\"14.00\">value = [3, 0]</text>\n<text text-anchor=\"middle\" x=\"2054\" y=\"-238.3\" font-family=\"Helvetica,sans-Serif\" font-size=\"14.00\">class = Died</text>\n</g>\n<!-- 107&#45;&gt;111 -->\n<g id=\"edge111\" class=\"edge\">\n<title>107-&gt;111</title>\n<path fill=\"none\" stroke=\"black\" d=\"M2014.16,-341.91C2019.92,-330.87 2026.16,-318.9 2031.96,-307.77\"/>\n<polygon fill=\"black\" stroke=\"black\" points=\"2035.19,-309.15 2036.71,-298.67 2028.98,-305.92 2035.19,-309.15\"/>\n</g>\n<!-- 109 -->\n<g id=\"node110\" class=\"node\">\n<title>109</title>\n<polygon fill=\"#e58139\" stroke=\"black\" points=\"1923,-179.5 1827,-179.5 1827,-111.5 1923,-111.5 1923,-179.5\"/>\n<text text-anchor=\"middle\" x=\"1875\" y=\"-164.3\" font-family=\"Helvetica,sans-Serif\" font-size=\"14.00\">entropy = 0.0</text>\n<text text-anchor=\"middle\" x=\"1875\" y=\"-149.3\" font-family=\"Helvetica,sans-Serif\" font-size=\"14.00\">samples = 2</text>\n<text text-anchor=\"middle\" x=\"1875\" y=\"-134.3\" font-family=\"Helvetica,sans-Serif\" font-size=\"14.00\">value = [2, 0]</text>\n<text text-anchor=\"middle\" x=\"1875\" y=\"-119.3\" font-family=\"Helvetica,sans-Serif\" font-size=\"14.00\">class = Died</text>\n</g>\n<!-- 108&#45;&gt;109 -->\n<g id=\"edge109\" class=\"edge\">\n<title>108-&gt;109</title>\n<path fill=\"none\" stroke=\"black\" d=\"M1912.22,-222.91C1906.85,-211.87 1901.01,-199.9 1895.59,-188.77\"/>\n<polygon fill=\"black\" stroke=\"black\" points=\"1898.68,-187.12 1891.16,-179.67 1892.39,-190.19 1898.68,-187.12\"/>\n</g>\n<!-- 110 -->\n<g id=\"node111\" class=\"node\">\n<title>110</title>\n<polygon fill=\"#ffffff\" stroke=\"black\" points=\"2037,-179.5 1941,-179.5 1941,-111.5 2037,-111.5 2037,-179.5\"/>\n<text text-anchor=\"middle\" x=\"1989\" y=\"-164.3\" font-family=\"Helvetica,sans-Serif\" font-size=\"14.00\">entropy = 1.0</text>\n<text text-anchor=\"middle\" x=\"1989\" y=\"-149.3\" font-family=\"Helvetica,sans-Serif\" font-size=\"14.00\">samples = 2</text>\n<text text-anchor=\"middle\" x=\"1989\" y=\"-134.3\" font-family=\"Helvetica,sans-Serif\" font-size=\"14.00\">value = [1, 1]</text>\n<text text-anchor=\"middle\" x=\"1989\" y=\"-119.3\" font-family=\"Helvetica,sans-Serif\" font-size=\"14.00\">class = Died</text>\n</g>\n<!-- 108&#45;&gt;110 -->\n<g id=\"edge110\" class=\"edge\">\n<title>108-&gt;110</title>\n<path fill=\"none\" stroke=\"black\" d=\"M1951.78,-222.91C1957.15,-211.87 1962.99,-199.9 1968.41,-188.77\"/>\n<polygon fill=\"black\" stroke=\"black\" points=\"1971.61,-190.19 1972.84,-179.67 1965.32,-187.12 1971.61,-190.19\"/>\n</g>\n<!-- 114 -->\n<g id=\"node115\" class=\"node\">\n<title>114</title>\n<polygon fill=\"#399de5\" stroke=\"black\" points=\"2307,-536.5 2191,-536.5 2191,-468.5 2307,-468.5 2307,-536.5\"/>\n<text text-anchor=\"middle\" x=\"2249\" y=\"-521.3\" font-family=\"Helvetica,sans-Serif\" font-size=\"14.00\">entropy = 0.0</text>\n<text text-anchor=\"middle\" x=\"2249\" y=\"-506.3\" font-family=\"Helvetica,sans-Serif\" font-size=\"14.00\">samples = 1</text>\n<text text-anchor=\"middle\" x=\"2249\" y=\"-491.3\" font-family=\"Helvetica,sans-Serif\" font-size=\"14.00\">value = [0, 1]</text>\n<text text-anchor=\"middle\" x=\"2249\" y=\"-476.3\" font-family=\"Helvetica,sans-Serif\" font-size=\"14.00\">class = Survived</text>\n</g>\n<!-- 113&#45;&gt;114 -->\n<g id=\"edge114\" class=\"edge\">\n<title>113-&gt;114</title>\n<path fill=\"none\" stroke=\"black\" d=\"M2264.67,-579.91C2262.48,-569.2 2260.1,-557.62 2257.88,-546.78\"/>\n<polygon fill=\"black\" stroke=\"black\" points=\"2261.24,-545.76 2255.8,-536.67 2254.38,-547.17 2261.24,-545.76\"/>\n</g>\n<!-- 115 -->\n<g id=\"node116\" class=\"node\">\n<title>115</title>\n<polygon fill=\"#efb388\" stroke=\"black\" points=\"2436.5,-544 2325.5,-544 2325.5,-461 2436.5,-461 2436.5,-544\"/>\n<text text-anchor=\"middle\" x=\"2381\" y=\"-528.8\" font-family=\"Helvetica,sans-Serif\" font-size=\"14.00\">Age &lt;= 28.5</text>\n<text text-anchor=\"middle\" x=\"2381\" y=\"-513.8\" font-family=\"Helvetica,sans-Serif\" font-size=\"14.00\">entropy = 0.863</text>\n<text text-anchor=\"middle\" x=\"2381\" y=\"-498.8\" font-family=\"Helvetica,sans-Serif\" font-size=\"14.00\">samples = 7</text>\n<text text-anchor=\"middle\" x=\"2381\" y=\"-483.8\" font-family=\"Helvetica,sans-Serif\" font-size=\"14.00\">value = [5, 2]</text>\n<text text-anchor=\"middle\" x=\"2381\" y=\"-468.8\" font-family=\"Helvetica,sans-Serif\" font-size=\"14.00\">class = Died</text>\n</g>\n<!-- 113&#45;&gt;115 -->\n<g id=\"edge115\" class=\"edge\">\n<title>113-&gt;115</title>\n<path fill=\"none\" stroke=\"black\" d=\"M2310.47,-579.91C2318.93,-570.74 2327.99,-560.93 2336.7,-551.49\"/>\n<polygon fill=\"black\" stroke=\"black\" points=\"2339.39,-553.74 2343.6,-544.02 2334.24,-548.99 2339.39,-553.74\"/>\n</g>\n<!-- 116 -->\n<g id=\"node117\" class=\"node\">\n<title>116</title>\n<polygon fill=\"#e58139\" stroke=\"black\" points=\"2305,-417.5 2209,-417.5 2209,-349.5 2305,-349.5 2305,-417.5\"/>\n<text text-anchor=\"middle\" x=\"2257\" y=\"-402.3\" font-family=\"Helvetica,sans-Serif\" font-size=\"14.00\">entropy = 0.0</text>\n<text text-anchor=\"middle\" x=\"2257\" y=\"-387.3\" font-family=\"Helvetica,sans-Serif\" font-size=\"14.00\">samples = 4</text>\n<text text-anchor=\"middle\" x=\"2257\" y=\"-372.3\" font-family=\"Helvetica,sans-Serif\" font-size=\"14.00\">value = [4, 0]</text>\n<text text-anchor=\"middle\" x=\"2257\" y=\"-357.3\" font-family=\"Helvetica,sans-Serif\" font-size=\"14.00\">class = Died</text>\n</g>\n<!-- 115&#45;&gt;116 -->\n<g id=\"edge116\" class=\"edge\">\n<title>115-&gt;116</title>\n<path fill=\"none\" stroke=\"black\" d=\"M2337.98,-460.91C2325.58,-449.21 2312.07,-436.46 2299.69,-424.78\"/>\n<polygon fill=\"black\" stroke=\"black\" points=\"2301.83,-421.98 2292.15,-417.67 2297.02,-427.08 2301.83,-421.98\"/>\n</g>\n<!-- 117 -->\n<g id=\"node118\" class=\"node\">\n<title>117</title>\n<polygon fill=\"#9ccef2\" stroke=\"black\" points=\"2439,-425 2323,-425 2323,-342 2439,-342 2439,-425\"/>\n<text text-anchor=\"middle\" x=\"2381\" y=\"-409.8\" font-family=\"Helvetica,sans-Serif\" font-size=\"14.00\">Fare &lt;= 9.492</text>\n<text text-anchor=\"middle\" x=\"2381\" y=\"-394.8\" font-family=\"Helvetica,sans-Serif\" font-size=\"14.00\">entropy = 0.918</text>\n<text text-anchor=\"middle\" x=\"2381\" y=\"-379.8\" font-family=\"Helvetica,sans-Serif\" font-size=\"14.00\">samples = 3</text>\n<text text-anchor=\"middle\" x=\"2381\" y=\"-364.8\" font-family=\"Helvetica,sans-Serif\" font-size=\"14.00\">value = [1, 2]</text>\n<text text-anchor=\"middle\" x=\"2381\" y=\"-349.8\" font-family=\"Helvetica,sans-Serif\" font-size=\"14.00\">class = Survived</text>\n</g>\n<!-- 115&#45;&gt;117 -->\n<g id=\"edge117\" class=\"edge\">\n<title>115-&gt;117</title>\n<path fill=\"none\" stroke=\"black\" d=\"M2381,-460.91C2381,-452.65 2381,-443.86 2381,-435.3\"/>\n<polygon fill=\"black\" stroke=\"black\" points=\"2384.5,-435.02 2381,-425.02 2377.5,-435.02 2384.5,-435.02\"/>\n</g>\n<!-- 118 -->\n<g id=\"node119\" class=\"node\">\n<title>118</title>\n<polygon fill=\"#e58139\" stroke=\"black\" points=\"2334,-298.5 2238,-298.5 2238,-230.5 2334,-230.5 2334,-298.5\"/>\n<text text-anchor=\"middle\" x=\"2286\" y=\"-283.3\" font-family=\"Helvetica,sans-Serif\" font-size=\"14.00\">entropy = 0.0</text>\n<text text-anchor=\"middle\" x=\"2286\" y=\"-268.3\" font-family=\"Helvetica,sans-Serif\" font-size=\"14.00\">samples = 1</text>\n<text text-anchor=\"middle\" x=\"2286\" y=\"-253.3\" font-family=\"Helvetica,sans-Serif\" font-size=\"14.00\">value = [1, 0]</text>\n<text text-anchor=\"middle\" x=\"2286\" y=\"-238.3\" font-family=\"Helvetica,sans-Serif\" font-size=\"14.00\">class = Died</text>\n</g>\n<!-- 117&#45;&gt;118 -->\n<g id=\"edge118\" class=\"edge\">\n<title>117-&gt;118</title>\n<path fill=\"none\" stroke=\"black\" d=\"M2348.04,-341.91C2338.72,-330.43 2328.58,-317.94 2319.24,-306.44\"/>\n<polygon fill=\"black\" stroke=\"black\" points=\"2321.95,-304.22 2312.93,-298.67 2316.52,-308.64 2321.95,-304.22\"/>\n</g>\n<!-- 119 -->\n<g id=\"node120\" class=\"node\">\n<title>119</title>\n<polygon fill=\"#399de5\" stroke=\"black\" points=\"2468,-298.5 2352,-298.5 2352,-230.5 2468,-230.5 2468,-298.5\"/>\n<text text-anchor=\"middle\" x=\"2410\" y=\"-283.3\" font-family=\"Helvetica,sans-Serif\" font-size=\"14.00\">entropy = 0.0</text>\n<text text-anchor=\"middle\" x=\"2410\" y=\"-268.3\" font-family=\"Helvetica,sans-Serif\" font-size=\"14.00\">samples = 2</text>\n<text text-anchor=\"middle\" x=\"2410\" y=\"-253.3\" font-family=\"Helvetica,sans-Serif\" font-size=\"14.00\">value = [0, 2]</text>\n<text text-anchor=\"middle\" x=\"2410\" y=\"-238.3\" font-family=\"Helvetica,sans-Serif\" font-size=\"14.00\">class = Survived</text>\n</g>\n<!-- 117&#45;&gt;119 -->\n<g id=\"edge119\" class=\"edge\">\n<title>117-&gt;119</title>\n<path fill=\"none\" stroke=\"black\" d=\"M2391.06,-341.91C2393.74,-331.09 2396.65,-319.38 2399.36,-308.44\"/>\n<polygon fill=\"black\" stroke=\"black\" points=\"2402.77,-309.22 2401.78,-298.67 2395.98,-307.53 2402.77,-309.22\"/>\n</g>\n<!-- 121 -->\n<g id=\"node122\" class=\"node\">\n<title>121</title>\n<polygon fill=\"#ea975c\" stroke=\"black\" points=\"2591,-663 2487,-663 2487,-580 2591,-580 2591,-663\"/>\n<text text-anchor=\"middle\" x=\"2539\" y=\"-647.8\" font-family=\"Helvetica,sans-Serif\" font-size=\"14.00\">Age &lt;= 59.5</text>\n<text text-anchor=\"middle\" x=\"2539\" y=\"-632.8\" font-family=\"Helvetica,sans-Serif\" font-size=\"14.00\">entropy = 0.61</text>\n<text text-anchor=\"middle\" x=\"2539\" y=\"-617.8\" font-family=\"Helvetica,sans-Serif\" font-size=\"14.00\">samples = 20</text>\n<text text-anchor=\"middle\" x=\"2539\" y=\"-602.8\" font-family=\"Helvetica,sans-Serif\" font-size=\"14.00\">value = [17, 3]</text>\n<text text-anchor=\"middle\" x=\"2539\" y=\"-587.8\" font-family=\"Helvetica,sans-Serif\" font-size=\"14.00\">class = Died</text>\n</g>\n<!-- 120&#45;&gt;121 -->\n<g id=\"edge121\" class=\"edge\">\n<title>120-&gt;121</title>\n<path fill=\"none\" stroke=\"black\" d=\"M2539,-698.91C2539,-690.65 2539,-681.86 2539,-673.3\"/>\n<polygon fill=\"black\" stroke=\"black\" points=\"2542.5,-673.02 2539,-663.02 2535.5,-673.02 2542.5,-673.02\"/>\n</g>\n<!-- 134 -->\n<g id=\"node135\" class=\"node\">\n<title>134</title>\n<polygon fill=\"#e58139\" stroke=\"black\" points=\"2705,-655.5 2609,-655.5 2609,-587.5 2705,-587.5 2705,-655.5\"/>\n<text text-anchor=\"middle\" x=\"2657\" y=\"-640.3\" font-family=\"Helvetica,sans-Serif\" font-size=\"14.00\">entropy = 0.0</text>\n<text text-anchor=\"middle\" x=\"2657\" y=\"-625.3\" font-family=\"Helvetica,sans-Serif\" font-size=\"14.00\">samples = 4</text>\n<text text-anchor=\"middle\" x=\"2657\" y=\"-610.3\" font-family=\"Helvetica,sans-Serif\" font-size=\"14.00\">value = [4, 0]</text>\n<text text-anchor=\"middle\" x=\"2657\" y=\"-595.3\" font-family=\"Helvetica,sans-Serif\" font-size=\"14.00\">class = Died</text>\n</g>\n<!-- 120&#45;&gt;134 -->\n<g id=\"edge134\" class=\"edge\">\n<title>120-&gt;134</title>\n<path fill=\"none\" stroke=\"black\" d=\"M2579.94,-698.91C2591.74,-687.21 2604.6,-674.46 2616.38,-662.78\"/>\n<polygon fill=\"black\" stroke=\"black\" points=\"2618.91,-665.19 2623.55,-655.67 2613.98,-660.22 2618.91,-665.19\"/>\n</g>\n<!-- 122 -->\n<g id=\"node123\" class=\"node\">\n<title>122</title>\n<polygon fill=\"#e89253\" stroke=\"black\" points=\"2594.5,-544 2483.5,-544 2483.5,-461 2594.5,-461 2594.5,-544\"/>\n<text text-anchor=\"middle\" x=\"2539\" y=\"-528.8\" font-family=\"Helvetica,sans-Serif\" font-size=\"14.00\">Fare &lt;= 12.762</text>\n<text text-anchor=\"middle\" x=\"2539\" y=\"-513.8\" font-family=\"Helvetica,sans-Serif\" font-size=\"14.00\">entropy = 0.523</text>\n<text text-anchor=\"middle\" x=\"2539\" y=\"-498.8\" font-family=\"Helvetica,sans-Serif\" font-size=\"14.00\">samples = 17</text>\n<text text-anchor=\"middle\" x=\"2539\" y=\"-483.8\" font-family=\"Helvetica,sans-Serif\" font-size=\"14.00\">value = [15, 2]</text>\n<text text-anchor=\"middle\" x=\"2539\" y=\"-468.8\" font-family=\"Helvetica,sans-Serif\" font-size=\"14.00\">class = Died</text>\n</g>\n<!-- 121&#45;&gt;122 -->\n<g id=\"edge122\" class=\"edge\">\n<title>121-&gt;122</title>\n<path fill=\"none\" stroke=\"black\" d=\"M2539,-579.91C2539,-571.65 2539,-562.86 2539,-554.3\"/>\n<polygon fill=\"black\" stroke=\"black\" points=\"2542.5,-554.02 2539,-544.02 2535.5,-554.02 2542.5,-554.02\"/>\n</g>\n<!-- 131 -->\n<g id=\"node132\" class=\"node\">\n<title>131</title>\n<polygon fill=\"#f2c09c\" stroke=\"black\" points=\"2814.5,-544 2703.5,-544 2703.5,-461 2814.5,-461 2814.5,-544\"/>\n<text text-anchor=\"middle\" x=\"2759\" y=\"-528.8\" font-family=\"Helvetica,sans-Serif\" font-size=\"14.00\">Age &lt;= 64.0</text>\n<text text-anchor=\"middle\" x=\"2759\" y=\"-513.8\" font-family=\"Helvetica,sans-Serif\" font-size=\"14.00\">entropy = 0.918</text>\n<text text-anchor=\"middle\" x=\"2759\" y=\"-498.8\" font-family=\"Helvetica,sans-Serif\" font-size=\"14.00\">samples = 3</text>\n<text text-anchor=\"middle\" x=\"2759\" y=\"-483.8\" font-family=\"Helvetica,sans-Serif\" font-size=\"14.00\">value = [2, 1]</text>\n<text text-anchor=\"middle\" x=\"2759\" y=\"-468.8\" font-family=\"Helvetica,sans-Serif\" font-size=\"14.00\">class = Died</text>\n</g>\n<!-- 121&#45;&gt;131 -->\n<g id=\"edge131\" class=\"edge\">\n<title>121-&gt;131</title>\n<path fill=\"none\" stroke=\"black\" d=\"M2591.28,-585.13C2594.21,-583.35 2597.13,-581.63 2600,-580 2630.15,-562.85 2664.74,-545.9 2693.94,-532.33\"/>\n<polygon fill=\"black\" stroke=\"black\" points=\"2695.61,-535.42 2703.22,-528.05 2692.67,-529.06 2695.61,-535.42\"/>\n</g>\n<!-- 123 -->\n<g id=\"node124\" class=\"node\">\n<title>123</title>\n<polygon fill=\"#e58139\" stroke=\"black\" points=\"2553,-417.5 2457,-417.5 2457,-349.5 2553,-349.5 2553,-417.5\"/>\n<text text-anchor=\"middle\" x=\"2505\" y=\"-402.3\" font-family=\"Helvetica,sans-Serif\" font-size=\"14.00\">entropy = 0.0</text>\n<text text-anchor=\"middle\" x=\"2505\" y=\"-387.3\" font-family=\"Helvetica,sans-Serif\" font-size=\"14.00\">samples = 6</text>\n<text text-anchor=\"middle\" x=\"2505\" y=\"-372.3\" font-family=\"Helvetica,sans-Serif\" font-size=\"14.00\">value = [6, 0]</text>\n<text text-anchor=\"middle\" x=\"2505\" y=\"-357.3\" font-family=\"Helvetica,sans-Serif\" font-size=\"14.00\">class = Died</text>\n</g>\n<!-- 122&#45;&gt;123 -->\n<g id=\"edge123\" class=\"edge\">\n<title>122-&gt;123</title>\n<path fill=\"none\" stroke=\"black\" d=\"M2527.2,-460.91C2524.06,-450.09 2520.66,-438.38 2517.48,-427.44\"/>\n<polygon fill=\"black\" stroke=\"black\" points=\"2520.79,-426.29 2514.64,-417.67 2514.07,-428.25 2520.79,-426.29\"/>\n</g>\n<!-- 124 -->\n<g id=\"node125\" class=\"node\">\n<title>124</title>\n<polygon fill=\"#eb9d65\" stroke=\"black\" points=\"2682.5,-425 2571.5,-425 2571.5,-342 2682.5,-342 2682.5,-425\"/>\n<text text-anchor=\"middle\" x=\"2627\" y=\"-409.8\" font-family=\"Helvetica,sans-Serif\" font-size=\"14.00\">Age &lt;= 45.0</text>\n<text text-anchor=\"middle\" x=\"2627\" y=\"-394.8\" font-family=\"Helvetica,sans-Serif\" font-size=\"14.00\">entropy = 0.684</text>\n<text text-anchor=\"middle\" x=\"2627\" y=\"-379.8\" font-family=\"Helvetica,sans-Serif\" font-size=\"14.00\">samples = 11</text>\n<text text-anchor=\"middle\" x=\"2627\" y=\"-364.8\" font-family=\"Helvetica,sans-Serif\" font-size=\"14.00\">value = [9, 2]</text>\n<text text-anchor=\"middle\" x=\"2627\" y=\"-349.8\" font-family=\"Helvetica,sans-Serif\" font-size=\"14.00\">class = Died</text>\n</g>\n<!-- 122&#45;&gt;124 -->\n<g id=\"edge124\" class=\"edge\">\n<title>122-&gt;124</title>\n<path fill=\"none\" stroke=\"black\" d=\"M2569.53,-460.91C2576.29,-451.92 2583.52,-442.32 2590.48,-433.05\"/>\n<polygon fill=\"black\" stroke=\"black\" points=\"2593.31,-435.12 2596.52,-425.02 2587.71,-430.91 2593.31,-435.12\"/>\n</g>\n<!-- 125 -->\n<g id=\"node126\" class=\"node\">\n<title>125</title>\n<polygon fill=\"#eeab7b\" stroke=\"black\" points=\"2654.5,-306 2543.5,-306 2543.5,-223 2654.5,-223 2654.5,-306\"/>\n<text text-anchor=\"middle\" x=\"2599\" y=\"-290.8\" font-family=\"Helvetica,sans-Serif\" font-size=\"14.00\">Age &lt;= 40.5</text>\n<text text-anchor=\"middle\" x=\"2599\" y=\"-275.8\" font-family=\"Helvetica,sans-Serif\" font-size=\"14.00\">entropy = 0.811</text>\n<text text-anchor=\"middle\" x=\"2599\" y=\"-260.8\" font-family=\"Helvetica,sans-Serif\" font-size=\"14.00\">samples = 8</text>\n<text text-anchor=\"middle\" x=\"2599\" y=\"-245.8\" font-family=\"Helvetica,sans-Serif\" font-size=\"14.00\">value = [6, 2]</text>\n<text text-anchor=\"middle\" x=\"2599\" y=\"-230.8\" font-family=\"Helvetica,sans-Serif\" font-size=\"14.00\">class = Died</text>\n</g>\n<!-- 124&#45;&gt;125 -->\n<g id=\"edge125\" class=\"edge\">\n<title>124-&gt;125</title>\n<path fill=\"none\" stroke=\"black\" d=\"M2617.29,-341.91C2615.29,-333.56 2613.16,-324.67 2611.09,-316.02\"/>\n<polygon fill=\"black\" stroke=\"black\" points=\"2614.43,-314.93 2608.7,-306.02 2607.62,-316.56 2614.43,-314.93\"/>\n</g>\n<!-- 130 -->\n<g id=\"node131\" class=\"node\">\n<title>130</title>\n<polygon fill=\"#e58139\" stroke=\"black\" points=\"2769,-298.5 2673,-298.5 2673,-230.5 2769,-230.5 2769,-298.5\"/>\n<text text-anchor=\"middle\" x=\"2721\" y=\"-283.3\" font-family=\"Helvetica,sans-Serif\" font-size=\"14.00\">entropy = 0.0</text>\n<text text-anchor=\"middle\" x=\"2721\" y=\"-268.3\" font-family=\"Helvetica,sans-Serif\" font-size=\"14.00\">samples = 3</text>\n<text text-anchor=\"middle\" x=\"2721\" y=\"-253.3\" font-family=\"Helvetica,sans-Serif\" font-size=\"14.00\">value = [3, 0]</text>\n<text text-anchor=\"middle\" x=\"2721\" y=\"-238.3\" font-family=\"Helvetica,sans-Serif\" font-size=\"14.00\">class = Died</text>\n</g>\n<!-- 124&#45;&gt;130 -->\n<g id=\"edge130\" class=\"edge\">\n<title>124-&gt;130</title>\n<path fill=\"none\" stroke=\"black\" d=\"M2659.61,-341.91C2668.74,-330.54 2678.68,-318.18 2687.84,-306.77\"/>\n<polygon fill=\"black\" stroke=\"black\" points=\"2690.82,-308.65 2694.35,-298.67 2685.36,-304.27 2690.82,-308.65\"/>\n</g>\n<!-- 126 -->\n<g id=\"node127\" class=\"node\">\n<title>126</title>\n<polygon fill=\"#ea9a61\" stroke=\"black\" points=\"2592,-187 2488,-187 2488,-104 2592,-104 2592,-187\"/>\n<text text-anchor=\"middle\" x=\"2540\" y=\"-171.8\" font-family=\"Helvetica,sans-Serif\" font-size=\"14.00\">Age &lt;= 35.0</text>\n<text text-anchor=\"middle\" x=\"2540\" y=\"-156.8\" font-family=\"Helvetica,sans-Serif\" font-size=\"14.00\">entropy = 0.65</text>\n<text text-anchor=\"middle\" x=\"2540\" y=\"-141.8\" font-family=\"Helvetica,sans-Serif\" font-size=\"14.00\">samples = 6</text>\n<text text-anchor=\"middle\" x=\"2540\" y=\"-126.8\" font-family=\"Helvetica,sans-Serif\" font-size=\"14.00\">value = [5, 1]</text>\n<text text-anchor=\"middle\" x=\"2540\" y=\"-111.8\" font-family=\"Helvetica,sans-Serif\" font-size=\"14.00\">class = Died</text>\n</g>\n<!-- 125&#45;&gt;126 -->\n<g id=\"edge126\" class=\"edge\">\n<title>125-&gt;126</title>\n<path fill=\"none\" stroke=\"black\" d=\"M2578.53,-222.91C2574.18,-214.29 2569.55,-205.09 2565.05,-196.17\"/>\n<polygon fill=\"black\" stroke=\"black\" points=\"2568.06,-194.37 2560.43,-187.02 2561.81,-197.53 2568.06,-194.37\"/>\n</g>\n<!-- 129 -->\n<g id=\"node130\" class=\"node\">\n<title>129</title>\n<polygon fill=\"#ffffff\" stroke=\"black\" points=\"2706,-179.5 2610,-179.5 2610,-111.5 2706,-111.5 2706,-179.5\"/>\n<text text-anchor=\"middle\" x=\"2658\" y=\"-164.3\" font-family=\"Helvetica,sans-Serif\" font-size=\"14.00\">entropy = 1.0</text>\n<text text-anchor=\"middle\" x=\"2658\" y=\"-149.3\" font-family=\"Helvetica,sans-Serif\" font-size=\"14.00\">samples = 2</text>\n<text text-anchor=\"middle\" x=\"2658\" y=\"-134.3\" font-family=\"Helvetica,sans-Serif\" font-size=\"14.00\">value = [1, 1]</text>\n<text text-anchor=\"middle\" x=\"2658\" y=\"-119.3\" font-family=\"Helvetica,sans-Serif\" font-size=\"14.00\">class = Died</text>\n</g>\n<!-- 125&#45;&gt;129 -->\n<g id=\"edge129\" class=\"edge\">\n<title>125-&gt;129</title>\n<path fill=\"none\" stroke=\"black\" d=\"M2619.47,-222.91C2625.03,-211.87 2631.07,-199.9 2636.68,-188.77\"/>\n<polygon fill=\"black\" stroke=\"black\" points=\"2639.9,-190.17 2641.27,-179.67 2633.65,-187.02 2639.9,-190.17\"/>\n</g>\n<!-- 127 -->\n<g id=\"node128\" class=\"node\">\n<title>127</title>\n<polygon fill=\"#f2c09c\" stroke=\"black\" points=\"2534.5,-68 2423.5,-68 2423.5,0 2534.5,0 2534.5,-68\"/>\n<text text-anchor=\"middle\" x=\"2479\" y=\"-52.8\" font-family=\"Helvetica,sans-Serif\" font-size=\"14.00\">entropy = 0.918</text>\n<text text-anchor=\"middle\" x=\"2479\" y=\"-37.8\" font-family=\"Helvetica,sans-Serif\" font-size=\"14.00\">samples = 3</text>\n<text text-anchor=\"middle\" x=\"2479\" y=\"-22.8\" font-family=\"Helvetica,sans-Serif\" font-size=\"14.00\">value = [2, 1]</text>\n<text text-anchor=\"middle\" x=\"2479\" y=\"-7.8\" font-family=\"Helvetica,sans-Serif\" font-size=\"14.00\">class = Died</text>\n</g>\n<!-- 126&#45;&gt;127 -->\n<g id=\"edge127\" class=\"edge\">\n<title>126-&gt;127</title>\n<path fill=\"none\" stroke=\"black\" d=\"M2517.29,-103.73C2512.46,-95.06 2507.35,-85.9 2502.5,-77.18\"/>\n<polygon fill=\"black\" stroke=\"black\" points=\"2505.47,-75.33 2497.55,-68.3 2499.36,-78.74 2505.47,-75.33\"/>\n</g>\n<!-- 128 -->\n<g id=\"node129\" class=\"node\">\n<title>128</title>\n<polygon fill=\"#e58139\" stroke=\"black\" points=\"2649,-68 2553,-68 2553,0 2649,0 2649,-68\"/>\n<text text-anchor=\"middle\" x=\"2601\" y=\"-52.8\" font-family=\"Helvetica,sans-Serif\" font-size=\"14.00\">entropy = 0.0</text>\n<text text-anchor=\"middle\" x=\"2601\" y=\"-37.8\" font-family=\"Helvetica,sans-Serif\" font-size=\"14.00\">samples = 3</text>\n<text text-anchor=\"middle\" x=\"2601\" y=\"-22.8\" font-family=\"Helvetica,sans-Serif\" font-size=\"14.00\">value = [3, 0]</text>\n<text text-anchor=\"middle\" x=\"2601\" y=\"-7.8\" font-family=\"Helvetica,sans-Serif\" font-size=\"14.00\">class = Died</text>\n</g>\n<!-- 126&#45;&gt;128 -->\n<g id=\"edge128\" class=\"edge\">\n<title>126-&gt;128</title>\n<path fill=\"none\" stroke=\"black\" d=\"M2562.71,-103.73C2567.54,-95.06 2572.65,-85.9 2577.5,-77.18\"/>\n<polygon fill=\"black\" stroke=\"black\" points=\"2580.64,-78.74 2582.45,-68.3 2574.53,-75.33 2580.64,-78.74\"/>\n</g>\n<!-- 132 -->\n<g id=\"node133\" class=\"node\">\n<title>132</title>\n<polygon fill=\"#399de5\" stroke=\"black\" points=\"2817,-417.5 2701,-417.5 2701,-349.5 2817,-349.5 2817,-417.5\"/>\n<text text-anchor=\"middle\" x=\"2759\" y=\"-402.3\" font-family=\"Helvetica,sans-Serif\" font-size=\"14.00\">entropy = 0.0</text>\n<text text-anchor=\"middle\" x=\"2759\" y=\"-387.3\" font-family=\"Helvetica,sans-Serif\" font-size=\"14.00\">samples = 1</text>\n<text text-anchor=\"middle\" x=\"2759\" y=\"-372.3\" font-family=\"Helvetica,sans-Serif\" font-size=\"14.00\">value = [0, 1]</text>\n<text text-anchor=\"middle\" x=\"2759\" y=\"-357.3\" font-family=\"Helvetica,sans-Serif\" font-size=\"14.00\">class = Survived</text>\n</g>\n<!-- 131&#45;&gt;132 -->\n<g id=\"edge132\" class=\"edge\">\n<title>131-&gt;132</title>\n<path fill=\"none\" stroke=\"black\" d=\"M2759,-460.91C2759,-450.2 2759,-438.62 2759,-427.78\"/>\n<polygon fill=\"black\" stroke=\"black\" points=\"2762.5,-427.67 2759,-417.67 2755.5,-427.67 2762.5,-427.67\"/>\n</g>\n<!-- 133 -->\n<g id=\"node134\" class=\"node\">\n<title>133</title>\n<polygon fill=\"#e58139\" stroke=\"black\" points=\"2931,-417.5 2835,-417.5 2835,-349.5 2931,-349.5 2931,-417.5\"/>\n<text text-anchor=\"middle\" x=\"2883\" y=\"-402.3\" font-family=\"Helvetica,sans-Serif\" font-size=\"14.00\">entropy = 0.0</text>\n<text text-anchor=\"middle\" x=\"2883\" y=\"-387.3\" font-family=\"Helvetica,sans-Serif\" font-size=\"14.00\">samples = 2</text>\n<text text-anchor=\"middle\" x=\"2883\" y=\"-372.3\" font-family=\"Helvetica,sans-Serif\" font-size=\"14.00\">value = [2, 0]</text>\n<text text-anchor=\"middle\" x=\"2883\" y=\"-357.3\" font-family=\"Helvetica,sans-Serif\" font-size=\"14.00\">class = Died</text>\n</g>\n<!-- 131&#45;&gt;133 -->\n<g id=\"edge133\" class=\"edge\">\n<title>131-&gt;133</title>\n<path fill=\"none\" stroke=\"black\" d=\"M2802.02,-460.91C2814.42,-449.21 2827.93,-436.46 2840.31,-424.78\"/>\n<polygon fill=\"black\" stroke=\"black\" points=\"2842.98,-427.08 2847.85,-417.67 2838.17,-421.98 2842.98,-427.08\"/>\n</g>\n<!-- 136 -->\n<g id=\"node137\" class=\"node\">\n<title>136</title>\n<polygon fill=\"#e58139\" stroke=\"black\" points=\"2157,-1607.5 2055,-1607.5 2055,-1539.5 2157,-1539.5 2157,-1607.5\"/>\n<text text-anchor=\"middle\" x=\"2106\" y=\"-1592.3\" font-family=\"Helvetica,sans-Serif\" font-size=\"14.00\">entropy = 0.0</text>\n<text text-anchor=\"middle\" x=\"2106\" y=\"-1577.3\" font-family=\"Helvetica,sans-Serif\" font-size=\"14.00\">samples = 37</text>\n<text text-anchor=\"middle\" x=\"2106\" y=\"-1562.3\" font-family=\"Helvetica,sans-Serif\" font-size=\"14.00\">value = [37, 0]</text>\n<text text-anchor=\"middle\" x=\"2106\" y=\"-1547.3\" font-family=\"Helvetica,sans-Serif\" font-size=\"14.00\">class = Died</text>\n</g>\n<!-- 135&#45;&gt;136 -->\n<g id=\"edge136\" class=\"edge\">\n<title>135-&gt;136</title>\n<path fill=\"none\" stroke=\"black\" d=\"M2186.98,-1650.91C2174.58,-1639.21 2161.07,-1626.46 2148.69,-1614.78\"/>\n<polygon fill=\"black\" stroke=\"black\" points=\"2150.83,-1611.98 2141.15,-1607.67 2146.02,-1617.08 2150.83,-1611.98\"/>\n</g>\n<!-- 137 -->\n<g id=\"node138\" class=\"node\">\n<title>137</title>\n<polygon fill=\"#e78b49\" stroke=\"black\" points=\"2286.5,-1615 2175.5,-1615 2175.5,-1532 2286.5,-1532 2286.5,-1615\"/>\n<text text-anchor=\"middle\" x=\"2231\" y=\"-1599.8\" font-family=\"Helvetica,sans-Serif\" font-size=\"14.00\">Fare &lt;= 23.35</text>\n<text text-anchor=\"middle\" x=\"2231\" y=\"-1584.8\" font-family=\"Helvetica,sans-Serif\" font-size=\"14.00\">entropy = 0.381</text>\n<text text-anchor=\"middle\" x=\"2231\" y=\"-1569.8\" font-family=\"Helvetica,sans-Serif\" font-size=\"14.00\">samples = 27</text>\n<text text-anchor=\"middle\" x=\"2231\" y=\"-1554.8\" font-family=\"Helvetica,sans-Serif\" font-size=\"14.00\">value = [25, 2]</text>\n<text text-anchor=\"middle\" x=\"2231\" y=\"-1539.8\" font-family=\"Helvetica,sans-Serif\" font-size=\"14.00\">class = Died</text>\n</g>\n<!-- 135&#45;&gt;137 -->\n<g id=\"edge137\" class=\"edge\">\n<title>135-&gt;137</title>\n<path fill=\"none\" stroke=\"black\" d=\"M2230.35,-1650.91C2230.42,-1642.65 2230.49,-1633.86 2230.57,-1625.3\"/>\n<polygon fill=\"black\" stroke=\"black\" points=\"2234.07,-1625.05 2230.65,-1615.02 2227.07,-1624.99 2234.07,-1625.05\"/>\n</g>\n<!-- 138 -->\n<g id=\"node139\" class=\"node\">\n<title>138</title>\n<polygon fill=\"#399de5\" stroke=\"black\" points=\"2184,-1488.5 2068,-1488.5 2068,-1420.5 2184,-1420.5 2184,-1488.5\"/>\n<text text-anchor=\"middle\" x=\"2126\" y=\"-1473.3\" font-family=\"Helvetica,sans-Serif\" font-size=\"14.00\">entropy = 0.0</text>\n<text text-anchor=\"middle\" x=\"2126\" y=\"-1458.3\" font-family=\"Helvetica,sans-Serif\" font-size=\"14.00\">samples = 1</text>\n<text text-anchor=\"middle\" x=\"2126\" y=\"-1443.3\" font-family=\"Helvetica,sans-Serif\" font-size=\"14.00\">value = [0, 1]</text>\n<text text-anchor=\"middle\" x=\"2126\" y=\"-1428.3\" font-family=\"Helvetica,sans-Serif\" font-size=\"14.00\">class = Survived</text>\n</g>\n<!-- 137&#45;&gt;138 -->\n<g id=\"edge138\" class=\"edge\">\n<title>137-&gt;138</title>\n<path fill=\"none\" stroke=\"black\" d=\"M2194.57,-1531.91C2184.17,-1520.32 2172.84,-1507.7 2162.45,-1496.11\"/>\n<polygon fill=\"black\" stroke=\"black\" points=\"2165.05,-1493.77 2155.77,-1488.67 2159.84,-1498.45 2165.05,-1493.77\"/>\n</g>\n<!-- 139 -->\n<g id=\"node140\" class=\"node\">\n<title>139</title>\n<polygon fill=\"#e68641\" stroke=\"black\" points=\"2313.5,-1496 2202.5,-1496 2202.5,-1413 2313.5,-1413 2313.5,-1496\"/>\n<text text-anchor=\"middle\" x=\"2258\" y=\"-1480.8\" font-family=\"Helvetica,sans-Serif\" font-size=\"14.00\">Age &lt;= 33.0</text>\n<text text-anchor=\"middle\" x=\"2258\" y=\"-1465.8\" font-family=\"Helvetica,sans-Serif\" font-size=\"14.00\">entropy = 0.235</text>\n<text text-anchor=\"middle\" x=\"2258\" y=\"-1450.8\" font-family=\"Helvetica,sans-Serif\" font-size=\"14.00\">samples = 26</text>\n<text text-anchor=\"middle\" x=\"2258\" y=\"-1435.8\" font-family=\"Helvetica,sans-Serif\" font-size=\"14.00\">value = [25, 1]</text>\n<text text-anchor=\"middle\" x=\"2258\" y=\"-1420.8\" font-family=\"Helvetica,sans-Serif\" font-size=\"14.00\">class = Died</text>\n</g>\n<!-- 137&#45;&gt;139 -->\n<g id=\"edge139\" class=\"edge\">\n<title>137-&gt;139</title>\n<path fill=\"none\" stroke=\"black\" d=\"M2240.37,-1531.91C2242.29,-1523.56 2244.35,-1514.67 2246.34,-1506.02\"/>\n<polygon fill=\"black\" stroke=\"black\" points=\"2249.81,-1506.55 2248.65,-1496.02 2242.99,-1504.98 2249.81,-1506.55\"/>\n</g>\n<!-- 140 -->\n<g id=\"node141\" class=\"node\">\n<title>140</title>\n<polygon fill=\"#e78c4b\" stroke=\"black\" points=\"2190.5,-1377 2079.5,-1377 2079.5,-1294 2190.5,-1294 2190.5,-1377\"/>\n<text text-anchor=\"middle\" x=\"2135\" y=\"-1361.8\" font-family=\"Helvetica,sans-Serif\" font-size=\"14.00\">Age &lt;= 31.5</text>\n<text text-anchor=\"middle\" x=\"2135\" y=\"-1346.8\" font-family=\"Helvetica,sans-Serif\" font-size=\"14.00\">entropy = 0.414</text>\n<text text-anchor=\"middle\" x=\"2135\" y=\"-1331.8\" font-family=\"Helvetica,sans-Serif\" font-size=\"14.00\">samples = 12</text>\n<text text-anchor=\"middle\" x=\"2135\" y=\"-1316.8\" font-family=\"Helvetica,sans-Serif\" font-size=\"14.00\">value = [11, 1]</text>\n<text text-anchor=\"middle\" x=\"2135\" y=\"-1301.8\" font-family=\"Helvetica,sans-Serif\" font-size=\"14.00\">class = Died</text>\n</g>\n<!-- 139&#45;&gt;140 -->\n<g id=\"edge140\" class=\"edge\">\n<title>139-&gt;140</title>\n<path fill=\"none\" stroke=\"black\" d=\"M2215.33,-1412.91C2205.5,-1403.56 2194.96,-1393.54 2184.86,-1383.93\"/>\n<polygon fill=\"black\" stroke=\"black\" points=\"2187.26,-1381.38 2177.6,-1377.02 2182.43,-1386.45 2187.26,-1381.38\"/>\n</g>\n<!-- 143 -->\n<g id=\"node144\" class=\"node\">\n<title>143</title>\n<polygon fill=\"#e58139\" stroke=\"black\" points=\"2311,-1369.5 2209,-1369.5 2209,-1301.5 2311,-1301.5 2311,-1369.5\"/>\n<text text-anchor=\"middle\" x=\"2260\" y=\"-1354.3\" font-family=\"Helvetica,sans-Serif\" font-size=\"14.00\">entropy = 0.0</text>\n<text text-anchor=\"middle\" x=\"2260\" y=\"-1339.3\" font-family=\"Helvetica,sans-Serif\" font-size=\"14.00\">samples = 14</text>\n<text text-anchor=\"middle\" x=\"2260\" y=\"-1324.3\" font-family=\"Helvetica,sans-Serif\" font-size=\"14.00\">value = [14, 0]</text>\n<text text-anchor=\"middle\" x=\"2260\" y=\"-1309.3\" font-family=\"Helvetica,sans-Serif\" font-size=\"14.00\">class = Died</text>\n</g>\n<!-- 139&#45;&gt;143 -->\n<g id=\"edge143\" class=\"edge\">\n<title>139-&gt;143</title>\n<path fill=\"none\" stroke=\"black\" d=\"M2258.69,-1412.91C2258.88,-1402.2 2259.07,-1390.62 2259.26,-1379.78\"/>\n<polygon fill=\"black\" stroke=\"black\" points=\"2262.76,-1379.73 2259.43,-1369.67 2255.76,-1379.61 2262.76,-1379.73\"/>\n</g>\n<!-- 141 -->\n<g id=\"node142\" class=\"node\">\n<title>141</title>\n<polygon fill=\"#e58139\" stroke=\"black\" points=\"2067,-1250.5 1965,-1250.5 1965,-1182.5 2067,-1182.5 2067,-1250.5\"/>\n<text text-anchor=\"middle\" x=\"2016\" y=\"-1235.3\" font-family=\"Helvetica,sans-Serif\" font-size=\"14.00\">entropy = 0.0</text>\n<text text-anchor=\"middle\" x=\"2016\" y=\"-1220.3\" font-family=\"Helvetica,sans-Serif\" font-size=\"14.00\">samples = 11</text>\n<text text-anchor=\"middle\" x=\"2016\" y=\"-1205.3\" font-family=\"Helvetica,sans-Serif\" font-size=\"14.00\">value = [11, 0]</text>\n<text text-anchor=\"middle\" x=\"2016\" y=\"-1190.3\" font-family=\"Helvetica,sans-Serif\" font-size=\"14.00\">class = Died</text>\n</g>\n<!-- 140&#45;&gt;141 -->\n<g id=\"edge141\" class=\"edge\">\n<title>140-&gt;141</title>\n<path fill=\"none\" stroke=\"black\" d=\"M2093.71,-1293.91C2081.82,-1282.21 2068.85,-1269.46 2056.97,-1257.78\"/>\n<polygon fill=\"black\" stroke=\"black\" points=\"2059.32,-1255.18 2049.73,-1250.67 2054.41,-1260.17 2059.32,-1255.18\"/>\n</g>\n<!-- 142 -->\n<g id=\"node143\" class=\"node\">\n<title>142</title>\n<polygon fill=\"#399de5\" stroke=\"black\" points=\"2201,-1250.5 2085,-1250.5 2085,-1182.5 2201,-1182.5 2201,-1250.5\"/>\n<text text-anchor=\"middle\" x=\"2143\" y=\"-1235.3\" font-family=\"Helvetica,sans-Serif\" font-size=\"14.00\">entropy = 0.0</text>\n<text text-anchor=\"middle\" x=\"2143\" y=\"-1220.3\" font-family=\"Helvetica,sans-Serif\" font-size=\"14.00\">samples = 1</text>\n<text text-anchor=\"middle\" x=\"2143\" y=\"-1205.3\" font-family=\"Helvetica,sans-Serif\" font-size=\"14.00\">value = [0, 1]</text>\n<text text-anchor=\"middle\" x=\"2143\" y=\"-1190.3\" font-family=\"Helvetica,sans-Serif\" font-size=\"14.00\">class = Survived</text>\n</g>\n<!-- 140&#45;&gt;142 -->\n<g id=\"edge142\" class=\"edge\">\n<title>140-&gt;142</title>\n<path fill=\"none\" stroke=\"black\" d=\"M2137.78,-1293.91C2138.51,-1283.2 2139.3,-1271.62 2140.04,-1260.78\"/>\n<polygon fill=\"black\" stroke=\"black\" points=\"2143.54,-1260.88 2140.73,-1250.67 2136.56,-1260.4 2143.54,-1260.88\"/>\n</g>\n<!-- 145 -->\n<g id=\"node146\" class=\"node\">\n<title>145</title>\n<polygon fill=\"#e99456\" stroke=\"black\" points=\"2471.5,-1734 2360.5,-1734 2360.5,-1651 2471.5,-1651 2471.5,-1734\"/>\n<text text-anchor=\"middle\" x=\"2416\" y=\"-1718.8\" font-family=\"Helvetica,sans-Serif\" font-size=\"14.00\">Age &lt;= 29.5</text>\n<text text-anchor=\"middle\" x=\"2416\" y=\"-1703.8\" font-family=\"Helvetica,sans-Serif\" font-size=\"14.00\">entropy = 0.552</text>\n<text text-anchor=\"middle\" x=\"2416\" y=\"-1688.8\" font-family=\"Helvetica,sans-Serif\" font-size=\"14.00\">samples = 39</text>\n<text text-anchor=\"middle\" x=\"2416\" y=\"-1673.8\" font-family=\"Helvetica,sans-Serif\" font-size=\"14.00\">value = [34, 5]</text>\n<text text-anchor=\"middle\" x=\"2416\" y=\"-1658.8\" font-family=\"Helvetica,sans-Serif\" font-size=\"14.00\">class = Died</text>\n</g>\n<!-- 144&#45;&gt;145 -->\n<g id=\"edge145\" class=\"edge\">\n<title>144-&gt;145</title>\n<path fill=\"none\" stroke=\"black\" d=\"M2416,-1769.91C2416,-1761.65 2416,-1752.86 2416,-1744.3\"/>\n<polygon fill=\"black\" stroke=\"black\" points=\"2419.5,-1744.02 2416,-1734.02 2412.5,-1744.02 2419.5,-1744.02\"/>\n</g>\n<!-- 172 -->\n<g id=\"node173\" class=\"node\">\n<title>172</title>\n<polygon fill=\"#9ccef2\" stroke=\"black\" points=\"2688,-1734 2572,-1734 2572,-1651 2688,-1651 2688,-1734\"/>\n<text text-anchor=\"middle\" x=\"2630\" y=\"-1718.8\" font-family=\"Helvetica,sans-Serif\" font-size=\"14.00\">Fare &lt;= 20.233</text>\n<text text-anchor=\"middle\" x=\"2630\" y=\"-1703.8\" font-family=\"Helvetica,sans-Serif\" font-size=\"14.00\">entropy = 0.918</text>\n<text text-anchor=\"middle\" x=\"2630\" y=\"-1688.8\" font-family=\"Helvetica,sans-Serif\" font-size=\"14.00\">samples = 6</text>\n<text text-anchor=\"middle\" x=\"2630\" y=\"-1673.8\" font-family=\"Helvetica,sans-Serif\" font-size=\"14.00\">value = [2, 4]</text>\n<text text-anchor=\"middle\" x=\"2630\" y=\"-1658.8\" font-family=\"Helvetica,sans-Serif\" font-size=\"14.00\">class = Survived</text>\n</g>\n<!-- 144&#45;&gt;172 -->\n<g id=\"edge172\" class=\"edge\">\n<title>144-&gt;172</title>\n<path fill=\"none\" stroke=\"black\" d=\"M2471.67,-1780.07C2499.61,-1764.79 2533.68,-1746.16 2563.05,-1730.11\"/>\n<polygon fill=\"black\" stroke=\"black\" points=\"2564.9,-1733.08 2572,-1725.21 2561.54,-1726.94 2564.9,-1733.08\"/>\n</g>\n<!-- 146 -->\n<g id=\"node147\" class=\"node\">\n<title>146</title>\n<polygon fill=\"#ea9a61\" stroke=\"black\" points=\"2440,-1615 2336,-1615 2336,-1532 2440,-1532 2440,-1615\"/>\n<text text-anchor=\"middle\" x=\"2388\" y=\"-1599.8\" font-family=\"Helvetica,sans-Serif\" font-size=\"14.00\">Age &lt;= 28.75</text>\n<text text-anchor=\"middle\" x=\"2388\" y=\"-1584.8\" font-family=\"Helvetica,sans-Serif\" font-size=\"14.00\">entropy = 0.65</text>\n<text text-anchor=\"middle\" x=\"2388\" y=\"-1569.8\" font-family=\"Helvetica,sans-Serif\" font-size=\"14.00\">samples = 30</text>\n<text text-anchor=\"middle\" x=\"2388\" y=\"-1554.8\" font-family=\"Helvetica,sans-Serif\" font-size=\"14.00\">value = [25, 5]</text>\n<text text-anchor=\"middle\" x=\"2388\" y=\"-1539.8\" font-family=\"Helvetica,sans-Serif\" font-size=\"14.00\">class = Died</text>\n</g>\n<!-- 145&#45;&gt;146 -->\n<g id=\"edge146\" class=\"edge\">\n<title>145-&gt;146</title>\n<path fill=\"none\" stroke=\"black\" d=\"M2406.29,-1650.91C2404.29,-1642.56 2402.16,-1633.67 2400.09,-1625.02\"/>\n<polygon fill=\"black\" stroke=\"black\" points=\"2403.43,-1623.93 2397.7,-1615.02 2396.62,-1625.56 2403.43,-1623.93\"/>\n</g>\n<!-- 171 -->\n<g id=\"node172\" class=\"node\">\n<title>171</title>\n<polygon fill=\"#e58139\" stroke=\"black\" points=\"2554,-1607.5 2458,-1607.5 2458,-1539.5 2554,-1539.5 2554,-1607.5\"/>\n<text text-anchor=\"middle\" x=\"2506\" y=\"-1592.3\" font-family=\"Helvetica,sans-Serif\" font-size=\"14.00\">entropy = 0.0</text>\n<text text-anchor=\"middle\" x=\"2506\" y=\"-1577.3\" font-family=\"Helvetica,sans-Serif\" font-size=\"14.00\">samples = 9</text>\n<text text-anchor=\"middle\" x=\"2506\" y=\"-1562.3\" font-family=\"Helvetica,sans-Serif\" font-size=\"14.00\">value = [9, 0]</text>\n<text text-anchor=\"middle\" x=\"2506\" y=\"-1547.3\" font-family=\"Helvetica,sans-Serif\" font-size=\"14.00\">class = Died</text>\n</g>\n<!-- 145&#45;&gt;171 -->\n<g id=\"edge171\" class=\"edge\">\n<title>145-&gt;171</title>\n<path fill=\"none\" stroke=\"black\" d=\"M2447.23,-1650.91C2455.97,-1639.54 2465.48,-1627.18 2474.25,-1615.77\"/>\n<polygon fill=\"black\" stroke=\"black\" points=\"2477.16,-1617.73 2480.49,-1607.67 2471.62,-1613.46 2477.16,-1617.73\"/>\n</g>\n<!-- 147 -->\n<g id=\"node148\" class=\"node\">\n<title>147</title>\n<polygon fill=\"#e99559\" stroke=\"black\" points=\"2443.5,-1496 2332.5,-1496 2332.5,-1413 2443.5,-1413 2443.5,-1496\"/>\n<text text-anchor=\"middle\" x=\"2388\" y=\"-1480.8\" font-family=\"Helvetica,sans-Serif\" font-size=\"14.00\">Age &lt;= 22.5</text>\n<text text-anchor=\"middle\" x=\"2388\" y=\"-1465.8\" font-family=\"Helvetica,sans-Serif\" font-size=\"14.00\">entropy = 0.579</text>\n<text text-anchor=\"middle\" x=\"2388\" y=\"-1450.8\" font-family=\"Helvetica,sans-Serif\" font-size=\"14.00\">samples = 29</text>\n<text text-anchor=\"middle\" x=\"2388\" y=\"-1435.8\" font-family=\"Helvetica,sans-Serif\" font-size=\"14.00\">value = [25, 4]</text>\n<text text-anchor=\"middle\" x=\"2388\" y=\"-1420.8\" font-family=\"Helvetica,sans-Serif\" font-size=\"14.00\">class = Died</text>\n</g>\n<!-- 146&#45;&gt;147 -->\n<g id=\"edge147\" class=\"edge\">\n<title>146-&gt;147</title>\n<path fill=\"none\" stroke=\"black\" d=\"M2388,-1531.91C2388,-1523.65 2388,-1514.86 2388,-1506.3\"/>\n<polygon fill=\"black\" stroke=\"black\" points=\"2391.5,-1506.02 2388,-1496.02 2384.5,-1506.02 2391.5,-1506.02\"/>\n</g>\n<!-- 170 -->\n<g id=\"node171\" class=\"node\">\n<title>170</title>\n<polygon fill=\"#399de5\" stroke=\"black\" points=\"2578,-1488.5 2462,-1488.5 2462,-1420.5 2578,-1420.5 2578,-1488.5\"/>\n<text text-anchor=\"middle\" x=\"2520\" y=\"-1473.3\" font-family=\"Helvetica,sans-Serif\" font-size=\"14.00\">entropy = 0.0</text>\n<text text-anchor=\"middle\" x=\"2520\" y=\"-1458.3\" font-family=\"Helvetica,sans-Serif\" font-size=\"14.00\">samples = 1</text>\n<text text-anchor=\"middle\" x=\"2520\" y=\"-1443.3\" font-family=\"Helvetica,sans-Serif\" font-size=\"14.00\">value = [0, 1]</text>\n<text text-anchor=\"middle\" x=\"2520\" y=\"-1428.3\" font-family=\"Helvetica,sans-Serif\" font-size=\"14.00\">class = Survived</text>\n</g>\n<!-- 146&#45;&gt;170 -->\n<g id=\"edge170\" class=\"edge\">\n<title>146-&gt;170</title>\n<path fill=\"none\" stroke=\"black\" d=\"M2433.8,-1531.91C2447.12,-1520.1 2461.65,-1507.22 2474.93,-1495.45\"/>\n<polygon fill=\"black\" stroke=\"black\" points=\"2477.42,-1497.92 2482.58,-1488.67 2472.78,-1492.68 2477.42,-1497.92\"/>\n</g>\n<!-- 148 -->\n<g id=\"node149\" class=\"node\">\n<title>148</title>\n<polygon fill=\"#f2c09c\" stroke=\"black\" points=\"2443.5,-1377 2332.5,-1377 2332.5,-1294 2443.5,-1294 2443.5,-1377\"/>\n<text text-anchor=\"middle\" x=\"2388\" y=\"-1361.8\" font-family=\"Helvetica,sans-Serif\" font-size=\"14.00\">Parch &lt;= 0.5</text>\n<text text-anchor=\"middle\" x=\"2388\" y=\"-1346.8\" font-family=\"Helvetica,sans-Serif\" font-size=\"14.00\">entropy = 0.918</text>\n<text text-anchor=\"middle\" x=\"2388\" y=\"-1331.8\" font-family=\"Helvetica,sans-Serif\" font-size=\"14.00\">samples = 6</text>\n<text text-anchor=\"middle\" x=\"2388\" y=\"-1316.8\" font-family=\"Helvetica,sans-Serif\" font-size=\"14.00\">value = [4, 2]</text>\n<text text-anchor=\"middle\" x=\"2388\" y=\"-1301.8\" font-family=\"Helvetica,sans-Serif\" font-size=\"14.00\">class = Died</text>\n</g>\n<!-- 147&#45;&gt;148 -->\n<g id=\"edge148\" class=\"edge\">\n<title>147-&gt;148</title>\n<path fill=\"none\" stroke=\"black\" d=\"M2388,-1412.91C2388,-1404.65 2388,-1395.86 2388,-1387.3\"/>\n<polygon fill=\"black\" stroke=\"black\" points=\"2391.5,-1387.02 2388,-1377.02 2384.5,-1387.02 2391.5,-1387.02\"/>\n</g>\n<!-- 157 -->\n<g id=\"node158\" class=\"node\">\n<title>157</title>\n<polygon fill=\"#e78d4c\" stroke=\"black\" points=\"2573.5,-1377 2462.5,-1377 2462.5,-1294 2573.5,-1294 2573.5,-1377\"/>\n<text text-anchor=\"middle\" x=\"2518\" y=\"-1361.8\" font-family=\"Helvetica,sans-Serif\" font-size=\"14.00\">Pclass &lt;= 2.5</text>\n<text text-anchor=\"middle\" x=\"2518\" y=\"-1346.8\" font-family=\"Helvetica,sans-Serif\" font-size=\"14.00\">entropy = 0.426</text>\n<text text-anchor=\"middle\" x=\"2518\" y=\"-1331.8\" font-family=\"Helvetica,sans-Serif\" font-size=\"14.00\">samples = 23</text>\n<text text-anchor=\"middle\" x=\"2518\" y=\"-1316.8\" font-family=\"Helvetica,sans-Serif\" font-size=\"14.00\">value = [21, 2]</text>\n<text text-anchor=\"middle\" x=\"2518\" y=\"-1301.8\" font-family=\"Helvetica,sans-Serif\" font-size=\"14.00\">class = Died</text>\n</g>\n<!-- 147&#45;&gt;157 -->\n<g id=\"edge157\" class=\"edge\">\n<title>147-&gt;157</title>\n<path fill=\"none\" stroke=\"black\" d=\"M2433.1,-1412.91C2443.49,-1403.56 2454.62,-1393.54 2465.3,-1383.93\"/>\n<polygon fill=\"black\" stroke=\"black\" points=\"2467.89,-1386.31 2472.98,-1377.02 2463.2,-1381.11 2467.89,-1386.31\"/>\n</g>\n<!-- 149 -->\n<g id=\"node150\" class=\"node\">\n<title>149</title>\n<polygon fill=\"#ffffff\" stroke=\"black\" points=\"2326,-1258 2224,-1258 2224,-1175 2326,-1175 2326,-1258\"/>\n<text text-anchor=\"middle\" x=\"2275\" y=\"-1242.8\" font-family=\"Helvetica,sans-Serif\" font-size=\"14.00\">Fare &lt;= 5.619</text>\n<text text-anchor=\"middle\" x=\"2275\" y=\"-1227.8\" font-family=\"Helvetica,sans-Serif\" font-size=\"14.00\">entropy = 1.0</text>\n<text text-anchor=\"middle\" x=\"2275\" y=\"-1212.8\" font-family=\"Helvetica,sans-Serif\" font-size=\"14.00\">samples = 4</text>\n<text text-anchor=\"middle\" x=\"2275\" y=\"-1197.8\" font-family=\"Helvetica,sans-Serif\" font-size=\"14.00\">value = [2, 2]</text>\n<text text-anchor=\"middle\" x=\"2275\" y=\"-1182.8\" font-family=\"Helvetica,sans-Serif\" font-size=\"14.00\">class = Died</text>\n</g>\n<!-- 148&#45;&gt;149 -->\n<g id=\"edge149\" class=\"edge\">\n<title>148-&gt;149</title>\n<path fill=\"none\" stroke=\"black\" d=\"M2348.8,-1293.91C2339.94,-1284.74 2330.46,-1274.93 2321.35,-1265.49\"/>\n<polygon fill=\"black\" stroke=\"black\" points=\"2323.6,-1262.78 2314.14,-1258.02 2318.57,-1267.65 2323.6,-1262.78\"/>\n</g>\n<!-- 156 -->\n<g id=\"node157\" class=\"node\">\n<title>156</title>\n<polygon fill=\"#e58139\" stroke=\"black\" points=\"2440,-1250.5 2344,-1250.5 2344,-1182.5 2440,-1182.5 2440,-1250.5\"/>\n<text text-anchor=\"middle\" x=\"2392\" y=\"-1235.3\" font-family=\"Helvetica,sans-Serif\" font-size=\"14.00\">entropy = 0.0</text>\n<text text-anchor=\"middle\" x=\"2392\" y=\"-1220.3\" font-family=\"Helvetica,sans-Serif\" font-size=\"14.00\">samples = 2</text>\n<text text-anchor=\"middle\" x=\"2392\" y=\"-1205.3\" font-family=\"Helvetica,sans-Serif\" font-size=\"14.00\">value = [2, 0]</text>\n<text text-anchor=\"middle\" x=\"2392\" y=\"-1190.3\" font-family=\"Helvetica,sans-Serif\" font-size=\"14.00\">class = Died</text>\n</g>\n<!-- 148&#45;&gt;156 -->\n<g id=\"edge156\" class=\"edge\">\n<title>148-&gt;156</title>\n<path fill=\"none\" stroke=\"black\" d=\"M2389.39,-1293.91C2389.75,-1283.2 2390.15,-1271.62 2390.52,-1260.78\"/>\n<polygon fill=\"black\" stroke=\"black\" points=\"2394.02,-1260.78 2390.87,-1250.67 2387.03,-1260.54 2394.02,-1260.78\"/>\n</g>\n<!-- 150 -->\n<g id=\"node151\" class=\"node\">\n<title>150</title>\n<polygon fill=\"#e58139\" stroke=\"black\" points=\"2221,-1131.5 2125,-1131.5 2125,-1063.5 2221,-1063.5 2221,-1131.5\"/>\n<text text-anchor=\"middle\" x=\"2173\" y=\"-1116.3\" font-family=\"Helvetica,sans-Serif\" font-size=\"14.00\">entropy = 0.0</text>\n<text text-anchor=\"middle\" x=\"2173\" y=\"-1101.3\" font-family=\"Helvetica,sans-Serif\" font-size=\"14.00\">samples = 1</text>\n<text text-anchor=\"middle\" x=\"2173\" y=\"-1086.3\" font-family=\"Helvetica,sans-Serif\" font-size=\"14.00\">value = [1, 0]</text>\n<text text-anchor=\"middle\" x=\"2173\" y=\"-1071.3\" font-family=\"Helvetica,sans-Serif\" font-size=\"14.00\">class = Died</text>\n</g>\n<!-- 149&#45;&gt;150 -->\n<g id=\"edge150\" class=\"edge\">\n<title>149-&gt;150</title>\n<path fill=\"none\" stroke=\"black\" d=\"M2239.61,-1174.91C2229.61,-1163.43 2218.72,-1150.94 2208.69,-1139.44\"/>\n<polygon fill=\"black\" stroke=\"black\" points=\"2211.12,-1136.9 2201.91,-1131.67 2205.85,-1141.5 2211.12,-1136.9\"/>\n</g>\n<!-- 151 -->\n<g id=\"node152\" class=\"node\">\n<title>151</title>\n<polygon fill=\"#9ccef2\" stroke=\"black\" points=\"2355,-1139 2239,-1139 2239,-1056 2355,-1056 2355,-1139\"/>\n<text text-anchor=\"middle\" x=\"2297\" y=\"-1123.8\" font-family=\"Helvetica,sans-Serif\" font-size=\"14.00\">Age &lt;= 21.0</text>\n<text text-anchor=\"middle\" x=\"2297\" y=\"-1108.8\" font-family=\"Helvetica,sans-Serif\" font-size=\"14.00\">entropy = 0.918</text>\n<text text-anchor=\"middle\" x=\"2297\" y=\"-1093.8\" font-family=\"Helvetica,sans-Serif\" font-size=\"14.00\">samples = 3</text>\n<text text-anchor=\"middle\" x=\"2297\" y=\"-1078.8\" font-family=\"Helvetica,sans-Serif\" font-size=\"14.00\">value = [1, 2]</text>\n<text text-anchor=\"middle\" x=\"2297\" y=\"-1063.8\" font-family=\"Helvetica,sans-Serif\" font-size=\"14.00\">class = Survived</text>\n</g>\n<!-- 149&#45;&gt;151 -->\n<g id=\"edge151\" class=\"edge\">\n<title>149-&gt;151</title>\n<path fill=\"none\" stroke=\"black\" d=\"M2282.63,-1174.91C2284.2,-1166.56 2285.87,-1157.67 2287.5,-1149.02\"/>\n<polygon fill=\"black\" stroke=\"black\" points=\"2290.97,-1149.5 2289.38,-1139.02 2284.09,-1148.2 2290.97,-1149.5\"/>\n</g>\n<!-- 152 -->\n<g id=\"node153\" class=\"node\">\n<title>152</title>\n<polygon fill=\"#399de5\" stroke=\"black\" points=\"2358,-1012.5 2242,-1012.5 2242,-944.5 2358,-944.5 2358,-1012.5\"/>\n<text text-anchor=\"middle\" x=\"2300\" y=\"-997.3\" font-family=\"Helvetica,sans-Serif\" font-size=\"14.00\">entropy = 0.0</text>\n<text text-anchor=\"middle\" x=\"2300\" y=\"-982.3\" font-family=\"Helvetica,sans-Serif\" font-size=\"14.00\">samples = 1</text>\n<text text-anchor=\"middle\" x=\"2300\" y=\"-967.3\" font-family=\"Helvetica,sans-Serif\" font-size=\"14.00\">value = [0, 1]</text>\n<text text-anchor=\"middle\" x=\"2300\" y=\"-952.3\" font-family=\"Helvetica,sans-Serif\" font-size=\"14.00\">class = Survived</text>\n</g>\n<!-- 151&#45;&gt;152 -->\n<g id=\"edge152\" class=\"edge\">\n<title>151-&gt;152</title>\n<path fill=\"none\" stroke=\"black\" d=\"M2298.04,-1055.91C2298.32,-1045.2 2298.61,-1033.62 2298.89,-1022.78\"/>\n<polygon fill=\"black\" stroke=\"black\" points=\"2302.39,-1022.75 2299.15,-1012.67 2295.39,-1022.57 2302.39,-1022.75\"/>\n</g>\n<!-- 153 -->\n<g id=\"node154\" class=\"node\">\n<title>153</title>\n<polygon fill=\"#ffffff\" stroke=\"black\" points=\"2478,-1020 2376,-1020 2376,-937 2478,-937 2478,-1020\"/>\n<text text-anchor=\"middle\" x=\"2427\" y=\"-1004.8\" font-family=\"Helvetica,sans-Serif\" font-size=\"14.00\">Fare &lt;= 7.227</text>\n<text text-anchor=\"middle\" x=\"2427\" y=\"-989.8\" font-family=\"Helvetica,sans-Serif\" font-size=\"14.00\">entropy = 1.0</text>\n<text text-anchor=\"middle\" x=\"2427\" y=\"-974.8\" font-family=\"Helvetica,sans-Serif\" font-size=\"14.00\">samples = 2</text>\n<text text-anchor=\"middle\" x=\"2427\" y=\"-959.8\" font-family=\"Helvetica,sans-Serif\" font-size=\"14.00\">value = [1, 1]</text>\n<text text-anchor=\"middle\" x=\"2427\" y=\"-944.8\" font-family=\"Helvetica,sans-Serif\" font-size=\"14.00\">class = Died</text>\n</g>\n<!-- 151&#45;&gt;153 -->\n<g id=\"edge153\" class=\"edge\">\n<title>151-&gt;153</title>\n<path fill=\"none\" stroke=\"black\" d=\"M2342.1,-1055.91C2352.49,-1046.56 2363.62,-1036.54 2374.3,-1026.93\"/>\n<polygon fill=\"black\" stroke=\"black\" points=\"2376.89,-1029.31 2381.98,-1020.02 2372.2,-1024.11 2376.89,-1029.31\"/>\n</g>\n<!-- 154 -->\n<g id=\"node155\" class=\"node\">\n<title>154</title>\n<polygon fill=\"#399de5\" stroke=\"black\" points=\"2484,-893.5 2368,-893.5 2368,-825.5 2484,-825.5 2484,-893.5\"/>\n<text text-anchor=\"middle\" x=\"2426\" y=\"-878.3\" font-family=\"Helvetica,sans-Serif\" font-size=\"14.00\">entropy = 0.0</text>\n<text text-anchor=\"middle\" x=\"2426\" y=\"-863.3\" font-family=\"Helvetica,sans-Serif\" font-size=\"14.00\">samples = 1</text>\n<text text-anchor=\"middle\" x=\"2426\" y=\"-848.3\" font-family=\"Helvetica,sans-Serif\" font-size=\"14.00\">value = [0, 1]</text>\n<text text-anchor=\"middle\" x=\"2426\" y=\"-833.3\" font-family=\"Helvetica,sans-Serif\" font-size=\"14.00\">class = Survived</text>\n</g>\n<!-- 153&#45;&gt;154 -->\n<g id=\"edge154\" class=\"edge\">\n<title>153-&gt;154</title>\n<path fill=\"none\" stroke=\"black\" d=\"M2426.65,-936.91C2426.56,-926.2 2426.46,-914.62 2426.37,-903.78\"/>\n<polygon fill=\"black\" stroke=\"black\" points=\"2429.87,-903.64 2426.28,-893.67 2422.87,-903.7 2429.87,-903.64\"/>\n</g>\n<!-- 155 -->\n<g id=\"node156\" class=\"node\">\n<title>155</title>\n<polygon fill=\"#e58139\" stroke=\"black\" points=\"2598,-893.5 2502,-893.5 2502,-825.5 2598,-825.5 2598,-893.5\"/>\n<text text-anchor=\"middle\" x=\"2550\" y=\"-878.3\" font-family=\"Helvetica,sans-Serif\" font-size=\"14.00\">entropy = 0.0</text>\n<text text-anchor=\"middle\" x=\"2550\" y=\"-863.3\" font-family=\"Helvetica,sans-Serif\" font-size=\"14.00\">samples = 1</text>\n<text text-anchor=\"middle\" x=\"2550\" y=\"-848.3\" font-family=\"Helvetica,sans-Serif\" font-size=\"14.00\">value = [1, 0]</text>\n<text text-anchor=\"middle\" x=\"2550\" y=\"-833.3\" font-family=\"Helvetica,sans-Serif\" font-size=\"14.00\">class = Died</text>\n</g>\n<!-- 153&#45;&gt;155 -->\n<g id=\"edge155\" class=\"edge\">\n<title>153-&gt;155</title>\n<path fill=\"none\" stroke=\"black\" d=\"M2469.67,-936.91C2481.97,-925.21 2495.38,-912.46 2507.65,-900.78\"/>\n<polygon fill=\"black\" stroke=\"black\" points=\"2510.3,-903.1 2515.13,-893.67 2505.47,-898.02 2510.3,-903.1\"/>\n</g>\n<!-- 158 -->\n<g id=\"node159\" class=\"node\">\n<title>158</title>\n<polygon fill=\"#f2c09c\" stroke=\"black\" points=\"2573.5,-1258 2462.5,-1258 2462.5,-1175 2573.5,-1175 2573.5,-1258\"/>\n<text text-anchor=\"middle\" x=\"2518\" y=\"-1242.8\" font-family=\"Helvetica,sans-Serif\" font-size=\"14.00\">Fare &lt;= 14.454</text>\n<text text-anchor=\"middle\" x=\"2518\" y=\"-1227.8\" font-family=\"Helvetica,sans-Serif\" font-size=\"14.00\">entropy = 0.918</text>\n<text text-anchor=\"middle\" x=\"2518\" y=\"-1212.8\" font-family=\"Helvetica,sans-Serif\" font-size=\"14.00\">samples = 3</text>\n<text text-anchor=\"middle\" x=\"2518\" y=\"-1197.8\" font-family=\"Helvetica,sans-Serif\" font-size=\"14.00\">value = [2, 1]</text>\n<text text-anchor=\"middle\" x=\"2518\" y=\"-1182.8\" font-family=\"Helvetica,sans-Serif\" font-size=\"14.00\">class = Died</text>\n</g>\n<!-- 157&#45;&gt;158 -->\n<g id=\"edge158\" class=\"edge\">\n<title>157-&gt;158</title>\n<path fill=\"none\" stroke=\"black\" d=\"M2518,-1293.91C2518,-1285.65 2518,-1276.86 2518,-1268.3\"/>\n<polygon fill=\"black\" stroke=\"black\" points=\"2521.5,-1268.02 2518,-1258.02 2514.5,-1268.02 2521.5,-1268.02\"/>\n</g>\n<!-- 161 -->\n<g id=\"node162\" class=\"node\">\n<title>161</title>\n<polygon fill=\"#e68843\" stroke=\"black\" points=\"2724.5,-1258 2613.5,-1258 2613.5,-1175 2724.5,-1175 2724.5,-1258\"/>\n<text text-anchor=\"middle\" x=\"2669\" y=\"-1242.8\" font-family=\"Helvetica,sans-Serif\" font-size=\"14.00\">Fare &lt;= 7.227</text>\n<text text-anchor=\"middle\" x=\"2669\" y=\"-1227.8\" font-family=\"Helvetica,sans-Serif\" font-size=\"14.00\">entropy = 0.286</text>\n<text text-anchor=\"middle\" x=\"2669\" y=\"-1212.8\" font-family=\"Helvetica,sans-Serif\" font-size=\"14.00\">samples = 20</text>\n<text text-anchor=\"middle\" x=\"2669\" y=\"-1197.8\" font-family=\"Helvetica,sans-Serif\" font-size=\"14.00\">value = [19, 1]</text>\n<text text-anchor=\"middle\" x=\"2669\" y=\"-1182.8\" font-family=\"Helvetica,sans-Serif\" font-size=\"14.00\">class = Died</text>\n</g>\n<!-- 157&#45;&gt;161 -->\n<g id=\"edge161\" class=\"edge\">\n<title>157-&gt;161</title>\n<path fill=\"none\" stroke=\"black\" d=\"M2570.39,-1293.91C2582.69,-1284.38 2595.89,-1274.15 2608.51,-1264.37\"/>\n<polygon fill=\"black\" stroke=\"black\" points=\"2610.94,-1266.91 2616.7,-1258.02 2606.66,-1261.38 2610.94,-1266.91\"/>\n</g>\n<!-- 159 -->\n<g id=\"node160\" class=\"node\">\n<title>159</title>\n<polygon fill=\"#399de5\" stroke=\"black\" points=\"2489,-1131.5 2373,-1131.5 2373,-1063.5 2489,-1063.5 2489,-1131.5\"/>\n<text text-anchor=\"middle\" x=\"2431\" y=\"-1116.3\" font-family=\"Helvetica,sans-Serif\" font-size=\"14.00\">entropy = 0.0</text>\n<text text-anchor=\"middle\" x=\"2431\" y=\"-1101.3\" font-family=\"Helvetica,sans-Serif\" font-size=\"14.00\">samples = 1</text>\n<text text-anchor=\"middle\" x=\"2431\" y=\"-1086.3\" font-family=\"Helvetica,sans-Serif\" font-size=\"14.00\">value = [0, 1]</text>\n<text text-anchor=\"middle\" x=\"2431\" y=\"-1071.3\" font-family=\"Helvetica,sans-Serif\" font-size=\"14.00\">class = Survived</text>\n</g>\n<!-- 158&#45;&gt;159 -->\n<g id=\"edge159\" class=\"edge\">\n<title>158-&gt;159</title>\n<path fill=\"none\" stroke=\"black\" d=\"M2487.82,-1174.91C2479.36,-1163.54 2470.17,-1151.18 2461.69,-1139.77\"/>\n<polygon fill=\"black\" stroke=\"black\" points=\"2464.44,-1137.6 2455.66,-1131.67 2458.82,-1141.78 2464.44,-1137.6\"/>\n</g>\n<!-- 160 -->\n<g id=\"node161\" class=\"node\">\n<title>160</title>\n<polygon fill=\"#e58139\" stroke=\"black\" points=\"2603,-1131.5 2507,-1131.5 2507,-1063.5 2603,-1063.5 2603,-1131.5\"/>\n<text text-anchor=\"middle\" x=\"2555\" y=\"-1116.3\" font-family=\"Helvetica,sans-Serif\" font-size=\"14.00\">entropy = 0.0</text>\n<text text-anchor=\"middle\" x=\"2555\" y=\"-1101.3\" font-family=\"Helvetica,sans-Serif\" font-size=\"14.00\">samples = 2</text>\n<text text-anchor=\"middle\" x=\"2555\" y=\"-1086.3\" font-family=\"Helvetica,sans-Serif\" font-size=\"14.00\">value = [2, 0]</text>\n<text text-anchor=\"middle\" x=\"2555\" y=\"-1071.3\" font-family=\"Helvetica,sans-Serif\" font-size=\"14.00\">class = Died</text>\n</g>\n<!-- 158&#45;&gt;160 -->\n<g id=\"edge160\" class=\"edge\">\n<title>158-&gt;160</title>\n<path fill=\"none\" stroke=\"black\" d=\"M2530.84,-1174.91C2534.26,-1164.09 2537.96,-1152.38 2541.42,-1141.44\"/>\n<polygon fill=\"black\" stroke=\"black\" points=\"2544.83,-1142.26 2544.51,-1131.67 2538.16,-1140.15 2544.83,-1142.26\"/>\n</g>\n<!-- 162 -->\n<g id=\"node163\" class=\"node\">\n<title>162</title>\n<polygon fill=\"#e58139\" stroke=\"black\" points=\"2717,-1131.5 2621,-1131.5 2621,-1063.5 2717,-1063.5 2717,-1131.5\"/>\n<text text-anchor=\"middle\" x=\"2669\" y=\"-1116.3\" font-family=\"Helvetica,sans-Serif\" font-size=\"14.00\">entropy = 0.0</text>\n<text text-anchor=\"middle\" x=\"2669\" y=\"-1101.3\" font-family=\"Helvetica,sans-Serif\" font-size=\"14.00\">samples = 6</text>\n<text text-anchor=\"middle\" x=\"2669\" y=\"-1086.3\" font-family=\"Helvetica,sans-Serif\" font-size=\"14.00\">value = [6, 0]</text>\n<text text-anchor=\"middle\" x=\"2669\" y=\"-1071.3\" font-family=\"Helvetica,sans-Serif\" font-size=\"14.00\">class = Died</text>\n</g>\n<!-- 161&#45;&gt;162 -->\n<g id=\"edge162\" class=\"edge\">\n<title>161-&gt;162</title>\n<path fill=\"none\" stroke=\"black\" d=\"M2669,-1174.91C2669,-1164.2 2669,-1152.62 2669,-1141.78\"/>\n<polygon fill=\"black\" stroke=\"black\" points=\"2672.5,-1141.67 2669,-1131.67 2665.5,-1141.67 2672.5,-1141.67\"/>\n</g>\n<!-- 163 -->\n<g id=\"node164\" class=\"node\">\n<title>163</title>\n<polygon fill=\"#e78b48\" stroke=\"black\" points=\"2846.5,-1139 2735.5,-1139 2735.5,-1056 2846.5,-1056 2846.5,-1139\"/>\n<text text-anchor=\"middle\" x=\"2791\" y=\"-1123.8\" font-family=\"Helvetica,sans-Serif\" font-size=\"14.00\">Fare &lt;= 7.562</text>\n<text text-anchor=\"middle\" x=\"2791\" y=\"-1108.8\" font-family=\"Helvetica,sans-Serif\" font-size=\"14.00\">entropy = 0.371</text>\n<text text-anchor=\"middle\" x=\"2791\" y=\"-1093.8\" font-family=\"Helvetica,sans-Serif\" font-size=\"14.00\">samples = 14</text>\n<text text-anchor=\"middle\" x=\"2791\" y=\"-1078.8\" font-family=\"Helvetica,sans-Serif\" font-size=\"14.00\">value = [13, 1]</text>\n<text text-anchor=\"middle\" x=\"2791\" y=\"-1063.8\" font-family=\"Helvetica,sans-Serif\" font-size=\"14.00\">class = Died</text>\n</g>\n<!-- 161&#45;&gt;163 -->\n<g id=\"edge163\" class=\"edge\">\n<title>161-&gt;163</title>\n<path fill=\"none\" stroke=\"black\" d=\"M2711.33,-1174.91C2720.98,-1165.65 2731.32,-1155.73 2741.25,-1146.21\"/>\n<polygon fill=\"black\" stroke=\"black\" points=\"2743.95,-1148.47 2748.75,-1139.02 2739.11,-1143.42 2743.95,-1148.47\"/>\n</g>\n<!-- 164 -->\n<g id=\"node165\" class=\"node\">\n<title>164</title>\n<polygon fill=\"#e99355\" stroke=\"black\" points=\"2724.5,-1020 2613.5,-1020 2613.5,-937 2724.5,-937 2724.5,-1020\"/>\n<text text-anchor=\"middle\" x=\"2669\" y=\"-1004.8\" font-family=\"Helvetica,sans-Serif\" font-size=\"14.00\">Age &lt;= 25.75</text>\n<text text-anchor=\"middle\" x=\"2669\" y=\"-989.8\" font-family=\"Helvetica,sans-Serif\" font-size=\"14.00\">entropy = 0.544</text>\n<text text-anchor=\"middle\" x=\"2669\" y=\"-974.8\" font-family=\"Helvetica,sans-Serif\" font-size=\"14.00\">samples = 8</text>\n<text text-anchor=\"middle\" x=\"2669\" y=\"-959.8\" font-family=\"Helvetica,sans-Serif\" font-size=\"14.00\">value = [7, 1]</text>\n<text text-anchor=\"middle\" x=\"2669\" y=\"-944.8\" font-family=\"Helvetica,sans-Serif\" font-size=\"14.00\">class = Died</text>\n</g>\n<!-- 163&#45;&gt;164 -->\n<g id=\"edge164\" class=\"edge\">\n<title>163-&gt;164</title>\n<path fill=\"none\" stroke=\"black\" d=\"M2748.67,-1055.91C2739.02,-1046.65 2728.68,-1036.73 2718.75,-1027.21\"/>\n<polygon fill=\"black\" stroke=\"black\" points=\"2720.89,-1024.42 2711.25,-1020.02 2716.05,-1029.47 2720.89,-1024.42\"/>\n</g>\n<!-- 169 -->\n<g id=\"node170\" class=\"node\">\n<title>169</title>\n<polygon fill=\"#e58139\" stroke=\"black\" points=\"2839,-1012.5 2743,-1012.5 2743,-944.5 2839,-944.5 2839,-1012.5\"/>\n<text text-anchor=\"middle\" x=\"2791\" y=\"-997.3\" font-family=\"Helvetica,sans-Serif\" font-size=\"14.00\">entropy = 0.0</text>\n<text text-anchor=\"middle\" x=\"2791\" y=\"-982.3\" font-family=\"Helvetica,sans-Serif\" font-size=\"14.00\">samples = 6</text>\n<text text-anchor=\"middle\" x=\"2791\" y=\"-967.3\" font-family=\"Helvetica,sans-Serif\" font-size=\"14.00\">value = [6, 0]</text>\n<text text-anchor=\"middle\" x=\"2791\" y=\"-952.3\" font-family=\"Helvetica,sans-Serif\" font-size=\"14.00\">class = Died</text>\n</g>\n<!-- 163&#45;&gt;169 -->\n<g id=\"edge169\" class=\"edge\">\n<title>163-&gt;169</title>\n<path fill=\"none\" stroke=\"black\" d=\"M2791,-1055.91C2791,-1045.2 2791,-1033.62 2791,-1022.78\"/>\n<polygon fill=\"black\" stroke=\"black\" points=\"2794.5,-1022.67 2791,-1012.67 2787.5,-1022.67 2794.5,-1022.67\"/>\n</g>\n<!-- 165 -->\n<g id=\"node166\" class=\"node\">\n<title>165</title>\n<polygon fill=\"#e58139\" stroke=\"black\" points=\"2714,-893.5 2618,-893.5 2618,-825.5 2714,-825.5 2714,-893.5\"/>\n<text text-anchor=\"middle\" x=\"2666\" y=\"-878.3\" font-family=\"Helvetica,sans-Serif\" font-size=\"14.00\">entropy = 0.0</text>\n<text text-anchor=\"middle\" x=\"2666\" y=\"-863.3\" font-family=\"Helvetica,sans-Serif\" font-size=\"14.00\">samples = 1</text>\n<text text-anchor=\"middle\" x=\"2666\" y=\"-848.3\" font-family=\"Helvetica,sans-Serif\" font-size=\"14.00\">value = [1, 0]</text>\n<text text-anchor=\"middle\" x=\"2666\" y=\"-833.3\" font-family=\"Helvetica,sans-Serif\" font-size=\"14.00\">class = Died</text>\n</g>\n<!-- 164&#45;&gt;165 -->\n<g id=\"edge165\" class=\"edge\">\n<title>164-&gt;165</title>\n<path fill=\"none\" stroke=\"black\" d=\"M2667.96,-936.91C2667.68,-926.2 2667.39,-914.62 2667.11,-903.78\"/>\n<polygon fill=\"black\" stroke=\"black\" points=\"2670.61,-903.57 2666.85,-893.67 2663.61,-903.75 2670.61,-903.57\"/>\n</g>\n<!-- 166 -->\n<g id=\"node167\" class=\"node\">\n<title>166</title>\n<polygon fill=\"#e9965a\" stroke=\"black\" points=\"2843.5,-901 2732.5,-901 2732.5,-818 2843.5,-818 2843.5,-901\"/>\n<text text-anchor=\"middle\" x=\"2788\" y=\"-885.8\" font-family=\"Helvetica,sans-Serif\" font-size=\"14.00\">Age &lt;= 28.25</text>\n<text text-anchor=\"middle\" x=\"2788\" y=\"-870.8\" font-family=\"Helvetica,sans-Serif\" font-size=\"14.00\">entropy = 0.592</text>\n<text text-anchor=\"middle\" x=\"2788\" y=\"-855.8\" font-family=\"Helvetica,sans-Serif\" font-size=\"14.00\">samples = 7</text>\n<text text-anchor=\"middle\" x=\"2788\" y=\"-840.8\" font-family=\"Helvetica,sans-Serif\" font-size=\"14.00\">value = [6, 1]</text>\n<text text-anchor=\"middle\" x=\"2788\" y=\"-825.8\" font-family=\"Helvetica,sans-Serif\" font-size=\"14.00\">class = Died</text>\n</g>\n<!-- 164&#45;&gt;166 -->\n<g id=\"edge166\" class=\"edge\">\n<title>164-&gt;166</title>\n<path fill=\"none\" stroke=\"black\" d=\"M2710.29,-936.91C2719.7,-927.65 2729.79,-917.73 2739.48,-908.21\"/>\n<polygon fill=\"black\" stroke=\"black\" points=\"2742.11,-910.53 2746.79,-901.02 2737.2,-905.54 2742.11,-910.53\"/>\n</g>\n<!-- 167 -->\n<g id=\"node168\" class=\"node\">\n<title>167</title>\n<polygon fill=\"#ea9a61\" stroke=\"black\" points=\"2781,-774.5 2677,-774.5 2677,-706.5 2781,-706.5 2781,-774.5\"/>\n<text text-anchor=\"middle\" x=\"2729\" y=\"-759.3\" font-family=\"Helvetica,sans-Serif\" font-size=\"14.00\">entropy = 0.65</text>\n<text text-anchor=\"middle\" x=\"2729\" y=\"-744.3\" font-family=\"Helvetica,sans-Serif\" font-size=\"14.00\">samples = 6</text>\n<text text-anchor=\"middle\" x=\"2729\" y=\"-729.3\" font-family=\"Helvetica,sans-Serif\" font-size=\"14.00\">value = [5, 1]</text>\n<text text-anchor=\"middle\" x=\"2729\" y=\"-714.3\" font-family=\"Helvetica,sans-Serif\" font-size=\"14.00\">class = Died</text>\n</g>\n<!-- 166&#45;&gt;167 -->\n<g id=\"edge167\" class=\"edge\">\n<title>166-&gt;167</title>\n<path fill=\"none\" stroke=\"black\" d=\"M2767.53,-817.91C2761.97,-806.87 2755.93,-794.9 2750.32,-783.77\"/>\n<polygon fill=\"black\" stroke=\"black\" points=\"2753.35,-782.02 2745.73,-774.67 2747.1,-785.17 2753.35,-782.02\"/>\n</g>\n<!-- 168 -->\n<g id=\"node169\" class=\"node\">\n<title>168</title>\n<polygon fill=\"#e58139\" stroke=\"black\" points=\"2895,-774.5 2799,-774.5 2799,-706.5 2895,-706.5 2895,-774.5\"/>\n<text text-anchor=\"middle\" x=\"2847\" y=\"-759.3\" font-family=\"Helvetica,sans-Serif\" font-size=\"14.00\">entropy = 0.0</text>\n<text text-anchor=\"middle\" x=\"2847\" y=\"-744.3\" font-family=\"Helvetica,sans-Serif\" font-size=\"14.00\">samples = 1</text>\n<text text-anchor=\"middle\" x=\"2847\" y=\"-729.3\" font-family=\"Helvetica,sans-Serif\" font-size=\"14.00\">value = [1, 0]</text>\n<text text-anchor=\"middle\" x=\"2847\" y=\"-714.3\" font-family=\"Helvetica,sans-Serif\" font-size=\"14.00\">class = Died</text>\n</g>\n<!-- 166&#45;&gt;168 -->\n<g id=\"edge168\" class=\"edge\">\n<title>166-&gt;168</title>\n<path fill=\"none\" stroke=\"black\" d=\"M2808.47,-817.91C2814.03,-806.87 2820.07,-794.9 2825.68,-783.77\"/>\n<polygon fill=\"black\" stroke=\"black\" points=\"2828.9,-785.17 2830.27,-774.67 2822.65,-782.02 2828.9,-785.17\"/>\n</g>\n<!-- 173 -->\n<g id=\"node174\" class=\"node\">\n<title>173</title>\n<polygon fill=\"#399de5\" stroke=\"black\" points=\"2688,-1607.5 2572,-1607.5 2572,-1539.5 2688,-1539.5 2688,-1607.5\"/>\n<text text-anchor=\"middle\" x=\"2630\" y=\"-1592.3\" font-family=\"Helvetica,sans-Serif\" font-size=\"14.00\">entropy = 0.0</text>\n<text text-anchor=\"middle\" x=\"2630\" y=\"-1577.3\" font-family=\"Helvetica,sans-Serif\" font-size=\"14.00\">samples = 4</text>\n<text text-anchor=\"middle\" x=\"2630\" y=\"-1562.3\" font-family=\"Helvetica,sans-Serif\" font-size=\"14.00\">value = [0, 4]</text>\n<text text-anchor=\"middle\" x=\"2630\" y=\"-1547.3\" font-family=\"Helvetica,sans-Serif\" font-size=\"14.00\">class = Survived</text>\n</g>\n<!-- 172&#45;&gt;173 -->\n<g id=\"edge173\" class=\"edge\">\n<title>172-&gt;173</title>\n<path fill=\"none\" stroke=\"black\" d=\"M2630,-1650.91C2630,-1640.2 2630,-1628.62 2630,-1617.78\"/>\n<polygon fill=\"black\" stroke=\"black\" points=\"2633.5,-1617.67 2630,-1607.67 2626.5,-1617.67 2633.5,-1617.67\"/>\n</g>\n<!-- 174 -->\n<g id=\"node175\" class=\"node\">\n<title>174</title>\n<polygon fill=\"#e58139\" stroke=\"black\" points=\"2802,-1607.5 2706,-1607.5 2706,-1539.5 2802,-1539.5 2802,-1607.5\"/>\n<text text-anchor=\"middle\" x=\"2754\" y=\"-1592.3\" font-family=\"Helvetica,sans-Serif\" font-size=\"14.00\">entropy = 0.0</text>\n<text text-anchor=\"middle\" x=\"2754\" y=\"-1577.3\" font-family=\"Helvetica,sans-Serif\" font-size=\"14.00\">samples = 2</text>\n<text text-anchor=\"middle\" x=\"2754\" y=\"-1562.3\" font-family=\"Helvetica,sans-Serif\" font-size=\"14.00\">value = [2, 0]</text>\n<text text-anchor=\"middle\" x=\"2754\" y=\"-1547.3\" font-family=\"Helvetica,sans-Serif\" font-size=\"14.00\">class = Died</text>\n</g>\n<!-- 172&#45;&gt;174 -->\n<g id=\"edge174\" class=\"edge\">\n<title>172-&gt;174</title>\n<path fill=\"none\" stroke=\"black\" d=\"M2673.02,-1650.91C2685.42,-1639.21 2698.93,-1626.46 2711.31,-1614.78\"/>\n<polygon fill=\"black\" stroke=\"black\" points=\"2713.98,-1617.08 2718.85,-1607.67 2709.17,-1611.98 2713.98,-1617.08\"/>\n</g>\n<!-- 176 -->\n<g id=\"node177\" class=\"node\">\n<title>176</title>\n<polygon fill=\"#f6d1b7\" stroke=\"black\" points=\"3534.5,-1972 3423.5,-1972 3423.5,-1889 3534.5,-1889 3534.5,-1972\"/>\n<text text-anchor=\"middle\" x=\"3479\" y=\"-1956.8\" font-family=\"Helvetica,sans-Serif\" font-size=\"14.00\">Age &lt;= 13.5</text>\n<text text-anchor=\"middle\" x=\"3479\" y=\"-1941.8\" font-family=\"Helvetica,sans-Serif\" font-size=\"14.00\">entropy = 0.964</text>\n<text text-anchor=\"middle\" x=\"3479\" y=\"-1926.8\" font-family=\"Helvetica,sans-Serif\" font-size=\"14.00\">samples = 139</text>\n<text text-anchor=\"middle\" x=\"3479\" y=\"-1911.8\" font-family=\"Helvetica,sans-Serif\" font-size=\"14.00\">value = [85, 54]</text>\n<text text-anchor=\"middle\" x=\"3479\" y=\"-1896.8\" font-family=\"Helvetica,sans-Serif\" font-size=\"14.00\">class = Died</text>\n</g>\n<!-- 175&#45;&gt;176 -->\n<g id=\"edge176\" class=\"edge\">\n<title>175-&gt;176</title>\n<path fill=\"none\" stroke=\"black\" d=\"M3520.8,-2007.91C3516.03,-1999.2 3510.94,-1989.9 3506.02,-1980.89\"/>\n<polygon fill=\"black\" stroke=\"black\" points=\"3509.03,-1979.11 3501.17,-1972.02 3502.89,-1982.47 3509.03,-1979.11\"/>\n</g>\n<!-- 259 -->\n<g id=\"node260\" class=\"node\">\n<title>259</title>\n<polygon fill=\"#e68742\" stroke=\"black\" points=\"3663.5,-1972 3552.5,-1972 3552.5,-1889 3663.5,-1889 3663.5,-1972\"/>\n<text text-anchor=\"middle\" x=\"3608\" y=\"-1956.8\" font-family=\"Helvetica,sans-Serif\" font-size=\"14.00\">Age &lt;= 3.5</text>\n<text text-anchor=\"middle\" x=\"3608\" y=\"-1941.8\" font-family=\"Helvetica,sans-Serif\" font-size=\"14.00\">entropy = 0.258</text>\n<text text-anchor=\"middle\" x=\"3608\" y=\"-1926.8\" font-family=\"Helvetica,sans-Serif\" font-size=\"14.00\">samples = 23</text>\n<text text-anchor=\"middle\" x=\"3608\" y=\"-1911.8\" font-family=\"Helvetica,sans-Serif\" font-size=\"14.00\">value = [22, 1]</text>\n<text text-anchor=\"middle\" x=\"3608\" y=\"-1896.8\" font-family=\"Helvetica,sans-Serif\" font-size=\"14.00\">class = Died</text>\n</g>\n<!-- 175&#45;&gt;259 -->\n<g id=\"edge259\" class=\"edge\">\n<title>175-&gt;259</title>\n<path fill=\"none\" stroke=\"black\" d=\"M3565.55,-2007.91C3570.39,-1999.2 3575.56,-1989.9 3580.56,-1980.89\"/>\n<polygon fill=\"black\" stroke=\"black\" points=\"3583.69,-1982.46 3585.49,-1972.02 3577.57,-1979.06 3583.69,-1982.46\"/>\n</g>\n<!-- 177 -->\n<g id=\"node178\" class=\"node\">\n<title>177</title>\n<polygon fill=\"#399de5\" stroke=\"black\" points=\"3405,-1845.5 3289,-1845.5 3289,-1777.5 3405,-1777.5 3405,-1845.5\"/>\n<text text-anchor=\"middle\" x=\"3347\" y=\"-1830.3\" font-family=\"Helvetica,sans-Serif\" font-size=\"14.00\">entropy = 0.0</text>\n<text text-anchor=\"middle\" x=\"3347\" y=\"-1815.3\" font-family=\"Helvetica,sans-Serif\" font-size=\"14.00\">samples = 7</text>\n<text text-anchor=\"middle\" x=\"3347\" y=\"-1800.3\" font-family=\"Helvetica,sans-Serif\" font-size=\"14.00\">value = [0, 7]</text>\n<text text-anchor=\"middle\" x=\"3347\" y=\"-1785.3\" font-family=\"Helvetica,sans-Serif\" font-size=\"14.00\">class = Survived</text>\n</g>\n<!-- 176&#45;&gt;177 -->\n<g id=\"edge177\" class=\"edge\">\n<title>176-&gt;177</title>\n<path fill=\"none\" stroke=\"black\" d=\"M3433.2,-1888.91C3419.88,-1877.1 3405.35,-1864.22 3392.07,-1852.45\"/>\n<polygon fill=\"black\" stroke=\"black\" points=\"3394.22,-1849.68 3384.42,-1845.67 3389.58,-1854.92 3394.22,-1849.68\"/>\n</g>\n<!-- 178 -->\n<g id=\"node179\" class=\"node\">\n<title>178</title>\n<polygon fill=\"#f3c7a6\" stroke=\"black\" points=\"3534.5,-1853 3423.5,-1853 3423.5,-1770 3534.5,-1770 3534.5,-1853\"/>\n<text text-anchor=\"middle\" x=\"3479\" y=\"-1837.8\" font-family=\"Helvetica,sans-Serif\" font-size=\"14.00\">Fare &lt;= 26.469</text>\n<text text-anchor=\"middle\" x=\"3479\" y=\"-1822.8\" font-family=\"Helvetica,sans-Serif\" font-size=\"14.00\">entropy = 0.939</text>\n<text text-anchor=\"middle\" x=\"3479\" y=\"-1807.8\" font-family=\"Helvetica,sans-Serif\" font-size=\"14.00\">samples = 132</text>\n<text text-anchor=\"middle\" x=\"3479\" y=\"-1792.8\" font-family=\"Helvetica,sans-Serif\" font-size=\"14.00\">value = [85, 47]</text>\n<text text-anchor=\"middle\" x=\"3479\" y=\"-1777.8\" font-family=\"Helvetica,sans-Serif\" font-size=\"14.00\">class = Died</text>\n</g>\n<!-- 176&#45;&gt;178 -->\n<g id=\"edge178\" class=\"edge\">\n<title>176-&gt;178</title>\n<path fill=\"none\" stroke=\"black\" d=\"M3479,-1888.91C3479,-1880.65 3479,-1871.86 3479,-1863.3\"/>\n<polygon fill=\"black\" stroke=\"black\" points=\"3482.5,-1863.02 3479,-1853.02 3475.5,-1863.02 3482.5,-1863.02\"/>\n</g>\n<!-- 179 -->\n<g id=\"node180\" class=\"node\">\n<title>179</title>\n<polygon fill=\"#399de5\" stroke=\"black\" points=\"3407,-1726.5 3291,-1726.5 3291,-1658.5 3407,-1658.5 3407,-1726.5\"/>\n<text text-anchor=\"middle\" x=\"3349\" y=\"-1711.3\" font-family=\"Helvetica,sans-Serif\" font-size=\"14.00\">entropy = 0.0</text>\n<text text-anchor=\"middle\" x=\"3349\" y=\"-1696.3\" font-family=\"Helvetica,sans-Serif\" font-size=\"14.00\">samples = 4</text>\n<text text-anchor=\"middle\" x=\"3349\" y=\"-1681.3\" font-family=\"Helvetica,sans-Serif\" font-size=\"14.00\">value = [0, 4]</text>\n<text text-anchor=\"middle\" x=\"3349\" y=\"-1666.3\" font-family=\"Helvetica,sans-Serif\" font-size=\"14.00\">class = Survived</text>\n</g>\n<!-- 178&#45;&gt;179 -->\n<g id=\"edge179\" class=\"edge\">\n<title>178-&gt;179</title>\n<path fill=\"none\" stroke=\"black\" d=\"M3433.9,-1769.91C3420.78,-1758.1 3406.46,-1745.22 3393.39,-1733.45\"/>\n<polygon fill=\"black\" stroke=\"black\" points=\"3395.63,-1730.76 3385.85,-1726.67 3390.94,-1735.96 3395.63,-1730.76\"/>\n</g>\n<!-- 180 -->\n<g id=\"node181\" class=\"node\">\n<title>180</title>\n<polygon fill=\"#f2c19d\" stroke=\"black\" points=\"3536.5,-1734 3425.5,-1734 3425.5,-1651 3536.5,-1651 3536.5,-1734\"/>\n<text text-anchor=\"middle\" x=\"3481\" y=\"-1718.8\" font-family=\"Helvetica,sans-Serif\" font-size=\"14.00\">Age &lt;= 53.0</text>\n<text text-anchor=\"middle\" x=\"3481\" y=\"-1703.8\" font-family=\"Helvetica,sans-Serif\" font-size=\"14.00\">entropy = 0.921</text>\n<text text-anchor=\"middle\" x=\"3481\" y=\"-1688.8\" font-family=\"Helvetica,sans-Serif\" font-size=\"14.00\">samples = 128</text>\n<text text-anchor=\"middle\" x=\"3481\" y=\"-1673.8\" font-family=\"Helvetica,sans-Serif\" font-size=\"14.00\">value = [85, 43]</text>\n<text text-anchor=\"middle\" x=\"3481\" y=\"-1658.8\" font-family=\"Helvetica,sans-Serif\" font-size=\"14.00\">class = Died</text>\n</g>\n<!-- 178&#45;&gt;180 -->\n<g id=\"edge180\" class=\"edge\">\n<title>178-&gt;180</title>\n<path fill=\"none\" stroke=\"black\" d=\"M3479.69,-1769.91C3479.84,-1761.56 3479.99,-1752.67 3480.14,-1744.02\"/>\n<polygon fill=\"black\" stroke=\"black\" points=\"3483.64,-1744.08 3480.31,-1734.02 3476.64,-1743.96 3483.64,-1744.08\"/>\n</g>\n<!-- 181 -->\n<g id=\"node182\" class=\"node\">\n<title>181</title>\n<polygon fill=\"#f5cdb1\" stroke=\"black\" points=\"3412.5,-1615 3301.5,-1615 3301.5,-1532 3412.5,-1532 3412.5,-1615\"/>\n<text text-anchor=\"middle\" x=\"3357\" y=\"-1599.8\" font-family=\"Helvetica,sans-Serif\" font-size=\"14.00\">Fare &lt;= 26.775</text>\n<text text-anchor=\"middle\" x=\"3357\" y=\"-1584.8\" font-family=\"Helvetica,sans-Serif\" font-size=\"14.00\">entropy = 0.956</text>\n<text text-anchor=\"middle\" x=\"3357\" y=\"-1569.8\" font-family=\"Helvetica,sans-Serif\" font-size=\"14.00\">samples = 106</text>\n<text text-anchor=\"middle\" x=\"3357\" y=\"-1554.8\" font-family=\"Helvetica,sans-Serif\" font-size=\"14.00\">value = [66, 40]</text>\n<text text-anchor=\"middle\" x=\"3357\" y=\"-1539.8\" font-family=\"Helvetica,sans-Serif\" font-size=\"14.00\">class = Died</text>\n</g>\n<!-- 180&#45;&gt;181 -->\n<g id=\"edge181\" class=\"edge\">\n<title>180-&gt;181</title>\n<path fill=\"none\" stroke=\"black\" d=\"M3437.98,-1650.91C3428.07,-1641.56 3417.45,-1631.54 3407.27,-1621.93\"/>\n<polygon fill=\"black\" stroke=\"black\" points=\"3409.62,-1619.34 3399.95,-1615.02 3404.82,-1624.43 3409.62,-1619.34\"/>\n</g>\n<!-- 248 -->\n<g id=\"node249\" class=\"node\">\n<title>248</title>\n<polygon fill=\"#e99558\" stroke=\"black\" points=\"3657.5,-1615 3546.5,-1615 3546.5,-1532 3657.5,-1532 3657.5,-1615\"/>\n<text text-anchor=\"middle\" x=\"3602\" y=\"-1599.8\" font-family=\"Helvetica,sans-Serif\" font-size=\"14.00\">Age &lt;= 75.5</text>\n<text text-anchor=\"middle\" x=\"3602\" y=\"-1584.8\" font-family=\"Helvetica,sans-Serif\" font-size=\"14.00\">entropy = 0.575</text>\n<text text-anchor=\"middle\" x=\"3602\" y=\"-1569.8\" font-family=\"Helvetica,sans-Serif\" font-size=\"14.00\">samples = 22</text>\n<text text-anchor=\"middle\" x=\"3602\" y=\"-1554.8\" font-family=\"Helvetica,sans-Serif\" font-size=\"14.00\">value = [19, 3]</text>\n<text text-anchor=\"middle\" x=\"3602\" y=\"-1539.8\" font-family=\"Helvetica,sans-Serif\" font-size=\"14.00\">class = Died</text>\n</g>\n<!-- 180&#45;&gt;248 -->\n<g id=\"edge248\" class=\"edge\">\n<title>180-&gt;248</title>\n<path fill=\"none\" stroke=\"black\" d=\"M3522.98,-1650.91C3532.55,-1641.65 3542.81,-1631.73 3552.66,-1622.21\"/>\n<polygon fill=\"black\" stroke=\"black\" points=\"3555.34,-1624.49 3560.09,-1615.02 3550.47,-1619.46 3555.34,-1624.49\"/>\n</g>\n<!-- 182 -->\n<g id=\"node183\" class=\"node\">\n<title>182</title>\n<polygon fill=\"#72b9ec\" stroke=\"black\" points=\"3282,-1496 3166,-1496 3166,-1413 3282,-1413 3282,-1496\"/>\n<text text-anchor=\"middle\" x=\"3224\" y=\"-1480.8\" font-family=\"Helvetica,sans-Serif\" font-size=\"14.00\">Age &lt;= 46.5</text>\n<text text-anchor=\"middle\" x=\"3224\" y=\"-1465.8\" font-family=\"Helvetica,sans-Serif\" font-size=\"14.00\">entropy = 0.764</text>\n<text text-anchor=\"middle\" x=\"3224\" y=\"-1450.8\" font-family=\"Helvetica,sans-Serif\" font-size=\"14.00\">samples = 9</text>\n<text text-anchor=\"middle\" x=\"3224\" y=\"-1435.8\" font-family=\"Helvetica,sans-Serif\" font-size=\"14.00\">value = [2, 7]</text>\n<text text-anchor=\"middle\" x=\"3224\" y=\"-1420.8\" font-family=\"Helvetica,sans-Serif\" font-size=\"14.00\">class = Survived</text>\n</g>\n<!-- 181&#45;&gt;182 -->\n<g id=\"edge182\" class=\"edge\">\n<title>181-&gt;182</title>\n<path fill=\"none\" stroke=\"black\" d=\"M3310.86,-1531.91C3300.13,-1522.47 3288.62,-1512.34 3277.6,-1502.65\"/>\n<polygon fill=\"black\" stroke=\"black\" points=\"3279.88,-1500 3270.06,-1496.02 3275.26,-1505.25 3279.88,-1500\"/>\n</g>\n<!-- 191 -->\n<g id=\"node192\" class=\"node\">\n<title>191</title>\n<polygon fill=\"#f2c29f\" stroke=\"black\" points=\"3412.5,-1496 3301.5,-1496 3301.5,-1413 3412.5,-1413 3412.5,-1496\"/>\n<text text-anchor=\"middle\" x=\"3357\" y=\"-1480.8\" font-family=\"Helvetica,sans-Serif\" font-size=\"14.00\">Fare &lt;= 29.1</text>\n<text text-anchor=\"middle\" x=\"3357\" y=\"-1465.8\" font-family=\"Helvetica,sans-Serif\" font-size=\"14.00\">entropy = 0.925</text>\n<text text-anchor=\"middle\" x=\"3357\" y=\"-1450.8\" font-family=\"Helvetica,sans-Serif\" font-size=\"14.00\">samples = 97</text>\n<text text-anchor=\"middle\" x=\"3357\" y=\"-1435.8\" font-family=\"Helvetica,sans-Serif\" font-size=\"14.00\">value = [64, 33]</text>\n<text text-anchor=\"middle\" x=\"3357\" y=\"-1420.8\" font-family=\"Helvetica,sans-Serif\" font-size=\"14.00\">class = Died</text>\n</g>\n<!-- 181&#45;&gt;191 -->\n<g id=\"edge191\" class=\"edge\">\n<title>181-&gt;191</title>\n<path fill=\"none\" stroke=\"black\" d=\"M3357,-1531.91C3357,-1523.65 3357,-1514.86 3357,-1506.3\"/>\n<polygon fill=\"black\" stroke=\"black\" points=\"3360.5,-1506.02 3357,-1496.02 3353.5,-1506.02 3360.5,-1506.02\"/>\n</g>\n<!-- 183 -->\n<g id=\"node184\" class=\"node\">\n<title>183</title>\n<polygon fill=\"#88c4ef\" stroke=\"black\" points=\"3129,-1377 2991,-1377 2991,-1294 3129,-1294 3129,-1377\"/>\n<text text-anchor=\"middle\" x=\"3060\" y=\"-1361.8\" font-family=\"Helvetica,sans-Serif\" font-size=\"14.00\">Embarked_S &lt;= 0.5</text>\n<text text-anchor=\"middle\" x=\"3060\" y=\"-1346.8\" font-family=\"Helvetica,sans-Serif\" font-size=\"14.00\">entropy = 0.863</text>\n<text text-anchor=\"middle\" x=\"3060\" y=\"-1331.8\" font-family=\"Helvetica,sans-Serif\" font-size=\"14.00\">samples = 7</text>\n<text text-anchor=\"middle\" x=\"3060\" y=\"-1316.8\" font-family=\"Helvetica,sans-Serif\" font-size=\"14.00\">value = [2, 5]</text>\n<text text-anchor=\"middle\" x=\"3060\" y=\"-1301.8\" font-family=\"Helvetica,sans-Serif\" font-size=\"14.00\">class = Survived</text>\n</g>\n<!-- 182&#45;&gt;183 -->\n<g id=\"edge183\" class=\"edge\">\n<title>182-&gt;183</title>\n<path fill=\"none\" stroke=\"black\" d=\"M3167.1,-1412.91C3153.62,-1403.29 3139.13,-1392.95 3125.31,-1383.09\"/>\n<polygon fill=\"black\" stroke=\"black\" points=\"3126.97,-1379.98 3116.8,-1377.02 3122.91,-1385.68 3126.97,-1379.98\"/>\n</g>\n<!-- 190 -->\n<g id=\"node191\" class=\"node\">\n<title>190</title>\n<polygon fill=\"#399de5\" stroke=\"black\" points=\"3282,-1369.5 3166,-1369.5 3166,-1301.5 3282,-1301.5 3282,-1369.5\"/>\n<text text-anchor=\"middle\" x=\"3224\" y=\"-1354.3\" font-family=\"Helvetica,sans-Serif\" font-size=\"14.00\">entropy = 0.0</text>\n<text text-anchor=\"middle\" x=\"3224\" y=\"-1339.3\" font-family=\"Helvetica,sans-Serif\" font-size=\"14.00\">samples = 2</text>\n<text text-anchor=\"middle\" x=\"3224\" y=\"-1324.3\" font-family=\"Helvetica,sans-Serif\" font-size=\"14.00\">value = [0, 2]</text>\n<text text-anchor=\"middle\" x=\"3224\" y=\"-1309.3\" font-family=\"Helvetica,sans-Serif\" font-size=\"14.00\">class = Survived</text>\n</g>\n<!-- 182&#45;&gt;190 -->\n<g id=\"edge190\" class=\"edge\">\n<title>182-&gt;190</title>\n<path fill=\"none\" stroke=\"black\" d=\"M3224,-1412.91C3224,-1402.2 3224,-1390.62 3224,-1379.78\"/>\n<polygon fill=\"black\" stroke=\"black\" points=\"3227.5,-1379.67 3224,-1369.67 3220.5,-1379.67 3227.5,-1379.67\"/>\n</g>\n<!-- 184 -->\n<g id=\"node185\" class=\"node\">\n<title>184</title>\n<polygon fill=\"#399de5\" stroke=\"black\" points=\"2984,-1250.5 2868,-1250.5 2868,-1182.5 2984,-1182.5 2984,-1250.5\"/>\n<text text-anchor=\"middle\" x=\"2926\" y=\"-1235.3\" font-family=\"Helvetica,sans-Serif\" font-size=\"14.00\">entropy = 0.0</text>\n<text text-anchor=\"middle\" x=\"2926\" y=\"-1220.3\" font-family=\"Helvetica,sans-Serif\" font-size=\"14.00\">samples = 1</text>\n<text text-anchor=\"middle\" x=\"2926\" y=\"-1205.3\" font-family=\"Helvetica,sans-Serif\" font-size=\"14.00\">value = [0, 1]</text>\n<text text-anchor=\"middle\" x=\"2926\" y=\"-1190.3\" font-family=\"Helvetica,sans-Serif\" font-size=\"14.00\">class = Survived</text>\n</g>\n<!-- 183&#45;&gt;184 -->\n<g id=\"edge184\" class=\"edge\">\n<title>183-&gt;184</title>\n<path fill=\"none\" stroke=\"black\" d=\"M3013.51,-1293.91C2999.99,-1282.1 2985.23,-1269.22 2971.75,-1257.45\"/>\n<polygon fill=\"black\" stroke=\"black\" points=\"2973.82,-1254.61 2963.99,-1250.67 2969.22,-1259.88 2973.82,-1254.61\"/>\n</g>\n<!-- 185 -->\n<g id=\"node186\" class=\"node\">\n<title>185</title>\n<polygon fill=\"#9ccef2\" stroke=\"black\" points=\"3118,-1258 3002,-1258 3002,-1175 3118,-1175 3118,-1258\"/>\n<text text-anchor=\"middle\" x=\"3060\" y=\"-1242.8\" font-family=\"Helvetica,sans-Serif\" font-size=\"14.00\">Age &lt;= 39.5</text>\n<text text-anchor=\"middle\" x=\"3060\" y=\"-1227.8\" font-family=\"Helvetica,sans-Serif\" font-size=\"14.00\">entropy = 0.918</text>\n<text text-anchor=\"middle\" x=\"3060\" y=\"-1212.8\" font-family=\"Helvetica,sans-Serif\" font-size=\"14.00\">samples = 6</text>\n<text text-anchor=\"middle\" x=\"3060\" y=\"-1197.8\" font-family=\"Helvetica,sans-Serif\" font-size=\"14.00\">value = [2, 4]</text>\n<text text-anchor=\"middle\" x=\"3060\" y=\"-1182.8\" font-family=\"Helvetica,sans-Serif\" font-size=\"14.00\">class = Survived</text>\n</g>\n<!-- 183&#45;&gt;185 -->\n<g id=\"edge185\" class=\"edge\">\n<title>183-&gt;185</title>\n<path fill=\"none\" stroke=\"black\" d=\"M3060,-1293.91C3060,-1285.65 3060,-1276.86 3060,-1268.3\"/>\n<polygon fill=\"black\" stroke=\"black\" points=\"3063.5,-1268.02 3060,-1258.02 3056.5,-1268.02 3063.5,-1268.02\"/>\n</g>\n<!-- 186 -->\n<g id=\"node187\" class=\"node\">\n<title>186</title>\n<polygon fill=\"#7bbeee\" stroke=\"black\" points=\"2994,-1139 2878,-1139 2878,-1056 2994,-1056 2994,-1139\"/>\n<text text-anchor=\"middle\" x=\"2936\" y=\"-1123.8\" font-family=\"Helvetica,sans-Serif\" font-size=\"14.00\">Age &lt;= 31.0</text>\n<text text-anchor=\"middle\" x=\"2936\" y=\"-1108.8\" font-family=\"Helvetica,sans-Serif\" font-size=\"14.00\">entropy = 0.811</text>\n<text text-anchor=\"middle\" x=\"2936\" y=\"-1093.8\" font-family=\"Helvetica,sans-Serif\" font-size=\"14.00\">samples = 4</text>\n<text text-anchor=\"middle\" x=\"2936\" y=\"-1078.8\" font-family=\"Helvetica,sans-Serif\" font-size=\"14.00\">value = [1, 3]</text>\n<text text-anchor=\"middle\" x=\"2936\" y=\"-1063.8\" font-family=\"Helvetica,sans-Serif\" font-size=\"14.00\">class = Survived</text>\n</g>\n<!-- 185&#45;&gt;186 -->\n<g id=\"edge186\" class=\"edge\">\n<title>185-&gt;186</title>\n<path fill=\"none\" stroke=\"black\" d=\"M3016.98,-1174.91C3007.07,-1165.56 2996.45,-1155.54 2986.27,-1145.93\"/>\n<polygon fill=\"black\" stroke=\"black\" points=\"2988.62,-1143.34 2978.95,-1139.02 2983.82,-1148.43 2988.62,-1143.34\"/>\n</g>\n<!-- 189 -->\n<g id=\"node190\" class=\"node\">\n<title>189</title>\n<polygon fill=\"#ffffff\" stroke=\"black\" points=\"3108,-1131.5 3012,-1131.5 3012,-1063.5 3108,-1063.5 3108,-1131.5\"/>\n<text text-anchor=\"middle\" x=\"3060\" y=\"-1116.3\" font-family=\"Helvetica,sans-Serif\" font-size=\"14.00\">entropy = 1.0</text>\n<text text-anchor=\"middle\" x=\"3060\" y=\"-1101.3\" font-family=\"Helvetica,sans-Serif\" font-size=\"14.00\">samples = 2</text>\n<text text-anchor=\"middle\" x=\"3060\" y=\"-1086.3\" font-family=\"Helvetica,sans-Serif\" font-size=\"14.00\">value = [1, 1]</text>\n<text text-anchor=\"middle\" x=\"3060\" y=\"-1071.3\" font-family=\"Helvetica,sans-Serif\" font-size=\"14.00\">class = Died</text>\n</g>\n<!-- 185&#45;&gt;189 -->\n<g id=\"edge189\" class=\"edge\">\n<title>185-&gt;189</title>\n<path fill=\"none\" stroke=\"black\" d=\"M3060,-1174.91C3060,-1164.2 3060,-1152.62 3060,-1141.78\"/>\n<polygon fill=\"black\" stroke=\"black\" points=\"3063.5,-1141.67 3060,-1131.67 3056.5,-1141.67 3063.5,-1141.67\"/>\n</g>\n<!-- 187 -->\n<g id=\"node188\" class=\"node\">\n<title>187</title>\n<polygon fill=\"#9ccef2\" stroke=\"black\" points=\"2973,-1012.5 2857,-1012.5 2857,-944.5 2973,-944.5 2973,-1012.5\"/>\n<text text-anchor=\"middle\" x=\"2915\" y=\"-997.3\" font-family=\"Helvetica,sans-Serif\" font-size=\"14.00\">entropy = 0.918</text>\n<text text-anchor=\"middle\" x=\"2915\" y=\"-982.3\" font-family=\"Helvetica,sans-Serif\" font-size=\"14.00\">samples = 3</text>\n<text text-anchor=\"middle\" x=\"2915\" y=\"-967.3\" font-family=\"Helvetica,sans-Serif\" font-size=\"14.00\">value = [1, 2]</text>\n<text text-anchor=\"middle\" x=\"2915\" y=\"-952.3\" font-family=\"Helvetica,sans-Serif\" font-size=\"14.00\">class = Survived</text>\n</g>\n<!-- 186&#45;&gt;187 -->\n<g id=\"edge187\" class=\"edge\">\n<title>186-&gt;187</title>\n<path fill=\"none\" stroke=\"black\" d=\"M2928.71,-1055.91C2926.79,-1045.2 2924.71,-1033.62 2922.77,-1022.78\"/>\n<polygon fill=\"black\" stroke=\"black\" points=\"2926.16,-1021.89 2920.95,-1012.67 2919.27,-1023.13 2926.16,-1021.89\"/>\n</g>\n<!-- 188 -->\n<g id=\"node189\" class=\"node\">\n<title>188</title>\n<polygon fill=\"#399de5\" stroke=\"black\" points=\"3107,-1012.5 2991,-1012.5 2991,-944.5 3107,-944.5 3107,-1012.5\"/>\n<text text-anchor=\"middle\" x=\"3049\" y=\"-997.3\" font-family=\"Helvetica,sans-Serif\" font-size=\"14.00\">entropy = 0.0</text>\n<text text-anchor=\"middle\" x=\"3049\" y=\"-982.3\" font-family=\"Helvetica,sans-Serif\" font-size=\"14.00\">samples = 1</text>\n<text text-anchor=\"middle\" x=\"3049\" y=\"-967.3\" font-family=\"Helvetica,sans-Serif\" font-size=\"14.00\">value = [0, 1]</text>\n<text text-anchor=\"middle\" x=\"3049\" y=\"-952.3\" font-family=\"Helvetica,sans-Serif\" font-size=\"14.00\">class = Survived</text>\n</g>\n<!-- 186&#45;&gt;188 -->\n<g id=\"edge188\" class=\"edge\">\n<title>186-&gt;188</title>\n<path fill=\"none\" stroke=\"black\" d=\"M2975.2,-1055.91C2986.39,-1044.32 2998.59,-1031.7 3009.78,-1020.11\"/>\n<polygon fill=\"black\" stroke=\"black\" points=\"3012.54,-1022.29 3016.97,-1012.67 3007.5,-1017.43 3012.54,-1022.29\"/>\n</g>\n<!-- 192 -->\n<g id=\"node193\" class=\"node\">\n<title>192</title>\n<polygon fill=\"#e58139\" stroke=\"black\" points=\"3401,-1369.5 3305,-1369.5 3305,-1301.5 3401,-1301.5 3401,-1369.5\"/>\n<text text-anchor=\"middle\" x=\"3353\" y=\"-1354.3\" font-family=\"Helvetica,sans-Serif\" font-size=\"14.00\">entropy = 0.0</text>\n<text text-anchor=\"middle\" x=\"3353\" y=\"-1339.3\" font-family=\"Helvetica,sans-Serif\" font-size=\"14.00\">samples = 9</text>\n<text text-anchor=\"middle\" x=\"3353\" y=\"-1324.3\" font-family=\"Helvetica,sans-Serif\" font-size=\"14.00\">value = [9, 0]</text>\n<text text-anchor=\"middle\" x=\"3353\" y=\"-1309.3\" font-family=\"Helvetica,sans-Serif\" font-size=\"14.00\">class = Died</text>\n</g>\n<!-- 191&#45;&gt;192 -->\n<g id=\"edge192\" class=\"edge\">\n<title>191-&gt;192</title>\n<path fill=\"none\" stroke=\"black\" d=\"M3355.61,-1412.91C3355.25,-1402.2 3354.85,-1390.62 3354.48,-1379.78\"/>\n<polygon fill=\"black\" stroke=\"black\" points=\"3357.97,-1379.54 3354.13,-1369.67 3350.98,-1379.78 3357.97,-1379.54\"/>\n</g>\n<!-- 193 -->\n<g id=\"node194\" class=\"node\">\n<title>193</title>\n<polygon fill=\"#f5cdb0\" stroke=\"black\" points=\"3530.5,-1377 3419.5,-1377 3419.5,-1294 3530.5,-1294 3530.5,-1377\"/>\n<text text-anchor=\"middle\" x=\"3475\" y=\"-1361.8\" font-family=\"Helvetica,sans-Serif\" font-size=\"14.00\">Fare &lt;= 30.598</text>\n<text text-anchor=\"middle\" x=\"3475\" y=\"-1346.8\" font-family=\"Helvetica,sans-Serif\" font-size=\"14.00\">entropy = 0.954</text>\n<text text-anchor=\"middle\" x=\"3475\" y=\"-1331.8\" font-family=\"Helvetica,sans-Serif\" font-size=\"14.00\">samples = 88</text>\n<text text-anchor=\"middle\" x=\"3475\" y=\"-1316.8\" font-family=\"Helvetica,sans-Serif\" font-size=\"14.00\">value = [55, 33]</text>\n<text text-anchor=\"middle\" x=\"3475\" y=\"-1301.8\" font-family=\"Helvetica,sans-Serif\" font-size=\"14.00\">class = Died</text>\n</g>\n<!-- 191&#45;&gt;193 -->\n<g id=\"edge193\" class=\"edge\">\n<title>191-&gt;193</title>\n<path fill=\"none\" stroke=\"black\" d=\"M3397.94,-1412.91C3407.28,-1403.65 3417.28,-1393.73 3426.88,-1384.21\"/>\n<polygon fill=\"black\" stroke=\"black\" points=\"3429.5,-1386.55 3434.13,-1377.02 3424.57,-1381.58 3429.5,-1386.55\"/>\n</g>\n<!-- 194 -->\n<g id=\"node195\" class=\"node\">\n<title>194</title>\n<polygon fill=\"#8ec7f0\" stroke=\"black\" points=\"3374,-1258 3258,-1258 3258,-1175 3374,-1175 3374,-1258\"/>\n<text text-anchor=\"middle\" x=\"3316\" y=\"-1242.8\" font-family=\"Helvetica,sans-Serif\" font-size=\"14.00\">Age &lt;= 28.5</text>\n<text text-anchor=\"middle\" x=\"3316\" y=\"-1227.8\" font-family=\"Helvetica,sans-Serif\" font-size=\"14.00\">entropy = 0.881</text>\n<text text-anchor=\"middle\" x=\"3316\" y=\"-1212.8\" font-family=\"Helvetica,sans-Serif\" font-size=\"14.00\">samples = 10</text>\n<text text-anchor=\"middle\" x=\"3316\" y=\"-1197.8\" font-family=\"Helvetica,sans-Serif\" font-size=\"14.00\">value = [3, 7]</text>\n<text text-anchor=\"middle\" x=\"3316\" y=\"-1182.8\" font-family=\"Helvetica,sans-Serif\" font-size=\"14.00\">class = Survived</text>\n</g>\n<!-- 193&#45;&gt;194 -->\n<g id=\"edge194\" class=\"edge\">\n<title>193-&gt;194</title>\n<path fill=\"none\" stroke=\"black\" d=\"M3419.84,-1293.91C3406.76,-1284.29 3392.72,-1273.95 3379.32,-1264.09\"/>\n<polygon fill=\"black\" stroke=\"black\" points=\"3381.2,-1261.13 3371.07,-1258.02 3377.05,-1266.77 3381.2,-1261.13\"/>\n</g>\n<!-- 199 -->\n<g id=\"node200\" class=\"node\">\n<title>199</title>\n<polygon fill=\"#f2c09c\" stroke=\"black\" points=\"3573.5,-1258 3462.5,-1258 3462.5,-1175 3573.5,-1175 3573.5,-1258\"/>\n<text text-anchor=\"middle\" x=\"3518\" y=\"-1242.8\" font-family=\"Helvetica,sans-Serif\" font-size=\"14.00\">Fare &lt;= 52.277</text>\n<text text-anchor=\"middle\" x=\"3518\" y=\"-1227.8\" font-family=\"Helvetica,sans-Serif\" font-size=\"14.00\">entropy = 0.918</text>\n<text text-anchor=\"middle\" x=\"3518\" y=\"-1212.8\" font-family=\"Helvetica,sans-Serif\" font-size=\"14.00\">samples = 78</text>\n<text text-anchor=\"middle\" x=\"3518\" y=\"-1197.8\" font-family=\"Helvetica,sans-Serif\" font-size=\"14.00\">value = [52, 26]</text>\n<text text-anchor=\"middle\" x=\"3518\" y=\"-1182.8\" font-family=\"Helvetica,sans-Serif\" font-size=\"14.00\">class = Died</text>\n</g>\n<!-- 193&#45;&gt;199 -->\n<g id=\"edge199\" class=\"edge\">\n<title>193-&gt;199</title>\n<path fill=\"none\" stroke=\"black\" d=\"M3489.92,-1293.91C3493.05,-1285.38 3496.4,-1276.28 3499.64,-1267.46\"/>\n<polygon fill=\"black\" stroke=\"black\" points=\"3502.94,-1268.61 3503.11,-1258.02 3496.37,-1266.2 3502.94,-1268.61\"/>\n</g>\n<!-- 195 -->\n<g id=\"node196\" class=\"node\">\n<title>195</title>\n<polygon fill=\"#399de5\" stroke=\"black\" points=\"3242,-1131.5 3126,-1131.5 3126,-1063.5 3242,-1063.5 3242,-1131.5\"/>\n<text text-anchor=\"middle\" x=\"3184\" y=\"-1116.3\" font-family=\"Helvetica,sans-Serif\" font-size=\"14.00\">entropy = 0.0</text>\n<text text-anchor=\"middle\" x=\"3184\" y=\"-1101.3\" font-family=\"Helvetica,sans-Serif\" font-size=\"14.00\">samples = 5</text>\n<text text-anchor=\"middle\" x=\"3184\" y=\"-1086.3\" font-family=\"Helvetica,sans-Serif\" font-size=\"14.00\">value = [0, 5]</text>\n<text text-anchor=\"middle\" x=\"3184\" y=\"-1071.3\" font-family=\"Helvetica,sans-Serif\" font-size=\"14.00\">class = Survived</text>\n</g>\n<!-- 194&#45;&gt;195 -->\n<g id=\"edge195\" class=\"edge\">\n<title>194-&gt;195</title>\n<path fill=\"none\" stroke=\"black\" d=\"M3270.2,-1174.91C3256.88,-1163.1 3242.35,-1150.22 3229.07,-1138.45\"/>\n<polygon fill=\"black\" stroke=\"black\" points=\"3231.22,-1135.68 3221.42,-1131.67 3226.58,-1140.92 3231.22,-1135.68\"/>\n</g>\n<!-- 196 -->\n<g id=\"node197\" class=\"node\">\n<title>196</title>\n<polygon fill=\"#f6d5bd\" stroke=\"black\" points=\"3371.5,-1139 3260.5,-1139 3260.5,-1056 3371.5,-1056 3371.5,-1139\"/>\n<text text-anchor=\"middle\" x=\"3316\" y=\"-1123.8\" font-family=\"Helvetica,sans-Serif\" font-size=\"14.00\">Fare &lt;= 30.285</text>\n<text text-anchor=\"middle\" x=\"3316\" y=\"-1108.8\" font-family=\"Helvetica,sans-Serif\" font-size=\"14.00\">entropy = 0.971</text>\n<text text-anchor=\"middle\" x=\"3316\" y=\"-1093.8\" font-family=\"Helvetica,sans-Serif\" font-size=\"14.00\">samples = 5</text>\n<text text-anchor=\"middle\" x=\"3316\" y=\"-1078.8\" font-family=\"Helvetica,sans-Serif\" font-size=\"14.00\">value = [3, 2]</text>\n<text text-anchor=\"middle\" x=\"3316\" y=\"-1063.8\" font-family=\"Helvetica,sans-Serif\" font-size=\"14.00\">class = Died</text>\n</g>\n<!-- 194&#45;&gt;196 -->\n<g id=\"edge196\" class=\"edge\">\n<title>194-&gt;196</title>\n<path fill=\"none\" stroke=\"black\" d=\"M3316,-1174.91C3316,-1166.65 3316,-1157.86 3316,-1149.3\"/>\n<polygon fill=\"black\" stroke=\"black\" points=\"3319.5,-1149.02 3316,-1139.02 3312.5,-1149.02 3319.5,-1149.02\"/>\n</g>\n<!-- 197 -->\n<g id=\"node198\" class=\"node\">\n<title>197</title>\n<polygon fill=\"#e58139\" stroke=\"black\" points=\"3221,-1012.5 3125,-1012.5 3125,-944.5 3221,-944.5 3221,-1012.5\"/>\n<text text-anchor=\"middle\" x=\"3173\" y=\"-997.3\" font-family=\"Helvetica,sans-Serif\" font-size=\"14.00\">entropy = 0.0</text>\n<text text-anchor=\"middle\" x=\"3173\" y=\"-982.3\" font-family=\"Helvetica,sans-Serif\" font-size=\"14.00\">samples = 3</text>\n<text text-anchor=\"middle\" x=\"3173\" y=\"-967.3\" font-family=\"Helvetica,sans-Serif\" font-size=\"14.00\">value = [3, 0]</text>\n<text text-anchor=\"middle\" x=\"3173\" y=\"-952.3\" font-family=\"Helvetica,sans-Serif\" font-size=\"14.00\">class = Died</text>\n</g>\n<!-- 196&#45;&gt;197 -->\n<g id=\"edge197\" class=\"edge\">\n<title>196-&gt;197</title>\n<path fill=\"none\" stroke=\"black\" d=\"M3266.39,-1055.91C3251.82,-1043.99 3235.91,-1030.98 3221.42,-1019.12\"/>\n<polygon fill=\"black\" stroke=\"black\" points=\"3223.49,-1016.29 3213.54,-1012.67 3219.06,-1021.71 3223.49,-1016.29\"/>\n</g>\n<!-- 198 -->\n<g id=\"node199\" class=\"node\">\n<title>198</title>\n<polygon fill=\"#399de5\" stroke=\"black\" points=\"3355,-1012.5 3239,-1012.5 3239,-944.5 3355,-944.5 3355,-1012.5\"/>\n<text text-anchor=\"middle\" x=\"3297\" y=\"-997.3\" font-family=\"Helvetica,sans-Serif\" font-size=\"14.00\">entropy = 0.0</text>\n<text text-anchor=\"middle\" x=\"3297\" y=\"-982.3\" font-family=\"Helvetica,sans-Serif\" font-size=\"14.00\">samples = 2</text>\n<text text-anchor=\"middle\" x=\"3297\" y=\"-967.3\" font-family=\"Helvetica,sans-Serif\" font-size=\"14.00\">value = [0, 2]</text>\n<text text-anchor=\"middle\" x=\"3297\" y=\"-952.3\" font-family=\"Helvetica,sans-Serif\" font-size=\"14.00\">class = Survived</text>\n</g>\n<!-- 196&#45;&gt;198 -->\n<g id=\"edge198\" class=\"edge\">\n<title>196-&gt;198</title>\n<path fill=\"none\" stroke=\"black\" d=\"M3309.41,-1055.91C3307.67,-1045.2 3305.79,-1033.62 3304.03,-1022.78\"/>\n<polygon fill=\"black\" stroke=\"black\" points=\"3307.44,-1021.98 3302.39,-1012.67 3300.53,-1023.1 3307.44,-1021.98\"/>\n</g>\n<!-- 200 -->\n<g id=\"node201\" class=\"node\">\n<title>200</title>\n<polygon fill=\"#ea985d\" stroke=\"black\" points=\"3573.5,-1139 3462.5,-1139 3462.5,-1056 3573.5,-1056 3573.5,-1139\"/>\n<text text-anchor=\"middle\" x=\"3518\" y=\"-1123.8\" font-family=\"Helvetica,sans-Serif\" font-size=\"14.00\">Age &lt;= 47.5</text>\n<text text-anchor=\"middle\" x=\"3518\" y=\"-1108.8\" font-family=\"Helvetica,sans-Serif\" font-size=\"14.00\">entropy = 0.619</text>\n<text text-anchor=\"middle\" x=\"3518\" y=\"-1093.8\" font-family=\"Helvetica,sans-Serif\" font-size=\"14.00\">samples = 26</text>\n<text text-anchor=\"middle\" x=\"3518\" y=\"-1078.8\" font-family=\"Helvetica,sans-Serif\" font-size=\"14.00\">value = [22, 4]</text>\n<text text-anchor=\"middle\" x=\"3518\" y=\"-1063.8\" font-family=\"Helvetica,sans-Serif\" font-size=\"14.00\">class = Died</text>\n</g>\n<!-- 199&#45;&gt;200 -->\n<g id=\"edge200\" class=\"edge\">\n<title>199-&gt;200</title>\n<path fill=\"none\" stroke=\"black\" d=\"M3518,-1174.91C3518,-1166.65 3518,-1157.86 3518,-1149.3\"/>\n<polygon fill=\"black\" stroke=\"black\" points=\"3521.5,-1149.02 3518,-1139.02 3514.5,-1149.02 3521.5,-1149.02\"/>\n</g>\n<!-- 213 -->\n<g id=\"node214\" class=\"node\">\n<title>213</title>\n<polygon fill=\"#f8ddca\" stroke=\"black\" points=\"3750.5,-1139 3639.5,-1139 3639.5,-1056 3750.5,-1056 3750.5,-1139\"/>\n<text text-anchor=\"middle\" x=\"3695\" y=\"-1123.8\" font-family=\"Helvetica,sans-Serif\" font-size=\"14.00\">Fare &lt;= 59.087</text>\n<text text-anchor=\"middle\" x=\"3695\" y=\"-1108.8\" font-family=\"Helvetica,sans-Serif\" font-size=\"14.00\">entropy = 0.983</text>\n<text text-anchor=\"middle\" x=\"3695\" y=\"-1093.8\" font-family=\"Helvetica,sans-Serif\" font-size=\"14.00\">samples = 52</text>\n<text text-anchor=\"middle\" x=\"3695\" y=\"-1078.8\" font-family=\"Helvetica,sans-Serif\" font-size=\"14.00\">value = [30, 22]</text>\n<text text-anchor=\"middle\" x=\"3695\" y=\"-1063.8\" font-family=\"Helvetica,sans-Serif\" font-size=\"14.00\">class = Died</text>\n</g>\n<!-- 199&#45;&gt;213 -->\n<g id=\"edge213\" class=\"edge\">\n<title>199-&gt;213</title>\n<path fill=\"none\" stroke=\"black\" d=\"M3573.52,-1178.8C3591.72,-1166.77 3612.09,-1153.31 3630.87,-1140.89\"/>\n<polygon fill=\"black\" stroke=\"black\" points=\"3632.96,-1143.7 3639.37,-1135.27 3629.1,-1137.86 3632.96,-1143.7\"/>\n</g>\n<!-- 201 -->\n<g id=\"node202\" class=\"node\">\n<title>201</title>\n<polygon fill=\"#e99254\" stroke=\"black\" points=\"3484.5,-1020 3373.5,-1020 3373.5,-937 3484.5,-937 3484.5,-1020\"/>\n<text text-anchor=\"middle\" x=\"3429\" y=\"-1004.8\" font-family=\"Helvetica,sans-Serif\" font-size=\"14.00\">Fare &lt;= 36.125</text>\n<text text-anchor=\"middle\" x=\"3429\" y=\"-989.8\" font-family=\"Helvetica,sans-Serif\" font-size=\"14.00\">entropy = 0.529</text>\n<text text-anchor=\"middle\" x=\"3429\" y=\"-974.8\" font-family=\"Helvetica,sans-Serif\" font-size=\"14.00\">samples = 25</text>\n<text text-anchor=\"middle\" x=\"3429\" y=\"-959.8\" font-family=\"Helvetica,sans-Serif\" font-size=\"14.00\">value = [22, 3]</text>\n<text text-anchor=\"middle\" x=\"3429\" y=\"-944.8\" font-family=\"Helvetica,sans-Serif\" font-size=\"14.00\">class = Died</text>\n</g>\n<!-- 200&#45;&gt;201 -->\n<g id=\"edge201\" class=\"edge\">\n<title>200-&gt;201</title>\n<path fill=\"none\" stroke=\"black\" d=\"M3487.12,-1055.91C3480.29,-1046.92 3472.98,-1037.32 3465.93,-1028.05\"/>\n<polygon fill=\"black\" stroke=\"black\" points=\"3468.66,-1025.86 3459.82,-1020.02 3463.09,-1030.1 3468.66,-1025.86\"/>\n</g>\n<!-- 212 -->\n<g id=\"node213\" class=\"node\">\n<title>212</title>\n<polygon fill=\"#399de5\" stroke=\"black\" points=\"3619,-1012.5 3503,-1012.5 3503,-944.5 3619,-944.5 3619,-1012.5\"/>\n<text text-anchor=\"middle\" x=\"3561\" y=\"-997.3\" font-family=\"Helvetica,sans-Serif\" font-size=\"14.00\">entropy = 0.0</text>\n<text text-anchor=\"middle\" x=\"3561\" y=\"-982.3\" font-family=\"Helvetica,sans-Serif\" font-size=\"14.00\">samples = 1</text>\n<text text-anchor=\"middle\" x=\"3561\" y=\"-967.3\" font-family=\"Helvetica,sans-Serif\" font-size=\"14.00\">value = [0, 1]</text>\n<text text-anchor=\"middle\" x=\"3561\" y=\"-952.3\" font-family=\"Helvetica,sans-Serif\" font-size=\"14.00\">class = Survived</text>\n</g>\n<!-- 200&#45;&gt;212 -->\n<g id=\"edge212\" class=\"edge\">\n<title>200-&gt;212</title>\n<path fill=\"none\" stroke=\"black\" d=\"M3532.92,-1055.91C3536.93,-1044.98 3541.29,-1033.14 3545.34,-1022.11\"/>\n<polygon fill=\"black\" stroke=\"black\" points=\"3548.65,-1023.26 3548.81,-1012.67 3542.08,-1020.85 3548.65,-1023.26\"/>\n</g>\n<!-- 202 -->\n<g id=\"node203\" class=\"node\">\n<title>202</title>\n<polygon fill=\"#efb083\" stroke=\"black\" points=\"3344.5,-901 3233.5,-901 3233.5,-818 3344.5,-818 3344.5,-901\"/>\n<text text-anchor=\"middle\" x=\"3289\" y=\"-885.8\" font-family=\"Helvetica,sans-Serif\" font-size=\"14.00\">Fare &lt;= 35.25</text>\n<text text-anchor=\"middle\" x=\"3289\" y=\"-870.8\" font-family=\"Helvetica,sans-Serif\" font-size=\"14.00\">entropy = 0.845</text>\n<text text-anchor=\"middle\" x=\"3289\" y=\"-855.8\" font-family=\"Helvetica,sans-Serif\" font-size=\"14.00\">samples = 11</text>\n<text text-anchor=\"middle\" x=\"3289\" y=\"-840.8\" font-family=\"Helvetica,sans-Serif\" font-size=\"14.00\">value = [8, 3]</text>\n<text text-anchor=\"middle\" x=\"3289\" y=\"-825.8\" font-family=\"Helvetica,sans-Serif\" font-size=\"14.00\">class = Died</text>\n</g>\n<!-- 201&#45;&gt;202 -->\n<g id=\"edge202\" class=\"edge\">\n<title>201-&gt;202</title>\n<path fill=\"none\" stroke=\"black\" d=\"M3380.43,-936.91C3369.13,-927.47 3357.02,-917.34 3345.42,-907.65\"/>\n<polygon fill=\"black\" stroke=\"black\" points=\"3347.4,-904.75 3337.49,-901.02 3342.92,-910.12 3347.4,-904.75\"/>\n</g>\n<!-- 211 -->\n<g id=\"node212\" class=\"node\">\n<title>211</title>\n<polygon fill=\"#e58139\" stroke=\"black\" points=\"3480,-893.5 3378,-893.5 3378,-825.5 3480,-825.5 3480,-893.5\"/>\n<text text-anchor=\"middle\" x=\"3429\" y=\"-878.3\" font-family=\"Helvetica,sans-Serif\" font-size=\"14.00\">entropy = 0.0</text>\n<text text-anchor=\"middle\" x=\"3429\" y=\"-863.3\" font-family=\"Helvetica,sans-Serif\" font-size=\"14.00\">samples = 14</text>\n<text text-anchor=\"middle\" x=\"3429\" y=\"-848.3\" font-family=\"Helvetica,sans-Serif\" font-size=\"14.00\">value = [14, 0]</text>\n<text text-anchor=\"middle\" x=\"3429\" y=\"-833.3\" font-family=\"Helvetica,sans-Serif\" font-size=\"14.00\">class = Died</text>\n</g>\n<!-- 201&#45;&gt;211 -->\n<g id=\"edge211\" class=\"edge\">\n<title>201-&gt;211</title>\n<path fill=\"none\" stroke=\"black\" d=\"M3429,-936.91C3429,-926.2 3429,-914.62 3429,-903.78\"/>\n<polygon fill=\"black\" stroke=\"black\" points=\"3432.5,-903.67 3429,-893.67 3425.5,-903.67 3432.5,-903.67\"/>\n</g>\n<!-- 203 -->\n<g id=\"node204\" class=\"node\">\n<title>203</title>\n<polygon fill=\"#e99355\" stroke=\"black\" points=\"3183,-782 3045,-782 3045,-699 3183,-699 3183,-782\"/>\n<text text-anchor=\"middle\" x=\"3114\" y=\"-766.8\" font-family=\"Helvetica,sans-Serif\" font-size=\"14.00\">Embarked_S &lt;= 0.5</text>\n<text text-anchor=\"middle\" x=\"3114\" y=\"-751.8\" font-family=\"Helvetica,sans-Serif\" font-size=\"14.00\">entropy = 0.544</text>\n<text text-anchor=\"middle\" x=\"3114\" y=\"-736.8\" font-family=\"Helvetica,sans-Serif\" font-size=\"14.00\">samples = 8</text>\n<text text-anchor=\"middle\" x=\"3114\" y=\"-721.8\" font-family=\"Helvetica,sans-Serif\" font-size=\"14.00\">value = [7, 1]</text>\n<text text-anchor=\"middle\" x=\"3114\" y=\"-706.8\" font-family=\"Helvetica,sans-Serif\" font-size=\"14.00\">class = Died</text>\n</g>\n<!-- 202&#45;&gt;203 -->\n<g id=\"edge203\" class=\"edge\">\n<title>202-&gt;203</title>\n<path fill=\"none\" stroke=\"black\" d=\"M3233.15,-821.16C3217.3,-810.57 3199.86,-798.9 3183.32,-787.85\"/>\n<polygon fill=\"black\" stroke=\"black\" points=\"3185.03,-784.78 3174.77,-782.13 3181.14,-790.6 3185.03,-784.78\"/>\n</g>\n<!-- 208 -->\n<g id=\"node209\" class=\"node\">\n<title>208</title>\n<polygon fill=\"#9ccef2\" stroke=\"black\" points=\"3347,-782 3231,-782 3231,-699 3347,-699 3347,-782\"/>\n<text text-anchor=\"middle\" x=\"3289\" y=\"-766.8\" font-family=\"Helvetica,sans-Serif\" font-size=\"14.00\">Age &lt;= 36.5</text>\n<text text-anchor=\"middle\" x=\"3289\" y=\"-751.8\" font-family=\"Helvetica,sans-Serif\" font-size=\"14.00\">entropy = 0.918</text>\n<text text-anchor=\"middle\" x=\"3289\" y=\"-736.8\" font-family=\"Helvetica,sans-Serif\" font-size=\"14.00\">samples = 3</text>\n<text text-anchor=\"middle\" x=\"3289\" y=\"-721.8\" font-family=\"Helvetica,sans-Serif\" font-size=\"14.00\">value = [1, 2]</text>\n<text text-anchor=\"middle\" x=\"3289\" y=\"-706.8\" font-family=\"Helvetica,sans-Serif\" font-size=\"14.00\">class = Survived</text>\n</g>\n<!-- 202&#45;&gt;208 -->\n<g id=\"edge208\" class=\"edge\">\n<title>202-&gt;208</title>\n<path fill=\"none\" stroke=\"black\" d=\"M3289,-817.91C3289,-809.65 3289,-800.86 3289,-792.3\"/>\n<polygon fill=\"black\" stroke=\"black\" points=\"3292.5,-792.02 3289,-782.02 3285.5,-792.02 3292.5,-792.02\"/>\n</g>\n<!-- 204 -->\n<g id=\"node205\" class=\"node\">\n<title>204</title>\n<polygon fill=\"#ffffff\" stroke=\"black\" points=\"3048,-663 2952,-663 2952,-580 3048,-580 3048,-663\"/>\n<text text-anchor=\"middle\" x=\"3000\" y=\"-647.8\" font-family=\"Helvetica,sans-Serif\" font-size=\"14.00\">Age &lt;= 34.0</text>\n<text text-anchor=\"middle\" x=\"3000\" y=\"-632.8\" font-family=\"Helvetica,sans-Serif\" font-size=\"14.00\">entropy = 1.0</text>\n<text text-anchor=\"middle\" x=\"3000\" y=\"-617.8\" font-family=\"Helvetica,sans-Serif\" font-size=\"14.00\">samples = 2</text>\n<text text-anchor=\"middle\" x=\"3000\" y=\"-602.8\" font-family=\"Helvetica,sans-Serif\" font-size=\"14.00\">value = [1, 1]</text>\n<text text-anchor=\"middle\" x=\"3000\" y=\"-587.8\" font-family=\"Helvetica,sans-Serif\" font-size=\"14.00\">class = Died</text>\n</g>\n<!-- 203&#45;&gt;204 -->\n<g id=\"edge204\" class=\"edge\">\n<title>203-&gt;204</title>\n<path fill=\"none\" stroke=\"black\" d=\"M3074.45,-698.91C3065.43,-689.65 3055.76,-679.73 3046.49,-670.21\"/>\n<polygon fill=\"black\" stroke=\"black\" points=\"3048.97,-667.74 3039.48,-663.02 3043.95,-672.63 3048.97,-667.74\"/>\n</g>\n<!-- 207 -->\n<g id=\"node208\" class=\"node\">\n<title>207</title>\n<polygon fill=\"#e58139\" stroke=\"black\" points=\"3162,-655.5 3066,-655.5 3066,-587.5 3162,-587.5 3162,-655.5\"/>\n<text text-anchor=\"middle\" x=\"3114\" y=\"-640.3\" font-family=\"Helvetica,sans-Serif\" font-size=\"14.00\">entropy = 0.0</text>\n<text text-anchor=\"middle\" x=\"3114\" y=\"-625.3\" font-family=\"Helvetica,sans-Serif\" font-size=\"14.00\">samples = 6</text>\n<text text-anchor=\"middle\" x=\"3114\" y=\"-610.3\" font-family=\"Helvetica,sans-Serif\" font-size=\"14.00\">value = [6, 0]</text>\n<text text-anchor=\"middle\" x=\"3114\" y=\"-595.3\" font-family=\"Helvetica,sans-Serif\" font-size=\"14.00\">class = Died</text>\n</g>\n<!-- 203&#45;&gt;207 -->\n<g id=\"edge207\" class=\"edge\">\n<title>203-&gt;207</title>\n<path fill=\"none\" stroke=\"black\" d=\"M3114,-698.91C3114,-688.2 3114,-676.62 3114,-665.78\"/>\n<polygon fill=\"black\" stroke=\"black\" points=\"3117.5,-665.67 3114,-655.67 3110.5,-665.67 3117.5,-665.67\"/>\n</g>\n<!-- 205 -->\n<g id=\"node206\" class=\"node\">\n<title>205</title>\n<polygon fill=\"#e58139\" stroke=\"black\" points=\"2995,-536.5 2899,-536.5 2899,-468.5 2995,-468.5 2995,-536.5\"/>\n<text text-anchor=\"middle\" x=\"2947\" y=\"-521.3\" font-family=\"Helvetica,sans-Serif\" font-size=\"14.00\">entropy = 0.0</text>\n<text text-anchor=\"middle\" x=\"2947\" y=\"-506.3\" font-family=\"Helvetica,sans-Serif\" font-size=\"14.00\">samples = 1</text>\n<text text-anchor=\"middle\" x=\"2947\" y=\"-491.3\" font-family=\"Helvetica,sans-Serif\" font-size=\"14.00\">value = [1, 0]</text>\n<text text-anchor=\"middle\" x=\"2947\" y=\"-476.3\" font-family=\"Helvetica,sans-Serif\" font-size=\"14.00\">class = Died</text>\n</g>\n<!-- 204&#45;&gt;205 -->\n<g id=\"edge205\" class=\"edge\">\n<title>204-&gt;205</title>\n<path fill=\"none\" stroke=\"black\" d=\"M2981.61,-579.91C2976.66,-568.98 2971.3,-557.14 2966.3,-546.11\"/>\n<polygon fill=\"black\" stroke=\"black\" points=\"2969.34,-544.33 2962.02,-536.67 2962.96,-547.22 2969.34,-544.33\"/>\n</g>\n<!-- 206 -->\n<g id=\"node207\" class=\"node\">\n<title>206</title>\n<polygon fill=\"#399de5\" stroke=\"black\" points=\"3129,-536.5 3013,-536.5 3013,-468.5 3129,-468.5 3129,-536.5\"/>\n<text text-anchor=\"middle\" x=\"3071\" y=\"-521.3\" font-family=\"Helvetica,sans-Serif\" font-size=\"14.00\">entropy = 0.0</text>\n<text text-anchor=\"middle\" x=\"3071\" y=\"-506.3\" font-family=\"Helvetica,sans-Serif\" font-size=\"14.00\">samples = 1</text>\n<text text-anchor=\"middle\" x=\"3071\" y=\"-491.3\" font-family=\"Helvetica,sans-Serif\" font-size=\"14.00\">value = [0, 1]</text>\n<text text-anchor=\"middle\" x=\"3071\" y=\"-476.3\" font-family=\"Helvetica,sans-Serif\" font-size=\"14.00\">class = Survived</text>\n</g>\n<!-- 204&#45;&gt;206 -->\n<g id=\"edge206\" class=\"edge\">\n<title>204-&gt;206</title>\n<path fill=\"none\" stroke=\"black\" d=\"M3024.63,-579.91C3031.4,-568.76 3038.74,-556.66 3045.55,-545.44\"/>\n<polygon fill=\"black\" stroke=\"black\" points=\"3048.68,-547.03 3050.87,-536.67 3042.69,-543.4 3048.68,-547.03\"/>\n</g>\n<!-- 209 -->\n<g id=\"node210\" class=\"node\">\n<title>209</title>\n<polygon fill=\"#399de5\" stroke=\"black\" points=\"3296,-655.5 3180,-655.5 3180,-587.5 3296,-587.5 3296,-655.5\"/>\n<text text-anchor=\"middle\" x=\"3238\" y=\"-640.3\" font-family=\"Helvetica,sans-Serif\" font-size=\"14.00\">entropy = 0.0</text>\n<text text-anchor=\"middle\" x=\"3238\" y=\"-625.3\" font-family=\"Helvetica,sans-Serif\" font-size=\"14.00\">samples = 2</text>\n<text text-anchor=\"middle\" x=\"3238\" y=\"-610.3\" font-family=\"Helvetica,sans-Serif\" font-size=\"14.00\">value = [0, 2]</text>\n<text text-anchor=\"middle\" x=\"3238\" y=\"-595.3\" font-family=\"Helvetica,sans-Serif\" font-size=\"14.00\">class = Survived</text>\n</g>\n<!-- 208&#45;&gt;209 -->\n<g id=\"edge209\" class=\"edge\">\n<title>208-&gt;209</title>\n<path fill=\"none\" stroke=\"black\" d=\"M3271.31,-698.91C3266.54,-687.98 3261.38,-676.14 3256.57,-665.11\"/>\n<polygon fill=\"black\" stroke=\"black\" points=\"3259.66,-663.44 3252.46,-655.67 3253.24,-666.23 3259.66,-663.44\"/>\n</g>\n<!-- 210 -->\n<g id=\"node211\" class=\"node\">\n<title>210</title>\n<polygon fill=\"#e58139\" stroke=\"black\" points=\"3410,-655.5 3314,-655.5 3314,-587.5 3410,-587.5 3410,-655.5\"/>\n<text text-anchor=\"middle\" x=\"3362\" y=\"-640.3\" font-family=\"Helvetica,sans-Serif\" font-size=\"14.00\">entropy = 0.0</text>\n<text text-anchor=\"middle\" x=\"3362\" y=\"-625.3\" font-family=\"Helvetica,sans-Serif\" font-size=\"14.00\">samples = 1</text>\n<text text-anchor=\"middle\" x=\"3362\" y=\"-610.3\" font-family=\"Helvetica,sans-Serif\" font-size=\"14.00\">value = [1, 0]</text>\n<text text-anchor=\"middle\" x=\"3362\" y=\"-595.3\" font-family=\"Helvetica,sans-Serif\" font-size=\"14.00\">class = Died</text>\n</g>\n<!-- 208&#45;&gt;210 -->\n<g id=\"edge210\" class=\"edge\">\n<title>208-&gt;210</title>\n<path fill=\"none\" stroke=\"black\" d=\"M3314.33,-698.91C3321.28,-687.76 3328.83,-675.66 3335.83,-664.44\"/>\n<polygon fill=\"black\" stroke=\"black\" points=\"3338.98,-666 3341.31,-655.67 3333.04,-662.3 3338.98,-666\"/>\n</g>\n<!-- 214 -->\n<g id=\"node215\" class=\"node\">\n<title>214</title>\n<polygon fill=\"#93caf1\" stroke=\"black\" points=\"3753,-1020 3637,-1020 3637,-937 3753,-937 3753,-1020\"/>\n<text text-anchor=\"middle\" x=\"3695\" y=\"-1004.8\" font-family=\"Helvetica,sans-Serif\" font-size=\"14.00\">Age &lt;= 22.0</text>\n<text text-anchor=\"middle\" x=\"3695\" y=\"-989.8\" font-family=\"Helvetica,sans-Serif\" font-size=\"14.00\">entropy = 0.896</text>\n<text text-anchor=\"middle\" x=\"3695\" y=\"-974.8\" font-family=\"Helvetica,sans-Serif\" font-size=\"14.00\">samples = 16</text>\n<text text-anchor=\"middle\" x=\"3695\" y=\"-959.8\" font-family=\"Helvetica,sans-Serif\" font-size=\"14.00\">value = [5, 11]</text>\n<text text-anchor=\"middle\" x=\"3695\" y=\"-944.8\" font-family=\"Helvetica,sans-Serif\" font-size=\"14.00\">class = Survived</text>\n</g>\n<!-- 213&#45;&gt;214 -->\n<g id=\"edge214\" class=\"edge\">\n<title>213-&gt;214</title>\n<path fill=\"none\" stroke=\"black\" d=\"M3695,-1055.91C3695,-1047.65 3695,-1038.86 3695,-1030.3\"/>\n<polygon fill=\"black\" stroke=\"black\" points=\"3698.5,-1030.02 3695,-1020.02 3691.5,-1030.02 3698.5,-1030.02\"/>\n</g>\n<!-- 227 -->\n<g id=\"node228\" class=\"node\">\n<title>227</title>\n<polygon fill=\"#f0b890\" stroke=\"black\" points=\"3888.5,-1020 3771.5,-1020 3771.5,-937 3888.5,-937 3888.5,-1020\"/>\n<text text-anchor=\"middle\" x=\"3830\" y=\"-1004.8\" font-family=\"Helvetica,sans-Serif\" font-size=\"14.00\">Fare &lt;= 379.925</text>\n<text text-anchor=\"middle\" x=\"3830\" y=\"-989.8\" font-family=\"Helvetica,sans-Serif\" font-size=\"14.00\">entropy = 0.888</text>\n<text text-anchor=\"middle\" x=\"3830\" y=\"-974.8\" font-family=\"Helvetica,sans-Serif\" font-size=\"14.00\">samples = 36</text>\n<text text-anchor=\"middle\" x=\"3830\" y=\"-959.8\" font-family=\"Helvetica,sans-Serif\" font-size=\"14.00\">value = [25, 11]</text>\n<text text-anchor=\"middle\" x=\"3830\" y=\"-944.8\" font-family=\"Helvetica,sans-Serif\" font-size=\"14.00\">class = Died</text>\n</g>\n<!-- 213&#45;&gt;227 -->\n<g id=\"edge227\" class=\"edge\">\n<title>213-&gt;227</title>\n<path fill=\"none\" stroke=\"black\" d=\"M3741.84,-1055.91C3752.73,-1046.47 3764.41,-1036.34 3775.6,-1026.65\"/>\n<polygon fill=\"black\" stroke=\"black\" points=\"3777.98,-1029.22 3783.25,-1020.02 3773.4,-1023.93 3777.98,-1029.22\"/>\n</g>\n<!-- 215 -->\n<g id=\"node216\" class=\"node\">\n<title>215</title>\n<polygon fill=\"#e58139\" stroke=\"black\" points=\"3619,-893.5 3523,-893.5 3523,-825.5 3619,-825.5 3619,-893.5\"/>\n<text text-anchor=\"middle\" x=\"3571\" y=\"-878.3\" font-family=\"Helvetica,sans-Serif\" font-size=\"14.00\">entropy = 0.0</text>\n<text text-anchor=\"middle\" x=\"3571\" y=\"-863.3\" font-family=\"Helvetica,sans-Serif\" font-size=\"14.00\">samples = 1</text>\n<text text-anchor=\"middle\" x=\"3571\" y=\"-848.3\" font-family=\"Helvetica,sans-Serif\" font-size=\"14.00\">value = [1, 0]</text>\n<text text-anchor=\"middle\" x=\"3571\" y=\"-833.3\" font-family=\"Helvetica,sans-Serif\" font-size=\"14.00\">class = Died</text>\n</g>\n<!-- 214&#45;&gt;215 -->\n<g id=\"edge215\" class=\"edge\">\n<title>214-&gt;215</title>\n<path fill=\"none\" stroke=\"black\" d=\"M3651.98,-936.91C3639.58,-925.21 3626.07,-912.46 3613.69,-900.78\"/>\n<polygon fill=\"black\" stroke=\"black\" points=\"3615.83,-897.98 3606.15,-893.67 3611.02,-903.08 3615.83,-897.98\"/>\n</g>\n<!-- 216 -->\n<g id=\"node217\" class=\"node\">\n<title>216</title>\n<polygon fill=\"#81c1ee\" stroke=\"black\" points=\"3753,-901 3637,-901 3637,-818 3753,-818 3753,-901\"/>\n<text text-anchor=\"middle\" x=\"3695\" y=\"-885.8\" font-family=\"Helvetica,sans-Serif\" font-size=\"14.00\">Age &lt;= 49.5</text>\n<text text-anchor=\"middle\" x=\"3695\" y=\"-870.8\" font-family=\"Helvetica,sans-Serif\" font-size=\"14.00\">entropy = 0.837</text>\n<text text-anchor=\"middle\" x=\"3695\" y=\"-855.8\" font-family=\"Helvetica,sans-Serif\" font-size=\"14.00\">samples = 15</text>\n<text text-anchor=\"middle\" x=\"3695\" y=\"-840.8\" font-family=\"Helvetica,sans-Serif\" font-size=\"14.00\">value = [4, 11]</text>\n<text text-anchor=\"middle\" x=\"3695\" y=\"-825.8\" font-family=\"Helvetica,sans-Serif\" font-size=\"14.00\">class = Survived</text>\n</g>\n<!-- 214&#45;&gt;216 -->\n<g id=\"edge216\" class=\"edge\">\n<title>214-&gt;216</title>\n<path fill=\"none\" stroke=\"black\" d=\"M3695,-936.91C3695,-928.65 3695,-919.86 3695,-911.3\"/>\n<polygon fill=\"black\" stroke=\"black\" points=\"3698.5,-911.02 3695,-901.02 3691.5,-911.02 3698.5,-911.02\"/>\n</g>\n<!-- 217 -->\n<g id=\"node218\" class=\"node\">\n<title>217</title>\n<polygon fill=\"#6fb8ec\" stroke=\"black\" points=\"3636,-782 3520,-782 3520,-699 3636,-699 3636,-782\"/>\n<text text-anchor=\"middle\" x=\"3578\" y=\"-766.8\" font-family=\"Helvetica,sans-Serif\" font-size=\"14.00\">Age &lt;= 27.5</text>\n<text text-anchor=\"middle\" x=\"3578\" y=\"-751.8\" font-family=\"Helvetica,sans-Serif\" font-size=\"14.00\">entropy = 0.75</text>\n<text text-anchor=\"middle\" x=\"3578\" y=\"-736.8\" font-family=\"Helvetica,sans-Serif\" font-size=\"14.00\">samples = 14</text>\n<text text-anchor=\"middle\" x=\"3578\" y=\"-721.8\" font-family=\"Helvetica,sans-Serif\" font-size=\"14.00\">value = [3, 11]</text>\n<text text-anchor=\"middle\" x=\"3578\" y=\"-706.8\" font-family=\"Helvetica,sans-Serif\" font-size=\"14.00\">class = Survived</text>\n</g>\n<!-- 216&#45;&gt;217 -->\n<g id=\"edge217\" class=\"edge\">\n<title>216-&gt;217</title>\n<path fill=\"none\" stroke=\"black\" d=\"M3654.41,-817.91C3645.15,-808.65 3635.23,-798.73 3625.71,-789.21\"/>\n<polygon fill=\"black\" stroke=\"black\" points=\"3628.07,-786.62 3618.52,-782.02 3623.12,-791.57 3628.07,-786.62\"/>\n</g>\n<!-- 226 -->\n<g id=\"node227\" class=\"node\">\n<title>226</title>\n<polygon fill=\"#e58139\" stroke=\"black\" points=\"3750,-774.5 3654,-774.5 3654,-706.5 3750,-706.5 3750,-774.5\"/>\n<text text-anchor=\"middle\" x=\"3702\" y=\"-759.3\" font-family=\"Helvetica,sans-Serif\" font-size=\"14.00\">entropy = 0.0</text>\n<text text-anchor=\"middle\" x=\"3702\" y=\"-744.3\" font-family=\"Helvetica,sans-Serif\" font-size=\"14.00\">samples = 1</text>\n<text text-anchor=\"middle\" x=\"3702\" y=\"-729.3\" font-family=\"Helvetica,sans-Serif\" font-size=\"14.00\">value = [1, 0]</text>\n<text text-anchor=\"middle\" x=\"3702\" y=\"-714.3\" font-family=\"Helvetica,sans-Serif\" font-size=\"14.00\">class = Died</text>\n</g>\n<!-- 216&#45;&gt;226 -->\n<g id=\"edge226\" class=\"edge\">\n<title>216-&gt;226</title>\n<path fill=\"none\" stroke=\"black\" d=\"M3697.43,-817.91C3698.07,-807.2 3698.76,-795.62 3699.41,-784.78\"/>\n<polygon fill=\"black\" stroke=\"black\" points=\"3702.91,-784.86 3700.02,-774.67 3695.92,-784.44 3702.91,-784.86\"/>\n</g>\n<!-- 218 -->\n<g id=\"node219\" class=\"node\">\n<title>218</title>\n<polygon fill=\"#399de5\" stroke=\"black\" points=\"3544,-655.5 3428,-655.5 3428,-587.5 3544,-587.5 3544,-655.5\"/>\n<text text-anchor=\"middle\" x=\"3486\" y=\"-640.3\" font-family=\"Helvetica,sans-Serif\" font-size=\"14.00\">entropy = 0.0</text>\n<text text-anchor=\"middle\" x=\"3486\" y=\"-625.3\" font-family=\"Helvetica,sans-Serif\" font-size=\"14.00\">samples = 3</text>\n<text text-anchor=\"middle\" x=\"3486\" y=\"-610.3\" font-family=\"Helvetica,sans-Serif\" font-size=\"14.00\">value = [0, 3]</text>\n<text text-anchor=\"middle\" x=\"3486\" y=\"-595.3\" font-family=\"Helvetica,sans-Serif\" font-size=\"14.00\">class = Survived</text>\n</g>\n<!-- 217&#45;&gt;218 -->\n<g id=\"edge218\" class=\"edge\">\n<title>217-&gt;218</title>\n<path fill=\"none\" stroke=\"black\" d=\"M3546.08,-698.91C3537.14,-687.54 3527.42,-675.18 3518.45,-663.77\"/>\n<polygon fill=\"black\" stroke=\"black\" points=\"3521.01,-661.36 3512.08,-655.67 3515.51,-665.69 3521.01,-661.36\"/>\n</g>\n<!-- 219 -->\n<g id=\"node220\" class=\"node\">\n<title>219</title>\n<polygon fill=\"#83c2ef\" stroke=\"black\" points=\"3678,-663 3562,-663 3562,-580 3678,-580 3678,-663\"/>\n<text text-anchor=\"middle\" x=\"3620\" y=\"-647.8\" font-family=\"Helvetica,sans-Serif\" font-size=\"14.00\">Age &lt;= 29.5</text>\n<text text-anchor=\"middle\" x=\"3620\" y=\"-632.8\" font-family=\"Helvetica,sans-Serif\" font-size=\"14.00\">entropy = 0.845</text>\n<text text-anchor=\"middle\" x=\"3620\" y=\"-617.8\" font-family=\"Helvetica,sans-Serif\" font-size=\"14.00\">samples = 11</text>\n<text text-anchor=\"middle\" x=\"3620\" y=\"-602.8\" font-family=\"Helvetica,sans-Serif\" font-size=\"14.00\">value = [3, 8]</text>\n<text text-anchor=\"middle\" x=\"3620\" y=\"-587.8\" font-family=\"Helvetica,sans-Serif\" font-size=\"14.00\">class = Survived</text>\n</g>\n<!-- 217&#45;&gt;219 -->\n<g id=\"edge219\" class=\"edge\">\n<title>217-&gt;219</title>\n<path fill=\"none\" stroke=\"black\" d=\"M3592.57,-698.91C3595.63,-690.38 3598.9,-681.28 3602.07,-672.46\"/>\n<polygon fill=\"black\" stroke=\"black\" points=\"3605.37,-673.62 3605.45,-663.02 3598.78,-671.25 3605.37,-673.62\"/>\n</g>\n<!-- 220 -->\n<g id=\"node221\" class=\"node\">\n<title>220</title>\n<polygon fill=\"#ffffff\" stroke=\"black\" points=\"3544,-536.5 3448,-536.5 3448,-468.5 3544,-468.5 3544,-536.5\"/>\n<text text-anchor=\"middle\" x=\"3496\" y=\"-521.3\" font-family=\"Helvetica,sans-Serif\" font-size=\"14.00\">entropy = 1.0</text>\n<text text-anchor=\"middle\" x=\"3496\" y=\"-506.3\" font-family=\"Helvetica,sans-Serif\" font-size=\"14.00\">samples = 4</text>\n<text text-anchor=\"middle\" x=\"3496\" y=\"-491.3\" font-family=\"Helvetica,sans-Serif\" font-size=\"14.00\">value = [2, 2]</text>\n<text text-anchor=\"middle\" x=\"3496\" y=\"-476.3\" font-family=\"Helvetica,sans-Serif\" font-size=\"14.00\">class = Died</text>\n</g>\n<!-- 219&#45;&gt;220 -->\n<g id=\"edge220\" class=\"edge\">\n<title>219-&gt;220</title>\n<path fill=\"none\" stroke=\"black\" d=\"M3576.98,-579.91C3564.58,-568.21 3551.07,-555.46 3538.69,-543.78\"/>\n<polygon fill=\"black\" stroke=\"black\" points=\"3540.83,-540.98 3531.15,-536.67 3536.02,-546.08 3540.83,-540.98\"/>\n</g>\n<!-- 221 -->\n<g id=\"node222\" class=\"node\">\n<title>221</title>\n<polygon fill=\"#5aade9\" stroke=\"black\" points=\"3678,-544 3562,-544 3562,-461 3678,-461 3678,-544\"/>\n<text text-anchor=\"middle\" x=\"3620\" y=\"-528.8\" font-family=\"Helvetica,sans-Serif\" font-size=\"14.00\">Fare &lt;= 54.798</text>\n<text text-anchor=\"middle\" x=\"3620\" y=\"-513.8\" font-family=\"Helvetica,sans-Serif\" font-size=\"14.00\">entropy = 0.592</text>\n<text text-anchor=\"middle\" x=\"3620\" y=\"-498.8\" font-family=\"Helvetica,sans-Serif\" font-size=\"14.00\">samples = 7</text>\n<text text-anchor=\"middle\" x=\"3620\" y=\"-483.8\" font-family=\"Helvetica,sans-Serif\" font-size=\"14.00\">value = [1, 6]</text>\n<text text-anchor=\"middle\" x=\"3620\" y=\"-468.8\" font-family=\"Helvetica,sans-Serif\" font-size=\"14.00\">class = Survived</text>\n</g>\n<!-- 219&#45;&gt;221 -->\n<g id=\"edge221\" class=\"edge\">\n<title>219-&gt;221</title>\n<path fill=\"none\" stroke=\"black\" d=\"M3620,-579.91C3620,-571.65 3620,-562.86 3620,-554.3\"/>\n<polygon fill=\"black\" stroke=\"black\" points=\"3623.5,-554.02 3620,-544.02 3616.5,-554.02 3623.5,-554.02\"/>\n</g>\n<!-- 222 -->\n<g id=\"node223\" class=\"node\">\n<title>222</title>\n<polygon fill=\"#9ccef2\" stroke=\"black\" points=\"3544,-425 3428,-425 3428,-342 3544,-342 3544,-425\"/>\n<text text-anchor=\"middle\" x=\"3486\" y=\"-409.8\" font-family=\"Helvetica,sans-Serif\" font-size=\"14.00\">Fare &lt;= 52.827</text>\n<text text-anchor=\"middle\" x=\"3486\" y=\"-394.8\" font-family=\"Helvetica,sans-Serif\" font-size=\"14.00\">entropy = 0.918</text>\n<text text-anchor=\"middle\" x=\"3486\" y=\"-379.8\" font-family=\"Helvetica,sans-Serif\" font-size=\"14.00\">samples = 3</text>\n<text text-anchor=\"middle\" x=\"3486\" y=\"-364.8\" font-family=\"Helvetica,sans-Serif\" font-size=\"14.00\">value = [1, 2]</text>\n<text text-anchor=\"middle\" x=\"3486\" y=\"-349.8\" font-family=\"Helvetica,sans-Serif\" font-size=\"14.00\">class = Survived</text>\n</g>\n<!-- 221&#45;&gt;222 -->\n<g id=\"edge222\" class=\"edge\">\n<title>221-&gt;222</title>\n<path fill=\"none\" stroke=\"black\" d=\"M3573.51,-460.91C3562.7,-451.47 3551.1,-441.34 3540,-431.65\"/>\n<polygon fill=\"black\" stroke=\"black\" points=\"3542.24,-428.96 3532.41,-425.02 3537.64,-434.23 3542.24,-428.96\"/>\n</g>\n<!-- 225 -->\n<g id=\"node226\" class=\"node\">\n<title>225</title>\n<polygon fill=\"#399de5\" stroke=\"black\" points=\"3678,-417.5 3562,-417.5 3562,-349.5 3678,-349.5 3678,-417.5\"/>\n<text text-anchor=\"middle\" x=\"3620\" y=\"-402.3\" font-family=\"Helvetica,sans-Serif\" font-size=\"14.00\">entropy = 0.0</text>\n<text text-anchor=\"middle\" x=\"3620\" y=\"-387.3\" font-family=\"Helvetica,sans-Serif\" font-size=\"14.00\">samples = 4</text>\n<text text-anchor=\"middle\" x=\"3620\" y=\"-372.3\" font-family=\"Helvetica,sans-Serif\" font-size=\"14.00\">value = [0, 4]</text>\n<text text-anchor=\"middle\" x=\"3620\" y=\"-357.3\" font-family=\"Helvetica,sans-Serif\" font-size=\"14.00\">class = Survived</text>\n</g>\n<!-- 221&#45;&gt;225 -->\n<g id=\"edge225\" class=\"edge\">\n<title>221-&gt;225</title>\n<path fill=\"none\" stroke=\"black\" d=\"M3620,-460.91C3620,-450.2 3620,-438.62 3620,-427.78\"/>\n<polygon fill=\"black\" stroke=\"black\" points=\"3623.5,-427.67 3620,-417.67 3616.5,-427.67 3623.5,-427.67\"/>\n</g>\n<!-- 223 -->\n<g id=\"node224\" class=\"node\">\n<title>223</title>\n<polygon fill=\"#399de5\" stroke=\"black\" points=\"3482,-298.5 3366,-298.5 3366,-230.5 3482,-230.5 3482,-298.5\"/>\n<text text-anchor=\"middle\" x=\"3424\" y=\"-283.3\" font-family=\"Helvetica,sans-Serif\" font-size=\"14.00\">entropy = 0.0</text>\n<text text-anchor=\"middle\" x=\"3424\" y=\"-268.3\" font-family=\"Helvetica,sans-Serif\" font-size=\"14.00\">samples = 2</text>\n<text text-anchor=\"middle\" x=\"3424\" y=\"-253.3\" font-family=\"Helvetica,sans-Serif\" font-size=\"14.00\">value = [0, 2]</text>\n<text text-anchor=\"middle\" x=\"3424\" y=\"-238.3\" font-family=\"Helvetica,sans-Serif\" font-size=\"14.00\">class = Survived</text>\n</g>\n<!-- 222&#45;&gt;223 -->\n<g id=\"edge223\" class=\"edge\">\n<title>222-&gt;223</title>\n<path fill=\"none\" stroke=\"black\" d=\"M3464.49,-341.91C3458.64,-330.87 3452.3,-318.9 3446.4,-307.77\"/>\n<polygon fill=\"black\" stroke=\"black\" points=\"3449.35,-305.86 3441.58,-298.67 3443.17,-309.14 3449.35,-305.86\"/>\n</g>\n<!-- 224 -->\n<g id=\"node225\" class=\"node\">\n<title>224</title>\n<polygon fill=\"#e58139\" stroke=\"black\" points=\"3596,-298.5 3500,-298.5 3500,-230.5 3596,-230.5 3596,-298.5\"/>\n<text text-anchor=\"middle\" x=\"3548\" y=\"-283.3\" font-family=\"Helvetica,sans-Serif\" font-size=\"14.00\">entropy = 0.0</text>\n<text text-anchor=\"middle\" x=\"3548\" y=\"-268.3\" font-family=\"Helvetica,sans-Serif\" font-size=\"14.00\">samples = 1</text>\n<text text-anchor=\"middle\" x=\"3548\" y=\"-253.3\" font-family=\"Helvetica,sans-Serif\" font-size=\"14.00\">value = [1, 0]</text>\n<text text-anchor=\"middle\" x=\"3548\" y=\"-238.3\" font-family=\"Helvetica,sans-Serif\" font-size=\"14.00\">class = Died</text>\n</g>\n<!-- 222&#45;&gt;224 -->\n<g id=\"edge224\" class=\"edge\">\n<title>222-&gt;224</title>\n<path fill=\"none\" stroke=\"black\" d=\"M3507.51,-341.91C3513.36,-330.87 3519.7,-318.9 3525.6,-307.77\"/>\n<polygon fill=\"black\" stroke=\"black\" points=\"3528.83,-309.14 3530.42,-298.67 3522.65,-305.86 3528.83,-309.14\"/>\n</g>\n<!-- 228 -->\n<g id=\"node229\" class=\"node\">\n<title>228</title>\n<polygon fill=\"#eeae80\" stroke=\"black\" points=\"3888.5,-901 3771.5,-901 3771.5,-818 3888.5,-818 3888.5,-901\"/>\n<text text-anchor=\"middle\" x=\"3830\" y=\"-885.8\" font-family=\"Helvetica,sans-Serif\" font-size=\"14.00\">Fare &lt;= 134.642</text>\n<text text-anchor=\"middle\" x=\"3830\" y=\"-870.8\" font-family=\"Helvetica,sans-Serif\" font-size=\"14.00\">entropy = 0.834</text>\n<text text-anchor=\"middle\" x=\"3830\" y=\"-855.8\" font-family=\"Helvetica,sans-Serif\" font-size=\"14.00\">samples = 34</text>\n<text text-anchor=\"middle\" x=\"3830\" y=\"-840.8\" font-family=\"Helvetica,sans-Serif\" font-size=\"14.00\">value = [25, 9]</text>\n<text text-anchor=\"middle\" x=\"3830\" y=\"-825.8\" font-family=\"Helvetica,sans-Serif\" font-size=\"14.00\">class = Died</text>\n</g>\n<!-- 227&#45;&gt;228 -->\n<g id=\"edge228\" class=\"edge\">\n<title>227-&gt;228</title>\n<path fill=\"none\" stroke=\"black\" d=\"M3830,-936.91C3830,-928.65 3830,-919.86 3830,-911.3\"/>\n<polygon fill=\"black\" stroke=\"black\" points=\"3833.5,-911.02 3830,-901.02 3826.5,-911.02 3833.5,-911.02\"/>\n</g>\n<!-- 247 -->\n<g id=\"node248\" class=\"node\">\n<title>247</title>\n<polygon fill=\"#399de5\" stroke=\"black\" points=\"4023,-893.5 3907,-893.5 3907,-825.5 4023,-825.5 4023,-893.5\"/>\n<text text-anchor=\"middle\" x=\"3965\" y=\"-878.3\" font-family=\"Helvetica,sans-Serif\" font-size=\"14.00\">entropy = 0.0</text>\n<text text-anchor=\"middle\" x=\"3965\" y=\"-863.3\" font-family=\"Helvetica,sans-Serif\" font-size=\"14.00\">samples = 2</text>\n<text text-anchor=\"middle\" x=\"3965\" y=\"-848.3\" font-family=\"Helvetica,sans-Serif\" font-size=\"14.00\">value = [0, 2]</text>\n<text text-anchor=\"middle\" x=\"3965\" y=\"-833.3\" font-family=\"Helvetica,sans-Serif\" font-size=\"14.00\">class = Survived</text>\n</g>\n<!-- 227&#45;&gt;247 -->\n<g id=\"edge247\" class=\"edge\">\n<title>227-&gt;247</title>\n<path fill=\"none\" stroke=\"black\" d=\"M3876.84,-936.91C3890.46,-925.1 3905.33,-912.22 3918.9,-900.45\"/>\n<polygon fill=\"black\" stroke=\"black\" points=\"3921.47,-902.86 3926.73,-893.67 3916.88,-897.57 3921.47,-902.86\"/>\n</g>\n<!-- 229 -->\n<g id=\"node230\" class=\"node\">\n<title>229</title>\n<polygon fill=\"#f1bd97\" stroke=\"black\" points=\"3885.5,-782 3774.5,-782 3774.5,-699 3885.5,-699 3885.5,-782\"/>\n<text text-anchor=\"middle\" x=\"3830\" y=\"-766.8\" font-family=\"Helvetica,sans-Serif\" font-size=\"14.00\">Fare &lt;= 86.29</text>\n<text text-anchor=\"middle\" x=\"3830\" y=\"-751.8\" font-family=\"Helvetica,sans-Serif\" font-size=\"14.00\">entropy = 0.906</text>\n<text text-anchor=\"middle\" x=\"3830\" y=\"-736.8\" font-family=\"Helvetica,sans-Serif\" font-size=\"14.00\">samples = 28</text>\n<text text-anchor=\"middle\" x=\"3830\" y=\"-721.8\" font-family=\"Helvetica,sans-Serif\" font-size=\"14.00\">value = [19, 9]</text>\n<text text-anchor=\"middle\" x=\"3830\" y=\"-706.8\" font-family=\"Helvetica,sans-Serif\" font-size=\"14.00\">class = Died</text>\n</g>\n<!-- 228&#45;&gt;229 -->\n<g id=\"edge229\" class=\"edge\">\n<title>228-&gt;229</title>\n<path fill=\"none\" stroke=\"black\" d=\"M3830,-817.91C3830,-809.65 3830,-800.86 3830,-792.3\"/>\n<polygon fill=\"black\" stroke=\"black\" points=\"3833.5,-792.02 3830,-782.02 3826.5,-792.02 3833.5,-792.02\"/>\n</g>\n<!-- 246 -->\n<g id=\"node247\" class=\"node\">\n<title>246</title>\n<polygon fill=\"#e58139\" stroke=\"black\" points=\"4000,-774.5 3904,-774.5 3904,-706.5 4000,-706.5 4000,-774.5\"/>\n<text text-anchor=\"middle\" x=\"3952\" y=\"-759.3\" font-family=\"Helvetica,sans-Serif\" font-size=\"14.00\">entropy = 0.0</text>\n<text text-anchor=\"middle\" x=\"3952\" y=\"-744.3\" font-family=\"Helvetica,sans-Serif\" font-size=\"14.00\">samples = 6</text>\n<text text-anchor=\"middle\" x=\"3952\" y=\"-729.3\" font-family=\"Helvetica,sans-Serif\" font-size=\"14.00\">value = [6, 0]</text>\n<text text-anchor=\"middle\" x=\"3952\" y=\"-714.3\" font-family=\"Helvetica,sans-Serif\" font-size=\"14.00\">class = Died</text>\n</g>\n<!-- 228&#45;&gt;246 -->\n<g id=\"edge246\" class=\"edge\">\n<title>228-&gt;246</title>\n<path fill=\"none\" stroke=\"black\" d=\"M3872.33,-817.91C3884.52,-806.21 3897.82,-793.46 3910,-781.78\"/>\n<polygon fill=\"black\" stroke=\"black\" points=\"3912.62,-784.11 3917.42,-774.67 3907.78,-779.06 3912.62,-784.11\"/>\n</g>\n<!-- 230 -->\n<g id=\"node231\" class=\"node\">\n<title>230</title>\n<polygon fill=\"#ea9a61\" stroke=\"black\" points=\"3899.5,-663 3760.5,-663 3760.5,-580 3899.5,-580 3899.5,-663\"/>\n<text text-anchor=\"middle\" x=\"3830\" y=\"-647.8\" font-family=\"Helvetica,sans-Serif\" font-size=\"14.00\">Embarked_C &lt;= 0.5</text>\n<text text-anchor=\"middle\" x=\"3830\" y=\"-632.8\" font-family=\"Helvetica,sans-Serif\" font-size=\"14.00\">entropy = 0.65</text>\n<text text-anchor=\"middle\" x=\"3830\" y=\"-617.8\" font-family=\"Helvetica,sans-Serif\" font-size=\"14.00\">samples = 18</text>\n<text text-anchor=\"middle\" x=\"3830\" y=\"-602.8\" font-family=\"Helvetica,sans-Serif\" font-size=\"14.00\">value = [15, 3]</text>\n<text text-anchor=\"middle\" x=\"3830\" y=\"-587.8\" font-family=\"Helvetica,sans-Serif\" font-size=\"14.00\">class = Died</text>\n</g>\n<!-- 229&#45;&gt;230 -->\n<g id=\"edge230\" class=\"edge\">\n<title>229-&gt;230</title>\n<path fill=\"none\" stroke=\"black\" d=\"M3830,-698.91C3830,-690.65 3830,-681.86 3830,-673.3\"/>\n<polygon fill=\"black\" stroke=\"black\" points=\"3833.5,-673.02 3830,-663.02 3826.5,-673.02 3833.5,-673.02\"/>\n</g>\n<!-- 237 -->\n<g id=\"node238\" class=\"node\">\n<title>237</title>\n<polygon fill=\"#bddef6\" stroke=\"black\" points=\"4071,-663 3933,-663 3933,-580 4071,-580 4071,-663\"/>\n<text text-anchor=\"middle\" x=\"4002\" y=\"-647.8\" font-family=\"Helvetica,sans-Serif\" font-size=\"14.00\">Embarked_S &lt;= 0.5</text>\n<text text-anchor=\"middle\" x=\"4002\" y=\"-632.8\" font-family=\"Helvetica,sans-Serif\" font-size=\"14.00\">entropy = 0.971</text>\n<text text-anchor=\"middle\" x=\"4002\" y=\"-617.8\" font-family=\"Helvetica,sans-Serif\" font-size=\"14.00\">samples = 10</text>\n<text text-anchor=\"middle\" x=\"4002\" y=\"-602.8\" font-family=\"Helvetica,sans-Serif\" font-size=\"14.00\">value = [4, 6]</text>\n<text text-anchor=\"middle\" x=\"4002\" y=\"-587.8\" font-family=\"Helvetica,sans-Serif\" font-size=\"14.00\">class = Survived</text>\n</g>\n<!-- 229&#45;&gt;237 -->\n<g id=\"edge237\" class=\"edge\">\n<title>229-&gt;237</title>\n<path fill=\"none\" stroke=\"black\" d=\"M3885.84,-701.51C3901.07,-691.15 3917.75,-679.81 3933.59,-669.04\"/>\n<polygon fill=\"black\" stroke=\"black\" points=\"3935.99,-671.64 3942.29,-663.12 3932.05,-665.85 3935.99,-671.64\"/>\n</g>\n<!-- 231 -->\n<g id=\"node232\" class=\"node\">\n<title>231</title>\n<polygon fill=\"#e58139\" stroke=\"black\" points=\"3799,-536.5 3697,-536.5 3697,-468.5 3799,-468.5 3799,-536.5\"/>\n<text text-anchor=\"middle\" x=\"3748\" y=\"-521.3\" font-family=\"Helvetica,sans-Serif\" font-size=\"14.00\">entropy = 0.0</text>\n<text text-anchor=\"middle\" x=\"3748\" y=\"-506.3\" font-family=\"Helvetica,sans-Serif\" font-size=\"14.00\">samples = 11</text>\n<text text-anchor=\"middle\" x=\"3748\" y=\"-491.3\" font-family=\"Helvetica,sans-Serif\" font-size=\"14.00\">value = [11, 0]</text>\n<text text-anchor=\"middle\" x=\"3748\" y=\"-476.3\" font-family=\"Helvetica,sans-Serif\" font-size=\"14.00\">class = Died</text>\n</g>\n<!-- 230&#45;&gt;231 -->\n<g id=\"edge231\" class=\"edge\">\n<title>230-&gt;231</title>\n<path fill=\"none\" stroke=\"black\" d=\"M3801.55,-579.91C3793.66,-568.65 3785.09,-556.42 3777.16,-545.11\"/>\n<polygon fill=\"black\" stroke=\"black\" points=\"3779.85,-542.85 3771.25,-536.67 3774.12,-546.86 3779.85,-542.85\"/>\n</g>\n<!-- 232 -->\n<g id=\"node233\" class=\"node\">\n<title>232</title>\n<polygon fill=\"#f8e0ce\" stroke=\"black\" points=\"3928.5,-544 3817.5,-544 3817.5,-461 3928.5,-461 3928.5,-544\"/>\n<text text-anchor=\"middle\" x=\"3873\" y=\"-528.8\" font-family=\"Helvetica,sans-Serif\" font-size=\"14.00\">Fare &lt;= 77.965</text>\n<text text-anchor=\"middle\" x=\"3873\" y=\"-513.8\" font-family=\"Helvetica,sans-Serif\" font-size=\"14.00\">entropy = 0.985</text>\n<text text-anchor=\"middle\" x=\"3873\" y=\"-498.8\" font-family=\"Helvetica,sans-Serif\" font-size=\"14.00\">samples = 7</text>\n<text text-anchor=\"middle\" x=\"3873\" y=\"-483.8\" font-family=\"Helvetica,sans-Serif\" font-size=\"14.00\">value = [4, 3]</text>\n<text text-anchor=\"middle\" x=\"3873\" y=\"-468.8\" font-family=\"Helvetica,sans-Serif\" font-size=\"14.00\">class = Died</text>\n</g>\n<!-- 230&#45;&gt;232 -->\n<g id=\"edge232\" class=\"edge\">\n<title>230-&gt;232</title>\n<path fill=\"none\" stroke=\"black\" d=\"M3844.92,-579.91C3848.05,-571.38 3851.4,-562.28 3854.64,-553.46\"/>\n<polygon fill=\"black\" stroke=\"black\" points=\"3857.94,-554.61 3858.11,-544.02 3851.37,-552.2 3857.94,-554.61\"/>\n</g>\n<!-- 233 -->\n<g id=\"node234\" class=\"node\">\n<title>233</title>\n<polygon fill=\"#7bbeee\" stroke=\"black\" points=\"3812,-425 3696,-425 3696,-342 3812,-342 3812,-425\"/>\n<text text-anchor=\"middle\" x=\"3754\" y=\"-409.8\" font-family=\"Helvetica,sans-Serif\" font-size=\"14.00\">Age &lt;= 49.5</text>\n<text text-anchor=\"middle\" x=\"3754\" y=\"-394.8\" font-family=\"Helvetica,sans-Serif\" font-size=\"14.00\">entropy = 0.811</text>\n<text text-anchor=\"middle\" x=\"3754\" y=\"-379.8\" font-family=\"Helvetica,sans-Serif\" font-size=\"14.00\">samples = 4</text>\n<text text-anchor=\"middle\" x=\"3754\" y=\"-364.8\" font-family=\"Helvetica,sans-Serif\" font-size=\"14.00\">value = [1, 3]</text>\n<text text-anchor=\"middle\" x=\"3754\" y=\"-349.8\" font-family=\"Helvetica,sans-Serif\" font-size=\"14.00\">class = Survived</text>\n</g>\n<!-- 232&#45;&gt;233 -->\n<g id=\"edge233\" class=\"edge\">\n<title>232-&gt;233</title>\n<path fill=\"none\" stroke=\"black\" d=\"M3831.71,-460.91C3822.3,-451.65 3812.21,-441.73 3802.52,-432.21\"/>\n<polygon fill=\"black\" stroke=\"black\" points=\"3804.8,-429.54 3795.21,-425.02 3799.89,-434.53 3804.8,-429.54\"/>\n</g>\n<!-- 236 -->\n<g id=\"node237\" class=\"node\">\n<title>236</title>\n<polygon fill=\"#e58139\" stroke=\"black\" points=\"3926,-417.5 3830,-417.5 3830,-349.5 3926,-349.5 3926,-417.5\"/>\n<text text-anchor=\"middle\" x=\"3878\" y=\"-402.3\" font-family=\"Helvetica,sans-Serif\" font-size=\"14.00\">entropy = 0.0</text>\n<text text-anchor=\"middle\" x=\"3878\" y=\"-387.3\" font-family=\"Helvetica,sans-Serif\" font-size=\"14.00\">samples = 3</text>\n<text text-anchor=\"middle\" x=\"3878\" y=\"-372.3\" font-family=\"Helvetica,sans-Serif\" font-size=\"14.00\">value = [3, 0]</text>\n<text text-anchor=\"middle\" x=\"3878\" y=\"-357.3\" font-family=\"Helvetica,sans-Serif\" font-size=\"14.00\">class = Died</text>\n</g>\n<!-- 232&#45;&gt;236 -->\n<g id=\"edge236\" class=\"edge\">\n<title>232-&gt;236</title>\n<path fill=\"none\" stroke=\"black\" d=\"M3874.73,-460.91C3875.19,-450.2 3875.69,-438.62 3876.15,-427.78\"/>\n<polygon fill=\"black\" stroke=\"black\" points=\"3879.65,-427.81 3876.58,-417.67 3872.66,-427.51 3879.65,-427.81\"/>\n</g>\n<!-- 234 -->\n<g id=\"node235\" class=\"node\">\n<title>234</title>\n<polygon fill=\"#399de5\" stroke=\"black\" points=\"3771,-298.5 3655,-298.5 3655,-230.5 3771,-230.5 3771,-298.5\"/>\n<text text-anchor=\"middle\" x=\"3713\" y=\"-283.3\" font-family=\"Helvetica,sans-Serif\" font-size=\"14.00\">entropy = 0.0</text>\n<text text-anchor=\"middle\" x=\"3713\" y=\"-268.3\" font-family=\"Helvetica,sans-Serif\" font-size=\"14.00\">samples = 3</text>\n<text text-anchor=\"middle\" x=\"3713\" y=\"-253.3\" font-family=\"Helvetica,sans-Serif\" font-size=\"14.00\">value = [0, 3]</text>\n<text text-anchor=\"middle\" x=\"3713\" y=\"-238.3\" font-family=\"Helvetica,sans-Serif\" font-size=\"14.00\">class = Survived</text>\n</g>\n<!-- 233&#45;&gt;234 -->\n<g id=\"edge234\" class=\"edge\">\n<title>233-&gt;234</title>\n<path fill=\"none\" stroke=\"black\" d=\"M3739.78,-341.91C3735.95,-330.98 3731.8,-319.14 3727.93,-308.11\"/>\n<polygon fill=\"black\" stroke=\"black\" points=\"3731.23,-306.95 3724.62,-298.67 3724.63,-309.26 3731.23,-306.95\"/>\n</g>\n<!-- 235 -->\n<g id=\"node236\" class=\"node\">\n<title>235</title>\n<polygon fill=\"#e58139\" stroke=\"black\" points=\"3885,-298.5 3789,-298.5 3789,-230.5 3885,-230.5 3885,-298.5\"/>\n<text text-anchor=\"middle\" x=\"3837\" y=\"-283.3\" font-family=\"Helvetica,sans-Serif\" font-size=\"14.00\">entropy = 0.0</text>\n<text text-anchor=\"middle\" x=\"3837\" y=\"-268.3\" font-family=\"Helvetica,sans-Serif\" font-size=\"14.00\">samples = 1</text>\n<text text-anchor=\"middle\" x=\"3837\" y=\"-253.3\" font-family=\"Helvetica,sans-Serif\" font-size=\"14.00\">value = [1, 0]</text>\n<text text-anchor=\"middle\" x=\"3837\" y=\"-238.3\" font-family=\"Helvetica,sans-Serif\" font-size=\"14.00\">class = Died</text>\n</g>\n<!-- 233&#45;&gt;235 -->\n<g id=\"edge235\" class=\"edge\">\n<title>233-&gt;235</title>\n<path fill=\"none\" stroke=\"black\" d=\"M3782.8,-341.91C3790.78,-330.65 3799.46,-318.42 3807.48,-307.11\"/>\n<polygon fill=\"black\" stroke=\"black\" points=\"3810.54,-308.85 3813.47,-298.67 3804.83,-304.8 3810.54,-308.85\"/>\n</g>\n<!-- 238 -->\n<g id=\"node239\" class=\"node\">\n<title>238</title>\n<polygon fill=\"#f8e0ce\" stroke=\"black\" points=\"4057.5,-544 3946.5,-544 3946.5,-461 4057.5,-461 4057.5,-544\"/>\n<text text-anchor=\"middle\" x=\"4002\" y=\"-528.8\" font-family=\"Helvetica,sans-Serif\" font-size=\"14.00\">SibSp &lt;= 0.5</text>\n<text text-anchor=\"middle\" x=\"4002\" y=\"-513.8\" font-family=\"Helvetica,sans-Serif\" font-size=\"14.00\">entropy = 0.985</text>\n<text text-anchor=\"middle\" x=\"4002\" y=\"-498.8\" font-family=\"Helvetica,sans-Serif\" font-size=\"14.00\">samples = 7</text>\n<text text-anchor=\"middle\" x=\"4002\" y=\"-483.8\" font-family=\"Helvetica,sans-Serif\" font-size=\"14.00\">value = [4, 3]</text>\n<text text-anchor=\"middle\" x=\"4002\" y=\"-468.8\" font-family=\"Helvetica,sans-Serif\" font-size=\"14.00\">class = Died</text>\n</g>\n<!-- 237&#45;&gt;238 -->\n<g id=\"edge238\" class=\"edge\">\n<title>237-&gt;238</title>\n<path fill=\"none\" stroke=\"black\" d=\"M4002,-579.91C4002,-571.65 4002,-562.86 4002,-554.3\"/>\n<polygon fill=\"black\" stroke=\"black\" points=\"4005.5,-554.02 4002,-544.02 3998.5,-554.02 4005.5,-554.02\"/>\n</g>\n<!-- 245 -->\n<g id=\"node246\" class=\"node\">\n<title>245</title>\n<polygon fill=\"#399de5\" stroke=\"black\" points=\"4192,-536.5 4076,-536.5 4076,-468.5 4192,-468.5 4192,-536.5\"/>\n<text text-anchor=\"middle\" x=\"4134\" y=\"-521.3\" font-family=\"Helvetica,sans-Serif\" font-size=\"14.00\">entropy = 0.0</text>\n<text text-anchor=\"middle\" x=\"4134\" y=\"-506.3\" font-family=\"Helvetica,sans-Serif\" font-size=\"14.00\">samples = 3</text>\n<text text-anchor=\"middle\" x=\"4134\" y=\"-491.3\" font-family=\"Helvetica,sans-Serif\" font-size=\"14.00\">value = [0, 3]</text>\n<text text-anchor=\"middle\" x=\"4134\" y=\"-476.3\" font-family=\"Helvetica,sans-Serif\" font-size=\"14.00\">class = Survived</text>\n</g>\n<!-- 237&#45;&gt;245 -->\n<g id=\"edge245\" class=\"edge\">\n<title>237-&gt;245</title>\n<path fill=\"none\" stroke=\"black\" d=\"M4047.8,-579.91C4061.12,-568.1 4075.65,-555.22 4088.93,-543.45\"/>\n<polygon fill=\"black\" stroke=\"black\" points=\"4091.42,-545.92 4096.58,-536.67 4086.78,-540.68 4091.42,-545.92\"/>\n</g>\n<!-- 239 -->\n<g id=\"node240\" class=\"node\">\n<title>239</title>\n<polygon fill=\"#399de5\" stroke=\"black\" points=\"4060,-417.5 3944,-417.5 3944,-349.5 4060,-349.5 4060,-417.5\"/>\n<text text-anchor=\"middle\" x=\"4002\" y=\"-402.3\" font-family=\"Helvetica,sans-Serif\" font-size=\"14.00\">entropy = 0.0</text>\n<text text-anchor=\"middle\" x=\"4002\" y=\"-387.3\" font-family=\"Helvetica,sans-Serif\" font-size=\"14.00\">samples = 1</text>\n<text text-anchor=\"middle\" x=\"4002\" y=\"-372.3\" font-family=\"Helvetica,sans-Serif\" font-size=\"14.00\">value = [0, 1]</text>\n<text text-anchor=\"middle\" x=\"4002\" y=\"-357.3\" font-family=\"Helvetica,sans-Serif\" font-size=\"14.00\">class = Survived</text>\n</g>\n<!-- 238&#45;&gt;239 -->\n<g id=\"edge239\" class=\"edge\">\n<title>238-&gt;239</title>\n<path fill=\"none\" stroke=\"black\" d=\"M4002,-460.91C4002,-450.2 4002,-438.62 4002,-427.78\"/>\n<polygon fill=\"black\" stroke=\"black\" points=\"4005.5,-427.67 4002,-417.67 3998.5,-427.67 4005.5,-427.67\"/>\n</g>\n<!-- 240 -->\n<g id=\"node241\" class=\"node\">\n<title>240</title>\n<polygon fill=\"#f2c09c\" stroke=\"black\" points=\"4189.5,-425 4078.5,-425 4078.5,-342 4189.5,-342 4189.5,-425\"/>\n<text text-anchor=\"middle\" x=\"4134\" y=\"-409.8\" font-family=\"Helvetica,sans-Serif\" font-size=\"14.00\">Fare &lt;= 98.752</text>\n<text text-anchor=\"middle\" x=\"4134\" y=\"-394.8\" font-family=\"Helvetica,sans-Serif\" font-size=\"14.00\">entropy = 0.918</text>\n<text text-anchor=\"middle\" x=\"4134\" y=\"-379.8\" font-family=\"Helvetica,sans-Serif\" font-size=\"14.00\">samples = 6</text>\n<text text-anchor=\"middle\" x=\"4134\" y=\"-364.8\" font-family=\"Helvetica,sans-Serif\" font-size=\"14.00\">value = [4, 2]</text>\n<text text-anchor=\"middle\" x=\"4134\" y=\"-349.8\" font-family=\"Helvetica,sans-Serif\" font-size=\"14.00\">class = Died</text>\n</g>\n<!-- 238&#45;&gt;240 -->\n<g id=\"edge240\" class=\"edge\">\n<title>238-&gt;240</title>\n<path fill=\"none\" stroke=\"black\" d=\"M4047.8,-460.91C4058.34,-451.56 4069.65,-441.54 4080.49,-431.93\"/>\n<polygon fill=\"black\" stroke=\"black\" points=\"4083.12,-434.27 4088.28,-425.02 4078.48,-429.03 4083.12,-434.27\"/>\n</g>\n<!-- 241 -->\n<g id=\"node242\" class=\"node\">\n<title>241</title>\n<polygon fill=\"#9ccef2\" stroke=\"black\" points=\"4143.5,-306 4004.5,-306 4004.5,-223 4143.5,-223 4143.5,-306\"/>\n<text text-anchor=\"middle\" x=\"4074\" y=\"-290.8\" font-family=\"Helvetica,sans-Serif\" font-size=\"14.00\">Embarked_C &lt;= 0.5</text>\n<text text-anchor=\"middle\" x=\"4074\" y=\"-275.8\" font-family=\"Helvetica,sans-Serif\" font-size=\"14.00\">entropy = 0.918</text>\n<text text-anchor=\"middle\" x=\"4074\" y=\"-260.8\" font-family=\"Helvetica,sans-Serif\" font-size=\"14.00\">samples = 3</text>\n<text text-anchor=\"middle\" x=\"4074\" y=\"-245.8\" font-family=\"Helvetica,sans-Serif\" font-size=\"14.00\">value = [1, 2]</text>\n<text text-anchor=\"middle\" x=\"4074\" y=\"-230.8\" font-family=\"Helvetica,sans-Serif\" font-size=\"14.00\">class = Survived</text>\n</g>\n<!-- 240&#45;&gt;241 -->\n<g id=\"edge241\" class=\"edge\">\n<title>240-&gt;241</title>\n<path fill=\"none\" stroke=\"black\" d=\"M4113.18,-341.91C4108.76,-333.29 4104.05,-324.09 4099.47,-315.17\"/>\n<polygon fill=\"black\" stroke=\"black\" points=\"4102.46,-313.32 4094.78,-306.02 4096.23,-316.52 4102.46,-313.32\"/>\n</g>\n<!-- 244 -->\n<g id=\"node245\" class=\"node\">\n<title>244</title>\n<polygon fill=\"#e58139\" stroke=\"black\" points=\"4258,-298.5 4162,-298.5 4162,-230.5 4258,-230.5 4258,-298.5\"/>\n<text text-anchor=\"middle\" x=\"4210\" y=\"-283.3\" font-family=\"Helvetica,sans-Serif\" font-size=\"14.00\">entropy = 0.0</text>\n<text text-anchor=\"middle\" x=\"4210\" y=\"-268.3\" font-family=\"Helvetica,sans-Serif\" font-size=\"14.00\">samples = 3</text>\n<text text-anchor=\"middle\" x=\"4210\" y=\"-253.3\" font-family=\"Helvetica,sans-Serif\" font-size=\"14.00\">value = [3, 0]</text>\n<text text-anchor=\"middle\" x=\"4210\" y=\"-238.3\" font-family=\"Helvetica,sans-Serif\" font-size=\"14.00\">class = Died</text>\n</g>\n<!-- 240&#45;&gt;244 -->\n<g id=\"edge244\" class=\"edge\">\n<title>240-&gt;244</title>\n<path fill=\"none\" stroke=\"black\" d=\"M4160.37,-341.91C4167.68,-330.65 4175.63,-318.42 4182.97,-307.11\"/>\n<polygon fill=\"black\" stroke=\"black\" points=\"4185.94,-308.96 4188.46,-298.67 4180.07,-305.15 4185.94,-308.96\"/>\n</g>\n<!-- 242 -->\n<g id=\"node243\" class=\"node\">\n<title>242</title>\n<polygon fill=\"#e58139\" stroke=\"black\" points=\"4060,-179.5 3964,-179.5 3964,-111.5 4060,-111.5 4060,-179.5\"/>\n<text text-anchor=\"middle\" x=\"4012\" y=\"-164.3\" font-family=\"Helvetica,sans-Serif\" font-size=\"14.00\">entropy = 0.0</text>\n<text text-anchor=\"middle\" x=\"4012\" y=\"-149.3\" font-family=\"Helvetica,sans-Serif\" font-size=\"14.00\">samples = 1</text>\n<text text-anchor=\"middle\" x=\"4012\" y=\"-134.3\" font-family=\"Helvetica,sans-Serif\" font-size=\"14.00\">value = [1, 0]</text>\n<text text-anchor=\"middle\" x=\"4012\" y=\"-119.3\" font-family=\"Helvetica,sans-Serif\" font-size=\"14.00\">class = Died</text>\n</g>\n<!-- 241&#45;&gt;242 -->\n<g id=\"edge242\" class=\"edge\">\n<title>241-&gt;242</title>\n<path fill=\"none\" stroke=\"black\" d=\"M4052.49,-222.91C4046.64,-211.87 4040.3,-199.9 4034.4,-188.77\"/>\n<polygon fill=\"black\" stroke=\"black\" points=\"4037.35,-186.86 4029.58,-179.67 4031.17,-190.14 4037.35,-186.86\"/>\n</g>\n<!-- 243 -->\n<g id=\"node244\" class=\"node\">\n<title>243</title>\n<polygon fill=\"#399de5\" stroke=\"black\" points=\"4194,-179.5 4078,-179.5 4078,-111.5 4194,-111.5 4194,-179.5\"/>\n<text text-anchor=\"middle\" x=\"4136\" y=\"-164.3\" font-family=\"Helvetica,sans-Serif\" font-size=\"14.00\">entropy = 0.0</text>\n<text text-anchor=\"middle\" x=\"4136\" y=\"-149.3\" font-family=\"Helvetica,sans-Serif\" font-size=\"14.00\">samples = 2</text>\n<text text-anchor=\"middle\" x=\"4136\" y=\"-134.3\" font-family=\"Helvetica,sans-Serif\" font-size=\"14.00\">value = [0, 2]</text>\n<text text-anchor=\"middle\" x=\"4136\" y=\"-119.3\" font-family=\"Helvetica,sans-Serif\" font-size=\"14.00\">class = Survived</text>\n</g>\n<!-- 241&#45;&gt;243 -->\n<g id=\"edge243\" class=\"edge\">\n<title>241-&gt;243</title>\n<path fill=\"none\" stroke=\"black\" d=\"M4095.51,-222.91C4101.36,-211.87 4107.7,-199.9 4113.6,-188.77\"/>\n<polygon fill=\"black\" stroke=\"black\" points=\"4116.83,-190.14 4118.42,-179.67 4110.65,-186.86 4116.83,-190.14\"/>\n</g>\n<!-- 249 -->\n<g id=\"node250\" class=\"node\">\n<title>249</title>\n<polygon fill=\"#e88e4e\" stroke=\"black\" points=\"3671.5,-1496 3532.5,-1496 3532.5,-1413 3671.5,-1413 3671.5,-1496\"/>\n<text text-anchor=\"middle\" x=\"3602\" y=\"-1480.8\" font-family=\"Helvetica,sans-Serif\" font-size=\"14.00\">Embarked_C &lt;= 0.5</text>\n<text text-anchor=\"middle\" x=\"3602\" y=\"-1465.8\" font-family=\"Helvetica,sans-Serif\" font-size=\"14.00\">entropy = 0.454</text>\n<text text-anchor=\"middle\" x=\"3602\" y=\"-1450.8\" font-family=\"Helvetica,sans-Serif\" font-size=\"14.00\">samples = 21</text>\n<text text-anchor=\"middle\" x=\"3602\" y=\"-1435.8\" font-family=\"Helvetica,sans-Serif\" font-size=\"14.00\">value = [19, 2]</text>\n<text text-anchor=\"middle\" x=\"3602\" y=\"-1420.8\" font-family=\"Helvetica,sans-Serif\" font-size=\"14.00\">class = Died</text>\n</g>\n<!-- 248&#45;&gt;249 -->\n<g id=\"edge249\" class=\"edge\">\n<title>248-&gt;249</title>\n<path fill=\"none\" stroke=\"black\" d=\"M3602,-1531.91C3602,-1523.65 3602,-1514.86 3602,-1506.3\"/>\n<polygon fill=\"black\" stroke=\"black\" points=\"3605.5,-1506.02 3602,-1496.02 3598.5,-1506.02 3605.5,-1506.02\"/>\n</g>\n<!-- 258 -->\n<g id=\"node259\" class=\"node\">\n<title>258</title>\n<polygon fill=\"#399de5\" stroke=\"black\" points=\"3806,-1488.5 3690,-1488.5 3690,-1420.5 3806,-1420.5 3806,-1488.5\"/>\n<text text-anchor=\"middle\" x=\"3748\" y=\"-1473.3\" font-family=\"Helvetica,sans-Serif\" font-size=\"14.00\">entropy = 0.0</text>\n<text text-anchor=\"middle\" x=\"3748\" y=\"-1458.3\" font-family=\"Helvetica,sans-Serif\" font-size=\"14.00\">samples = 1</text>\n<text text-anchor=\"middle\" x=\"3748\" y=\"-1443.3\" font-family=\"Helvetica,sans-Serif\" font-size=\"14.00\">value = [0, 1]</text>\n<text text-anchor=\"middle\" x=\"3748\" y=\"-1428.3\" font-family=\"Helvetica,sans-Serif\" font-size=\"14.00\">class = Survived</text>\n</g>\n<!-- 248&#45;&gt;258 -->\n<g id=\"edge258\" class=\"edge\">\n<title>248-&gt;258</title>\n<path fill=\"none\" stroke=\"black\" d=\"M3652.65,-1531.91C3667.53,-1519.99 3683.77,-1506.98 3698.56,-1495.12\"/>\n<polygon fill=\"black\" stroke=\"black\" points=\"3701,-1497.65 3706.61,-1488.67 3696.62,-1492.19 3701,-1497.65\"/>\n</g>\n<!-- 250 -->\n<g id=\"node251\" class=\"node\">\n<title>250</title>\n<polygon fill=\"#e58139\" stroke=\"black\" points=\"3653,-1369.5 3551,-1369.5 3551,-1301.5 3653,-1301.5 3653,-1369.5\"/>\n<text text-anchor=\"middle\" x=\"3602\" y=\"-1354.3\" font-family=\"Helvetica,sans-Serif\" font-size=\"14.00\">entropy = 0.0</text>\n<text text-anchor=\"middle\" x=\"3602\" y=\"-1339.3\" font-family=\"Helvetica,sans-Serif\" font-size=\"14.00\">samples = 13</text>\n<text text-anchor=\"middle\" x=\"3602\" y=\"-1324.3\" font-family=\"Helvetica,sans-Serif\" font-size=\"14.00\">value = [13, 0]</text>\n<text text-anchor=\"middle\" x=\"3602\" y=\"-1309.3\" font-family=\"Helvetica,sans-Serif\" font-size=\"14.00\">class = Died</text>\n</g>\n<!-- 249&#45;&gt;250 -->\n<g id=\"edge250\" class=\"edge\">\n<title>249-&gt;250</title>\n<path fill=\"none\" stroke=\"black\" d=\"M3602,-1412.91C3602,-1402.2 3602,-1390.62 3602,-1379.78\"/>\n<polygon fill=\"black\" stroke=\"black\" points=\"3605.5,-1379.67 3602,-1369.67 3598.5,-1379.67 3605.5,-1379.67\"/>\n</g>\n<!-- 251 -->\n<g id=\"node252\" class=\"node\">\n<title>251</title>\n<polygon fill=\"#eeab7b\" stroke=\"black\" points=\"3794.5,-1377 3683.5,-1377 3683.5,-1294 3794.5,-1294 3794.5,-1377\"/>\n<text text-anchor=\"middle\" x=\"3739\" y=\"-1361.8\" font-family=\"Helvetica,sans-Serif\" font-size=\"14.00\">SibSp &lt;= 0.5</text>\n<text text-anchor=\"middle\" x=\"3739\" y=\"-1346.8\" font-family=\"Helvetica,sans-Serif\" font-size=\"14.00\">entropy = 0.811</text>\n<text text-anchor=\"middle\" x=\"3739\" y=\"-1331.8\" font-family=\"Helvetica,sans-Serif\" font-size=\"14.00\">samples = 8</text>\n<text text-anchor=\"middle\" x=\"3739\" y=\"-1316.8\" font-family=\"Helvetica,sans-Serif\" font-size=\"14.00\">value = [6, 2]</text>\n<text text-anchor=\"middle\" x=\"3739\" y=\"-1301.8\" font-family=\"Helvetica,sans-Serif\" font-size=\"14.00\">class = Died</text>\n</g>\n<!-- 249&#45;&gt;251 -->\n<g id=\"edge251\" class=\"edge\">\n<title>249-&gt;251</title>\n<path fill=\"none\" stroke=\"black\" d=\"M3649.53,-1412.91C3660.58,-1403.47 3672.44,-1393.34 3683.79,-1383.65\"/>\n<polygon fill=\"black\" stroke=\"black\" points=\"3686.22,-1386.18 3691.55,-1377.02 3681.68,-1380.85 3686.22,-1386.18\"/>\n</g>\n<!-- 252 -->\n<g id=\"node253\" class=\"node\">\n<title>252</title>\n<polygon fill=\"#e9965a\" stroke=\"black\" points=\"3904.5,-1258 3793.5,-1258 3793.5,-1175 3904.5,-1175 3904.5,-1258\"/>\n<text text-anchor=\"middle\" x=\"3849\" y=\"-1242.8\" font-family=\"Helvetica,sans-Serif\" font-size=\"14.00\">Age &lt;= 57.0</text>\n<text text-anchor=\"middle\" x=\"3849\" y=\"-1227.8\" font-family=\"Helvetica,sans-Serif\" font-size=\"14.00\">entropy = 0.592</text>\n<text text-anchor=\"middle\" x=\"3849\" y=\"-1212.8\" font-family=\"Helvetica,sans-Serif\" font-size=\"14.00\">samples = 7</text>\n<text text-anchor=\"middle\" x=\"3849\" y=\"-1197.8\" font-family=\"Helvetica,sans-Serif\" font-size=\"14.00\">value = [6, 1]</text>\n<text text-anchor=\"middle\" x=\"3849\" y=\"-1182.8\" font-family=\"Helvetica,sans-Serif\" font-size=\"14.00\">class = Died</text>\n</g>\n<!-- 251&#45;&gt;252 -->\n<g id=\"edge252\" class=\"edge\">\n<title>251-&gt;252</title>\n<path fill=\"none\" stroke=\"black\" d=\"M3777.16,-1293.91C3785.78,-1284.74 3795.01,-1274.93 3803.88,-1265.49\"/>\n<polygon fill=\"black\" stroke=\"black\" points=\"3806.6,-1267.7 3810.9,-1258.02 3801.5,-1262.91 3806.6,-1267.7\"/>\n</g>\n<!-- 257 -->\n<g id=\"node258\" class=\"node\">\n<title>257</title>\n<polygon fill=\"#399de5\" stroke=\"black\" points=\"4039,-1250.5 3923,-1250.5 3923,-1182.5 4039,-1182.5 4039,-1250.5\"/>\n<text text-anchor=\"middle\" x=\"3981\" y=\"-1235.3\" font-family=\"Helvetica,sans-Serif\" font-size=\"14.00\">entropy = 0.0</text>\n<text text-anchor=\"middle\" x=\"3981\" y=\"-1220.3\" font-family=\"Helvetica,sans-Serif\" font-size=\"14.00\">samples = 1</text>\n<text text-anchor=\"middle\" x=\"3981\" y=\"-1205.3\" font-family=\"Helvetica,sans-Serif\" font-size=\"14.00\">value = [0, 1]</text>\n<text text-anchor=\"middle\" x=\"3981\" y=\"-1190.3\" font-family=\"Helvetica,sans-Serif\" font-size=\"14.00\">class = Survived</text>\n</g>\n<!-- 251&#45;&gt;257 -->\n<g id=\"edge257\" class=\"edge\">\n<title>251-&gt;257</title>\n<path fill=\"none\" stroke=\"black\" d=\"M3794.54,-1298.72C3797.7,-1297.05 3800.87,-1295.47 3804,-1294 3850.2,-1272.36 3866.59,-1279.18 3913,-1258 3914.83,-1257.17 3916.67,-1256.29 3918.52,-1255.39\"/>\n<polygon fill=\"black\" stroke=\"black\" points=\"3920.45,-1258.34 3927.76,-1250.67 3917.27,-1252.1 3920.45,-1258.34\"/>\n</g>\n<!-- 253 -->\n<g id=\"node254\" class=\"node\">\n<title>253</title>\n<polygon fill=\"#ffffff\" stroke=\"black\" points=\"4007,-1139 3897,-1139 3897,-1056 4007,-1056 4007,-1139\"/>\n<text text-anchor=\"middle\" x=\"3952\" y=\"-1123.8\" font-family=\"Helvetica,sans-Serif\" font-size=\"14.00\">Fare &lt;= 33.098</text>\n<text text-anchor=\"middle\" x=\"3952\" y=\"-1108.8\" font-family=\"Helvetica,sans-Serif\" font-size=\"14.00\">entropy = 1.0</text>\n<text text-anchor=\"middle\" x=\"3952\" y=\"-1093.8\" font-family=\"Helvetica,sans-Serif\" font-size=\"14.00\">samples = 2</text>\n<text text-anchor=\"middle\" x=\"3952\" y=\"-1078.8\" font-family=\"Helvetica,sans-Serif\" font-size=\"14.00\">value = [1, 1]</text>\n<text text-anchor=\"middle\" x=\"3952\" y=\"-1063.8\" font-family=\"Helvetica,sans-Serif\" font-size=\"14.00\">class = Died</text>\n</g>\n<!-- 252&#45;&gt;253 -->\n<g id=\"edge253\" class=\"edge\">\n<title>252-&gt;253</title>\n<path fill=\"none\" stroke=\"black\" d=\"M3884.74,-1174.91C3892.72,-1165.83 3901.27,-1156.12 3909.51,-1146.77\"/>\n<polygon fill=\"black\" stroke=\"black\" points=\"3912.35,-1148.84 3916.33,-1139.02 3907.09,-1144.21 3912.35,-1148.84\"/>\n</g>\n<!-- 256 -->\n<g id=\"node257\" class=\"node\">\n<title>256</title>\n<polygon fill=\"#e58139\" stroke=\"black\" points=\"4121,-1131.5 4025,-1131.5 4025,-1063.5 4121,-1063.5 4121,-1131.5\"/>\n<text text-anchor=\"middle\" x=\"4073\" y=\"-1116.3\" font-family=\"Helvetica,sans-Serif\" font-size=\"14.00\">entropy = 0.0</text>\n<text text-anchor=\"middle\" x=\"4073\" y=\"-1101.3\" font-family=\"Helvetica,sans-Serif\" font-size=\"14.00\">samples = 5</text>\n<text text-anchor=\"middle\" x=\"4073\" y=\"-1086.3\" font-family=\"Helvetica,sans-Serif\" font-size=\"14.00\">value = [5, 0]</text>\n<text text-anchor=\"middle\" x=\"4073\" y=\"-1071.3\" font-family=\"Helvetica,sans-Serif\" font-size=\"14.00\">class = Died</text>\n</g>\n<!-- 252&#45;&gt;256 -->\n<g id=\"edge256\" class=\"edge\">\n<title>252-&gt;256</title>\n<path fill=\"none\" stroke=\"black\" d=\"M3904.58,-1179.8C3907.73,-1178.11 3910.88,-1176.5 3914,-1175 3957.32,-1154.17 3973.33,-1161.14 4016,-1139 4017.35,-1138.3 4018.7,-1137.57 4020.05,-1136.82\"/>\n<polygon fill=\"black\" stroke=\"black\" points=\"4022.12,-1139.67 4028.95,-1131.57 4018.56,-1133.64 4022.12,-1139.67\"/>\n</g>\n<!-- 254 -->\n<g id=\"node255\" class=\"node\">\n<title>254</title>\n<polygon fill=\"#e58139\" stroke=\"black\" points=\"4003,-1012.5 3907,-1012.5 3907,-944.5 4003,-944.5 4003,-1012.5\"/>\n<text text-anchor=\"middle\" x=\"3955\" y=\"-997.3\" font-family=\"Helvetica,sans-Serif\" font-size=\"14.00\">entropy = 0.0</text>\n<text text-anchor=\"middle\" x=\"3955\" y=\"-982.3\" font-family=\"Helvetica,sans-Serif\" font-size=\"14.00\">samples = 1</text>\n<text text-anchor=\"middle\" x=\"3955\" y=\"-967.3\" font-family=\"Helvetica,sans-Serif\" font-size=\"14.00\">value = [1, 0]</text>\n<text text-anchor=\"middle\" x=\"3955\" y=\"-952.3\" font-family=\"Helvetica,sans-Serif\" font-size=\"14.00\">class = Died</text>\n</g>\n<!-- 253&#45;&gt;254 -->\n<g id=\"edge254\" class=\"edge\">\n<title>253-&gt;254</title>\n<path fill=\"none\" stroke=\"black\" d=\"M3953.04,-1055.91C3953.32,-1045.2 3953.61,-1033.62 3953.89,-1022.78\"/>\n<polygon fill=\"black\" stroke=\"black\" points=\"3957.39,-1022.75 3954.15,-1012.67 3950.39,-1022.57 3957.39,-1022.75\"/>\n</g>\n<!-- 255 -->\n<g id=\"node256\" class=\"node\">\n<title>255</title>\n<polygon fill=\"#399de5\" stroke=\"black\" points=\"4137,-1012.5 4021,-1012.5 4021,-944.5 4137,-944.5 4137,-1012.5\"/>\n<text text-anchor=\"middle\" x=\"4079\" y=\"-997.3\" font-family=\"Helvetica,sans-Serif\" font-size=\"14.00\">entropy = 0.0</text>\n<text text-anchor=\"middle\" x=\"4079\" y=\"-982.3\" font-family=\"Helvetica,sans-Serif\" font-size=\"14.00\">samples = 1</text>\n<text text-anchor=\"middle\" x=\"4079\" y=\"-967.3\" font-family=\"Helvetica,sans-Serif\" font-size=\"14.00\">value = [0, 1]</text>\n<text text-anchor=\"middle\" x=\"4079\" y=\"-952.3\" font-family=\"Helvetica,sans-Serif\" font-size=\"14.00\">class = Survived</text>\n</g>\n<!-- 253&#45;&gt;255 -->\n<g id=\"edge255\" class=\"edge\">\n<title>253-&gt;255</title>\n<path fill=\"none\" stroke=\"black\" d=\"M3996.06,-1055.91C4008.88,-1044.1 4022.86,-1031.22 4035.64,-1019.45\"/>\n<polygon fill=\"black\" stroke=\"black\" points=\"4038.02,-1022.02 4043,-1012.67 4033.27,-1016.87 4038.02,-1022.02\"/>\n</g>\n<!-- 260 -->\n<g id=\"node261\" class=\"node\">\n<title>260</title>\n<polygon fill=\"#eca06a\" stroke=\"black\" points=\"3663.5,-1853 3552.5,-1853 3552.5,-1770 3663.5,-1770 3663.5,-1853\"/>\n<text text-anchor=\"middle\" x=\"3608\" y=\"-1837.8\" font-family=\"Helvetica,sans-Serif\" font-size=\"14.00\">Age &lt;= 2.5</text>\n<text text-anchor=\"middle\" x=\"3608\" y=\"-1822.8\" font-family=\"Helvetica,sans-Serif\" font-size=\"14.00\">entropy = 0.722</text>\n<text text-anchor=\"middle\" x=\"3608\" y=\"-1807.8\" font-family=\"Helvetica,sans-Serif\" font-size=\"14.00\">samples = 5</text>\n<text text-anchor=\"middle\" x=\"3608\" y=\"-1792.8\" font-family=\"Helvetica,sans-Serif\" font-size=\"14.00\">value = [4, 1]</text>\n<text text-anchor=\"middle\" x=\"3608\" y=\"-1777.8\" font-family=\"Helvetica,sans-Serif\" font-size=\"14.00\">class = Died</text>\n</g>\n<!-- 259&#45;&gt;260 -->\n<g id=\"edge260\" class=\"edge\">\n<title>259-&gt;260</title>\n<path fill=\"none\" stroke=\"black\" d=\"M3608,-1888.91C3608,-1880.65 3608,-1871.86 3608,-1863.3\"/>\n<polygon fill=\"black\" stroke=\"black\" points=\"3611.5,-1863.02 3608,-1853.02 3604.5,-1863.02 3611.5,-1863.02\"/>\n</g>\n<!-- 263 -->\n<g id=\"node264\" class=\"node\">\n<title>263</title>\n<polygon fill=\"#e58139\" stroke=\"black\" points=\"3784,-1845.5 3682,-1845.5 3682,-1777.5 3784,-1777.5 3784,-1845.5\"/>\n<text text-anchor=\"middle\" x=\"3733\" y=\"-1830.3\" font-family=\"Helvetica,sans-Serif\" font-size=\"14.00\">entropy = 0.0</text>\n<text text-anchor=\"middle\" x=\"3733\" y=\"-1815.3\" font-family=\"Helvetica,sans-Serif\" font-size=\"14.00\">samples = 18</text>\n<text text-anchor=\"middle\" x=\"3733\" y=\"-1800.3\" font-family=\"Helvetica,sans-Serif\" font-size=\"14.00\">value = [18, 0]</text>\n<text text-anchor=\"middle\" x=\"3733\" y=\"-1785.3\" font-family=\"Helvetica,sans-Serif\" font-size=\"14.00\">class = Died</text>\n</g>\n<!-- 259&#45;&gt;263 -->\n<g id=\"edge263\" class=\"edge\">\n<title>259-&gt;263</title>\n<path fill=\"none\" stroke=\"black\" d=\"M3651.37,-1888.91C3663.86,-1877.21 3677.49,-1864.46 3689.97,-1852.78\"/>\n<polygon fill=\"black\" stroke=\"black\" points=\"3692.66,-1855.06 3697.57,-1845.67 3687.87,-1849.95 3692.66,-1855.06\"/>\n</g>\n<!-- 261 -->\n<g id=\"node262\" class=\"node\">\n<title>261</title>\n<polygon fill=\"#e58139\" stroke=\"black\" points=\"3654,-1726.5 3558,-1726.5 3558,-1658.5 3654,-1658.5 3654,-1726.5\"/>\n<text text-anchor=\"middle\" x=\"3606\" y=\"-1711.3\" font-family=\"Helvetica,sans-Serif\" font-size=\"14.00\">entropy = 0.0</text>\n<text text-anchor=\"middle\" x=\"3606\" y=\"-1696.3\" font-family=\"Helvetica,sans-Serif\" font-size=\"14.00\">samples = 4</text>\n<text text-anchor=\"middle\" x=\"3606\" y=\"-1681.3\" font-family=\"Helvetica,sans-Serif\" font-size=\"14.00\">value = [4, 0]</text>\n<text text-anchor=\"middle\" x=\"3606\" y=\"-1666.3\" font-family=\"Helvetica,sans-Serif\" font-size=\"14.00\">class = Died</text>\n</g>\n<!-- 260&#45;&gt;261 -->\n<g id=\"edge261\" class=\"edge\">\n<title>260-&gt;261</title>\n<path fill=\"none\" stroke=\"black\" d=\"M3607.31,-1769.91C3607.12,-1759.2 3606.93,-1747.62 3606.74,-1736.78\"/>\n<polygon fill=\"black\" stroke=\"black\" points=\"3610.24,-1736.61 3606.57,-1726.67 3603.24,-1736.73 3610.24,-1736.61\"/>\n</g>\n<!-- 262 -->\n<g id=\"node263\" class=\"node\">\n<title>262</title>\n<polygon fill=\"#399de5\" stroke=\"black\" points=\"3788,-1726.5 3672,-1726.5 3672,-1658.5 3788,-1658.5 3788,-1726.5\"/>\n<text text-anchor=\"middle\" x=\"3730\" y=\"-1711.3\" font-family=\"Helvetica,sans-Serif\" font-size=\"14.00\">entropy = 0.0</text>\n<text text-anchor=\"middle\" x=\"3730\" y=\"-1696.3\" font-family=\"Helvetica,sans-Serif\" font-size=\"14.00\">samples = 1</text>\n<text text-anchor=\"middle\" x=\"3730\" y=\"-1681.3\" font-family=\"Helvetica,sans-Serif\" font-size=\"14.00\">value = [0, 1]</text>\n<text text-anchor=\"middle\" x=\"3730\" y=\"-1666.3\" font-family=\"Helvetica,sans-Serif\" font-size=\"14.00\">class = Survived</text>\n</g>\n<!-- 260&#45;&gt;262 -->\n<g id=\"edge262\" class=\"edge\">\n<title>260-&gt;262</title>\n<path fill=\"none\" stroke=\"black\" d=\"M3650.33,-1769.91C3662.52,-1758.21 3675.82,-1745.46 3688,-1733.78\"/>\n<polygon fill=\"black\" stroke=\"black\" points=\"3690.62,-1736.11 3695.42,-1726.67 3685.78,-1731.06 3690.62,-1736.11\"/>\n</g>\n<!-- 265 -->\n<g id=\"node266\" class=\"node\">\n<title>265</title>\n<polygon fill=\"#44a2e6\" stroke=\"black\" points=\"4396,-2091 4280,-2091 4280,-2008 4396,-2008 4396,-2091\"/>\n<text text-anchor=\"middle\" x=\"4338\" y=\"-2075.8\" font-family=\"Helvetica,sans-Serif\" font-size=\"14.00\">Fare &lt;= 28.856</text>\n<text text-anchor=\"middle\" x=\"4338\" y=\"-2060.8\" font-family=\"Helvetica,sans-Serif\" font-size=\"14.00\">entropy = 0.299</text>\n<text text-anchor=\"middle\" x=\"4338\" y=\"-2045.8\" font-family=\"Helvetica,sans-Serif\" font-size=\"14.00\">samples = 170</text>\n<text text-anchor=\"middle\" x=\"4338\" y=\"-2030.8\" font-family=\"Helvetica,sans-Serif\" font-size=\"14.00\">value = [9, 161]</text>\n<text text-anchor=\"middle\" x=\"4338\" y=\"-2015.8\" font-family=\"Helvetica,sans-Serif\" font-size=\"14.00\">class = Survived</text>\n</g>\n<!-- 264&#45;&gt;265 -->\n<g id=\"edge265\" class=\"edge\">\n<title>264-&gt;265</title>\n<path fill=\"none\" stroke=\"black\" d=\"M4338,-2126.91C4338,-2118.65 4338,-2109.86 4338,-2101.3\"/>\n<polygon fill=\"black\" stroke=\"black\" points=\"4341.5,-2101.02 4338,-2091.02 4334.5,-2101.02 4341.5,-2101.02\"/>\n</g>\n<!-- 302 -->\n<g id=\"node303\" class=\"node\">\n<title>302</title>\n<polygon fill=\"#ffffff\" stroke=\"black\" points=\"5378,-2091 5268,-2091 5268,-2008 5378,-2008 5378,-2091\"/>\n<text text-anchor=\"middle\" x=\"5323\" y=\"-2075.8\" font-family=\"Helvetica,sans-Serif\" font-size=\"14.00\">Fare &lt;= 23.35</text>\n<text text-anchor=\"middle\" x=\"5323\" y=\"-2060.8\" font-family=\"Helvetica,sans-Serif\" font-size=\"14.00\">entropy = 1.0</text>\n<text text-anchor=\"middle\" x=\"5323\" y=\"-2045.8\" font-family=\"Helvetica,sans-Serif\" font-size=\"14.00\">samples = 144</text>\n<text text-anchor=\"middle\" x=\"5323\" y=\"-2030.8\" font-family=\"Helvetica,sans-Serif\" font-size=\"14.00\">value = [72, 72]</text>\n<text text-anchor=\"middle\" x=\"5323\" y=\"-2015.8\" font-family=\"Helvetica,sans-Serif\" font-size=\"14.00\">class = Died</text>\n</g>\n<!-- 264&#45;&gt;302 -->\n<g id=\"edge302\" class=\"edge\">\n<title>264-&gt;302</title>\n<path fill=\"none\" stroke=\"black\" d=\"M4396.67,-2160.53C4569.54,-2140 5076.19,-2079.82 5257.52,-2058.28\"/>\n<polygon fill=\"black\" stroke=\"black\" points=\"5258.19,-2061.72 5267.7,-2057.07 5257.36,-2054.77 5258.19,-2061.72\"/>\n</g>\n<!-- 266 -->\n<g id=\"node267\" class=\"node\">\n<title>266</title>\n<polygon fill=\"#4fa8e8\" stroke=\"black\" points=\"4329,-1972 4213,-1972 4213,-1889 4329,-1889 4329,-1972\"/>\n<text text-anchor=\"middle\" x=\"4271\" y=\"-1956.8\" font-family=\"Helvetica,sans-Serif\" font-size=\"14.00\">Fare &lt;= 28.231</text>\n<text text-anchor=\"middle\" x=\"4271\" y=\"-1941.8\" font-family=\"Helvetica,sans-Serif\" font-size=\"14.00\">entropy = 0.469</text>\n<text text-anchor=\"middle\" x=\"4271\" y=\"-1926.8\" font-family=\"Helvetica,sans-Serif\" font-size=\"14.00\">samples = 70</text>\n<text text-anchor=\"middle\" x=\"4271\" y=\"-1911.8\" font-family=\"Helvetica,sans-Serif\" font-size=\"14.00\">value = [7, 63]</text>\n<text text-anchor=\"middle\" x=\"4271\" y=\"-1896.8\" font-family=\"Helvetica,sans-Serif\" font-size=\"14.00\">class = Survived</text>\n</g>\n<!-- 265&#45;&gt;266 -->\n<g id=\"edge266\" class=\"edge\">\n<title>265-&gt;266</title>\n<path fill=\"none\" stroke=\"black\" d=\"M4314.75,-2007.91C4309.77,-1999.2 4304.44,-1989.9 4299.29,-1980.89\"/>\n<polygon fill=\"black\" stroke=\"black\" points=\"4302.21,-1978.96 4294.2,-1972.02 4296.14,-1982.44 4302.21,-1978.96\"/>\n</g>\n<!-- 293 -->\n<g id=\"node294\" class=\"node\">\n<title>293</title>\n<polygon fill=\"#3d9fe6\" stroke=\"black\" points=\"4463,-1972 4347,-1972 4347,-1889 4463,-1889 4463,-1972\"/>\n<text text-anchor=\"middle\" x=\"4405\" y=\"-1956.8\" font-family=\"Helvetica,sans-Serif\" font-size=\"14.00\">Age &lt;= 2.5</text>\n<text text-anchor=\"middle\" x=\"4405\" y=\"-1941.8\" font-family=\"Helvetica,sans-Serif\" font-size=\"14.00\">entropy = 0.141</text>\n<text text-anchor=\"middle\" x=\"4405\" y=\"-1926.8\" font-family=\"Helvetica,sans-Serif\" font-size=\"14.00\">samples = 100</text>\n<text text-anchor=\"middle\" x=\"4405\" y=\"-1911.8\" font-family=\"Helvetica,sans-Serif\" font-size=\"14.00\">value = [2, 98]</text>\n<text text-anchor=\"middle\" x=\"4405\" y=\"-1896.8\" font-family=\"Helvetica,sans-Serif\" font-size=\"14.00\">class = Survived</text>\n</g>\n<!-- 265&#45;&gt;293 -->\n<g id=\"edge293\" class=\"edge\">\n<title>265-&gt;293</title>\n<path fill=\"none\" stroke=\"black\" d=\"M4361.25,-2007.91C4366.23,-1999.2 4371.56,-1989.9 4376.71,-1980.89\"/>\n<polygon fill=\"black\" stroke=\"black\" points=\"4379.86,-1982.44 4381.8,-1972.02 4373.79,-1978.96 4379.86,-1982.44\"/>\n</g>\n<!-- 267 -->\n<g id=\"node268\" class=\"node\">\n<title>267</title>\n<polygon fill=\"#4ca6e7\" stroke=\"black\" points=\"4211,-1853 4095,-1853 4095,-1770 4211,-1770 4211,-1853\"/>\n<text text-anchor=\"middle\" x=\"4153\" y=\"-1837.8\" font-family=\"Helvetica,sans-Serif\" font-size=\"14.00\">Age &lt;= 23.5</text>\n<text text-anchor=\"middle\" x=\"4153\" y=\"-1822.8\" font-family=\"Helvetica,sans-Serif\" font-size=\"14.00\">entropy = 0.426</text>\n<text text-anchor=\"middle\" x=\"4153\" y=\"-1807.8\" font-family=\"Helvetica,sans-Serif\" font-size=\"14.00\">samples = 69</text>\n<text text-anchor=\"middle\" x=\"4153\" y=\"-1792.8\" font-family=\"Helvetica,sans-Serif\" font-size=\"14.00\">value = [6, 63]</text>\n<text text-anchor=\"middle\" x=\"4153\" y=\"-1777.8\" font-family=\"Helvetica,sans-Serif\" font-size=\"14.00\">class = Survived</text>\n</g>\n<!-- 266&#45;&gt;267 -->\n<g id=\"edge267\" class=\"edge\">\n<title>266-&gt;267</title>\n<path fill=\"none\" stroke=\"black\" d=\"M4230.06,-1888.91C4220.72,-1879.65 4210.72,-1869.73 4201.12,-1860.21\"/>\n<polygon fill=\"black\" stroke=\"black\" points=\"4203.43,-1857.58 4193.87,-1853.02 4198.5,-1862.55 4203.43,-1857.58\"/>\n</g>\n<!-- 292 -->\n<g id=\"node293\" class=\"node\">\n<title>292</title>\n<polygon fill=\"#e58139\" stroke=\"black\" points=\"4325,-1845.5 4229,-1845.5 4229,-1777.5 4325,-1777.5 4325,-1845.5\"/>\n<text text-anchor=\"middle\" x=\"4277\" y=\"-1830.3\" font-family=\"Helvetica,sans-Serif\" font-size=\"14.00\">entropy = 0.0</text>\n<text text-anchor=\"middle\" x=\"4277\" y=\"-1815.3\" font-family=\"Helvetica,sans-Serif\" font-size=\"14.00\">samples = 1</text>\n<text text-anchor=\"middle\" x=\"4277\" y=\"-1800.3\" font-family=\"Helvetica,sans-Serif\" font-size=\"14.00\">value = [1, 0]</text>\n<text text-anchor=\"middle\" x=\"4277\" y=\"-1785.3\" font-family=\"Helvetica,sans-Serif\" font-size=\"14.00\">class = Died</text>\n</g>\n<!-- 266&#45;&gt;292 -->\n<g id=\"edge292\" class=\"edge\">\n<title>266-&gt;292</title>\n<path fill=\"none\" stroke=\"black\" d=\"M4273.08,-1888.91C4273.63,-1878.2 4274.22,-1866.62 4274.78,-1855.78\"/>\n<polygon fill=\"black\" stroke=\"black\" points=\"4278.28,-1855.83 4275.3,-1845.67 4271.29,-1855.47 4278.28,-1855.83\"/>\n</g>\n<!-- 268 -->\n<g id=\"node269\" class=\"node\">\n<title>268</title>\n<polygon fill=\"#399de5\" stroke=\"black\" points=\"4110,-1726.5 3994,-1726.5 3994,-1658.5 4110,-1658.5 4110,-1726.5\"/>\n<text text-anchor=\"middle\" x=\"4052\" y=\"-1711.3\" font-family=\"Helvetica,sans-Serif\" font-size=\"14.00\">entropy = 0.0</text>\n<text text-anchor=\"middle\" x=\"4052\" y=\"-1696.3\" font-family=\"Helvetica,sans-Serif\" font-size=\"14.00\">samples = 15</text>\n<text text-anchor=\"middle\" x=\"4052\" y=\"-1681.3\" font-family=\"Helvetica,sans-Serif\" font-size=\"14.00\">value = [0, 15]</text>\n<text text-anchor=\"middle\" x=\"4052\" y=\"-1666.3\" font-family=\"Helvetica,sans-Serif\" font-size=\"14.00\">class = Survived</text>\n</g>\n<!-- 267&#45;&gt;268 -->\n<g id=\"edge268\" class=\"edge\">\n<title>267-&gt;268</title>\n<path fill=\"none\" stroke=\"black\" d=\"M4117.96,-1769.91C4108.05,-1758.43 4097.27,-1745.94 4087.34,-1734.44\"/>\n<polygon fill=\"black\" stroke=\"black\" points=\"4089.82,-1731.95 4080.63,-1726.67 4084.52,-1736.52 4089.82,-1731.95\"/>\n</g>\n<!-- 269 -->\n<g id=\"node270\" class=\"node\">\n<title>269</title>\n<polygon fill=\"#52a9e8\" stroke=\"black\" points=\"4244,-1734 4128,-1734 4128,-1651 4244,-1651 4244,-1734\"/>\n<text text-anchor=\"middle\" x=\"4186\" y=\"-1718.8\" font-family=\"Helvetica,sans-Serif\" font-size=\"14.00\">Age &lt;= 27.5</text>\n<text text-anchor=\"middle\" x=\"4186\" y=\"-1703.8\" font-family=\"Helvetica,sans-Serif\" font-size=\"14.00\">entropy = 0.503</text>\n<text text-anchor=\"middle\" x=\"4186\" y=\"-1688.8\" font-family=\"Helvetica,sans-Serif\" font-size=\"14.00\">samples = 54</text>\n<text text-anchor=\"middle\" x=\"4186\" y=\"-1673.8\" font-family=\"Helvetica,sans-Serif\" font-size=\"14.00\">value = [6, 48]</text>\n<text text-anchor=\"middle\" x=\"4186\" y=\"-1658.8\" font-family=\"Helvetica,sans-Serif\" font-size=\"14.00\">class = Survived</text>\n</g>\n<!-- 267&#45;&gt;269 -->\n<g id=\"edge269\" class=\"edge\">\n<title>267-&gt;269</title>\n<path fill=\"none\" stroke=\"black\" d=\"M4164.45,-1769.91C4166.83,-1761.47 4169.37,-1752.48 4171.83,-1743.74\"/>\n<polygon fill=\"black\" stroke=\"black\" points=\"4175.22,-1744.6 4174.57,-1734.02 4168.49,-1742.7 4175.22,-1744.6\"/>\n</g>\n<!-- 270 -->\n<g id=\"node271\" class=\"node\">\n<title>270</title>\n<polygon fill=\"#83c2ef\" stroke=\"black\" points=\"4175,-1615 4059,-1615 4059,-1532 4175,-1532 4175,-1615\"/>\n<text text-anchor=\"middle\" x=\"4117\" y=\"-1599.8\" font-family=\"Helvetica,sans-Serif\" font-size=\"14.00\">Age &lt;= 25.5</text>\n<text text-anchor=\"middle\" x=\"4117\" y=\"-1584.8\" font-family=\"Helvetica,sans-Serif\" font-size=\"14.00\">entropy = 0.845</text>\n<text text-anchor=\"middle\" x=\"4117\" y=\"-1569.8\" font-family=\"Helvetica,sans-Serif\" font-size=\"14.00\">samples = 11</text>\n<text text-anchor=\"middle\" x=\"4117\" y=\"-1554.8\" font-family=\"Helvetica,sans-Serif\" font-size=\"14.00\">value = [3, 8]</text>\n<text text-anchor=\"middle\" x=\"4117\" y=\"-1539.8\" font-family=\"Helvetica,sans-Serif\" font-size=\"14.00\">class = Survived</text>\n</g>\n<!-- 269&#45;&gt;270 -->\n<g id=\"edge270\" class=\"edge\">\n<title>269-&gt;270</title>\n<path fill=\"none\" stroke=\"black\" d=\"M4162.06,-1650.91C4156.92,-1642.2 4151.44,-1632.9 4146.13,-1623.89\"/>\n<polygon fill=\"black\" stroke=\"black\" points=\"4148.99,-1621.86 4140.9,-1615.02 4142.96,-1625.41 4148.99,-1621.86\"/>\n</g>\n<!-- 277 -->\n<g id=\"node278\" class=\"node\">\n<title>277</title>\n<polygon fill=\"#48a4e7\" stroke=\"black\" points=\"4309,-1615 4193,-1615 4193,-1532 4309,-1532 4309,-1615\"/>\n<text text-anchor=\"middle\" x=\"4251\" y=\"-1599.8\" font-family=\"Helvetica,sans-Serif\" font-size=\"14.00\">Age &lt;= 37.0</text>\n<text text-anchor=\"middle\" x=\"4251\" y=\"-1584.8\" font-family=\"Helvetica,sans-Serif\" font-size=\"14.00\">entropy = 0.365</text>\n<text text-anchor=\"middle\" x=\"4251\" y=\"-1569.8\" font-family=\"Helvetica,sans-Serif\" font-size=\"14.00\">samples = 43</text>\n<text text-anchor=\"middle\" x=\"4251\" y=\"-1554.8\" font-family=\"Helvetica,sans-Serif\" font-size=\"14.00\">value = [3, 40]</text>\n<text text-anchor=\"middle\" x=\"4251\" y=\"-1539.8\" font-family=\"Helvetica,sans-Serif\" font-size=\"14.00\">class = Survived</text>\n</g>\n<!-- 269&#45;&gt;277 -->\n<g id=\"edge277\" class=\"edge\">\n<title>269-&gt;277</title>\n<path fill=\"none\" stroke=\"black\" d=\"M4208.55,-1650.91C4213.39,-1642.2 4218.56,-1632.9 4223.56,-1623.89\"/>\n<polygon fill=\"black\" stroke=\"black\" points=\"4226.69,-1625.46 4228.49,-1615.02 4220.57,-1622.06 4226.69,-1625.46\"/>\n</g>\n<!-- 271 -->\n<g id=\"node272\" class=\"node\">\n<title>271</title>\n<polygon fill=\"#5aade9\" stroke=\"black\" points=\"4043,-1496 3927,-1496 3927,-1413 4043,-1413 4043,-1496\"/>\n<text text-anchor=\"middle\" x=\"3985\" y=\"-1480.8\" font-family=\"Helvetica,sans-Serif\" font-size=\"14.00\">Fare &lt;= 13.75</text>\n<text text-anchor=\"middle\" x=\"3985\" y=\"-1465.8\" font-family=\"Helvetica,sans-Serif\" font-size=\"14.00\">entropy = 0.592</text>\n<text text-anchor=\"middle\" x=\"3985\" y=\"-1450.8\" font-family=\"Helvetica,sans-Serif\" font-size=\"14.00\">samples = 7</text>\n<text text-anchor=\"middle\" x=\"3985\" y=\"-1435.8\" font-family=\"Helvetica,sans-Serif\" font-size=\"14.00\">value = [1, 6]</text>\n<text text-anchor=\"middle\" x=\"3985\" y=\"-1420.8\" font-family=\"Helvetica,sans-Serif\" font-size=\"14.00\">class = Survived</text>\n</g>\n<!-- 270&#45;&gt;271 -->\n<g id=\"edge271\" class=\"edge\">\n<title>270-&gt;271</title>\n<path fill=\"none\" stroke=\"black\" d=\"M4071.2,-1531.91C4060.66,-1522.56 4049.35,-1512.54 4038.51,-1502.93\"/>\n<polygon fill=\"black\" stroke=\"black\" points=\"4040.52,-1500.03 4030.72,-1496.02 4035.88,-1505.27 4040.52,-1500.03\"/>\n</g>\n<!-- 274 -->\n<g id=\"node275\" class=\"node\">\n<title>274</title>\n<polygon fill=\"#ffffff\" stroke=\"black\" points=\"4173,-1496 4063,-1496 4063,-1413 4173,-1413 4173,-1496\"/>\n<text text-anchor=\"middle\" x=\"4118\" y=\"-1480.8\" font-family=\"Helvetica,sans-Serif\" font-size=\"14.00\">Fare &lt;= 17.429</text>\n<text text-anchor=\"middle\" x=\"4118\" y=\"-1465.8\" font-family=\"Helvetica,sans-Serif\" font-size=\"14.00\">entropy = 1.0</text>\n<text text-anchor=\"middle\" x=\"4118\" y=\"-1450.8\" font-family=\"Helvetica,sans-Serif\" font-size=\"14.00\">samples = 4</text>\n<text text-anchor=\"middle\" x=\"4118\" y=\"-1435.8\" font-family=\"Helvetica,sans-Serif\" font-size=\"14.00\">value = [2, 2]</text>\n<text text-anchor=\"middle\" x=\"4118\" y=\"-1420.8\" font-family=\"Helvetica,sans-Serif\" font-size=\"14.00\">class = Died</text>\n</g>\n<!-- 270&#45;&gt;274 -->\n<g id=\"edge274\" class=\"edge\">\n<title>270-&gt;274</title>\n<path fill=\"none\" stroke=\"black\" d=\"M4117.35,-1531.91C4117.42,-1523.65 4117.49,-1514.86 4117.57,-1506.3\"/>\n<polygon fill=\"black\" stroke=\"black\" points=\"4121.07,-1506.05 4117.65,-1496.02 4114.07,-1505.99 4121.07,-1506.05\"/>\n</g>\n<!-- 272 -->\n<g id=\"node273\" class=\"node\">\n<title>272</title>\n<polygon fill=\"#ffffff\" stroke=\"black\" points=\"3909,-1369.5 3813,-1369.5 3813,-1301.5 3909,-1301.5 3909,-1369.5\"/>\n<text text-anchor=\"middle\" x=\"3861\" y=\"-1354.3\" font-family=\"Helvetica,sans-Serif\" font-size=\"14.00\">entropy = 1.0</text>\n<text text-anchor=\"middle\" x=\"3861\" y=\"-1339.3\" font-family=\"Helvetica,sans-Serif\" font-size=\"14.00\">samples = 2</text>\n<text text-anchor=\"middle\" x=\"3861\" y=\"-1324.3\" font-family=\"Helvetica,sans-Serif\" font-size=\"14.00\">value = [1, 1]</text>\n<text text-anchor=\"middle\" x=\"3861\" y=\"-1309.3\" font-family=\"Helvetica,sans-Serif\" font-size=\"14.00\">class = Died</text>\n</g>\n<!-- 271&#45;&gt;272 -->\n<g id=\"edge272\" class=\"edge\">\n<title>271-&gt;272</title>\n<path fill=\"none\" stroke=\"black\" d=\"M3941.98,-1412.91C3929.58,-1401.21 3916.07,-1388.46 3903.69,-1376.78\"/>\n<polygon fill=\"black\" stroke=\"black\" points=\"3905.83,-1373.98 3896.15,-1369.67 3901.02,-1379.08 3905.83,-1373.98\"/>\n</g>\n<!-- 273 -->\n<g id=\"node274\" class=\"node\">\n<title>273</title>\n<polygon fill=\"#399de5\" stroke=\"black\" points=\"4043,-1369.5 3927,-1369.5 3927,-1301.5 4043,-1301.5 4043,-1369.5\"/>\n<text text-anchor=\"middle\" x=\"3985\" y=\"-1354.3\" font-family=\"Helvetica,sans-Serif\" font-size=\"14.00\">entropy = 0.0</text>\n<text text-anchor=\"middle\" x=\"3985\" y=\"-1339.3\" font-family=\"Helvetica,sans-Serif\" font-size=\"14.00\">samples = 5</text>\n<text text-anchor=\"middle\" x=\"3985\" y=\"-1324.3\" font-family=\"Helvetica,sans-Serif\" font-size=\"14.00\">value = [0, 5]</text>\n<text text-anchor=\"middle\" x=\"3985\" y=\"-1309.3\" font-family=\"Helvetica,sans-Serif\" font-size=\"14.00\">class = Survived</text>\n</g>\n<!-- 271&#45;&gt;273 -->\n<g id=\"edge273\" class=\"edge\">\n<title>271-&gt;273</title>\n<path fill=\"none\" stroke=\"black\" d=\"M3985,-1412.91C3985,-1402.2 3985,-1390.62 3985,-1379.78\"/>\n<polygon fill=\"black\" stroke=\"black\" points=\"3988.5,-1379.67 3985,-1369.67 3981.5,-1379.67 3988.5,-1379.67\"/>\n</g>\n<!-- 275 -->\n<g id=\"node276\" class=\"node\">\n<title>275</title>\n<polygon fill=\"#399de5\" stroke=\"black\" points=\"4177,-1369.5 4061,-1369.5 4061,-1301.5 4177,-1301.5 4177,-1369.5\"/>\n<text text-anchor=\"middle\" x=\"4119\" y=\"-1354.3\" font-family=\"Helvetica,sans-Serif\" font-size=\"14.00\">entropy = 0.0</text>\n<text text-anchor=\"middle\" x=\"4119\" y=\"-1339.3\" font-family=\"Helvetica,sans-Serif\" font-size=\"14.00\">samples = 2</text>\n<text text-anchor=\"middle\" x=\"4119\" y=\"-1324.3\" font-family=\"Helvetica,sans-Serif\" font-size=\"14.00\">value = [0, 2]</text>\n<text text-anchor=\"middle\" x=\"4119\" y=\"-1309.3\" font-family=\"Helvetica,sans-Serif\" font-size=\"14.00\">class = Survived</text>\n</g>\n<!-- 274&#45;&gt;275 -->\n<g id=\"edge275\" class=\"edge\">\n<title>274-&gt;275</title>\n<path fill=\"none\" stroke=\"black\" d=\"M4118.35,-1412.91C4118.44,-1402.2 4118.54,-1390.62 4118.63,-1379.78\"/>\n<polygon fill=\"black\" stroke=\"black\" points=\"4122.13,-1379.7 4118.72,-1369.67 4115.13,-1379.64 4122.13,-1379.7\"/>\n</g>\n<!-- 276 -->\n<g id=\"node277\" class=\"node\">\n<title>276</title>\n<polygon fill=\"#e58139\" stroke=\"black\" points=\"4291,-1369.5 4195,-1369.5 4195,-1301.5 4291,-1301.5 4291,-1369.5\"/>\n<text text-anchor=\"middle\" x=\"4243\" y=\"-1354.3\" font-family=\"Helvetica,sans-Serif\" font-size=\"14.00\">entropy = 0.0</text>\n<text text-anchor=\"middle\" x=\"4243\" y=\"-1339.3\" font-family=\"Helvetica,sans-Serif\" font-size=\"14.00\">samples = 2</text>\n<text text-anchor=\"middle\" x=\"4243\" y=\"-1324.3\" font-family=\"Helvetica,sans-Serif\" font-size=\"14.00\">value = [2, 0]</text>\n<text text-anchor=\"middle\" x=\"4243\" y=\"-1309.3\" font-family=\"Helvetica,sans-Serif\" font-size=\"14.00\">class = Died</text>\n</g>\n<!-- 274&#45;&gt;276 -->\n<g id=\"edge276\" class=\"edge\">\n<title>274-&gt;276</title>\n<path fill=\"none\" stroke=\"black\" d=\"M4161.37,-1412.91C4173.86,-1401.21 4187.49,-1388.46 4199.97,-1376.78\"/>\n<polygon fill=\"black\" stroke=\"black\" points=\"4202.66,-1379.06 4207.57,-1369.67 4197.87,-1373.95 4202.66,-1379.06\"/>\n</g>\n<!-- 278 -->\n<g id=\"node279\" class=\"node\">\n<title>278</title>\n<polygon fill=\"#399de5\" stroke=\"black\" points=\"4307,-1488.5 4191,-1488.5 4191,-1420.5 4307,-1420.5 4307,-1488.5\"/>\n<text text-anchor=\"middle\" x=\"4249\" y=\"-1473.3\" font-family=\"Helvetica,sans-Serif\" font-size=\"14.00\">entropy = 0.0</text>\n<text text-anchor=\"middle\" x=\"4249\" y=\"-1458.3\" font-family=\"Helvetica,sans-Serif\" font-size=\"14.00\">samples = 24</text>\n<text text-anchor=\"middle\" x=\"4249\" y=\"-1443.3\" font-family=\"Helvetica,sans-Serif\" font-size=\"14.00\">value = [0, 24]</text>\n<text text-anchor=\"middle\" x=\"4249\" y=\"-1428.3\" font-family=\"Helvetica,sans-Serif\" font-size=\"14.00\">class = Survived</text>\n</g>\n<!-- 277&#45;&gt;278 -->\n<g id=\"edge278\" class=\"edge\">\n<title>277-&gt;278</title>\n<path fill=\"none\" stroke=\"black\" d=\"M4250.31,-1531.91C4250.12,-1521.2 4249.93,-1509.62 4249.74,-1498.78\"/>\n<polygon fill=\"black\" stroke=\"black\" points=\"4253.24,-1498.61 4249.57,-1488.67 4246.24,-1498.73 4253.24,-1498.61\"/>\n</g>\n<!-- 279 -->\n<g id=\"node280\" class=\"node\">\n<title>279</title>\n<polygon fill=\"#5eafea\" stroke=\"black\" points=\"4441,-1496 4325,-1496 4325,-1413 4441,-1413 4441,-1496\"/>\n<text text-anchor=\"middle\" x=\"4383\" y=\"-1480.8\" font-family=\"Helvetica,sans-Serif\" font-size=\"14.00\">Age &lt;= 39.0</text>\n<text text-anchor=\"middle\" x=\"4383\" y=\"-1465.8\" font-family=\"Helvetica,sans-Serif\" font-size=\"14.00\">entropy = 0.629</text>\n<text text-anchor=\"middle\" x=\"4383\" y=\"-1450.8\" font-family=\"Helvetica,sans-Serif\" font-size=\"14.00\">samples = 19</text>\n<text text-anchor=\"middle\" x=\"4383\" y=\"-1435.8\" font-family=\"Helvetica,sans-Serif\" font-size=\"14.00\">value = [3, 16]</text>\n<text text-anchor=\"middle\" x=\"4383\" y=\"-1420.8\" font-family=\"Helvetica,sans-Serif\" font-size=\"14.00\">class = Survived</text>\n</g>\n<!-- 277&#45;&gt;279 -->\n<g id=\"edge279\" class=\"edge\">\n<title>277-&gt;279</title>\n<path fill=\"none\" stroke=\"black\" d=\"M4296.8,-1531.91C4307.34,-1522.56 4318.65,-1512.54 4329.49,-1502.93\"/>\n<polygon fill=\"black\" stroke=\"black\" points=\"4332.12,-1505.27 4337.28,-1496.02 4327.48,-1500.03 4332.12,-1505.27\"/>\n</g>\n<!-- 280 -->\n<g id=\"node281\" class=\"node\">\n<title>280</title>\n<polygon fill=\"#e58139\" stroke=\"black\" points=\"4411,-1369.5 4315,-1369.5 4315,-1301.5 4411,-1301.5 4411,-1369.5\"/>\n<text text-anchor=\"middle\" x=\"4363\" y=\"-1354.3\" font-family=\"Helvetica,sans-Serif\" font-size=\"14.00\">entropy = 0.0</text>\n<text text-anchor=\"middle\" x=\"4363\" y=\"-1339.3\" font-family=\"Helvetica,sans-Serif\" font-size=\"14.00\">samples = 1</text>\n<text text-anchor=\"middle\" x=\"4363\" y=\"-1324.3\" font-family=\"Helvetica,sans-Serif\" font-size=\"14.00\">value = [1, 0]</text>\n<text text-anchor=\"middle\" x=\"4363\" y=\"-1309.3\" font-family=\"Helvetica,sans-Serif\" font-size=\"14.00\">class = Died</text>\n</g>\n<!-- 279&#45;&gt;280 -->\n<g id=\"edge280\" class=\"edge\">\n<title>279-&gt;280</title>\n<path fill=\"none\" stroke=\"black\" d=\"M4376.06,-1412.91C4374.23,-1402.2 4372.25,-1390.62 4370.4,-1379.78\"/>\n<polygon fill=\"black\" stroke=\"black\" points=\"4373.8,-1378.93 4368.67,-1369.67 4366.9,-1380.11 4373.8,-1378.93\"/>\n</g>\n<!-- 281 -->\n<g id=\"node282\" class=\"node\">\n<title>281</title>\n<polygon fill=\"#52a9e8\" stroke=\"black\" points=\"4545,-1377 4429,-1377 4429,-1294 4545,-1294 4545,-1377\"/>\n<text text-anchor=\"middle\" x=\"4487\" y=\"-1361.8\" font-family=\"Helvetica,sans-Serif\" font-size=\"14.00\">Age &lt;= 56.0</text>\n<text text-anchor=\"middle\" x=\"4487\" y=\"-1346.8\" font-family=\"Helvetica,sans-Serif\" font-size=\"14.00\">entropy = 0.503</text>\n<text text-anchor=\"middle\" x=\"4487\" y=\"-1331.8\" font-family=\"Helvetica,sans-Serif\" font-size=\"14.00\">samples = 18</text>\n<text text-anchor=\"middle\" x=\"4487\" y=\"-1316.8\" font-family=\"Helvetica,sans-Serif\" font-size=\"14.00\">value = [2, 16]</text>\n<text text-anchor=\"middle\" x=\"4487\" y=\"-1301.8\" font-family=\"Helvetica,sans-Serif\" font-size=\"14.00\">class = Survived</text>\n</g>\n<!-- 279&#45;&gt;281 -->\n<g id=\"edge281\" class=\"edge\">\n<title>279-&gt;281</title>\n<path fill=\"none\" stroke=\"black\" d=\"M4419.08,-1412.91C4427.15,-1403.83 4435.78,-1394.12 4444.09,-1384.77\"/>\n<polygon fill=\"black\" stroke=\"black\" points=\"4446.95,-1386.82 4450.98,-1377.02 4441.72,-1382.17 4446.95,-1386.82\"/>\n</g>\n<!-- 282 -->\n<g id=\"node283\" class=\"node\">\n<title>282</title>\n<polygon fill=\"#46a4e7\" stroke=\"black\" points=\"4422,-1258 4306,-1258 4306,-1175 4422,-1175 4422,-1258\"/>\n<text text-anchor=\"middle\" x=\"4364\" y=\"-1242.8\" font-family=\"Helvetica,sans-Serif\" font-size=\"14.00\">SibSp &lt;= 0.5</text>\n<text text-anchor=\"middle\" x=\"4364\" y=\"-1227.8\" font-family=\"Helvetica,sans-Serif\" font-size=\"14.00\">entropy = 0.337</text>\n<text text-anchor=\"middle\" x=\"4364\" y=\"-1212.8\" font-family=\"Helvetica,sans-Serif\" font-size=\"14.00\">samples = 16</text>\n<text text-anchor=\"middle\" x=\"4364\" y=\"-1197.8\" font-family=\"Helvetica,sans-Serif\" font-size=\"14.00\">value = [1, 15]</text>\n<text text-anchor=\"middle\" x=\"4364\" y=\"-1182.8\" font-family=\"Helvetica,sans-Serif\" font-size=\"14.00\">class = Survived</text>\n</g>\n<!-- 281&#45;&gt;282 -->\n<g id=\"edge282\" class=\"edge\">\n<title>281-&gt;282</title>\n<path fill=\"none\" stroke=\"black\" d=\"M4444.33,-1293.91C4434.5,-1284.56 4423.96,-1274.54 4413.86,-1264.93\"/>\n<polygon fill=\"black\" stroke=\"black\" points=\"4416.26,-1262.38 4406.6,-1258.02 4411.43,-1267.45 4416.26,-1262.38\"/>\n</g>\n<!-- 289 -->\n<g id=\"node290\" class=\"node\">\n<title>289</title>\n<polygon fill=\"#ffffff\" stroke=\"black\" points=\"4550,-1258 4440,-1258 4440,-1175 4550,-1175 4550,-1258\"/>\n<text text-anchor=\"middle\" x=\"4495\" y=\"-1242.8\" font-family=\"Helvetica,sans-Serif\" font-size=\"14.00\">Fare &lt;= 18.525</text>\n<text text-anchor=\"middle\" x=\"4495\" y=\"-1227.8\" font-family=\"Helvetica,sans-Serif\" font-size=\"14.00\">entropy = 1.0</text>\n<text text-anchor=\"middle\" x=\"4495\" y=\"-1212.8\" font-family=\"Helvetica,sans-Serif\" font-size=\"14.00\">samples = 2</text>\n<text text-anchor=\"middle\" x=\"4495\" y=\"-1197.8\" font-family=\"Helvetica,sans-Serif\" font-size=\"14.00\">value = [1, 1]</text>\n<text text-anchor=\"middle\" x=\"4495\" y=\"-1182.8\" font-family=\"Helvetica,sans-Serif\" font-size=\"14.00\">class = Died</text>\n</g>\n<!-- 281&#45;&gt;289 -->\n<g id=\"edge289\" class=\"edge\">\n<title>281-&gt;289</title>\n<path fill=\"none\" stroke=\"black\" d=\"M4489.78,-1293.91C4490.35,-1285.56 4490.95,-1276.67 4491.55,-1268.02\"/>\n<polygon fill=\"black\" stroke=\"black\" points=\"4495.04,-1268.24 4492.23,-1258.02 4488.06,-1267.76 4495.04,-1268.24\"/>\n</g>\n<!-- 283 -->\n<g id=\"node284\" class=\"node\">\n<title>283</title>\n<polygon fill=\"#399de5\" stroke=\"black\" points=\"4291,-1131.5 4175,-1131.5 4175,-1063.5 4291,-1063.5 4291,-1131.5\"/>\n<text text-anchor=\"middle\" x=\"4233\" y=\"-1116.3\" font-family=\"Helvetica,sans-Serif\" font-size=\"14.00\">entropy = 0.0</text>\n<text text-anchor=\"middle\" x=\"4233\" y=\"-1101.3\" font-family=\"Helvetica,sans-Serif\" font-size=\"14.00\">samples = 12</text>\n<text text-anchor=\"middle\" x=\"4233\" y=\"-1086.3\" font-family=\"Helvetica,sans-Serif\" font-size=\"14.00\">value = [0, 12]</text>\n<text text-anchor=\"middle\" x=\"4233\" y=\"-1071.3\" font-family=\"Helvetica,sans-Serif\" font-size=\"14.00\">class = Survived</text>\n</g>\n<!-- 282&#45;&gt;283 -->\n<g id=\"edge283\" class=\"edge\">\n<title>282-&gt;283</title>\n<path fill=\"none\" stroke=\"black\" d=\"M4318.55,-1174.91C4305.33,-1163.1 4290.9,-1150.22 4277.73,-1138.45\"/>\n<polygon fill=\"black\" stroke=\"black\" points=\"4279.93,-1135.72 4270.14,-1131.67 4275.26,-1140.94 4279.93,-1135.72\"/>\n</g>\n<!-- 284 -->\n<g id=\"node285\" class=\"node\">\n<title>284</title>\n<polygon fill=\"#7bbeee\" stroke=\"black\" points=\"4425,-1139 4309,-1139 4309,-1056 4425,-1056 4425,-1139\"/>\n<text text-anchor=\"middle\" x=\"4367\" y=\"-1123.8\" font-family=\"Helvetica,sans-Serif\" font-size=\"14.00\">Parch &lt;= 0.5</text>\n<text text-anchor=\"middle\" x=\"4367\" y=\"-1108.8\" font-family=\"Helvetica,sans-Serif\" font-size=\"14.00\">entropy = 0.811</text>\n<text text-anchor=\"middle\" x=\"4367\" y=\"-1093.8\" font-family=\"Helvetica,sans-Serif\" font-size=\"14.00\">samples = 4</text>\n<text text-anchor=\"middle\" x=\"4367\" y=\"-1078.8\" font-family=\"Helvetica,sans-Serif\" font-size=\"14.00\">value = [1, 3]</text>\n<text text-anchor=\"middle\" x=\"4367\" y=\"-1063.8\" font-family=\"Helvetica,sans-Serif\" font-size=\"14.00\">class = Survived</text>\n</g>\n<!-- 282&#45;&gt;284 -->\n<g id=\"edge284\" class=\"edge\">\n<title>282-&gt;284</title>\n<path fill=\"none\" stroke=\"black\" d=\"M4365.04,-1174.91C4365.25,-1166.56 4365.48,-1157.67 4365.7,-1149.02\"/>\n<polygon fill=\"black\" stroke=\"black\" points=\"4369.2,-1149.11 4365.96,-1139.02 4362.21,-1148.93 4369.2,-1149.11\"/>\n</g>\n<!-- 285 -->\n<g id=\"node286\" class=\"node\">\n<title>285</title>\n<polygon fill=\"#ffffff\" stroke=\"black\" points=\"4353,-1020 4257,-1020 4257,-937 4353,-937 4353,-1020\"/>\n<text text-anchor=\"middle\" x=\"4305\" y=\"-1004.8\" font-family=\"Helvetica,sans-Serif\" font-size=\"14.00\">Age &lt;= 43.0</text>\n<text text-anchor=\"middle\" x=\"4305\" y=\"-989.8\" font-family=\"Helvetica,sans-Serif\" font-size=\"14.00\">entropy = 1.0</text>\n<text text-anchor=\"middle\" x=\"4305\" y=\"-974.8\" font-family=\"Helvetica,sans-Serif\" font-size=\"14.00\">samples = 2</text>\n<text text-anchor=\"middle\" x=\"4305\" y=\"-959.8\" font-family=\"Helvetica,sans-Serif\" font-size=\"14.00\">value = [1, 1]</text>\n<text text-anchor=\"middle\" x=\"4305\" y=\"-944.8\" font-family=\"Helvetica,sans-Serif\" font-size=\"14.00\">class = Died</text>\n</g>\n<!-- 284&#45;&gt;285 -->\n<g id=\"edge285\" class=\"edge\">\n<title>284-&gt;285</title>\n<path fill=\"none\" stroke=\"black\" d=\"M4345.49,-1055.91C4340.87,-1047.2 4335.95,-1037.9 4331.17,-1028.89\"/>\n<polygon fill=\"black\" stroke=\"black\" points=\"4334.25,-1027.22 4326.47,-1020.02 4328.06,-1030.5 4334.25,-1027.22\"/>\n</g>\n<!-- 288 -->\n<g id=\"node289\" class=\"node\">\n<title>288</title>\n<polygon fill=\"#399de5\" stroke=\"black\" points=\"4487,-1012.5 4371,-1012.5 4371,-944.5 4487,-944.5 4487,-1012.5\"/>\n<text text-anchor=\"middle\" x=\"4429\" y=\"-997.3\" font-family=\"Helvetica,sans-Serif\" font-size=\"14.00\">entropy = 0.0</text>\n<text text-anchor=\"middle\" x=\"4429\" y=\"-982.3\" font-family=\"Helvetica,sans-Serif\" font-size=\"14.00\">samples = 2</text>\n<text text-anchor=\"middle\" x=\"4429\" y=\"-967.3\" font-family=\"Helvetica,sans-Serif\" font-size=\"14.00\">value = [0, 2]</text>\n<text text-anchor=\"middle\" x=\"4429\" y=\"-952.3\" font-family=\"Helvetica,sans-Serif\" font-size=\"14.00\">class = Survived</text>\n</g>\n<!-- 284&#45;&gt;288 -->\n<g id=\"edge288\" class=\"edge\">\n<title>284-&gt;288</title>\n<path fill=\"none\" stroke=\"black\" d=\"M4388.51,-1055.91C4394.36,-1044.87 4400.7,-1032.9 4406.6,-1021.77\"/>\n<polygon fill=\"black\" stroke=\"black\" points=\"4409.83,-1023.14 4411.42,-1012.67 4403.65,-1019.86 4409.83,-1023.14\"/>\n</g>\n<!-- 286 -->\n<g id=\"node287\" class=\"node\">\n<title>286</title>\n<polygon fill=\"#399de5\" stroke=\"black\" points=\"4285,-893.5 4169,-893.5 4169,-825.5 4285,-825.5 4285,-893.5\"/>\n<text text-anchor=\"middle\" x=\"4227\" y=\"-878.3\" font-family=\"Helvetica,sans-Serif\" font-size=\"14.00\">entropy = 0.0</text>\n<text text-anchor=\"middle\" x=\"4227\" y=\"-863.3\" font-family=\"Helvetica,sans-Serif\" font-size=\"14.00\">samples = 1</text>\n<text text-anchor=\"middle\" x=\"4227\" y=\"-848.3\" font-family=\"Helvetica,sans-Serif\" font-size=\"14.00\">value = [0, 1]</text>\n<text text-anchor=\"middle\" x=\"4227\" y=\"-833.3\" font-family=\"Helvetica,sans-Serif\" font-size=\"14.00\">class = Survived</text>\n</g>\n<!-- 285&#45;&gt;286 -->\n<g id=\"edge286\" class=\"edge\">\n<title>285-&gt;286</title>\n<path fill=\"none\" stroke=\"black\" d=\"M4277.94,-936.91C4270.43,-925.65 4262.28,-913.42 4254.74,-902.11\"/>\n<polygon fill=\"black\" stroke=\"black\" points=\"4257.57,-900.05 4249.11,-893.67 4251.75,-903.93 4257.57,-900.05\"/>\n</g>\n<!-- 287 -->\n<g id=\"node288\" class=\"node\">\n<title>287</title>\n<polygon fill=\"#e58139\" stroke=\"black\" points=\"4399,-893.5 4303,-893.5 4303,-825.5 4399,-825.5 4399,-893.5\"/>\n<text text-anchor=\"middle\" x=\"4351\" y=\"-878.3\" font-family=\"Helvetica,sans-Serif\" font-size=\"14.00\">entropy = 0.0</text>\n<text text-anchor=\"middle\" x=\"4351\" y=\"-863.3\" font-family=\"Helvetica,sans-Serif\" font-size=\"14.00\">samples = 1</text>\n<text text-anchor=\"middle\" x=\"4351\" y=\"-848.3\" font-family=\"Helvetica,sans-Serif\" font-size=\"14.00\">value = [1, 0]</text>\n<text text-anchor=\"middle\" x=\"4351\" y=\"-833.3\" font-family=\"Helvetica,sans-Serif\" font-size=\"14.00\">class = Died</text>\n</g>\n<!-- 285&#45;&gt;287 -->\n<g id=\"edge287\" class=\"edge\">\n<title>285-&gt;287</title>\n<path fill=\"none\" stroke=\"black\" d=\"M4320.96,-936.91C4325.25,-925.98 4329.91,-914.14 4334.25,-903.11\"/>\n<polygon fill=\"black\" stroke=\"black\" points=\"4337.56,-904.25 4337.96,-893.67 4331.04,-901.69 4337.56,-904.25\"/>\n</g>\n<!-- 290 -->\n<g id=\"node291\" class=\"node\">\n<title>290</title>\n<polygon fill=\"#e58139\" stroke=\"black\" points=\"4541,-1131.5 4445,-1131.5 4445,-1063.5 4541,-1063.5 4541,-1131.5\"/>\n<text text-anchor=\"middle\" x=\"4493\" y=\"-1116.3\" font-family=\"Helvetica,sans-Serif\" font-size=\"14.00\">entropy = 0.0</text>\n<text text-anchor=\"middle\" x=\"4493\" y=\"-1101.3\" font-family=\"Helvetica,sans-Serif\" font-size=\"14.00\">samples = 1</text>\n<text text-anchor=\"middle\" x=\"4493\" y=\"-1086.3\" font-family=\"Helvetica,sans-Serif\" font-size=\"14.00\">value = [1, 0]</text>\n<text text-anchor=\"middle\" x=\"4493\" y=\"-1071.3\" font-family=\"Helvetica,sans-Serif\" font-size=\"14.00\">class = Died</text>\n</g>\n<!-- 289&#45;&gt;290 -->\n<g id=\"edge290\" class=\"edge\">\n<title>289-&gt;290</title>\n<path fill=\"none\" stroke=\"black\" d=\"M4494.31,-1174.91C4494.12,-1164.2 4493.93,-1152.62 4493.74,-1141.78\"/>\n<polygon fill=\"black\" stroke=\"black\" points=\"4497.24,-1141.61 4493.57,-1131.67 4490.24,-1141.73 4497.24,-1141.61\"/>\n</g>\n<!-- 291 -->\n<g id=\"node292\" class=\"node\">\n<title>291</title>\n<polygon fill=\"#399de5\" stroke=\"black\" points=\"4675,-1131.5 4559,-1131.5 4559,-1063.5 4675,-1063.5 4675,-1131.5\"/>\n<text text-anchor=\"middle\" x=\"4617\" y=\"-1116.3\" font-family=\"Helvetica,sans-Serif\" font-size=\"14.00\">entropy = 0.0</text>\n<text text-anchor=\"middle\" x=\"4617\" y=\"-1101.3\" font-family=\"Helvetica,sans-Serif\" font-size=\"14.00\">samples = 1</text>\n<text text-anchor=\"middle\" x=\"4617\" y=\"-1086.3\" font-family=\"Helvetica,sans-Serif\" font-size=\"14.00\">value = [0, 1]</text>\n<text text-anchor=\"middle\" x=\"4617\" y=\"-1071.3\" font-family=\"Helvetica,sans-Serif\" font-size=\"14.00\">class = Survived</text>\n</g>\n<!-- 289&#45;&gt;291 -->\n<g id=\"edge291\" class=\"edge\">\n<title>289-&gt;291</title>\n<path fill=\"none\" stroke=\"black\" d=\"M4537.33,-1174.91C4549.52,-1163.21 4562.82,-1150.46 4575,-1138.78\"/>\n<polygon fill=\"black\" stroke=\"black\" points=\"4577.62,-1141.11 4582.42,-1131.67 4572.78,-1136.06 4577.62,-1141.11\"/>\n</g>\n<!-- 294 -->\n<g id=\"node295\" class=\"node\">\n<title>294</title>\n<polygon fill=\"#e58139\" stroke=\"black\" points=\"4447,-1845.5 4351,-1845.5 4351,-1777.5 4447,-1777.5 4447,-1845.5\"/>\n<text text-anchor=\"middle\" x=\"4399\" y=\"-1830.3\" font-family=\"Helvetica,sans-Serif\" font-size=\"14.00\">entropy = 0.0</text>\n<text text-anchor=\"middle\" x=\"4399\" y=\"-1815.3\" font-family=\"Helvetica,sans-Serif\" font-size=\"14.00\">samples = 1</text>\n<text text-anchor=\"middle\" x=\"4399\" y=\"-1800.3\" font-family=\"Helvetica,sans-Serif\" font-size=\"14.00\">value = [1, 0]</text>\n<text text-anchor=\"middle\" x=\"4399\" y=\"-1785.3\" font-family=\"Helvetica,sans-Serif\" font-size=\"14.00\">class = Died</text>\n</g>\n<!-- 293&#45;&gt;294 -->\n<g id=\"edge294\" class=\"edge\">\n<title>293-&gt;294</title>\n<path fill=\"none\" stroke=\"black\" d=\"M4402.92,-1888.91C4402.37,-1878.2 4401.78,-1866.62 4401.22,-1855.78\"/>\n<polygon fill=\"black\" stroke=\"black\" points=\"4404.71,-1855.47 4400.7,-1845.67 4397.72,-1855.83 4404.71,-1855.47\"/>\n</g>\n<!-- 295 -->\n<g id=\"node296\" class=\"node\">\n<title>295</title>\n<polygon fill=\"#3b9ee5\" stroke=\"black\" points=\"4581,-1853 4465,-1853 4465,-1770 4581,-1770 4581,-1853\"/>\n<text text-anchor=\"middle\" x=\"4523\" y=\"-1837.8\" font-family=\"Helvetica,sans-Serif\" font-size=\"14.00\">Parch &lt;= 1.5</text>\n<text text-anchor=\"middle\" x=\"4523\" y=\"-1822.8\" font-family=\"Helvetica,sans-Serif\" font-size=\"14.00\">entropy = 0.081</text>\n<text text-anchor=\"middle\" x=\"4523\" y=\"-1807.8\" font-family=\"Helvetica,sans-Serif\" font-size=\"14.00\">samples = 99</text>\n<text text-anchor=\"middle\" x=\"4523\" y=\"-1792.8\" font-family=\"Helvetica,sans-Serif\" font-size=\"14.00\">value = [1, 98]</text>\n<text text-anchor=\"middle\" x=\"4523\" y=\"-1777.8\" font-family=\"Helvetica,sans-Serif\" font-size=\"14.00\">class = Survived</text>\n</g>\n<!-- 293&#45;&gt;295 -->\n<g id=\"edge295\" class=\"edge\">\n<title>293-&gt;295</title>\n<path fill=\"none\" stroke=\"black\" d=\"M4445.94,-1888.91C4455.28,-1879.65 4465.28,-1869.73 4474.88,-1860.21\"/>\n<polygon fill=\"black\" stroke=\"black\" points=\"4477.5,-1862.55 4482.13,-1853.02 4472.57,-1857.58 4477.5,-1862.55\"/>\n</g>\n<!-- 296 -->\n<g id=\"node297\" class=\"node\">\n<title>296</title>\n<polygon fill=\"#399de5\" stroke=\"black\" points=\"4548,-1726.5 4432,-1726.5 4432,-1658.5 4548,-1658.5 4548,-1726.5\"/>\n<text text-anchor=\"middle\" x=\"4490\" y=\"-1711.3\" font-family=\"Helvetica,sans-Serif\" font-size=\"14.00\">entropy = 0.0</text>\n<text text-anchor=\"middle\" x=\"4490\" y=\"-1696.3\" font-family=\"Helvetica,sans-Serif\" font-size=\"14.00\">samples = 84</text>\n<text text-anchor=\"middle\" x=\"4490\" y=\"-1681.3\" font-family=\"Helvetica,sans-Serif\" font-size=\"14.00\">value = [0, 84]</text>\n<text text-anchor=\"middle\" x=\"4490\" y=\"-1666.3\" font-family=\"Helvetica,sans-Serif\" font-size=\"14.00\">class = Survived</text>\n</g>\n<!-- 295&#45;&gt;296 -->\n<g id=\"edge296\" class=\"edge\">\n<title>295-&gt;296</title>\n<path fill=\"none\" stroke=\"black\" d=\"M4511.55,-1769.91C4508.5,-1759.09 4505.2,-1747.38 4502.11,-1736.44\"/>\n<polygon fill=\"black\" stroke=\"black\" points=\"4505.44,-1735.34 4499.35,-1726.67 4498.7,-1737.24 4505.44,-1735.34\"/>\n</g>\n<!-- 297 -->\n<g id=\"node298\" class=\"node\">\n<title>297</title>\n<polygon fill=\"#47a4e7\" stroke=\"black\" points=\"4682,-1734 4566,-1734 4566,-1651 4682,-1651 4682,-1734\"/>\n<text text-anchor=\"middle\" x=\"4624\" y=\"-1718.8\" font-family=\"Helvetica,sans-Serif\" font-size=\"14.00\">Age &lt;= 24.5</text>\n<text text-anchor=\"middle\" x=\"4624\" y=\"-1703.8\" font-family=\"Helvetica,sans-Serif\" font-size=\"14.00\">entropy = 0.353</text>\n<text text-anchor=\"middle\" x=\"4624\" y=\"-1688.8\" font-family=\"Helvetica,sans-Serif\" font-size=\"14.00\">samples = 15</text>\n<text text-anchor=\"middle\" x=\"4624\" y=\"-1673.8\" font-family=\"Helvetica,sans-Serif\" font-size=\"14.00\">value = [1, 14]</text>\n<text text-anchor=\"middle\" x=\"4624\" y=\"-1658.8\" font-family=\"Helvetica,sans-Serif\" font-size=\"14.00\">class = Survived</text>\n</g>\n<!-- 295&#45;&gt;297 -->\n<g id=\"edge297\" class=\"edge\">\n<title>295-&gt;297</title>\n<path fill=\"none\" stroke=\"black\" d=\"M4558.04,-1769.91C4565.88,-1760.83 4574.26,-1751.12 4582.33,-1741.77\"/>\n<polygon fill=\"black\" stroke=\"black\" points=\"4585.14,-1743.88 4589.02,-1734.02 4579.84,-1739.3 4585.14,-1743.88\"/>\n</g>\n<!-- 298 -->\n<g id=\"node299\" class=\"node\">\n<title>298</title>\n<polygon fill=\"#399de5\" stroke=\"black\" points=\"4551,-1607.5 4435,-1607.5 4435,-1539.5 4551,-1539.5 4551,-1607.5\"/>\n<text text-anchor=\"middle\" x=\"4493\" y=\"-1592.3\" font-family=\"Helvetica,sans-Serif\" font-size=\"14.00\">entropy = 0.0</text>\n<text text-anchor=\"middle\" x=\"4493\" y=\"-1577.3\" font-family=\"Helvetica,sans-Serif\" font-size=\"14.00\">samples = 10</text>\n<text text-anchor=\"middle\" x=\"4493\" y=\"-1562.3\" font-family=\"Helvetica,sans-Serif\" font-size=\"14.00\">value = [0, 10]</text>\n<text text-anchor=\"middle\" x=\"4493\" y=\"-1547.3\" font-family=\"Helvetica,sans-Serif\" font-size=\"14.00\">class = Survived</text>\n</g>\n<!-- 297&#45;&gt;298 -->\n<g id=\"edge298\" class=\"edge\">\n<title>297-&gt;298</title>\n<path fill=\"none\" stroke=\"black\" d=\"M4578.55,-1650.91C4565.33,-1639.1 4550.9,-1626.22 4537.73,-1614.45\"/>\n<polygon fill=\"black\" stroke=\"black\" points=\"4539.93,-1611.72 4530.14,-1607.67 4535.26,-1616.94 4539.93,-1611.72\"/>\n</g>\n<!-- 299 -->\n<g id=\"node300\" class=\"node\">\n<title>299</title>\n<polygon fill=\"#6ab6ec\" stroke=\"black\" points=\"4685,-1615 4569,-1615 4569,-1532 4685,-1532 4685,-1615\"/>\n<text text-anchor=\"middle\" x=\"4627\" y=\"-1599.8\" font-family=\"Helvetica,sans-Serif\" font-size=\"14.00\">Age &lt;= 28.0</text>\n<text text-anchor=\"middle\" x=\"4627\" y=\"-1584.8\" font-family=\"Helvetica,sans-Serif\" font-size=\"14.00\">entropy = 0.722</text>\n<text text-anchor=\"middle\" x=\"4627\" y=\"-1569.8\" font-family=\"Helvetica,sans-Serif\" font-size=\"14.00\">samples = 5</text>\n<text text-anchor=\"middle\" x=\"4627\" y=\"-1554.8\" font-family=\"Helvetica,sans-Serif\" font-size=\"14.00\">value = [1, 4]</text>\n<text text-anchor=\"middle\" x=\"4627\" y=\"-1539.8\" font-family=\"Helvetica,sans-Serif\" font-size=\"14.00\">class = Survived</text>\n</g>\n<!-- 297&#45;&gt;299 -->\n<g id=\"edge299\" class=\"edge\">\n<title>297-&gt;299</title>\n<path fill=\"none\" stroke=\"black\" d=\"M4625.04,-1650.91C4625.25,-1642.56 4625.48,-1633.67 4625.7,-1625.02\"/>\n<polygon fill=\"black\" stroke=\"black\" points=\"4629.2,-1625.11 4625.96,-1615.02 4622.21,-1624.93 4629.2,-1625.11\"/>\n</g>\n<!-- 300 -->\n<g id=\"node301\" class=\"node\">\n<title>300</title>\n<polygon fill=\"#e58139\" stroke=\"black\" points=\"4555,-1488.5 4459,-1488.5 4459,-1420.5 4555,-1420.5 4555,-1488.5\"/>\n<text text-anchor=\"middle\" x=\"4507\" y=\"-1473.3\" font-family=\"Helvetica,sans-Serif\" font-size=\"14.00\">entropy = 0.0</text>\n<text text-anchor=\"middle\" x=\"4507\" y=\"-1458.3\" font-family=\"Helvetica,sans-Serif\" font-size=\"14.00\">samples = 1</text>\n<text text-anchor=\"middle\" x=\"4507\" y=\"-1443.3\" font-family=\"Helvetica,sans-Serif\" font-size=\"14.00\">value = [1, 0]</text>\n<text text-anchor=\"middle\" x=\"4507\" y=\"-1428.3\" font-family=\"Helvetica,sans-Serif\" font-size=\"14.00\">class = Died</text>\n</g>\n<!-- 299&#45;&gt;300 -->\n<g id=\"edge300\" class=\"edge\">\n<title>299-&gt;300</title>\n<path fill=\"none\" stroke=\"black\" d=\"M4585.37,-1531.91C4573.37,-1520.21 4560.29,-1507.46 4548.31,-1495.78\"/>\n<polygon fill=\"black\" stroke=\"black\" points=\"4550.62,-1493.14 4541.02,-1488.67 4545.73,-1498.15 4550.62,-1493.14\"/>\n</g>\n<!-- 301 -->\n<g id=\"node302\" class=\"node\">\n<title>301</title>\n<polygon fill=\"#399de5\" stroke=\"black\" points=\"4689,-1488.5 4573,-1488.5 4573,-1420.5 4689,-1420.5 4689,-1488.5\"/>\n<text text-anchor=\"middle\" x=\"4631\" y=\"-1473.3\" font-family=\"Helvetica,sans-Serif\" font-size=\"14.00\">entropy = 0.0</text>\n<text text-anchor=\"middle\" x=\"4631\" y=\"-1458.3\" font-family=\"Helvetica,sans-Serif\" font-size=\"14.00\">samples = 4</text>\n<text text-anchor=\"middle\" x=\"4631\" y=\"-1443.3\" font-family=\"Helvetica,sans-Serif\" font-size=\"14.00\">value = [0, 4]</text>\n<text text-anchor=\"middle\" x=\"4631\" y=\"-1428.3\" font-family=\"Helvetica,sans-Serif\" font-size=\"14.00\">class = Survived</text>\n</g>\n<!-- 299&#45;&gt;301 -->\n<g id=\"edge301\" class=\"edge\">\n<title>299-&gt;301</title>\n<path fill=\"none\" stroke=\"black\" d=\"M4628.39,-1531.91C4628.75,-1521.2 4629.15,-1509.62 4629.52,-1498.78\"/>\n<polygon fill=\"black\" stroke=\"black\" points=\"4633.02,-1498.78 4629.87,-1488.67 4626.03,-1498.54 4633.02,-1498.78\"/>\n</g>\n<!-- 303 -->\n<g id=\"node304\" class=\"node\">\n<title>303</title>\n<polygon fill=\"#c3e1f7\" stroke=\"black\" points=\"5381,-1972 5265,-1972 5265,-1889 5381,-1889 5381,-1972\"/>\n<text text-anchor=\"middle\" x=\"5323\" y=\"-1956.8\" font-family=\"Helvetica,sans-Serif\" font-size=\"14.00\">Age &lt;= 36.5</text>\n<text text-anchor=\"middle\" x=\"5323\" y=\"-1941.8\" font-family=\"Helvetica,sans-Serif\" font-size=\"14.00\">entropy = 0.977</text>\n<text text-anchor=\"middle\" x=\"5323\" y=\"-1926.8\" font-family=\"Helvetica,sans-Serif\" font-size=\"14.00\">samples = 117</text>\n<text text-anchor=\"middle\" x=\"5323\" y=\"-1911.8\" font-family=\"Helvetica,sans-Serif\" font-size=\"14.00\">value = [48, 69]</text>\n<text text-anchor=\"middle\" x=\"5323\" y=\"-1896.8\" font-family=\"Helvetica,sans-Serif\" font-size=\"14.00\">class = Survived</text>\n</g>\n<!-- 302&#45;&gt;303 -->\n<g id=\"edge303\" class=\"edge\">\n<title>302-&gt;303</title>\n<path fill=\"none\" stroke=\"black\" d=\"M5323,-2007.91C5323,-1999.65 5323,-1990.86 5323,-1982.3\"/>\n<polygon fill=\"black\" stroke=\"black\" points=\"5326.5,-1982.02 5323,-1972.02 5319.5,-1982.02 5326.5,-1982.02\"/>\n</g>\n<!-- 390 -->\n<g id=\"node391\" class=\"node\">\n<title>390</title>\n<polygon fill=\"#e89152\" stroke=\"black\" points=\"5582.5,-1972 5471.5,-1972 5471.5,-1889 5582.5,-1889 5582.5,-1972\"/>\n<text text-anchor=\"middle\" x=\"5527\" y=\"-1956.8\" font-family=\"Helvetica,sans-Serif\" font-size=\"14.00\">Parch &lt;= 0.5</text>\n<text text-anchor=\"middle\" x=\"5527\" y=\"-1941.8\" font-family=\"Helvetica,sans-Serif\" font-size=\"14.00\">entropy = 0.503</text>\n<text text-anchor=\"middle\" x=\"5527\" y=\"-1926.8\" font-family=\"Helvetica,sans-Serif\" font-size=\"14.00\">samples = 27</text>\n<text text-anchor=\"middle\" x=\"5527\" y=\"-1911.8\" font-family=\"Helvetica,sans-Serif\" font-size=\"14.00\">value = [24, 3]</text>\n<text text-anchor=\"middle\" x=\"5527\" y=\"-1896.8\" font-family=\"Helvetica,sans-Serif\" font-size=\"14.00\">class = Died</text>\n</g>\n<!-- 302&#45;&gt;390 -->\n<g id=\"edge390\" class=\"edge\">\n<title>302-&gt;390</title>\n<path fill=\"none\" stroke=\"black\" d=\"M5378.21,-2016.84C5404.18,-2001.94 5435.32,-1984.08 5462.39,-1968.56\"/>\n<polygon fill=\"black\" stroke=\"black\" points=\"5464.46,-1971.4 5471.4,-1963.39 5460.98,-1965.33 5464.46,-1971.4\"/>\n</g>\n<!-- 304 -->\n<g id=\"node305\" class=\"node\">\n<title>304</title>\n<polygon fill=\"#b3daf5\" stroke=\"black\" points=\"5321,-1853 5183,-1853 5183,-1770 5321,-1770 5321,-1853\"/>\n<text text-anchor=\"middle\" x=\"5252\" y=\"-1837.8\" font-family=\"Helvetica,sans-Serif\" font-size=\"14.00\">Embarked_S &lt;= 0.5</text>\n<text text-anchor=\"middle\" x=\"5252\" y=\"-1822.8\" font-family=\"Helvetica,sans-Serif\" font-size=\"14.00\">entropy = 0.959</text>\n<text text-anchor=\"middle\" x=\"5252\" y=\"-1807.8\" font-family=\"Helvetica,sans-Serif\" font-size=\"14.00\">samples = 110</text>\n<text text-anchor=\"middle\" x=\"5252\" y=\"-1792.8\" font-family=\"Helvetica,sans-Serif\" font-size=\"14.00\">value = [42, 68]</text>\n<text text-anchor=\"middle\" x=\"5252\" y=\"-1777.8\" font-family=\"Helvetica,sans-Serif\" font-size=\"14.00\">class = Survived</text>\n</g>\n<!-- 303&#45;&gt;304 -->\n<g id=\"edge304\" class=\"edge\">\n<title>303-&gt;304</title>\n<path fill=\"none\" stroke=\"black\" d=\"M5298.37,-1888.91C5293.03,-1880.1 5287.32,-1870.7 5281.8,-1861.61\"/>\n<polygon fill=\"black\" stroke=\"black\" points=\"5284.77,-1859.75 5276.59,-1853.02 5278.79,-1863.39 5284.77,-1859.75\"/>\n</g>\n<!-- 387 -->\n<g id=\"node388\" class=\"node\">\n<title>387</title>\n<polygon fill=\"#e9965a\" stroke=\"black\" points=\"5450.5,-1853 5339.5,-1853 5339.5,-1770 5450.5,-1770 5450.5,-1853\"/>\n<text text-anchor=\"middle\" x=\"5395\" y=\"-1837.8\" font-family=\"Helvetica,sans-Serif\" font-size=\"14.00\">Age &lt;= 55.0</text>\n<text text-anchor=\"middle\" x=\"5395\" y=\"-1822.8\" font-family=\"Helvetica,sans-Serif\" font-size=\"14.00\">entropy = 0.592</text>\n<text text-anchor=\"middle\" x=\"5395\" y=\"-1807.8\" font-family=\"Helvetica,sans-Serif\" font-size=\"14.00\">samples = 7</text>\n<text text-anchor=\"middle\" x=\"5395\" y=\"-1792.8\" font-family=\"Helvetica,sans-Serif\" font-size=\"14.00\">value = [6, 1]</text>\n<text text-anchor=\"middle\" x=\"5395\" y=\"-1777.8\" font-family=\"Helvetica,sans-Serif\" font-size=\"14.00\">class = Died</text>\n</g>\n<!-- 303&#45;&gt;387 -->\n<g id=\"edge387\" class=\"edge\">\n<title>303-&gt;387</title>\n<path fill=\"none\" stroke=\"black\" d=\"M5347.98,-1888.91C5353.4,-1880.1 5359.18,-1870.7 5364.78,-1861.61\"/>\n<polygon fill=\"black\" stroke=\"black\" points=\"5367.8,-1863.37 5370.06,-1853.02 5361.84,-1859.7 5367.8,-1863.37\"/>\n</g>\n<!-- 305 -->\n<g id=\"node306\" class=\"node\">\n<title>305</title>\n<polygon fill=\"#87c4ef\" stroke=\"black\" points=\"5195,-1734 5079,-1734 5079,-1651 5195,-1651 5195,-1734\"/>\n<text text-anchor=\"middle\" x=\"5137\" y=\"-1718.8\" font-family=\"Helvetica,sans-Serif\" font-size=\"14.00\">Fare &lt;= 15.621</text>\n<text text-anchor=\"middle\" x=\"5137\" y=\"-1703.8\" font-family=\"Helvetica,sans-Serif\" font-size=\"14.00\">entropy = 0.86</text>\n<text text-anchor=\"middle\" x=\"5137\" y=\"-1688.8\" font-family=\"Helvetica,sans-Serif\" font-size=\"14.00\">samples = 53</text>\n<text text-anchor=\"middle\" x=\"5137\" y=\"-1673.8\" font-family=\"Helvetica,sans-Serif\" font-size=\"14.00\">value = [15, 38]</text>\n<text text-anchor=\"middle\" x=\"5137\" y=\"-1658.8\" font-family=\"Helvetica,sans-Serif\" font-size=\"14.00\">class = Survived</text>\n</g>\n<!-- 304&#45;&gt;305 -->\n<g id=\"edge305\" class=\"edge\">\n<title>304-&gt;305</title>\n<path fill=\"none\" stroke=\"black\" d=\"M5212.1,-1769.91C5203,-1760.65 5193.25,-1750.73 5183.89,-1741.21\"/>\n<polygon fill=\"black\" stroke=\"black\" points=\"5186.33,-1738.7 5176.83,-1734.02 5181.34,-1743.61 5186.33,-1738.7\"/>\n</g>\n<!-- 342 -->\n<g id=\"node343\" class=\"node\">\n<title>342</title>\n<polygon fill=\"#ebf5fc\" stroke=\"black\" points=\"5329,-1734 5213,-1734 5213,-1651 5329,-1651 5329,-1734\"/>\n<text text-anchor=\"middle\" x=\"5271\" y=\"-1718.8\" font-family=\"Helvetica,sans-Serif\" font-size=\"14.00\">Age &lt;= 32.0</text>\n<text text-anchor=\"middle\" x=\"5271\" y=\"-1703.8\" font-family=\"Helvetica,sans-Serif\" font-size=\"14.00\">entropy = 0.998</text>\n<text text-anchor=\"middle\" x=\"5271\" y=\"-1688.8\" font-family=\"Helvetica,sans-Serif\" font-size=\"14.00\">samples = 57</text>\n<text text-anchor=\"middle\" x=\"5271\" y=\"-1673.8\" font-family=\"Helvetica,sans-Serif\" font-size=\"14.00\">value = [27, 30]</text>\n<text text-anchor=\"middle\" x=\"5271\" y=\"-1658.8\" font-family=\"Helvetica,sans-Serif\" font-size=\"14.00\">class = Survived</text>\n</g>\n<!-- 304&#45;&gt;342 -->\n<g id=\"edge342\" class=\"edge\">\n<title>304-&gt;342</title>\n<path fill=\"none\" stroke=\"black\" d=\"M5258.59,-1769.91C5259.95,-1761.56 5261.39,-1752.67 5262.8,-1744.02\"/>\n<polygon fill=\"black\" stroke=\"black\" points=\"5266.27,-1744.45 5264.42,-1734.02 5259.36,-1743.33 5266.27,-1744.45\"/>\n</g>\n<!-- 306 -->\n<g id=\"node307\" class=\"node\">\n<title>306</title>\n<polygon fill=\"#9ccef2\" stroke=\"black\" points=\"5063,-1615 4947,-1615 4947,-1532 5063,-1532 5063,-1615\"/>\n<text text-anchor=\"middle\" x=\"5005\" y=\"-1599.8\" font-family=\"Helvetica,sans-Serif\" font-size=\"14.00\">Fare &lt;= 13.935</text>\n<text text-anchor=\"middle\" x=\"5005\" y=\"-1584.8\" font-family=\"Helvetica,sans-Serif\" font-size=\"14.00\">entropy = 0.918</text>\n<text text-anchor=\"middle\" x=\"5005\" y=\"-1569.8\" font-family=\"Helvetica,sans-Serif\" font-size=\"14.00\">samples = 45</text>\n<text text-anchor=\"middle\" x=\"5005\" y=\"-1554.8\" font-family=\"Helvetica,sans-Serif\" font-size=\"14.00\">value = [15, 30]</text>\n<text text-anchor=\"middle\" x=\"5005\" y=\"-1539.8\" font-family=\"Helvetica,sans-Serif\" font-size=\"14.00\">class = Survived</text>\n</g>\n<!-- 305&#45;&gt;306 -->\n<g id=\"edge306\" class=\"edge\">\n<title>305-&gt;306</title>\n<path fill=\"none\" stroke=\"black\" d=\"M5091.2,-1650.91C5080.66,-1641.56 5069.35,-1631.54 5058.51,-1621.93\"/>\n<polygon fill=\"black\" stroke=\"black\" points=\"5060.52,-1619.03 5050.72,-1615.02 5055.88,-1624.27 5060.52,-1619.03\"/>\n</g>\n<!-- 341 -->\n<g id=\"node342\" class=\"node\">\n<title>341</title>\n<polygon fill=\"#399de5\" stroke=\"black\" points=\"5197,-1607.5 5081,-1607.5 5081,-1539.5 5197,-1539.5 5197,-1607.5\"/>\n<text text-anchor=\"middle\" x=\"5139\" y=\"-1592.3\" font-family=\"Helvetica,sans-Serif\" font-size=\"14.00\">entropy = 0.0</text>\n<text text-anchor=\"middle\" x=\"5139\" y=\"-1577.3\" font-family=\"Helvetica,sans-Serif\" font-size=\"14.00\">samples = 8</text>\n<text text-anchor=\"middle\" x=\"5139\" y=\"-1562.3\" font-family=\"Helvetica,sans-Serif\" font-size=\"14.00\">value = [0, 8]</text>\n<text text-anchor=\"middle\" x=\"5139\" y=\"-1547.3\" font-family=\"Helvetica,sans-Serif\" font-size=\"14.00\">class = Survived</text>\n</g>\n<!-- 305&#45;&gt;341 -->\n<g id=\"edge341\" class=\"edge\">\n<title>305-&gt;341</title>\n<path fill=\"none\" stroke=\"black\" d=\"M5137.69,-1650.91C5137.88,-1640.2 5138.07,-1628.62 5138.26,-1617.78\"/>\n<polygon fill=\"black\" stroke=\"black\" points=\"5141.76,-1617.73 5138.43,-1607.67 5134.76,-1617.61 5141.76,-1617.73\"/>\n</g>\n<!-- 307 -->\n<g id=\"node308\" class=\"node\">\n<title>307</title>\n<polygon fill=\"#70b8ec\" stroke=\"black\" points=\"4823,-1496 4707,-1496 4707,-1413 4823,-1413 4823,-1496\"/>\n<text text-anchor=\"middle\" x=\"4765\" y=\"-1480.8\" font-family=\"Helvetica,sans-Serif\" font-size=\"14.00\">Age &lt;= 17.0</text>\n<text text-anchor=\"middle\" x=\"4765\" y=\"-1465.8\" font-family=\"Helvetica,sans-Serif\" font-size=\"14.00\">entropy = 0.758</text>\n<text text-anchor=\"middle\" x=\"4765\" y=\"-1450.8\" font-family=\"Helvetica,sans-Serif\" font-size=\"14.00\">samples = 32</text>\n<text text-anchor=\"middle\" x=\"4765\" y=\"-1435.8\" font-family=\"Helvetica,sans-Serif\" font-size=\"14.00\">value = [7, 25]</text>\n<text text-anchor=\"middle\" x=\"4765\" y=\"-1420.8\" font-family=\"Helvetica,sans-Serif\" font-size=\"14.00\">class = Survived</text>\n</g>\n<!-- 306&#45;&gt;307 -->\n<g id=\"edge307\" class=\"edge\">\n<title>306-&gt;307</title>\n<path fill=\"none\" stroke=\"black\" d=\"M4946.9,-1544.18C4912.52,-1527.42 4868.8,-1506.1 4832.84,-1488.57\"/>\n<polygon fill=\"black\" stroke=\"black\" points=\"4833.92,-1485.2 4823.39,-1483.97 4830.85,-1491.5 4833.92,-1485.2\"/>\n</g>\n<!-- 330 -->\n<g id=\"node331\" class=\"node\">\n<title>330</title>\n<polygon fill=\"#f5d0b5\" stroke=\"black\" points=\"5075.5,-1496 4936.5,-1496 4936.5,-1413 5075.5,-1413 5075.5,-1496\"/>\n<text text-anchor=\"middle\" x=\"5006\" y=\"-1480.8\" font-family=\"Helvetica,sans-Serif\" font-size=\"14.00\">Embarked_C &lt;= 0.5</text>\n<text text-anchor=\"middle\" x=\"5006\" y=\"-1465.8\" font-family=\"Helvetica,sans-Serif\" font-size=\"14.00\">entropy = 0.961</text>\n<text text-anchor=\"middle\" x=\"5006\" y=\"-1450.8\" font-family=\"Helvetica,sans-Serif\" font-size=\"14.00\">samples = 13</text>\n<text text-anchor=\"middle\" x=\"5006\" y=\"-1435.8\" font-family=\"Helvetica,sans-Serif\" font-size=\"14.00\">value = [8, 5]</text>\n<text text-anchor=\"middle\" x=\"5006\" y=\"-1420.8\" font-family=\"Helvetica,sans-Serif\" font-size=\"14.00\">class = Died</text>\n</g>\n<!-- 306&#45;&gt;330 -->\n<g id=\"edge330\" class=\"edge\">\n<title>306-&gt;330</title>\n<path fill=\"none\" stroke=\"black\" d=\"M5005.35,-1531.91C5005.42,-1523.65 5005.49,-1514.86 5005.57,-1506.3\"/>\n<polygon fill=\"black\" stroke=\"black\" points=\"5009.07,-1506.05 5005.65,-1496.02 5002.07,-1505.99 5009.07,-1506.05\"/>\n</g>\n<!-- 308 -->\n<g id=\"node309\" class=\"node\">\n<title>308</title>\n<polygon fill=\"#399de5\" stroke=\"black\" points=\"4684,-1369.5 4568,-1369.5 4568,-1301.5 4684,-1301.5 4684,-1369.5\"/>\n<text text-anchor=\"middle\" x=\"4626\" y=\"-1354.3\" font-family=\"Helvetica,sans-Serif\" font-size=\"14.00\">entropy = 0.0</text>\n<text text-anchor=\"middle\" x=\"4626\" y=\"-1339.3\" font-family=\"Helvetica,sans-Serif\" font-size=\"14.00\">samples = 7</text>\n<text text-anchor=\"middle\" x=\"4626\" y=\"-1324.3\" font-family=\"Helvetica,sans-Serif\" font-size=\"14.00\">value = [0, 7]</text>\n<text text-anchor=\"middle\" x=\"4626\" y=\"-1309.3\" font-family=\"Helvetica,sans-Serif\" font-size=\"14.00\">class = Survived</text>\n</g>\n<!-- 307&#45;&gt;308 -->\n<g id=\"edge308\" class=\"edge\">\n<title>307-&gt;308</title>\n<path fill=\"none\" stroke=\"black\" d=\"M4716.77,-1412.91C4702.62,-1400.99 4687.15,-1387.98 4673.07,-1376.12\"/>\n<polygon fill=\"black\" stroke=\"black\" points=\"4675.31,-1373.43 4665.4,-1369.67 4670.8,-1378.78 4675.31,-1373.43\"/>\n</g>\n<!-- 309 -->\n<g id=\"node310\" class=\"node\">\n<title>309</title>\n<polygon fill=\"#86c3ef\" stroke=\"black\" points=\"4818,-1377 4702,-1377 4702,-1294 4818,-1294 4818,-1377\"/>\n<text text-anchor=\"middle\" x=\"4760\" y=\"-1361.8\" font-family=\"Helvetica,sans-Serif\" font-size=\"14.00\">Fare &lt;= 6.987</text>\n<text text-anchor=\"middle\" x=\"4760\" y=\"-1346.8\" font-family=\"Helvetica,sans-Serif\" font-size=\"14.00\">entropy = 0.855</text>\n<text text-anchor=\"middle\" x=\"4760\" y=\"-1331.8\" font-family=\"Helvetica,sans-Serif\" font-size=\"14.00\">samples = 25</text>\n<text text-anchor=\"middle\" x=\"4760\" y=\"-1316.8\" font-family=\"Helvetica,sans-Serif\" font-size=\"14.00\">value = [7, 18]</text>\n<text text-anchor=\"middle\" x=\"4760\" y=\"-1301.8\" font-family=\"Helvetica,sans-Serif\" font-size=\"14.00\">class = Survived</text>\n</g>\n<!-- 307&#45;&gt;309 -->\n<g id=\"edge309\" class=\"edge\">\n<title>307-&gt;309</title>\n<path fill=\"none\" stroke=\"black\" d=\"M4763.27,-1412.91C4762.91,-1404.56 4762.53,-1395.67 4762.16,-1387.02\"/>\n<polygon fill=\"black\" stroke=\"black\" points=\"4765.66,-1386.86 4761.73,-1377.02 4758.66,-1387.16 4765.66,-1386.86\"/>\n</g>\n<!-- 310 -->\n<g id=\"node311\" class=\"node\">\n<title>310</title>\n<polygon fill=\"#e58139\" stroke=\"black\" points=\"4682,-1250.5 4586,-1250.5 4586,-1182.5 4682,-1182.5 4682,-1250.5\"/>\n<text text-anchor=\"middle\" x=\"4634\" y=\"-1235.3\" font-family=\"Helvetica,sans-Serif\" font-size=\"14.00\">entropy = 0.0</text>\n<text text-anchor=\"middle\" x=\"4634\" y=\"-1220.3\" font-family=\"Helvetica,sans-Serif\" font-size=\"14.00\">samples = 1</text>\n<text text-anchor=\"middle\" x=\"4634\" y=\"-1205.3\" font-family=\"Helvetica,sans-Serif\" font-size=\"14.00\">value = [1, 0]</text>\n<text text-anchor=\"middle\" x=\"4634\" y=\"-1190.3\" font-family=\"Helvetica,sans-Serif\" font-size=\"14.00\">class = Died</text>\n</g>\n<!-- 309&#45;&gt;310 -->\n<g id=\"edge310\" class=\"edge\">\n<title>309-&gt;310</title>\n<path fill=\"none\" stroke=\"black\" d=\"M4716.28,-1293.91C4703.69,-1282.21 4689.95,-1269.46 4677.38,-1257.78\"/>\n<polygon fill=\"black\" stroke=\"black\" points=\"4679.43,-1254.91 4669.72,-1250.67 4674.66,-1260.04 4679.43,-1254.91\"/>\n</g>\n<!-- 311 -->\n<g id=\"node312\" class=\"node\">\n<title>311</title>\n<polygon fill=\"#7bbeee\" stroke=\"black\" points=\"4816,-1258 4700,-1258 4700,-1175 4816,-1175 4816,-1258\"/>\n<text text-anchor=\"middle\" x=\"4758\" y=\"-1242.8\" font-family=\"Helvetica,sans-Serif\" font-size=\"14.00\">Parch &lt;= 1.0</text>\n<text text-anchor=\"middle\" x=\"4758\" y=\"-1227.8\" font-family=\"Helvetica,sans-Serif\" font-size=\"14.00\">entropy = 0.811</text>\n<text text-anchor=\"middle\" x=\"4758\" y=\"-1212.8\" font-family=\"Helvetica,sans-Serif\" font-size=\"14.00\">samples = 24</text>\n<text text-anchor=\"middle\" x=\"4758\" y=\"-1197.8\" font-family=\"Helvetica,sans-Serif\" font-size=\"14.00\">value = [6, 18]</text>\n<text text-anchor=\"middle\" x=\"4758\" y=\"-1182.8\" font-family=\"Helvetica,sans-Serif\" font-size=\"14.00\">class = Survived</text>\n</g>\n<!-- 309&#45;&gt;311 -->\n<g id=\"edge311\" class=\"edge\">\n<title>309-&gt;311</title>\n<path fill=\"none\" stroke=\"black\" d=\"M4759.31,-1293.91C4759.16,-1285.56 4759.01,-1276.67 4758.86,-1268.02\"/>\n<polygon fill=\"black\" stroke=\"black\" points=\"4762.36,-1267.96 4758.69,-1258.02 4755.36,-1268.08 4762.36,-1267.96\"/>\n</g>\n<!-- 312 -->\n<g id=\"node313\" class=\"node\">\n<title>312</title>\n<polygon fill=\"#70b8ec\" stroke=\"black\" points=\"4812,-1139 4696,-1139 4696,-1056 4812,-1056 4812,-1139\"/>\n<text text-anchor=\"middle\" x=\"4754\" y=\"-1123.8\" font-family=\"Helvetica,sans-Serif\" font-size=\"14.00\">Fare &lt;= 8.008</text>\n<text text-anchor=\"middle\" x=\"4754\" y=\"-1108.8\" font-family=\"Helvetica,sans-Serif\" font-size=\"14.00\">entropy = 0.755</text>\n<text text-anchor=\"middle\" x=\"4754\" y=\"-1093.8\" font-family=\"Helvetica,sans-Serif\" font-size=\"14.00\">samples = 23</text>\n<text text-anchor=\"middle\" x=\"4754\" y=\"-1078.8\" font-family=\"Helvetica,sans-Serif\" font-size=\"14.00\">value = [5, 18]</text>\n<text text-anchor=\"middle\" x=\"4754\" y=\"-1063.8\" font-family=\"Helvetica,sans-Serif\" font-size=\"14.00\">class = Survived</text>\n</g>\n<!-- 311&#45;&gt;312 -->\n<g id=\"edge312\" class=\"edge\">\n<title>311-&gt;312</title>\n<path fill=\"none\" stroke=\"black\" d=\"M4756.61,-1174.91C4756.33,-1166.56 4756.02,-1157.67 4755.73,-1149.02\"/>\n<polygon fill=\"black\" stroke=\"black\" points=\"4759.23,-1148.9 4755.39,-1139.02 4752.23,-1149.13 4759.23,-1148.9\"/>\n</g>\n<!-- 329 -->\n<g id=\"node330\" class=\"node\">\n<title>329</title>\n<polygon fill=\"#e58139\" stroke=\"black\" points=\"4926,-1131.5 4830,-1131.5 4830,-1063.5 4926,-1063.5 4926,-1131.5\"/>\n<text text-anchor=\"middle\" x=\"4878\" y=\"-1116.3\" font-family=\"Helvetica,sans-Serif\" font-size=\"14.00\">entropy = 0.0</text>\n<text text-anchor=\"middle\" x=\"4878\" y=\"-1101.3\" font-family=\"Helvetica,sans-Serif\" font-size=\"14.00\">samples = 1</text>\n<text text-anchor=\"middle\" x=\"4878\" y=\"-1086.3\" font-family=\"Helvetica,sans-Serif\" font-size=\"14.00\">value = [1, 0]</text>\n<text text-anchor=\"middle\" x=\"4878\" y=\"-1071.3\" font-family=\"Helvetica,sans-Serif\" font-size=\"14.00\">class = Died</text>\n</g>\n<!-- 311&#45;&gt;329 -->\n<g id=\"edge329\" class=\"edge\">\n<title>311-&gt;329</title>\n<path fill=\"none\" stroke=\"black\" d=\"M4799.63,-1174.91C4811.63,-1163.21 4824.71,-1150.46 4836.69,-1138.78\"/>\n<polygon fill=\"black\" stroke=\"black\" points=\"4839.27,-1141.15 4843.98,-1131.67 4834.38,-1136.14 4839.27,-1141.15\"/>\n</g>\n<!-- 313 -->\n<g id=\"node314\" class=\"node\">\n<title>313</title>\n<polygon fill=\"#65b3eb\" stroke=\"black\" points=\"4706,-1020 4590,-1020 4590,-937 4706,-937 4706,-1020\"/>\n<text text-anchor=\"middle\" x=\"4648\" y=\"-1004.8\" font-family=\"Helvetica,sans-Serif\" font-size=\"14.00\">Age &lt;= 29.25</text>\n<text text-anchor=\"middle\" x=\"4648\" y=\"-989.8\" font-family=\"Helvetica,sans-Serif\" font-size=\"14.00\">entropy = 0.684</text>\n<text text-anchor=\"middle\" x=\"4648\" y=\"-974.8\" font-family=\"Helvetica,sans-Serif\" font-size=\"14.00\">samples = 22</text>\n<text text-anchor=\"middle\" x=\"4648\" y=\"-959.8\" font-family=\"Helvetica,sans-Serif\" font-size=\"14.00\">value = [4, 18]</text>\n<text text-anchor=\"middle\" x=\"4648\" y=\"-944.8\" font-family=\"Helvetica,sans-Serif\" font-size=\"14.00\">class = Survived</text>\n</g>\n<!-- 312&#45;&gt;313 -->\n<g id=\"edge313\" class=\"edge\">\n<title>312-&gt;313</title>\n<path fill=\"none\" stroke=\"black\" d=\"M4717.22,-1055.91C4708.92,-1046.74 4700.03,-1036.93 4691.48,-1027.49\"/>\n<polygon fill=\"black\" stroke=\"black\" points=\"4694.02,-1025.08 4684.71,-1020.02 4688.83,-1029.78 4694.02,-1025.08\"/>\n</g>\n<!-- 328 -->\n<g id=\"node329\" class=\"node\">\n<title>328</title>\n<polygon fill=\"#e58139\" stroke=\"black\" points=\"4820,-1012.5 4724,-1012.5 4724,-944.5 4820,-944.5 4820,-1012.5\"/>\n<text text-anchor=\"middle\" x=\"4772\" y=\"-997.3\" font-family=\"Helvetica,sans-Serif\" font-size=\"14.00\">entropy = 0.0</text>\n<text text-anchor=\"middle\" x=\"4772\" y=\"-982.3\" font-family=\"Helvetica,sans-Serif\" font-size=\"14.00\">samples = 1</text>\n<text text-anchor=\"middle\" x=\"4772\" y=\"-967.3\" font-family=\"Helvetica,sans-Serif\" font-size=\"14.00\">value = [1, 0]</text>\n<text text-anchor=\"middle\" x=\"4772\" y=\"-952.3\" font-family=\"Helvetica,sans-Serif\" font-size=\"14.00\">class = Died</text>\n</g>\n<!-- 312&#45;&gt;328 -->\n<g id=\"edge328\" class=\"edge\">\n<title>312-&gt;328</title>\n<path fill=\"none\" stroke=\"black\" d=\"M4760.25,-1055.91C4761.89,-1045.2 4763.67,-1033.62 4765.34,-1022.78\"/>\n<polygon fill=\"black\" stroke=\"black\" points=\"4768.84,-1023.08 4766.9,-1012.67 4761.92,-1022.02 4768.84,-1023.08\"/>\n</g>\n<!-- 314 -->\n<g id=\"node315\" class=\"node\">\n<title>314</title>\n<polygon fill=\"#5aade9\" stroke=\"black\" points=\"4598,-901 4482,-901 4482,-818 4598,-818 4598,-901\"/>\n<text text-anchor=\"middle\" x=\"4540\" y=\"-885.8\" font-family=\"Helvetica,sans-Serif\" font-size=\"14.00\">Fare &lt;= 7.769</text>\n<text text-anchor=\"middle\" x=\"4540\" y=\"-870.8\" font-family=\"Helvetica,sans-Serif\" font-size=\"14.00\">entropy = 0.592</text>\n<text text-anchor=\"middle\" x=\"4540\" y=\"-855.8\" font-family=\"Helvetica,sans-Serif\" font-size=\"14.00\">samples = 21</text>\n<text text-anchor=\"middle\" x=\"4540\" y=\"-840.8\" font-family=\"Helvetica,sans-Serif\" font-size=\"14.00\">value = [3, 18]</text>\n<text text-anchor=\"middle\" x=\"4540\" y=\"-825.8\" font-family=\"Helvetica,sans-Serif\" font-size=\"14.00\">class = Survived</text>\n</g>\n<!-- 313&#45;&gt;314 -->\n<g id=\"edge314\" class=\"edge\">\n<title>313-&gt;314</title>\n<path fill=\"none\" stroke=\"black\" d=\"M4610.53,-936.91C4602.07,-927.74 4593.01,-917.93 4584.3,-908.49\"/>\n<polygon fill=\"black\" stroke=\"black\" points=\"4586.76,-905.99 4577.4,-901.02 4581.61,-910.74 4586.76,-905.99\"/>\n</g>\n<!-- 327 -->\n<g id=\"node328\" class=\"node\">\n<title>327</title>\n<polygon fill=\"#e58139\" stroke=\"black\" points=\"4712,-893.5 4616,-893.5 4616,-825.5 4712,-825.5 4712,-893.5\"/>\n<text text-anchor=\"middle\" x=\"4664\" y=\"-878.3\" font-family=\"Helvetica,sans-Serif\" font-size=\"14.00\">entropy = 0.0</text>\n<text text-anchor=\"middle\" x=\"4664\" y=\"-863.3\" font-family=\"Helvetica,sans-Serif\" font-size=\"14.00\">samples = 1</text>\n<text text-anchor=\"middle\" x=\"4664\" y=\"-848.3\" font-family=\"Helvetica,sans-Serif\" font-size=\"14.00\">value = [1, 0]</text>\n<text text-anchor=\"middle\" x=\"4664\" y=\"-833.3\" font-family=\"Helvetica,sans-Serif\" font-size=\"14.00\">class = Died</text>\n</g>\n<!-- 313&#45;&gt;327 -->\n<g id=\"edge327\" class=\"edge\">\n<title>313-&gt;327</title>\n<path fill=\"none\" stroke=\"black\" d=\"M4653.55,-936.91C4655.01,-926.2 4656.6,-914.62 4658.08,-903.78\"/>\n<polygon fill=\"black\" stroke=\"black\" points=\"4661.58,-904.05 4659.46,-893.67 4654.64,-903.1 4661.58,-904.05\"/>\n</g>\n<!-- 315 -->\n<g id=\"node316\" class=\"node\">\n<title>315</title>\n<polygon fill=\"#6ab6ec\" stroke=\"black\" points=\"4472,-782 4356,-782 4356,-699 4472,-699 4472,-782\"/>\n<text text-anchor=\"middle\" x=\"4414\" y=\"-766.8\" font-family=\"Helvetica,sans-Serif\" font-size=\"14.00\">Age &lt;= 21.5</text>\n<text text-anchor=\"middle\" x=\"4414\" y=\"-751.8\" font-family=\"Helvetica,sans-Serif\" font-size=\"14.00\">entropy = 0.722</text>\n<text text-anchor=\"middle\" x=\"4414\" y=\"-736.8\" font-family=\"Helvetica,sans-Serif\" font-size=\"14.00\">samples = 15</text>\n<text text-anchor=\"middle\" x=\"4414\" y=\"-721.8\" font-family=\"Helvetica,sans-Serif\" font-size=\"14.00\">value = [3, 12]</text>\n<text text-anchor=\"middle\" x=\"4414\" y=\"-706.8\" font-family=\"Helvetica,sans-Serif\" font-size=\"14.00\">class = Survived</text>\n</g>\n<!-- 314&#45;&gt;315 -->\n<g id=\"edge315\" class=\"edge\">\n<title>314-&gt;315</title>\n<path fill=\"none\" stroke=\"black\" d=\"M4496.28,-817.91C4486.22,-808.56 4475.43,-798.54 4465.08,-788.93\"/>\n<polygon fill=\"black\" stroke=\"black\" points=\"4467.35,-786.26 4457.64,-782.02 4462.58,-791.39 4467.35,-786.26\"/>\n</g>\n<!-- 326 -->\n<g id=\"node327\" class=\"node\">\n<title>326</title>\n<polygon fill=\"#399de5\" stroke=\"black\" points=\"4606,-774.5 4490,-774.5 4490,-706.5 4606,-706.5 4606,-774.5\"/>\n<text text-anchor=\"middle\" x=\"4548\" y=\"-759.3\" font-family=\"Helvetica,sans-Serif\" font-size=\"14.00\">entropy = 0.0</text>\n<text text-anchor=\"middle\" x=\"4548\" y=\"-744.3\" font-family=\"Helvetica,sans-Serif\" font-size=\"14.00\">samples = 6</text>\n<text text-anchor=\"middle\" x=\"4548\" y=\"-729.3\" font-family=\"Helvetica,sans-Serif\" font-size=\"14.00\">value = [0, 6]</text>\n<text text-anchor=\"middle\" x=\"4548\" y=\"-714.3\" font-family=\"Helvetica,sans-Serif\" font-size=\"14.00\">class = Survived</text>\n</g>\n<!-- 314&#45;&gt;326 -->\n<g id=\"edge326\" class=\"edge\">\n<title>314-&gt;326</title>\n<path fill=\"none\" stroke=\"black\" d=\"M4542.78,-817.91C4543.51,-807.2 4544.3,-795.62 4545.04,-784.78\"/>\n<polygon fill=\"black\" stroke=\"black\" points=\"4548.54,-784.88 4545.73,-774.67 4541.56,-784.4 4548.54,-784.88\"/>\n</g>\n<!-- 316 -->\n<g id=\"node317\" class=\"node\">\n<title>316</title>\n<polygon fill=\"#e58139\" stroke=\"black\" points=\"4400,-655.5 4304,-655.5 4304,-587.5 4400,-587.5 4400,-655.5\"/>\n<text text-anchor=\"middle\" x=\"4352\" y=\"-640.3\" font-family=\"Helvetica,sans-Serif\" font-size=\"14.00\">entropy = 0.0</text>\n<text text-anchor=\"middle\" x=\"4352\" y=\"-625.3\" font-family=\"Helvetica,sans-Serif\" font-size=\"14.00\">samples = 1</text>\n<text text-anchor=\"middle\" x=\"4352\" y=\"-610.3\" font-family=\"Helvetica,sans-Serif\" font-size=\"14.00\">value = [1, 0]</text>\n<text text-anchor=\"middle\" x=\"4352\" y=\"-595.3\" font-family=\"Helvetica,sans-Serif\" font-size=\"14.00\">class = Died</text>\n</g>\n<!-- 315&#45;&gt;316 -->\n<g id=\"edge316\" class=\"edge\">\n<title>315-&gt;316</title>\n<path fill=\"none\" stroke=\"black\" d=\"M4392.49,-698.91C4386.64,-687.87 4380.3,-675.9 4374.4,-664.77\"/>\n<polygon fill=\"black\" stroke=\"black\" points=\"4377.35,-662.86 4369.58,-655.67 4371.17,-666.14 4377.35,-662.86\"/>\n</g>\n<!-- 317 -->\n<g id=\"node318\" class=\"node\">\n<title>317</title>\n<polygon fill=\"#5aade9\" stroke=\"black\" points=\"4534,-663 4418,-663 4418,-580 4534,-580 4534,-663\"/>\n<text text-anchor=\"middle\" x=\"4476\" y=\"-647.8\" font-family=\"Helvetica,sans-Serif\" font-size=\"14.00\">Fare &lt;= 7.681</text>\n<text text-anchor=\"middle\" x=\"4476\" y=\"-632.8\" font-family=\"Helvetica,sans-Serif\" font-size=\"14.00\">entropy = 0.592</text>\n<text text-anchor=\"middle\" x=\"4476\" y=\"-617.8\" font-family=\"Helvetica,sans-Serif\" font-size=\"14.00\">samples = 14</text>\n<text text-anchor=\"middle\" x=\"4476\" y=\"-602.8\" font-family=\"Helvetica,sans-Serif\" font-size=\"14.00\">value = [2, 12]</text>\n<text text-anchor=\"middle\" x=\"4476\" y=\"-587.8\" font-family=\"Helvetica,sans-Serif\" font-size=\"14.00\">class = Survived</text>\n</g>\n<!-- 315&#45;&gt;317 -->\n<g id=\"edge317\" class=\"edge\">\n<title>315-&gt;317</title>\n<path fill=\"none\" stroke=\"black\" d=\"M4435.51,-698.91C4440.13,-690.2 4445.05,-680.9 4449.83,-671.89\"/>\n<polygon fill=\"black\" stroke=\"black\" points=\"4452.94,-673.5 4454.53,-663.02 4446.75,-670.22 4452.94,-673.5\"/>\n</g>\n<!-- 318 -->\n<g id=\"node319\" class=\"node\">\n<title>318</title>\n<polygon fill=\"#9ccef2\" stroke=\"black\" points=\"4475,-544 4335,-544 4335,-461 4475,-461 4475,-544\"/>\n<text text-anchor=\"middle\" x=\"4405\" y=\"-528.8\" font-family=\"Helvetica,sans-Serif\" font-size=\"14.00\">Embarked_Q &lt;= 0.5</text>\n<text text-anchor=\"middle\" x=\"4405\" y=\"-513.8\" font-family=\"Helvetica,sans-Serif\" font-size=\"14.00\">entropy = 0.918</text>\n<text text-anchor=\"middle\" x=\"4405\" y=\"-498.8\" font-family=\"Helvetica,sans-Serif\" font-size=\"14.00\">samples = 3</text>\n<text text-anchor=\"middle\" x=\"4405\" y=\"-483.8\" font-family=\"Helvetica,sans-Serif\" font-size=\"14.00\">value = [1, 2]</text>\n<text text-anchor=\"middle\" x=\"4405\" y=\"-468.8\" font-family=\"Helvetica,sans-Serif\" font-size=\"14.00\">class = Survived</text>\n</g>\n<!-- 317&#45;&gt;318 -->\n<g id=\"edge318\" class=\"edge\">\n<title>317-&gt;318</title>\n<path fill=\"none\" stroke=\"black\" d=\"M4451.37,-579.91C4446.03,-571.1 4440.32,-561.7 4434.8,-552.61\"/>\n<polygon fill=\"black\" stroke=\"black\" points=\"4437.77,-550.75 4429.59,-544.02 4431.79,-554.39 4437.77,-550.75\"/>\n</g>\n<!-- 321 -->\n<g id=\"node322\" class=\"node\">\n<title>321</title>\n<polygon fill=\"#4da7e8\" stroke=\"black\" points=\"4609,-544 4493,-544 4493,-461 4609,-461 4609,-544\"/>\n<text text-anchor=\"middle\" x=\"4551\" y=\"-528.8\" font-family=\"Helvetica,sans-Serif\" font-size=\"14.00\">Fare &lt;= 7.744</text>\n<text text-anchor=\"middle\" x=\"4551\" y=\"-513.8\" font-family=\"Helvetica,sans-Serif\" font-size=\"14.00\">entropy = 0.439</text>\n<text text-anchor=\"middle\" x=\"4551\" y=\"-498.8\" font-family=\"Helvetica,sans-Serif\" font-size=\"14.00\">samples = 11</text>\n<text text-anchor=\"middle\" x=\"4551\" y=\"-483.8\" font-family=\"Helvetica,sans-Serif\" font-size=\"14.00\">value = [1, 10]</text>\n<text text-anchor=\"middle\" x=\"4551\" y=\"-468.8\" font-family=\"Helvetica,sans-Serif\" font-size=\"14.00\">class = Survived</text>\n</g>\n<!-- 317&#45;&gt;321 -->\n<g id=\"edge321\" class=\"edge\">\n<title>317-&gt;321</title>\n<path fill=\"none\" stroke=\"black\" d=\"M4502.02,-579.91C4507.66,-571.1 4513.69,-561.7 4519.52,-552.61\"/>\n<polygon fill=\"black\" stroke=\"black\" points=\"4522.57,-554.33 4525.03,-544.02 4516.68,-550.55 4522.57,-554.33\"/>\n</g>\n<!-- 319 -->\n<g id=\"node320\" class=\"node\">\n<title>319</title>\n<polygon fill=\"#399de5\" stroke=\"black\" points=\"4345,-417.5 4229,-417.5 4229,-349.5 4345,-349.5 4345,-417.5\"/>\n<text text-anchor=\"middle\" x=\"4287\" y=\"-402.3\" font-family=\"Helvetica,sans-Serif\" font-size=\"14.00\">entropy = 0.0</text>\n<text text-anchor=\"middle\" x=\"4287\" y=\"-387.3\" font-family=\"Helvetica,sans-Serif\" font-size=\"14.00\">samples = 2</text>\n<text text-anchor=\"middle\" x=\"4287\" y=\"-372.3\" font-family=\"Helvetica,sans-Serif\" font-size=\"14.00\">value = [0, 2]</text>\n<text text-anchor=\"middle\" x=\"4287\" y=\"-357.3\" font-family=\"Helvetica,sans-Serif\" font-size=\"14.00\">class = Survived</text>\n</g>\n<!-- 318&#45;&gt;319 -->\n<g id=\"edge319\" class=\"edge\">\n<title>318-&gt;319</title>\n<path fill=\"none\" stroke=\"black\" d=\"M4364.06,-460.91C4352.26,-449.21 4339.4,-436.46 4327.62,-424.78\"/>\n<polygon fill=\"black\" stroke=\"black\" points=\"4330.02,-422.22 4320.45,-417.67 4325.09,-427.19 4330.02,-422.22\"/>\n</g>\n<!-- 320 -->\n<g id=\"node321\" class=\"node\">\n<title>320</title>\n<polygon fill=\"#e58139\" stroke=\"black\" points=\"4459,-417.5 4363,-417.5 4363,-349.5 4459,-349.5 4459,-417.5\"/>\n<text text-anchor=\"middle\" x=\"4411\" y=\"-402.3\" font-family=\"Helvetica,sans-Serif\" font-size=\"14.00\">entropy = 0.0</text>\n<text text-anchor=\"middle\" x=\"4411\" y=\"-387.3\" font-family=\"Helvetica,sans-Serif\" font-size=\"14.00\">samples = 1</text>\n<text text-anchor=\"middle\" x=\"4411\" y=\"-372.3\" font-family=\"Helvetica,sans-Serif\" font-size=\"14.00\">value = [1, 0]</text>\n<text text-anchor=\"middle\" x=\"4411\" y=\"-357.3\" font-family=\"Helvetica,sans-Serif\" font-size=\"14.00\">class = Died</text>\n</g>\n<!-- 318&#45;&gt;320 -->\n<g id=\"edge320\" class=\"edge\">\n<title>318-&gt;320</title>\n<path fill=\"none\" stroke=\"black\" d=\"M4407.08,-460.91C4407.63,-450.2 4408.22,-438.62 4408.78,-427.78\"/>\n<polygon fill=\"black\" stroke=\"black\" points=\"4412.28,-427.83 4409.3,-417.67 4405.29,-427.47 4412.28,-427.83\"/>\n</g>\n<!-- 322 -->\n<g id=\"node323\" class=\"node\">\n<title>322</title>\n<polygon fill=\"#399de5\" stroke=\"black\" points=\"4603,-417.5 4487,-417.5 4487,-349.5 4603,-349.5 4603,-417.5\"/>\n<text text-anchor=\"middle\" x=\"4545\" y=\"-402.3\" font-family=\"Helvetica,sans-Serif\" font-size=\"14.00\">entropy = 0.0</text>\n<text text-anchor=\"middle\" x=\"4545\" y=\"-387.3\" font-family=\"Helvetica,sans-Serif\" font-size=\"14.00\">samples = 2</text>\n<text text-anchor=\"middle\" x=\"4545\" y=\"-372.3\" font-family=\"Helvetica,sans-Serif\" font-size=\"14.00\">value = [0, 2]</text>\n<text text-anchor=\"middle\" x=\"4545\" y=\"-357.3\" font-family=\"Helvetica,sans-Serif\" font-size=\"14.00\">class = Survived</text>\n</g>\n<!-- 321&#45;&gt;322 -->\n<g id=\"edge322\" class=\"edge\">\n<title>321-&gt;322</title>\n<path fill=\"none\" stroke=\"black\" d=\"M4548.92,-460.91C4548.37,-450.2 4547.78,-438.62 4547.22,-427.78\"/>\n<polygon fill=\"black\" stroke=\"black\" points=\"4550.71,-427.47 4546.7,-417.67 4543.72,-427.83 4550.71,-427.47\"/>\n</g>\n<!-- 323 -->\n<g id=\"node324\" class=\"node\">\n<title>323</title>\n<polygon fill=\"#52a9e8\" stroke=\"black\" points=\"4737,-425 4621,-425 4621,-342 4737,-342 4737,-425\"/>\n<text text-anchor=\"middle\" x=\"4679\" y=\"-409.8\" font-family=\"Helvetica,sans-Serif\" font-size=\"14.00\">Age &lt;= 25.0</text>\n<text text-anchor=\"middle\" x=\"4679\" y=\"-394.8\" font-family=\"Helvetica,sans-Serif\" font-size=\"14.00\">entropy = 0.503</text>\n<text text-anchor=\"middle\" x=\"4679\" y=\"-379.8\" font-family=\"Helvetica,sans-Serif\" font-size=\"14.00\">samples = 9</text>\n<text text-anchor=\"middle\" x=\"4679\" y=\"-364.8\" font-family=\"Helvetica,sans-Serif\" font-size=\"14.00\">value = [1, 8]</text>\n<text text-anchor=\"middle\" x=\"4679\" y=\"-349.8\" font-family=\"Helvetica,sans-Serif\" font-size=\"14.00\">class = Survived</text>\n</g>\n<!-- 321&#45;&gt;323 -->\n<g id=\"edge323\" class=\"edge\">\n<title>321-&gt;323</title>\n<path fill=\"none\" stroke=\"black\" d=\"M4595.41,-460.91C4605.64,-451.56 4616.6,-441.54 4627.11,-431.93\"/>\n<polygon fill=\"black\" stroke=\"black\" points=\"4629.65,-434.35 4634.67,-425.02 4624.93,-429.18 4629.65,-434.35\"/>\n</g>\n<!-- 324 -->\n<g id=\"node325\" class=\"node\">\n<title>324</title>\n<polygon fill=\"#399de5\" stroke=\"black\" points=\"4621,-298.5 4505,-298.5 4505,-230.5 4621,-230.5 4621,-298.5\"/>\n<text text-anchor=\"middle\" x=\"4563\" y=\"-283.3\" font-family=\"Helvetica,sans-Serif\" font-size=\"14.00\">entropy = 0.0</text>\n<text text-anchor=\"middle\" x=\"4563\" y=\"-268.3\" font-family=\"Helvetica,sans-Serif\" font-size=\"14.00\">samples = 1</text>\n<text text-anchor=\"middle\" x=\"4563\" y=\"-253.3\" font-family=\"Helvetica,sans-Serif\" font-size=\"14.00\">value = [0, 1]</text>\n<text text-anchor=\"middle\" x=\"4563\" y=\"-238.3\" font-family=\"Helvetica,sans-Serif\" font-size=\"14.00\">class = Survived</text>\n</g>\n<!-- 323&#45;&gt;324 -->\n<g id=\"edge324\" class=\"edge\">\n<title>323-&gt;324</title>\n<path fill=\"none\" stroke=\"black\" d=\"M4638.75,-341.91C4627.16,-330.21 4614.51,-317.46 4602.94,-305.78\"/>\n<polygon fill=\"black\" stroke=\"black\" points=\"4605.41,-303.3 4595.88,-298.67 4600.44,-308.23 4605.41,-303.3\"/>\n</g>\n<!-- 325 -->\n<g id=\"node326\" class=\"node\">\n<title>325</title>\n<polygon fill=\"#55abe9\" stroke=\"black\" points=\"4755,-298.5 4639,-298.5 4639,-230.5 4755,-230.5 4755,-298.5\"/>\n<text text-anchor=\"middle\" x=\"4697\" y=\"-283.3\" font-family=\"Helvetica,sans-Serif\" font-size=\"14.00\">entropy = 0.544</text>\n<text text-anchor=\"middle\" x=\"4697\" y=\"-268.3\" font-family=\"Helvetica,sans-Serif\" font-size=\"14.00\">samples = 8</text>\n<text text-anchor=\"middle\" x=\"4697\" y=\"-253.3\" font-family=\"Helvetica,sans-Serif\" font-size=\"14.00\">value = [1, 7]</text>\n<text text-anchor=\"middle\" x=\"4697\" y=\"-238.3\" font-family=\"Helvetica,sans-Serif\" font-size=\"14.00\">class = Survived</text>\n</g>\n<!-- 323&#45;&gt;325 -->\n<g id=\"edge325\" class=\"edge\">\n<title>323-&gt;325</title>\n<path fill=\"none\" stroke=\"black\" d=\"M4685.25,-341.91C4686.89,-331.2 4688.67,-319.62 4690.34,-308.78\"/>\n<polygon fill=\"black\" stroke=\"black\" points=\"4693.84,-309.08 4691.9,-298.67 4686.92,-308.02 4693.84,-309.08\"/>\n</g>\n<!-- 331 -->\n<g id=\"node332\" class=\"node\">\n<title>331</title>\n<polygon fill=\"#7bbeee\" stroke=\"black\" points=\"5064,-1377 4948,-1377 4948,-1294 5064,-1294 5064,-1377\"/>\n<text text-anchor=\"middle\" x=\"5006\" y=\"-1361.8\" font-family=\"Helvetica,sans-Serif\" font-size=\"14.00\">Age &lt;= 30.0</text>\n<text text-anchor=\"middle\" x=\"5006\" y=\"-1346.8\" font-family=\"Helvetica,sans-Serif\" font-size=\"14.00\">entropy = 0.811</text>\n<text text-anchor=\"middle\" x=\"5006\" y=\"-1331.8\" font-family=\"Helvetica,sans-Serif\" font-size=\"14.00\">samples = 4</text>\n<text text-anchor=\"middle\" x=\"5006\" y=\"-1316.8\" font-family=\"Helvetica,sans-Serif\" font-size=\"14.00\">value = [1, 3]</text>\n<text text-anchor=\"middle\" x=\"5006\" y=\"-1301.8\" font-family=\"Helvetica,sans-Serif\" font-size=\"14.00\">class = Survived</text>\n</g>\n<!-- 330&#45;&gt;331 -->\n<g id=\"edge331\" class=\"edge\">\n<title>330-&gt;331</title>\n<path fill=\"none\" stroke=\"black\" d=\"M5006,-1412.91C5006,-1404.65 5006,-1395.86 5006,-1387.3\"/>\n<polygon fill=\"black\" stroke=\"black\" points=\"5009.5,-1387.02 5006,-1377.02 5002.5,-1387.02 5009.5,-1387.02\"/>\n</g>\n<!-- 334 -->\n<g id=\"node335\" class=\"node\">\n<title>334</title>\n<polygon fill=\"#eca572\" stroke=\"black\" points=\"5193.5,-1377 5082.5,-1377 5082.5,-1294 5193.5,-1294 5193.5,-1377\"/>\n<text text-anchor=\"middle\" x=\"5138\" y=\"-1361.8\" font-family=\"Helvetica,sans-Serif\" font-size=\"14.00\">Age &lt;= 28.5</text>\n<text text-anchor=\"middle\" x=\"5138\" y=\"-1346.8\" font-family=\"Helvetica,sans-Serif\" font-size=\"14.00\">entropy = 0.764</text>\n<text text-anchor=\"middle\" x=\"5138\" y=\"-1331.8\" font-family=\"Helvetica,sans-Serif\" font-size=\"14.00\">samples = 9</text>\n<text text-anchor=\"middle\" x=\"5138\" y=\"-1316.8\" font-family=\"Helvetica,sans-Serif\" font-size=\"14.00\">value = [7, 2]</text>\n<text text-anchor=\"middle\" x=\"5138\" y=\"-1301.8\" font-family=\"Helvetica,sans-Serif\" font-size=\"14.00\">class = Died</text>\n</g>\n<!-- 330&#45;&gt;334 -->\n<g id=\"edge334\" class=\"edge\">\n<title>330-&gt;334</title>\n<path fill=\"none\" stroke=\"black\" d=\"M5051.8,-1412.91C5062.34,-1403.56 5073.65,-1393.54 5084.49,-1383.93\"/>\n<polygon fill=\"black\" stroke=\"black\" points=\"5087.12,-1386.27 5092.28,-1377.02 5082.48,-1381.03 5087.12,-1386.27\"/>\n</g>\n<!-- 332 -->\n<g id=\"node333\" class=\"node\">\n<title>332</title>\n<polygon fill=\"#399de5\" stroke=\"black\" points=\"4950,-1250.5 4834,-1250.5 4834,-1182.5 4950,-1182.5 4950,-1250.5\"/>\n<text text-anchor=\"middle\" x=\"4892\" y=\"-1235.3\" font-family=\"Helvetica,sans-Serif\" font-size=\"14.00\">entropy = 0.0</text>\n<text text-anchor=\"middle\" x=\"4892\" y=\"-1220.3\" font-family=\"Helvetica,sans-Serif\" font-size=\"14.00\">samples = 3</text>\n<text text-anchor=\"middle\" x=\"4892\" y=\"-1205.3\" font-family=\"Helvetica,sans-Serif\" font-size=\"14.00\">value = [0, 3]</text>\n<text text-anchor=\"middle\" x=\"4892\" y=\"-1190.3\" font-family=\"Helvetica,sans-Serif\" font-size=\"14.00\">class = Survived</text>\n</g>\n<!-- 331&#45;&gt;332 -->\n<g id=\"edge332\" class=\"edge\">\n<title>331-&gt;332</title>\n<path fill=\"none\" stroke=\"black\" d=\"M4966.45,-1293.91C4955.16,-1282.32 4942.86,-1269.7 4931.57,-1258.11\"/>\n<polygon fill=\"black\" stroke=\"black\" points=\"4933.8,-1255.39 4924.32,-1250.67 4928.79,-1260.27 4933.8,-1255.39\"/>\n</g>\n<!-- 333 -->\n<g id=\"node334\" class=\"node\">\n<title>333</title>\n<polygon fill=\"#e58139\" stroke=\"black\" points=\"5064,-1250.5 4968,-1250.5 4968,-1182.5 5064,-1182.5 5064,-1250.5\"/>\n<text text-anchor=\"middle\" x=\"5016\" y=\"-1235.3\" font-family=\"Helvetica,sans-Serif\" font-size=\"14.00\">entropy = 0.0</text>\n<text text-anchor=\"middle\" x=\"5016\" y=\"-1220.3\" font-family=\"Helvetica,sans-Serif\" font-size=\"14.00\">samples = 1</text>\n<text text-anchor=\"middle\" x=\"5016\" y=\"-1205.3\" font-family=\"Helvetica,sans-Serif\" font-size=\"14.00\">value = [1, 0]</text>\n<text text-anchor=\"middle\" x=\"5016\" y=\"-1190.3\" font-family=\"Helvetica,sans-Serif\" font-size=\"14.00\">class = Died</text>\n</g>\n<!-- 331&#45;&gt;333 -->\n<g id=\"edge333\" class=\"edge\">\n<title>331-&gt;333</title>\n<path fill=\"none\" stroke=\"black\" d=\"M5009.47,-1293.91C5010.38,-1283.2 5011.37,-1271.62 5012.3,-1260.78\"/>\n<polygon fill=\"black\" stroke=\"black\" points=\"5015.8,-1260.93 5013.17,-1250.67 5008.83,-1260.33 5015.8,-1260.93\"/>\n</g>\n<!-- 335 -->\n<g id=\"node336\" class=\"node\">\n<title>335</title>\n<polygon fill=\"#e99355\" stroke=\"black\" points=\"5193.5,-1258 5082.5,-1258 5082.5,-1175 5193.5,-1175 5193.5,-1258\"/>\n<text text-anchor=\"middle\" x=\"5138\" y=\"-1242.8\" font-family=\"Helvetica,sans-Serif\" font-size=\"14.00\">Age &lt;= 16.0</text>\n<text text-anchor=\"middle\" x=\"5138\" y=\"-1227.8\" font-family=\"Helvetica,sans-Serif\" font-size=\"14.00\">entropy = 0.544</text>\n<text text-anchor=\"middle\" x=\"5138\" y=\"-1212.8\" font-family=\"Helvetica,sans-Serif\" font-size=\"14.00\">samples = 8</text>\n<text text-anchor=\"middle\" x=\"5138\" y=\"-1197.8\" font-family=\"Helvetica,sans-Serif\" font-size=\"14.00\">value = [7, 1]</text>\n<text text-anchor=\"middle\" x=\"5138\" y=\"-1182.8\" font-family=\"Helvetica,sans-Serif\" font-size=\"14.00\">class = Died</text>\n</g>\n<!-- 334&#45;&gt;335 -->\n<g id=\"edge335\" class=\"edge\">\n<title>334-&gt;335</title>\n<path fill=\"none\" stroke=\"black\" d=\"M5138,-1293.91C5138,-1285.65 5138,-1276.86 5138,-1268.3\"/>\n<polygon fill=\"black\" stroke=\"black\" points=\"5141.5,-1268.02 5138,-1258.02 5134.5,-1268.02 5141.5,-1268.02\"/>\n</g>\n<!-- 340 -->\n<g id=\"node341\" class=\"node\">\n<title>340</title>\n<polygon fill=\"#399de5\" stroke=\"black\" points=\"5328,-1250.5 5212,-1250.5 5212,-1182.5 5328,-1182.5 5328,-1250.5\"/>\n<text text-anchor=\"middle\" x=\"5270\" y=\"-1235.3\" font-family=\"Helvetica,sans-Serif\" font-size=\"14.00\">entropy = 0.0</text>\n<text text-anchor=\"middle\" x=\"5270\" y=\"-1220.3\" font-family=\"Helvetica,sans-Serif\" font-size=\"14.00\">samples = 1</text>\n<text text-anchor=\"middle\" x=\"5270\" y=\"-1205.3\" font-family=\"Helvetica,sans-Serif\" font-size=\"14.00\">value = [0, 1]</text>\n<text text-anchor=\"middle\" x=\"5270\" y=\"-1190.3\" font-family=\"Helvetica,sans-Serif\" font-size=\"14.00\">class = Survived</text>\n</g>\n<!-- 334&#45;&gt;340 -->\n<g id=\"edge340\" class=\"edge\">\n<title>334-&gt;340</title>\n<path fill=\"none\" stroke=\"black\" d=\"M5183.8,-1293.91C5197.12,-1282.1 5211.65,-1269.22 5224.93,-1257.45\"/>\n<polygon fill=\"black\" stroke=\"black\" points=\"5227.42,-1259.92 5232.58,-1250.67 5222.78,-1254.68 5227.42,-1259.92\"/>\n</g>\n<!-- 336 -->\n<g id=\"node337\" class=\"node\">\n<title>336</title>\n<polygon fill=\"#f2c09c\" stroke=\"black\" points=\"5076.5,-1139 4965.5,-1139 4965.5,-1056 5076.5,-1056 5076.5,-1139\"/>\n<text text-anchor=\"middle\" x=\"5021\" y=\"-1123.8\" font-family=\"Helvetica,sans-Serif\" font-size=\"14.00\">Age &lt;= 14.75</text>\n<text text-anchor=\"middle\" x=\"5021\" y=\"-1108.8\" font-family=\"Helvetica,sans-Serif\" font-size=\"14.00\">entropy = 0.918</text>\n<text text-anchor=\"middle\" x=\"5021\" y=\"-1093.8\" font-family=\"Helvetica,sans-Serif\" font-size=\"14.00\">samples = 3</text>\n<text text-anchor=\"middle\" x=\"5021\" y=\"-1078.8\" font-family=\"Helvetica,sans-Serif\" font-size=\"14.00\">value = [2, 1]</text>\n<text text-anchor=\"middle\" x=\"5021\" y=\"-1063.8\" font-family=\"Helvetica,sans-Serif\" font-size=\"14.00\">class = Died</text>\n</g>\n<!-- 335&#45;&gt;336 -->\n<g id=\"edge336\" class=\"edge\">\n<title>335-&gt;336</title>\n<path fill=\"none\" stroke=\"black\" d=\"M5097.41,-1174.91C5088.15,-1165.65 5078.23,-1155.73 5068.71,-1146.21\"/>\n<polygon fill=\"black\" stroke=\"black\" points=\"5071.07,-1143.62 5061.52,-1139.02 5066.12,-1148.57 5071.07,-1143.62\"/>\n</g>\n<!-- 339 -->\n<g id=\"node340\" class=\"node\">\n<title>339</title>\n<polygon fill=\"#e58139\" stroke=\"black\" points=\"5191,-1131.5 5095,-1131.5 5095,-1063.5 5191,-1063.5 5191,-1131.5\"/>\n<text text-anchor=\"middle\" x=\"5143\" y=\"-1116.3\" font-family=\"Helvetica,sans-Serif\" font-size=\"14.00\">entropy = 0.0</text>\n<text text-anchor=\"middle\" x=\"5143\" y=\"-1101.3\" font-family=\"Helvetica,sans-Serif\" font-size=\"14.00\">samples = 5</text>\n<text text-anchor=\"middle\" x=\"5143\" y=\"-1086.3\" font-family=\"Helvetica,sans-Serif\" font-size=\"14.00\">value = [5, 0]</text>\n<text text-anchor=\"middle\" x=\"5143\" y=\"-1071.3\" font-family=\"Helvetica,sans-Serif\" font-size=\"14.00\">class = Died</text>\n</g>\n<!-- 335&#45;&gt;339 -->\n<g id=\"edge339\" class=\"edge\">\n<title>335-&gt;339</title>\n<path fill=\"none\" stroke=\"black\" d=\"M5139.73,-1174.91C5140.19,-1164.2 5140.69,-1152.62 5141.15,-1141.78\"/>\n<polygon fill=\"black\" stroke=\"black\" points=\"5144.65,-1141.81 5141.58,-1131.67 5137.66,-1141.51 5144.65,-1141.81\"/>\n</g>\n<!-- 337 -->\n<g id=\"node338\" class=\"node\">\n<title>337</title>\n<polygon fill=\"#e58139\" stroke=\"black\" points=\"4992,-1012.5 4896,-1012.5 4896,-944.5 4992,-944.5 4992,-1012.5\"/>\n<text text-anchor=\"middle\" x=\"4944\" y=\"-997.3\" font-family=\"Helvetica,sans-Serif\" font-size=\"14.00\">entropy = 0.0</text>\n<text text-anchor=\"middle\" x=\"4944\" y=\"-982.3\" font-family=\"Helvetica,sans-Serif\" font-size=\"14.00\">samples = 2</text>\n<text text-anchor=\"middle\" x=\"4944\" y=\"-967.3\" font-family=\"Helvetica,sans-Serif\" font-size=\"14.00\">value = [2, 0]</text>\n<text text-anchor=\"middle\" x=\"4944\" y=\"-952.3\" font-family=\"Helvetica,sans-Serif\" font-size=\"14.00\">class = Died</text>\n</g>\n<!-- 336&#45;&gt;337 -->\n<g id=\"edge337\" class=\"edge\">\n<title>336-&gt;337</title>\n<path fill=\"none\" stroke=\"black\" d=\"M4994.29,-1055.91C4986.88,-1044.65 4978.83,-1032.42 4971.38,-1021.11\"/>\n<polygon fill=\"black\" stroke=\"black\" points=\"4974.25,-1019.1 4965.83,-1012.67 4968.4,-1022.94 4974.25,-1019.1\"/>\n</g>\n<!-- 338 -->\n<g id=\"node339\" class=\"node\">\n<title>338</title>\n<polygon fill=\"#399de5\" stroke=\"black\" points=\"5126,-1012.5 5010,-1012.5 5010,-944.5 5126,-944.5 5126,-1012.5\"/>\n<text text-anchor=\"middle\" x=\"5068\" y=\"-997.3\" font-family=\"Helvetica,sans-Serif\" font-size=\"14.00\">entropy = 0.0</text>\n<text text-anchor=\"middle\" x=\"5068\" y=\"-982.3\" font-family=\"Helvetica,sans-Serif\" font-size=\"14.00\">samples = 1</text>\n<text text-anchor=\"middle\" x=\"5068\" y=\"-967.3\" font-family=\"Helvetica,sans-Serif\" font-size=\"14.00\">value = [0, 1]</text>\n<text text-anchor=\"middle\" x=\"5068\" y=\"-952.3\" font-family=\"Helvetica,sans-Serif\" font-size=\"14.00\">class = Survived</text>\n</g>\n<!-- 336&#45;&gt;338 -->\n<g id=\"edge338\" class=\"edge\">\n<title>336-&gt;338</title>\n<path fill=\"none\" stroke=\"black\" d=\"M5037.31,-1055.91C5041.69,-1044.98 5046.45,-1033.14 5050.88,-1022.11\"/>\n<polygon fill=\"black\" stroke=\"black\" points=\"5054.2,-1023.25 5054.68,-1012.67 5047.7,-1020.64 5054.2,-1023.25\"/>\n</g>\n<!-- 343 -->\n<g id=\"node344\" class=\"node\">\n<title>343</title>\n<polygon fill=\"#ffffff\" stroke=\"black\" points=\"5326,-1615 5216,-1615 5216,-1532 5326,-1532 5326,-1615\"/>\n<text text-anchor=\"middle\" x=\"5271\" y=\"-1599.8\" font-family=\"Helvetica,sans-Serif\" font-size=\"14.00\">Fare &lt;= 7.763</text>\n<text text-anchor=\"middle\" x=\"5271\" y=\"-1584.8\" font-family=\"Helvetica,sans-Serif\" font-size=\"14.00\">entropy = 1.0</text>\n<text text-anchor=\"middle\" x=\"5271\" y=\"-1569.8\" font-family=\"Helvetica,sans-Serif\" font-size=\"14.00\">samples = 54</text>\n<text text-anchor=\"middle\" x=\"5271\" y=\"-1554.8\" font-family=\"Helvetica,sans-Serif\" font-size=\"14.00\">value = [27, 27]</text>\n<text text-anchor=\"middle\" x=\"5271\" y=\"-1539.8\" font-family=\"Helvetica,sans-Serif\" font-size=\"14.00\">class = Died</text>\n</g>\n<!-- 342&#45;&gt;343 -->\n<g id=\"edge343\" class=\"edge\">\n<title>342-&gt;343</title>\n<path fill=\"none\" stroke=\"black\" d=\"M5271,-1650.91C5271,-1642.65 5271,-1633.86 5271,-1625.3\"/>\n<polygon fill=\"black\" stroke=\"black\" points=\"5274.5,-1625.02 5271,-1615.02 5267.5,-1625.02 5274.5,-1625.02\"/>\n</g>\n<!-- 386 -->\n<g id=\"node387\" class=\"node\">\n<title>386</title>\n<polygon fill=\"#399de5\" stroke=\"black\" points=\"5460,-1607.5 5344,-1607.5 5344,-1539.5 5460,-1539.5 5460,-1607.5\"/>\n<text text-anchor=\"middle\" x=\"5402\" y=\"-1592.3\" font-family=\"Helvetica,sans-Serif\" font-size=\"14.00\">entropy = 0.0</text>\n<text text-anchor=\"middle\" x=\"5402\" y=\"-1577.3\" font-family=\"Helvetica,sans-Serif\" font-size=\"14.00\">samples = 3</text>\n<text text-anchor=\"middle\" x=\"5402\" y=\"-1562.3\" font-family=\"Helvetica,sans-Serif\" font-size=\"14.00\">value = [0, 3]</text>\n<text text-anchor=\"middle\" x=\"5402\" y=\"-1547.3\" font-family=\"Helvetica,sans-Serif\" font-size=\"14.00\">class = Survived</text>\n</g>\n<!-- 342&#45;&gt;386 -->\n<g id=\"edge386\" class=\"edge\">\n<title>342-&gt;386</title>\n<path fill=\"none\" stroke=\"black\" d=\"M5316.45,-1650.91C5329.67,-1639.1 5344.1,-1626.22 5357.27,-1614.45\"/>\n<polygon fill=\"black\" stroke=\"black\" points=\"5359.74,-1616.94 5364.86,-1607.67 5355.07,-1611.72 5359.74,-1616.94\"/>\n</g>\n<!-- 344 -->\n<g id=\"node345\" class=\"node\">\n<title>344</title>\n<polygon fill=\"#61b1ea\" stroke=\"black\" points=\"5329,-1496 5213,-1496 5213,-1413 5329,-1413 5329,-1496\"/>\n<text text-anchor=\"middle\" x=\"5271\" y=\"-1480.8\" font-family=\"Helvetica,sans-Serif\" font-size=\"14.00\">Age &lt;= 25.5</text>\n<text text-anchor=\"middle\" x=\"5271\" y=\"-1465.8\" font-family=\"Helvetica,sans-Serif\" font-size=\"14.00\">entropy = 0.65</text>\n<text text-anchor=\"middle\" x=\"5271\" y=\"-1450.8\" font-family=\"Helvetica,sans-Serif\" font-size=\"14.00\">samples = 6</text>\n<text text-anchor=\"middle\" x=\"5271\" y=\"-1435.8\" font-family=\"Helvetica,sans-Serif\" font-size=\"14.00\">value = [1, 5]</text>\n<text text-anchor=\"middle\" x=\"5271\" y=\"-1420.8\" font-family=\"Helvetica,sans-Serif\" font-size=\"14.00\">class = Survived</text>\n</g>\n<!-- 343&#45;&gt;344 -->\n<g id=\"edge344\" class=\"edge\">\n<title>343-&gt;344</title>\n<path fill=\"none\" stroke=\"black\" d=\"M5271,-1531.91C5271,-1523.65 5271,-1514.86 5271,-1506.3\"/>\n<polygon fill=\"black\" stroke=\"black\" points=\"5274.5,-1506.02 5271,-1496.02 5267.5,-1506.02 5274.5,-1506.02\"/>\n</g>\n<!-- 347 -->\n<g id=\"node348\" class=\"node\">\n<title>347</title>\n<polygon fill=\"#fbece1\" stroke=\"black\" points=\"5575.5,-1496 5464.5,-1496 5464.5,-1413 5575.5,-1413 5575.5,-1496\"/>\n<text text-anchor=\"middle\" x=\"5520\" y=\"-1480.8\" font-family=\"Helvetica,sans-Serif\" font-size=\"14.00\">Fare &lt;= 10.825</text>\n<text text-anchor=\"middle\" x=\"5520\" y=\"-1465.8\" font-family=\"Helvetica,sans-Serif\" font-size=\"14.00\">entropy = 0.995</text>\n<text text-anchor=\"middle\" x=\"5520\" y=\"-1450.8\" font-family=\"Helvetica,sans-Serif\" font-size=\"14.00\">samples = 48</text>\n<text text-anchor=\"middle\" x=\"5520\" y=\"-1435.8\" font-family=\"Helvetica,sans-Serif\" font-size=\"14.00\">value = [26, 22]</text>\n<text text-anchor=\"middle\" x=\"5520\" y=\"-1420.8\" font-family=\"Helvetica,sans-Serif\" font-size=\"14.00\">class = Died</text>\n</g>\n<!-- 343&#45;&gt;347 -->\n<g id=\"edge347\" class=\"edge\">\n<title>343-&gt;347</title>\n<path fill=\"none\" stroke=\"black\" d=\"M5326.16,-1536.78C5329.12,-1535.12 5332.08,-1533.51 5335,-1532 5373.67,-1511.96 5418.8,-1493.21 5454.81,-1479.29\"/>\n<polygon fill=\"black\" stroke=\"black\" points=\"5456.15,-1482.52 5464.23,-1475.68 5453.64,-1475.99 5456.15,-1482.52\"/>\n</g>\n<!-- 345 -->\n<g id=\"node346\" class=\"node\">\n<title>345</title>\n<polygon fill=\"#399de5\" stroke=\"black\" points=\"5328,-1369.5 5212,-1369.5 5212,-1301.5 5328,-1301.5 5328,-1369.5\"/>\n<text text-anchor=\"middle\" x=\"5270\" y=\"-1354.3\" font-family=\"Helvetica,sans-Serif\" font-size=\"14.00\">entropy = 0.0</text>\n<text text-anchor=\"middle\" x=\"5270\" y=\"-1339.3\" font-family=\"Helvetica,sans-Serif\" font-size=\"14.00\">samples = 5</text>\n<text text-anchor=\"middle\" x=\"5270\" y=\"-1324.3\" font-family=\"Helvetica,sans-Serif\" font-size=\"14.00\">value = [0, 5]</text>\n<text text-anchor=\"middle\" x=\"5270\" y=\"-1309.3\" font-family=\"Helvetica,sans-Serif\" font-size=\"14.00\">class = Survived</text>\n</g>\n<!-- 344&#45;&gt;345 -->\n<g id=\"edge345\" class=\"edge\">\n<title>344-&gt;345</title>\n<path fill=\"none\" stroke=\"black\" d=\"M5270.65,-1412.91C5270.56,-1402.2 5270.46,-1390.62 5270.37,-1379.78\"/>\n<polygon fill=\"black\" stroke=\"black\" points=\"5273.87,-1379.64 5270.28,-1369.67 5266.87,-1379.7 5273.87,-1379.64\"/>\n</g>\n<!-- 346 -->\n<g id=\"node347\" class=\"node\">\n<title>346</title>\n<polygon fill=\"#e58139\" stroke=\"black\" points=\"5442,-1369.5 5346,-1369.5 5346,-1301.5 5442,-1301.5 5442,-1369.5\"/>\n<text text-anchor=\"middle\" x=\"5394\" y=\"-1354.3\" font-family=\"Helvetica,sans-Serif\" font-size=\"14.00\">entropy = 0.0</text>\n<text text-anchor=\"middle\" x=\"5394\" y=\"-1339.3\" font-family=\"Helvetica,sans-Serif\" font-size=\"14.00\">samples = 1</text>\n<text text-anchor=\"middle\" x=\"5394\" y=\"-1324.3\" font-family=\"Helvetica,sans-Serif\" font-size=\"14.00\">value = [1, 0]</text>\n<text text-anchor=\"middle\" x=\"5394\" y=\"-1309.3\" font-family=\"Helvetica,sans-Serif\" font-size=\"14.00\">class = Died</text>\n</g>\n<!-- 344&#45;&gt;346 -->\n<g id=\"edge346\" class=\"edge\">\n<title>344-&gt;346</title>\n<path fill=\"none\" stroke=\"black\" d=\"M5313.67,-1412.91C5325.97,-1401.21 5339.38,-1388.46 5351.65,-1376.78\"/>\n<polygon fill=\"black\" stroke=\"black\" points=\"5354.3,-1379.1 5359.13,-1369.67 5349.47,-1374.02 5354.3,-1379.1\"/>\n</g>\n<!-- 348 -->\n<g id=\"node349\" class=\"node\">\n<title>348</title>\n<polygon fill=\"#f2c09c\" stroke=\"black\" points=\"5575.5,-1377 5464.5,-1377 5464.5,-1294 5575.5,-1294 5575.5,-1377\"/>\n<text text-anchor=\"middle\" x=\"5520\" y=\"-1361.8\" font-family=\"Helvetica,sans-Serif\" font-size=\"14.00\">Fare &lt;= 10.152</text>\n<text text-anchor=\"middle\" x=\"5520\" y=\"-1346.8\" font-family=\"Helvetica,sans-Serif\" font-size=\"14.00\">entropy = 0.918</text>\n<text text-anchor=\"middle\" x=\"5520\" y=\"-1331.8\" font-family=\"Helvetica,sans-Serif\" font-size=\"14.00\">samples = 27</text>\n<text text-anchor=\"middle\" x=\"5520\" y=\"-1316.8\" font-family=\"Helvetica,sans-Serif\" font-size=\"14.00\">value = [18, 9]</text>\n<text text-anchor=\"middle\" x=\"5520\" y=\"-1301.8\" font-family=\"Helvetica,sans-Serif\" font-size=\"14.00\">class = Died</text>\n</g>\n<!-- 347&#45;&gt;348 -->\n<g id=\"edge348\" class=\"edge\">\n<title>347-&gt;348</title>\n<path fill=\"none\" stroke=\"black\" d=\"M5520,-1412.91C5520,-1404.65 5520,-1395.86 5520,-1387.3\"/>\n<polygon fill=\"black\" stroke=\"black\" points=\"5523.5,-1387.02 5520,-1377.02 5516.5,-1387.02 5523.5,-1387.02\"/>\n</g>\n<!-- 369 -->\n<g id=\"node370\" class=\"node\">\n<title>369</title>\n<polygon fill=\"#b3d9f5\" stroke=\"black\" points=\"5717,-1377 5601,-1377 5601,-1294 5717,-1294 5717,-1377\"/>\n<text text-anchor=\"middle\" x=\"5659\" y=\"-1361.8\" font-family=\"Helvetica,sans-Serif\" font-size=\"14.00\">Fare &lt;= 17.25</text>\n<text text-anchor=\"middle\" x=\"5659\" y=\"-1346.8\" font-family=\"Helvetica,sans-Serif\" font-size=\"14.00\">entropy = 0.959</text>\n<text text-anchor=\"middle\" x=\"5659\" y=\"-1331.8\" font-family=\"Helvetica,sans-Serif\" font-size=\"14.00\">samples = 21</text>\n<text text-anchor=\"middle\" x=\"5659\" y=\"-1316.8\" font-family=\"Helvetica,sans-Serif\" font-size=\"14.00\">value = [8, 13]</text>\n<text text-anchor=\"middle\" x=\"5659\" y=\"-1301.8\" font-family=\"Helvetica,sans-Serif\" font-size=\"14.00\">class = Survived</text>\n</g>\n<!-- 347&#45;&gt;369 -->\n<g id=\"edge369\" class=\"edge\">\n<title>347-&gt;369</title>\n<path fill=\"none\" stroke=\"black\" d=\"M5568.23,-1412.91C5579.44,-1403.47 5591.47,-1393.34 5602.99,-1383.65\"/>\n<polygon fill=\"black\" stroke=\"black\" points=\"5605.46,-1386.14 5610.86,-1377.02 5600.96,-1380.78 5605.46,-1386.14\"/>\n</g>\n<!-- 349 -->\n<g id=\"node350\" class=\"node\">\n<title>349</title>\n<polygon fill=\"#f5cdb0\" stroke=\"black\" points=\"5457.5,-1258 5346.5,-1258 5346.5,-1175 5457.5,-1175 5457.5,-1258\"/>\n<text text-anchor=\"middle\" x=\"5402\" y=\"-1242.8\" font-family=\"Helvetica,sans-Serif\" font-size=\"14.00\">Parch &lt;= 0.5</text>\n<text text-anchor=\"middle\" x=\"5402\" y=\"-1227.8\" font-family=\"Helvetica,sans-Serif\" font-size=\"14.00\">entropy = 0.954</text>\n<text text-anchor=\"middle\" x=\"5402\" y=\"-1212.8\" font-family=\"Helvetica,sans-Serif\" font-size=\"14.00\">samples = 24</text>\n<text text-anchor=\"middle\" x=\"5402\" y=\"-1197.8\" font-family=\"Helvetica,sans-Serif\" font-size=\"14.00\">value = [15, 9]</text>\n<text text-anchor=\"middle\" x=\"5402\" y=\"-1182.8\" font-family=\"Helvetica,sans-Serif\" font-size=\"14.00\">class = Died</text>\n</g>\n<!-- 348&#45;&gt;349 -->\n<g id=\"edge349\" class=\"edge\">\n<title>348-&gt;349</title>\n<path fill=\"none\" stroke=\"black\" d=\"M5479.06,-1293.91C5469.72,-1284.65 5459.72,-1274.73 5450.12,-1265.21\"/>\n<polygon fill=\"black\" stroke=\"black\" points=\"5452.43,-1262.58 5442.87,-1258.02 5447.5,-1267.55 5452.43,-1262.58\"/>\n</g>\n<!-- 368 -->\n<g id=\"node369\" class=\"node\">\n<title>368</title>\n<polygon fill=\"#e58139\" stroke=\"black\" points=\"5572,-1250.5 5476,-1250.5 5476,-1182.5 5572,-1182.5 5572,-1250.5\"/>\n<text text-anchor=\"middle\" x=\"5524\" y=\"-1235.3\" font-family=\"Helvetica,sans-Serif\" font-size=\"14.00\">entropy = 0.0</text>\n<text text-anchor=\"middle\" x=\"5524\" y=\"-1220.3\" font-family=\"Helvetica,sans-Serif\" font-size=\"14.00\">samples = 3</text>\n<text text-anchor=\"middle\" x=\"5524\" y=\"-1205.3\" font-family=\"Helvetica,sans-Serif\" font-size=\"14.00\">value = [3, 0]</text>\n<text text-anchor=\"middle\" x=\"5524\" y=\"-1190.3\" font-family=\"Helvetica,sans-Serif\" font-size=\"14.00\">class = Died</text>\n</g>\n<!-- 348&#45;&gt;368 -->\n<g id=\"edge368\" class=\"edge\">\n<title>348-&gt;368</title>\n<path fill=\"none\" stroke=\"black\" d=\"M5521.39,-1293.91C5521.75,-1283.2 5522.15,-1271.62 5522.52,-1260.78\"/>\n<polygon fill=\"black\" stroke=\"black\" points=\"5526.02,-1260.78 5522.87,-1250.67 5519.03,-1260.54 5526.02,-1260.78\"/>\n</g>\n<!-- 350 -->\n<g id=\"node351\" class=\"node\">\n<title>350</title>\n<polygon fill=\"#f1bc95\" stroke=\"black\" points=\"5325.5,-1139 5214.5,-1139 5214.5,-1056 5325.5,-1056 5325.5,-1139\"/>\n<text text-anchor=\"middle\" x=\"5270\" y=\"-1123.8\" font-family=\"Helvetica,sans-Serif\" font-size=\"14.00\">Fare &lt;= 9.84</text>\n<text text-anchor=\"middle\" x=\"5270\" y=\"-1108.8\" font-family=\"Helvetica,sans-Serif\" font-size=\"14.00\">entropy = 0.902</text>\n<text text-anchor=\"middle\" x=\"5270\" y=\"-1093.8\" font-family=\"Helvetica,sans-Serif\" font-size=\"14.00\">samples = 22</text>\n<text text-anchor=\"middle\" x=\"5270\" y=\"-1078.8\" font-family=\"Helvetica,sans-Serif\" font-size=\"14.00\">value = [15, 7]</text>\n<text text-anchor=\"middle\" x=\"5270\" y=\"-1063.8\" font-family=\"Helvetica,sans-Serif\" font-size=\"14.00\">class = Died</text>\n</g>\n<!-- 349&#45;&gt;350 -->\n<g id=\"edge350\" class=\"edge\">\n<title>349-&gt;350</title>\n<path fill=\"none\" stroke=\"black\" d=\"M5356.2,-1174.91C5345.66,-1165.56 5334.35,-1155.54 5323.51,-1145.93\"/>\n<polygon fill=\"black\" stroke=\"black\" points=\"5325.52,-1143.03 5315.72,-1139.02 5320.88,-1148.27 5325.52,-1143.03\"/>\n</g>\n<!-- 367 -->\n<g id=\"node368\" class=\"node\">\n<title>367</title>\n<polygon fill=\"#399de5\" stroke=\"black\" points=\"5460,-1131.5 5344,-1131.5 5344,-1063.5 5460,-1063.5 5460,-1131.5\"/>\n<text text-anchor=\"middle\" x=\"5402\" y=\"-1116.3\" font-family=\"Helvetica,sans-Serif\" font-size=\"14.00\">entropy = 0.0</text>\n<text text-anchor=\"middle\" x=\"5402\" y=\"-1101.3\" font-family=\"Helvetica,sans-Serif\" font-size=\"14.00\">samples = 2</text>\n<text text-anchor=\"middle\" x=\"5402\" y=\"-1086.3\" font-family=\"Helvetica,sans-Serif\" font-size=\"14.00\">value = [0, 2]</text>\n<text text-anchor=\"middle\" x=\"5402\" y=\"-1071.3\" font-family=\"Helvetica,sans-Serif\" font-size=\"14.00\">class = Survived</text>\n</g>\n<!-- 349&#45;&gt;367 -->\n<g id=\"edge367\" class=\"edge\">\n<title>349-&gt;367</title>\n<path fill=\"none\" stroke=\"black\" d=\"M5402,-1174.91C5402,-1164.2 5402,-1152.62 5402,-1141.78\"/>\n<polygon fill=\"black\" stroke=\"black\" points=\"5405.5,-1141.67 5402,-1131.67 5398.5,-1141.67 5405.5,-1141.67\"/>\n</g>\n<!-- 351 -->\n<g id=\"node352\" class=\"node\">\n<title>351</title>\n<polygon fill=\"#efb388\" stroke=\"black\" points=\"5316.5,-1020 5205.5,-1020 5205.5,-937 5316.5,-937 5316.5,-1020\"/>\n<text text-anchor=\"middle\" x=\"5261\" y=\"-1004.8\" font-family=\"Helvetica,sans-Serif\" font-size=\"14.00\">Fare &lt;= 8.767</text>\n<text text-anchor=\"middle\" x=\"5261\" y=\"-989.8\" font-family=\"Helvetica,sans-Serif\" font-size=\"14.00\">entropy = 0.863</text>\n<text text-anchor=\"middle\" x=\"5261\" y=\"-974.8\" font-family=\"Helvetica,sans-Serif\" font-size=\"14.00\">samples = 21</text>\n<text text-anchor=\"middle\" x=\"5261\" y=\"-959.8\" font-family=\"Helvetica,sans-Serif\" font-size=\"14.00\">value = [15, 6]</text>\n<text text-anchor=\"middle\" x=\"5261\" y=\"-944.8\" font-family=\"Helvetica,sans-Serif\" font-size=\"14.00\">class = Died</text>\n</g>\n<!-- 350&#45;&gt;351 -->\n<g id=\"edge351\" class=\"edge\">\n<title>350-&gt;351</title>\n<path fill=\"none\" stroke=\"black\" d=\"M5266.88,-1055.91C5266.24,-1047.56 5265.55,-1038.67 5264.89,-1030.02\"/>\n<polygon fill=\"black\" stroke=\"black\" points=\"5268.37,-1029.72 5264.12,-1020.02 5261.39,-1030.26 5268.37,-1029.72\"/>\n</g>\n<!-- 366 -->\n<g id=\"node367\" class=\"node\">\n<title>366</title>\n<polygon fill=\"#399de5\" stroke=\"black\" points=\"5451,-1012.5 5335,-1012.5 5335,-944.5 5451,-944.5 5451,-1012.5\"/>\n<text text-anchor=\"middle\" x=\"5393\" y=\"-997.3\" font-family=\"Helvetica,sans-Serif\" font-size=\"14.00\">entropy = 0.0</text>\n<text text-anchor=\"middle\" x=\"5393\" y=\"-982.3\" font-family=\"Helvetica,sans-Serif\" font-size=\"14.00\">samples = 1</text>\n<text text-anchor=\"middle\" x=\"5393\" y=\"-967.3\" font-family=\"Helvetica,sans-Serif\" font-size=\"14.00\">value = [0, 1]</text>\n<text text-anchor=\"middle\" x=\"5393\" y=\"-952.3\" font-family=\"Helvetica,sans-Serif\" font-size=\"14.00\">class = Survived</text>\n</g>\n<!-- 350&#45;&gt;366 -->\n<g id=\"edge366\" class=\"edge\">\n<title>350-&gt;366</title>\n<path fill=\"none\" stroke=\"black\" d=\"M5312.67,-1055.91C5324.97,-1044.21 5338.38,-1031.46 5350.65,-1019.78\"/>\n<polygon fill=\"black\" stroke=\"black\" points=\"5353.3,-1022.1 5358.13,-1012.67 5348.47,-1017.02 5353.3,-1022.1\"/>\n</g>\n<!-- 352 -->\n<g id=\"node353\" class=\"node\">\n<title>352</title>\n<polygon fill=\"#f3c6a5\" stroke=\"black\" points=\"5233.5,-901 5122.5,-901 5122.5,-818 5233.5,-818 5233.5,-901\"/>\n<text text-anchor=\"middle\" x=\"5178\" y=\"-885.8\" font-family=\"Helvetica,sans-Serif\" font-size=\"14.00\">Fare &lt;= 8.673</text>\n<text text-anchor=\"middle\" x=\"5178\" y=\"-870.8\" font-family=\"Helvetica,sans-Serif\" font-size=\"14.00\">entropy = 0.937</text>\n<text text-anchor=\"middle\" x=\"5178\" y=\"-855.8\" font-family=\"Helvetica,sans-Serif\" font-size=\"14.00\">samples = 17</text>\n<text text-anchor=\"middle\" x=\"5178\" y=\"-840.8\" font-family=\"Helvetica,sans-Serif\" font-size=\"14.00\">value = [11, 6]</text>\n<text text-anchor=\"middle\" x=\"5178\" y=\"-825.8\" font-family=\"Helvetica,sans-Serif\" font-size=\"14.00\">class = Died</text>\n</g>\n<!-- 351&#45;&gt;352 -->\n<g id=\"edge352\" class=\"edge\">\n<title>351-&gt;352</title>\n<path fill=\"none\" stroke=\"black\" d=\"M5232.2,-936.91C5225.89,-928.01 5219.15,-918.51 5212.64,-909.33\"/>\n<polygon fill=\"black\" stroke=\"black\" points=\"5215.39,-907.15 5206.75,-901.02 5209.68,-911.2 5215.39,-907.15\"/>\n</g>\n<!-- 365 -->\n<g id=\"node366\" class=\"node\">\n<title>365</title>\n<polygon fill=\"#e58139\" stroke=\"black\" points=\"5348,-893.5 5252,-893.5 5252,-825.5 5348,-825.5 5348,-893.5\"/>\n<text text-anchor=\"middle\" x=\"5300\" y=\"-878.3\" font-family=\"Helvetica,sans-Serif\" font-size=\"14.00\">entropy = 0.0</text>\n<text text-anchor=\"middle\" x=\"5300\" y=\"-863.3\" font-family=\"Helvetica,sans-Serif\" font-size=\"14.00\">samples = 4</text>\n<text text-anchor=\"middle\" x=\"5300\" y=\"-848.3\" font-family=\"Helvetica,sans-Serif\" font-size=\"14.00\">value = [4, 0]</text>\n<text text-anchor=\"middle\" x=\"5300\" y=\"-833.3\" font-family=\"Helvetica,sans-Serif\" font-size=\"14.00\">class = Died</text>\n</g>\n<!-- 351&#45;&gt;365 -->\n<g id=\"edge365\" class=\"edge\">\n<title>351-&gt;365</title>\n<path fill=\"none\" stroke=\"black\" d=\"M5274.53,-936.91C5278.14,-926.09 5282.04,-914.38 5285.69,-903.44\"/>\n<polygon fill=\"black\" stroke=\"black\" points=\"5289.1,-904.26 5288.94,-893.67 5282.46,-902.05 5289.1,-904.26\"/>\n</g>\n<!-- 353 -->\n<g id=\"node354\" class=\"node\">\n<title>353</title>\n<polygon fill=\"#f1ba93\" stroke=\"black\" points=\"5156.5,-782 5045.5,-782 5045.5,-699 5156.5,-699 5156.5,-782\"/>\n<text text-anchor=\"middle\" x=\"5101\" y=\"-766.8\" font-family=\"Helvetica,sans-Serif\" font-size=\"14.00\">Age &lt;= 27.5</text>\n<text text-anchor=\"middle\" x=\"5101\" y=\"-751.8\" font-family=\"Helvetica,sans-Serif\" font-size=\"14.00\">entropy = 0.896</text>\n<text text-anchor=\"middle\" x=\"5101\" y=\"-736.8\" font-family=\"Helvetica,sans-Serif\" font-size=\"14.00\">samples = 16</text>\n<text text-anchor=\"middle\" x=\"5101\" y=\"-721.8\" font-family=\"Helvetica,sans-Serif\" font-size=\"14.00\">value = [11, 5]</text>\n<text text-anchor=\"middle\" x=\"5101\" y=\"-706.8\" font-family=\"Helvetica,sans-Serif\" font-size=\"14.00\">class = Died</text>\n</g>\n<!-- 352&#45;&gt;353 -->\n<g id=\"edge353\" class=\"edge\">\n<title>352-&gt;353</title>\n<path fill=\"none\" stroke=\"black\" d=\"M5151.29,-817.91C5145.49,-809.1 5139.3,-799.7 5133.32,-790.61\"/>\n<polygon fill=\"black\" stroke=\"black\" points=\"5136.09,-788.45 5127.67,-782.02 5130.24,-792.3 5136.09,-788.45\"/>\n</g>\n<!-- 364 -->\n<g id=\"node365\" class=\"node\">\n<title>364</title>\n<polygon fill=\"#399de5\" stroke=\"black\" points=\"5291,-774.5 5175,-774.5 5175,-706.5 5291,-706.5 5291,-774.5\"/>\n<text text-anchor=\"middle\" x=\"5233\" y=\"-759.3\" font-family=\"Helvetica,sans-Serif\" font-size=\"14.00\">entropy = 0.0</text>\n<text text-anchor=\"middle\" x=\"5233\" y=\"-744.3\" font-family=\"Helvetica,sans-Serif\" font-size=\"14.00\">samples = 1</text>\n<text text-anchor=\"middle\" x=\"5233\" y=\"-729.3\" font-family=\"Helvetica,sans-Serif\" font-size=\"14.00\">value = [0, 1]</text>\n<text text-anchor=\"middle\" x=\"5233\" y=\"-714.3\" font-family=\"Helvetica,sans-Serif\" font-size=\"14.00\">class = Survived</text>\n</g>\n<!-- 352&#45;&gt;364 -->\n<g id=\"edge364\" class=\"edge\">\n<title>352-&gt;364</title>\n<path fill=\"none\" stroke=\"black\" d=\"M5197.08,-817.91C5202.27,-806.87 5207.9,-794.9 5213.13,-783.77\"/>\n<polygon fill=\"black\" stroke=\"black\" points=\"5216.32,-785.21 5217.41,-774.67 5209.99,-782.23 5216.32,-785.21\"/>\n</g>\n<!-- 354 -->\n<g id=\"node355\" class=\"node\">\n<title>354</title>\n<polygon fill=\"#fbeade\" stroke=\"black\" points=\"5128.5,-663 5017.5,-663 5017.5,-580 5128.5,-580 5128.5,-663\"/>\n<text text-anchor=\"middle\" x=\"5073\" y=\"-647.8\" font-family=\"Helvetica,sans-Serif\" font-size=\"14.00\">Age &lt;= 25.5</text>\n<text text-anchor=\"middle\" x=\"5073\" y=\"-632.8\" font-family=\"Helvetica,sans-Serif\" font-size=\"14.00\">entropy = 0.994</text>\n<text text-anchor=\"middle\" x=\"5073\" y=\"-617.8\" font-family=\"Helvetica,sans-Serif\" font-size=\"14.00\">samples = 11</text>\n<text text-anchor=\"middle\" x=\"5073\" y=\"-602.8\" font-family=\"Helvetica,sans-Serif\" font-size=\"14.00\">value = [6, 5]</text>\n<text text-anchor=\"middle\" x=\"5073\" y=\"-587.8\" font-family=\"Helvetica,sans-Serif\" font-size=\"14.00\">class = Died</text>\n</g>\n<!-- 353&#45;&gt;354 -->\n<g id=\"edge354\" class=\"edge\">\n<title>353-&gt;354</title>\n<path fill=\"none\" stroke=\"black\" d=\"M5091.29,-698.91C5089.29,-690.56 5087.16,-681.67 5085.09,-673.02\"/>\n<polygon fill=\"black\" stroke=\"black\" points=\"5088.43,-671.93 5082.7,-663.02 5081.62,-673.56 5088.43,-671.93\"/>\n</g>\n<!-- 363 -->\n<g id=\"node364\" class=\"node\">\n<title>363</title>\n<polygon fill=\"#e58139\" stroke=\"black\" points=\"5243,-655.5 5147,-655.5 5147,-587.5 5243,-587.5 5243,-655.5\"/>\n<text text-anchor=\"middle\" x=\"5195\" y=\"-640.3\" font-family=\"Helvetica,sans-Serif\" font-size=\"14.00\">entropy = 0.0</text>\n<text text-anchor=\"middle\" x=\"5195\" y=\"-625.3\" font-family=\"Helvetica,sans-Serif\" font-size=\"14.00\">samples = 5</text>\n<text text-anchor=\"middle\" x=\"5195\" y=\"-610.3\" font-family=\"Helvetica,sans-Serif\" font-size=\"14.00\">value = [5, 0]</text>\n<text text-anchor=\"middle\" x=\"5195\" y=\"-595.3\" font-family=\"Helvetica,sans-Serif\" font-size=\"14.00\">class = Died</text>\n</g>\n<!-- 353&#45;&gt;363 -->\n<g id=\"edge363\" class=\"edge\">\n<title>353-&gt;363</title>\n<path fill=\"none\" stroke=\"black\" d=\"M5133.61,-698.91C5142.74,-687.54 5152.68,-675.18 5161.84,-663.77\"/>\n<polygon fill=\"black\" stroke=\"black\" points=\"5164.82,-665.65 5168.35,-655.67 5159.36,-661.27 5164.82,-665.65\"/>\n</g>\n<!-- 355 -->\n<g id=\"node356\" class=\"node\">\n<title>355</title>\n<polygon fill=\"#eeab7b\" stroke=\"black\" points=\"5038.5,-544 4927.5,-544 4927.5,-461 5038.5,-461 5038.5,-544\"/>\n<text text-anchor=\"middle\" x=\"4983\" y=\"-528.8\" font-family=\"Helvetica,sans-Serif\" font-size=\"14.00\">Age &lt;= 22.5</text>\n<text text-anchor=\"middle\" x=\"4983\" y=\"-513.8\" font-family=\"Helvetica,sans-Serif\" font-size=\"14.00\">entropy = 0.811</text>\n<text text-anchor=\"middle\" x=\"4983\" y=\"-498.8\" font-family=\"Helvetica,sans-Serif\" font-size=\"14.00\">samples = 8</text>\n<text text-anchor=\"middle\" x=\"4983\" y=\"-483.8\" font-family=\"Helvetica,sans-Serif\" font-size=\"14.00\">value = [6, 2]</text>\n<text text-anchor=\"middle\" x=\"4983\" y=\"-468.8\" font-family=\"Helvetica,sans-Serif\" font-size=\"14.00\">class = Died</text>\n</g>\n<!-- 354&#45;&gt;355 -->\n<g id=\"edge355\" class=\"edge\">\n<title>354-&gt;355</title>\n<path fill=\"none\" stroke=\"black\" d=\"M5041.77,-579.91C5034.86,-570.92 5027.47,-561.32 5020.35,-552.05\"/>\n<polygon fill=\"black\" stroke=\"black\" points=\"5023.04,-549.81 5014.17,-544.02 5017.49,-554.08 5023.04,-549.81\"/>\n</g>\n<!-- 362 -->\n<g id=\"node363\" class=\"node\">\n<title>362</title>\n<polygon fill=\"#399de5\" stroke=\"black\" points=\"5173,-536.5 5057,-536.5 5057,-468.5 5173,-468.5 5173,-536.5\"/>\n<text text-anchor=\"middle\" x=\"5115\" y=\"-521.3\" font-family=\"Helvetica,sans-Serif\" font-size=\"14.00\">entropy = 0.0</text>\n<text text-anchor=\"middle\" x=\"5115\" y=\"-506.3\" font-family=\"Helvetica,sans-Serif\" font-size=\"14.00\">samples = 3</text>\n<text text-anchor=\"middle\" x=\"5115\" y=\"-491.3\" font-family=\"Helvetica,sans-Serif\" font-size=\"14.00\">value = [0, 3]</text>\n<text text-anchor=\"middle\" x=\"5115\" y=\"-476.3\" font-family=\"Helvetica,sans-Serif\" font-size=\"14.00\">class = Survived</text>\n</g>\n<!-- 354&#45;&gt;362 -->\n<g id=\"edge362\" class=\"edge\">\n<title>354-&gt;362</title>\n<path fill=\"none\" stroke=\"black\" d=\"M5087.57,-579.91C5091.49,-568.98 5095.75,-557.14 5099.71,-546.11\"/>\n<polygon fill=\"black\" stroke=\"black\" points=\"5103.01,-547.26 5103.09,-536.67 5096.42,-544.9 5103.01,-547.26\"/>\n</g>\n<!-- 356 -->\n<g id=\"node357\" class=\"node\">\n<title>356</title>\n<polygon fill=\"#f6d5bd\" stroke=\"black\" points=\"5003.5,-425 4892.5,-425 4892.5,-342 5003.5,-342 5003.5,-425\"/>\n<text text-anchor=\"middle\" x=\"4948\" y=\"-409.8\" font-family=\"Helvetica,sans-Serif\" font-size=\"14.00\">Age &lt;= 18.5</text>\n<text text-anchor=\"middle\" x=\"4948\" y=\"-394.8\" font-family=\"Helvetica,sans-Serif\" font-size=\"14.00\">entropy = 0.971</text>\n<text text-anchor=\"middle\" x=\"4948\" y=\"-379.8\" font-family=\"Helvetica,sans-Serif\" font-size=\"14.00\">samples = 5</text>\n<text text-anchor=\"middle\" x=\"4948\" y=\"-364.8\" font-family=\"Helvetica,sans-Serif\" font-size=\"14.00\">value = [3, 2]</text>\n<text text-anchor=\"middle\" x=\"4948\" y=\"-349.8\" font-family=\"Helvetica,sans-Serif\" font-size=\"14.00\">class = Died</text>\n</g>\n<!-- 355&#45;&gt;356 -->\n<g id=\"edge356\" class=\"edge\">\n<title>355-&gt;356</title>\n<path fill=\"none\" stroke=\"black\" d=\"M4970.86,-460.91C4968.33,-452.47 4965.64,-443.48 4963.03,-434.74\"/>\n<polygon fill=\"black\" stroke=\"black\" points=\"4966.34,-433.6 4960.12,-425.02 4959.63,-435.6 4966.34,-433.6\"/>\n</g>\n<!-- 361 -->\n<g id=\"node362\" class=\"node\">\n<title>361</title>\n<polygon fill=\"#e58139\" stroke=\"black\" points=\"5118,-417.5 5022,-417.5 5022,-349.5 5118,-349.5 5118,-417.5\"/>\n<text text-anchor=\"middle\" x=\"5070\" y=\"-402.3\" font-family=\"Helvetica,sans-Serif\" font-size=\"14.00\">entropy = 0.0</text>\n<text text-anchor=\"middle\" x=\"5070\" y=\"-387.3\" font-family=\"Helvetica,sans-Serif\" font-size=\"14.00\">samples = 3</text>\n<text text-anchor=\"middle\" x=\"5070\" y=\"-372.3\" font-family=\"Helvetica,sans-Serif\" font-size=\"14.00\">value = [3, 0]</text>\n<text text-anchor=\"middle\" x=\"5070\" y=\"-357.3\" font-family=\"Helvetica,sans-Serif\" font-size=\"14.00\">class = Died</text>\n</g>\n<!-- 355&#45;&gt;361 -->\n<g id=\"edge361\" class=\"edge\">\n<title>355-&gt;361</title>\n<path fill=\"none\" stroke=\"black\" d=\"M5013.18,-460.91C5021.64,-449.54 5030.83,-437.18 5039.31,-425.77\"/>\n<polygon fill=\"black\" stroke=\"black\" points=\"5042.18,-427.78 5045.34,-417.67 5036.56,-423.6 5042.18,-427.78\"/>\n</g>\n<!-- 357 -->\n<g id=\"node358\" class=\"node\">\n<title>357</title>\n<polygon fill=\"#e58139\" stroke=\"black\" points=\"4910,-298.5 4814,-298.5 4814,-230.5 4910,-230.5 4910,-298.5\"/>\n<text text-anchor=\"middle\" x=\"4862\" y=\"-283.3\" font-family=\"Helvetica,sans-Serif\" font-size=\"14.00\">entropy = 0.0</text>\n<text text-anchor=\"middle\" x=\"4862\" y=\"-268.3\" font-family=\"Helvetica,sans-Serif\" font-size=\"14.00\">samples = 2</text>\n<text text-anchor=\"middle\" x=\"4862\" y=\"-253.3\" font-family=\"Helvetica,sans-Serif\" font-size=\"14.00\">value = [2, 0]</text>\n<text text-anchor=\"middle\" x=\"4862\" y=\"-238.3\" font-family=\"Helvetica,sans-Serif\" font-size=\"14.00\">class = Died</text>\n</g>\n<!-- 356&#45;&gt;357 -->\n<g id=\"edge357\" class=\"edge\">\n<title>356-&gt;357</title>\n<path fill=\"none\" stroke=\"black\" d=\"M4918.16,-341.91C4909.81,-330.54 4900.72,-318.18 4892.34,-306.77\"/>\n<polygon fill=\"black\" stroke=\"black\" points=\"4895.12,-304.65 4886.38,-298.67 4889.48,-308.8 4895.12,-304.65\"/>\n</g>\n<!-- 358 -->\n<g id=\"node359\" class=\"node\">\n<title>358</title>\n<polygon fill=\"#9ccef2\" stroke=\"black\" points=\"5044,-306 4928,-306 4928,-223 5044,-223 5044,-306\"/>\n<text text-anchor=\"middle\" x=\"4986\" y=\"-290.8\" font-family=\"Helvetica,sans-Serif\" font-size=\"14.00\">Fare &lt;= 8.258</text>\n<text text-anchor=\"middle\" x=\"4986\" y=\"-275.8\" font-family=\"Helvetica,sans-Serif\" font-size=\"14.00\">entropy = 0.918</text>\n<text text-anchor=\"middle\" x=\"4986\" y=\"-260.8\" font-family=\"Helvetica,sans-Serif\" font-size=\"14.00\">samples = 3</text>\n<text text-anchor=\"middle\" x=\"4986\" y=\"-245.8\" font-family=\"Helvetica,sans-Serif\" font-size=\"14.00\">value = [1, 2]</text>\n<text text-anchor=\"middle\" x=\"4986\" y=\"-230.8\" font-family=\"Helvetica,sans-Serif\" font-size=\"14.00\">class = Survived</text>\n</g>\n<!-- 356&#45;&gt;358 -->\n<g id=\"edge358\" class=\"edge\">\n<title>356-&gt;358</title>\n<path fill=\"none\" stroke=\"black\" d=\"M4961.18,-341.91C4963.93,-333.47 4966.84,-324.48 4969.68,-315.74\"/>\n<polygon fill=\"black\" stroke=\"black\" points=\"4973.08,-316.61 4972.84,-306.02 4966.42,-314.45 4973.08,-316.61\"/>\n</g>\n<!-- 359 -->\n<g id=\"node360\" class=\"node\">\n<title>359</title>\n<polygon fill=\"#399de5\" stroke=\"black\" points=\"4982,-179.5 4866,-179.5 4866,-111.5 4982,-111.5 4982,-179.5\"/>\n<text text-anchor=\"middle\" x=\"4924\" y=\"-164.3\" font-family=\"Helvetica,sans-Serif\" font-size=\"14.00\">entropy = 0.0</text>\n<text text-anchor=\"middle\" x=\"4924\" y=\"-149.3\" font-family=\"Helvetica,sans-Serif\" font-size=\"14.00\">samples = 2</text>\n<text text-anchor=\"middle\" x=\"4924\" y=\"-134.3\" font-family=\"Helvetica,sans-Serif\" font-size=\"14.00\">value = [0, 2]</text>\n<text text-anchor=\"middle\" x=\"4924\" y=\"-119.3\" font-family=\"Helvetica,sans-Serif\" font-size=\"14.00\">class = Survived</text>\n</g>\n<!-- 358&#45;&gt;359 -->\n<g id=\"edge359\" class=\"edge\">\n<title>358-&gt;359</title>\n<path fill=\"none\" stroke=\"black\" d=\"M4964.49,-222.91C4958.64,-211.87 4952.3,-199.9 4946.4,-188.77\"/>\n<polygon fill=\"black\" stroke=\"black\" points=\"4949.35,-186.86 4941.58,-179.67 4943.17,-190.14 4949.35,-186.86\"/>\n</g>\n<!-- 360 -->\n<g id=\"node361\" class=\"node\">\n<title>360</title>\n<polygon fill=\"#e58139\" stroke=\"black\" points=\"5096,-179.5 5000,-179.5 5000,-111.5 5096,-111.5 5096,-179.5\"/>\n<text text-anchor=\"middle\" x=\"5048\" y=\"-164.3\" font-family=\"Helvetica,sans-Serif\" font-size=\"14.00\">entropy = 0.0</text>\n<text text-anchor=\"middle\" x=\"5048\" y=\"-149.3\" font-family=\"Helvetica,sans-Serif\" font-size=\"14.00\">samples = 1</text>\n<text text-anchor=\"middle\" x=\"5048\" y=\"-134.3\" font-family=\"Helvetica,sans-Serif\" font-size=\"14.00\">value = [1, 0]</text>\n<text text-anchor=\"middle\" x=\"5048\" y=\"-119.3\" font-family=\"Helvetica,sans-Serif\" font-size=\"14.00\">class = Died</text>\n</g>\n<!-- 358&#45;&gt;360 -->\n<g id=\"edge360\" class=\"edge\">\n<title>358-&gt;360</title>\n<path fill=\"none\" stroke=\"black\" d=\"M5007.51,-222.91C5013.36,-211.87 5019.7,-199.9 5025.6,-188.77\"/>\n<polygon fill=\"black\" stroke=\"black\" points=\"5028.83,-190.14 5030.42,-179.67 5022.65,-186.86 5028.83,-190.14\"/>\n</g>\n<!-- 370 -->\n<g id=\"node371\" class=\"node\">\n<title>370</title>\n<polygon fill=\"#5dafea\" stroke=\"black\" points=\"5717,-1258 5601,-1258 5601,-1175 5717,-1175 5717,-1258\"/>\n<text text-anchor=\"middle\" x=\"5659\" y=\"-1242.8\" font-family=\"Helvetica,sans-Serif\" font-size=\"14.00\">SibSp &lt;= 0.5</text>\n<text text-anchor=\"middle\" x=\"5659\" y=\"-1227.8\" font-family=\"Helvetica,sans-Serif\" font-size=\"14.00\">entropy = 0.619</text>\n<text text-anchor=\"middle\" x=\"5659\" y=\"-1212.8\" font-family=\"Helvetica,sans-Serif\" font-size=\"14.00\">samples = 13</text>\n<text text-anchor=\"middle\" x=\"5659\" y=\"-1197.8\" font-family=\"Helvetica,sans-Serif\" font-size=\"14.00\">value = [2, 11]</text>\n<text text-anchor=\"middle\" x=\"5659\" y=\"-1182.8\" font-family=\"Helvetica,sans-Serif\" font-size=\"14.00\">class = Survived</text>\n</g>\n<!-- 369&#45;&gt;370 -->\n<g id=\"edge370\" class=\"edge\">\n<title>369-&gt;370</title>\n<path fill=\"none\" stroke=\"black\" d=\"M5659,-1293.91C5659,-1285.65 5659,-1276.86 5659,-1268.3\"/>\n<polygon fill=\"black\" stroke=\"black\" points=\"5662.5,-1268.02 5659,-1258.02 5655.5,-1268.02 5662.5,-1268.02\"/>\n</g>\n<!-- 379 -->\n<g id=\"node380\" class=\"node\">\n<title>379</title>\n<polygon fill=\"#eeab7b\" stroke=\"black\" points=\"5857.5,-1258 5746.5,-1258 5746.5,-1175 5857.5,-1175 5857.5,-1258\"/>\n<text text-anchor=\"middle\" x=\"5802\" y=\"-1242.8\" font-family=\"Helvetica,sans-Serif\" font-size=\"14.00\">Fare &lt;= 21.55</text>\n<text text-anchor=\"middle\" x=\"5802\" y=\"-1227.8\" font-family=\"Helvetica,sans-Serif\" font-size=\"14.00\">entropy = 0.811</text>\n<text text-anchor=\"middle\" x=\"5802\" y=\"-1212.8\" font-family=\"Helvetica,sans-Serif\" font-size=\"14.00\">samples = 8</text>\n<text text-anchor=\"middle\" x=\"5802\" y=\"-1197.8\" font-family=\"Helvetica,sans-Serif\" font-size=\"14.00\">value = [6, 2]</text>\n<text text-anchor=\"middle\" x=\"5802\" y=\"-1182.8\" font-family=\"Helvetica,sans-Serif\" font-size=\"14.00\">class = Died</text>\n</g>\n<!-- 369&#45;&gt;379 -->\n<g id=\"edge379\" class=\"edge\">\n<title>369-&gt;379</title>\n<path fill=\"none\" stroke=\"black\" d=\"M5708.61,-1293.91C5720.26,-1284.38 5732.76,-1274.15 5744.71,-1264.37\"/>\n<polygon fill=\"black\" stroke=\"black\" points=\"5746.95,-1267.06 5752.47,-1258.02 5742.52,-1261.64 5746.95,-1267.06\"/>\n</g>\n<!-- 371 -->\n<g id=\"node372\" class=\"node\">\n<title>371</title>\n<polygon fill=\"#399de5\" stroke=\"black\" points=\"5594,-1131.5 5478,-1131.5 5478,-1063.5 5594,-1063.5 5594,-1131.5\"/>\n<text text-anchor=\"middle\" x=\"5536\" y=\"-1116.3\" font-family=\"Helvetica,sans-Serif\" font-size=\"14.00\">entropy = 0.0</text>\n<text text-anchor=\"middle\" x=\"5536\" y=\"-1101.3\" font-family=\"Helvetica,sans-Serif\" font-size=\"14.00\">samples = 6</text>\n<text text-anchor=\"middle\" x=\"5536\" y=\"-1086.3\" font-family=\"Helvetica,sans-Serif\" font-size=\"14.00\">value = [0, 6]</text>\n<text text-anchor=\"middle\" x=\"5536\" y=\"-1071.3\" font-family=\"Helvetica,sans-Serif\" font-size=\"14.00\">class = Survived</text>\n</g>\n<!-- 370&#45;&gt;371 -->\n<g id=\"edge371\" class=\"edge\">\n<title>370-&gt;371</title>\n<path fill=\"none\" stroke=\"black\" d=\"M5616.33,-1174.91C5604.03,-1163.21 5590.62,-1150.46 5578.35,-1138.78\"/>\n<polygon fill=\"black\" stroke=\"black\" points=\"5580.53,-1136.02 5570.87,-1131.67 5575.7,-1141.1 5580.53,-1136.02\"/>\n</g>\n<!-- 372 -->\n<g id=\"node373\" class=\"node\">\n<title>372</title>\n<polygon fill=\"#88c4ef\" stroke=\"black\" points=\"5728,-1139 5612,-1139 5612,-1056 5728,-1056 5728,-1139\"/>\n<text text-anchor=\"middle\" x=\"5670\" y=\"-1123.8\" font-family=\"Helvetica,sans-Serif\" font-size=\"14.00\">Age &lt;= 25.0</text>\n<text text-anchor=\"middle\" x=\"5670\" y=\"-1108.8\" font-family=\"Helvetica,sans-Serif\" font-size=\"14.00\">entropy = 0.863</text>\n<text text-anchor=\"middle\" x=\"5670\" y=\"-1093.8\" font-family=\"Helvetica,sans-Serif\" font-size=\"14.00\">samples = 7</text>\n<text text-anchor=\"middle\" x=\"5670\" y=\"-1078.8\" font-family=\"Helvetica,sans-Serif\" font-size=\"14.00\">value = [2, 5]</text>\n<text text-anchor=\"middle\" x=\"5670\" y=\"-1063.8\" font-family=\"Helvetica,sans-Serif\" font-size=\"14.00\">class = Survived</text>\n</g>\n<!-- 370&#45;&gt;372 -->\n<g id=\"edge372\" class=\"edge\">\n<title>370-&gt;372</title>\n<path fill=\"none\" stroke=\"black\" d=\"M5662.82,-1174.91C5663.6,-1166.56 5664.44,-1157.67 5665.25,-1149.02\"/>\n<polygon fill=\"black\" stroke=\"black\" points=\"5668.74,-1149.3 5666.19,-1139.02 5661.77,-1148.65 5668.74,-1149.3\"/>\n</g>\n<!-- 373 -->\n<g id=\"node374\" class=\"node\">\n<title>373</title>\n<polygon fill=\"#399de5\" stroke=\"black\" points=\"5613,-1012.5 5497,-1012.5 5497,-944.5 5613,-944.5 5613,-1012.5\"/>\n<text text-anchor=\"middle\" x=\"5555\" y=\"-997.3\" font-family=\"Helvetica,sans-Serif\" font-size=\"14.00\">entropy = 0.0</text>\n<text text-anchor=\"middle\" x=\"5555\" y=\"-982.3\" font-family=\"Helvetica,sans-Serif\" font-size=\"14.00\">samples = 3</text>\n<text text-anchor=\"middle\" x=\"5555\" y=\"-967.3\" font-family=\"Helvetica,sans-Serif\" font-size=\"14.00\">value = [0, 3]</text>\n<text text-anchor=\"middle\" x=\"5555\" y=\"-952.3\" font-family=\"Helvetica,sans-Serif\" font-size=\"14.00\">class = Survived</text>\n</g>\n<!-- 372&#45;&gt;373 -->\n<g id=\"edge373\" class=\"edge\">\n<title>372-&gt;373</title>\n<path fill=\"none\" stroke=\"black\" d=\"M5630.1,-1055.91C5618.71,-1044.32 5606.31,-1031.7 5594.92,-1020.11\"/>\n<polygon fill=\"black\" stroke=\"black\" points=\"5597.11,-1017.35 5587.6,-1012.67 5592.11,-1022.25 5597.11,-1017.35\"/>\n</g>\n<!-- 374 -->\n<g id=\"node375\" class=\"node\">\n<title>374</title>\n<polygon fill=\"#ffffff\" stroke=\"black\" points=\"5727,-1020 5631,-1020 5631,-937 5727,-937 5727,-1020\"/>\n<text text-anchor=\"middle\" x=\"5679\" y=\"-1004.8\" font-family=\"Helvetica,sans-Serif\" font-size=\"14.00\">Parch &lt;= 0.5</text>\n<text text-anchor=\"middle\" x=\"5679\" y=\"-989.8\" font-family=\"Helvetica,sans-Serif\" font-size=\"14.00\">entropy = 1.0</text>\n<text text-anchor=\"middle\" x=\"5679\" y=\"-974.8\" font-family=\"Helvetica,sans-Serif\" font-size=\"14.00\">samples = 4</text>\n<text text-anchor=\"middle\" x=\"5679\" y=\"-959.8\" font-family=\"Helvetica,sans-Serif\" font-size=\"14.00\">value = [2, 2]</text>\n<text text-anchor=\"middle\" x=\"5679\" y=\"-944.8\" font-family=\"Helvetica,sans-Serif\" font-size=\"14.00\">class = Died</text>\n</g>\n<!-- 372&#45;&gt;374 -->\n<g id=\"edge374\" class=\"edge\">\n<title>372-&gt;374</title>\n<path fill=\"none\" stroke=\"black\" d=\"M5673.12,-1055.91C5673.76,-1047.56 5674.45,-1038.67 5675.11,-1030.02\"/>\n<polygon fill=\"black\" stroke=\"black\" points=\"5678.61,-1030.26 5675.88,-1020.02 5671.63,-1029.72 5678.61,-1030.26\"/>\n</g>\n<!-- 375 -->\n<g id=\"node376\" class=\"node\">\n<title>375</title>\n<polygon fill=\"#9ccef2\" stroke=\"black\" points=\"5617,-901 5501,-901 5501,-818 5617,-818 5617,-901\"/>\n<text text-anchor=\"middle\" x=\"5559\" y=\"-885.8\" font-family=\"Helvetica,sans-Serif\" font-size=\"14.00\">Age &lt;= 27.0</text>\n<text text-anchor=\"middle\" x=\"5559\" y=\"-870.8\" font-family=\"Helvetica,sans-Serif\" font-size=\"14.00\">entropy = 0.918</text>\n<text text-anchor=\"middle\" x=\"5559\" y=\"-855.8\" font-family=\"Helvetica,sans-Serif\" font-size=\"14.00\">samples = 3</text>\n<text text-anchor=\"middle\" x=\"5559\" y=\"-840.8\" font-family=\"Helvetica,sans-Serif\" font-size=\"14.00\">value = [1, 2]</text>\n<text text-anchor=\"middle\" x=\"5559\" y=\"-825.8\" font-family=\"Helvetica,sans-Serif\" font-size=\"14.00\">class = Survived</text>\n</g>\n<!-- 374&#45;&gt;375 -->\n<g id=\"edge375\" class=\"edge\">\n<title>374-&gt;375</title>\n<path fill=\"none\" stroke=\"black\" d=\"M5637.37,-936.91C5627.87,-927.65 5617.7,-917.73 5607.93,-908.21\"/>\n<polygon fill=\"black\" stroke=\"black\" points=\"5610.16,-905.5 5600.56,-901.02 5605.28,-910.51 5610.16,-905.5\"/>\n</g>\n<!-- 378 -->\n<g id=\"node379\" class=\"node\">\n<title>378</title>\n<polygon fill=\"#e58139\" stroke=\"black\" points=\"5731,-893.5 5635,-893.5 5635,-825.5 5731,-825.5 5731,-893.5\"/>\n<text text-anchor=\"middle\" x=\"5683\" y=\"-878.3\" font-family=\"Helvetica,sans-Serif\" font-size=\"14.00\">entropy = 0.0</text>\n<text text-anchor=\"middle\" x=\"5683\" y=\"-863.3\" font-family=\"Helvetica,sans-Serif\" font-size=\"14.00\">samples = 1</text>\n<text text-anchor=\"middle\" x=\"5683\" y=\"-848.3\" font-family=\"Helvetica,sans-Serif\" font-size=\"14.00\">value = [1, 0]</text>\n<text text-anchor=\"middle\" x=\"5683\" y=\"-833.3\" font-family=\"Helvetica,sans-Serif\" font-size=\"14.00\">class = Died</text>\n</g>\n<!-- 374&#45;&gt;378 -->\n<g id=\"edge378\" class=\"edge\">\n<title>374-&gt;378</title>\n<path fill=\"none\" stroke=\"black\" d=\"M5680.39,-936.91C5680.75,-926.2 5681.15,-914.62 5681.52,-903.78\"/>\n<polygon fill=\"black\" stroke=\"black\" points=\"5685.02,-903.78 5681.87,-893.67 5678.03,-903.54 5685.02,-903.78\"/>\n</g>\n<!-- 376 -->\n<g id=\"node377\" class=\"node\">\n<title>376</title>\n<polygon fill=\"#e58139\" stroke=\"black\" points=\"5545,-774.5 5449,-774.5 5449,-706.5 5545,-706.5 5545,-774.5\"/>\n<text text-anchor=\"middle\" x=\"5497\" y=\"-759.3\" font-family=\"Helvetica,sans-Serif\" font-size=\"14.00\">entropy = 0.0</text>\n<text text-anchor=\"middle\" x=\"5497\" y=\"-744.3\" font-family=\"Helvetica,sans-Serif\" font-size=\"14.00\">samples = 1</text>\n<text text-anchor=\"middle\" x=\"5497\" y=\"-729.3\" font-family=\"Helvetica,sans-Serif\" font-size=\"14.00\">value = [1, 0]</text>\n<text text-anchor=\"middle\" x=\"5497\" y=\"-714.3\" font-family=\"Helvetica,sans-Serif\" font-size=\"14.00\">class = Died</text>\n</g>\n<!-- 375&#45;&gt;376 -->\n<g id=\"edge376\" class=\"edge\">\n<title>375-&gt;376</title>\n<path fill=\"none\" stroke=\"black\" d=\"M5537.49,-817.91C5531.64,-806.87 5525.3,-794.9 5519.4,-783.77\"/>\n<polygon fill=\"black\" stroke=\"black\" points=\"5522.35,-781.86 5514.58,-774.67 5516.17,-785.14 5522.35,-781.86\"/>\n</g>\n<!-- 377 -->\n<g id=\"node378\" class=\"node\">\n<title>377</title>\n<polygon fill=\"#399de5\" stroke=\"black\" points=\"5679,-774.5 5563,-774.5 5563,-706.5 5679,-706.5 5679,-774.5\"/>\n<text text-anchor=\"middle\" x=\"5621\" y=\"-759.3\" font-family=\"Helvetica,sans-Serif\" font-size=\"14.00\">entropy = 0.0</text>\n<text text-anchor=\"middle\" x=\"5621\" y=\"-744.3\" font-family=\"Helvetica,sans-Serif\" font-size=\"14.00\">samples = 2</text>\n<text text-anchor=\"middle\" x=\"5621\" y=\"-729.3\" font-family=\"Helvetica,sans-Serif\" font-size=\"14.00\">value = [0, 2]</text>\n<text text-anchor=\"middle\" x=\"5621\" y=\"-714.3\" font-family=\"Helvetica,sans-Serif\" font-size=\"14.00\">class = Survived</text>\n</g>\n<!-- 375&#45;&gt;377 -->\n<g id=\"edge377\" class=\"edge\">\n<title>375-&gt;377</title>\n<path fill=\"none\" stroke=\"black\" d=\"M5580.51,-817.91C5586.36,-806.87 5592.7,-794.9 5598.6,-783.77\"/>\n<polygon fill=\"black\" stroke=\"black\" points=\"5601.83,-785.14 5603.42,-774.67 5595.65,-781.86 5601.83,-785.14\"/>\n</g>\n<!-- 380 -->\n<g id=\"node381\" class=\"node\">\n<title>380</title>\n<polygon fill=\"#e9965a\" stroke=\"black\" points=\"5857.5,-1139 5746.5,-1139 5746.5,-1056 5857.5,-1056 5857.5,-1139\"/>\n<text text-anchor=\"middle\" x=\"5802\" y=\"-1123.8\" font-family=\"Helvetica,sans-Serif\" font-size=\"14.00\">Age &lt;= 30.0</text>\n<text text-anchor=\"middle\" x=\"5802\" y=\"-1108.8\" font-family=\"Helvetica,sans-Serif\" font-size=\"14.00\">entropy = 0.592</text>\n<text text-anchor=\"middle\" x=\"5802\" y=\"-1093.8\" font-family=\"Helvetica,sans-Serif\" font-size=\"14.00\">samples = 7</text>\n<text text-anchor=\"middle\" x=\"5802\" y=\"-1078.8\" font-family=\"Helvetica,sans-Serif\" font-size=\"14.00\">value = [6, 1]</text>\n<text text-anchor=\"middle\" x=\"5802\" y=\"-1063.8\" font-family=\"Helvetica,sans-Serif\" font-size=\"14.00\">class = Died</text>\n</g>\n<!-- 379&#45;&gt;380 -->\n<g id=\"edge380\" class=\"edge\">\n<title>379-&gt;380</title>\n<path fill=\"none\" stroke=\"black\" d=\"M5802,-1174.91C5802,-1166.65 5802,-1157.86 5802,-1149.3\"/>\n<polygon fill=\"black\" stroke=\"black\" points=\"5805.5,-1149.02 5802,-1139.02 5798.5,-1149.02 5805.5,-1149.02\"/>\n</g>\n<!-- 385 -->\n<g id=\"node386\" class=\"node\">\n<title>385</title>\n<polygon fill=\"#399de5\" stroke=\"black\" points=\"5992,-1131.5 5876,-1131.5 5876,-1063.5 5992,-1063.5 5992,-1131.5\"/>\n<text text-anchor=\"middle\" x=\"5934\" y=\"-1116.3\" font-family=\"Helvetica,sans-Serif\" font-size=\"14.00\">entropy = 0.0</text>\n<text text-anchor=\"middle\" x=\"5934\" y=\"-1101.3\" font-family=\"Helvetica,sans-Serif\" font-size=\"14.00\">samples = 1</text>\n<text text-anchor=\"middle\" x=\"5934\" y=\"-1086.3\" font-family=\"Helvetica,sans-Serif\" font-size=\"14.00\">value = [0, 1]</text>\n<text text-anchor=\"middle\" x=\"5934\" y=\"-1071.3\" font-family=\"Helvetica,sans-Serif\" font-size=\"14.00\">class = Survived</text>\n</g>\n<!-- 379&#45;&gt;385 -->\n<g id=\"edge385\" class=\"edge\">\n<title>379-&gt;385</title>\n<path fill=\"none\" stroke=\"black\" d=\"M5847.8,-1174.91C5861.12,-1163.1 5875.65,-1150.22 5888.93,-1138.45\"/>\n<polygon fill=\"black\" stroke=\"black\" points=\"5891.42,-1140.92 5896.58,-1131.67 5886.78,-1135.68 5891.42,-1140.92\"/>\n</g>\n<!-- 381 -->\n<g id=\"node382\" class=\"node\">\n<title>381</title>\n<polygon fill=\"#e58139\" stroke=\"black\" points=\"5848,-1012.5 5752,-1012.5 5752,-944.5 5848,-944.5 5848,-1012.5\"/>\n<text text-anchor=\"middle\" x=\"5800\" y=\"-997.3\" font-family=\"Helvetica,sans-Serif\" font-size=\"14.00\">entropy = 0.0</text>\n<text text-anchor=\"middle\" x=\"5800\" y=\"-982.3\" font-family=\"Helvetica,sans-Serif\" font-size=\"14.00\">samples = 5</text>\n<text text-anchor=\"middle\" x=\"5800\" y=\"-967.3\" font-family=\"Helvetica,sans-Serif\" font-size=\"14.00\">value = [5, 0]</text>\n<text text-anchor=\"middle\" x=\"5800\" y=\"-952.3\" font-family=\"Helvetica,sans-Serif\" font-size=\"14.00\">class = Died</text>\n</g>\n<!-- 380&#45;&gt;381 -->\n<g id=\"edge381\" class=\"edge\">\n<title>380-&gt;381</title>\n<path fill=\"none\" stroke=\"black\" d=\"M5801.31,-1055.91C5801.12,-1045.2 5800.93,-1033.62 5800.74,-1022.78\"/>\n<polygon fill=\"black\" stroke=\"black\" points=\"5804.24,-1022.61 5800.57,-1012.67 5797.24,-1022.73 5804.24,-1022.61\"/>\n</g>\n<!-- 382 -->\n<g id=\"node383\" class=\"node\">\n<title>382</title>\n<polygon fill=\"#ffffff\" stroke=\"black\" points=\"5976,-1020 5866,-1020 5866,-937 5976,-937 5976,-1020\"/>\n<text text-anchor=\"middle\" x=\"5921\" y=\"-1004.8\" font-family=\"Helvetica,sans-Serif\" font-size=\"14.00\">Fare &lt;= 19.262</text>\n<text text-anchor=\"middle\" x=\"5921\" y=\"-989.8\" font-family=\"Helvetica,sans-Serif\" font-size=\"14.00\">entropy = 1.0</text>\n<text text-anchor=\"middle\" x=\"5921\" y=\"-974.8\" font-family=\"Helvetica,sans-Serif\" font-size=\"14.00\">samples = 2</text>\n<text text-anchor=\"middle\" x=\"5921\" y=\"-959.8\" font-family=\"Helvetica,sans-Serif\" font-size=\"14.00\">value = [1, 1]</text>\n<text text-anchor=\"middle\" x=\"5921\" y=\"-944.8\" font-family=\"Helvetica,sans-Serif\" font-size=\"14.00\">class = Died</text>\n</g>\n<!-- 380&#45;&gt;382 -->\n<g id=\"edge382\" class=\"edge\">\n<title>380-&gt;382</title>\n<path fill=\"none\" stroke=\"black\" d=\"M5843.29,-1055.91C5852.7,-1046.65 5862.79,-1036.73 5872.48,-1027.21\"/>\n<polygon fill=\"black\" stroke=\"black\" points=\"5875.11,-1029.53 5879.79,-1020.02 5870.2,-1024.54 5875.11,-1029.53\"/>\n</g>\n<!-- 383 -->\n<g id=\"node384\" class=\"node\">\n<title>383</title>\n<polygon fill=\"#e58139\" stroke=\"black\" points=\"5852,-893.5 5756,-893.5 5756,-825.5 5852,-825.5 5852,-893.5\"/>\n<text text-anchor=\"middle\" x=\"5804\" y=\"-878.3\" font-family=\"Helvetica,sans-Serif\" font-size=\"14.00\">entropy = 0.0</text>\n<text text-anchor=\"middle\" x=\"5804\" y=\"-863.3\" font-family=\"Helvetica,sans-Serif\" font-size=\"14.00\">samples = 1</text>\n<text text-anchor=\"middle\" x=\"5804\" y=\"-848.3\" font-family=\"Helvetica,sans-Serif\" font-size=\"14.00\">value = [1, 0]</text>\n<text text-anchor=\"middle\" x=\"5804\" y=\"-833.3\" font-family=\"Helvetica,sans-Serif\" font-size=\"14.00\">class = Died</text>\n</g>\n<!-- 382&#45;&gt;383 -->\n<g id=\"edge383\" class=\"edge\">\n<title>382-&gt;383</title>\n<path fill=\"none\" stroke=\"black\" d=\"M5880.41,-936.91C5868.71,-925.21 5855.96,-912.46 5844.28,-900.78\"/>\n<polygon fill=\"black\" stroke=\"black\" points=\"5846.71,-898.26 5837.17,-893.67 5841.76,-903.21 5846.71,-898.26\"/>\n</g>\n<!-- 384 -->\n<g id=\"node385\" class=\"node\">\n<title>384</title>\n<polygon fill=\"#399de5\" stroke=\"black\" points=\"5986,-893.5 5870,-893.5 5870,-825.5 5986,-825.5 5986,-893.5\"/>\n<text text-anchor=\"middle\" x=\"5928\" y=\"-878.3\" font-family=\"Helvetica,sans-Serif\" font-size=\"14.00\">entropy = 0.0</text>\n<text text-anchor=\"middle\" x=\"5928\" y=\"-863.3\" font-family=\"Helvetica,sans-Serif\" font-size=\"14.00\">samples = 1</text>\n<text text-anchor=\"middle\" x=\"5928\" y=\"-848.3\" font-family=\"Helvetica,sans-Serif\" font-size=\"14.00\">value = [0, 1]</text>\n<text text-anchor=\"middle\" x=\"5928\" y=\"-833.3\" font-family=\"Helvetica,sans-Serif\" font-size=\"14.00\">class = Survived</text>\n</g>\n<!-- 382&#45;&gt;384 -->\n<g id=\"edge384\" class=\"edge\">\n<title>382-&gt;384</title>\n<path fill=\"none\" stroke=\"black\" d=\"M5923.43,-936.91C5924.07,-926.2 5924.76,-914.62 5925.41,-903.78\"/>\n<polygon fill=\"black\" stroke=\"black\" points=\"5928.91,-903.86 5926.02,-893.67 5921.92,-903.44 5928.91,-903.86\"/>\n</g>\n<!-- 388 -->\n<g id=\"node389\" class=\"node\">\n<title>388</title>\n<polygon fill=\"#e58139\" stroke=\"black\" points=\"5443,-1726.5 5347,-1726.5 5347,-1658.5 5443,-1658.5 5443,-1726.5\"/>\n<text text-anchor=\"middle\" x=\"5395\" y=\"-1711.3\" font-family=\"Helvetica,sans-Serif\" font-size=\"14.00\">entropy = 0.0</text>\n<text text-anchor=\"middle\" x=\"5395\" y=\"-1696.3\" font-family=\"Helvetica,sans-Serif\" font-size=\"14.00\">samples = 6</text>\n<text text-anchor=\"middle\" x=\"5395\" y=\"-1681.3\" font-family=\"Helvetica,sans-Serif\" font-size=\"14.00\">value = [6, 0]</text>\n<text text-anchor=\"middle\" x=\"5395\" y=\"-1666.3\" font-family=\"Helvetica,sans-Serif\" font-size=\"14.00\">class = Died</text>\n</g>\n<!-- 387&#45;&gt;388 -->\n<g id=\"edge388\" class=\"edge\">\n<title>387-&gt;388</title>\n<path fill=\"none\" stroke=\"black\" d=\"M5395,-1769.91C5395,-1759.2 5395,-1747.62 5395,-1736.78\"/>\n<polygon fill=\"black\" stroke=\"black\" points=\"5398.5,-1736.67 5395,-1726.67 5391.5,-1736.67 5398.5,-1736.67\"/>\n</g>\n<!-- 389 -->\n<g id=\"node390\" class=\"node\">\n<title>389</title>\n<polygon fill=\"#399de5\" stroke=\"black\" points=\"5577,-1726.5 5461,-1726.5 5461,-1658.5 5577,-1658.5 5577,-1726.5\"/>\n<text text-anchor=\"middle\" x=\"5519\" y=\"-1711.3\" font-family=\"Helvetica,sans-Serif\" font-size=\"14.00\">entropy = 0.0</text>\n<text text-anchor=\"middle\" x=\"5519\" y=\"-1696.3\" font-family=\"Helvetica,sans-Serif\" font-size=\"14.00\">samples = 1</text>\n<text text-anchor=\"middle\" x=\"5519\" y=\"-1681.3\" font-family=\"Helvetica,sans-Serif\" font-size=\"14.00\">value = [0, 1]</text>\n<text text-anchor=\"middle\" x=\"5519\" y=\"-1666.3\" font-family=\"Helvetica,sans-Serif\" font-size=\"14.00\">class = Survived</text>\n</g>\n<!-- 387&#45;&gt;389 -->\n<g id=\"edge389\" class=\"edge\">\n<title>387-&gt;389</title>\n<path fill=\"none\" stroke=\"black\" d=\"M5438.02,-1769.91C5450.42,-1758.21 5463.93,-1745.46 5476.31,-1733.78\"/>\n<polygon fill=\"black\" stroke=\"black\" points=\"5478.98,-1736.08 5483.85,-1726.67 5474.17,-1730.98 5478.98,-1736.08\"/>\n</g>\n<!-- 391 -->\n<g id=\"node392\" class=\"node\">\n<title>391</title>\n<polygon fill=\"#399de5\" stroke=\"black\" points=\"5585,-1845.5 5469,-1845.5 5469,-1777.5 5585,-1777.5 5585,-1845.5\"/>\n<text text-anchor=\"middle\" x=\"5527\" y=\"-1830.3\" font-family=\"Helvetica,sans-Serif\" font-size=\"14.00\">entropy = 0.0</text>\n<text text-anchor=\"middle\" x=\"5527\" y=\"-1815.3\" font-family=\"Helvetica,sans-Serif\" font-size=\"14.00\">samples = 1</text>\n<text text-anchor=\"middle\" x=\"5527\" y=\"-1800.3\" font-family=\"Helvetica,sans-Serif\" font-size=\"14.00\">value = [0, 1]</text>\n<text text-anchor=\"middle\" x=\"5527\" y=\"-1785.3\" font-family=\"Helvetica,sans-Serif\" font-size=\"14.00\">class = Survived</text>\n</g>\n<!-- 390&#45;&gt;391 -->\n<g id=\"edge391\" class=\"edge\">\n<title>390-&gt;391</title>\n<path fill=\"none\" stroke=\"black\" d=\"M5527,-1888.91C5527,-1878.2 5527,-1866.62 5527,-1855.78\"/>\n<polygon fill=\"black\" stroke=\"black\" points=\"5530.5,-1855.67 5527,-1845.67 5523.5,-1855.67 5530.5,-1855.67\"/>\n</g>\n<!-- 392 -->\n<g id=\"node393\" class=\"node\">\n<title>392</title>\n<polygon fill=\"#e78c49\" stroke=\"black\" points=\"5714.5,-1853 5603.5,-1853 5603.5,-1770 5714.5,-1770 5714.5,-1853\"/>\n<text text-anchor=\"middle\" x=\"5659\" y=\"-1837.8\" font-family=\"Helvetica,sans-Serif\" font-size=\"14.00\">Fare &lt;= 31.331</text>\n<text text-anchor=\"middle\" x=\"5659\" y=\"-1822.8\" font-family=\"Helvetica,sans-Serif\" font-size=\"14.00\">entropy = 0.391</text>\n<text text-anchor=\"middle\" x=\"5659\" y=\"-1807.8\" font-family=\"Helvetica,sans-Serif\" font-size=\"14.00\">samples = 26</text>\n<text text-anchor=\"middle\" x=\"5659\" y=\"-1792.8\" font-family=\"Helvetica,sans-Serif\" font-size=\"14.00\">value = [24, 2]</text>\n<text text-anchor=\"middle\" x=\"5659\" y=\"-1777.8\" font-family=\"Helvetica,sans-Serif\" font-size=\"14.00\">class = Died</text>\n</g>\n<!-- 390&#45;&gt;392 -->\n<g id=\"edge392\" class=\"edge\">\n<title>390-&gt;392</title>\n<path fill=\"none\" stroke=\"black\" d=\"M5572.8,-1888.91C5583.34,-1879.56 5594.65,-1869.54 5605.49,-1859.93\"/>\n<polygon fill=\"black\" stroke=\"black\" points=\"5608.12,-1862.27 5613.28,-1853.02 5603.48,-1857.03 5608.12,-1862.27\"/>\n</g>\n<!-- 393 -->\n<g id=\"node394\" class=\"node\">\n<title>393</title>\n<polygon fill=\"#e58139\" stroke=\"black\" points=\"5703,-1726.5 5601,-1726.5 5601,-1658.5 5703,-1658.5 5703,-1726.5\"/>\n<text text-anchor=\"middle\" x=\"5652\" y=\"-1711.3\" font-family=\"Helvetica,sans-Serif\" font-size=\"14.00\">entropy = 0.0</text>\n<text text-anchor=\"middle\" x=\"5652\" y=\"-1696.3\" font-family=\"Helvetica,sans-Serif\" font-size=\"14.00\">samples = 15</text>\n<text text-anchor=\"middle\" x=\"5652\" y=\"-1681.3\" font-family=\"Helvetica,sans-Serif\" font-size=\"14.00\">value = [15, 0]</text>\n<text text-anchor=\"middle\" x=\"5652\" y=\"-1666.3\" font-family=\"Helvetica,sans-Serif\" font-size=\"14.00\">class = Died</text>\n</g>\n<!-- 392&#45;&gt;393 -->\n<g id=\"edge393\" class=\"edge\">\n<title>392-&gt;393</title>\n<path fill=\"none\" stroke=\"black\" d=\"M5656.57,-1769.91C5655.93,-1759.2 5655.24,-1747.62 5654.59,-1736.78\"/>\n<polygon fill=\"black\" stroke=\"black\" points=\"5658.08,-1736.44 5653.98,-1726.67 5651.09,-1736.86 5658.08,-1736.44\"/>\n</g>\n<!-- 394 -->\n<g id=\"node395\" class=\"node\">\n<title>394</title>\n<polygon fill=\"#eb9d65\" stroke=\"black\" points=\"5832.5,-1734 5721.5,-1734 5721.5,-1651 5832.5,-1651 5832.5,-1734\"/>\n<text text-anchor=\"middle\" x=\"5777\" y=\"-1718.8\" font-family=\"Helvetica,sans-Serif\" font-size=\"14.00\">Fare &lt;= 32.881</text>\n<text text-anchor=\"middle\" x=\"5777\" y=\"-1703.8\" font-family=\"Helvetica,sans-Serif\" font-size=\"14.00\">entropy = 0.684</text>\n<text text-anchor=\"middle\" x=\"5777\" y=\"-1688.8\" font-family=\"Helvetica,sans-Serif\" font-size=\"14.00\">samples = 11</text>\n<text text-anchor=\"middle\" x=\"5777\" y=\"-1673.8\" font-family=\"Helvetica,sans-Serif\" font-size=\"14.00\">value = [9, 2]</text>\n<text text-anchor=\"middle\" x=\"5777\" y=\"-1658.8\" font-family=\"Helvetica,sans-Serif\" font-size=\"14.00\">class = Died</text>\n</g>\n<!-- 392&#45;&gt;394 -->\n<g id=\"edge394\" class=\"edge\">\n<title>392-&gt;394</title>\n<path fill=\"none\" stroke=\"black\" d=\"M5699.94,-1769.91C5709.28,-1760.65 5719.28,-1750.73 5728.88,-1741.21\"/>\n<polygon fill=\"black\" stroke=\"black\" points=\"5731.5,-1743.55 5736.13,-1734.02 5726.57,-1738.58 5731.5,-1743.55\"/>\n</g>\n<!-- 395 -->\n<g id=\"node396\" class=\"node\">\n<title>395</title>\n<polygon fill=\"#399de5\" stroke=\"black\" points=\"5773,-1607.5 5657,-1607.5 5657,-1539.5 5773,-1539.5 5773,-1607.5\"/>\n<text text-anchor=\"middle\" x=\"5715\" y=\"-1592.3\" font-family=\"Helvetica,sans-Serif\" font-size=\"14.00\">entropy = 0.0</text>\n<text text-anchor=\"middle\" x=\"5715\" y=\"-1577.3\" font-family=\"Helvetica,sans-Serif\" font-size=\"14.00\">samples = 2</text>\n<text text-anchor=\"middle\" x=\"5715\" y=\"-1562.3\" font-family=\"Helvetica,sans-Serif\" font-size=\"14.00\">value = [0, 2]</text>\n<text text-anchor=\"middle\" x=\"5715\" y=\"-1547.3\" font-family=\"Helvetica,sans-Serif\" font-size=\"14.00\">class = Survived</text>\n</g>\n<!-- 394&#45;&gt;395 -->\n<g id=\"edge395\" class=\"edge\">\n<title>394-&gt;395</title>\n<path fill=\"none\" stroke=\"black\" d=\"M5755.49,-1650.91C5749.64,-1639.87 5743.3,-1627.9 5737.4,-1616.77\"/>\n<polygon fill=\"black\" stroke=\"black\" points=\"5740.35,-1614.86 5732.58,-1607.67 5734.17,-1618.14 5740.35,-1614.86\"/>\n</g>\n<!-- 396 -->\n<g id=\"node397\" class=\"node\">\n<title>396</title>\n<polygon fill=\"#e58139\" stroke=\"black\" points=\"5887,-1607.5 5791,-1607.5 5791,-1539.5 5887,-1539.5 5887,-1607.5\"/>\n<text text-anchor=\"middle\" x=\"5839\" y=\"-1592.3\" font-family=\"Helvetica,sans-Serif\" font-size=\"14.00\">entropy = 0.0</text>\n<text text-anchor=\"middle\" x=\"5839\" y=\"-1577.3\" font-family=\"Helvetica,sans-Serif\" font-size=\"14.00\">samples = 9</text>\n<text text-anchor=\"middle\" x=\"5839\" y=\"-1562.3\" font-family=\"Helvetica,sans-Serif\" font-size=\"14.00\">value = [9, 0]</text>\n<text text-anchor=\"middle\" x=\"5839\" y=\"-1547.3\" font-family=\"Helvetica,sans-Serif\" font-size=\"14.00\">class = Died</text>\n</g>\n<!-- 394&#45;&gt;396 -->\n<g id=\"edge396\" class=\"edge\">\n<title>394-&gt;396</title>\n<path fill=\"none\" stroke=\"black\" d=\"M5798.51,-1650.91C5804.36,-1639.87 5810.7,-1627.9 5816.6,-1616.77\"/>\n<polygon fill=\"black\" stroke=\"black\" points=\"5819.83,-1618.14 5821.42,-1607.67 5813.65,-1614.86 5819.83,-1618.14\"/>\n</g>\n</g>\n</svg>"
          },
          "metadata": {}
        }
      ]
    },
    {
      "cell_type": "code",
      "source": [
        "from sklearn.model_selection import train_test_split"
      ],
      "metadata": {
        "id": "ygNAXaOexn70"
      },
      "execution_count": 319,
      "outputs": []
    },
    {
      "cell_type": "code",
      "source": [
        "X_train, X_test, y_train, y_test = train_test_split(X, y, test_size=0.33, random_state=42)"
      ],
      "metadata": {
        "id": "iSmfDoAG1Gcl"
      },
      "execution_count": 320,
      "outputs": []
    },
    {
      "cell_type": "code",
      "source": [
        "X_train.shape"
      ],
      "metadata": {
        "colab": {
          "base_uri": "https://localhost:8080/"
        },
        "id": "MExCi6v51Yvq",
        "outputId": "b86e1bb4-87b2-446c-9616-8f7815a5ead0"
      },
      "execution_count": 321,
      "outputs": [
        {
          "output_type": "execute_result",
          "data": {
            "text/plain": [
              "(596, 10)"
            ]
          },
          "metadata": {},
          "execution_count": 321
        }
      ]
    },
    {
      "cell_type": "code",
      "source": [
        "X_test.shape"
      ],
      "metadata": {
        "colab": {
          "base_uri": "https://localhost:8080/"
        },
        "id": "XQtuKQ1O1djR",
        "outputId": "d60fa9e1-c451-4f09-94c5-1bdae4e61472"
      },
      "execution_count": 322,
      "outputs": [
        {
          "output_type": "execute_result",
          "data": {
            "text/plain": [
              "(295, 10)"
            ]
          },
          "metadata": {},
          "execution_count": 322
        }
      ]
    },
    {
      "cell_type": "code",
      "source": [
        "clf.score(X, y)"
      ],
      "metadata": {
        "colab": {
          "base_uri": "https://localhost:8080/"
        },
        "id": "L_5n4blx1fSa",
        "outputId": "4bea86e8-f8a7-484b-e3a9-553a8b0fe6bb"
      },
      "execution_count": 323,
      "outputs": [
        {
          "output_type": "execute_result",
          "data": {
            "text/plain": [
              "0.9797979797979798"
            ]
          },
          "metadata": {},
          "execution_count": 323
        }
      ]
    },
    {
      "cell_type": "code",
      "source": [
        "clf.fit(X_train, y_train)"
      ],
      "metadata": {
        "colab": {
          "base_uri": "https://localhost:8080/",
          "height": 74
        },
        "id": "JrwDAdCk1xLn",
        "outputId": "bedf30b2-8b4a-4cda-9ac8-2c547cfd6137"
      },
      "execution_count": 324,
      "outputs": [
        {
          "output_type": "execute_result",
          "data": {
            "text/plain": [
              "DecisionTreeClassifier(criterion='entropy')"
            ],
            "text/html": [
              "<style>#sk-container-id-26 {color: black;}#sk-container-id-26 pre{padding: 0;}#sk-container-id-26 div.sk-toggleable {background-color: white;}#sk-container-id-26 label.sk-toggleable__label {cursor: pointer;display: block;width: 100%;margin-bottom: 0;padding: 0.3em;box-sizing: border-box;text-align: center;}#sk-container-id-26 label.sk-toggleable__label-arrow:before {content: \"▸\";float: left;margin-right: 0.25em;color: #696969;}#sk-container-id-26 label.sk-toggleable__label-arrow:hover:before {color: black;}#sk-container-id-26 div.sk-estimator:hover label.sk-toggleable__label-arrow:before {color: black;}#sk-container-id-26 div.sk-toggleable__content {max-height: 0;max-width: 0;overflow: hidden;text-align: left;background-color: #f0f8ff;}#sk-container-id-26 div.sk-toggleable__content pre {margin: 0.2em;color: black;border-radius: 0.25em;background-color: #f0f8ff;}#sk-container-id-26 input.sk-toggleable__control:checked~div.sk-toggleable__content {max-height: 200px;max-width: 100%;overflow: auto;}#sk-container-id-26 input.sk-toggleable__control:checked~label.sk-toggleable__label-arrow:before {content: \"▾\";}#sk-container-id-26 div.sk-estimator input.sk-toggleable__control:checked~label.sk-toggleable__label {background-color: #d4ebff;}#sk-container-id-26 div.sk-label input.sk-toggleable__control:checked~label.sk-toggleable__label {background-color: #d4ebff;}#sk-container-id-26 input.sk-hidden--visually {border: 0;clip: rect(1px 1px 1px 1px);clip: rect(1px, 1px, 1px, 1px);height: 1px;margin: -1px;overflow: hidden;padding: 0;position: absolute;width: 1px;}#sk-container-id-26 div.sk-estimator {font-family: monospace;background-color: #f0f8ff;border: 1px dotted black;border-radius: 0.25em;box-sizing: border-box;margin-bottom: 0.5em;}#sk-container-id-26 div.sk-estimator:hover {background-color: #d4ebff;}#sk-container-id-26 div.sk-parallel-item::after {content: \"\";width: 100%;border-bottom: 1px solid gray;flex-grow: 1;}#sk-container-id-26 div.sk-label:hover label.sk-toggleable__label {background-color: #d4ebff;}#sk-container-id-26 div.sk-serial::before {content: \"\";position: absolute;border-left: 1px solid gray;box-sizing: border-box;top: 0;bottom: 0;left: 50%;z-index: 0;}#sk-container-id-26 div.sk-serial {display: flex;flex-direction: column;align-items: center;background-color: white;padding-right: 0.2em;padding-left: 0.2em;position: relative;}#sk-container-id-26 div.sk-item {position: relative;z-index: 1;}#sk-container-id-26 div.sk-parallel {display: flex;align-items: stretch;justify-content: center;background-color: white;position: relative;}#sk-container-id-26 div.sk-item::before, #sk-container-id-26 div.sk-parallel-item::before {content: \"\";position: absolute;border-left: 1px solid gray;box-sizing: border-box;top: 0;bottom: 0;left: 50%;z-index: -1;}#sk-container-id-26 div.sk-parallel-item {display: flex;flex-direction: column;z-index: 1;position: relative;background-color: white;}#sk-container-id-26 div.sk-parallel-item:first-child::after {align-self: flex-end;width: 50%;}#sk-container-id-26 div.sk-parallel-item:last-child::after {align-self: flex-start;width: 50%;}#sk-container-id-26 div.sk-parallel-item:only-child::after {width: 0;}#sk-container-id-26 div.sk-dashed-wrapped {border: 1px dashed gray;margin: 0 0.4em 0.5em 0.4em;box-sizing: border-box;padding-bottom: 0.4em;background-color: white;}#sk-container-id-26 div.sk-label label {font-family: monospace;font-weight: bold;display: inline-block;line-height: 1.2em;}#sk-container-id-26 div.sk-label-container {text-align: center;}#sk-container-id-26 div.sk-container {/* jupyter's `normalize.less` sets `[hidden] { display: none; }` but bootstrap.min.css set `[hidden] { display: none !important; }` so we also need the `!important` here to be able to override the default hidden behavior on the sphinx rendered scikit-learn.org. See: https://github.com/scikit-learn/scikit-learn/issues/21755 */display: inline-block !important;position: relative;}#sk-container-id-26 div.sk-text-repr-fallback {display: none;}</style><div id=\"sk-container-id-26\" class=\"sk-top-container\"><div class=\"sk-text-repr-fallback\"><pre>DecisionTreeClassifier(criterion=&#x27;entropy&#x27;)</pre><b>In a Jupyter environment, please rerun this cell to show the HTML representation or trust the notebook. <br />On GitHub, the HTML representation is unable to render, please try loading this page with nbviewer.org.</b></div><div class=\"sk-container\" hidden><div class=\"sk-item\"><div class=\"sk-estimator sk-toggleable\"><input class=\"sk-toggleable__control sk-hidden--visually\" id=\"sk-estimator-id-32\" type=\"checkbox\" checked><label for=\"sk-estimator-id-32\" class=\"sk-toggleable__label sk-toggleable__label-arrow\">DecisionTreeClassifier</label><div class=\"sk-toggleable__content\"><pre>DecisionTreeClassifier(criterion=&#x27;entropy&#x27;)</pre></div></div></div></div></div>"
            ]
          },
          "metadata": {},
          "execution_count": 324
        }
      ]
    },
    {
      "cell_type": "code",
      "source": [
        "clf.score(X_train, y_train)"
      ],
      "metadata": {
        "colab": {
          "base_uri": "https://localhost:8080/"
        },
        "id": "PqMhTWjq156s",
        "outputId": "0c6e1b30-21a0-42fa-8231-f385813950bb"
      },
      "execution_count": 325,
      "outputs": [
        {
          "output_type": "execute_result",
          "data": {
            "text/plain": [
              "0.9798657718120806"
            ]
          },
          "metadata": {},
          "execution_count": 325
        }
      ]
    },
    {
      "cell_type": "code",
      "source": [
        "clf.score(X_test, y_test)"
      ],
      "metadata": {
        "colab": {
          "base_uri": "https://localhost:8080/"
        },
        "id": "tdHlfWPL19ax",
        "outputId": "c67e5760-e535-42ab-ec6d-1c9032992754"
      },
      "execution_count": 326,
      "outputs": [
        {
          "output_type": "execute_result",
          "data": {
            "text/plain": [
              "0.7796610169491526"
            ]
          },
          "metadata": {},
          "execution_count": 326
        }
      ]
    },
    {
      "cell_type": "code",
      "source": [
        "clf = tree.DecisionTreeClassifier(criterion='entropy', max_depth=3)"
      ],
      "metadata": {
        "id": "UjxLvgTH2Bm_"
      },
      "execution_count": 327,
      "outputs": []
    },
    {
      "cell_type": "code",
      "source": [
        "clf.fit(X_train, y_train)"
      ],
      "metadata": {
        "colab": {
          "base_uri": "https://localhost:8080/",
          "height": 74
        },
        "id": "wjCTJo3O2VoM",
        "outputId": "9cadef6c-fa27-47de-dcef-9a452c1b7236"
      },
      "execution_count": 328,
      "outputs": [
        {
          "output_type": "execute_result",
          "data": {
            "text/plain": [
              "DecisionTreeClassifier(criterion='entropy', max_depth=3)"
            ],
            "text/html": [
              "<style>#sk-container-id-27 {color: black;}#sk-container-id-27 pre{padding: 0;}#sk-container-id-27 div.sk-toggleable {background-color: white;}#sk-container-id-27 label.sk-toggleable__label {cursor: pointer;display: block;width: 100%;margin-bottom: 0;padding: 0.3em;box-sizing: border-box;text-align: center;}#sk-container-id-27 label.sk-toggleable__label-arrow:before {content: \"▸\";float: left;margin-right: 0.25em;color: #696969;}#sk-container-id-27 label.sk-toggleable__label-arrow:hover:before {color: black;}#sk-container-id-27 div.sk-estimator:hover label.sk-toggleable__label-arrow:before {color: black;}#sk-container-id-27 div.sk-toggleable__content {max-height: 0;max-width: 0;overflow: hidden;text-align: left;background-color: #f0f8ff;}#sk-container-id-27 div.sk-toggleable__content pre {margin: 0.2em;color: black;border-radius: 0.25em;background-color: #f0f8ff;}#sk-container-id-27 input.sk-toggleable__control:checked~div.sk-toggleable__content {max-height: 200px;max-width: 100%;overflow: auto;}#sk-container-id-27 input.sk-toggleable__control:checked~label.sk-toggleable__label-arrow:before {content: \"▾\";}#sk-container-id-27 div.sk-estimator input.sk-toggleable__control:checked~label.sk-toggleable__label {background-color: #d4ebff;}#sk-container-id-27 div.sk-label input.sk-toggleable__control:checked~label.sk-toggleable__label {background-color: #d4ebff;}#sk-container-id-27 input.sk-hidden--visually {border: 0;clip: rect(1px 1px 1px 1px);clip: rect(1px, 1px, 1px, 1px);height: 1px;margin: -1px;overflow: hidden;padding: 0;position: absolute;width: 1px;}#sk-container-id-27 div.sk-estimator {font-family: monospace;background-color: #f0f8ff;border: 1px dotted black;border-radius: 0.25em;box-sizing: border-box;margin-bottom: 0.5em;}#sk-container-id-27 div.sk-estimator:hover {background-color: #d4ebff;}#sk-container-id-27 div.sk-parallel-item::after {content: \"\";width: 100%;border-bottom: 1px solid gray;flex-grow: 1;}#sk-container-id-27 div.sk-label:hover label.sk-toggleable__label {background-color: #d4ebff;}#sk-container-id-27 div.sk-serial::before {content: \"\";position: absolute;border-left: 1px solid gray;box-sizing: border-box;top: 0;bottom: 0;left: 50%;z-index: 0;}#sk-container-id-27 div.sk-serial {display: flex;flex-direction: column;align-items: center;background-color: white;padding-right: 0.2em;padding-left: 0.2em;position: relative;}#sk-container-id-27 div.sk-item {position: relative;z-index: 1;}#sk-container-id-27 div.sk-parallel {display: flex;align-items: stretch;justify-content: center;background-color: white;position: relative;}#sk-container-id-27 div.sk-item::before, #sk-container-id-27 div.sk-parallel-item::before {content: \"\";position: absolute;border-left: 1px solid gray;box-sizing: border-box;top: 0;bottom: 0;left: 50%;z-index: -1;}#sk-container-id-27 div.sk-parallel-item {display: flex;flex-direction: column;z-index: 1;position: relative;background-color: white;}#sk-container-id-27 div.sk-parallel-item:first-child::after {align-self: flex-end;width: 50%;}#sk-container-id-27 div.sk-parallel-item:last-child::after {align-self: flex-start;width: 50%;}#sk-container-id-27 div.sk-parallel-item:only-child::after {width: 0;}#sk-container-id-27 div.sk-dashed-wrapped {border: 1px dashed gray;margin: 0 0.4em 0.5em 0.4em;box-sizing: border-box;padding-bottom: 0.4em;background-color: white;}#sk-container-id-27 div.sk-label label {font-family: monospace;font-weight: bold;display: inline-block;line-height: 1.2em;}#sk-container-id-27 div.sk-label-container {text-align: center;}#sk-container-id-27 div.sk-container {/* jupyter's `normalize.less` sets `[hidden] { display: none; }` but bootstrap.min.css set `[hidden] { display: none !important; }` so we also need the `!important` here to be able to override the default hidden behavior on the sphinx rendered scikit-learn.org. See: https://github.com/scikit-learn/scikit-learn/issues/21755 */display: inline-block !important;position: relative;}#sk-container-id-27 div.sk-text-repr-fallback {display: none;}</style><div id=\"sk-container-id-27\" class=\"sk-top-container\"><div class=\"sk-text-repr-fallback\"><pre>DecisionTreeClassifier(criterion=&#x27;entropy&#x27;, max_depth=3)</pre><b>In a Jupyter environment, please rerun this cell to show the HTML representation or trust the notebook. <br />On GitHub, the HTML representation is unable to render, please try loading this page with nbviewer.org.</b></div><div class=\"sk-container\" hidden><div class=\"sk-item\"><div class=\"sk-estimator sk-toggleable\"><input class=\"sk-toggleable__control sk-hidden--visually\" id=\"sk-estimator-id-33\" type=\"checkbox\" checked><label for=\"sk-estimator-id-33\" class=\"sk-toggleable__label sk-toggleable__label-arrow\">DecisionTreeClassifier</label><div class=\"sk-toggleable__content\"><pre>DecisionTreeClassifier(criterion=&#x27;entropy&#x27;, max_depth=3)</pre></div></div></div></div></div>"
            ]
          },
          "metadata": {},
          "execution_count": 328
        }
      ]
    },
    {
      "cell_type": "code",
      "source": [
        "clf.score(X_train, y_train)"
      ],
      "metadata": {
        "colab": {
          "base_uri": "https://localhost:8080/"
        },
        "id": "lFzcRB5b2bfV",
        "outputId": "c55cc253-ce81-48e2-b7fb-5a73ca65a54e"
      },
      "execution_count": 329,
      "outputs": [
        {
          "output_type": "execute_result",
          "data": {
            "text/plain": [
              "0.8238255033557047"
            ]
          },
          "metadata": {},
          "execution_count": 329
        }
      ]
    },
    {
      "cell_type": "code",
      "source": [
        "clf.score(X_test, y_test)"
      ],
      "metadata": {
        "colab": {
          "base_uri": "https://localhost:8080/"
        },
        "id": "rYShujIY2dQZ",
        "outputId": "137def7c-6326-471a-e51e-28ca6c29bbbd"
      },
      "execution_count": 330,
      "outputs": [
        {
          "output_type": "execute_result",
          "data": {
            "text/plain": [
              "0.8203389830508474"
            ]
          },
          "metadata": {},
          "execution_count": 330
        }
      ]
    },
    {
      "cell_type": "markdown",
      "source": [
        "#2.4; 2.6 титаник продолжение"
      ],
      "metadata": {
        "id": "mJBiH2U7jOc1"
      }
    },
    {
      "cell_type": "code",
      "source": [
        "max_depth_values = range(1, 100)"
      ],
      "metadata": {
        "id": "euhwG_rJ2glg"
      },
      "execution_count": 331,
      "outputs": []
    },
    {
      "cell_type": "code",
      "source": [
        "scores_data = pd.DataFrame()"
      ],
      "metadata": {
        "id": "LC5ge9Y0lEDz"
      },
      "execution_count": 332,
      "outputs": []
    },
    {
      "cell_type": "code",
      "source": [
        "for max_depth in max_depth_values:\n",
        "  clf = tree.DecisionTreeClassifier(criterion='entropy', max_depth=max_depth)\n",
        "  clf.fit(X_train, y_train)\n",
        "  train_score = clf.score(X_train, y_train)\n",
        "  test_score = clf.score(X_test, y_test)\n",
        "\n",
        "  mean_cross_val_score = cross_val_score(clf, X_train, y_train, cv=5).mean()\n",
        "\n",
        "  temp_score_data = pd.DataFrame({'max_depth': [max_depth],\n",
        "                                  'train_score': [train_score],\n",
        "                                  'test_score': [test_score],\n",
        "                                  'cross_val_score': [mean_cross_val_score]})\n",
        "  scores_data = pd.concat([scores_data, temp_score_data], ignore_index=True)"
      ],
      "metadata": {
        "id": "whWBnxLNlJCJ"
      },
      "execution_count": 333,
      "outputs": []
    },
    {
      "cell_type": "code",
      "source": [
        "scores_data"
      ],
      "metadata": {
        "colab": {
          "base_uri": "https://localhost:8080/",
          "height": 423
        },
        "id": "Aw2LAF0BoLY7",
        "outputId": "301061b0-8c03-42cc-9b89-9800712ced54"
      },
      "execution_count": 334,
      "outputs": [
        {
          "output_type": "execute_result",
          "data": {
            "text/plain": [
              "    max_depth  train_score  test_score  cross_val_score\n",
              "0           1     0.781879    0.796610         0.781961\n",
              "1           2     0.805369    0.776271         0.770196\n",
              "2           3     0.823826    0.820339         0.790322\n",
              "3           4     0.833893    0.823729         0.788627\n",
              "4           5     0.840604    0.810169         0.802073\n",
              "..        ...          ...         ...              ...\n",
              "94         95     0.979866    0.779661         0.773543\n",
              "95         96     0.979866    0.766102         0.775238\n",
              "96         97     0.979866    0.766102         0.768515\n",
              "97         98     0.979866    0.769492         0.766821\n",
              "98         99     0.979866    0.776271         0.781947\n",
              "\n",
              "[99 rows x 4 columns]"
            ],
            "text/html": [
              "\n",
              "  <div id=\"df-3249b920-adfb-4ad5-bfbf-937057153d93\" class=\"colab-df-container\">\n",
              "    <div>\n",
              "<style scoped>\n",
              "    .dataframe tbody tr th:only-of-type {\n",
              "        vertical-align: middle;\n",
              "    }\n",
              "\n",
              "    .dataframe tbody tr th {\n",
              "        vertical-align: top;\n",
              "    }\n",
              "\n",
              "    .dataframe thead th {\n",
              "        text-align: right;\n",
              "    }\n",
              "</style>\n",
              "<table border=\"1\" class=\"dataframe\">\n",
              "  <thead>\n",
              "    <tr style=\"text-align: right;\">\n",
              "      <th></th>\n",
              "      <th>max_depth</th>\n",
              "      <th>train_score</th>\n",
              "      <th>test_score</th>\n",
              "      <th>cross_val_score</th>\n",
              "    </tr>\n",
              "  </thead>\n",
              "  <tbody>\n",
              "    <tr>\n",
              "      <th>0</th>\n",
              "      <td>1</td>\n",
              "      <td>0.781879</td>\n",
              "      <td>0.796610</td>\n",
              "      <td>0.781961</td>\n",
              "    </tr>\n",
              "    <tr>\n",
              "      <th>1</th>\n",
              "      <td>2</td>\n",
              "      <td>0.805369</td>\n",
              "      <td>0.776271</td>\n",
              "      <td>0.770196</td>\n",
              "    </tr>\n",
              "    <tr>\n",
              "      <th>2</th>\n",
              "      <td>3</td>\n",
              "      <td>0.823826</td>\n",
              "      <td>0.820339</td>\n",
              "      <td>0.790322</td>\n",
              "    </tr>\n",
              "    <tr>\n",
              "      <th>3</th>\n",
              "      <td>4</td>\n",
              "      <td>0.833893</td>\n",
              "      <td>0.823729</td>\n",
              "      <td>0.788627</td>\n",
              "    </tr>\n",
              "    <tr>\n",
              "      <th>4</th>\n",
              "      <td>5</td>\n",
              "      <td>0.840604</td>\n",
              "      <td>0.810169</td>\n",
              "      <td>0.802073</td>\n",
              "    </tr>\n",
              "    <tr>\n",
              "      <th>...</th>\n",
              "      <td>...</td>\n",
              "      <td>...</td>\n",
              "      <td>...</td>\n",
              "      <td>...</td>\n",
              "    </tr>\n",
              "    <tr>\n",
              "      <th>94</th>\n",
              "      <td>95</td>\n",
              "      <td>0.979866</td>\n",
              "      <td>0.779661</td>\n",
              "      <td>0.773543</td>\n",
              "    </tr>\n",
              "    <tr>\n",
              "      <th>95</th>\n",
              "      <td>96</td>\n",
              "      <td>0.979866</td>\n",
              "      <td>0.766102</td>\n",
              "      <td>0.775238</td>\n",
              "    </tr>\n",
              "    <tr>\n",
              "      <th>96</th>\n",
              "      <td>97</td>\n",
              "      <td>0.979866</td>\n",
              "      <td>0.766102</td>\n",
              "      <td>0.768515</td>\n",
              "    </tr>\n",
              "    <tr>\n",
              "      <th>97</th>\n",
              "      <td>98</td>\n",
              "      <td>0.979866</td>\n",
              "      <td>0.769492</td>\n",
              "      <td>0.766821</td>\n",
              "    </tr>\n",
              "    <tr>\n",
              "      <th>98</th>\n",
              "      <td>99</td>\n",
              "      <td>0.979866</td>\n",
              "      <td>0.776271</td>\n",
              "      <td>0.781947</td>\n",
              "    </tr>\n",
              "  </tbody>\n",
              "</table>\n",
              "<p>99 rows × 4 columns</p>\n",
              "</div>\n",
              "    <div class=\"colab-df-buttons\">\n",
              "\n",
              "  <div class=\"colab-df-container\">\n",
              "    <button class=\"colab-df-convert\" onclick=\"convertToInteractive('df-3249b920-adfb-4ad5-bfbf-937057153d93')\"\n",
              "            title=\"Convert this dataframe to an interactive table.\"\n",
              "            style=\"display:none;\">\n",
              "\n",
              "  <svg xmlns=\"http://www.w3.org/2000/svg\" height=\"24px\" viewBox=\"0 -960 960 960\">\n",
              "    <path d=\"M120-120v-720h720v720H120Zm60-500h600v-160H180v160Zm220 220h160v-160H400v160Zm0 220h160v-160H400v160ZM180-400h160v-160H180v160Zm440 0h160v-160H620v160ZM180-180h160v-160H180v160Zm440 0h160v-160H620v160Z\"/>\n",
              "  </svg>\n",
              "    </button>\n",
              "\n",
              "  <style>\n",
              "    .colab-df-container {\n",
              "      display:flex;\n",
              "      gap: 12px;\n",
              "    }\n",
              "\n",
              "    .colab-df-convert {\n",
              "      background-color: #E8F0FE;\n",
              "      border: none;\n",
              "      border-radius: 50%;\n",
              "      cursor: pointer;\n",
              "      display: none;\n",
              "      fill: #1967D2;\n",
              "      height: 32px;\n",
              "      padding: 0 0 0 0;\n",
              "      width: 32px;\n",
              "    }\n",
              "\n",
              "    .colab-df-convert:hover {\n",
              "      background-color: #E2EBFA;\n",
              "      box-shadow: 0px 1px 2px rgba(60, 64, 67, 0.3), 0px 1px 3px 1px rgba(60, 64, 67, 0.15);\n",
              "      fill: #174EA6;\n",
              "    }\n",
              "\n",
              "    .colab-df-buttons div {\n",
              "      margin-bottom: 4px;\n",
              "    }\n",
              "\n",
              "    [theme=dark] .colab-df-convert {\n",
              "      background-color: #3B4455;\n",
              "      fill: #D2E3FC;\n",
              "    }\n",
              "\n",
              "    [theme=dark] .colab-df-convert:hover {\n",
              "      background-color: #434B5C;\n",
              "      box-shadow: 0px 1px 3px 1px rgba(0, 0, 0, 0.15);\n",
              "      filter: drop-shadow(0px 1px 2px rgba(0, 0, 0, 0.3));\n",
              "      fill: #FFFFFF;\n",
              "    }\n",
              "  </style>\n",
              "\n",
              "    <script>\n",
              "      const buttonEl =\n",
              "        document.querySelector('#df-3249b920-adfb-4ad5-bfbf-937057153d93 button.colab-df-convert');\n",
              "      buttonEl.style.display =\n",
              "        google.colab.kernel.accessAllowed ? 'block' : 'none';\n",
              "\n",
              "      async function convertToInteractive(key) {\n",
              "        const element = document.querySelector('#df-3249b920-adfb-4ad5-bfbf-937057153d93');\n",
              "        const dataTable =\n",
              "          await google.colab.kernel.invokeFunction('convertToInteractive',\n",
              "                                                    [key], {});\n",
              "        if (!dataTable) return;\n",
              "\n",
              "        const docLinkHtml = 'Like what you see? Visit the ' +\n",
              "          '<a target=\"_blank\" href=https://colab.research.google.com/notebooks/data_table.ipynb>data table notebook</a>'\n",
              "          + ' to learn more about interactive tables.';\n",
              "        element.innerHTML = '';\n",
              "        dataTable['output_type'] = 'display_data';\n",
              "        await google.colab.output.renderOutput(dataTable, element);\n",
              "        const docLink = document.createElement('div');\n",
              "        docLink.innerHTML = docLinkHtml;\n",
              "        element.appendChild(docLink);\n",
              "      }\n",
              "    </script>\n",
              "  </div>\n",
              "\n",
              "\n",
              "<div id=\"df-6bc39cdd-8569-476c-a353-3157e686a3bf\">\n",
              "  <button class=\"colab-df-quickchart\" onclick=\"quickchart('df-6bc39cdd-8569-476c-a353-3157e686a3bf')\"\n",
              "            title=\"Suggest charts\"\n",
              "            style=\"display:none;\">\n",
              "\n",
              "<svg xmlns=\"http://www.w3.org/2000/svg\" height=\"24px\"viewBox=\"0 0 24 24\"\n",
              "     width=\"24px\">\n",
              "    <g>\n",
              "        <path d=\"M19 3H5c-1.1 0-2 .9-2 2v14c0 1.1.9 2 2 2h14c1.1 0 2-.9 2-2V5c0-1.1-.9-2-2-2zM9 17H7v-7h2v7zm4 0h-2V7h2v10zm4 0h-2v-4h2v4z\"/>\n",
              "    </g>\n",
              "</svg>\n",
              "  </button>\n",
              "\n",
              "<style>\n",
              "  .colab-df-quickchart {\n",
              "      --bg-color: #E8F0FE;\n",
              "      --fill-color: #1967D2;\n",
              "      --hover-bg-color: #E2EBFA;\n",
              "      --hover-fill-color: #174EA6;\n",
              "      --disabled-fill-color: #AAA;\n",
              "      --disabled-bg-color: #DDD;\n",
              "  }\n",
              "\n",
              "  [theme=dark] .colab-df-quickchart {\n",
              "      --bg-color: #3B4455;\n",
              "      --fill-color: #D2E3FC;\n",
              "      --hover-bg-color: #434B5C;\n",
              "      --hover-fill-color: #FFFFFF;\n",
              "      --disabled-bg-color: #3B4455;\n",
              "      --disabled-fill-color: #666;\n",
              "  }\n",
              "\n",
              "  .colab-df-quickchart {\n",
              "    background-color: var(--bg-color);\n",
              "    border: none;\n",
              "    border-radius: 50%;\n",
              "    cursor: pointer;\n",
              "    display: none;\n",
              "    fill: var(--fill-color);\n",
              "    height: 32px;\n",
              "    padding: 0;\n",
              "    width: 32px;\n",
              "  }\n",
              "\n",
              "  .colab-df-quickchart:hover {\n",
              "    background-color: var(--hover-bg-color);\n",
              "    box-shadow: 0 1px 2px rgba(60, 64, 67, 0.3), 0 1px 3px 1px rgba(60, 64, 67, 0.15);\n",
              "    fill: var(--button-hover-fill-color);\n",
              "  }\n",
              "\n",
              "  .colab-df-quickchart-complete:disabled,\n",
              "  .colab-df-quickchart-complete:disabled:hover {\n",
              "    background-color: var(--disabled-bg-color);\n",
              "    fill: var(--disabled-fill-color);\n",
              "    box-shadow: none;\n",
              "  }\n",
              "\n",
              "  .colab-df-spinner {\n",
              "    border: 2px solid var(--fill-color);\n",
              "    border-color: transparent;\n",
              "    border-bottom-color: var(--fill-color);\n",
              "    animation:\n",
              "      spin 1s steps(1) infinite;\n",
              "  }\n",
              "\n",
              "  @keyframes spin {\n",
              "    0% {\n",
              "      border-color: transparent;\n",
              "      border-bottom-color: var(--fill-color);\n",
              "      border-left-color: var(--fill-color);\n",
              "    }\n",
              "    20% {\n",
              "      border-color: transparent;\n",
              "      border-left-color: var(--fill-color);\n",
              "      border-top-color: var(--fill-color);\n",
              "    }\n",
              "    30% {\n",
              "      border-color: transparent;\n",
              "      border-left-color: var(--fill-color);\n",
              "      border-top-color: var(--fill-color);\n",
              "      border-right-color: var(--fill-color);\n",
              "    }\n",
              "    40% {\n",
              "      border-color: transparent;\n",
              "      border-right-color: var(--fill-color);\n",
              "      border-top-color: var(--fill-color);\n",
              "    }\n",
              "    60% {\n",
              "      border-color: transparent;\n",
              "      border-right-color: var(--fill-color);\n",
              "    }\n",
              "    80% {\n",
              "      border-color: transparent;\n",
              "      border-right-color: var(--fill-color);\n",
              "      border-bottom-color: var(--fill-color);\n",
              "    }\n",
              "    90% {\n",
              "      border-color: transparent;\n",
              "      border-bottom-color: var(--fill-color);\n",
              "    }\n",
              "  }\n",
              "</style>\n",
              "\n",
              "  <script>\n",
              "    async function quickchart(key) {\n",
              "      const quickchartButtonEl =\n",
              "        document.querySelector('#' + key + ' button');\n",
              "      quickchartButtonEl.disabled = true;  // To prevent multiple clicks.\n",
              "      quickchartButtonEl.classList.add('colab-df-spinner');\n",
              "      try {\n",
              "        const charts = await google.colab.kernel.invokeFunction(\n",
              "            'suggestCharts', [key], {});\n",
              "      } catch (error) {\n",
              "        console.error('Error during call to suggestCharts:', error);\n",
              "      }\n",
              "      quickchartButtonEl.classList.remove('colab-df-spinner');\n",
              "      quickchartButtonEl.classList.add('colab-df-quickchart-complete');\n",
              "    }\n",
              "    (() => {\n",
              "      let quickchartButtonEl =\n",
              "        document.querySelector('#df-6bc39cdd-8569-476c-a353-3157e686a3bf button');\n",
              "      quickchartButtonEl.style.display =\n",
              "        google.colab.kernel.accessAllowed ? 'block' : 'none';\n",
              "    })();\n",
              "  </script>\n",
              "</div>\n",
              "    </div>\n",
              "  </div>\n"
            ],
            "application/vnd.google.colaboratory.intrinsic+json": {
              "type": "dataframe",
              "variable_name": "scores_data",
              "summary": "{\n  \"name\": \"scores_data\",\n  \"rows\": 99,\n  \"fields\": [\n    {\n      \"column\": \"max_depth\",\n      \"properties\": {\n        \"dtype\": \"number\",\n        \"std\": 28,\n        \"min\": 1,\n        \"max\": 99,\n        \"num_unique_values\": 99,\n        \"samples\": [\n          63,\n          41,\n          96\n        ],\n        \"semantic_type\": \"\",\n        \"description\": \"\"\n      }\n    },\n    {\n      \"column\": \"train_score\",\n      \"properties\": {\n        \"dtype\": \"number\",\n        \"std\": 0.03972205289401092,\n        \"min\": 0.7818791946308725,\n        \"max\": 0.9798657718120806,\n        \"num_unique_values\": 18,\n        \"samples\": [\n          0.7818791946308725,\n          0.8053691275167785,\n          0.9177852348993288\n        ],\n        \"semantic_type\": \"\",\n        \"description\": \"\"\n      }\n    },\n    {\n      \"column\": \"test_score\",\n      \"properties\": {\n        \"dtype\": \"number\",\n        \"std\": 0.011013864637755407,\n        \"min\": 0.7559322033898305,\n        \"max\": 0.823728813559322,\n        \"num_unique_values\": 16,\n        \"samples\": [\n          0.7966101694915254,\n          0.7762711864406779,\n          0.7694915254237288\n        ],\n        \"semantic_type\": \"\",\n        \"description\": \"\"\n      }\n    },\n    {\n      \"column\": \"cross_val_score\",\n      \"properties\": {\n        \"dtype\": \"number\",\n        \"std\": 0.010355524620820396,\n        \"min\": 0.7617647058823529,\n        \"max\": 0.8037114845938375,\n        \"num_unique_values\": 50,\n        \"samples\": [\n          0.7835994397759103,\n          0.7735434173669468,\n          0.7685014005602241\n        ],\n        \"semantic_type\": \"\",\n        \"description\": \"\"\n      }\n    }\n  ]\n}"
            }
          },
          "metadata": {},
          "execution_count": 334
        }
      ]
    },
    {
      "cell_type": "code",
      "source": [
        "scores_data_long = pd.melt(scores_data, id_vars=['max_depth'], value_vars=['train_score', 'test_score', 'cross_val_score'], var_name='set_type', value_name='score')"
      ],
      "metadata": {
        "id": "Gb26LLNnm8sQ"
      },
      "execution_count": 335,
      "outputs": []
    },
    {
      "cell_type": "code",
      "source": [
        "scores_data_long"
      ],
      "metadata": {
        "colab": {
          "base_uri": "https://localhost:8080/",
          "height": 423
        },
        "id": "i38yDTlnnnjJ",
        "outputId": "7ac9ae69-b654-40c3-a61f-678460e11a02"
      },
      "execution_count": 336,
      "outputs": [
        {
          "output_type": "execute_result",
          "data": {
            "text/plain": [
              "     max_depth         set_type     score\n",
              "0            1      train_score  0.781879\n",
              "1            2      train_score  0.805369\n",
              "2            3      train_score  0.823826\n",
              "3            4      train_score  0.833893\n",
              "4            5      train_score  0.840604\n",
              "..         ...              ...       ...\n",
              "292         95  cross_val_score  0.773543\n",
              "293         96  cross_val_score  0.775238\n",
              "294         97  cross_val_score  0.768515\n",
              "295         98  cross_val_score  0.766821\n",
              "296         99  cross_val_score  0.781947\n",
              "\n",
              "[297 rows x 3 columns]"
            ],
            "text/html": [
              "\n",
              "  <div id=\"df-5b1e8cdc-5e5d-4757-95a7-74cd124905be\" class=\"colab-df-container\">\n",
              "    <div>\n",
              "<style scoped>\n",
              "    .dataframe tbody tr th:only-of-type {\n",
              "        vertical-align: middle;\n",
              "    }\n",
              "\n",
              "    .dataframe tbody tr th {\n",
              "        vertical-align: top;\n",
              "    }\n",
              "\n",
              "    .dataframe thead th {\n",
              "        text-align: right;\n",
              "    }\n",
              "</style>\n",
              "<table border=\"1\" class=\"dataframe\">\n",
              "  <thead>\n",
              "    <tr style=\"text-align: right;\">\n",
              "      <th></th>\n",
              "      <th>max_depth</th>\n",
              "      <th>set_type</th>\n",
              "      <th>score</th>\n",
              "    </tr>\n",
              "  </thead>\n",
              "  <tbody>\n",
              "    <tr>\n",
              "      <th>0</th>\n",
              "      <td>1</td>\n",
              "      <td>train_score</td>\n",
              "      <td>0.781879</td>\n",
              "    </tr>\n",
              "    <tr>\n",
              "      <th>1</th>\n",
              "      <td>2</td>\n",
              "      <td>train_score</td>\n",
              "      <td>0.805369</td>\n",
              "    </tr>\n",
              "    <tr>\n",
              "      <th>2</th>\n",
              "      <td>3</td>\n",
              "      <td>train_score</td>\n",
              "      <td>0.823826</td>\n",
              "    </tr>\n",
              "    <tr>\n",
              "      <th>3</th>\n",
              "      <td>4</td>\n",
              "      <td>train_score</td>\n",
              "      <td>0.833893</td>\n",
              "    </tr>\n",
              "    <tr>\n",
              "      <th>4</th>\n",
              "      <td>5</td>\n",
              "      <td>train_score</td>\n",
              "      <td>0.840604</td>\n",
              "    </tr>\n",
              "    <tr>\n",
              "      <th>...</th>\n",
              "      <td>...</td>\n",
              "      <td>...</td>\n",
              "      <td>...</td>\n",
              "    </tr>\n",
              "    <tr>\n",
              "      <th>292</th>\n",
              "      <td>95</td>\n",
              "      <td>cross_val_score</td>\n",
              "      <td>0.773543</td>\n",
              "    </tr>\n",
              "    <tr>\n",
              "      <th>293</th>\n",
              "      <td>96</td>\n",
              "      <td>cross_val_score</td>\n",
              "      <td>0.775238</td>\n",
              "    </tr>\n",
              "    <tr>\n",
              "      <th>294</th>\n",
              "      <td>97</td>\n",
              "      <td>cross_val_score</td>\n",
              "      <td>0.768515</td>\n",
              "    </tr>\n",
              "    <tr>\n",
              "      <th>295</th>\n",
              "      <td>98</td>\n",
              "      <td>cross_val_score</td>\n",
              "      <td>0.766821</td>\n",
              "    </tr>\n",
              "    <tr>\n",
              "      <th>296</th>\n",
              "      <td>99</td>\n",
              "      <td>cross_val_score</td>\n",
              "      <td>0.781947</td>\n",
              "    </tr>\n",
              "  </tbody>\n",
              "</table>\n",
              "<p>297 rows × 3 columns</p>\n",
              "</div>\n",
              "    <div class=\"colab-df-buttons\">\n",
              "\n",
              "  <div class=\"colab-df-container\">\n",
              "    <button class=\"colab-df-convert\" onclick=\"convertToInteractive('df-5b1e8cdc-5e5d-4757-95a7-74cd124905be')\"\n",
              "            title=\"Convert this dataframe to an interactive table.\"\n",
              "            style=\"display:none;\">\n",
              "\n",
              "  <svg xmlns=\"http://www.w3.org/2000/svg\" height=\"24px\" viewBox=\"0 -960 960 960\">\n",
              "    <path d=\"M120-120v-720h720v720H120Zm60-500h600v-160H180v160Zm220 220h160v-160H400v160Zm0 220h160v-160H400v160ZM180-400h160v-160H180v160Zm440 0h160v-160H620v160ZM180-180h160v-160H180v160Zm440 0h160v-160H620v160Z\"/>\n",
              "  </svg>\n",
              "    </button>\n",
              "\n",
              "  <style>\n",
              "    .colab-df-container {\n",
              "      display:flex;\n",
              "      gap: 12px;\n",
              "    }\n",
              "\n",
              "    .colab-df-convert {\n",
              "      background-color: #E8F0FE;\n",
              "      border: none;\n",
              "      border-radius: 50%;\n",
              "      cursor: pointer;\n",
              "      display: none;\n",
              "      fill: #1967D2;\n",
              "      height: 32px;\n",
              "      padding: 0 0 0 0;\n",
              "      width: 32px;\n",
              "    }\n",
              "\n",
              "    .colab-df-convert:hover {\n",
              "      background-color: #E2EBFA;\n",
              "      box-shadow: 0px 1px 2px rgba(60, 64, 67, 0.3), 0px 1px 3px 1px rgba(60, 64, 67, 0.15);\n",
              "      fill: #174EA6;\n",
              "    }\n",
              "\n",
              "    .colab-df-buttons div {\n",
              "      margin-bottom: 4px;\n",
              "    }\n",
              "\n",
              "    [theme=dark] .colab-df-convert {\n",
              "      background-color: #3B4455;\n",
              "      fill: #D2E3FC;\n",
              "    }\n",
              "\n",
              "    [theme=dark] .colab-df-convert:hover {\n",
              "      background-color: #434B5C;\n",
              "      box-shadow: 0px 1px 3px 1px rgba(0, 0, 0, 0.15);\n",
              "      filter: drop-shadow(0px 1px 2px rgba(0, 0, 0, 0.3));\n",
              "      fill: #FFFFFF;\n",
              "    }\n",
              "  </style>\n",
              "\n",
              "    <script>\n",
              "      const buttonEl =\n",
              "        document.querySelector('#df-5b1e8cdc-5e5d-4757-95a7-74cd124905be button.colab-df-convert');\n",
              "      buttonEl.style.display =\n",
              "        google.colab.kernel.accessAllowed ? 'block' : 'none';\n",
              "\n",
              "      async function convertToInteractive(key) {\n",
              "        const element = document.querySelector('#df-5b1e8cdc-5e5d-4757-95a7-74cd124905be');\n",
              "        const dataTable =\n",
              "          await google.colab.kernel.invokeFunction('convertToInteractive',\n",
              "                                                    [key], {});\n",
              "        if (!dataTable) return;\n",
              "\n",
              "        const docLinkHtml = 'Like what you see? Visit the ' +\n",
              "          '<a target=\"_blank\" href=https://colab.research.google.com/notebooks/data_table.ipynb>data table notebook</a>'\n",
              "          + ' to learn more about interactive tables.';\n",
              "        element.innerHTML = '';\n",
              "        dataTable['output_type'] = 'display_data';\n",
              "        await google.colab.output.renderOutput(dataTable, element);\n",
              "        const docLink = document.createElement('div');\n",
              "        docLink.innerHTML = docLinkHtml;\n",
              "        element.appendChild(docLink);\n",
              "      }\n",
              "    </script>\n",
              "  </div>\n",
              "\n",
              "\n",
              "<div id=\"df-bd110605-46e7-4106-b0cf-e8a2e870c759\">\n",
              "  <button class=\"colab-df-quickchart\" onclick=\"quickchart('df-bd110605-46e7-4106-b0cf-e8a2e870c759')\"\n",
              "            title=\"Suggest charts\"\n",
              "            style=\"display:none;\">\n",
              "\n",
              "<svg xmlns=\"http://www.w3.org/2000/svg\" height=\"24px\"viewBox=\"0 0 24 24\"\n",
              "     width=\"24px\">\n",
              "    <g>\n",
              "        <path d=\"M19 3H5c-1.1 0-2 .9-2 2v14c0 1.1.9 2 2 2h14c1.1 0 2-.9 2-2V5c0-1.1-.9-2-2-2zM9 17H7v-7h2v7zm4 0h-2V7h2v10zm4 0h-2v-4h2v4z\"/>\n",
              "    </g>\n",
              "</svg>\n",
              "  </button>\n",
              "\n",
              "<style>\n",
              "  .colab-df-quickchart {\n",
              "      --bg-color: #E8F0FE;\n",
              "      --fill-color: #1967D2;\n",
              "      --hover-bg-color: #E2EBFA;\n",
              "      --hover-fill-color: #174EA6;\n",
              "      --disabled-fill-color: #AAA;\n",
              "      --disabled-bg-color: #DDD;\n",
              "  }\n",
              "\n",
              "  [theme=dark] .colab-df-quickchart {\n",
              "      --bg-color: #3B4455;\n",
              "      --fill-color: #D2E3FC;\n",
              "      --hover-bg-color: #434B5C;\n",
              "      --hover-fill-color: #FFFFFF;\n",
              "      --disabled-bg-color: #3B4455;\n",
              "      --disabled-fill-color: #666;\n",
              "  }\n",
              "\n",
              "  .colab-df-quickchart {\n",
              "    background-color: var(--bg-color);\n",
              "    border: none;\n",
              "    border-radius: 50%;\n",
              "    cursor: pointer;\n",
              "    display: none;\n",
              "    fill: var(--fill-color);\n",
              "    height: 32px;\n",
              "    padding: 0;\n",
              "    width: 32px;\n",
              "  }\n",
              "\n",
              "  .colab-df-quickchart:hover {\n",
              "    background-color: var(--hover-bg-color);\n",
              "    box-shadow: 0 1px 2px rgba(60, 64, 67, 0.3), 0 1px 3px 1px rgba(60, 64, 67, 0.15);\n",
              "    fill: var(--button-hover-fill-color);\n",
              "  }\n",
              "\n",
              "  .colab-df-quickchart-complete:disabled,\n",
              "  .colab-df-quickchart-complete:disabled:hover {\n",
              "    background-color: var(--disabled-bg-color);\n",
              "    fill: var(--disabled-fill-color);\n",
              "    box-shadow: none;\n",
              "  }\n",
              "\n",
              "  .colab-df-spinner {\n",
              "    border: 2px solid var(--fill-color);\n",
              "    border-color: transparent;\n",
              "    border-bottom-color: var(--fill-color);\n",
              "    animation:\n",
              "      spin 1s steps(1) infinite;\n",
              "  }\n",
              "\n",
              "  @keyframes spin {\n",
              "    0% {\n",
              "      border-color: transparent;\n",
              "      border-bottom-color: var(--fill-color);\n",
              "      border-left-color: var(--fill-color);\n",
              "    }\n",
              "    20% {\n",
              "      border-color: transparent;\n",
              "      border-left-color: var(--fill-color);\n",
              "      border-top-color: var(--fill-color);\n",
              "    }\n",
              "    30% {\n",
              "      border-color: transparent;\n",
              "      border-left-color: var(--fill-color);\n",
              "      border-top-color: var(--fill-color);\n",
              "      border-right-color: var(--fill-color);\n",
              "    }\n",
              "    40% {\n",
              "      border-color: transparent;\n",
              "      border-right-color: var(--fill-color);\n",
              "      border-top-color: var(--fill-color);\n",
              "    }\n",
              "    60% {\n",
              "      border-color: transparent;\n",
              "      border-right-color: var(--fill-color);\n",
              "    }\n",
              "    80% {\n",
              "      border-color: transparent;\n",
              "      border-right-color: var(--fill-color);\n",
              "      border-bottom-color: var(--fill-color);\n",
              "    }\n",
              "    90% {\n",
              "      border-color: transparent;\n",
              "      border-bottom-color: var(--fill-color);\n",
              "    }\n",
              "  }\n",
              "</style>\n",
              "\n",
              "  <script>\n",
              "    async function quickchart(key) {\n",
              "      const quickchartButtonEl =\n",
              "        document.querySelector('#' + key + ' button');\n",
              "      quickchartButtonEl.disabled = true;  // To prevent multiple clicks.\n",
              "      quickchartButtonEl.classList.add('colab-df-spinner');\n",
              "      try {\n",
              "        const charts = await google.colab.kernel.invokeFunction(\n",
              "            'suggestCharts', [key], {});\n",
              "      } catch (error) {\n",
              "        console.error('Error during call to suggestCharts:', error);\n",
              "      }\n",
              "      quickchartButtonEl.classList.remove('colab-df-spinner');\n",
              "      quickchartButtonEl.classList.add('colab-df-quickchart-complete');\n",
              "    }\n",
              "    (() => {\n",
              "      let quickchartButtonEl =\n",
              "        document.querySelector('#df-bd110605-46e7-4106-b0cf-e8a2e870c759 button');\n",
              "      quickchartButtonEl.style.display =\n",
              "        google.colab.kernel.accessAllowed ? 'block' : 'none';\n",
              "    })();\n",
              "  </script>\n",
              "</div>\n",
              "    </div>\n",
              "  </div>\n"
            ],
            "application/vnd.google.colaboratory.intrinsic+json": {
              "type": "dataframe",
              "variable_name": "scores_data_long",
              "summary": "{\n  \"name\": \"scores_data_long\",\n  \"rows\": 297,\n  \"fields\": [\n    {\n      \"column\": \"max_depth\",\n      \"properties\": {\n        \"dtype\": \"number\",\n        \"std\": 28,\n        \"min\": 1,\n        \"max\": 99,\n        \"num_unique_values\": 99,\n        \"samples\": [\n          63,\n          41,\n          96\n        ],\n        \"semantic_type\": \"\",\n        \"description\": \"\"\n      }\n    },\n    {\n      \"column\": \"set_type\",\n      \"properties\": {\n        \"dtype\": \"category\",\n        \"num_unique_values\": 3,\n        \"samples\": [\n          \"train_score\",\n          \"test_score\",\n          \"cross_val_score\"\n        ],\n        \"semantic_type\": \"\",\n        \"description\": \"\"\n      }\n    },\n    {\n      \"column\": \"score\",\n      \"properties\": {\n        \"dtype\": \"number\",\n        \"std\": 0.09377656853671397,\n        \"min\": 0.7559322033898305,\n        \"max\": 0.9798657718120806,\n        \"num_unique_values\": 84,\n        \"samples\": [\n          0.7735434173669468,\n          0.7818791946308725,\n          0.7701820728291315\n        ],\n        \"semantic_type\": \"\",\n        \"description\": \"\"\n      }\n    }\n  ]\n}"
            }
          },
          "metadata": {},
          "execution_count": 336
        }
      ]
    },
    {
      "cell_type": "code",
      "source": [
        "sns.lineplot(x=\"max_depth\", y=\"score\", hue=\"set_type\", data=scores_data_long)"
      ],
      "metadata": {
        "colab": {
          "base_uri": "https://localhost:8080/",
          "height": 467
        },
        "id": "FaLzeo2Tny0N",
        "outputId": "8c6a21a2-1206-4fb4-d500-5761ff4cf0e4"
      },
      "execution_count": 337,
      "outputs": [
        {
          "output_type": "execute_result",
          "data": {
            "text/plain": [
              "<Axes: xlabel='max_depth', ylabel='score'>"
            ]
          },
          "metadata": {},
          "execution_count": 337
        },
        {
          "output_type": "display_data",
          "data": {
            "text/plain": [
              "<Figure size 640x480 with 1 Axes>"
            ],
            "image/png": "[encoded data removed]"
          },
          "metadata": {}
        }
      ]
    },
    {
      "cell_type": "code",
      "source": [
        "scores_data_long.query(\"set_type == 'cross_val_score'\").head(20)"
      ],
      "metadata": {
        "colab": {
          "base_uri": "https://localhost:8080/",
          "height": 676
        },
        "id": "moWSDVKcvJhs",
        "outputId": "56836c79-a9aa-4679-e08d-fa13fab9c1b4"
      },
      "execution_count": 338,
      "outputs": [
        {
          "output_type": "execute_result",
          "data": {
            "text/plain": [
              "     max_depth         set_type     score\n",
              "198          1  cross_val_score  0.781961\n",
              "199          2  cross_val_score  0.770196\n",
              "200          3  cross_val_score  0.790322\n",
              "201          4  cross_val_score  0.788627\n",
              "202          5  cross_val_score  0.802073\n",
              "203          6  cross_val_score  0.802073\n",
              "204          7  cross_val_score  0.795336\n",
              "205          8  cross_val_score  0.802045\n",
              "206          9  cross_val_score  0.802031\n",
              "207         10  cross_val_score  0.803711\n",
              "208         11  cross_val_score  0.798669\n",
              "209         12  cross_val_score  0.791975\n",
              "210         13  cross_val_score  0.798669\n",
              "211         14  cross_val_score  0.793627\n",
              "212         15  cross_val_score  0.783585\n",
              "213         16  cross_val_score  0.783599\n",
              "214         17  cross_val_score  0.776877\n",
              "215         18  cross_val_score  0.786975\n",
              "216         19  cross_val_score  0.771835\n",
              "217         20  cross_val_score  0.780280"
            ],
            "text/html": [
              "\n",
              "  <div id=\"df-43b7d910-e527-4aae-9e44-59f69f259867\" class=\"colab-df-container\">\n",
              "    <div>\n",
              "<style scoped>\n",
              "    .dataframe tbody tr th:only-of-type {\n",
              "        vertical-align: middle;\n",
              "    }\n",
              "\n",
              "    .dataframe tbody tr th {\n",
              "        vertical-align: top;\n",
              "    }\n",
              "\n",
              "    .dataframe thead th {\n",
              "        text-align: right;\n",
              "    }\n",
              "</style>\n",
              "<table border=\"1\" class=\"dataframe\">\n",
              "  <thead>\n",
              "    <tr style=\"text-align: right;\">\n",
              "      <th></th>\n",
              "      <th>max_depth</th>\n",
              "      <th>set_type</th>\n",
              "      <th>score</th>\n",
              "    </tr>\n",
              "  </thead>\n",
              "  <tbody>\n",
              "    <tr>\n",
              "      <th>198</th>\n",
              "      <td>1</td>\n",
              "      <td>cross_val_score</td>\n",
              "      <td>0.781961</td>\n",
              "    </tr>\n",
              "    <tr>\n",
              "      <th>199</th>\n",
              "      <td>2</td>\n",
              "      <td>cross_val_score</td>\n",
              "      <td>0.770196</td>\n",
              "    </tr>\n",
              "    <tr>\n",
              "      <th>200</th>\n",
              "      <td>3</td>\n",
              "      <td>cross_val_score</td>\n",
              "      <td>0.790322</td>\n",
              "    </tr>\n",
              "    <tr>\n",
              "      <th>201</th>\n",
              "      <td>4</td>\n",
              "      <td>cross_val_score</td>\n",
              "      <td>0.788627</td>\n",
              "    </tr>\n",
              "    <tr>\n",
              "      <th>202</th>\n",
              "      <td>5</td>\n",
              "      <td>cross_val_score</td>\n",
              "      <td>0.802073</td>\n",
              "    </tr>\n",
              "    <tr>\n",
              "      <th>203</th>\n",
              "      <td>6</td>\n",
              "      <td>cross_val_score</td>\n",
              "      <td>0.802073</td>\n",
              "    </tr>\n",
              "    <tr>\n",
              "      <th>204</th>\n",
              "      <td>7</td>\n",
              "      <td>cross_val_score</td>\n",
              "      <td>0.795336</td>\n",
              "    </tr>\n",
              "    <tr>\n",
              "      <th>205</th>\n",
              "      <td>8</td>\n",
              "      <td>cross_val_score</td>\n",
              "      <td>0.802045</td>\n",
              "    </tr>\n",
              "    <tr>\n",
              "      <th>206</th>\n",
              "      <td>9</td>\n",
              "      <td>cross_val_score</td>\n",
              "      <td>0.802031</td>\n",
              "    </tr>\n",
              "    <tr>\n",
              "      <th>207</th>\n",
              "      <td>10</td>\n",
              "      <td>cross_val_score</td>\n",
              "      <td>0.803711</td>\n",
              "    </tr>\n",
              "    <tr>\n",
              "      <th>208</th>\n",
              "      <td>11</td>\n",
              "      <td>cross_val_score</td>\n",
              "      <td>0.798669</td>\n",
              "    </tr>\n",
              "    <tr>\n",
              "      <th>209</th>\n",
              "      <td>12</td>\n",
              "      <td>cross_val_score</td>\n",
              "      <td>0.791975</td>\n",
              "    </tr>\n",
              "    <tr>\n",
              "      <th>210</th>\n",
              "      <td>13</td>\n",
              "      <td>cross_val_score</td>\n",
              "      <td>0.798669</td>\n",
              "    </tr>\n",
              "    <tr>\n",
              "      <th>211</th>\n",
              "      <td>14</td>\n",
              "      <td>cross_val_score</td>\n",
              "      <td>0.793627</td>\n",
              "    </tr>\n",
              "    <tr>\n",
              "      <th>212</th>\n",
              "      <td>15</td>\n",
              "      <td>cross_val_score</td>\n",
              "      <td>0.783585</td>\n",
              "    </tr>\n",
              "    <tr>\n",
              "      <th>213</th>\n",
              "      <td>16</td>\n",
              "      <td>cross_val_score</td>\n",
              "      <td>0.783599</td>\n",
              "    </tr>\n",
              "    <tr>\n",
              "      <th>214</th>\n",
              "      <td>17</td>\n",
              "      <td>cross_val_score</td>\n",
              "      <td>0.776877</td>\n",
              "    </tr>\n",
              "    <tr>\n",
              "      <th>215</th>\n",
              "      <td>18</td>\n",
              "      <td>cross_val_score</td>\n",
              "      <td>0.786975</td>\n",
              "    </tr>\n",
              "    <tr>\n",
              "      <th>216</th>\n",
              "      <td>19</td>\n",
              "      <td>cross_val_score</td>\n",
              "      <td>0.771835</td>\n",
              "    </tr>\n",
              "    <tr>\n",
              "      <th>217</th>\n",
              "      <td>20</td>\n",
              "      <td>cross_val_score</td>\n",
              "      <td>0.780280</td>\n",
              "    </tr>\n",
              "  </tbody>\n",
              "</table>\n",
              "</div>\n",
              "    <div class=\"colab-df-buttons\">\n",
              "\n",
              "  <div class=\"colab-df-container\">\n",
              "    <button class=\"colab-df-convert\" onclick=\"convertToInteractive('df-43b7d910-e527-4aae-9e44-59f69f259867')\"\n",
              "            title=\"Convert this dataframe to an interactive table.\"\n",
              "            style=\"display:none;\">\n",
              "\n",
              "  <svg xmlns=\"http://www.w3.org/2000/svg\" height=\"24px\" viewBox=\"0 -960 960 960\">\n",
              "    <path d=\"M120-120v-720h720v720H120Zm60-500h600v-160H180v160Zm220 220h160v-160H400v160Zm0 220h160v-160H400v160ZM180-400h160v-160H180v160Zm440 0h160v-160H620v160ZM180-180h160v-160H180v160Zm440 0h160v-160H620v160Z\"/>\n",
              "  </svg>\n",
              "    </button>\n",
              "\n",
              "  <style>\n",
              "    .colab-df-container {\n",
              "      display:flex;\n",
              "      gap: 12px;\n",
              "    }\n",
              "\n",
              "    .colab-df-convert {\n",
              "      background-color: #E8F0FE;\n",
              "      border: none;\n",
              "      border-radius: 50%;\n",
              "      cursor: pointer;\n",
              "      display: none;\n",
              "      fill: #1967D2;\n",
              "      height: 32px;\n",
              "      padding: 0 0 0 0;\n",
              "      width: 32px;\n",
              "    }\n",
              "\n",
              "    .colab-df-convert:hover {\n",
              "      background-color: #E2EBFA;\n",
              "      box-shadow: 0px 1px 2px rgba(60, 64, 67, 0.3), 0px 1px 3px 1px rgba(60, 64, 67, 0.15);\n",
              "      fill: #174EA6;\n",
              "    }\n",
              "\n",
              "    .colab-df-buttons div {\n",
              "      margin-bottom: 4px;\n",
              "    }\n",
              "\n",
              "    [theme=dark] .colab-df-convert {\n",
              "      background-color: #3B4455;\n",
              "      fill: #D2E3FC;\n",
              "    }\n",
              "\n",
              "    [theme=dark] .colab-df-convert:hover {\n",
              "      background-color: #434B5C;\n",
              "      box-shadow: 0px 1px 3px 1px rgba(0, 0, 0, 0.15);\n",
              "      filter: drop-shadow(0px 1px 2px rgba(0, 0, 0, 0.3));\n",
              "      fill: #FFFFFF;\n",
              "    }\n",
              "  </style>\n",
              "\n",
              "    <script>\n",
              "      const buttonEl =\n",
              "        document.querySelector('#df-43b7d910-e527-4aae-9e44-59f69f259867 button.colab-df-convert');\n",
              "      buttonEl.style.display =\n",
              "        google.colab.kernel.accessAllowed ? 'block' : 'none';\n",
              "\n",
              "      async function convertToInteractive(key) {\n",
              "        const element = document.querySelector('#df-43b7d910-e527-4aae-9e44-59f69f259867');\n",
              "        const dataTable =\n",
              "          await google.colab.kernel.invokeFunction('convertToInteractive',\n",
              "                                                    [key], {});\n",
              "        if (!dataTable) return;\n",
              "\n",
              "        const docLinkHtml = 'Like what you see? Visit the ' +\n",
              "          '<a target=\"_blank\" href=https://colab.research.google.com/notebooks/data_table.ipynb>data table notebook</a>'\n",
              "          + ' to learn more about interactive tables.';\n",
              "        element.innerHTML = '';\n",
              "        dataTable['output_type'] = 'display_data';\n",
              "        await google.colab.output.renderOutput(dataTable, element);\n",
              "        const docLink = document.createElement('div');\n",
              "        docLink.innerHTML = docLinkHtml;\n",
              "        element.appendChild(docLink);\n",
              "      }\n",
              "    </script>\n",
              "  </div>\n",
              "\n",
              "\n",
              "<div id=\"df-22f85e41-a66f-4284-bec7-92515e766047\">\n",
              "  <button class=\"colab-df-quickchart\" onclick=\"quickchart('df-22f85e41-a66f-4284-bec7-92515e766047')\"\n",
              "            title=\"Suggest charts\"\n",
              "            style=\"display:none;\">\n",
              "\n",
              "<svg xmlns=\"http://www.w3.org/2000/svg\" height=\"24px\"viewBox=\"0 0 24 24\"\n",
              "     width=\"24px\">\n",
              "    <g>\n",
              "        <path d=\"M19 3H5c-1.1 0-2 .9-2 2v14c0 1.1.9 2 2 2h14c1.1 0 2-.9 2-2V5c0-1.1-.9-2-2-2zM9 17H7v-7h2v7zm4 0h-2V7h2v10zm4 0h-2v-4h2v4z\"/>\n",
              "    </g>\n",
              "</svg>\n",
              "  </button>\n",
              "\n",
              "<style>\n",
              "  .colab-df-quickchart {\n",
              "      --bg-color: #E8F0FE;\n",
              "      --fill-color: #1967D2;\n",
              "      --hover-bg-color: #E2EBFA;\n",
              "      --hover-fill-color: #174EA6;\n",
              "      --disabled-fill-color: #AAA;\n",
              "      --disabled-bg-color: #DDD;\n",
              "  }\n",
              "\n",
              "  [theme=dark] .colab-df-quickchart {\n",
              "      --bg-color: #3B4455;\n",
              "      --fill-color: #D2E3FC;\n",
              "      --hover-bg-color: #434B5C;\n",
              "      --hover-fill-color: #FFFFFF;\n",
              "      --disabled-bg-color: #3B4455;\n",
              "      --disabled-fill-color: #666;\n",
              "  }\n",
              "\n",
              "  .colab-df-quickchart {\n",
              "    background-color: var(--bg-color);\n",
              "    border: none;\n",
              "    border-radius: 50%;\n",
              "    cursor: pointer;\n",
              "    display: none;\n",
              "    fill: var(--fill-color);\n",
              "    height: 32px;\n",
              "    padding: 0;\n",
              "    width: 32px;\n",
              "  }\n",
              "\n",
              "  .colab-df-quickchart:hover {\n",
              "    background-color: var(--hover-bg-color);\n",
              "    box-shadow: 0 1px 2px rgba(60, 64, 67, 0.3), 0 1px 3px 1px rgba(60, 64, 67, 0.15);\n",
              "    fill: var(--button-hover-fill-color);\n",
              "  }\n",
              "\n",
              "  .colab-df-quickchart-complete:disabled,\n",
              "  .colab-df-quickchart-complete:disabled:hover {\n",
              "    background-color: var(--disabled-bg-color);\n",
              "    fill: var(--disabled-fill-color);\n",
              "    box-shadow: none;\n",
              "  }\n",
              "\n",
              "  .colab-df-spinner {\n",
              "    border: 2px solid var(--fill-color);\n",
              "    border-color: transparent;\n",
              "    border-bottom-color: var(--fill-color);\n",
              "    animation:\n",
              "      spin 1s steps(1) infinite;\n",
              "  }\n",
              "\n",
              "  @keyframes spin {\n",
              "    0% {\n",
              "      border-color: transparent;\n",
              "      border-bottom-color: var(--fill-color);\n",
              "      border-left-color: var(--fill-color);\n",
              "    }\n",
              "    20% {\n",
              "      border-color: transparent;\n",
              "      border-left-color: var(--fill-color);\n",
              "      border-top-color: var(--fill-color);\n",
              "    }\n",
              "    30% {\n",
              "      border-color: transparent;\n",
              "      border-left-color: var(--fill-color);\n",
              "      border-top-color: var(--fill-color);\n",
              "      border-right-color: var(--fill-color);\n",
              "    }\n",
              "    40% {\n",
              "      border-color: transparent;\n",
              "      border-right-color: var(--fill-color);\n",
              "      border-top-color: var(--fill-color);\n",
              "    }\n",
              "    60% {\n",
              "      border-color: transparent;\n",
              "      border-right-color: var(--fill-color);\n",
              "    }\n",
              "    80% {\n",
              "      border-color: transparent;\n",
              "      border-right-color: var(--fill-color);\n",
              "      border-bottom-color: var(--fill-color);\n",
              "    }\n",
              "    90% {\n",
              "      border-color: transparent;\n",
              "      border-bottom-color: var(--fill-color);\n",
              "    }\n",
              "  }\n",
              "</style>\n",
              "\n",
              "  <script>\n",
              "    async function quickchart(key) {\n",
              "      const quickchartButtonEl =\n",
              "        document.querySelector('#' + key + ' button');\n",
              "      quickchartButtonEl.disabled = true;  // To prevent multiple clicks.\n",
              "      quickchartButtonEl.classList.add('colab-df-spinner');\n",
              "      try {\n",
              "        const charts = await google.colab.kernel.invokeFunction(\n",
              "            'suggestCharts', [key], {});\n",
              "      } catch (error) {\n",
              "        console.error('Error during call to suggestCharts:', error);\n",
              "      }\n",
              "      quickchartButtonEl.classList.remove('colab-df-spinner');\n",
              "      quickchartButtonEl.classList.add('colab-df-quickchart-complete');\n",
              "    }\n",
              "    (() => {\n",
              "      let quickchartButtonEl =\n",
              "        document.querySelector('#df-22f85e41-a66f-4284-bec7-92515e766047 button');\n",
              "      quickchartButtonEl.style.display =\n",
              "        google.colab.kernel.accessAllowed ? 'block' : 'none';\n",
              "    })();\n",
              "  </script>\n",
              "</div>\n",
              "    </div>\n",
              "  </div>\n"
            ],
            "application/vnd.google.colaboratory.intrinsic+json": {
              "type": "dataframe",
              "summary": "{\n  \"name\": \"scores_data_long\",\n  \"rows\": 20,\n  \"fields\": [\n    {\n      \"column\": \"max_depth\",\n      \"properties\": {\n        \"dtype\": \"number\",\n        \"std\": 5,\n        \"min\": 1,\n        \"max\": 20,\n        \"num_unique_values\": 20,\n        \"samples\": [\n          1,\n          18,\n          16\n        ],\n        \"semantic_type\": \"\",\n        \"description\": \"\"\n      }\n    },\n    {\n      \"column\": \"set_type\",\n      \"properties\": {\n        \"dtype\": \"category\",\n        \"num_unique_values\": 1,\n        \"samples\": [\n          \"cross_val_score\"\n        ],\n        \"semantic_type\": \"\",\n        \"description\": \"\"\n      }\n    },\n    {\n      \"column\": \"score\",\n      \"properties\": {\n        \"dtype\": \"number\",\n        \"std\": 0.010540482310232281,\n        \"min\": 0.7701960784313726,\n        \"max\": 0.8037114845938375,\n        \"num_unique_values\": 18,\n        \"samples\": [\n          0.7819607843137255\n        ],\n        \"semantic_type\": \"\",\n        \"description\": \"\"\n      }\n    }\n  ]\n}"
            }
          },
          "metadata": {},
          "execution_count": 338
        }
      ]
    },
    {
      "cell_type": "code",
      "source": [
        "best_clf = tree.DecisionTreeClassifier(criterion='entropy', max_depth=10)"
      ],
      "metadata": {
        "id": "WOafExqEoi3y"
      },
      "execution_count": 339,
      "outputs": []
    },
    {
      "cell_type": "code",
      "source": [
        "best_clf.fit(X_train, y_train)\n",
        "best_clf.score(X_test, y_test)"
      ],
      "metadata": {
        "colab": {
          "base_uri": "https://localhost:8080/"
        },
        "id": "CtWPUB0fupW7",
        "outputId": "487bf021-6ec8-409f-add3-1b25f4edda02"
      },
      "execution_count": 340,
      "outputs": [
        {
          "output_type": "execute_result",
          "data": {
            "text/plain": [
              "0.8"
            ]
          },
          "metadata": {},
          "execution_count": 340
        }
      ]
    },
    {
      "cell_type": "code",
      "source": [
        "clf = tree.DecisionTreeClassifier()"
      ],
      "metadata": {
        "id": "AFEdlsvjm8L1"
      },
      "execution_count": 341,
      "outputs": []
    },
    {
      "cell_type": "code",
      "source": [
        "parametrs = {'criterion': ['gini', 'entropy'], 'max_depth': range(1, 30)}"
      ],
      "metadata": {
        "id": "xkA6fIannIHY"
      },
      "execution_count": 342,
      "outputs": []
    },
    {
      "cell_type": "code",
      "source": [
        "grid_search_cv_clf = GridSearchCV(clf, parametrs, cv=5)"
      ],
      "metadata": {
        "id": "KCAqcnI2liEH"
      },
      "execution_count": 343,
      "outputs": []
    },
    {
      "cell_type": "code",
      "source": [
        "grid_search_cv_clf.fit(X_train, y_train)"
      ],
      "metadata": {
        "colab": {
          "base_uri": "https://localhost:8080/",
          "height": 117
        },
        "id": "AmGYr_CFno_M",
        "outputId": "9e1f773c-658d-4b36-97f6-f5902d294d57"
      },
      "execution_count": 344,
      "outputs": [
        {
          "output_type": "execute_result",
          "data": {
            "text/plain": [
              "GridSearchCV(cv=5, estimator=DecisionTreeClassifier(),\n",
              "             param_grid={'criterion': ['gini', 'entropy'],\n",
              "                         'max_depth': range(1, 30)})"
            ],
            "text/html": [
              "<style>#sk-container-id-28 {color: black;}#sk-container-id-28 pre{padding: 0;}#sk-container-id-28 div.sk-toggleable {background-color: white;}#sk-container-id-28 label.sk-toggleable__label {cursor: pointer;display: block;width: 100%;margin-bottom: 0;padding: 0.3em;box-sizing: border-box;text-align: center;}#sk-container-id-28 label.sk-toggleable__label-arrow:before {content: \"▸\";float: left;margin-right: 0.25em;color: #696969;}#sk-container-id-28 label.sk-toggleable__label-arrow:hover:before {color: black;}#sk-container-id-28 div.sk-estimator:hover label.sk-toggleable__label-arrow:before {color: black;}#sk-container-id-28 div.sk-toggleable__content {max-height: 0;max-width: 0;overflow: hidden;text-align: left;background-color: #f0f8ff;}#sk-container-id-28 div.sk-toggleable__content pre {margin: 0.2em;color: black;border-radius: 0.25em;background-color: #f0f8ff;}#sk-container-id-28 input.sk-toggleable__control:checked~div.sk-toggleable__content {max-height: 200px;max-width: 100%;overflow: auto;}#sk-container-id-28 input.sk-toggleable__control:checked~label.sk-toggleable__label-arrow:before {content: \"▾\";}#sk-container-id-28 div.sk-estimator input.sk-toggleable__control:checked~label.sk-toggleable__label {background-color: #d4ebff;}#sk-container-id-28 div.sk-label input.sk-toggleable__control:checked~label.sk-toggleable__label {background-color: #d4ebff;}#sk-container-id-28 input.sk-hidden--visually {border: 0;clip: rect(1px 1px 1px 1px);clip: rect(1px, 1px, 1px, 1px);height: 1px;margin: -1px;overflow: hidden;padding: 0;position: absolute;width: 1px;}#sk-container-id-28 div.sk-estimator {font-family: monospace;background-color: #f0f8ff;border: 1px dotted black;border-radius: 0.25em;box-sizing: border-box;margin-bottom: 0.5em;}#sk-container-id-28 div.sk-estimator:hover {background-color: #d4ebff;}#sk-container-id-28 div.sk-parallel-item::after {content: \"\";width: 100%;border-bottom: 1px solid gray;flex-grow: 1;}#sk-container-id-28 div.sk-label:hover label.sk-toggleable__label {background-color: #d4ebff;}#sk-container-id-28 div.sk-serial::before {content: \"\";position: absolute;border-left: 1px solid gray;box-sizing: border-box;top: 0;bottom: 0;left: 50%;z-index: 0;}#sk-container-id-28 div.sk-serial {display: flex;flex-direction: column;align-items: center;background-color: white;padding-right: 0.2em;padding-left: 0.2em;position: relative;}#sk-container-id-28 div.sk-item {position: relative;z-index: 1;}#sk-container-id-28 div.sk-parallel {display: flex;align-items: stretch;justify-content: center;background-color: white;position: relative;}#sk-container-id-28 div.sk-item::before, #sk-container-id-28 div.sk-parallel-item::before {content: \"\";position: absolute;border-left: 1px solid gray;box-sizing: border-box;top: 0;bottom: 0;left: 50%;z-index: -1;}#sk-container-id-28 div.sk-parallel-item {display: flex;flex-direction: column;z-index: 1;position: relative;background-color: white;}#sk-container-id-28 div.sk-parallel-item:first-child::after {align-self: flex-end;width: 50%;}#sk-container-id-28 div.sk-parallel-item:last-child::after {align-self: flex-start;width: 50%;}#sk-container-id-28 div.sk-parallel-item:only-child::after {width: 0;}#sk-container-id-28 div.sk-dashed-wrapped {border: 1px dashed gray;margin: 0 0.4em 0.5em 0.4em;box-sizing: border-box;padding-bottom: 0.4em;background-color: white;}#sk-container-id-28 div.sk-label label {font-family: monospace;font-weight: bold;display: inline-block;line-height: 1.2em;}#sk-container-id-28 div.sk-label-container {text-align: center;}#sk-container-id-28 div.sk-container {/* jupyter's `normalize.less` sets `[hidden] { display: none; }` but bootstrap.min.css set `[hidden] { display: none !important; }` so we also need the `!important` here to be able to override the default hidden behavior on the sphinx rendered scikit-learn.org. See: https://github.com/scikit-learn/scikit-learn/issues/21755 */display: inline-block !important;position: relative;}#sk-container-id-28 div.sk-text-repr-fallback {display: none;}</style><div id=\"sk-container-id-28\" class=\"sk-top-container\"><div class=\"sk-text-repr-fallback\"><pre>GridSearchCV(cv=5, estimator=DecisionTreeClassifier(),\n",
              "             param_grid={&#x27;criterion&#x27;: [&#x27;gini&#x27;, &#x27;entropy&#x27;],\n",
              "                         &#x27;max_depth&#x27;: range(1, 30)})</pre><b>In a Jupyter environment, please rerun this cell to show the HTML representation or trust the notebook. <br />On GitHub, the HTML representation is unable to render, please try loading this page with nbviewer.org.</b></div><div class=\"sk-container\" hidden><div class=\"sk-item sk-dashed-wrapped\"><div class=\"sk-label-container\"><div class=\"sk-label sk-toggleable\"><input class=\"sk-toggleable__control sk-hidden--visually\" id=\"sk-estimator-id-34\" type=\"checkbox\" ><label for=\"sk-estimator-id-34\" class=\"sk-toggleable__label sk-toggleable__label-arrow\">GridSearchCV</label><div class=\"sk-toggleable__content\"><pre>GridSearchCV(cv=5, estimator=DecisionTreeClassifier(),\n",
              "             param_grid={&#x27;criterion&#x27;: [&#x27;gini&#x27;, &#x27;entropy&#x27;],\n",
              "                         &#x27;max_depth&#x27;: range(1, 30)})</pre></div></div></div><div class=\"sk-parallel\"><div class=\"sk-parallel-item\"><div class=\"sk-item\"><div class=\"sk-label-container\"><div class=\"sk-label sk-toggleable\"><input class=\"sk-toggleable__control sk-hidden--visually\" id=\"sk-estimator-id-35\" type=\"checkbox\" ><label for=\"sk-estimator-id-35\" class=\"sk-toggleable__label sk-toggleable__label-arrow\">estimator: DecisionTreeClassifier</label><div class=\"sk-toggleable__content\"><pre>DecisionTreeClassifier()</pre></div></div></div><div class=\"sk-serial\"><div class=\"sk-item\"><div class=\"sk-estimator sk-toggleable\"><input class=\"sk-toggleable__control sk-hidden--visually\" id=\"sk-estimator-id-36\" type=\"checkbox\" ><label for=\"sk-estimator-id-36\" class=\"sk-toggleable__label sk-toggleable__label-arrow\">DecisionTreeClassifier</label><div class=\"sk-toggleable__content\"><pre>DecisionTreeClassifier()</pre></div></div></div></div></div></div></div></div></div></div>"
            ]
          },
          "metadata": {},
          "execution_count": 344
        }
      ]
    },
    {
      "cell_type": "code",
      "source": [
        "grid_search_cv_clf.best_params_"
      ],
      "metadata": {
        "colab": {
          "base_uri": "https://localhost:8080/"
        },
        "id": "My35mBVan4ao",
        "outputId": "43e2f0a4-1e86-4c43-db52-372192cf6aa5"
      },
      "execution_count": 345,
      "outputs": [
        {
          "output_type": "execute_result",
          "data": {
            "text/plain": [
              "{'criterion': 'entropy', 'max_depth': 8}"
            ]
          },
          "metadata": {},
          "execution_count": 345
        }
      ]
    },
    {
      "cell_type": "code",
      "source": [
        "best_clf = grid_search_cv_clf.best_estimator_"
      ],
      "metadata": {
        "id": "Ty-or8aCoK1G"
      },
      "execution_count": 346,
      "outputs": []
    },
    {
      "cell_type": "code",
      "source": [
        "best_clf"
      ],
      "metadata": {
        "colab": {
          "base_uri": "https://localhost:8080/",
          "height": 74
        },
        "id": "FO9RBTGuoSjM",
        "outputId": "2b8fa507-80ff-42c8-ae1d-f2c334bd1c4e"
      },
      "execution_count": 347,
      "outputs": [
        {
          "output_type": "execute_result",
          "data": {
            "text/plain": [
              "DecisionTreeClassifier(criterion='entropy', max_depth=8)"
            ],
            "text/html": [
              "<style>#sk-container-id-29 {color: black;}#sk-container-id-29 pre{padding: 0;}#sk-container-id-29 div.sk-toggleable {background-color: white;}#sk-container-id-29 label.sk-toggleable__label {cursor: pointer;display: block;width: 100%;margin-bottom: 0;padding: 0.3em;box-sizing: border-box;text-align: center;}#sk-container-id-29 label.sk-toggleable__label-arrow:before {content: \"▸\";float: left;margin-right: 0.25em;color: #696969;}#sk-container-id-29 label.sk-toggleable__label-arrow:hover:before {color: black;}#sk-container-id-29 div.sk-estimator:hover label.sk-toggleable__label-arrow:before {color: black;}#sk-container-id-29 div.sk-toggleable__content {max-height: 0;max-width: 0;overflow: hidden;text-align: left;background-color: #f0f8ff;}#sk-container-id-29 div.sk-toggleable__content pre {margin: 0.2em;color: black;border-radius: 0.25em;background-color: #f0f8ff;}#sk-container-id-29 input.sk-toggleable__control:checked~div.sk-toggleable__content {max-height: 200px;max-width: 100%;overflow: auto;}#sk-container-id-29 input.sk-toggleable__control:checked~label.sk-toggleable__label-arrow:before {content: \"▾\";}#sk-container-id-29 div.sk-estimator input.sk-toggleable__control:checked~label.sk-toggleable__label {background-color: #d4ebff;}#sk-container-id-29 div.sk-label input.sk-toggleable__control:checked~label.sk-toggleable__label {background-color: #d4ebff;}#sk-container-id-29 input.sk-hidden--visually {border: 0;clip: rect(1px 1px 1px 1px);clip: rect(1px, 1px, 1px, 1px);height: 1px;margin: -1px;overflow: hidden;padding: 0;position: absolute;width: 1px;}#sk-container-id-29 div.sk-estimator {font-family: monospace;background-color: #f0f8ff;border: 1px dotted black;border-radius: 0.25em;box-sizing: border-box;margin-bottom: 0.5em;}#sk-container-id-29 div.sk-estimator:hover {background-color: #d4ebff;}#sk-container-id-29 div.sk-parallel-item::after {content: \"\";width: 100%;border-bottom: 1px solid gray;flex-grow: 1;}#sk-container-id-29 div.sk-label:hover label.sk-toggleable__label {background-color: #d4ebff;}#sk-container-id-29 div.sk-serial::before {content: \"\";position: absolute;border-left: 1px solid gray;box-sizing: border-box;top: 0;bottom: 0;left: 50%;z-index: 0;}#sk-container-id-29 div.sk-serial {display: flex;flex-direction: column;align-items: center;background-color: white;padding-right: 0.2em;padding-left: 0.2em;position: relative;}#sk-container-id-29 div.sk-item {position: relative;z-index: 1;}#sk-container-id-29 div.sk-parallel {display: flex;align-items: stretch;justify-content: center;background-color: white;position: relative;}#sk-container-id-29 div.sk-item::before, #sk-container-id-29 div.sk-parallel-item::before {content: \"\";position: absolute;border-left: 1px solid gray;box-sizing: border-box;top: 0;bottom: 0;left: 50%;z-index: -1;}#sk-container-id-29 div.sk-parallel-item {display: flex;flex-direction: column;z-index: 1;position: relative;background-color: white;}#sk-container-id-29 div.sk-parallel-item:first-child::after {align-self: flex-end;width: 50%;}#sk-container-id-29 div.sk-parallel-item:last-child::after {align-self: flex-start;width: 50%;}#sk-container-id-29 div.sk-parallel-item:only-child::after {width: 0;}#sk-container-id-29 div.sk-dashed-wrapped {border: 1px dashed gray;margin: 0 0.4em 0.5em 0.4em;box-sizing: border-box;padding-bottom: 0.4em;background-color: white;}#sk-container-id-29 div.sk-label label {font-family: monospace;font-weight: bold;display: inline-block;line-height: 1.2em;}#sk-container-id-29 div.sk-label-container {text-align: center;}#sk-container-id-29 div.sk-container {/* jupyter's `normalize.less` sets `[hidden] { display: none; }` but bootstrap.min.css set `[hidden] { display: none !important; }` so we also need the `!important` here to be able to override the default hidden behavior on the sphinx rendered scikit-learn.org. See: https://github.com/scikit-learn/scikit-learn/issues/21755 */display: inline-block !important;position: relative;}#sk-container-id-29 div.sk-text-repr-fallback {display: none;}</style><div id=\"sk-container-id-29\" class=\"sk-top-container\"><div class=\"sk-text-repr-fallback\"><pre>DecisionTreeClassifier(criterion=&#x27;entropy&#x27;, max_depth=8)</pre><b>In a Jupyter environment, please rerun this cell to show the HTML representation or trust the notebook. <br />On GitHub, the HTML representation is unable to render, please try loading this page with nbviewer.org.</b></div><div class=\"sk-container\" hidden><div class=\"sk-item\"><div class=\"sk-estimator sk-toggleable\"><input class=\"sk-toggleable__control sk-hidden--visually\" id=\"sk-estimator-id-37\" type=\"checkbox\" checked><label for=\"sk-estimator-id-37\" class=\"sk-toggleable__label sk-toggleable__label-arrow\">DecisionTreeClassifier</label><div class=\"sk-toggleable__content\"><pre>DecisionTreeClassifier(criterion=&#x27;entropy&#x27;, max_depth=8)</pre></div></div></div></div></div>"
            ]
          },
          "metadata": {},
          "execution_count": 347
        }
      ]
    },
    {
      "cell_type": "code",
      "source": [
        "best_clf.score(X_test, y_test)"
      ],
      "metadata": {
        "colab": {
          "base_uri": "https://localhost:8080/"
        },
        "id": "Sz5dbSAPoUmy",
        "outputId": "38b6e3a7-af63-417a-83fe-50a579214f41"
      },
      "execution_count": 348,
      "outputs": [
        {
          "output_type": "execute_result",
          "data": {
            "text/plain": [
              "0.8033898305084746"
            ]
          },
          "metadata": {},
          "execution_count": 348
        }
      ]
    },
    {
      "cell_type": "code",
      "source": [
        "y_pred = best_clf.predict(X_test)"
      ],
      "metadata": {
        "id": "dpWrnEw1ovbC"
      },
      "execution_count": 349,
      "outputs": []
    },
    {
      "cell_type": "code",
      "source": [
        "precision_score(y_test, y_pred)"
      ],
      "metadata": {
        "colab": {
          "base_uri": "https://localhost:8080/"
        },
        "id": "d6e8W3tZpfsg",
        "outputId": "a9b41e7b-b583-4891-9d94-54ffc6526f24"
      },
      "execution_count": 350,
      "outputs": [
        {
          "output_type": "execute_result",
          "data": {
            "text/plain": [
              "0.8229166666666666"
            ]
          },
          "metadata": {},
          "execution_count": 350
        }
      ]
    },
    {
      "cell_type": "code",
      "source": [
        "recall_score(y_test, y_pred)"
      ],
      "metadata": {
        "colab": {
          "base_uri": "https://localhost:8080/"
        },
        "id": "CJod3xSApl7v",
        "outputId": "9348bf23-6c66-49f7-c07e-c8ca4bdb83bc"
      },
      "execution_count": 351,
      "outputs": [
        {
          "output_type": "execute_result",
          "data": {
            "text/plain": [
              "0.6583333333333333"
            ]
          },
          "metadata": {},
          "execution_count": 351
        }
      ]
    },
    {
      "cell_type": "code",
      "source": [
        "y_predicted_prob = best_clf.predict_proba(X_test)"
      ],
      "metadata": {
        "id": "bWjc2Ff6r1qs"
      },
      "execution_count": 352,
      "outputs": []
    },
    {
      "cell_type": "code",
      "source": [
        "y_predicted_prob"
      ],
      "metadata": {
        "colab": {
          "base_uri": "https://localhost:8080/"
        },
        "id": "Ta2CAp_msGx-",
        "outputId": "52d1a628-2caa-467f-9fc0-265016fb5ad2"
      },
      "execution_count": 360,
      "outputs": [
        {
          "output_type": "execute_result",
          "data": {
            "text/plain": [
              "array([[0.8852459 , 0.1147541 ],\n",
              "       [0.61538462, 0.38461538],\n",
              "       [0.8852459 , 0.1147541 ],\n",
              "       [0.        , 1.        ],\n",
              "       [0.        , 1.        ],\n",
              "       [1.        , 0.        ],\n",
              "       [0.25      , 0.75      ],\n",
              "       [0.8852459 , 0.1147541 ],\n",
              "       [0.25      , 0.75      ],\n",
              "       [0.        , 1.        ],\n",
              "       [0.5       , 0.5       ],\n",
              "       [0.90196078, 0.09803922],\n",
              "       [1.        , 0.        ],\n",
              "       [0.8852459 , 0.1147541 ],\n",
              "       [0.90196078, 0.09803922],\n",
              "       [0.        , 1.        ],\n",
              "       [1.        , 0.        ],\n",
              "       [0.69565217, 0.30434783],\n",
              "       [0.8852459 , 0.1147541 ],\n",
              "       [1.        , 0.        ],\n",
              "       [0.8852459 , 0.1147541 ],\n",
              "       [0.68      , 0.32      ],\n",
              "       [0.69565217, 0.30434783],\n",
              "       [0.8852459 , 0.1147541 ],\n",
              "       [0.8852459 , 0.1147541 ],\n",
              "       [1.        , 0.        ],\n",
              "       [0.68      , 0.32      ],\n",
              "       [0.61538462, 0.38461538],\n",
              "       [1.        , 0.        ],\n",
              "       [0.69565217, 0.30434783],\n",
              "       [0.8852459 , 0.1147541 ],\n",
              "       [0.        , 1.        ],\n",
              "       [0.68      , 0.32      ],\n",
              "       [0.        , 1.        ],\n",
              "       [0.8852459 , 0.1147541 ],\n",
              "       [0.8852459 , 0.1147541 ],\n",
              "       [0.68      , 0.32      ],\n",
              "       [0.25      , 0.75      ],\n",
              "       [0.        , 1.        ],\n",
              "       [0.8852459 , 0.1147541 ],\n",
              "       [1.        , 0.        ],\n",
              "       [0.8852459 , 0.1147541 ],\n",
              "       [0.8852459 , 0.1147541 ],\n",
              "       [0.8852459 , 0.1147541 ],\n",
              "       [1.        , 0.        ],\n",
              "       [0.8852459 , 0.1147541 ],\n",
              "       [0.8852459 , 0.1147541 ],\n",
              "       [0.8852459 , 0.1147541 ],\n",
              "       [0.8852459 , 0.1147541 ],\n",
              "       [1.        , 0.        ],\n",
              "       [0.        , 1.        ],\n",
              "       [0.        , 1.        ],\n",
              "       [0.90196078, 0.09803922],\n",
              "       [0.        , 1.        ],\n",
              "       [1.        , 0.        ],\n",
              "       [0.        , 1.        ],\n",
              "       [0.61538462, 0.38461538],\n",
              "       [1.        , 0.        ],\n",
              "       [0.        , 1.        ],\n",
              "       [0.69565217, 0.30434783],\n",
              "       [0.8852459 , 0.1147541 ],\n",
              "       [0.        , 1.        ],\n",
              "       [0.        , 1.        ],\n",
              "       [1.        , 0.        ],\n",
              "       [0.8852459 , 0.1147541 ],\n",
              "       [0.        , 1.        ],\n",
              "       [1.        , 0.        ],\n",
              "       [0.8852459 , 0.1147541 ],\n",
              "       [0.8852459 , 0.1147541 ],\n",
              "       [0.        , 1.        ],\n",
              "       [1.        , 0.        ],\n",
              "       [0.        , 1.        ],\n",
              "       [0.        , 1.        ],\n",
              "       [0.        , 1.        ],\n",
              "       [0.8852459 , 0.1147541 ],\n",
              "       [0.90196078, 0.09803922],\n",
              "       [0.25      , 0.75      ],\n",
              "       [0.        , 1.        ],\n",
              "       [0.        , 1.        ],\n",
              "       [1.        , 0.        ],\n",
              "       [1.        , 0.        ],\n",
              "       [0.        , 1.        ],\n",
              "       [0.        , 1.        ],\n",
              "       [0.8852459 , 0.1147541 ],\n",
              "       [0.68      , 0.32      ],\n",
              "       [1.        , 0.        ],\n",
              "       [0.        , 1.        ],\n",
              "       [0.        , 1.        ],\n",
              "       [1.        , 0.        ],\n",
              "       [0.8852459 , 0.1147541 ],\n",
              "       [0.        , 1.        ],\n",
              "       [1.        , 0.        ],\n",
              "       [0.68      , 0.32      ],\n",
              "       [0.8852459 , 0.1147541 ],\n",
              "       [0.8852459 , 0.1147541 ],\n",
              "       [0.8852459 , 0.1147541 ],\n",
              "       [1.        , 0.        ],\n",
              "       [0.90196078, 0.09803922],\n",
              "       [0.        , 1.        ],\n",
              "       [0.8852459 , 0.1147541 ],\n",
              "       [1.        , 0.        ],\n",
              "       [1.        , 0.        ],\n",
              "       [0.        , 1.        ],\n",
              "       [1.        , 0.        ],\n",
              "       [0.8852459 , 0.1147541 ],\n",
              "       [0.8852459 , 0.1147541 ],\n",
              "       [0.        , 1.        ],\n",
              "       [1.        , 0.        ],\n",
              "       [0.8852459 , 0.1147541 ],\n",
              "       [0.68      , 0.32      ],\n",
              "       [0.        , 1.        ],\n",
              "       [0.8852459 , 0.1147541 ],\n",
              "       [0.        , 1.        ],\n",
              "       [0.        , 1.        ],\n",
              "       [0.83333333, 0.16666667],\n",
              "       [0.8852459 , 0.1147541 ],\n",
              "       [0.68      , 0.32      ],\n",
              "       [0.90196078, 0.09803922],\n",
              "       [0.        , 1.        ],\n",
              "       [1.        , 0.        ],\n",
              "       [0.8852459 , 0.1147541 ],\n",
              "       [0.        , 1.        ],\n",
              "       [0.        , 1.        ],\n",
              "       [0.        , 1.        ],\n",
              "       [0.8852459 , 0.1147541 ],\n",
              "       [0.68      , 0.32      ],\n",
              "       [0.        , 1.        ],\n",
              "       [0.        , 1.        ],\n",
              "       [1.        , 0.        ],\n",
              "       [0.8852459 , 0.1147541 ],\n",
              "       [0.69565217, 0.30434783],\n",
              "       [0.8852459 , 0.1147541 ],\n",
              "       [0.8852459 , 0.1147541 ],\n",
              "       [0.        , 1.        ],\n",
              "       [0.        , 1.        ],\n",
              "       [1.        , 0.        ],\n",
              "       [0.        , 1.        ],\n",
              "       [0.8852459 , 0.1147541 ],\n",
              "       [1.        , 0.        ],\n",
              "       [0.4       , 0.6       ],\n",
              "       [0.8852459 , 0.1147541 ],\n",
              "       [0.        , 1.        ],\n",
              "       [0.8852459 , 0.1147541 ],\n",
              "       [0.90196078, 0.09803922],\n",
              "       [1.        , 0.        ],\n",
              "       [0.        , 1.        ],\n",
              "       [0.8852459 , 0.1147541 ],\n",
              "       [0.90196078, 0.09803922],\n",
              "       [0.        , 1.        ],\n",
              "       [0.90196078, 0.09803922],\n",
              "       [0.8852459 , 0.1147541 ],\n",
              "       [0.8852459 , 0.1147541 ],\n",
              "       [0.8852459 , 0.1147541 ],\n",
              "       [1.        , 0.        ],\n",
              "       [0.8852459 , 0.1147541 ],\n",
              "       [0.8852459 , 0.1147541 ],\n",
              "       [0.83333333, 0.16666667],\n",
              "       [0.69565217, 0.30434783],\n",
              "       [0.        , 1.        ],\n",
              "       [0.        , 1.        ],\n",
              "       [0.8852459 , 0.1147541 ],\n",
              "       [0.68      , 0.32      ],\n",
              "       [0.90196078, 0.09803922],\n",
              "       [0.        , 1.        ],\n",
              "       [0.8852459 , 0.1147541 ],\n",
              "       [0.        , 1.        ],\n",
              "       [0.8852459 , 0.1147541 ],\n",
              "       [0.        , 1.        ],\n",
              "       [0.8852459 , 0.1147541 ],\n",
              "       [1.        , 0.        ],\n",
              "       [1.        , 0.        ],\n",
              "       [0.        , 1.        ],\n",
              "       [0.        , 1.        ],\n",
              "       [0.        , 1.        ],\n",
              "       [0.8852459 , 0.1147541 ],\n",
              "       [0.8852459 , 0.1147541 ],\n",
              "       [1.        , 0.        ],\n",
              "       [0.        , 1.        ],\n",
              "       [0.33333333, 0.66666667],\n",
              "       [0.68      , 0.32      ],\n",
              "       [0.8852459 , 0.1147541 ],\n",
              "       [0.61538462, 0.38461538],\n",
              "       [0.8852459 , 0.1147541 ],\n",
              "       [1.        , 0.        ],\n",
              "       [0.        , 1.        ],\n",
              "       [0.68      , 0.32      ],\n",
              "       [0.8852459 , 0.1147541 ],\n",
              "       [0.8852459 , 0.1147541 ],\n",
              "       [0.68      , 0.32      ],\n",
              "       [0.        , 1.        ],\n",
              "       [0.90196078, 0.09803922],\n",
              "       [0.90196078, 0.09803922],\n",
              "       [0.8852459 , 0.1147541 ],\n",
              "       [0.8852459 , 0.1147541 ],\n",
              "       [0.        , 1.        ],\n",
              "       [0.        , 1.        ],\n",
              "       [0.        , 1.        ],\n",
              "       [0.90196078, 0.09803922],\n",
              "       [0.        , 1.        ],\n",
              "       [1.        , 0.        ],\n",
              "       [1.        , 0.        ],\n",
              "       [0.69565217, 0.30434783],\n",
              "       [0.        , 1.        ],\n",
              "       [1.        , 0.        ],\n",
              "       [0.8852459 , 0.1147541 ],\n",
              "       [0.        , 1.        ],\n",
              "       [0.8852459 , 0.1147541 ],\n",
              "       [0.        , 1.        ],\n",
              "       [0.8852459 , 0.1147541 ],\n",
              "       [0.90196078, 0.09803922],\n",
              "       [0.        , 1.        ],\n",
              "       [0.8852459 , 0.1147541 ],\n",
              "       [0.        , 1.        ],\n",
              "       [0.8852459 , 0.1147541 ],\n",
              "       [1.        , 0.        ],\n",
              "       [0.        , 1.        ],\n",
              "       [1.        , 0.        ],\n",
              "       [0.        , 1.        ],\n",
              "       [1.        , 0.        ],\n",
              "       [0.8852459 , 0.1147541 ],\n",
              "       [0.8852459 , 0.1147541 ],\n",
              "       [0.        , 1.        ],\n",
              "       [0.8852459 , 0.1147541 ],\n",
              "       [0.68      , 0.32      ],\n",
              "       [0.8852459 , 0.1147541 ],\n",
              "       [0.        , 1.        ],\n",
              "       [0.8852459 , 0.1147541 ],\n",
              "       [0.        , 1.        ],\n",
              "       [0.        , 1.        ],\n",
              "       [0.69565217, 0.30434783],\n",
              "       [0.90196078, 0.09803922],\n",
              "       [0.        , 1.        ],\n",
              "       [0.8852459 , 0.1147541 ],\n",
              "       [0.        , 1.        ],\n",
              "       [0.8852459 , 0.1147541 ],\n",
              "       [0.69565217, 0.30434783],\n",
              "       [0.        , 1.        ],\n",
              "       [0.69565217, 0.30434783],\n",
              "       [0.        , 1.        ],\n",
              "       [0.90196078, 0.09803922],\n",
              "       [0.8852459 , 0.1147541 ],\n",
              "       [0.        , 1.        ],\n",
              "       [0.8852459 , 0.1147541 ],\n",
              "       [0.69565217, 0.30434783],\n",
              "       [1.        , 0.        ],\n",
              "       [0.8852459 , 0.1147541 ],\n",
              "       [0.8852459 , 0.1147541 ],\n",
              "       [0.8852459 , 0.1147541 ],\n",
              "       [0.8852459 , 0.1147541 ],\n",
              "       [0.68      , 0.32      ],\n",
              "       [0.        , 1.        ],\n",
              "       [0.90196078, 0.09803922],\n",
              "       [0.8852459 , 0.1147541 ],\n",
              "       [0.8852459 , 0.1147541 ],\n",
              "       [1.        , 0.        ],\n",
              "       [0.8852459 , 0.1147541 ],\n",
              "       [0.8852459 , 0.1147541 ],\n",
              "       [0.        , 1.        ],\n",
              "       [0.90196078, 0.09803922],\n",
              "       [0.        , 1.        ],\n",
              "       [0.        , 1.        ],\n",
              "       [1.        , 0.        ],\n",
              "       [0.        , 1.        ],\n",
              "       [0.8852459 , 0.1147541 ],\n",
              "       [1.        , 0.        ],\n",
              "       [0.68      , 0.32      ],\n",
              "       [0.8852459 , 0.1147541 ],\n",
              "       [0.68      , 0.32      ],\n",
              "       [0.        , 1.        ],\n",
              "       [0.8852459 , 0.1147541 ],\n",
              "       [0.        , 1.        ],\n",
              "       [0.90196078, 0.09803922],\n",
              "       [0.90196078, 0.09803922],\n",
              "       [0.        , 1.        ],\n",
              "       [0.        , 1.        ],\n",
              "       [0.8852459 , 0.1147541 ],\n",
              "       [0.8852459 , 0.1147541 ],\n",
              "       [0.8852459 , 0.1147541 ],\n",
              "       [0.        , 1.        ],\n",
              "       [0.90196078, 0.09803922],\n",
              "       [0.8852459 , 0.1147541 ],\n",
              "       [0.8852459 , 0.1147541 ],\n",
              "       [0.        , 1.        ],\n",
              "       [1.        , 0.        ],\n",
              "       [0.8852459 , 0.1147541 ],\n",
              "       [1.        , 0.        ],\n",
              "       [0.69565217, 0.30434783],\n",
              "       [0.8852459 , 0.1147541 ],\n",
              "       [0.        , 1.        ],\n",
              "       [0.        , 1.        ],\n",
              "       [0.8852459 , 0.1147541 ],\n",
              "       [1.        , 0.        ],\n",
              "       [0.        , 1.        ],\n",
              "       [0.        , 1.        ],\n",
              "       [0.8852459 , 0.1147541 ]])"
            ]
          },
          "metadata": {},
          "execution_count": 360
        }
      ]
    },
    {
      "cell_type": "code",
      "source": [
        "y_pred"
      ],
      "metadata": {
        "colab": {
          "base_uri": "https://localhost:8080/"
        },
        "id": "PHNc8NSdsMu0",
        "outputId": "bbec4a71-335c-414d-9c3d-4bfa7d2e1c8f"
      },
      "execution_count": 354,
      "outputs": [
        {
          "output_type": "execute_result",
          "data": {
            "text/plain": [
              "array([0, 0, 0, 1, 1, 0, 1, 0, 1, 1, 0, 0, 0, 0, 0, 1, 0, 0, 0, 0, 0, 0,\n",
              "       0, 0, 0, 0, 0, 0, 0, 0, 0, 1, 0, 1, 0, 0, 0, 1, 1, 0, 0, 0, 0, 0,\n",
              "       0, 0, 0, 0, 0, 0, 1, 1, 0, 1, 0, 1, 0, 0, 1, 0, 0, 1, 1, 0, 0, 1,\n",
              "       0, 0, 0, 1, 0, 1, 1, 1, 0, 0, 1, 1, 1, 0, 0, 1, 1, 0, 0, 0, 1, 1,\n",
              "       0, 0, 1, 0, 0, 0, 0, 0, 0, 0, 1, 0, 0, 0, 1, 0, 0, 0, 1, 0, 0, 0,\n",
              "       1, 0, 1, 1, 0, 0, 0, 0, 1, 0, 0, 1, 1, 1, 0, 0, 1, 1, 0, 0, 0, 0,\n",
              "       0, 1, 1, 0, 1, 0, 0, 1, 0, 1, 0, 0, 0, 1, 0, 0, 1, 0, 0, 0, 0, 0,\n",
              "       0, 0, 0, 0, 1, 1, 0, 0, 0, 1, 0, 1, 0, 1, 0, 0, 0, 1, 1, 1, 0, 0,\n",
              "       0, 1, 1, 0, 0, 0, 0, 0, 1, 0, 0, 0, 0, 1, 0, 0, 0, 0, 1, 1, 1, 0,\n",
              "       1, 0, 0, 0, 1, 0, 0, 1, 0, 1, 0, 0, 1, 0, 1, 0, 0, 1, 0, 1, 0, 0,\n",
              "       0, 1, 0, 0, 0, 1, 0, 1, 1, 0, 0, 1, 0, 1, 0, 0, 1, 0, 1, 0, 0, 1,\n",
              "       0, 0, 0, 0, 0, 0, 0, 0, 1, 0, 0, 0, 0, 0, 0, 1, 0, 1, 1, 0, 1, 0,\n",
              "       0, 0, 0, 0, 1, 0, 1, 0, 0, 1, 1, 0, 0, 0, 1, 0, 0, 0, 1, 0, 0, 0,\n",
              "       0, 0, 1, 1, 0, 0, 1, 1, 0])"
            ]
          },
          "metadata": {},
          "execution_count": 354
        }
      ]
    },
    {
      "cell_type": "code",
      "source": [
        "pd.Series(y_predicted_prob[:, 1]).hist()"
      ],
      "metadata": {
        "colab": {
          "base_uri": "https://localhost:8080/",
          "height": 447
        },
        "id": "IpQFEHNjsRBR",
        "outputId": "32480ab5-8e4b-4074-d21a-fd5feb55781b"
      },
      "execution_count": 355,
      "outputs": [
        {
          "output_type": "execute_result",
          "data": {
            "text/plain": [
              "<Axes: >"
            ]
          },
          "metadata": {},
          "execution_count": 355
        },
        {
          "output_type": "display_data",
          "data": {
            "text/plain": [
              "<Figure size 640x480 with 1 Axes>"
            ],
            "image/png": "[encoded data removed]"
          },
          "metadata": {}
        }
      ]
    },
    {
      "cell_type": "code",
      "source": [
        "y_pred = np.where(y_predicted_prob[:,1] > 0.5, 1, 0)"
      ],
      "metadata": {
        "id": "Id8cAmgptS04"
      },
      "execution_count": 363,
      "outputs": []
    },
    {
      "cell_type": "code",
      "source": [
        "precision_score(y_test, y_pred)"
      ],
      "metadata": {
        "colab": {
          "base_uri": "https://localhost:8080/"
        },
        "id": "DBaFLQ9wtnOw",
        "outputId": "823341e3-e2e8-45f7-b71a-0b9436c55989"
      },
      "execution_count": 364,
      "outputs": [
        {
          "output_type": "execute_result",
          "data": {
            "text/plain": [
              "0.8229166666666666"
            ]
          },
          "metadata": {},
          "execution_count": 364
        }
      ]
    },
    {
      "cell_type": "code",
      "source": [
        "recall_score(y_test, y_pred)"
      ],
      "metadata": {
        "id": "RaXOwLIAtnBl",
        "colab": {
          "base_uri": "https://localhost:8080/"
        },
        "outputId": "3bb5aead-89bc-4b03-f39d-f1b84eb4c0e5"
      },
      "execution_count": 365,
      "outputs": [
        {
          "output_type": "execute_result",
          "data": {
            "text/plain": [
              "0.6583333333333333"
            ]
          },
          "metadata": {},
          "execution_count": 365
        }
      ]
    },
    {
      "cell_type": "code",
      "source": [
        "from sklearn.metrics import roc_curve, auc\n",
        "fpr, tpr, thresholds = roc_curve(y_test, y_predicted_prob[:,1])\n",
        "roc_auc= auc(fpr, tpr)\n",
        "plt.figure()\n",
        "lw = 2\n",
        "plt.plot(fpr, tpr, color='darkorange',\n",
        "         lw=lw, label='ROC curve (area = %0.2f)' % roc_auc)\n",
        "plt.plot([0, 1], [0, 1], color='navy', lw=lw, linestyle='--')\n",
        "plt.xlim([0.0, 1.0])\n",
        "plt.ylim([0.0, 1.05])\n",
        "plt.xlabel('False Positive Rate')\n",
        "plt.ylabel('True Positive Rate')\n",
        "plt.title('Receiver operating characteristic example')\n",
        "plt.legend(loc=\"lower right\")\n",
        "plt.show()"
      ],
      "metadata": {
        "id": "ohMJw_LPtmVp",
        "colab": {
          "base_uri": "https://localhost:8080/",
          "height": 472
        },
        "outputId": "2beaf12c-912e-4774-eb81-63f3cb9dff38"
      },
      "execution_count": 366,
      "outputs": [
        {
          "output_type": "display_data",
          "data": {
            "text/plain": [
              "<Figure size 640x480 with 1 Axes>"
            ],
            "image/png": "[encoded data removed]"
          },
          "metadata": {}
        }
      ]
    },
    {
      "cell_type": "markdown",
      "source": [
        "#Ирисы задачка"
      ],
      "metadata": {
        "id": "zWs10dggyC2O"
      }
    },
    {
      "cell_type": "code",
      "source": [
        "iris_train = pd.read_csv(\"https://stepik.org/media/attachments/course/4852/train_iris.csv\")"
      ],
      "metadata": {
        "id": "JeGCIiKUwDwu"
      },
      "execution_count": 278,
      "outputs": []
    },
    {
      "cell_type": "code",
      "source": [
        "iris_test = pd.read_csv(\"https://stepik.org/media/attachments/course/4852/test_iris.csv\")"
      ],
      "metadata": {
        "id": "X8Ds0QfKyU1G"
      },
      "execution_count": 279,
      "outputs": []
    },
    {
      "cell_type": "code",
      "source": [
        "iris_train.head()"
      ],
      "metadata": {
        "colab": {
          "base_uri": "https://localhost:8080/",
          "height": 206
        },
        "id": "32y-W4LCyV3G",
        "outputId": "b9775230-fb32-41b0-d70e-1c494e3ff318"
      },
      "execution_count": 280,
      "outputs": [
        {
          "data": {
            "application/vnd.google.colaboratory.intrinsic+json": {
              "summary": "{\n  \"name\": \"iris_train\",\n  \"rows\": 100,\n  \"fields\": [\n    {\n      \"column\": \"Unnamed: 0\",\n      \"properties\": {\n        \"dtype\": \"number\",\n        \"std\": 44,\n        \"min\": 0,\n        \"max\": 149,\n        \"num_unique_values\": 100,\n        \"samples\": [\n          19,\n          116,\n          1\n        ],\n        \"semantic_type\": \"\",\n        \"description\": \"\"\n      }\n    },\n    {\n      \"column\": \"sepal length\",\n      \"properties\": {\n        \"dtype\": \"number\",\n        \"std\": 0.8568647336173731,\n        \"min\": 4.3,\n        \"max\": 7.7,\n        \"num_unique_values\": 32,\n        \"samples\": [\n          7.3,\n          6.7,\n          6.0\n        ],\n        \"semantic_type\": \"\",\n        \"description\": \"\"\n      }\n    },\n    {\n      \"column\": \"sepal width\",\n      \"properties\": {\n        \"dtype\": \"number\",\n        \"std\": 0.39734472222848044,\n        \"min\": 2.2,\n        \"max\": 4.0,\n        \"num_unique_values\": 18,\n        \"samples\": [\n          2.8,\n          3.4,\n          3.8\n        ],\n        \"semantic_type\": \"\",\n        \"description\": \"\"\n      }\n    },\n    {\n      \"column\": \"petal length\",\n      \"properties\": {\n        \"dtype\": \"number\",\n        \"std\": 1.8102879395948106,\n        \"min\": 1.1,\n        \"max\": 6.9,\n        \"num_unique_values\": 38,\n        \"samples\": [\n          6.9,\n          4.8,\n          1.3\n        ],\n        \"semantic_type\": \"\",\n        \"description\": \"\"\n      }\n    },\n    {\n      \"column\": \"petal width\",\n      \"properties\": {\n        \"dtype\": \"number\",\n        \"std\": 0.7940759193279731,\n        \"min\": 0.1,\n        \"max\": 2.5,\n        \"num_unique_values\": 22,\n        \"samples\": [\n          1.9,\n          1.4,\n          0.1\n        ],\n        \"semantic_type\": \"\",\n        \"description\": \"\"\n      }\n    },\n    {\n      \"column\": \"species\",\n      \"properties\": {\n        \"dtype\": \"number\",\n        \"std\": 0,\n        \"min\": 0,\n        \"max\": 2,\n        \"num_unique_values\": 3,\n        \"samples\": [\n          2,\n          0,\n          1\n        ],\n        \"semantic_type\": \"\",\n        \"description\": \"\"\n      }\n    }\n  ]\n}",
              "type": "dataframe",
              "variable_name": "iris_train"
            },
            "text/html": [
              "\n",
              "  <div id=\"df-a1603612-aa50-4e66-a6be-98dffc60d490\" class=\"colab-df-container\">\n",
              "    <div>\n",
              "<style scoped>\n",
              "    .dataframe tbody tr th:only-of-type {\n",
              "        vertical-align: middle;\n",
              "    }\n",
              "\n",
              "    .dataframe tbody tr th {\n",
              "        vertical-align: top;\n",
              "    }\n",
              "\n",
              "    .dataframe thead th {\n",
              "        text-align: right;\n",
              "    }\n",
              "</style>\n",
              "<table border=\"1\" class=\"dataframe\">\n",
              "  <thead>\n",
              "    <tr style=\"text-align: right;\">\n",
              "      <th></th>\n",
              "      <th>Unnamed: 0</th>\n",
              "      <th>sepal length</th>\n",
              "      <th>sepal width</th>\n",
              "      <th>petal length</th>\n",
              "      <th>petal width</th>\n",
              "      <th>species</th>\n",
              "    </tr>\n",
              "  </thead>\n",
              "  <tbody>\n",
              "    <tr>\n",
              "      <th>0</th>\n",
              "      <td>130</td>\n",
              "      <td>7.4</td>\n",
              "      <td>2.8</td>\n",
              "      <td>6.1</td>\n",
              "      <td>1.9</td>\n",
              "      <td>2</td>\n",
              "    </tr>\n",
              "    <tr>\n",
              "      <th>1</th>\n",
              "      <td>7</td>\n",
              "      <td>5.0</td>\n",
              "      <td>3.4</td>\n",
              "      <td>1.5</td>\n",
              "      <td>0.2</td>\n",
              "      <td>0</td>\n",
              "    </tr>\n",
              "    <tr>\n",
              "      <th>2</th>\n",
              "      <td>11</td>\n",
              "      <td>4.8</td>\n",
              "      <td>3.4</td>\n",
              "      <td>1.6</td>\n",
              "      <td>0.2</td>\n",
              "      <td>0</td>\n",
              "    </tr>\n",
              "    <tr>\n",
              "      <th>3</th>\n",
              "      <td>142</td>\n",
              "      <td>5.8</td>\n",
              "      <td>2.7</td>\n",
              "      <td>5.1</td>\n",
              "      <td>1.9</td>\n",
              "      <td>2</td>\n",
              "    </tr>\n",
              "    <tr>\n",
              "      <th>4</th>\n",
              "      <td>109</td>\n",
              "      <td>7.2</td>\n",
              "      <td>3.6</td>\n",
              "      <td>6.1</td>\n",
              "      <td>2.5</td>\n",
              "      <td>2</td>\n",
              "    </tr>\n",
              "  </tbody>\n",
              "</table>\n",
              "</div>\n",
              "    <div class=\"colab-df-buttons\">\n",
              "\n",
              "  <div class=\"colab-df-container\">\n",
              "    <button class=\"colab-df-convert\" onclick=\"convertToInteractive('df-a1603612-aa50-4e66-a6be-98dffc60d490')\"\n",
              "            title=\"Convert this dataframe to an interactive table.\"\n",
              "            style=\"display:none;\">\n",
              "\n",
              "  <svg xmlns=\"http://www.w3.org/2000/svg\" height=\"24px\" viewBox=\"0 -960 960 960\">\n",
              "    <path d=\"M120-120v-720h720v720H120Zm60-500h600v-160H180v160Zm220 220h160v-160H400v160Zm0 220h160v-160H400v160ZM180-400h160v-160H180v160Zm440 0h160v-160H620v160ZM180-180h160v-160H180v160Zm440 0h160v-160H620v160Z\"/>\n",
              "  </svg>\n",
              "    </button>\n",
              "\n",
              "  <style>\n",
              "    .colab-df-container {\n",
              "      display:flex;\n",
              "      gap: 12px;\n",
              "    }\n",
              "\n",
              "    .colab-df-convert {\n",
              "      background-color: #E8F0FE;\n",
              "      border: none;\n",
              "      border-radius: 50%;\n",
              "      cursor: pointer;\n",
              "      display: none;\n",
              "      fill: #1967D2;\n",
              "      height: 32px;\n",
              "      padding: 0 0 0 0;\n",
              "      width: 32px;\n",
              "    }\n",
              "\n",
              "    .colab-df-convert:hover {\n",
              "      background-color: #E2EBFA;\n",
              "      box-shadow: 0px 1px 2px rgba(60, 64, 67, 0.3), 0px 1px 3px 1px rgba(60, 64, 67, 0.15);\n",
              "      fill: #174EA6;\n",
              "    }\n",
              "\n",
              "    .colab-df-buttons div {\n",
              "      margin-bottom: 4px;\n",
              "    }\n",
              "\n",
              "    [theme=dark] .colab-df-convert {\n",
              "      background-color: #3B4455;\n",
              "      fill: #D2E3FC;\n",
              "    }\n",
              "\n",
              "    [theme=dark] .colab-df-convert:hover {\n",
              "      background-color: #434B5C;\n",
              "      box-shadow: 0px 1px 3px 1px rgba(0, 0, 0, 0.15);\n",
              "      filter: drop-shadow(0px 1px 2px rgba(0, 0, 0, 0.3));\n",
              "      fill: #FFFFFF;\n",
              "    }\n",
              "  </style>\n",
              "\n",
              "    <script>\n",
              "      const buttonEl =\n",
              "        document.querySelector('#df-a1603612-aa50-4e66-a6be-98dffc60d490 button.colab-df-convert');\n",
              "      buttonEl.style.display =\n",
              "        google.colab.kernel.accessAllowed ? 'block' : 'none';\n",
              "\n",
              "      async function convertToInteractive(key) {\n",
              "        const element = document.querySelector('#df-a1603612-aa50-4e66-a6be-98dffc60d490');\n",
              "        const dataTable =\n",
              "          await google.colab.kernel.invokeFunction('convertToInteractive',\n",
              "                                                    [key], {});\n",
              "        if (!dataTable) return;\n",
              "\n",
              "        const docLinkHtml = 'Like what you see? Visit the ' +\n",
              "          '<a target=\"_blank\" href=https://colab.research.google.com/notebooks/data_table.ipynb>data table notebook</a>'\n",
              "          + ' to learn more about interactive tables.';\n",
              "        element.innerHTML = '';\n",
              "        dataTable['output_type'] = 'display_data';\n",
              "        await google.colab.output.renderOutput(dataTable, element);\n",
              "        const docLink = document.createElement('div');\n",
              "        docLink.innerHTML = docLinkHtml;\n",
              "        element.appendChild(docLink);\n",
              "      }\n",
              "    </script>\n",
              "  </div>\n",
              "\n",
              "\n",
              "<div id=\"df-17e2f08e-6b5a-43ff-8a84-ed693e093206\">\n",
              "  <button class=\"colab-df-quickchart\" onclick=\"quickchart('df-17e2f08e-6b5a-43ff-8a84-ed693e093206')\"\n",
              "            title=\"Suggest charts\"\n",
              "            style=\"display:none;\">\n",
              "\n",
              "<svg xmlns=\"http://www.w3.org/2000/svg\" height=\"24px\"viewBox=\"0 0 24 24\"\n",
              "     width=\"24px\">\n",
              "    <g>\n",
              "        <path d=\"M19 3H5c-1.1 0-2 .9-2 2v14c0 1.1.9 2 2 2h14c1.1 0 2-.9 2-2V5c0-1.1-.9-2-2-2zM9 17H7v-7h2v7zm4 0h-2V7h2v10zm4 0h-2v-4h2v4z\"/>\n",
              "    </g>\n",
              "</svg>\n",
              "  </button>\n",
              "\n",
              "<style>\n",
              "  .colab-df-quickchart {\n",
              "      --bg-color: #E8F0FE;\n",
              "      --fill-color: #1967D2;\n",
              "      --hover-bg-color: #E2EBFA;\n",
              "      --hover-fill-color: #174EA6;\n",
              "      --disabled-fill-color: #AAA;\n",
              "      --disabled-bg-color: #DDD;\n",
              "  }\n",
              "\n",
              "  [theme=dark] .colab-df-quickchart {\n",
              "      --bg-color: #3B4455;\n",
              "      --fill-color: #D2E3FC;\n",
              "      --hover-bg-color: #434B5C;\n",
              "      --hover-fill-color: #FFFFFF;\n",
              "      --disabled-bg-color: #3B4455;\n",
              "      --disabled-fill-color: #666;\n",
              "  }\n",
              "\n",
              "  .colab-df-quickchart {\n",
              "    background-color: var(--bg-color);\n",
              "    border: none;\n",
              "    border-radius: 50%;\n",
              "    cursor: pointer;\n",
              "    display: none;\n",
              "    fill: var(--fill-color);\n",
              "    height: 32px;\n",
              "    padding: 0;\n",
              "    width: 32px;\n",
              "  }\n",
              "\n",
              "  .colab-df-quickchart:hover {\n",
              "    background-color: var(--hover-bg-color);\n",
              "    box-shadow: 0 1px 2px rgba(60, 64, 67, 0.3), 0 1px 3px 1px rgba(60, 64, 67, 0.15);\n",
              "    fill: var(--button-hover-fill-color);\n",
              "  }\n",
              "\n",
              "  .colab-df-quickchart-complete:disabled,\n",
              "  .colab-df-quickchart-complete:disabled:hover {\n",
              "    background-color: var(--disabled-bg-color);\n",
              "    fill: var(--disabled-fill-color);\n",
              "    box-shadow: none;\n",
              "  }\n",
              "\n",
              "  .colab-df-spinner {\n",
              "    border: 2px solid var(--fill-color);\n",
              "    border-color: transparent;\n",
              "    border-bottom-color: var(--fill-color);\n",
              "    animation:\n",
              "      spin 1s steps(1) infinite;\n",
              "  }\n",
              "\n",
              "  @keyframes spin {\n",
              "    0% {\n",
              "      border-color: transparent;\n",
              "      border-bottom-color: var(--fill-color);\n",
              "      border-left-color: var(--fill-color);\n",
              "    }\n",
              "    20% {\n",
              "      border-color: transparent;\n",
              "      border-left-color: var(--fill-color);\n",
              "      border-top-color: var(--fill-color);\n",
              "    }\n",
              "    30% {\n",
              "      border-color: transparent;\n",
              "      border-left-color: var(--fill-color);\n",
              "      border-top-color: var(--fill-color);\n",
              "      border-right-color: var(--fill-color);\n",
              "    }\n",
              "    40% {\n",
              "      border-color: transparent;\n",
              "      border-right-color: var(--fill-color);\n",
              "      border-top-color: var(--fill-color);\n",
              "    }\n",
              "    60% {\n",
              "      border-color: transparent;\n",
              "      border-right-color: var(--fill-color);\n",
              "    }\n",
              "    80% {\n",
              "      border-color: transparent;\n",
              "      border-right-color: var(--fill-color);\n",
              "      border-bottom-color: var(--fill-color);\n",
              "    }\n",
              "    90% {\n",
              "      border-color: transparent;\n",
              "      border-bottom-color: var(--fill-color);\n",
              "    }\n",
              "  }\n",
              "</style>\n",
              "\n",
              "  <script>\n",
              "    async function quickchart(key) {\n",
              "      const quickchartButtonEl =\n",
              "        document.querySelector('#' + key + ' button');\n",
              "      quickchartButtonEl.disabled = true;  // To prevent multiple clicks.\n",
              "      quickchartButtonEl.classList.add('colab-df-spinner');\n",
              "      try {\n",
              "        const charts = await google.colab.kernel.invokeFunction(\n",
              "            'suggestCharts', [key], {});\n",
              "      } catch (error) {\n",
              "        console.error('Error during call to suggestCharts:', error);\n",
              "      }\n",
              "      quickchartButtonEl.classList.remove('colab-df-spinner');\n",
              "      quickchartButtonEl.classList.add('colab-df-quickchart-complete');\n",
              "    }\n",
              "    (() => {\n",
              "      let quickchartButtonEl =\n",
              "        document.querySelector('#df-17e2f08e-6b5a-43ff-8a84-ed693e093206 button');\n",
              "      quickchartButtonEl.style.display =\n",
              "        google.colab.kernel.accessAllowed ? 'block' : 'none';\n",
              "    })();\n",
              "  </script>\n",
              "</div>\n",
              "    </div>\n",
              "  </div>\n"
            ],
            "text/plain": [
              "   Unnamed: 0  sepal length  sepal width  petal length  petal width  species\n",
              "0         130           7.4          2.8           6.1          1.9        2\n",
              "1           7           5.0          3.4           1.5          0.2        0\n",
              "2          11           4.8          3.4           1.6          0.2        0\n",
              "3         142           5.8          2.7           5.1          1.9        2\n",
              "4         109           7.2          3.6           6.1          2.5        2"
            ]
          },
          "execution_count": 280,
          "metadata": {},
          "output_type": "execute_result"
        }
      ]
    },
    {
      "cell_type": "code",
      "source": [
        "iris_train = iris_train.drop(['Unnamed: 0'], axis=1)"
      ],
      "metadata": {
        "id": "SJmrcT-n2Xc-"
      },
      "execution_count": 281,
      "outputs": []
    },
    {
      "cell_type": "code",
      "source": [
        "iris_test = iris_test.drop(['Unnamed: 0'], axis=1)"
      ],
      "metadata": {
        "id": "rXbk0Kei2p-r"
      },
      "execution_count": 282,
      "outputs": []
    },
    {
      "cell_type": "code",
      "source": [
        "iris_train.head()"
      ],
      "metadata": {
        "colab": {
          "base_uri": "https://localhost:8080/",
          "height": 206
        },
        "id": "dO-wwaT22w-M",
        "outputId": "26e3d7a9-c2fc-4047-c744-dfb336fb786d"
      },
      "execution_count": 283,
      "outputs": [
        {
          "data": {
            "application/vnd.google.colaboratory.intrinsic+json": {
              "summary": "{\n  \"name\": \"iris_train\",\n  \"rows\": 100,\n  \"fields\": [\n    {\n      \"column\": \"sepal length\",\n      \"properties\": {\n        \"dtype\": \"number\",\n        \"std\": 0.8568647336173731,\n        \"min\": 4.3,\n        \"max\": 7.7,\n        \"num_unique_values\": 32,\n        \"samples\": [\n          7.3,\n          6.7,\n          6.0\n        ],\n        \"semantic_type\": \"\",\n        \"description\": \"\"\n      }\n    },\n    {\n      \"column\": \"sepal width\",\n      \"properties\": {\n        \"dtype\": \"number\",\n        \"std\": 0.39734472222848044,\n        \"min\": 2.2,\n        \"max\": 4.0,\n        \"num_unique_values\": 18,\n        \"samples\": [\n          2.8,\n          3.4,\n          3.8\n        ],\n        \"semantic_type\": \"\",\n        \"description\": \"\"\n      }\n    },\n    {\n      \"column\": \"petal length\",\n      \"properties\": {\n        \"dtype\": \"number\",\n        \"std\": 1.8102879395948106,\n        \"min\": 1.1,\n        \"max\": 6.9,\n        \"num_unique_values\": 38,\n        \"samples\": [\n          6.9,\n          4.8,\n          1.3\n        ],\n        \"semantic_type\": \"\",\n        \"description\": \"\"\n      }\n    },\n    {\n      \"column\": \"petal width\",\n      \"properties\": {\n        \"dtype\": \"number\",\n        \"std\": 0.7940759193279731,\n        \"min\": 0.1,\n        \"max\": 2.5,\n        \"num_unique_values\": 22,\n        \"samples\": [\n          1.9,\n          1.4,\n          0.1\n        ],\n        \"semantic_type\": \"\",\n        \"description\": \"\"\n      }\n    },\n    {\n      \"column\": \"species\",\n      \"properties\": {\n        \"dtype\": \"number\",\n        \"std\": 0,\n        \"min\": 0,\n        \"max\": 2,\n        \"num_unique_values\": 3,\n        \"samples\": [\n          2,\n          0,\n          1\n        ],\n        \"semantic_type\": \"\",\n        \"description\": \"\"\n      }\n    }\n  ]\n}",
              "type": "dataframe",
              "variable_name": "iris_train"
            },
            "text/html": [
              "\n",
              "  <div id=\"df-3bdeb8de-1cff-46f2-b92f-b4babb4409f8\" class=\"colab-df-container\">\n",
              "    <div>\n",
              "<style scoped>\n",
              "    .dataframe tbody tr th:only-of-type {\n",
              "        vertical-align: middle;\n",
              "    }\n",
              "\n",
              "    .dataframe tbody tr th {\n",
              "        vertical-align: top;\n",
              "    }\n",
              "\n",
              "    .dataframe thead th {\n",
              "        text-align: right;\n",
              "    }\n",
              "</style>\n",
              "<table border=\"1\" class=\"dataframe\">\n",
              "  <thead>\n",
              "    <tr style=\"text-align: right;\">\n",
              "      <th></th>\n",
              "      <th>sepal length</th>\n",
              "      <th>sepal width</th>\n",
              "      <th>petal length</th>\n",
              "      <th>petal width</th>\n",
              "      <th>species</th>\n",
              "    </tr>\n",
              "  </thead>\n",
              "  <tbody>\n",
              "    <tr>\n",
              "      <th>0</th>\n",
              "      <td>7.4</td>\n",
              "      <td>2.8</td>\n",
              "      <td>6.1</td>\n",
              "      <td>1.9</td>\n",
              "      <td>2</td>\n",
              "    </tr>\n",
              "    <tr>\n",
              "      <th>1</th>\n",
              "      <td>5.0</td>\n",
              "      <td>3.4</td>\n",
              "      <td>1.5</td>\n",
              "      <td>0.2</td>\n",
              "      <td>0</td>\n",
              "    </tr>\n",
              "    <tr>\n",
              "      <th>2</th>\n",
              "      <td>4.8</td>\n",
              "      <td>3.4</td>\n",
              "      <td>1.6</td>\n",
              "      <td>0.2</td>\n",
              "      <td>0</td>\n",
              "    </tr>\n",
              "    <tr>\n",
              "      <th>3</th>\n",
              "      <td>5.8</td>\n",
              "      <td>2.7</td>\n",
              "      <td>5.1</td>\n",
              "      <td>1.9</td>\n",
              "      <td>2</td>\n",
              "    </tr>\n",
              "    <tr>\n",
              "      <th>4</th>\n",
              "      <td>7.2</td>\n",
              "      <td>3.6</td>\n",
              "      <td>6.1</td>\n",
              "      <td>2.5</td>\n",
              "      <td>2</td>\n",
              "    </tr>\n",
              "  </tbody>\n",
              "</table>\n",
              "</div>\n",
              "    <div class=\"colab-df-buttons\">\n",
              "\n",
              "  <div class=\"colab-df-container\">\n",
              "    <button class=\"colab-df-convert\" onclick=\"convertToInteractive('df-3bdeb8de-1cff-46f2-b92f-b4babb4409f8')\"\n",
              "            title=\"Convert this dataframe to an interactive table.\"\n",
              "            style=\"display:none;\">\n",
              "\n",
              "  <svg xmlns=\"http://www.w3.org/2000/svg\" height=\"24px\" viewBox=\"0 -960 960 960\">\n",
              "    <path d=\"M120-120v-720h720v720H120Zm60-500h600v-160H180v160Zm220 220h160v-160H400v160Zm0 220h160v-160H400v160ZM180-400h160v-160H180v160Zm440 0h160v-160H620v160ZM180-180h160v-160H180v160Zm440 0h160v-160H620v160Z\"/>\n",
              "  </svg>\n",
              "    </button>\n",
              "\n",
              "  <style>\n",
              "    .colab-df-container {\n",
              "      display:flex;\n",
              "      gap: 12px;\n",
              "    }\n",
              "\n",
              "    .colab-df-convert {\n",
              "      background-color: #E8F0FE;\n",
              "      border: none;\n",
              "      border-radius: 50%;\n",
              "      cursor: pointer;\n",
              "      display: none;\n",
              "      fill: #1967D2;\n",
              "      height: 32px;\n",
              "      padding: 0 0 0 0;\n",
              "      width: 32px;\n",
              "    }\n",
              "\n",
              "    .colab-df-convert:hover {\n",
              "      background-color: #E2EBFA;\n",
              "      box-shadow: 0px 1px 2px rgba(60, 64, 67, 0.3), 0px 1px 3px 1px rgba(60, 64, 67, 0.15);\n",
              "      fill: #174EA6;\n",
              "    }\n",
              "\n",
              "    .colab-df-buttons div {\n",
              "      margin-bottom: 4px;\n",
              "    }\n",
              "\n",
              "    [theme=dark] .colab-df-convert {\n",
              "      background-color: #3B4455;\n",
              "      fill: #D2E3FC;\n",
              "    }\n",
              "\n",
              "    [theme=dark] .colab-df-convert:hover {\n",
              "      background-color: #434B5C;\n",
              "      box-shadow: 0px 1px 3px 1px rgba(0, 0, 0, 0.15);\n",
              "      filter: drop-shadow(0px 1px 2px rgba(0, 0, 0, 0.3));\n",
              "      fill: #FFFFFF;\n",
              "    }\n",
              "  </style>\n",
              "\n",
              "    <script>\n",
              "      const buttonEl =\n",
              "        document.querySelector('#df-3bdeb8de-1cff-46f2-b92f-b4babb4409f8 button.colab-df-convert');\n",
              "      buttonEl.style.display =\n",
              "        google.colab.kernel.accessAllowed ? 'block' : 'none';\n",
              "\n",
              "      async function convertToInteractive(key) {\n",
              "        const element = document.querySelector('#df-3bdeb8de-1cff-46f2-b92f-b4babb4409f8');\n",
              "        const dataTable =\n",
              "          await google.colab.kernel.invokeFunction('convertToInteractive',\n",
              "                                                    [key], {});\n",
              "        if (!dataTable) return;\n",
              "\n",
              "        const docLinkHtml = 'Like what you see? Visit the ' +\n",
              "          '<a target=\"_blank\" href=https://colab.research.google.com/notebooks/data_table.ipynb>data table notebook</a>'\n",
              "          + ' to learn more about interactive tables.';\n",
              "        element.innerHTML = '';\n",
              "        dataTable['output_type'] = 'display_data';\n",
              "        await google.colab.output.renderOutput(dataTable, element);\n",
              "        const docLink = document.createElement('div');\n",
              "        docLink.innerHTML = docLinkHtml;\n",
              "        element.appendChild(docLink);\n",
              "      }\n",
              "    </script>\n",
              "  </div>\n",
              "\n",
              "\n",
              "<div id=\"df-e67c1f87-98ad-48f2-a22e-0b444e6a1b52\">\n",
              "  <button class=\"colab-df-quickchart\" onclick=\"quickchart('df-e67c1f87-98ad-48f2-a22e-0b444e6a1b52')\"\n",
              "            title=\"Suggest charts\"\n",
              "            style=\"display:none;\">\n",
              "\n",
              "<svg xmlns=\"http://www.w3.org/2000/svg\" height=\"24px\"viewBox=\"0 0 24 24\"\n",
              "     width=\"24px\">\n",
              "    <g>\n",
              "        <path d=\"M19 3H5c-1.1 0-2 .9-2 2v14c0 1.1.9 2 2 2h14c1.1 0 2-.9 2-2V5c0-1.1-.9-2-2-2zM9 17H7v-7h2v7zm4 0h-2V7h2v10zm4 0h-2v-4h2v4z\"/>\n",
              "    </g>\n",
              "</svg>\n",
              "  </button>\n",
              "\n",
              "<style>\n",
              "  .colab-df-quickchart {\n",
              "      --bg-color: #E8F0FE;\n",
              "      --fill-color: #1967D2;\n",
              "      --hover-bg-color: #E2EBFA;\n",
              "      --hover-fill-color: #174EA6;\n",
              "      --disabled-fill-color: #AAA;\n",
              "      --disabled-bg-color: #DDD;\n",
              "  }\n",
              "\n",
              "  [theme=dark] .colab-df-quickchart {\n",
              "      --bg-color: #3B4455;\n",
              "      --fill-color: #D2E3FC;\n",
              "      --hover-bg-color: #434B5C;\n",
              "      --hover-fill-color: #FFFFFF;\n",
              "      --disabled-bg-color: #3B4455;\n",
              "      --disabled-fill-color: #666;\n",
              "  }\n",
              "\n",
              "  .colab-df-quickchart {\n",
              "    background-color: var(--bg-color);\n",
              "    border: none;\n",
              "    border-radius: 50%;\n",
              "    cursor: pointer;\n",
              "    display: none;\n",
              "    fill: var(--fill-color);\n",
              "    height: 32px;\n",
              "    padding: 0;\n",
              "    width: 32px;\n",
              "  }\n",
              "\n",
              "  .colab-df-quickchart:hover {\n",
              "    background-color: var(--hover-bg-color);\n",
              "    box-shadow: 0 1px 2px rgba(60, 64, 67, 0.3), 0 1px 3px 1px rgba(60, 64, 67, 0.15);\n",
              "    fill: var(--button-hover-fill-color);\n",
              "  }\n",
              "\n",
              "  .colab-df-quickchart-complete:disabled,\n",
              "  .colab-df-quickchart-complete:disabled:hover {\n",
              "    background-color: var(--disabled-bg-color);\n",
              "    fill: var(--disabled-fill-color);\n",
              "    box-shadow: none;\n",
              "  }\n",
              "\n",
              "  .colab-df-spinner {\n",
              "    border: 2px solid var(--fill-color);\n",
              "    border-color: transparent;\n",
              "    border-bottom-color: var(--fill-color);\n",
              "    animation:\n",
              "      spin 1s steps(1) infinite;\n",
              "  }\n",
              "\n",
              "  @keyframes spin {\n",
              "    0% {\n",
              "      border-color: transparent;\n",
              "      border-bottom-color: var(--fill-color);\n",
              "      border-left-color: var(--fill-color);\n",
              "    }\n",
              "    20% {\n",
              "      border-color: transparent;\n",
              "      border-left-color: var(--fill-color);\n",
              "      border-top-color: var(--fill-color);\n",
              "    }\n",
              "    30% {\n",
              "      border-color: transparent;\n",
              "      border-left-color: var(--fill-color);\n",
              "      border-top-color: var(--fill-color);\n",
              "      border-right-color: var(--fill-color);\n",
              "    }\n",
              "    40% {\n",
              "      border-color: transparent;\n",
              "      border-right-color: var(--fill-color);\n",
              "      border-top-color: var(--fill-color);\n",
              "    }\n",
              "    60% {\n",
              "      border-color: transparent;\n",
              "      border-right-color: var(--fill-color);\n",
              "    }\n",
              "    80% {\n",
              "      border-color: transparent;\n",
              "      border-right-color: var(--fill-color);\n",
              "      border-bottom-color: var(--fill-color);\n",
              "    }\n",
              "    90% {\n",
              "      border-color: transparent;\n",
              "      border-bottom-color: var(--fill-color);\n",
              "    }\n",
              "  }\n",
              "</style>\n",
              "\n",
              "  <script>\n",
              "    async function quickchart(key) {\n",
              "      const quickchartButtonEl =\n",
              "        document.querySelector('#' + key + ' button');\n",
              "      quickchartButtonEl.disabled = true;  // To prevent multiple clicks.\n",
              "      quickchartButtonEl.classList.add('colab-df-spinner');\n",
              "      try {\n",
              "        const charts = await google.colab.kernel.invokeFunction(\n",
              "            'suggestCharts', [key], {});\n",
              "      } catch (error) {\n",
              "        console.error('Error during call to suggestCharts:', error);\n",
              "      }\n",
              "      quickchartButtonEl.classList.remove('colab-df-spinner');\n",
              "      quickchartButtonEl.classList.add('colab-df-quickchart-complete');\n",
              "    }\n",
              "    (() => {\n",
              "      let quickchartButtonEl =\n",
              "        document.querySelector('#df-e67c1f87-98ad-48f2-a22e-0b444e6a1b52 button');\n",
              "      quickchartButtonEl.style.display =\n",
              "        google.colab.kernel.accessAllowed ? 'block' : 'none';\n",
              "    })();\n",
              "  </script>\n",
              "</div>\n",
              "    </div>\n",
              "  </div>\n"
            ],
            "text/plain": [
              "   sepal length  sepal width  petal length  petal width  species\n",
              "0           7.4          2.8           6.1          1.9        2\n",
              "1           5.0          3.4           1.5          0.2        0\n",
              "2           4.8          3.4           1.6          0.2        0\n",
              "3           5.8          2.7           5.1          1.9        2\n",
              "4           7.2          3.6           6.1          2.5        2"
            ]
          },
          "execution_count": 283,
          "metadata": {},
          "output_type": "execute_result"
        }
      ]
    },
    {
      "cell_type": "code",
      "source": [
        "X_train = iris_train[['sepal length', 'sepal width', 'petal length', 'petal width']]\n",
        "y_train = iris_train[['species']]"
      ],
      "metadata": {
        "id": "UndihDCHyyDL"
      },
      "execution_count": 284,
      "outputs": []
    },
    {
      "cell_type": "code",
      "source": [
        "X_test = iris_test[['sepal length', 'sepal width', 'petal length', 'petal width']]\n",
        "y_test = iris_test[['species']]"
      ],
      "metadata": {
        "id": "tyC6slPM0hLf"
      },
      "execution_count": 285,
      "outputs": []
    },
    {
      "cell_type": "code",
      "source": [
        "max_depth_values = range(1, 100)\n",
        "scores_data = pd.DataFrame()\n",
        "np.random.seed(0)\n",
        "\n",
        "for max_depth in max_depth_values:\n",
        "  clf = tree.DecisionTreeClassifier(criterion='entropy', max_depth=max_depth)\n",
        "  clf.fit(X_train, y_train)\n",
        "  train_score = clf.score(X_train, y_train)\n",
        "  test_score = clf.score(X_test, y_test)\n",
        "  test_accuracy_score = accuracy_score(y_test, clf.predict(X_test))\n",
        "\n",
        "  #mean_cross_val_score = cross_val_score(clf, X_train, y_train, cv=5).mean()\n",
        "\n",
        "  temp_score_data = pd.DataFrame({'max_depth': [max_depth],\n",
        "                                  'train_score': [train_score],\n",
        "                                  'test_score': [test_score],\n",
        "                                  'test_accuracy_score': [test_accuracy_score]})\n",
        "                                  #'cross_val_score': [mean_cross_val_score]})\n",
        "  scores_data = pd.concat([scores_data, temp_score_data], ignore_index=True)"
      ],
      "metadata": {
        "id": "TP4O5tisy0Xf"
      },
      "execution_count": 286,
      "outputs": []
    },
    {
      "cell_type": "code",
      "source": [
        "scores_data_long = pd.melt(scores_data, id_vars=['max_depth'], value_vars=['train_score', 'test_score', 'test_accuracy_score'], var_name='set_type', value_name='score')"
      ],
      "metadata": {
        "id": "EU2mAhd_zs-H"
      },
      "execution_count": 287,
      "outputs": []
    },
    {
      "cell_type": "code",
      "source": [
        "sns.lineplot(x=\"max_depth\", y=\"score\", hue=\"set_type\", data=scores_data_long)"
      ],
      "metadata": {
        "colab": {
          "base_uri": "https://localhost:8080/",
          "height": 467
        },
        "id": "BmN11kCu0wdV",
        "outputId": "12947b38-12ed-4913-f5fe-86c7396bf80c"
      },
      "execution_count": 288,
      "outputs": [
        {
          "data": {
            "text/plain": [
              "<Axes: xlabel='max_depth', ylabel='score'>"
            ]
          },
          "execution_count": 288,
          "metadata": {},
          "output_type": "execute_result"
        },
        {
          "data": {
            "image/png": "[encoded data removed]",
            "text/plain": [
              "<Figure size 640x480 with 1 Axes>"
            ]
          },
          "metadata": {},
          "output_type": "display_data"
        }
      ]
    },
    {
      "cell_type": "markdown",
      "source": [
        "#Котики и собачки задачка"
      ],
      "metadata": {
        "id": "ykTcLxeY_won"
      }
    },
    {
      "cell_type": "code",
      "source": [
        "cats_train = pd.read_csv(\"https://stepik.org/media/attachments/course/4852/dogs_n_cats.csv\")"
      ],
      "metadata": {
        "id": "RZBwlvLE04G9"
      },
      "execution_count": 289,
      "outputs": []
    },
    {
      "cell_type": "code",
      "source": [
        "cats_train.head()"
      ],
      "metadata": {
        "colab": {
          "base_uri": "https://localhost:8080/",
          "height": 206
        },
        "id": "uf8tjMF-ACPE",
        "outputId": "dbf28e36-c495-4c87-bf97-91f7f12f33fe"
      },
      "execution_count": 290,
      "outputs": [
        {
          "data": {
            "application/vnd.google.colaboratory.intrinsic+json": {
              "summary": "{\n  \"name\": \"cats_train\",\n  \"rows\": 1000,\n  \"fields\": [\n    {\n      \"column\": \"\\u0414\\u043b\\u0438\\u043d\\u0430\",\n      \"properties\": {\n        \"dtype\": \"number\",\n        \"std\": 8,\n        \"min\": 5,\n        \"max\": 34,\n        \"num_unique_values\": 30,\n        \"samples\": [\n          12,\n          33,\n          9\n        ],\n        \"semantic_type\": \"\",\n        \"description\": \"\"\n      }\n    },\n    {\n      \"column\": \"\\u0412\\u044b\\u0441\\u043e\\u0442\\u0430\",\n      \"properties\": {\n        \"dtype\": \"number\",\n        \"std\": 13.823781594685935,\n        \"min\": 2.0,\n        \"max\": 40.8,\n        \"num_unique_values\": 30,\n        \"samples\": [\n          4.800000000000001,\n          39.6,\n          3.6\n        ],\n        \"semantic_type\": \"\",\n        \"description\": \"\"\n      }\n    },\n    {\n      \"column\": \"\\u0428\\u0435\\u0440\\u0441\\u0442\\u0438\\u0441\\u0442\",\n      \"properties\": {\n        \"dtype\": \"number\",\n        \"std\": 0,\n        \"min\": 0,\n        \"max\": 1,\n        \"num_unique_values\": 2,\n        \"samples\": [\n          0,\n          1\n        ],\n        \"semantic_type\": \"\",\n        \"description\": \"\"\n      }\n    },\n    {\n      \"column\": \"\\u0413\\u0430\\u0432\\u043a\\u0430\\u0435\\u0442\",\n      \"properties\": {\n        \"dtype\": \"number\",\n        \"std\": 0,\n        \"min\": 0,\n        \"max\": 1,\n        \"num_unique_values\": 2,\n        \"samples\": [\n          0,\n          1\n        ],\n        \"semantic_type\": \"\",\n        \"description\": \"\"\n      }\n    },\n    {\n      \"column\": \"\\u041b\\u0430\\u0437\\u0430\\u0435\\u0442 \\u043f\\u043e \\u0434\\u0435\\u0440\\u0435\\u0432\\u044c\\u044f\\u043c\",\n      \"properties\": {\n        \"dtype\": \"number\",\n        \"std\": 0,\n        \"min\": 0,\n        \"max\": 1,\n        \"num_unique_values\": 2,\n        \"samples\": [\n          1,\n          0\n        ],\n        \"semantic_type\": \"\",\n        \"description\": \"\"\n      }\n    },\n    {\n      \"column\": \"\\u0412\\u0438\\u0434\",\n      \"properties\": {\n        \"dtype\": \"category\",\n        \"num_unique_values\": 2,\n        \"samples\": [\n          \"\\u043a\\u043e\\u0442\\u0438\\u043a\",\n          \"\\u0441\\u043e\\u0431\\u0430\\u0447\\u043a\\u0430\"\n        ],\n        \"semantic_type\": \"\",\n        \"description\": \"\"\n      }\n    }\n  ]\n}",
              "type": "dataframe",
              "variable_name": "cats_train"
            },
            "text/html": [
              "\n",
              "  <div id=\"df-5fbdb209-421e-4b1b-b118-16ea49cfa578\" class=\"colab-df-container\">\n",
              "    <div>\n",
              "<style scoped>\n",
              "    .dataframe tbody tr th:only-of-type {\n",
              "        vertical-align: middle;\n",
              "    }\n",
              "\n",
              "    .dataframe tbody tr th {\n",
              "        vertical-align: top;\n",
              "    }\n",
              "\n",
              "    .dataframe thead th {\n",
              "        text-align: right;\n",
              "    }\n",
              "</style>\n",
              "<table border=\"1\" class=\"dataframe\">\n",
              "  <thead>\n",
              "    <tr style=\"text-align: right;\">\n",
              "      <th></th>\n",
              "      <th>Длина</th>\n",
              "      <th>Высота</th>\n",
              "      <th>Шерстист</th>\n",
              "      <th>Гавкает</th>\n",
              "      <th>Лазает по деревьям</th>\n",
              "      <th>Вид</th>\n",
              "    </tr>\n",
              "  </thead>\n",
              "  <tbody>\n",
              "    <tr>\n",
              "      <th>0</th>\n",
              "      <td>15</td>\n",
              "      <td>18.0</td>\n",
              "      <td>1</td>\n",
              "      <td>1</td>\n",
              "      <td>0</td>\n",
              "      <td>собачка</td>\n",
              "    </tr>\n",
              "    <tr>\n",
              "      <th>1</th>\n",
              "      <td>20</td>\n",
              "      <td>24.0</td>\n",
              "      <td>1</td>\n",
              "      <td>0</td>\n",
              "      <td>0</td>\n",
              "      <td>собачка</td>\n",
              "    </tr>\n",
              "    <tr>\n",
              "      <th>2</th>\n",
              "      <td>34</td>\n",
              "      <td>40.8</td>\n",
              "      <td>1</td>\n",
              "      <td>1</td>\n",
              "      <td>0</td>\n",
              "      <td>собачка</td>\n",
              "    </tr>\n",
              "    <tr>\n",
              "      <th>3</th>\n",
              "      <td>26</td>\n",
              "      <td>31.2</td>\n",
              "      <td>1</td>\n",
              "      <td>1</td>\n",
              "      <td>0</td>\n",
              "      <td>собачка</td>\n",
              "    </tr>\n",
              "    <tr>\n",
              "      <th>4</th>\n",
              "      <td>16</td>\n",
              "      <td>19.2</td>\n",
              "      <td>1</td>\n",
              "      <td>1</td>\n",
              "      <td>0</td>\n",
              "      <td>собачка</td>\n",
              "    </tr>\n",
              "  </tbody>\n",
              "</table>\n",
              "</div>\n",
              "    <div class=\"colab-df-buttons\">\n",
              "\n",
              "  <div class=\"colab-df-container\">\n",
              "    <button class=\"colab-df-convert\" onclick=\"convertToInteractive('df-5fbdb209-421e-4b1b-b118-16ea49cfa578')\"\n",
              "            title=\"Convert this dataframe to an interactive table.\"\n",
              "            style=\"display:none;\">\n",
              "\n",
              "  <svg xmlns=\"http://www.w3.org/2000/svg\" height=\"24px\" viewBox=\"0 -960 960 960\">\n",
              "    <path d=\"M120-120v-720h720v720H120Zm60-500h600v-160H180v160Zm220 220h160v-160H400v160Zm0 220h160v-160H400v160ZM180-400h160v-160H180v160Zm440 0h160v-160H620v160ZM180-180h160v-160H180v160Zm440 0h160v-160H620v160Z\"/>\n",
              "  </svg>\n",
              "    </button>\n",
              "\n",
              "  <style>\n",
              "    .colab-df-container {\n",
              "      display:flex;\n",
              "      gap: 12px;\n",
              "    }\n",
              "\n",
              "    .colab-df-convert {\n",
              "      background-color: #E8F0FE;\n",
              "      border: none;\n",
              "      border-radius: 50%;\n",
              "      cursor: pointer;\n",
              "      display: none;\n",
              "      fill: #1967D2;\n",
              "      height: 32px;\n",
              "      padding: 0 0 0 0;\n",
              "      width: 32px;\n",
              "    }\n",
              "\n",
              "    .colab-df-convert:hover {\n",
              "      background-color: #E2EBFA;\n",
              "      box-shadow: 0px 1px 2px rgba(60, 64, 67, 0.3), 0px 1px 3px 1px rgba(60, 64, 67, 0.15);\n",
              "      fill: #174EA6;\n",
              "    }\n",
              "\n",
              "    .colab-df-buttons div {\n",
              "      margin-bottom: 4px;\n",
              "    }\n",
              "\n",
              "    [theme=dark] .colab-df-convert {\n",
              "      background-color: #3B4455;\n",
              "      fill: #D2E3FC;\n",
              "    }\n",
              "\n",
              "    [theme=dark] .colab-df-convert:hover {\n",
              "      background-color: #434B5C;\n",
              "      box-shadow: 0px 1px 3px 1px rgba(0, 0, 0, 0.15);\n",
              "      filter: drop-shadow(0px 1px 2px rgba(0, 0, 0, 0.3));\n",
              "      fill: #FFFFFF;\n",
              "    }\n",
              "  </style>\n",
              "\n",
              "    <script>\n",
              "      const buttonEl =\n",
              "        document.querySelector('#df-5fbdb209-421e-4b1b-b118-16ea49cfa578 button.colab-df-convert');\n",
              "      buttonEl.style.display =\n",
              "        google.colab.kernel.accessAllowed ? 'block' : 'none';\n",
              "\n",
              "      async function convertToInteractive(key) {\n",
              "        const element = document.querySelector('#df-5fbdb209-421e-4b1b-b118-16ea49cfa578');\n",
              "        const dataTable =\n",
              "          await google.colab.kernel.invokeFunction('convertToInteractive',\n",
              "                                                    [key], {});\n",
              "        if (!dataTable) return;\n",
              "\n",
              "        const docLinkHtml = 'Like what you see? Visit the ' +\n",
              "          '<a target=\"_blank\" href=https://colab.research.google.com/notebooks/data_table.ipynb>data table notebook</a>'\n",
              "          + ' to learn more about interactive tables.';\n",
              "        element.innerHTML = '';\n",
              "        dataTable['output_type'] = 'display_data';\n",
              "        await google.colab.output.renderOutput(dataTable, element);\n",
              "        const docLink = document.createElement('div');\n",
              "        docLink.innerHTML = docLinkHtml;\n",
              "        element.appendChild(docLink);\n",
              "      }\n",
              "    </script>\n",
              "  </div>\n",
              "\n",
              "\n",
              "<div id=\"df-619776bd-594d-4a04-b143-59d67ac6279b\">\n",
              "  <button class=\"colab-df-quickchart\" onclick=\"quickchart('df-619776bd-594d-4a04-b143-59d67ac6279b')\"\n",
              "            title=\"Suggest charts\"\n",
              "            style=\"display:none;\">\n",
              "\n",
              "<svg xmlns=\"http://www.w3.org/2000/svg\" height=\"24px\"viewBox=\"0 0 24 24\"\n",
              "     width=\"24px\">\n",
              "    <g>\n",
              "        <path d=\"M19 3H5c-1.1 0-2 .9-2 2v14c0 1.1.9 2 2 2h14c1.1 0 2-.9 2-2V5c0-1.1-.9-2-2-2zM9 17H7v-7h2v7zm4 0h-2V7h2v10zm4 0h-2v-4h2v4z\"/>\n",
              "    </g>\n",
              "</svg>\n",
              "  </button>\n",
              "\n",
              "<style>\n",
              "  .colab-df-quickchart {\n",
              "      --bg-color: #E8F0FE;\n",
              "      --fill-color: #1967D2;\n",
              "      --hover-bg-color: #E2EBFA;\n",
              "      --hover-fill-color: #174EA6;\n",
              "      --disabled-fill-color: #AAA;\n",
              "      --disabled-bg-color: #DDD;\n",
              "  }\n",
              "\n",
              "  [theme=dark] .colab-df-quickchart {\n",
              "      --bg-color: #3B4455;\n",
              "      --fill-color: #D2E3FC;\n",
              "      --hover-bg-color: #434B5C;\n",
              "      --hover-fill-color: #FFFFFF;\n",
              "      --disabled-bg-color: #3B4455;\n",
              "      --disabled-fill-color: #666;\n",
              "  }\n",
              "\n",
              "  .colab-df-quickchart {\n",
              "    background-color: var(--bg-color);\n",
              "    border: none;\n",
              "    border-radius: 50%;\n",
              "    cursor: pointer;\n",
              "    display: none;\n",
              "    fill: var(--fill-color);\n",
              "    height: 32px;\n",
              "    padding: 0;\n",
              "    width: 32px;\n",
              "  }\n",
              "\n",
              "  .colab-df-quickchart:hover {\n",
              "    background-color: var(--hover-bg-color);\n",
              "    box-shadow: 0 1px 2px rgba(60, 64, 67, 0.3), 0 1px 3px 1px rgba(60, 64, 67, 0.15);\n",
              "    fill: var(--button-hover-fill-color);\n",
              "  }\n",
              "\n",
              "  .colab-df-quickchart-complete:disabled,\n",
              "  .colab-df-quickchart-complete:disabled:hover {\n",
              "    background-color: var(--disabled-bg-color);\n",
              "    fill: var(--disabled-fill-color);\n",
              "    box-shadow: none;\n",
              "  }\n",
              "\n",
              "  .colab-df-spinner {\n",
              "    border: 2px solid var(--fill-color);\n",
              "    border-color: transparent;\n",
              "    border-bottom-color: var(--fill-color);\n",
              "    animation:\n",
              "      spin 1s steps(1) infinite;\n",
              "  }\n",
              "\n",
              "  @keyframes spin {\n",
              "    0% {\n",
              "      border-color: transparent;\n",
              "      border-bottom-color: var(--fill-color);\n",
              "      border-left-color: var(--fill-color);\n",
              "    }\n",
              "    20% {\n",
              "      border-color: transparent;\n",
              "      border-left-color: var(--fill-color);\n",
              "      border-top-color: var(--fill-color);\n",
              "    }\n",
              "    30% {\n",
              "      border-color: transparent;\n",
              "      border-left-color: var(--fill-color);\n",
              "      border-top-color: var(--fill-color);\n",
              "      border-right-color: var(--fill-color);\n",
              "    }\n",
              "    40% {\n",
              "      border-color: transparent;\n",
              "      border-right-color: var(--fill-color);\n",
              "      border-top-color: var(--fill-color);\n",
              "    }\n",
              "    60% {\n",
              "      border-color: transparent;\n",
              "      border-right-color: var(--fill-color);\n",
              "    }\n",
              "    80% {\n",
              "      border-color: transparent;\n",
              "      border-right-color: var(--fill-color);\n",
              "      border-bottom-color: var(--fill-color);\n",
              "    }\n",
              "    90% {\n",
              "      border-color: transparent;\n",
              "      border-bottom-color: var(--fill-color);\n",
              "    }\n",
              "  }\n",
              "</style>\n",
              "\n",
              "  <script>\n",
              "    async function quickchart(key) {\n",
              "      const quickchartButtonEl =\n",
              "        document.querySelector('#' + key + ' button');\n",
              "      quickchartButtonEl.disabled = true;  // To prevent multiple clicks.\n",
              "      quickchartButtonEl.classList.add('colab-df-spinner');\n",
              "      try {\n",
              "        const charts = await google.colab.kernel.invokeFunction(\n",
              "            'suggestCharts', [key], {});\n",
              "      } catch (error) {\n",
              "        console.error('Error during call to suggestCharts:', error);\n",
              "      }\n",
              "      quickchartButtonEl.classList.remove('colab-df-spinner');\n",
              "      quickchartButtonEl.classList.add('colab-df-quickchart-complete');\n",
              "    }\n",
              "    (() => {\n",
              "      let quickchartButtonEl =\n",
              "        document.querySelector('#df-619776bd-594d-4a04-b143-59d67ac6279b button');\n",
              "      quickchartButtonEl.style.display =\n",
              "        google.colab.kernel.accessAllowed ? 'block' : 'none';\n",
              "    })();\n",
              "  </script>\n",
              "</div>\n",
              "    </div>\n",
              "  </div>\n"
            ],
            "text/plain": [
              "   Длина  Высота  Шерстист  Гавкает  Лазает по деревьям      Вид\n",
              "0     15    18.0         1        1                   0  собачка\n",
              "1     20    24.0         1        0                   0  собачка\n",
              "2     34    40.8         1        1                   0  собачка\n",
              "3     26    31.2         1        1                   0  собачка\n",
              "4     16    19.2         1        1                   0  собачка"
            ]
          },
          "execution_count": 290,
          "metadata": {},
          "output_type": "execute_result"
        }
      ]
    },
    {
      "cell_type": "code",
      "source": [
        "cats_train.isnull().sum()"
      ],
      "metadata": {
        "colab": {
          "base_uri": "https://localhost:8080/",
          "height": 272
        },
        "id": "SSK-f-J_ARil",
        "outputId": "f846b59e-89e2-4f3b-c121-3db73fc787d9"
      },
      "execution_count": 291,
      "outputs": [
        {
          "data": {
            "text/html": [
              "<div>\n",
              "<style scoped>\n",
              "    .dataframe tbody tr th:only-of-type {\n",
              "        vertical-align: middle;\n",
              "    }\n",
              "\n",
              "    .dataframe tbody tr th {\n",
              "        vertical-align: top;\n",
              "    }\n",
              "\n",
              "    .dataframe thead th {\n",
              "        text-align: right;\n",
              "    }\n",
              "</style>\n",
              "<table border=\"1\" class=\"dataframe\">\n",
              "  <thead>\n",
              "    <tr style=\"text-align: right;\">\n",
              "      <th></th>\n",
              "      <th>0</th>\n",
              "    </tr>\n",
              "  </thead>\n",
              "  <tbody>\n",
              "    <tr>\n",
              "      <th>Длина</th>\n",
              "      <td>0</td>\n",
              "    </tr>\n",
              "    <tr>\n",
              "      <th>Высота</th>\n",
              "      <td>0</td>\n",
              "    </tr>\n",
              "    <tr>\n",
              "      <th>Шерстист</th>\n",
              "      <td>0</td>\n",
              "    </tr>\n",
              "    <tr>\n",
              "      <th>Гавкает</th>\n",
              "      <td>0</td>\n",
              "    </tr>\n",
              "    <tr>\n",
              "      <th>Лазает по деревьям</th>\n",
              "      <td>0</td>\n",
              "    </tr>\n",
              "    <tr>\n",
              "      <th>Вид</th>\n",
              "      <td>0</td>\n",
              "    </tr>\n",
              "  </tbody>\n",
              "</table>\n",
              "</div><br><label><b>dtype:</b> int64</label>"
            ],
            "text/plain": [
              "Длина                 0\n",
              "Высота                0\n",
              "Шерстист              0\n",
              "Гавкает               0\n",
              "Лазает по деревьям    0\n",
              "Вид                   0\n",
              "dtype: int64"
            ]
          },
          "execution_count": 291,
          "metadata": {},
          "output_type": "execute_result"
        }
      ]
    },
    {
      "cell_type": "code",
      "source": [
        "X = cats_train[['Длина', 'Высота', 'Шерстист', 'Гавкает', 'Лазает по деревьям']]\n",
        "y = cats_train[['Вид']]"
      ],
      "metadata": {
        "id": "SRMfdmXVAs9M"
      },
      "execution_count": 292,
      "outputs": []
    },
    {
      "cell_type": "code",
      "source": [
        "y = pd.get_dummies(y).drop('Вид_котик', axis=1)"
      ],
      "metadata": {
        "id": "KrRgl-RyBgGE"
      },
      "execution_count": 293,
      "outputs": []
    },
    {
      "cell_type": "code",
      "source": [
        "y.head()"
      ],
      "metadata": {
        "colab": {
          "base_uri": "https://localhost:8080/",
          "height": 206
        },
        "id": "fEm6kfkUB7l1",
        "outputId": "12aabff0-3786-40b1-9801-00c5e814285a"
      },
      "execution_count": 294,
      "outputs": [
        {
          "data": {
            "application/vnd.google.colaboratory.intrinsic+json": {
              "summary": "{\n  \"name\": \"y\",\n  \"rows\": 1000,\n  \"fields\": [\n    {\n      \"column\": \"\\u0412\\u0438\\u0434_\\u0441\\u043e\\u0431\\u0430\\u0447\\u043a\\u0430\",\n      \"properties\": {\n        \"dtype\": \"boolean\",\n        \"num_unique_values\": 2,\n        \"samples\": [\n          false,\n          true\n        ],\n        \"semantic_type\": \"\",\n        \"description\": \"\"\n      }\n    }\n  ]\n}",
              "type": "dataframe",
              "variable_name": "y"
            },
            "text/html": [
              "\n",
              "  <div id=\"df-cee9eb06-0e34-4998-adc0-ce2a12984647\" class=\"colab-df-container\">\n",
              "    <div>\n",
              "<style scoped>\n",
              "    .dataframe tbody tr th:only-of-type {\n",
              "        vertical-align: middle;\n",
              "    }\n",
              "\n",
              "    .dataframe tbody tr th {\n",
              "        vertical-align: top;\n",
              "    }\n",
              "\n",
              "    .dataframe thead th {\n",
              "        text-align: right;\n",
              "    }\n",
              "</style>\n",
              "<table border=\"1\" class=\"dataframe\">\n",
              "  <thead>\n",
              "    <tr style=\"text-align: right;\">\n",
              "      <th></th>\n",
              "      <th>Вид_собачка</th>\n",
              "    </tr>\n",
              "  </thead>\n",
              "  <tbody>\n",
              "    <tr>\n",
              "      <th>0</th>\n",
              "      <td>True</td>\n",
              "    </tr>\n",
              "    <tr>\n",
              "      <th>1</th>\n",
              "      <td>True</td>\n",
              "    </tr>\n",
              "    <tr>\n",
              "      <th>2</th>\n",
              "      <td>True</td>\n",
              "    </tr>\n",
              "    <tr>\n",
              "      <th>3</th>\n",
              "      <td>True</td>\n",
              "    </tr>\n",
              "    <tr>\n",
              "      <th>4</th>\n",
              "      <td>True</td>\n",
              "    </tr>\n",
              "  </tbody>\n",
              "</table>\n",
              "</div>\n",
              "    <div class=\"colab-df-buttons\">\n",
              "\n",
              "  <div class=\"colab-df-container\">\n",
              "    <button class=\"colab-df-convert\" onclick=\"convertToInteractive('df-cee9eb06-0e34-4998-adc0-ce2a12984647')\"\n",
              "            title=\"Convert this dataframe to an interactive table.\"\n",
              "            style=\"display:none;\">\n",
              "\n",
              "  <svg xmlns=\"http://www.w3.org/2000/svg\" height=\"24px\" viewBox=\"0 -960 960 960\">\n",
              "    <path d=\"M120-120v-720h720v720H120Zm60-500h600v-160H180v160Zm220 220h160v-160H400v160Zm0 220h160v-160H400v160ZM180-400h160v-160H180v160Zm440 0h160v-160H620v160ZM180-180h160v-160H180v160Zm440 0h160v-160H620v160Z\"/>\n",
              "  </svg>\n",
              "    </button>\n",
              "\n",
              "  <style>\n",
              "    .colab-df-container {\n",
              "      display:flex;\n",
              "      gap: 12px;\n",
              "    }\n",
              "\n",
              "    .colab-df-convert {\n",
              "      background-color: #E8F0FE;\n",
              "      border: none;\n",
              "      border-radius: 50%;\n",
              "      cursor: pointer;\n",
              "      display: none;\n",
              "      fill: #1967D2;\n",
              "      height: 32px;\n",
              "      padding: 0 0 0 0;\n",
              "      width: 32px;\n",
              "    }\n",
              "\n",
              "    .colab-df-convert:hover {\n",
              "      background-color: #E2EBFA;\n",
              "      box-shadow: 0px 1px 2px rgba(60, 64, 67, 0.3), 0px 1px 3px 1px rgba(60, 64, 67, 0.15);\n",
              "      fill: #174EA6;\n",
              "    }\n",
              "\n",
              "    .colab-df-buttons div {\n",
              "      margin-bottom: 4px;\n",
              "    }\n",
              "\n",
              "    [theme=dark] .colab-df-convert {\n",
              "      background-color: #3B4455;\n",
              "      fill: #D2E3FC;\n",
              "    }\n",
              "\n",
              "    [theme=dark] .colab-df-convert:hover {\n",
              "      background-color: #434B5C;\n",
              "      box-shadow: 0px 1px 3px 1px rgba(0, 0, 0, 0.15);\n",
              "      filter: drop-shadow(0px 1px 2px rgba(0, 0, 0, 0.3));\n",
              "      fill: #FFFFFF;\n",
              "    }\n",
              "  </style>\n",
              "\n",
              "    <script>\n",
              "      const buttonEl =\n",
              "        document.querySelector('#df-cee9eb06-0e34-4998-adc0-ce2a12984647 button.colab-df-convert');\n",
              "      buttonEl.style.display =\n",
              "        google.colab.kernel.accessAllowed ? 'block' : 'none';\n",
              "\n",
              "      async function convertToInteractive(key) {\n",
              "        const element = document.querySelector('#df-cee9eb06-0e34-4998-adc0-ce2a12984647');\n",
              "        const dataTable =\n",
              "          await google.colab.kernel.invokeFunction('convertToInteractive',\n",
              "                                                    [key], {});\n",
              "        if (!dataTable) return;\n",
              "\n",
              "        const docLinkHtml = 'Like what you see? Visit the ' +\n",
              "          '<a target=\"_blank\" href=https://colab.research.google.com/notebooks/data_table.ipynb>data table notebook</a>'\n",
              "          + ' to learn more about interactive tables.';\n",
              "        element.innerHTML = '';\n",
              "        dataTable['output_type'] = 'display_data';\n",
              "        await google.colab.output.renderOutput(dataTable, element);\n",
              "        const docLink = document.createElement('div');\n",
              "        docLink.innerHTML = docLinkHtml;\n",
              "        element.appendChild(docLink);\n",
              "      }\n",
              "    </script>\n",
              "  </div>\n",
              "\n",
              "\n",
              "<div id=\"df-ffa3b787-dadd-4ca2-8519-f6905ad4c411\">\n",
              "  <button class=\"colab-df-quickchart\" onclick=\"quickchart('df-ffa3b787-dadd-4ca2-8519-f6905ad4c411')\"\n",
              "            title=\"Suggest charts\"\n",
              "            style=\"display:none;\">\n",
              "\n",
              "<svg xmlns=\"http://www.w3.org/2000/svg\" height=\"24px\"viewBox=\"0 0 24 24\"\n",
              "     width=\"24px\">\n",
              "    <g>\n",
              "        <path d=\"M19 3H5c-1.1 0-2 .9-2 2v14c0 1.1.9 2 2 2h14c1.1 0 2-.9 2-2V5c0-1.1-.9-2-2-2zM9 17H7v-7h2v7zm4 0h-2V7h2v10zm4 0h-2v-4h2v4z\"/>\n",
              "    </g>\n",
              "</svg>\n",
              "  </button>\n",
              "\n",
              "<style>\n",
              "  .colab-df-quickchart {\n",
              "      --bg-color: #E8F0FE;\n",
              "      --fill-color: #1967D2;\n",
              "      --hover-bg-color: #E2EBFA;\n",
              "      --hover-fill-color: #174EA6;\n",
              "      --disabled-fill-color: #AAA;\n",
              "      --disabled-bg-color: #DDD;\n",
              "  }\n",
              "\n",
              "  [theme=dark] .colab-df-quickchart {\n",
              "      --bg-color: #3B4455;\n",
              "      --fill-color: #D2E3FC;\n",
              "      --hover-bg-color: #434B5C;\n",
              "      --hover-fill-color: #FFFFFF;\n",
              "      --disabled-bg-color: #3B4455;\n",
              "      --disabled-fill-color: #666;\n",
              "  }\n",
              "\n",
              "  .colab-df-quickchart {\n",
              "    background-color: var(--bg-color);\n",
              "    border: none;\n",
              "    border-radius: 50%;\n",
              "    cursor: pointer;\n",
              "    display: none;\n",
              "    fill: var(--fill-color);\n",
              "    height: 32px;\n",
              "    padding: 0;\n",
              "    width: 32px;\n",
              "  }\n",
              "\n",
              "  .colab-df-quickchart:hover {\n",
              "    background-color: var(--hover-bg-color);\n",
              "    box-shadow: 0 1px 2px rgba(60, 64, 67, 0.3), 0 1px 3px 1px rgba(60, 64, 67, 0.15);\n",
              "    fill: var(--button-hover-fill-color);\n",
              "  }\n",
              "\n",
              "  .colab-df-quickchart-complete:disabled,\n",
              "  .colab-df-quickchart-complete:disabled:hover {\n",
              "    background-color: var(--disabled-bg-color);\n",
              "    fill: var(--disabled-fill-color);\n",
              "    box-shadow: none;\n",
              "  }\n",
              "\n",
              "  .colab-df-spinner {\n",
              "    border: 2px solid var(--fill-color);\n",
              "    border-color: transparent;\n",
              "    border-bottom-color: var(--fill-color);\n",
              "    animation:\n",
              "      spin 1s steps(1) infinite;\n",
              "  }\n",
              "\n",
              "  @keyframes spin {\n",
              "    0% {\n",
              "      border-color: transparent;\n",
              "      border-bottom-color: var(--fill-color);\n",
              "      border-left-color: var(--fill-color);\n",
              "    }\n",
              "    20% {\n",
              "      border-color: transparent;\n",
              "      border-left-color: var(--fill-color);\n",
              "      border-top-color: var(--fill-color);\n",
              "    }\n",
              "    30% {\n",
              "      border-color: transparent;\n",
              "      border-left-color: var(--fill-color);\n",
              "      border-top-color: var(--fill-color);\n",
              "      border-right-color: var(--fill-color);\n",
              "    }\n",
              "    40% {\n",
              "      border-color: transparent;\n",
              "      border-right-color: var(--fill-color);\n",
              "      border-top-color: var(--fill-color);\n",
              "    }\n",
              "    60% {\n",
              "      border-color: transparent;\n",
              "      border-right-color: var(--fill-color);\n",
              "    }\n",
              "    80% {\n",
              "      border-color: transparent;\n",
              "      border-right-color: var(--fill-color);\n",
              "      border-bottom-color: var(--fill-color);\n",
              "    }\n",
              "    90% {\n",
              "      border-color: transparent;\n",
              "      border-bottom-color: var(--fill-color);\n",
              "    }\n",
              "  }\n",
              "</style>\n",
              "\n",
              "  <script>\n",
              "    async function quickchart(key) {\n",
              "      const quickchartButtonEl =\n",
              "        document.querySelector('#' + key + ' button');\n",
              "      quickchartButtonEl.disabled = true;  // To prevent multiple clicks.\n",
              "      quickchartButtonEl.classList.add('colab-df-spinner');\n",
              "      try {\n",
              "        const charts = await google.colab.kernel.invokeFunction(\n",
              "            'suggestCharts', [key], {});\n",
              "      } catch (error) {\n",
              "        console.error('Error during call to suggestCharts:', error);\n",
              "      }\n",
              "      quickchartButtonEl.classList.remove('colab-df-spinner');\n",
              "      quickchartButtonEl.classList.add('colab-df-quickchart-complete');\n",
              "    }\n",
              "    (() => {\n",
              "      let quickchartButtonEl =\n",
              "        document.querySelector('#df-ffa3b787-dadd-4ca2-8519-f6905ad4c411 button');\n",
              "      quickchartButtonEl.style.display =\n",
              "        google.colab.kernel.accessAllowed ? 'block' : 'none';\n",
              "    })();\n",
              "  </script>\n",
              "</div>\n",
              "    </div>\n",
              "  </div>\n"
            ],
            "text/plain": [
              "   Вид_собачка\n",
              "0         True\n",
              "1         True\n",
              "2         True\n",
              "3         True\n",
              "4         True"
            ]
          },
          "execution_count": 294,
          "metadata": {},
          "output_type": "execute_result"
        }
      ]
    },
    {
      "cell_type": "code",
      "source": [
        "X_train, X_test, y_train, y_test = train_test_split(X, y, test_size=0.33, random_state=42)"
      ],
      "metadata": {
        "id": "Pco_Qmy4Aoof"
      },
      "execution_count": 295,
      "outputs": []
    },
    {
      "cell_type": "code",
      "source": [
        "X_train.shape"
      ],
      "metadata": {
        "colab": {
          "base_uri": "https://localhost:8080/"
        },
        "id": "vMTSN-f1CCvj",
        "outputId": "eb9446e5-4588-4328-d5a4-9f447598cc43"
      },
      "execution_count": 296,
      "outputs": [
        {
          "data": {
            "text/plain": [
              "(670, 5)"
            ]
          },
          "execution_count": 296,
          "metadata": {},
          "output_type": "execute_result"
        }
      ]
    },
    {
      "cell_type": "code",
      "source": [
        "clf = tree.DecisionTreeClassifier(criterion='entropy')"
      ],
      "metadata": {
        "id": "GcwKwEhsC_l4"
      },
      "execution_count": 297,
      "outputs": []
    },
    {
      "cell_type": "code",
      "source": [
        "clf.fit(X_train, y_train)"
      ],
      "metadata": {
        "colab": {
          "base_uri": "https://localhost:8080/",
          "height": 74
        },
        "id": "H62lFMyIDCPp",
        "outputId": "9db9c38f-f449-4cdb-d817-2e86df917baf"
      },
      "execution_count": 298,
      "outputs": [
        {
          "data": {
            "text/html": [
              "<style>#sk-container-id-24 {color: black;}#sk-container-id-24 pre{padding: 0;}#sk-container-id-24 div.sk-toggleable {background-color: white;}#sk-container-id-24 label.sk-toggleable__label {cursor: pointer;display: block;width: 100%;margin-bottom: 0;padding: 0.3em;box-sizing: border-box;text-align: center;}#sk-container-id-24 label.sk-toggleable__label-arrow:before {content: \"▸\";float: left;margin-right: 0.25em;color: #696969;}#sk-container-id-24 label.sk-toggleable__label-arrow:hover:before {color: black;}#sk-container-id-24 div.sk-estimator:hover label.sk-toggleable__label-arrow:before {color: black;}#sk-container-id-24 div.sk-toggleable__content {max-height: 0;max-width: 0;overflow: hidden;text-align: left;background-color: #f0f8ff;}#sk-container-id-24 div.sk-toggleable__content pre {margin: 0.2em;color: black;border-radius: 0.25em;background-color: #f0f8ff;}#sk-container-id-24 input.sk-toggleable__control:checked~div.sk-toggleable__content {max-height: 200px;max-width: 100%;overflow: auto;}#sk-container-id-24 input.sk-toggleable__control:checked~label.sk-toggleable__label-arrow:before {content: \"▾\";}#sk-container-id-24 div.sk-estimator input.sk-toggleable__control:checked~label.sk-toggleable__label {background-color: #d4ebff;}#sk-container-id-24 div.sk-label input.sk-toggleable__control:checked~label.sk-toggleable__label {background-color: #d4ebff;}#sk-container-id-24 input.sk-hidden--visually {border: 0;clip: rect(1px 1px 1px 1px);clip: rect(1px, 1px, 1px, 1px);height: 1px;margin: -1px;overflow: hidden;padding: 0;position: absolute;width: 1px;}#sk-container-id-24 div.sk-estimator {font-family: monospace;background-color: #f0f8ff;border: 1px dotted black;border-radius: 0.25em;box-sizing: border-box;margin-bottom: 0.5em;}#sk-container-id-24 div.sk-estimator:hover {background-color: #d4ebff;}#sk-container-id-24 div.sk-parallel-item::after {content: \"\";width: 100%;border-bottom: 1px solid gray;flex-grow: 1;}#sk-container-id-24 div.sk-label:hover label.sk-toggleable__label {background-color: #d4ebff;}#sk-container-id-24 div.sk-serial::before {content: \"\";position: absolute;border-left: 1px solid gray;box-sizing: border-box;top: 0;bottom: 0;left: 50%;z-index: 0;}#sk-container-id-24 div.sk-serial {display: flex;flex-direction: column;align-items: center;background-color: white;padding-right: 0.2em;padding-left: 0.2em;position: relative;}#sk-container-id-24 div.sk-item {position: relative;z-index: 1;}#sk-container-id-24 div.sk-parallel {display: flex;align-items: stretch;justify-content: center;background-color: white;position: relative;}#sk-container-id-24 div.sk-item::before, #sk-container-id-24 div.sk-parallel-item::before {content: \"\";position: absolute;border-left: 1px solid gray;box-sizing: border-box;top: 0;bottom: 0;left: 50%;z-index: -1;}#sk-container-id-24 div.sk-parallel-item {display: flex;flex-direction: column;z-index: 1;position: relative;background-color: white;}#sk-container-id-24 div.sk-parallel-item:first-child::after {align-self: flex-end;width: 50%;}#sk-container-id-24 div.sk-parallel-item:last-child::after {align-self: flex-start;width: 50%;}#sk-container-id-24 div.sk-parallel-item:only-child::after {width: 0;}#sk-container-id-24 div.sk-dashed-wrapped {border: 1px dashed gray;margin: 0 0.4em 0.5em 0.4em;box-sizing: border-box;padding-bottom: 0.4em;background-color: white;}#sk-container-id-24 div.sk-label label {font-family: monospace;font-weight: bold;display: inline-block;line-height: 1.2em;}#sk-container-id-24 div.sk-label-container {text-align: center;}#sk-container-id-24 div.sk-container {/* jupyter's `normalize.less` sets `[hidden] { display: none; }` but bootstrap.min.css set `[hidden] { display: none !important; }` so we also need the `!important` here to be able to override the default hidden behavior on the sphinx rendered scikit-learn.org. See: https://github.com/scikit-learn/scikit-learn/issues/21755 */display: inline-block !important;position: relative;}#sk-container-id-24 div.sk-text-repr-fallback {display: none;}</style><div id=\"sk-container-id-24\" class=\"sk-top-container\"><div class=\"sk-text-repr-fallback\"><pre>DecisionTreeClassifier(criterion=&#x27;entropy&#x27;)</pre><b>In a Jupyter environment, please rerun this cell to show the HTML representation or trust the notebook. <br />On GitHub, the HTML representation is unable to render, please try loading this page with nbviewer.org.</b></div><div class=\"sk-container\" hidden><div class=\"sk-item\"><div class=\"sk-estimator sk-toggleable\"><input class=\"sk-toggleable__control sk-hidden--visually\" id=\"sk-estimator-id-30\" type=\"checkbox\" checked><label for=\"sk-estimator-id-30\" class=\"sk-toggleable__label sk-toggleable__label-arrow\">DecisionTreeClassifier</label><div class=\"sk-toggleable__content\"><pre>DecisionTreeClassifier(criterion=&#x27;entropy&#x27;)</pre></div></div></div></div></div>"
            ],
            "text/plain": [
              "DecisionTreeClassifier(criterion='entropy')"
            ]
          },
          "execution_count": 298,
          "metadata": {},
          "output_type": "execute_result"
        }
      ]
    },
    {
      "cell_type": "code",
      "source": [
        "graph = Source(tree.export_graphviz(clf, out_file=None, feature_names=list(X_train), class_names=['Собачка', 'Кошечка'], filled=True))\n",
        "display(SVG(graph.pipe(format='svg')))"
      ],
      "metadata": {
        "colab": {
          "base_uri": "https://localhost:8080/",
          "height": 282
        },
        "id": "wCYev3M_DGNm",
        "outputId": "26359a23-0f42-428b-b34b-425097e76775"
      },
      "execution_count": 299,
      "outputs": [
        {
          "data": {
            "image/svg+xml": "<svg xmlns=\"http://www.w3.org/2000/svg\" xmlns:xlink=\"http://www.w3.org/1999/xlink\" width=\"262pt\" height=\"195pt\" viewBox=\"0.00 0.00 262.00 195.00\">\n<g id=\"graph0\" class=\"graph\" transform=\"scale(1 1) rotate(0) translate(4 191)\">\n<title>Tree</title>\n<polygon fill=\"white\" stroke=\"transparent\" points=\"-4,4 -4,-191 258,-191 258,4 -4,4\"/>\n<!-- 0 -->\n<g id=\"node1\" class=\"node\">\n<title>0</title>\n<polygon fill=\"#ffffff\" stroke=\"black\" points=\"189,-187 64,-187 64,-104 189,-104 189,-187\"/>\n<text text-anchor=\"middle\" x=\"126.5\" y=\"-171.8\" font-family=\"Helvetica,sans-Serif\" font-size=\"14.00\">Длина &lt;= 14.5</text>\n<text text-anchor=\"middle\" x=\"126.5\" y=\"-156.8\" font-family=\"Helvetica,sans-Serif\" font-size=\"14.00\">entropy = 1.0</text>\n<text text-anchor=\"middle\" x=\"126.5\" y=\"-141.8\" font-family=\"Helvetica,sans-Serif\" font-size=\"14.00\">samples = 670</text>\n<text text-anchor=\"middle\" x=\"126.5\" y=\"-126.8\" font-family=\"Helvetica,sans-Serif\" font-size=\"14.00\">value = [335, 335]</text>\n<text text-anchor=\"middle\" x=\"126.5\" y=\"-111.8\" font-family=\"Helvetica,sans-Serif\" font-size=\"14.00\">class = Собачка</text>\n</g>\n<!-- 1 -->\n<g id=\"node2\" class=\"node\">\n<title>1</title>\n<polygon fill=\"#e58139\" stroke=\"black\" points=\"117,-68 0,-68 0,0 117,0 117,-68\"/>\n<text text-anchor=\"middle\" x=\"58.5\" y=\"-52.8\" font-family=\"Helvetica,sans-Serif\" font-size=\"14.00\">entropy = 0.0</text>\n<text text-anchor=\"middle\" x=\"58.5\" y=\"-37.8\" font-family=\"Helvetica,sans-Serif\" font-size=\"14.00\">samples = 335</text>\n<text text-anchor=\"middle\" x=\"58.5\" y=\"-22.8\" font-family=\"Helvetica,sans-Serif\" font-size=\"14.00\">value = [335, 0]</text>\n<text text-anchor=\"middle\" x=\"58.5\" y=\"-7.8\" font-family=\"Helvetica,sans-Serif\" font-size=\"14.00\">class = Собачка</text>\n</g>\n<!-- 0&#45;&gt;1 -->\n<g id=\"edge1\" class=\"edge\">\n<title>0-&gt;1</title>\n<path fill=\"none\" stroke=\"black\" d=\"M101.18,-103.73C95.74,-94.97 89.99,-85.7 84.52,-76.91\"/>\n<polygon fill=\"black\" stroke=\"black\" points=\"87.43,-74.95 79.18,-68.3 81.48,-78.64 87.43,-74.95\"/>\n<text text-anchor=\"middle\" x=\"73.49\" y=\"-88.94\" font-family=\"Helvetica,sans-Serif\" font-size=\"14.00\">True</text>\n</g>\n<!-- 2 -->\n<g id=\"node3\" class=\"node\">\n<title>2</title>\n<polygon fill=\"#399de5\" stroke=\"black\" points=\"254,-68 135,-68 135,0 254,0 254,-68\"/>\n<text text-anchor=\"middle\" x=\"194.5\" y=\"-52.8\" font-family=\"Helvetica,sans-Serif\" font-size=\"14.00\">entropy = 0.0</text>\n<text text-anchor=\"middle\" x=\"194.5\" y=\"-37.8\" font-family=\"Helvetica,sans-Serif\" font-size=\"14.00\">samples = 335</text>\n<text text-anchor=\"middle\" x=\"194.5\" y=\"-22.8\" font-family=\"Helvetica,sans-Serif\" font-size=\"14.00\">value = [0, 335]</text>\n<text text-anchor=\"middle\" x=\"194.5\" y=\"-7.8\" font-family=\"Helvetica,sans-Serif\" font-size=\"14.00\">class = Кошечка</text>\n</g>\n<!-- 0&#45;&gt;2 -->\n<g id=\"edge2\" class=\"edge\">\n<title>0-&gt;2</title>\n<path fill=\"none\" stroke=\"black\" d=\"M151.82,-103.73C157.26,-94.97 163.01,-85.7 168.48,-76.91\"/>\n<polygon fill=\"black\" stroke=\"black\" points=\"171.52,-78.64 173.82,-68.3 165.57,-74.95 171.52,-78.64\"/>\n<text text-anchor=\"middle\" x=\"179.51\" y=\"-88.94\" font-family=\"Helvetica,sans-Serif\" font-size=\"14.00\">False</text>\n</g>\n</g>\n</svg>",
            "text/plain": [
              "<IPython.core.display.SVG object>"
            ]
          },
          "metadata": {},
          "output_type": "display_data"
        }
      ]
    },
    {
      "cell_type": "code",
      "source": [
        "clf.score(X_train, y_train)"
      ],
      "metadata": {
        "colab": {
          "base_uri": "https://localhost:8080/"
        },
        "id": "3YdsAq7uCpwp",
        "outputId": "05f15279-5fc9-41b0-9171-a79f69486493"
      },
      "execution_count": 300,
      "outputs": [
        {
          "data": {
            "text/plain": [
              "1.0"
            ]
          },
          "execution_count": 300,
          "metadata": {},
          "output_type": "execute_result"
        }
      ]
    },
    {
      "cell_type": "code",
      "source": [
        "clf.score(X_test, y_test)"
      ],
      "metadata": {
        "colab": {
          "base_uri": "https://localhost:8080/"
        },
        "id": "iwubgbpID_9Y",
        "outputId": "15fb396c-dcb7-4c18-f6dc-c91285cf6a22"
      },
      "execution_count": 301,
      "outputs": [
        {
          "data": {
            "text/plain": [
              "1.0"
            ]
          },
          "execution_count": 301,
          "metadata": {},
          "output_type": "execute_result"
        }
      ]
    }
  ],
  "metadata": {
    "colab": {
      "provenance": [],
      "authorship_tag": "ABX9TyPn3Oc75d3jtvDvmMCJ94r3",
      "include_colab_link": true
    },
    "kernelspec": {
      "display_name": "Python 3",
      "name": "python3"
    },
    "language_info": {
      "name": "python"
    }
  },
  "nbformat": 4,
  "nbformat_minor": 0
}